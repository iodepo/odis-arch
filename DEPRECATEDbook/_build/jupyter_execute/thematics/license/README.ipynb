{
 "cells": [
  {
   "cell_type": "markdown",
   "id": "91ed2aee",
   "metadata": {},
   "source": [
    "# Licenses\n",
    "\n",
    "\n",
    "## Schema.org License\n",
    "\n",
    "- https://schema.org/license\n",
    "    - `URL`\n",
    "    - `CreativeWork`\n",
    "\n",
    "### License as URL - Good\n",
    "\n",
    "<pre>\n",
    "{\n",
    "  \"@context\": \"https://schema.org/\",\n",
    "  <strong>\"license\": \"https://creativecommons.org/licenses/by/4.0/\"</strong>\n",
    "}\n",
    "</pre>\n",
    "\n",
    "### License as CreativeWork - Better?\n",
    "\n",
    "<pre>\n",
    "{\n",
    "  \"@context\": \"https://schema.org/\",\n",
    "  <strong>\"license\": {\n",
    "    \"@type\": \"CreativeWork\",\n",
    "    \"name\": \"Creative Commons Attribution 4.0\",\n",
    "    \"url\": \"https://creativecommons.org/licenses/by/4.0/\"\n",
    "  }</strong>\n",
    "}\n",
    "</pre>\n",
    "\n",
    "### License as SPDX URL - Best\n",
    "\n",
    "- Use a simple URL\n",
    "- [SPDX](https://spdx.org/licenses/) creates URLs for many licenses including those that don't have URLs\n",
    "- From a source that <em>harvesters</em> can rely on (e.g. use URL to lookup more information about the license)\n",
    "\n",
    "<pre>\n",
    "{\n",
    "  \"@context\": \"https://schema.org/\",\n",
    "  <strong>\"license\": \"https://spdx.org/licenses/CC-BY-4.0\"</strong>\n",
    "}\n",
    "</pre>\n",
    "\n",
    "OR, include both the SPDX and the Creative Commons URLs in an array:\n",
    "\n",
    "<pre>\n",
    "{\n",
    "  \"@context\": \"https://schema.org/\",\n",
    "  <strong>\"license\": [\"https://spdx.org/licenses/CC-BY-4.0\", \"https://creativecommons.org/licenses/by/4.0/\"]</strong>\n",
    "}\n",
    "</pre>"
   ]
  }
 ],
 "metadata": {
  "execution": {
   "allow_errors": true
  },
  "jupytext": {
   "formats": "md:myst",
   "text_representation": {
    "extension": ".md",
    "format_name": "myst"
   }
  },
  "kernelspec": {
   "display_name": "Python 3",
   "language": "python",
   "name": "python3"
  },
  "language_info": {
   "codemirror_mode": {
    "name": "ipython",
    "version": 3
   },
   "file_extension": ".py",
   "mimetype": "text/x-python",
   "name": "python",
   "nbconvert_exporter": "python",
   "pygments_lexer": "ipython3",
   "version": "3.10.8"
  },
  "source_map": [
   13
  ]
 },
 "nbformat": 4,
 "nbformat_minor": 5
}