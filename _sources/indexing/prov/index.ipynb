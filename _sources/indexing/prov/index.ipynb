{
 "cells": [
  {
   "cell_type": "markdown",
   "id": "97b22a0f",
   "metadata": {},
   "source": [
    "# Prov\n",
    "\n",
    "## About\n",
    "\n",
    "This is the start of some discussion on issues around prov tracking in OIH.\n",
    "This may take two paths.  One would be the prov tracking indexers might do\n",
    "and the other prov that providers would encode to provide specific prov\n",
    "the community requests.\n",
    "\n",
    "## Gleaner Prov\n",
    "\n",
    "The Gleaner application generates a prov graph of the activity of accessing \n",
    "and indexing provider resources.  The main goal of this prov is to connect\n",
    "an indexed URL to the digital object stored in the object store.  This \n",
    "digital object should be the JSON-LD data graph presented by the provider. \n",
    "\n",
    "By contrast, the authoritative reference in the various profiles will connect\n",
    "the the data graph ID, or in the absence of that the data graph URL or the \n",
    "referenced resources URL by gleaner, to another reference.  This may be \n",
    "an organization ID or a PID of the connected resource. \n",
    "\n",
    "\n",
    "\n",
    "```{literalinclude} ./graphs/gleaner.json\n",
    ":linenos:\n",
    "```"
   ]
  },
  {
   "cell_type": "code",
   "execution_count": 1,
   "id": "7e374e20",
   "metadata": {
    "tags": [
     "hide-input"
    ]
   },
   "outputs": [
    {
     "ename": "FileNotFoundError",
     "evalue": "[Errno 2] No such file or directory: '../../../odis-in/dataGraphs/indexing/prov/graphs/gleaner.json'",
     "output_type": "error",
     "traceback": [
      "\u001b[0;31m---------------------------------------------------------------------------\u001b[0m",
      "\u001b[0;31mFileNotFoundError\u001b[0m                         Traceback (most recent call last)",
      "\u001b[0;32m/tmp/ipykernel_3388/2765251628.py\u001b[0m in \u001b[0;36m<module>\u001b[0;34m\u001b[0m\n\u001b[1;32m     11\u001b[0m \u001b[0;32mfrom\u001b[0m \u001b[0mlib\u001b[0m \u001b[0;32mimport\u001b[0m \u001b[0mjbutils\u001b[0m\u001b[0;34m\u001b[0m\u001b[0;34m\u001b[0m\u001b[0m\n\u001b[1;32m     12\u001b[0m \u001b[0;34m\u001b[0m\u001b[0m\n\u001b[0;32m---> 13\u001b[0;31m \u001b[0;32mwith\u001b[0m \u001b[0mopen\u001b[0m\u001b[0;34m(\u001b[0m\u001b[0;34m\"../../../odis-in/dataGraphs/indexing/prov/graphs/gleaner.json\"\u001b[0m\u001b[0;34m)\u001b[0m \u001b[0;32mas\u001b[0m \u001b[0mdgraph\u001b[0m\u001b[0;34m:\u001b[0m\u001b[0;34m\u001b[0m\u001b[0;34m\u001b[0m\u001b[0m\n\u001b[0m\u001b[1;32m     14\u001b[0m     \u001b[0mdoc\u001b[0m \u001b[0;34m=\u001b[0m \u001b[0mjson\u001b[0m\u001b[0;34m.\u001b[0m\u001b[0mload\u001b[0m\u001b[0;34m(\u001b[0m\u001b[0mdgraph\u001b[0m\u001b[0;34m)\u001b[0m\u001b[0;34m\u001b[0m\u001b[0;34m\u001b[0m\u001b[0m\n\u001b[1;32m     15\u001b[0m \u001b[0;34m\u001b[0m\u001b[0m\n",
      "\u001b[0;31mFileNotFoundError\u001b[0m: [Errno 2] No such file or directory: '../../../odis-in/dataGraphs/indexing/prov/graphs/gleaner.json'"
     ]
    }
   ],
   "source": [
    "import json\n",
    "from rdflib.extras.external_graph_libs import rdflib_to_networkx_multidigraph\n",
    "from rdflib.extras.external_graph_libs import rdflib_to_networkx_graph\n",
    "from pyld import jsonld\n",
    "import graphviz\n",
    "import os, sys\n",
    "\n",
    "currentdir = os.path.dirname(os.path.abspath(''))\n",
    "parentdir = os.path.dirname(currentdir)\n",
    "sys.path.insert(0, parentdir)\n",
    "from lib import jbutils\n",
    "\n",
    "with open(\"../../../odis-in/dataGraphs/indexing/prov/graphs/gleaner.json\") as dgraph:\n",
    "    doc = json.load(dgraph)\n",
    "\n",
    "frame = {\n",
    "  \"@context\": {\"@vocab\": \"https://schema.org/\",\n",
    "  \"prov\": \"http://www.w3.org/ns/prov#\"},\n",
    "  \"@explicit\": \"false\",\n",
    "  \"@type\":     \"prov:Activity\",\n",
    "   \"prov:generated\": {},\n",
    "   \"prov:endedAtTime\": {},\n",
    "   \"prov:used\": {}\n",
    "}\n",
    "\n",
    "\n",
    "context = {\n",
    "  \"@vocab\": \"https://schema.org/\",\n",
    "  \"prov\": \"http://www.w3.org/ns/prov#\"\n",
    "}\n",
    "\n",
    "compacted = jsonld.compact(doc, context)\n",
    "\n",
    "framed = jsonld.frame(compacted, frame)\n",
    "jd = json.dumps(framed, indent=4)\n",
    "print(jd)\n"
   ]
  },
  {
   "cell_type": "markdown",
   "id": "f8cf5eec",
   "metadata": {},
   "source": [
    "## Nano Prov\n",
    "\n",
    "This is a basic nanoprov example. Note, this is a draft and\n",
    "the ID connections and examples have not been made yet.  \n",
    "\n",
    "\n",
    "```{literalinclude} ./graphs/nanoprov.json\n",
    ":linenos:\n",
    "```"
   ]
  },
  {
   "cell_type": "code",
   "execution_count": 2,
   "id": "0298f0bd",
   "metadata": {
    "tags": [
     "hide-input"
    ]
   },
   "outputs": [
    {
     "ename": "FileNotFoundError",
     "evalue": "[Errno 2] No such file or directory: '../../../odis-in/dataGraphs/indexing/prov/graphs/nanoprov.json'",
     "output_type": "error",
     "traceback": [
      "\u001b[0;31m---------------------------------------------------------------------------\u001b[0m",
      "\u001b[0;31mFileNotFoundError\u001b[0m                         Traceback (most recent call last)",
      "\u001b[0;32m/tmp/ipykernel_3388/1129752672.py\u001b[0m in \u001b[0;36m<module>\u001b[0;34m\u001b[0m\n\u001b[1;32m      8\u001b[0m \u001b[0;32mfrom\u001b[0m \u001b[0mlib\u001b[0m \u001b[0;32mimport\u001b[0m \u001b[0mjbutils\u001b[0m\u001b[0;34m\u001b[0m\u001b[0;34m\u001b[0m\u001b[0m\n\u001b[1;32m      9\u001b[0m \u001b[0;34m\u001b[0m\u001b[0m\n\u001b[0;32m---> 10\u001b[0;31m \u001b[0;32mwith\u001b[0m \u001b[0mopen\u001b[0m\u001b[0;34m(\u001b[0m\u001b[0;34m\"../../../odis-in/dataGraphs/indexing/prov/graphs/nanoprov.json\"\u001b[0m\u001b[0;34m)\u001b[0m \u001b[0;32mas\u001b[0m \u001b[0mdgraph\u001b[0m\u001b[0;34m:\u001b[0m\u001b[0;34m\u001b[0m\u001b[0;34m\u001b[0m\u001b[0m\n\u001b[0m\u001b[1;32m     11\u001b[0m     \u001b[0mdoc\u001b[0m \u001b[0;34m=\u001b[0m \u001b[0mjson\u001b[0m\u001b[0;34m.\u001b[0m\u001b[0mload\u001b[0m\u001b[0;34m(\u001b[0m\u001b[0mdgraph\u001b[0m\u001b[0;34m)\u001b[0m\u001b[0;34m\u001b[0m\u001b[0;34m\u001b[0m\u001b[0m\n\u001b[1;32m     12\u001b[0m \u001b[0;34m\u001b[0m\u001b[0m\n",
      "\u001b[0;31mFileNotFoundError\u001b[0m: [Errno 2] No such file or directory: '../../../odis-in/dataGraphs/indexing/prov/graphs/nanoprov.json'"
     ]
    }
   ],
   "source": [
    "import json\n",
    "from pyld import jsonld\n",
    "import os, sys\n",
    "\n",
    "currentdir = os.path.dirname(os.path.abspath(''))\n",
    "parentdir = os.path.dirname(currentdir)\n",
    "sys.path.insert(0, parentdir)\n",
    "from lib import jbutils\n",
    "\n",
    "with open(\"../../../odis-in/dataGraphs/indexing/prov/graphs/nanoprov.json\") as dgraph:\n",
    "    doc = json.load(dgraph)\n",
    "\n",
    "context = {\n",
    "    \"@vocab\": \"https://schema.org/\",\n",
    "}\n",
    "\n",
    "compacted = jsonld.compact(doc, context)\n",
    "jbutils.show_graph(compacted)"
   ]
  },
  {
   "cell_type": "markdown",
   "id": "2bec76f3",
   "metadata": {},
   "source": [
    "## Refs\n",
    "\n",
    "[Nanopubs Guidance](https://nanopub.org/guidelines/working_draft/)"
   ]
  }
 ],
 "metadata": {
  "execution": {
   "allow_errors": true
  },
  "jupytext": {
   "formats": "md:myst",
   "text_representation": {
    "extension": ".md",
    "format_name": "myst"
   }
  },
  "kernelspec": {
   "display_name": "Python 3",
   "language": "python",
   "name": "python3"
  },
  "language_info": {
   "codemirror_mode": {
    "name": "ipython",
    "version": 3
   },
   "file_extension": ".py",
   "mimetype": "text/x-python",
   "name": "python",
   "nbconvert_exporter": "python",
   "pygments_lexer": "ipython3",
   "version": "3.7.17"
  },
  "source_map": [
   13,
   41,
   82,
   95,
   117
  ]
 },
 "nbformat": 4,
 "nbformat_minor": 5
}