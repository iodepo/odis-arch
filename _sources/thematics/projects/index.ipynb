{
 "cells": [
  {
   "cell_type": "markdown",
   "id": "b97e12cb",
   "metadata": {},
   "source": [
    "# Projects\n",
    "\n",
    "## About\n",
    "\n",
    "Project: An enterprise (potentially individual but typically\n",
    "collaborative), planned to achieve a particular aim. Use properties from\n",
    "Organization, subOrganization/parentOrganization to indicate project sub-structures.\n",
    "\n",
    "## Research Project\n",
    "\n",
    "This is what a basic research project data graph might look like.  We have\n",
    "the full record below, but this shows some of the basics we would be \n",
    "looking for.\n",
    "\n",
    "This type is based on the Schema.org type [Project](https://schema.org/Project) which \n",
    "has a sub-type of [ResearchProject](https://schema.org/ResearchProject)."
   ]
  },
  {
   "cell_type": "code",
   "execution_count": 1,
   "id": "3f1a66a9",
   "metadata": {
    "tags": [
     "hide-input"
    ]
   },
   "outputs": [
    {
     "ename": "FileNotFoundError",
     "evalue": "[Errno 2] No such file or directory: '../../../odis-in/dataGraphs/thematics/projects/graphs/proj.json'",
     "output_type": "error",
     "traceback": [
      "\u001b[0;31m---------------------------------------------------------------------------\u001b[0m",
      "\u001b[0;31mFileNotFoundError\u001b[0m                         Traceback (most recent call last)",
      "\u001b[0;32m/tmp/ipykernel_3312/3794120894.py\u001b[0m in \u001b[0;36m<module>\u001b[0;34m\u001b[0m\n\u001b[1;32m     12\u001b[0m \u001b[0;34m\u001b[0m\u001b[0m\n\u001b[1;32m     13\u001b[0m \u001b[0;34m\u001b[0m\u001b[0m\n\u001b[0;32m---> 14\u001b[0;31m \u001b[0;32mwith\u001b[0m \u001b[0mopen\u001b[0m\u001b[0;34m(\u001b[0m\u001b[0;34m\"../../../odis-in/dataGraphs/thematics/projects/graphs/proj.json\"\u001b[0m\u001b[0;34m)\u001b[0m \u001b[0;32mas\u001b[0m \u001b[0mdgraph\u001b[0m\u001b[0;34m:\u001b[0m\u001b[0;34m\u001b[0m\u001b[0;34m\u001b[0m\u001b[0m\n\u001b[0m\u001b[1;32m     15\u001b[0m     \u001b[0mdoc\u001b[0m \u001b[0;34m=\u001b[0m \u001b[0mjson\u001b[0m\u001b[0;34m.\u001b[0m\u001b[0mload\u001b[0m\u001b[0;34m(\u001b[0m\u001b[0mdgraph\u001b[0m\u001b[0;34m)\u001b[0m\u001b[0;34m\u001b[0m\u001b[0;34m\u001b[0m\u001b[0m\n\u001b[1;32m     16\u001b[0m \u001b[0;34m\u001b[0m\u001b[0m\n",
      "\u001b[0;31mFileNotFoundError\u001b[0m: [Errno 2] No such file or directory: '../../../odis-in/dataGraphs/thematics/projects/graphs/proj.json'"
     ]
    }
   ],
   "source": [
    "import json\n",
    "from rdflib.extras.external_graph_libs import rdflib_to_networkx_multidigraph\n",
    "from rdflib.extras.external_graph_libs import rdflib_to_networkx_graph\n",
    "from pyld import jsonld\n",
    "import graphviz\n",
    "import os, sys\n",
    "\n",
    "currentdir = os.path.dirname(os.path.abspath(''))\n",
    "parentdir = os.path.dirname(currentdir)\n",
    "sys.path.insert(0, parentdir)\n",
    "from lib import jbutils\n",
    "\n",
    "\n",
    "with open(\"../../../odis-in/dataGraphs/thematics/projects/graphs/proj.json\") as dgraph:\n",
    "    doc = json.load(dgraph)\n",
    "\n",
    "frame = {\n",
    "  \"@context\": {\"@vocab\": \"https://schema.org/\"},\n",
    "  \"@explicit\": \"true\",\n",
    "  \"@requireAll\": \"true\",\n",
    "  \"@type\":     \"ResearchProject\",\n",
    "  \"legalName\": \"\",\n",
    "  \"name\": \"\",\n",
    "  \"url\": \"\",\n",
    "  \"description\": \"\",\n",
    "  \"identifier\": {} \n",
    "}\n",
    "\n",
    "context = {\n",
    "    \"@vocab\": \"https://schema.org/\",\n",
    "}\n",
    "\n",
    "compacted = jsonld.compact(doc, context)\n",
    "\n",
    "framed = jsonld.frame(compacted, frame)\n",
    "jd = json.dumps(framed, indent=4)\n",
    "print(jd)\n",
    "\n",
    "jbutils.show_graph(framed)"
   ]
  },
  {
   "cell_type": "markdown",
   "id": "11b8687a",
   "metadata": {},
   "source": [
    "### Details: Identifier\n",
    "\n",
    "For each profile there are a few key elements we need to know about.  One\n",
    "key element is what the authoritative reference or canonical identifier is for \n",
    "a resource."
   ]
  },
  {
   "cell_type": "code",
   "execution_count": 2,
   "id": "0404709b",
   "metadata": {
    "tags": [
     "hide-input"
    ]
   },
   "outputs": [
    {
     "ename": "FileNotFoundError",
     "evalue": "[Errno 2] No such file or directory: '../../../odis-in/dataGraphs/thematics/projects/graphs/proj.json'",
     "output_type": "error",
     "traceback": [
      "\u001b[0;31m---------------------------------------------------------------------------\u001b[0m",
      "\u001b[0;31mFileNotFoundError\u001b[0m                         Traceback (most recent call last)",
      "\u001b[0;32m/tmp/ipykernel_3312/2687554025.py\u001b[0m in \u001b[0;36m<module>\u001b[0;34m\u001b[0m\n\u001b[1;32m     11\u001b[0m \u001b[0;32mfrom\u001b[0m \u001b[0mlib\u001b[0m \u001b[0;32mimport\u001b[0m \u001b[0mjbutils\u001b[0m\u001b[0;34m\u001b[0m\u001b[0;34m\u001b[0m\u001b[0m\n\u001b[1;32m     12\u001b[0m \u001b[0;34m\u001b[0m\u001b[0m\n\u001b[0;32m---> 13\u001b[0;31m \u001b[0;32mwith\u001b[0m \u001b[0mopen\u001b[0m\u001b[0;34m(\u001b[0m\u001b[0;34m\"../../../odis-in/dataGraphs/thematics/projects/graphs/proj.json\"\u001b[0m\u001b[0;34m)\u001b[0m \u001b[0;32mas\u001b[0m \u001b[0mdgraph\u001b[0m\u001b[0;34m:\u001b[0m\u001b[0;34m\u001b[0m\u001b[0;34m\u001b[0m\u001b[0m\n\u001b[0m\u001b[1;32m     14\u001b[0m     \u001b[0mdoc\u001b[0m \u001b[0;34m=\u001b[0m \u001b[0mjson\u001b[0m\u001b[0;34m.\u001b[0m\u001b[0mload\u001b[0m\u001b[0;34m(\u001b[0m\u001b[0mdgraph\u001b[0m\u001b[0;34m)\u001b[0m\u001b[0;34m\u001b[0m\u001b[0;34m\u001b[0m\u001b[0m\n\u001b[1;32m     15\u001b[0m \u001b[0;34m\u001b[0m\u001b[0m\n",
      "\u001b[0;31mFileNotFoundError\u001b[0m: [Errno 2] No such file or directory: '../../../odis-in/dataGraphs/thematics/projects/graphs/proj.json'"
     ]
    }
   ],
   "source": [
    "import json\n",
    "from rdflib.extras.external_graph_libs import rdflib_to_networkx_multidigraph\n",
    "from rdflib.extras.external_graph_libs import rdflib_to_networkx_graph\n",
    "from pyld import jsonld\n",
    "import graphviz\n",
    "import os, sys\n",
    "\n",
    "currentdir = os.path.dirname(os.path.abspath(''))\n",
    "parentdir = os.path.dirname(currentdir)\n",
    "sys.path.insert(0, parentdir)\n",
    "from lib import jbutils\n",
    "\n",
    "with open(\"../../../odis-in/dataGraphs/thematics/projects/graphs/proj.json\") as dgraph:\n",
    "    doc = json.load(dgraph)\n",
    "\n",
    "frame = {\n",
    "  \"@context\": {\"@vocab\": \"https://schema.org/\"},\n",
    "  \"@explicit\": \"true\",\n",
    "  \"@requireAll\": \"true\",\n",
    "  \"@type\":     \"ResearchProject\",\n",
    "  \"identifier\": \"\"\n",
    "}\n",
    "\n",
    "context = {\n",
    "    \"@vocab\": \"https://schema.org/\",\n",
    "}\n",
    "\n",
    "compacted = jsonld.compact(doc, context)\n",
    "\n",
    "framed = jsonld.frame(compacted, frame)\n",
    "jd = json.dumps(framed, indent=4)\n",
    "print(jd)\n",
    "\n",
    "jbutils.show_graph(framed)"
   ]
  },
  {
   "cell_type": "markdown",
   "id": "06d75d9f",
   "metadata": {},
   "source": [
    "## Full Research Project\n",
    "\n",
    "Here is what our full record looks like.  We have added in several \n",
    "more nodes to cover things like funding source, policy connections,\n",
    "spatial area served and parent organization. \n",
    "\n",
    "\n",
    "\n",
    "```{literalinclude} ../../../odis-in/dataGraphs/thematics/projects/graphs/proj.json\n",
    ":linenos:\n",
    "```"
   ]
  },
  {
   "cell_type": "code",
   "execution_count": 3,
   "id": "cf4e15b3",
   "metadata": {
    "tags": [
     "hide-input"
    ]
   },
   "outputs": [
    {
     "ename": "FileNotFoundError",
     "evalue": "[Errno 2] No such file or directory: '../../../odis-in/dataGraphs/thematics/projects/graphs/proj.json'",
     "output_type": "error",
     "traceback": [
      "\u001b[0;31m---------------------------------------------------------------------------\u001b[0m",
      "\u001b[0;31mFileNotFoundError\u001b[0m                         Traceback (most recent call last)",
      "\u001b[0;32m/tmp/ipykernel_3312/344837329.py\u001b[0m in \u001b[0;36m<module>\u001b[0;34m\u001b[0m\n\u001b[1;32m      8\u001b[0m \u001b[0;32mfrom\u001b[0m \u001b[0mlib\u001b[0m \u001b[0;32mimport\u001b[0m \u001b[0mjbutils\u001b[0m\u001b[0;34m\u001b[0m\u001b[0;34m\u001b[0m\u001b[0m\n\u001b[1;32m      9\u001b[0m \u001b[0;34m\u001b[0m\u001b[0m\n\u001b[0;32m---> 10\u001b[0;31m \u001b[0;32mwith\u001b[0m \u001b[0mopen\u001b[0m\u001b[0;34m(\u001b[0m\u001b[0;34m\"../../../odis-in/dataGraphs/thematics/projects/graphs/proj.json\"\u001b[0m\u001b[0;34m)\u001b[0m \u001b[0;32mas\u001b[0m \u001b[0mdgraph\u001b[0m\u001b[0;34m:\u001b[0m\u001b[0;34m\u001b[0m\u001b[0;34m\u001b[0m\u001b[0m\n\u001b[0m\u001b[1;32m     11\u001b[0m     \u001b[0mdoc\u001b[0m \u001b[0;34m=\u001b[0m \u001b[0mjson\u001b[0m\u001b[0;34m.\u001b[0m\u001b[0mload\u001b[0m\u001b[0;34m(\u001b[0m\u001b[0mdgraph\u001b[0m\u001b[0;34m)\u001b[0m\u001b[0;34m\u001b[0m\u001b[0;34m\u001b[0m\u001b[0m\n\u001b[1;32m     12\u001b[0m \u001b[0;34m\u001b[0m\u001b[0m\n",
      "\u001b[0;31mFileNotFoundError\u001b[0m: [Errno 2] No such file or directory: '../../../odis-in/dataGraphs/thematics/projects/graphs/proj.json'"
     ]
    }
   ],
   "source": [
    "import json\n",
    "from pyld import jsonld\n",
    "import os, sys\n",
    "\n",
    "currentdir = os.path.dirname(os.path.abspath(''))\n",
    "parentdir = os.path.dirname(currentdir)\n",
    "sys.path.insert(0, parentdir)\n",
    "from lib import jbutils\n",
    "\n",
    "with open(\"../../../odis-in/dataGraphs/thematics/projects/graphs/proj.json\") as dgraph:\n",
    "    doc = json.load(dgraph)\n",
    "\n",
    "context = {\n",
    "    \"@vocab\": \"https://schema.org/\",\n",
    "}\n",
    "\n",
    "compacted = jsonld.compact(doc, context)\n",
    "jbutils.show_graph(compacted)"
   ]
  },
  {
   "cell_type": "markdown",
   "id": "4c8f5a6b",
   "metadata": {},
   "source": [
    "### References\n",
    "\n",
    "* https://schema.org/Project"
   ]
  }
 ],
 "metadata": {
  "execution": {
   "allow_errors": true
  },
  "jupytext": {
   "formats": "md:myst",
   "text_representation": {
    "extension": ".md",
    "format_name": "myst"
   }
  },
  "kernelspec": {
   "display_name": "Python 3",
   "language": "python",
   "name": "python3"
  },
  "language_info": {
   "codemirror_mode": {
    "name": "ipython",
    "version": 3
   },
   "file_extension": ".py",
   "mimetype": "text/x-python",
   "name": "python",
   "nbconvert_exporter": "python",
   "pygments_lexer": "ipython3",
   "version": "3.7.17"
  },
  "source_map": [
   13,
   32,
   75,
   85,
   123,
   138,
   160
  ]
 },
 "nbformat": 4,
 "nbformat_minor": 5
}