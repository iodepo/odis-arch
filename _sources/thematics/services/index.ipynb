{
 "cells": [
  {
   "cell_type": "markdown",
   "id": "310babd7",
   "metadata": {},
   "source": [
    "# Service\n",
    "\n",
    "\n",
    "## About \n",
    "\n",
    "This section will provide information on the service type.  This is not \n",
    "one of the main OIH types.  However, we will provide guidance here on describing\n",
    "services using schema.org.\n",
    "\n",
    "It should be noted that this might be a simple link to an OpenAPI or some \n",
    "other descriptor document.  Also, schema.org is not rich enough for complex \n",
    "descriptions and itself borrows from the [Hydra](https://www.hydra-cg.com/spec/latest/core/)\n",
    "vocabulary.  It may be required to leverage Hydra if complex descriptions are \n",
    "needed.\n",
    "\n",
    "The graph describes a service than can be invoked with:\n",
    "\n",
    "```bash\n",
    "curl --data-binary \"@yourfile.jpg\" -X POST https://us-central1-top-operand-112611.cloudfunctions.net/function-1\n",
    "```\n",
    "\n",
    "This with POST a jpeg to the service and get back a simple text response with some information\n",
    "about the image.\n",
    "\n",
    "\n",
    "```{literalinclude} ../../../odis-in/dataGraphs/thematics/services/graphs/service.json\n",
    ":linenos:\n",
    "```"
   ]
  },
  {
   "cell_type": "code",
   "execution_count": 1,
   "id": "b6035cac",
   "metadata": {
    "tags": [
     "hide-input"
    ]
   },
   "outputs": [
    {
     "ename": "FileNotFoundError",
     "evalue": "[Errno 2] No such file or directory: '../../../odis-in/dataGraphs/thematics/services/graphs/service.json'",
     "output_type": "error",
     "traceback": [
      "\u001b[0;31m---------------------------------------------------------------------------\u001b[0m",
      "\u001b[0;31mFileNotFoundError\u001b[0m                         Traceback (most recent call last)",
      "\u001b[0;32m/tmp/ipykernel_3351/3307491376.py\u001b[0m in \u001b[0;36m<module>\u001b[0;34m\u001b[0m\n\u001b[1;32m      8\u001b[0m \u001b[0;32mfrom\u001b[0m \u001b[0mlib\u001b[0m \u001b[0;32mimport\u001b[0m \u001b[0mjbutils\u001b[0m\u001b[0;34m\u001b[0m\u001b[0;34m\u001b[0m\u001b[0m\n\u001b[1;32m      9\u001b[0m \u001b[0;34m\u001b[0m\u001b[0m\n\u001b[0;32m---> 10\u001b[0;31m \u001b[0;32mwith\u001b[0m \u001b[0mopen\u001b[0m\u001b[0;34m(\u001b[0m\u001b[0;34m\"../../../odis-in/dataGraphs/thematics/services/graphs/service.json\"\u001b[0m\u001b[0;34m)\u001b[0m \u001b[0;32mas\u001b[0m \u001b[0mdgraph\u001b[0m\u001b[0;34m:\u001b[0m\u001b[0;34m\u001b[0m\u001b[0;34m\u001b[0m\u001b[0m\n\u001b[0m\u001b[1;32m     11\u001b[0m     \u001b[0mdoc\u001b[0m \u001b[0;34m=\u001b[0m \u001b[0mjson\u001b[0m\u001b[0;34m.\u001b[0m\u001b[0mload\u001b[0m\u001b[0;34m(\u001b[0m\u001b[0mdgraph\u001b[0m\u001b[0;34m)\u001b[0m\u001b[0;34m\u001b[0m\u001b[0;34m\u001b[0m\u001b[0m\n\u001b[1;32m     12\u001b[0m \u001b[0;34m\u001b[0m\u001b[0m\n",
      "\u001b[0;31mFileNotFoundError\u001b[0m: [Errno 2] No such file or directory: '../../../odis-in/dataGraphs/thematics/services/graphs/service.json'"
     ]
    }
   ],
   "source": [
    "import json\n",
    "from pyld import jsonld\n",
    "import os, sys\n",
    "\n",
    "currentdir = os.path.dirname(os.path.abspath(''))\n",
    "parentdir = os.path.dirname(currentdir)\n",
    "sys.path.insert(0, parentdir)\n",
    "from lib import jbutils\n",
    "\n",
    "with open(\"../../../odis-in/dataGraphs/thematics/services/graphs/service.json\") as dgraph:\n",
    "    doc = json.load(dgraph)\n",
    "\n",
    "context = {\n",
    "    \"@vocab\": \"https://schema.org/\",\n",
    "}\n",
    "\n",
    "compacted = jsonld.compact(doc, context)\n",
    "jbutils.show_graph(compacted)"
   ]
  },
  {
   "cell_type": "markdown",
   "id": "019ee0f8",
   "metadata": {},
   "source": [
    "## References\n",
    "\n",
    "\n",
    "* https://schema.org/docs/actions.html\n",
    "* https://schema.org/Action\n",
    "* https://www.w3.org/TR/web-share/\n",
    "* https://www.hydra-cg.com/spec/latest/core/"
   ]
  }
 ],
 "metadata": {
  "execution": {
   "allow_errors": true
  },
  "jupytext": {
   "formats": "md:myst",
   "text_representation": {
    "extension": ".md",
    "format_name": "myst"
   }
  },
  "kernelspec": {
   "display_name": "Python 3",
   "language": "python",
   "name": "python3"
  },
  "language_info": {
   "codemirror_mode": {
    "name": "ipython",
    "version": 3
   },
   "file_extension": ".py",
   "mimetype": "text/x-python",
   "name": "python",
   "nbconvert_exporter": "python",
   "pygments_lexer": "ipython3",
   "version": "3.7.17"
  },
  "source_map": [
   13,
   44,
   66
  ]
 },
 "nbformat": 4,
 "nbformat_minor": 5
}