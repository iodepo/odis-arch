{
 "cells": [
  {
   "cell_type": "markdown",
   "id": "dcb9dbda",
   "metadata": {},
   "source": [
    "# Service\n",
    "\n",
    "\n",
    "## About \n",
    "\n",
    "This section will provide information on the service type.  This is not \n",
    "one of the main OIH types.  However, we will provide guidance here on describing\n",
    "services using schema.org.\n",
    "\n",
    "It should be noted that this might be a simple link to an OpenAPI or some \n",
    "other descriptor document.  Also, schema.org is not rich enough for complex \n",
    "descriptions and itself borrows from the [Hydra](https://www.hydra-cg.com/spec/latest/core/)\n",
    "vocabulary.  It may be required to leverage Hydra if complex descriptions are \n",
    "needed.\n",
    "\n",
    "The graph describes a service than can be invoked with:\n",
    "\n",
    "```bash\n",
    "curl --data-binary \"@yourfile.jpg\" -X POST https://us-central1-top-operand-112611.cloudfunctions.net/function-1\n",
    "```\n",
    "\n",
    "This with POST a jpeg to the service and get back a simple text response with some information\n",
    "about the image.\n",
    "\n",
    "\n",
    "```{literalinclude} ../../../odis-in/dataGraphs/thematics/services/graphs/service.json\n",
    ":linenos:\n",
    "```"
   ]
  },
  {
   "cell_type": "code",
   "execution_count": 1,
   "id": "a9b536e8",
   "metadata": {
    "tags": [
     "hide-input"
    ]
   },
   "outputs": [
    {
     "ename": "NameError",
     "evalue": "name 'split_uri' is not defined",
     "output_type": "error",
     "traceback": [
      "\u001b[0;31m---------------------------------------------------------------------------\u001b[0m",
      "\u001b[0;31mNameError\u001b[0m                                 Traceback (most recent call last)",
      "Cell \u001b[0;32mIn[1], line 18\u001b[0m\n\u001b[1;32m     13\u001b[0m context \u001b[38;5;241m=\u001b[39m {\n\u001b[1;32m     14\u001b[0m     \u001b[38;5;124m\"\u001b[39m\u001b[38;5;124m@vocab\u001b[39m\u001b[38;5;124m\"\u001b[39m: \u001b[38;5;124m\"\u001b[39m\u001b[38;5;124mhttps://schema.org/\u001b[39m\u001b[38;5;124m\"\u001b[39m,\n\u001b[1;32m     15\u001b[0m }\n\u001b[1;32m     17\u001b[0m compacted \u001b[38;5;241m=\u001b[39m jsonld\u001b[38;5;241m.\u001b[39mcompact(doc, context)\n\u001b[0;32m---> 18\u001b[0m \u001b[43mjbutils\u001b[49m\u001b[38;5;241;43m.\u001b[39;49m\u001b[43mshow_graph\u001b[49m\u001b[43m(\u001b[49m\u001b[43mcompacted\u001b[49m\u001b[43m)\u001b[49m\n",
      "File \u001b[0;32m~/work/odis-arch/odis-arch/book/lib/jbutils.py:46\u001b[0m, in \u001b[0;36mshow_graph\u001b[0;34m(doc, size)\u001b[0m\n\u001b[1;32m     44\u001b[0m \u001b[38;5;28;01mfor\u001b[39;00m edge \u001b[38;5;129;01min\u001b[39;00m rdf:\n\u001b[1;32m     45\u001b[0m     subj \u001b[38;5;241m=\u001b[39m short_name(edge[\u001b[38;5;124m'\u001b[39m\u001b[38;5;124msubject\u001b[39m\u001b[38;5;124m'\u001b[39m])\n\u001b[0;32m---> 46\u001b[0m     obj \u001b[38;5;241m=\u001b[39m \u001b[43mshort_name\u001b[49m\u001b[43m(\u001b[49m\u001b[43medge\u001b[49m\u001b[43m[\u001b[49m\u001b[38;5;124;43m'\u001b[39;49m\u001b[38;5;124;43mobject\u001b[39;49m\u001b[38;5;124;43m'\u001b[39;49m\u001b[43m]\u001b[49m\u001b[43m)\u001b[49m\n\u001b[1;32m     47\u001b[0m     pred \u001b[38;5;241m=\u001b[39m short_name(edge[\u001b[38;5;124m'\u001b[39m\u001b[38;5;124mpredicate\u001b[39m\u001b[38;5;124m'\u001b[39m])\n\u001b[1;32m     48\u001b[0m     \u001b[38;5;28;01mif\u001b[39;00m subj \u001b[38;5;129;01mand\u001b[39;00m obj \u001b[38;5;129;01mand\u001b[39;00m pred:\n\u001b[1;32m     49\u001b[0m         \u001b[38;5;66;03m# Apply different styles to the nodes based on whether they're\u001b[39;00m\n\u001b[1;32m     50\u001b[0m         \u001b[38;5;66;03m# literals, ConceptNet URLs, or other URLs\u001b[39;00m\n",
      "File \u001b[0;32m~/work/odis-arch/odis-arch/book/lib/jbutils.py:24\u001b[0m, in \u001b[0;36mshort_name\u001b[0;34m(value, max_length)\u001b[0m\n\u001b[1;32m     22\u001b[0m \u001b[38;5;66;03m# If the URL is too long, hide it\u001b[39;00m\n\u001b[1;32m     23\u001b[0m \u001b[38;5;28;01mif\u001b[39;00m \u001b[38;5;28mlen\u001b[39m(short_url) \u001b[38;5;241m>\u001b[39m max_length:\n\u001b[0;32m---> 24\u001b[0m     pieces \u001b[38;5;241m=\u001b[39m \u001b[43msplit_uri\u001b[49m(short_url)\n\u001b[1;32m     25\u001b[0m     \u001b[38;5;28;01mreturn\u001b[39;00m join_uri(pieces[\u001b[38;5;241m0\u001b[39m], \u001b[38;5;124m'\u001b[39m\u001b[38;5;124m...\u001b[39m\u001b[38;5;124m'\u001b[39m)\n\u001b[1;32m     26\u001b[0m \u001b[38;5;28;01melse\u001b[39;00m:\n",
      "\u001b[0;31mNameError\u001b[0m: name 'split_uri' is not defined"
     ]
    }
   ],
   "source": [
    "import json\n",
    "from pyld import jsonld\n",
    "import os, sys\n",
    "\n",
    "currentdir = os.path.dirname(os.path.abspath(''))\n",
    "parentdir = os.path.dirname(currentdir)\n",
    "sys.path.insert(0, parentdir)\n",
    "from lib import jbutils\n",
    "\n",
    "with open(\"../../../odis-in/dataGraphs/thematics/services/graphs/serviceBase.json\") as dgraph:\n",
    "    doc = json.load(dgraph)\n",
    "\n",
    "context = {\n",
    "    \"@vocab\": \"https://schema.org/\",\n",
    "}\n",
    "\n",
    "compacted = jsonld.compact(doc, context)\n",
    "jbutils.show_graph(compacted)"
   ]
  },
  {
   "cell_type": "markdown",
   "id": "c5232bbe",
   "metadata": {},
   "source": [
    "## References\n",
    "\n",
    "* https://schema.org/docs/actions.html\n",
    "* https://schema.org/Action\n",
    "* https://www.w3.org/TR/web-share/\n",
    "* https://www.hydra-cg.com/spec/latest/core/"
   ]
  }
 ],
 "metadata": {
  "execution": {
   "allow_errors": true
  },
  "jupytext": {
   "formats": "md:myst",
   "text_representation": {
    "extension": ".md",
    "format_name": "myst"
   }
  },
  "kernelspec": {
   "display_name": "Python 3",
   "language": "python",
   "name": "python3"
  },
  "language_info": {
   "codemirror_mode": {
    "name": "ipython",
    "version": 3
   },
   "file_extension": ".py",
   "mimetype": "text/x-python",
   "name": "python",
   "nbconvert_exporter": "python",
   "pygments_lexer": "ipython3",
   "version": "3.10.15"
  },
  "source_map": [
   13,
   44,
   65
  ]
 },
 "nbformat": 4,
 "nbformat_minor": 5
}