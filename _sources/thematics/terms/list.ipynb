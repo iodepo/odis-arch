{
 "cells": [
  {
   "cell_type": "markdown",
   "id": "f1c27c28",
   "metadata": {},
   "source": [
    "# Keywords and Defined Terms\n",
    "\n",
    "## About\n",
    "This section is looking at how the keywords could be connected \n",
    "with Defined Terms that point to external vocabularies that follow\n",
    "a vocabulary publishing patterns like at the W3C\n",
    "[Best Practice Recipes for Publishing RDF Vocabularies](https://www.w3.org/TR/swbp-vocab-pub/).\n",
    "\n",
    "The pattern breaks down a bit when attempting to connect with things like \n",
    "the [Global Change Master Directory keywords](https://earthdata.nasa.gov/earth-observation-data/find-data/idn/gcmd-keywords).\n",
    "This impedance is caused by publishing approaches for the terms that don't align well with \n",
    "the above publishing practices.  This does not mean we can not use these terms, rather that\n",
    "we may find multiple ways to connect them used by the community.  This can result in some\n",
    "ambiguity in linking in a community.  \n",
    "\n",
    "\n",
    "\n",
    "A person could adapt the pattern to connect things like the [Global Change Observing System](https://public.wmo.int/en/programmes/global-climate-observing-system/essential-climate-variables)\n",
    "or \n",
    "[EARTH SCIENCE > OCEANS > OCEAN CHEMISTRY](https://gcmd.earthdata.nasa.gov/KeywordViewer/scheme/all/6eb3919b-85ce-4988-8b78-9d0018fd8089?gtm_keyword=OCEAN%20CHEMISTRY&gtm_scheme=Earth%20Science).  The later of these does have a UUID (6eb3919b-85ce-4988-8b78-9d0018fd8089) but this is not a dereference-able PID.\n",
    "\n",
    "\n",
    "```{note}\n",
    "This topic of keyword linking with DefinedTerms is under review at the [Science on Schema](https://github.com/ESIPFed/science-on-schema.org)\n",
    "work at ESIP.   Reference [Describing a Dataset](https://github.com/ESIPFed/science-on-schema.org/blob/master/guides/Dataset.md)\n",
    "for the latest on their recommendations. \n",
    "```\n",
    "\n",
    "## Keywords\n",
    "\n",
    "The Schema.org [keywords](https://schema.org/keywords) property of [CreativeWork](https://schema.org/CreativeWork) can point to three different values.\n",
    "These are: [DefinedTerm](https://schema.org/DefinedTerm), [Text](https://schema.org/Text) and [URL](https://schema.org/URL).  \n",
    "\n",
    "We can see the three different approaches here to defining keywords.  Here, _Region X_ is a classic \n",
    "text keyword.  The other two are defined as a [DefinedTerm](https://schema.org/DefinedTerm).\n",
    "\n",
    "\n",
    "\n",
    "```{literalinclude} ../../../odis-in/dataGraphs/thematics/terms/graphs/map.json\n",
    ":linenos:\n",
    ":emphasize-lines: 17-31\n",
    "```"
   ]
  },
  {
   "cell_type": "code",
   "execution_count": 1,
   "id": "ef9f92bf",
   "metadata": {
    "tags": [
     "hide-input"
    ]
   },
   "outputs": [
    {
     "ename": "FileNotFoundError",
     "evalue": "[Errno 2] No such file or directory: '../../../odis-in/dataGraphs/thematics/terms/graphs/map.json'",
     "output_type": "error",
     "traceback": [
      "\u001b[0;31m---------------------------------------------------------------------------\u001b[0m",
      "\u001b[0;31mFileNotFoundError\u001b[0m                         Traceback (most recent call last)",
      "\u001b[0;32m/tmp/ipykernel_3614/779036010.py\u001b[0m in \u001b[0;36m<module>\u001b[0;34m\u001b[0m\n\u001b[1;32m     11\u001b[0m \u001b[0;32mfrom\u001b[0m \u001b[0mlib\u001b[0m \u001b[0;32mimport\u001b[0m \u001b[0mjbutils\u001b[0m\u001b[0;34m\u001b[0m\u001b[0;34m\u001b[0m\u001b[0m\n\u001b[1;32m     12\u001b[0m \u001b[0;34m\u001b[0m\u001b[0m\n\u001b[0;32m---> 13\u001b[0;31m \u001b[0;32mwith\u001b[0m \u001b[0mopen\u001b[0m\u001b[0;34m(\u001b[0m\u001b[0;34m\"../../../odis-in/dataGraphs/thematics/terms/graphs/map.json\"\u001b[0m\u001b[0;34m)\u001b[0m \u001b[0;32mas\u001b[0m \u001b[0mdgraph\u001b[0m\u001b[0;34m:\u001b[0m\u001b[0;34m\u001b[0m\u001b[0;34m\u001b[0m\u001b[0m\n\u001b[0m\u001b[1;32m     14\u001b[0m     \u001b[0mdoc\u001b[0m \u001b[0;34m=\u001b[0m \u001b[0mjson\u001b[0m\u001b[0;34m.\u001b[0m\u001b[0mload\u001b[0m\u001b[0;34m(\u001b[0m\u001b[0mdgraph\u001b[0m\u001b[0;34m)\u001b[0m\u001b[0;34m\u001b[0m\u001b[0;34m\u001b[0m\u001b[0m\n\u001b[1;32m     15\u001b[0m \u001b[0;34m\u001b[0m\u001b[0m\n",
      "\u001b[0;31mFileNotFoundError\u001b[0m: [Errno 2] No such file or directory: '../../../odis-in/dataGraphs/thematics/terms/graphs/map.json'"
     ]
    }
   ],
   "source": [
    "import json\n",
    "from rdflib.extras.external_graph_libs import rdflib_to_networkx_multidigraph\n",
    "from rdflib.extras.external_graph_libs import rdflib_to_networkx_graph\n",
    "from pyld import jsonld\n",
    "import graphviz\n",
    "import os, sys\n",
    "\n",
    "currentdir = os.path.dirname(os.path.abspath(''))\n",
    "parentdir = os.path.dirname(currentdir)\n",
    "sys.path.insert(0, parentdir)\n",
    "from lib import jbutils\n",
    "\n",
    "with open(\"../../../odis-in/dataGraphs/thematics/terms/graphs/map.json\") as dgraph:\n",
    "    doc = json.load(dgraph)\n",
    "\n",
    "frame = {\n",
    "  \"@context\": {\"@vocab\": \"https://schema.org/\"},\n",
    "  \"@explicit\": \"true\",\n",
    "  \"@requireAll\": \"true\",\n",
    "  \"@type\":     \"Map\",\n",
    "  \"keywords\": \"\"\n",
    "}\n",
    "\n",
    "context = {\n",
    "    \"@vocab\": \"https://schema.org/\",\n",
    "}\n",
    "\n",
    "compacted = jsonld.compact(doc, context)\n",
    "\n",
    "framed = jsonld.frame(compacted, frame)\n",
    "\n",
    "jbutils.show_graph(framed)"
   ]
  },
  {
   "cell_type": "markdown",
   "id": "9709419c",
   "metadata": {},
   "source": [
    "### Text\n",
    "\n",
    "Keywords can be defined as a [Text](https://schema.org/Text) value.  This is the most common approach though \n",
    "it doesn't provide some of the benefits of the other two approaches.  For example, it doesn't allow for terms to \n",
    "be dereferenced on the net or for connects in the graph to be made for common terms by their subject IRIs. \n",
    "\n",
    "```\n",
    "{\n",
    "  \"@context\": \"https://schema.org/\",\n",
    "  \"keywords\": [\n",
    "    \"nitrous oxide\", \n",
    "    \"Central Pacific\", \n",
    "    \"headspace equilibration\", \n",
    "    \"SRI Greenhouse Gas Monitoring Gas Chromatograph\", \n",
    "    \"CTD profiler\", \n",
    "    \"Gas Chromatograph\"\n",
    "  ]\n",
    "}\n",
    "```\n",
    "\n",
    "```{note}\n",
    "Be sure to use the [] notation to define the keyword.  This defined an array of items vs a single items.  If you\n",
    "use an approach like {\"term1, term2, term4\"} you have only created a single text string with comma separated values.  However\n",
    "that is viewed as a single string in the graph.   The [] notation creates an array of strings all connected to the subject IRI\n",
    "by the property _keywords_.\n",
    "```\n",
    "\n",
    "### URL\n",
    "\n",
    "Keywords can also point to a URL.  This provides a way to link to a vocabulary entry that defines the term.  This approach \n",
    "has some benefits of linking to more details but does easily provide an easy descriptive text for humans.  There is nothing \n",
    "preventing putting in a text keyword followed up by another entry with a related URL.\n",
    "\n",
    "### DefinedTerm\n",
    "\n",
    "This is the most complex approach.  Keywords can point to a [DefinedTerm](https://schema.org/DefinedTerm) as\n",
    "defined in a [DefinedTermSet](https://schema.org/DefinedTermSet) pointed to by\n",
    "the property [inDefinedTermSet](https://schema.org/inDefinedTermSet).  It does offer the ability to present both a human\n",
    "focused textual name and description of the term.  This is a great way to link to a vocabulary entry that defines the term.\n",
    "It also allows for a URL to be used to link to the vocabulary entry.   While this approach is the most comprehensive, it does\n",
    "incur a complexity during the query process to extract and present the information.  \n",
    "\n",
    "## Defined Terms\n",
    "\n",
    "During generation of the structured data a provide may wish to\n",
    "either use or publish a set of controlled vocabulary terms or\n",
    "a similar set.  \n",
    "\n",
    "Within schema.org this could be done by leveraging the \"DefinedTerm\"\n",
    "amd \"DefinedTermSet\" types.  \n",
    "\n",
    "These types allow us both to define a set of terms and\n",
    "use a set of terms in describing a thing.\n",
    "\n",
    "Note that DefinedTerm is an intangible and can connect to most\n",
    "types in Schema.org.  So we can use them in places such as:\n",
    "\n",
    "* [CreativeWork](https://schema.org/CreativeWork) -> [keyword](https://schema.org/keywords)\n",
    "* [CreativeWork](https://schema.org/CreativeWork) -> [learningResourceType](https://schema.org/learningResourceType)\n",
    "* [LearningResource](https://schema.org/LearningResource) -> [teaches](https://schema.org/teaches)  (and many others)\n",
    "* [LearningResource](https://schema.org/LearningResource) -> [competencyRequired](https://schema.org/competencyRequired)  (and many others)\n",
    "* [PropertyValue](https://schema.org/PropertyValue) -> [valueReference](https://schema.org/valueReference)\n",
    "\n",
    "The following example is from the Schema.org [DefinedTermSet](https://schema.org/DefinedTermSet)\n",
    "reference.\n",
    "\n",
    "```{literalinclude} ../../../odis-in/dataGraphs/thematics/terms/graphs/term.json\n",
    ":linenos:\n",
    "```"
   ]
  },
  {
   "cell_type": "code",
   "execution_count": 2,
   "id": "7366a684",
   "metadata": {
    "tags": [
     "hide-input"
    ]
   },
   "outputs": [
    {
     "ename": "FileNotFoundError",
     "evalue": "[Errno 2] No such file or directory: '../../../odis-in/dataGraphs/thematics/terms/graphs/map.json'",
     "output_type": "error",
     "traceback": [
      "\u001b[0;31m---------------------------------------------------------------------------\u001b[0m",
      "\u001b[0;31mFileNotFoundError\u001b[0m                         Traceback (most recent call last)",
      "\u001b[0;32m/tmp/ipykernel_3614/1168586674.py\u001b[0m in \u001b[0;36m<module>\u001b[0;34m\u001b[0m\n\u001b[1;32m     11\u001b[0m \u001b[0;32mfrom\u001b[0m \u001b[0mlib\u001b[0m \u001b[0;32mimport\u001b[0m \u001b[0mjbutils\u001b[0m\u001b[0;34m\u001b[0m\u001b[0;34m\u001b[0m\u001b[0m\n\u001b[1;32m     12\u001b[0m \u001b[0;34m\u001b[0m\u001b[0m\n\u001b[0;32m---> 13\u001b[0;31m \u001b[0;32mwith\u001b[0m \u001b[0mopen\u001b[0m\u001b[0;34m(\u001b[0m\u001b[0;34m\"../../../odis-in/dataGraphs/thematics/terms/graphs/map.json\"\u001b[0m\u001b[0;34m)\u001b[0m \u001b[0;32mas\u001b[0m \u001b[0mdgraph\u001b[0m\u001b[0;34m:\u001b[0m\u001b[0;34m\u001b[0m\u001b[0;34m\u001b[0m\u001b[0m\n\u001b[0m\u001b[1;32m     14\u001b[0m     \u001b[0mdoc\u001b[0m \u001b[0;34m=\u001b[0m \u001b[0mjson\u001b[0m\u001b[0;34m.\u001b[0m\u001b[0mload\u001b[0m\u001b[0;34m(\u001b[0m\u001b[0mdgraph\u001b[0m\u001b[0;34m)\u001b[0m\u001b[0;34m\u001b[0m\u001b[0;34m\u001b[0m\u001b[0m\n\u001b[1;32m     15\u001b[0m \u001b[0;34m\u001b[0m\u001b[0m\n",
      "\u001b[0;31mFileNotFoundError\u001b[0m: [Errno 2] No such file or directory: '../../../odis-in/dataGraphs/thematics/terms/graphs/map.json'"
     ]
    }
   ],
   "source": [
    "import json\n",
    "from rdflib.extras.external_graph_libs import rdflib_to_networkx_multidigraph\n",
    "from rdflib.extras.external_graph_libs import rdflib_to_networkx_graph\n",
    "from pyld import jsonld\n",
    "import graphviz\n",
    "import os, sys\n",
    "\n",
    "currentdir = os.path.dirname(os.path.abspath(''))\n",
    "parentdir = os.path.dirname(currentdir)\n",
    "sys.path.insert(0, parentdir)\n",
    "from lib import jbutils\n",
    "\n",
    "with open(\"../../../odis-in/dataGraphs/thematics/terms/graphs/map.json\") as dgraph:\n",
    "    doc = json.load(dgraph)\n",
    "\n",
    "context = {\n",
    "    \"@vocab\": \"https://schema.org/\",\n",
    "}\n",
    "\n",
    "compacted = jsonld.compact(doc, context)\n",
    "jbutils.show_graph(compacted)"
   ]
  },
  {
   "cell_type": "markdown",
   "id": "6b8539be",
   "metadata": {},
   "source": [
    "## References\n",
    "\n",
    "* [schema.org/DefinedTerm](https://schema.org/DefinedTerm)\n",
    "* [schema.org/DefinedTermSet](https://schema.org/DefinedTermSet)"
   ]
  }
 ],
 "metadata": {
  "execution": {
   "allow_errors": true
  },
  "jupytext": {
   "formats": "md:myst",
   "text_representation": {
    "extension": ".md",
    "format_name": "myst"
   }
  },
  "kernelspec": {
   "display_name": "Python 3",
   "language": "python",
   "name": "python3"
  },
  "language_info": {
   "codemirror_mode": {
    "name": "ipython",
    "version": 3
   },
   "file_extension": ".py",
   "mimetype": "text/x-python",
   "name": "python",
   "nbconvert_exporter": "python",
   "pygments_lexer": "ipython3",
   "version": "3.7.17"
  },
  "source_map": [
   13,
   58,
   94,
   167,
   192
  ]
 },
 "nbformat": 4,
 "nbformat_minor": 5
}