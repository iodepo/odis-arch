{
 "cells": [
  {
   "cell_type": "markdown",
   "id": "f266337f",
   "metadata": {},
   "source": [
    "# California DWR sprint\n",
    "\n",
    "\n",
    "* https://earthref.org/GERM/metadata/papers/hellyetal2002.htm\n",
    "\n",
    "* https://ezid.cdlib.org/id/doi:10.4246/CA-DWR-GROUNDWATER-LEVELS_20171109_LEVEL0-MD5B8CA0D403FCE165F9E180CC73C648800.TAR\n",
    "* https://californiacoastalatlas.net/california-department-of-water-resources-water-balance-library\n",
    "* ftp://owia.sdsc.edu/Project-OWIA-Library-WaterBalance/CA-DWR-WaterBalance_20190505_CA-DWR-WaterBalance-2011-md5a3f47721f42c4f06075856218dd043ef.zip\n",
    "* https://ezid.cdlib.org/manage/display_xml/doi:10.4246/CA-DWR-GROUNDWATER-LEVELS_20171109_LEVEL0-MD5B8CA0D403FCE165F9E180CC73C648800.TAR\n",
    "* https://ezid.cdlib.org/manage/display_xml/doi:10.4246/CA-DWR-GROUNDWATER-LEVELS_20171109_LEVEL0-MD5B8CA0D403FCE165F9E180CC73C648800.TAR\n",
    "\n",
    "Next steps \n",
    "\n",
    "DF to look at MIF files; Will contact John as needed.\n",
    "JH and PLB / Doug to follow up on publishing tools\n",
    "\n",
    "\n"
   ]
  },
  {
   "cell_type": "code",
   "execution_count": 7,
   "id": "9e910219",
   "metadata": {},
   "outputs": [],
   "source": [
    "import kglab\n",
    "import numpy as np\n",
    "import matplotlib.pyplot as plt\n",
    "import pandas as pd\n",
    "import rdflib\n"
   ]
  },
  {
   "cell_type": "code",
   "execution_count": 2,
   "id": "fc521a13",
   "metadata": {},
   "outputs": [],
   "source": [
    "mif = \"./CA-DWR-Groundwater-Levels_20171109_level0-md5b8ca0d403fce165f9e180cc73c648800.mif\"\n",
    "df = pd.read_csv(mif, header=None) "
   ]
  },
  {
   "cell_type": "code",
   "execution_count": 3,
   "id": "c4dc5e06",
   "metadata": {},
   "outputs": [
    {
     "data": {
      "text/html": [
       "<div>\n",
       "<style scoped>\n",
       "    .dataframe tbody tr th:only-of-type {\n",
       "        vertical-align: middle;\n",
       "    }\n",
       "\n",
       "    .dataframe tbody tr th {\n",
       "        vertical-align: top;\n",
       "    }\n",
       "\n",
       "    .dataframe thead th {\n",
       "        text-align: right;\n",
       "    }\n",
       "</style>\n",
       "<table border=\"1\" class=\"dataframe\">\n",
       "  <thead>\n",
       "    <tr style=\"text-align: right;\">\n",
       "      <th></th>\n",
       "      <th>0</th>\n",
       "      <th>1</th>\n",
       "      <th>2</th>\n",
       "    </tr>\n",
       "  </thead>\n",
       "  <tbody>\n",
       "    <tr>\n",
       "      <th>0</th>\n",
       "      <td>Manager Email</td>\n",
       "      <td>CCA_CanonicalCollection_ArchivistEmail</td>\n",
       "      <td>hellyj@californiacoastalatlas.net</td>\n",
       "    </tr>\n",
       "    <tr>\n",
       "      <th>1</th>\n",
       "      <td>Manager Institution</td>\n",
       "      <td>CCA_CanonicalCollection_ArchivistInstitution</td>\n",
       "      <td>CCA</td>\n",
       "    </tr>\n",
       "    <tr>\n",
       "      <th>2</th>\n",
       "      <td>Manager Name</td>\n",
       "      <td>CCA_CanonicalCollection_ArchivistName</td>\n",
       "      <td>John Helly</td>\n",
       "    </tr>\n",
       "    <tr>\n",
       "      <th>3</th>\n",
       "      <td>Manager Phone</td>\n",
       "      <td>CCA_CanonicalCollection_ArchivistPhone</td>\n",
       "      <td>760.840.8660</td>\n",
       "    </tr>\n",
       "    <tr>\n",
       "      <th>4</th>\n",
       "      <td>Collection Identifier</td>\n",
       "      <td>CCA_CanonicalCollection_CollectionIdentifier</td>\n",
       "      <td>CA-DWR-Groundwater-Levels</td>\n",
       "    </tr>\n",
       "  </tbody>\n",
       "</table>\n",
       "</div>"
      ],
      "text/plain": [
       "                       0                                             1  \\\n",
       "0          Manager Email        CCA_CanonicalCollection_ArchivistEmail   \n",
       "1    Manager Institution  CCA_CanonicalCollection_ArchivistInstitution   \n",
       "2           Manager Name         CCA_CanonicalCollection_ArchivistName   \n",
       "3          Manager Phone        CCA_CanonicalCollection_ArchivistPhone   \n",
       "4  Collection Identifier  CCA_CanonicalCollection_CollectionIdentifier   \n",
       "\n",
       "                                   2  \n",
       "0  hellyj@californiacoastalatlas.net  \n",
       "1                                CCA  \n",
       "2                         John Helly  \n",
       "3                       760.840.8660  \n",
       "4          CA-DWR-Groundwater-Levels  "
      ]
     },
     "execution_count": 3,
     "metadata": {},
     "output_type": "execute_result"
    }
   ],
   "source": [
    "df.head(5)"
   ]
  },
  {
   "cell_type": "code",
   "execution_count": 4,
   "id": "75d9fc72",
   "metadata": {},
   "outputs": [],
   "source": [
    "import kglab\n",
    "\n",
    "namespaces = {\n",
    "    \"wtm\":  \"http://purl.org/heals/food/\",\n",
    "    \"ind\":  \"http://purl.org/heals/ingredient/\",\n",
    "    \"schema\": \"https://schema.org/\",\n",
    "    \"skos\": \"http://www.w3.org/2004/02/skos/core#\",\n",
    "    }\n",
    "\n",
    "kg = kglab.KnowledgeGraph(\n",
    "    name = \"A KG for the MIF based data\",\n",
    "    base_uri = \"https://www.example.com/id/\",\n",
    "    namespaces = namespaces,\n",
    "    )"
   ]
  },
  {
   "cell_type": "code",
   "execution_count": 5,
   "id": "29b54e8b",
   "metadata": {},
   "outputs": [],
   "source": [
    "for index, row in df.iterrows():\n",
    "    # print(row)\n",
    "    # print(\"{}  : {}  \".format(index, row[1]))\n",
    "    n = str(\"https://www.example.com/id/{}\".format(row[0]))\n",
    "    p = str(\"https://www.example.com/predicate/{}\".format(row[1]))\n",
    "    node = rdflib.URIRef(n.replace(\" \", \"\"))\n",
    "    pred = rdflib.URIRef(p.replace(\" \", \"\"))\n",
    "    obj = rdflib.Literal(row[2])\n",
    "    kg.add(node, pred, obj)\n"
   ]
  },
  {
   "cell_type": "code",
   "execution_count": 6,
   "id": "28338f3f",
   "metadata": {},
   "outputs": [
    {
     "data": {
      "text/html": [
       "\n",
       "        <iframe\n",
       "            width=\"500px\"\n",
       "            height=\"500px\"\n",
       "            src=\"tmp.fig01.html\"\n",
       "            frameborder=\"0\"\n",
       "            allowfullscreen\n",
       "        ></iframe>\n",
       "        "
      ],
      "text/plain": [
       "<IPython.lib.display.IFrame at 0x7fbba3c057f0>"
      ]
     },
     "execution_count": 6,
     "metadata": {},
     "output_type": "execute_result"
    }
   ],
   "source": [
    "VIS_STYLE = {\n",
    "    \"wtm\": {\n",
    "        \"color\": \"orange\",\n",
    "        \"size\": 20,\n",
    "    },\n",
    "    \"ind\":{\n",
    "        \"color\": \"blue\",\n",
    "        \"size\": 35,\n",
    "    },\n",
    "}\n",
    "\n",
    "subgraph = kglab.SubgraphTensor(kg)\n",
    "pyvis_graph = subgraph.build_pyvis_graph(notebook=True, style=VIS_STYLE)\n",
    "\n",
    "pyvis_graph.force_atlas_2based()\n",
    "pyvis_graph.show(\"tmp.fig01.html\")"
   ]
  },
  {
   "cell_type": "code",
   "execution_count": null,
   "id": "55fdcdf2",
   "metadata": {},
   "outputs": [],
   "source": []
  }
 ],
 "metadata": {
  "interpreter": {
   "hash": "884008db010a4da72f62f471ce341f5399c2c405d8eebc0270fe261741869d85"
  },
  "kernelspec": {
   "display_name": "Python 3 (ipykernel)",
   "language": "python",
   "name": "python3"
  },
  "language_info": {
   "codemirror_mode": {
    "name": "ipython",
    "version": 3
   },
   "file_extension": ".py",
   "mimetype": "text/x-python",
   "name": "python",
   "nbconvert_exporter": "python",
   "pygments_lexer": "ipython3",
   "version": "3.8.10"
  }
 },
 "nbformat": 4,
 "nbformat_minor": 5
}
