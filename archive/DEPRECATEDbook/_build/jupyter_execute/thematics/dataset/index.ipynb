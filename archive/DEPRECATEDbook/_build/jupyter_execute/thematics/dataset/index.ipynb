{
 "cells": [
  {
   "cell_type": "markdown",
   "id": "d980c394",
   "metadata": {},
   "source": [
    "# Datasets\n",
    "\n",
    "## About\n",
    "\n",
    "Datasets\n",
    "\n",
    "```{seealso}\n",
    "For OIH the focus is on generic documents which can scope reports, data and other resources.\n",
    "In those cases where the resources being described are of type Dataset you may wish to review\n",
    "patterns developed for GeoScience Datasets by the ESIP\n",
    "[Science on Schema](https://github.com/ESIPFed/science-on-schema.org/) community.\n",
    "\n",
    "```\n",
    "\n",
    "## Datasets\n",
    "\n",
    " Documents will include maps, reports,\n",
    "guidance and other creative works.  Due to this OIH will focus on a generic example\n",
    "of [schema.org/CreativeWork](https://schema.org/CreativeWork) and then provide examples\n",
    "for more focused creative work examples.\n",
    "\n",
    "```{literalinclude} ./graphs/datasetTemplate.json\n",
    ":linenos:\n",
    "```\n",
    "\n",
    "## Demo area  please ignore\n",
    "\n",
    "This area is being used to test out a new repository structure where the data graphs, \n",
    "frames and SHACL shapes are kept in a discrete location."
   ]
  },
  {
   "cell_type": "code",
   "execution_count": 1,
   "id": "ebcf5e96",
   "metadata": {
    "tags": [
     "hide-input"
    ]
   },
   "outputs": [
    {
     "ename": "FileNotFoundError",
     "evalue": "[Errno 2] No such file or directory: '../../../code/dataGraphs/map.json'",
     "output_type": "error",
     "traceback": [
      "\u001b[0;31m---------------------------------------------------------------------------\u001b[0m",
      "\u001b[0;31mFileNotFoundError\u001b[0m                         Traceback (most recent call last)",
      "\u001b[0;32m/tmp/ipykernel_44860/1190665215.py\u001b[0m in \u001b[0;36m<module>\u001b[0;34m\u001b[0m\n\u001b[1;32m     11\u001b[0m \u001b[0;32mfrom\u001b[0m \u001b[0mlib\u001b[0m \u001b[0;32mimport\u001b[0m \u001b[0mjbutils\u001b[0m\u001b[0;34m\u001b[0m\u001b[0;34m\u001b[0m\u001b[0m\n\u001b[1;32m     12\u001b[0m \u001b[0;34m\u001b[0m\u001b[0m\n\u001b[0;32m---> 13\u001b[0;31m \u001b[0;32mwith\u001b[0m \u001b[0mopen\u001b[0m\u001b[0;34m(\u001b[0m\u001b[0;34m\"../../../code/dataGraphs/map.json\"\u001b[0m\u001b[0;34m)\u001b[0m \u001b[0;32mas\u001b[0m \u001b[0mdgraph\u001b[0m\u001b[0;34m:\u001b[0m\u001b[0;34m\u001b[0m\u001b[0;34m\u001b[0m\u001b[0m\n\u001b[0m\u001b[1;32m     14\u001b[0m     \u001b[0mdoc\u001b[0m \u001b[0;34m=\u001b[0m \u001b[0mjson\u001b[0m\u001b[0;34m.\u001b[0m\u001b[0mload\u001b[0m\u001b[0;34m(\u001b[0m\u001b[0mdgraph\u001b[0m\u001b[0;34m)\u001b[0m\u001b[0;34m\u001b[0m\u001b[0;34m\u001b[0m\u001b[0m\n\u001b[1;32m     15\u001b[0m \u001b[0;34m\u001b[0m\u001b[0m\n",
      "\u001b[0;31mFileNotFoundError\u001b[0m: [Errno 2] No such file or directory: '../../../code/dataGraphs/map.json'"
     ]
    }
   ],
   "source": [
    "import json\n",
    "from rdflib.extras.external_graph_libs import rdflib_to_networkx_multidigraph\n",
    "from rdflib.extras.external_graph_libs import rdflib_to_networkx_graph\n",
    "from pyld import jsonld\n",
    "import graphviz\n",
    "import os, sys\n",
    "\n",
    "currentdir = os.path.dirname(os.path.abspath(''))\n",
    "parentdir = os.path.dirname(currentdir)\n",
    "sys.path.insert(0, parentdir)\n",
    "from lib import jbutils\n",
    "\n",
    "with open(\"../../../code/dataGraphs/map.json\") as dgraph:\n",
    "    doc = json.load(dgraph)\n",
    "\n",
    "with open(\"../../../code/frames/mapFrameID.json\") as fgraph:\n",
    "    frame = json.load(fgraph)\n",
    "\n",
    "context = {\n",
    "    \"@vocab\": \"https://schema.org/\",\n",
    "}\n",
    "\n",
    "compacted = jsonld.compact(doc, context)\n",
    "\n",
    "framed = jsonld.frame(compacted, frame)\n",
    "jd = json.dumps(framed, indent=4)\n",
    "print(jd)\n",
    "\n",
    "jbutils.show_graph(framed)"
   ]
  }
 ],
 "metadata": {
  "execution": {
   "allow_errors": true
  },
  "jupytext": {
   "formats": "md:myst",
   "text_representation": {
    "extension": ".md",
    "format_name": "myst"
   }
  },
  "kernelspec": {
   "display_name": "Python 3",
   "language": "python",
   "name": "python3"
  },
  "language_info": {
   "codemirror_mode": {
    "name": "ipython",
    "version": 3
   },
   "file_extension": ".py",
   "mimetype": "text/x-python",
   "name": "python",
   "nbconvert_exporter": "python",
   "pygments_lexer": "ipython3",
   "version": "3.10.8"
  },
  "source_map": [
   13,
   46
  ]
 },
 "nbformat": 4,
 "nbformat_minor": 5
}