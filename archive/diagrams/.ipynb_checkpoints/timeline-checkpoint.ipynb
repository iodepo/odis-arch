{
 "cells": [
  {
   "cell_type": "markdown",
   "id": "1a554cf1-2cc7-45ac-bfdc-11097bbf4bc6",
   "metadata": {},
   "source": [
    "# OIH Source Timeline\n",
    "\n",
    "See abouting CSV support via [mitosheet](https://medium.com/geekculture/goodbye-excel-hello-spreadsheets-in-python-df41408dafd4)"
   ]
  },
  {
   "cell_type": "code",
   "execution_count": 28,
   "id": "1d90867d-2499-477c-99cb-4bd1e1b3701a",
   "metadata": {},
   "outputs": [],
   "source": [
    "import matplotlib.pyplot as plt\n",
    "import numpy as np\n",
    "import matplotlib.dates as mdates\n",
    "from datetime import datetime\n",
    "import pandas as pd"
   ]
  },
  {
   "cell_type": "code",
   "execution_count": 36,
   "id": "00eaf6f7-8712-4ae0-84b7-4465b483f407",
   "metadata": {},
   "outputs": [
    {
     "data": {
      "text/html": [
       "<div>\n",
       "<style scoped>\n",
       "    .dataframe tbody tr th:only-of-type {\n",
       "        vertical-align: middle;\n",
       "    }\n",
       "\n",
       "    .dataframe tbody tr th {\n",
       "        vertical-align: top;\n",
       "    }\n",
       "\n",
       "    .dataframe thead th {\n",
       "        text-align: right;\n",
       "    }\n",
       "</style>\n",
       "<table border=\"1\" class=\"dataframe\">\n",
       "  <thead>\n",
       "    <tr style=\"text-align: right;\">\n",
       "      <th></th>\n",
       "      <th>name</th>\n",
       "      <th>propername</th>\n",
       "      <th>dates</th>\n",
       "    </tr>\n",
       "  </thead>\n",
       "  <tbody>\n",
       "    <tr>\n",
       "      <th>0</th>\n",
       "      <td>obps</td>\n",
       "      <td>Ocean Best Practices</td>\n",
       "      <td>2021-01-26</td>\n",
       "    </tr>\n",
       "    <tr>\n",
       "      <th>1</th>\n",
       "      <td>obis</td>\n",
       "      <td>Ocean Biodiversity Information System</td>\n",
       "      <td>2021-02-26</td>\n",
       "    </tr>\n",
       "    <tr>\n",
       "      <th>2</th>\n",
       "      <td>aquadocs</td>\n",
       "      <td>AquaDocs</td>\n",
       "      <td>2021-02-26</td>\n",
       "    </tr>\n",
       "    <tr>\n",
       "      <th>3</th>\n",
       "      <td>marinetraining</td>\n",
       "      <td>Marine Training EU</td>\n",
       "      <td>2021-05-26</td>\n",
       "    </tr>\n",
       "    <tr>\n",
       "      <th>4</th>\n",
       "      <td>edmerp</td>\n",
       "      <td>EDMERP SeaDataNet</td>\n",
       "      <td>2021-07-26</td>\n",
       "    </tr>\n",
       "    <tr>\n",
       "      <th>5</th>\n",
       "      <td>edmo</td>\n",
       "      <td>EDMO SeaDataNet</td>\n",
       "      <td>2021-07-26</td>\n",
       "    </tr>\n",
       "    <tr>\n",
       "      <th>6</th>\n",
       "      <td>oceanexperts</td>\n",
       "      <td>OceanExpert IODE</td>\n",
       "      <td>2021-08-26</td>\n",
       "    </tr>\n",
       "    <tr>\n",
       "      <th>7</th>\n",
       "      <td>invemar</td>\n",
       "      <td>INVEMAR</td>\n",
       "      <td>2022-01-26</td>\n",
       "    </tr>\n",
       "    <tr>\n",
       "      <th>8</th>\n",
       "      <td>eurocean</td>\n",
       "      <td>EurOcean</td>\n",
       "      <td>2022-03-26</td>\n",
       "    </tr>\n",
       "  </tbody>\n",
       "</table>\n",
       "</div>"
      ],
      "text/plain": [
       "             name                             propername       dates\n",
       "0            obps                   Ocean Best Practices  2021-01-26\n",
       "1            obis  Ocean Biodiversity Information System  2021-02-26\n",
       "2        aquadocs                               AquaDocs  2021-02-26\n",
       "3  marinetraining                     Marine Training EU  2021-05-26\n",
       "4          edmerp                      EDMERP SeaDataNet  2021-07-26\n",
       "5            edmo                        EDMO SeaDataNet  2021-07-26\n",
       "6    oceanexperts                       OceanExpert IODE  2021-08-26\n",
       "7         invemar                                INVEMAR  2022-01-26\n",
       "8        eurocean                               EurOcean  2022-03-26"
      ]
     },
     "execution_count": 36,
     "metadata": {},
     "output_type": "execute_result"
    }
   ],
   "source": [
    "df = pd.read_csv('./data/oihSources.csv')\n",
    "df"
   ]
  },
  {
   "cell_type": "code",
   "execution_count": 37,
   "id": "6b0eec1e-0df0-41e1-ba95-01760c52f9f6",
   "metadata": {},
   "outputs": [],
   "source": [
    "names = df['propername'].tolist()\n",
    "dates = df['dates'].tolist()"
   ]
  },
  {
   "cell_type": "code",
   "execution_count": 38,
   "id": "589ec240",
   "metadata": {
    "collapsed": false,
    "jupyter": {
     "outputs_hidden": false
    },
    "pycharm": {
     "name": "#%%\n"
    }
   },
   "outputs": [],
   "source": [
    "# Convert date strings (e.g. 2014-10-18) to datetime\n",
    "dates = [datetime.strptime(d, \"%Y-%m-%d\") for d in dates]"
   ]
  },
  {
   "cell_type": "code",
   "execution_count": 40,
   "id": "f5c43bd3-8ef3-4383-b9a5-62c72759d87b",
   "metadata": {},
   "outputs": [
    {
     "data": {
      "image/png": "[encoded data removed]",
      "text/plain": [
       "<Figure size 633.6x288 with 1 Axes>"
      ]
     },
     "metadata": {
      "needs_background": "light"
     },
     "output_type": "display_data"
    }
   ],
   "source": [
    "# Choose some nice levels\n",
    "levels = np.tile([-5, 5, -3, 3, -1, 1],\n",
    "                 int(np.ceil(len(dates)/6)))[:len(dates)]\n",
    "\n",
    "# Create figure and plot a stem plot with the date\n",
    "fig, ax = plt.subplots(figsize=(8.8, 4), constrained_layout=True)\n",
    "ax.set(title=\"OIH Sources Timeline\")\n",
    "\n",
    "ax.vlines(dates, 0, levels, color=\"tab:red\")  # The vertical stems.\n",
    "ax.plot(dates, np.zeros_like(dates), \"-o\",\n",
    "        color=\"k\", markerfacecolor=\"w\")  # Baseline and markers on it.\n",
    "\n",
    "# annotate lines\n",
    "for d, l, r in zip(dates, levels, names):\n",
    "    ax.annotate(r, xy=(d, l),\n",
    "                xytext=(-3, np.sign(l)*3), textcoords=\"offset points\",\n",
    "                horizontalalignment=\"right\",\n",
    "                verticalalignment=\"bottom\" if l > 0 else \"top\")\n",
    "\n",
    "# format xaxis with 4 month intervals\n",
    "ax.xaxis.set_major_locator(mdates.MonthLocator(interval=2))\n",
    "ax.xaxis.set_major_formatter(mdates.DateFormatter(\"%b %Y\"))\n",
    "plt.setp(ax.get_xticklabels(), rotation=30, ha=\"right\")\n",
    "\n",
    "# remove y axis and spines\n",
    "ax.yaxis.set_visible(False)\n",
    "ax.spines[[\"left\", \"top\", \"right\"]].set_visible(False)\n",
    "\n",
    "ax.margins(y=0.1)\n",
    "plt.show()"
   ]
  },
  {
   "cell_type": "code",
   "execution_count": null,
   "id": "fd027bed-2333-4127-95fd-bcc41bda26cb",
   "metadata": {},
   "outputs": [],
   "source": []
  }
 ],
 "metadata": {
  "kernelspec": {
   "display_name": "Python [conda env:.conda-kglab] *",
   "language": "python",
   "name": "conda-env-.conda-kglab-py"
  },
  "language_info": {
   "codemirror_mode": {
    "name": "ipython",
    "version": 3
   },
   "file_extension": ".py",
   "mimetype": "text/x-python",
   "name": "python",
   "nbconvert_exporter": "python",
   "pygments_lexer": "ipython3",
   "version": "3.8.10"
  }
 },
 "nbformat": 4,
 "nbformat_minor": 5
}
