{
 "cells": [
  {
   "cell_type": "markdown",
   "id": "6ffc8380",
   "metadata": {},
   "source": [
    "# Prov\n",
    "\n",
    "## About\n",
    "\n",
    "This is the start of some discussion on issues around prov tracking in OIH.\n",
    "This may take two paths.  One would be the prov tracking indexers might do\n",
    "and the other prov that providers would encode to provide specific prov\n",
    "the community requests.\n",
    "\n",
    "## Gleaner Prov\n",
    "\n",
    "The Gleaner application generates a prov graph of the activity of accessing \n",
    "and indexing provider resources.  The main goal of this prov is to connect\n",
    "an indexed URL to the digital object stored in the object store.  This \n",
    "digital object should be the JSON-LD data graph presented by the provider. \n",
    "\n",
    "By contrast, the authoritative reference in the various profiles will connect\n",
    "the the data graph ID, or in the absence of that the data graph URL or the \n",
    "referenced resources URL by gleaner, to another reference.  This may be \n",
    "an organization ID or a PID of the connected resource. \n",
    "\n",
    "\n",
    "\n",
    "```{literalinclude} ./graphs/gleaner.json\n",
    ":linenos:\n",
    "```"
   ]
  },
  {
   "cell_type": "code",
   "execution_count": 1,
   "id": "e762b22c",
   "metadata": {
    "tags": [
     "hide-input"
    ]
   },
   "outputs": [
    {
     "name": "stdout",
     "output_type": "stream",
     "text": [
      "{\n",
      "    \"@context\": {\n",
      "        \"@vocab\": \"https://schema.org/\",\n",
      "        \"prov\": \"http://www.w3.org/ns/prov#\"\n",
      "    },\n",
      "    \"@id\": \"https://gleaner.io/id/run/7c1eaa1aaed95861330109026c42e57a31ecae55\",\n",
      "    \"@type\": \"prov:Activity\",\n",
      "    \"prov:endedAtTime\": {\n",
      "        \"@type\": \"http://www.w3.org/2001/XMLSchema#dateTime\",\n",
      "        \"@value\": \"2021-04-20\"\n",
      "    },\n",
      "    \"prov:generated\": {\n",
      "        \"@id\": \"urn:gleaner:milled:obis:7c1eaa1aaed95861330109026c42e57a31ecae55\",\n",
      "        \"@type\": \"prov:Entity\",\n",
      "        \"prov:value\": \"7c1eaa1aaed95861330109026c42e57a31ecae55.jsonld\"\n",
      "    },\n",
      "    \"prov:used\": {\n",
      "        \"@id\": \"https://gleaner.io/id/collection/7c1eaa1aaed95861330109026c42e57a31ecae55\",\n",
      "        \"@type\": \"prov:Collection\",\n",
      "        \"prov:hadMember\": {\n",
      "            \"@id\": \"https://obis.org/dataset/9381239f-3d64-48b4-80c9-b9ebb674edc2\",\n",
      "            \"@type\": \"prov:Entity\",\n",
      "            \"prov:value\": \"https://obis.org/dataset/9381239f-3d64-48b4-80c9-b9ebb674edc2\",\n",
      "            \"prov:wasAttributedTo\": {\n",
      "                \"@id\": \"https://www.re3data.org/repository/obis\",\n",
      "                \"@type\": \"prov:Organization\",\n",
      "                \"http://www.w3.org/1999/02/22-rdf-syntax-ns#name\": \"Ocean Biodiversity Information System\",\n",
      "                \"http://www.w3.org/2000/01/rdf-schema#seeAlso\": \"https://obis.org\"\n",
      "            }\n",
      "        }\n",
      "    }\n",
      "}\n"
     ]
    }
   ],
   "source": [
    "import json\n",
    "from rdflib.extras.external_graph_libs import rdflib_to_networkx_multidigraph\n",
    "from rdflib.extras.external_graph_libs import rdflib_to_networkx_graph\n",
    "from pyld import jsonld\n",
    "import graphviz\n",
    "import os, sys\n",
    "\n",
    "currentdir = os.path.dirname(os.path.abspath(''))\n",
    "parentdir = os.path.dirname(currentdir)\n",
    "sys.path.insert(0, parentdir)\n",
    "from lib import jbutils\n",
    "\n",
    "with open(\"./graphs/gleaner.json\") as dgraph:\n",
    "    doc = json.load(dgraph)\n",
    "\n",
    "frame = {\n",
    "  \"@context\": {\"@vocab\": \"https://schema.org/\",\n",
    "  \"prov\": \"http://www.w3.org/ns/prov#\"},\n",
    "  \"@explicit\": \"false\",\n",
    "  \"@type\":     \"prov:Activity\",\n",
    "   \"prov:generated\": {},\n",
    "   \"prov:endedAtTime\": {},\n",
    "   \"prov:used\": {}\n",
    "}\n",
    "\n",
    "\n",
    "context = {\n",
    "  \"@vocab\": \"https://schema.org/\",\n",
    "  \"prov\": \"http://www.w3.org/ns/prov#\"\n",
    "}\n",
    "\n",
    "compacted = jsonld.compact(doc, context)\n",
    "\n",
    "framed = jsonld.frame(compacted, frame)\n",
    "jd = json.dumps(framed, indent=4)\n",
    "print(jd)\n"
   ]
  },
  {
   "cell_type": "markdown",
   "id": "260aaa67",
   "metadata": {},
   "source": [
    "## Nano Prov\n",
    "\n",
    "This is a basic nanoprov example. Note, this is a draft and\n",
    "the ID connections and examples have not been made yet.  \n",
    "\n",
    "\n",
    "```{literalinclude} ./graphs/nanoprov.json\n",
    ":linenos:\n",
    "```"
   ]
  },
  {
   "cell_type": "code",
   "execution_count": 2,
   "id": "9fb25f45",
   "metadata": {
    "tags": [
     "hide-input"
    ]
   },
   "outputs": [
    {
     "name": "stderr",
     "output_type": "stream",
     "text": [
      "Fontconfig error: \"/etc/fonts/conf.d/30-0-google-crosextra-caladea-fonts.conf\", line 1: Extra content at the end of the document\n",
      "\n",
      "Fontconfig error: \"/etc/fonts/conf.d/60-open-sans.conf\", line 1: Extra content at the end of the document\n",
      "\n",
      "Fontconfig error: \"/etc/fonts/conf.d/62-google-crosextra-caladea-fonts.conf\", line 1: Extra content at the end of the document\n",
      "\n"
     ]
    },
    {
     "data": {
      "image/svg+xml": [
       "<?xml version=\"1.0\" encoding=\"UTF-8\" standalone=\"no\"?>\n",
       "<!DOCTYPE svg PUBLIC \"-//W3C//DTD SVG 1.1//EN\"\n",
       " \"http://www.w3.org/Graphics/SVG/1.1/DTD/svg11.dtd\">\n",
       "<!-- Generated by graphviz version 5.0.0 (0)\n",
       " -->\n",
       "<!-- Pages: 1 -->\n",
       "<svg width=\"650pt\" height=\"206pt\"\n",
       " viewBox=\"0.00 0.00 650.16 206.00\" xmlns=\"http://www.w3.org/2000/svg\" xmlns:xlink=\"http://www.w3.org/1999/xlink\">\n",
       "<g id=\"graph0\" class=\"graph\" transform=\"scale(1 1) rotate(0) translate(4 202)\">\n",
       "<polygon fill=\"white\" stroke=\"transparent\" points=\"-4,4 -4,-202 646.16,-202 646.16,4 -4,4\"/>\n",
       "<!-- assertion -->\n",
       "<g id=\"node1\" class=\"node\">\n",
       "<title>assertion</title>\n",
       "<ellipse fill=\"none\" stroke=\"#558855\" cx=\"555.07\" cy=\"-180\" rx=\"53.89\" ry=\"18\"/>\n",
       "<text text-anchor=\"middle\" x=\"555.07\" y=\"-176.3\" font-family=\"Times,serif\" font-size=\"14.00\">assertion</text>\n",
       "</g>\n",
       "<!-- voc.gleaner.io/id/nanopub/XID -->\n",
       "<g id=\"node2\" class=\"node\">\n",
       "<title>voc.gleaner.io/id/nanopub/XID</title>\n",
       "<ellipse fill=\"none\" stroke=\"black\" cx=\"149.49\" cy=\"-99\" rx=\"149.47\" ry=\"18\"/>\n",
       "<text text-anchor=\"middle\" x=\"149.49\" y=\"-95.3\" font-family=\"Times,serif\" font-size=\"14.00\">voc.gleaner.io/id/nanopub/XID</text>\n",
       "</g>\n",
       "<!-- voc.gleaner.io/id/nanopub/XID&#45;&gt;assertion -->\n",
       "<g id=\"edge1\" class=\"edge\">\n",
       "<title>voc.gleaner.io/id/nanopub/XID&#45;&gt;assertion</title>\n",
       "<path fill=\"none\" stroke=\"black\" d=\"M217.57,-115.04C247.87,-122.09 284.15,-130.28 316.97,-137 378,-149.49 448.25,-162 496.35,-170.28\"/>\n",
       "<polygon fill=\"black\" stroke=\"black\" points=\"495.81,-173.74 506.26,-171.98 497,-166.84 495.81,-173.74\"/>\n",
       "<text text-anchor=\"middle\" x=\"383.47\" y=\"-164.8\" font-family=\"Times,serif\" font-size=\"14.00\">hasAssertion</text>\n",
       "</g>\n",
       "<!-- provenance -->\n",
       "<g id=\"node3\" class=\"node\">\n",
       "<title>provenance</title>\n",
       "<ellipse fill=\"none\" stroke=\"#558855\" cx=\"555.07\" cy=\"-126\" rx=\"64.19\" ry=\"18\"/>\n",
       "<text text-anchor=\"middle\" x=\"555.07\" y=\"-122.3\" font-family=\"Times,serif\" font-size=\"14.00\">provenance</text>\n",
       "</g>\n",
       "<!-- voc.gleaner.io/id/nanopub/XID&#45;&gt;provenance -->\n",
       "<g id=\"edge2\" class=\"edge\">\n",
       "<title>voc.gleaner.io/id/nanopub/XID&#45;&gt;provenance</title>\n",
       "<path fill=\"none\" stroke=\"black\" d=\"M280.4,-107.69C347.32,-112.17 426.38,-117.46 482.27,-121.2\"/>\n",
       "<polygon fill=\"black\" stroke=\"black\" points=\"482.21,-124.7 492.43,-121.88 482.68,-117.72 482.21,-124.7\"/>\n",
       "<text text-anchor=\"middle\" x=\"383.47\" y=\"-121.8\" font-family=\"Times,serif\" font-size=\"14.00\">hasProvenance</text>\n",
       "</g>\n",
       "<!-- pubInfo -->\n",
       "<g id=\"node4\" class=\"node\">\n",
       "<title>pubInfo</title>\n",
       "<ellipse fill=\"none\" stroke=\"#558855\" cx=\"555.07\" cy=\"-72\" rx=\"46.29\" ry=\"18\"/>\n",
       "<text text-anchor=\"middle\" x=\"555.07\" y=\"-68.3\" font-family=\"Times,serif\" font-size=\"14.00\">pubInfo</text>\n",
       "</g>\n",
       "<!-- voc.gleaner.io/id/nanopub/XID&#45;&gt;pubInfo -->\n",
       "<g id=\"edge3\" class=\"edge\">\n",
       "<title>voc.gleaner.io/id/nanopub/XID&#45;&gt;pubInfo</title>\n",
       "<path fill=\"none\" stroke=\"black\" d=\"M280.4,-90.31C354.37,-85.36 443.17,-79.42 499.12,-75.68\"/>\n",
       "<polygon fill=\"black\" stroke=\"black\" points=\"499.43,-79.16 509.17,-75 498.96,-72.18 499.43,-79.16\"/>\n",
       "<text text-anchor=\"middle\" x=\"383.47\" y=\"-90.8\" font-family=\"Times,serif\" font-size=\"14.00\">hasPublicationInfo</text>\n",
       "</g>\n",
       "<!-- NanoPublication -->\n",
       "<g id=\"node5\" class=\"node\">\n",
       "<title>NanoPublication</title>\n",
       "<ellipse fill=\"none\" stroke=\"#558855\" cx=\"555.07\" cy=\"-18\" rx=\"87.18\" ry=\"18\"/>\n",
       "<text text-anchor=\"middle\" x=\"555.07\" y=\"-14.3\" font-family=\"Times,serif\" font-size=\"14.00\">NanoPublication</text>\n",
       "</g>\n",
       "<!-- voc.gleaner.io/id/nanopub/XID&#45;&gt;NanoPublication -->\n",
       "<g id=\"edge4\" class=\"edge\">\n",
       "<title>voc.gleaner.io/id/nanopub/XID&#45;&gt;NanoPublication</title>\n",
       "<path fill=\"none\" stroke=\"black\" d=\"M215.93,-82.79C246.54,-75.44 283.53,-66.87 316.97,-60 369.9,-49.12 429.83,-38.52 476.19,-30.69\"/>\n",
       "<polygon fill=\"black\" stroke=\"black\" points=\"476.89,-34.12 486.17,-29.01 475.73,-27.22 476.89,-34.12\"/>\n",
       "<text text-anchor=\"middle\" x=\"383.47\" y=\"-63.8\" font-family=\"Times,serif\" font-size=\"14.00\">type</text>\n",
       "</g>\n",
       "</g>\n",
       "</svg>\n"
      ],
      "text/plain": [
       "<graphviz.graphs.Digraph at 0x7f6dd7b0ed10>"
      ]
     },
     "execution_count": 2,
     "metadata": {
      "filenames": {
       "image/svg+xml": "/home/fils/src/Projects/OIH/odis-arch/book/_build/jupyter_execute/indexing/prov/README_3_1.svg"
      }
     },
     "output_type": "execute_result"
    }
   ],
   "source": [
    "import json\n",
    "from pyld import jsonld\n",
    "import os, sys\n",
    "\n",
    "currentdir = os.path.dirname(os.path.abspath(''))\n",
    "parentdir = os.path.dirname(currentdir)\n",
    "sys.path.insert(0, parentdir)\n",
    "from lib import jbutils\n",
    "\n",
    "with open(\"./graphs/nanoprov.json\") as dgraph:\n",
    "    doc = json.load(dgraph)\n",
    "\n",
    "context = {\n",
    "    \"@vocab\": \"https://schema.org/\",\n",
    "}\n",
    "\n",
    "compacted = jsonld.compact(doc, context)\n",
    "jbutils.show_graph(compacted)"
   ]
  },
  {
   "cell_type": "markdown",
   "id": "40111f3b",
   "metadata": {},
   "source": [
    "## Refs\n",
    "\n",
    "[Nanopubs Guidance](https://nanopub.org/guidelines/working_draft/)"
   ]
  }
 ],
 "metadata": {
  "execution": {
   "allow_errors": true
  },
  "jupytext": {
   "formats": "md:myst",
   "text_representation": {
    "extension": ".md",
    "format_name": "myst"
   }
  },
  "kernelspec": {
   "display_name": "Python 3",
   "language": "python",
   "name": "python3"
  },
  "language_info": {
   "codemirror_mode": {
    "name": "ipython",
    "version": 3
   },
   "file_extension": ".py",
   "mimetype": "text/x-python",
   "name": "python",
   "nbconvert_exporter": "python",
   "pygments_lexer": "ipython3",
   "version": "3.10.8"
  },
  "source_map": [
   13,
   41,
   82,
   95,
   117
  ]
 },
 "nbformat": 4,
 "nbformat_minor": 5
}