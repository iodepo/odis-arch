{
 "cells": [
  {
   "cell_type": "markdown",
   "id": "d3b2a71a",
   "metadata": {},
   "source": [
    "# Spatial Geometry\n",
    "\n",
    "## About\n",
    "\n",
    "For spatial geometry Ocean InfoHub guidance will be to use the OGC [GeoSPARQL](https://www.ogc.org/standards/geosparql)\n",
    "vocabulary to express geometry using Well Known Text (WKT).  The schema.org spatial types and propeties are not well \n",
    "defined and difficult at times to reliably translate to geometries for use in more Open Geospatial Consortium (OGC)\n",
    "environments.  \n",
    "\n",
    "## Simple GeoSPARQL WKT\n",
    "\n",
    "The following is a simple example of how to embed a WKT string via GeoSPARQL into a JSON-LD record.  \n",
    "Well Know Text (WKT) is a OGC standard referenced at: https://www.ogc.org/standards/wkt-crs.\n",
    "A more accessible description and set of examples can be found at WikiPedia:\n",
    "[Well-known text representation of geometry](https://en.wikipedia.org/wiki/Well-known_text_representation_of_geometry).\n",
    "\n",
    "\n",
    "```{literalinclude} ./graphs/basic.json\n",
    ":linenos:\n",
    ":emphasize-lines: 4, 9-17\n",
    "```\n",
    "\n",
    "Line 4 declare the GeoSPARQL prefix for the vocabulary that we will leverage in this document.\n",
    "\n",
    "Lines 9-17 are the GeoSPARQL node and property definitions.  In this case our type is a simple \n",
    "point geometry.  We then go on to declare the asWKT with a type and value.  The value \n",
    "is our actual WKT string for our geometry.   We can further \n",
    "declare the coordinate reference system (CRS) of the geometry using the crs property."
   ]
  },
  {
   "cell_type": "code",
   "execution_count": 1,
   "id": "44f5056e",
   "metadata": {
    "tags": [
     "hide-input"
    ]
   },
   "outputs": [
    {
     "ename": "FileNotFoundError",
     "evalue": "[Errno 2] No such file or directory: './graphs/basic.json'",
     "output_type": "error",
     "traceback": [
      "\u001b[0;31m---------------------------------------------------------------------------\u001b[0m",
      "\u001b[0;31mFileNotFoundError\u001b[0m                         Traceback (most recent call last)",
      "\u001b[0;32m/tmp/ipykernel_3606463/3993020278.py\u001b[0m in \u001b[0;36m<module>\u001b[0;34m\u001b[0m\n\u001b[1;32m      8\u001b[0m \u001b[0;32mfrom\u001b[0m \u001b[0mlib\u001b[0m \u001b[0;32mimport\u001b[0m \u001b[0mjbutils\u001b[0m\u001b[0;34m\u001b[0m\u001b[0;34m\u001b[0m\u001b[0m\n\u001b[1;32m      9\u001b[0m \u001b[0;34m\u001b[0m\u001b[0m\n\u001b[0;32m---> 10\u001b[0;31m \u001b[0;32mwith\u001b[0m \u001b[0mopen\u001b[0m\u001b[0;34m(\u001b[0m\u001b[0;34m\"./graphs/basic.json\"\u001b[0m\u001b[0;34m)\u001b[0m \u001b[0;32mas\u001b[0m \u001b[0mdgraph\u001b[0m\u001b[0;34m:\u001b[0m\u001b[0;34m\u001b[0m\u001b[0;34m\u001b[0m\u001b[0m\n\u001b[0m\u001b[1;32m     11\u001b[0m     \u001b[0mdoc\u001b[0m \u001b[0;34m=\u001b[0m \u001b[0mjson\u001b[0m\u001b[0;34m.\u001b[0m\u001b[0mload\u001b[0m\u001b[0;34m(\u001b[0m\u001b[0mdgraph\u001b[0m\u001b[0;34m)\u001b[0m\u001b[0;34m\u001b[0m\u001b[0;34m\u001b[0m\u001b[0m\n\u001b[1;32m     12\u001b[0m \u001b[0;34m\u001b[0m\u001b[0m\n",
      "\u001b[0;31mFileNotFoundError\u001b[0m: [Errno 2] No such file or directory: './graphs/basic.json'"
     ]
    }
   ],
   "source": [
    "import json\n",
    "from pyld import jsonld\n",
    "import os, sys\n",
    "\n",
    "currentdir = os.path.dirname(os.path.abspath(''))\n",
    "parentdir = os.path.dirname(currentdir)\n",
    "sys.path.insert(0, parentdir)\n",
    "from lib import jbutils\n",
    "\n",
    "with open(\"./graphs/basic.json\") as dgraph:\n",
    "    doc = json.load(dgraph)\n",
    "\n",
    "context = {\n",
    "    \"@vocab\": \"https://schema.org/\",\n",
    "}\n",
    "\n",
    "compacted = jsonld.compact(doc, context)\n",
    "jbutils.show_graph(compacted)"
   ]
  },
  {
   "cell_type": "markdown",
   "id": "507d5d54",
   "metadata": {},
   "source": [
    "### WKT Bounding Box\n",
    "\n",
    "Note that WKT doesn't directly have a bounding box, in that case you \n",
    "would need to use a polygon.  The following is an example of a WKT string:\n",
    "\n",
    "```\n",
    "POLYGON((45.066730529474505 2.6430807905900235,47.395832091974505 2.6430807905900235,47.395832091974505 0.3588601145746598,45.066730529474505 0.3588601145746598,45.066730529474505 2.6430807905900235))\n",
    "```\n",
    "\n",
    "This following the pattern:\n",
    "\n",
    "```\n",
    "'POLYGON(x1 y1, x1 y2, x2 y2, x2 y1, x1 y1)'\n",
    "```\n",
    "\n",
    "## Classic Schema.org\n",
    "\n",
    "Ocean InfoHub only recommends the use of Schema.org spatial geometries in \n",
    "the case where a provider wishes to be properly indexed by Google and to have the \n",
    "spatial information used by Google for maps.  Note, the lack of spatial information will\n",
    "not prevent Google from indexing your resources.  \n",
    "\n",
    "Schema.org spatial geometries are not well defined in comparison to OGC standards and \n",
    "recommendations.  Also, converting from Schema.org spatial to geometries in WKT or GeoJSON\n",
    "can be problematic.  There are inconsistencies with\n",
    "Schema.org guidance for textual geometry representation and that of Well \n",
    "Known Text (WKT).\n",
    "\n",
    "That said, if you desire to leverage Schema.org geometries an example follows.  This \n",
    "is a simple example of the existing Schema.org pattern for a lat long value.   There is the \n",
    "pending [GeospatialGeometry](https://schema.org/GeospatialGeometry) which is a \n",
    "type Intangible (and not Place referenced by spatialCoverage).  This will be a \n",
    "subtype of [GeoShape](https://schema.org/GeoShape).   \n",
    "\n",
    "Schema.org spatial relations are guided by [DE-9IM](https://en.wikipedia.org/wiki/DE-9IM).\n",
    "\n",
    "```{literalinclude} ./graphs/sos.json\n",
    ":linenos:\n",
    ":emphasize-lines: 8-15\n",
    "```"
   ]
  },
  {
   "cell_type": "code",
   "execution_count": 2,
   "id": "ef010334",
   "metadata": {
    "tags": [
     "hide-input"
    ]
   },
   "outputs": [
    {
     "ename": "FileNotFoundError",
     "evalue": "[Errno 2] No such file or directory: './graphs/sos.json'",
     "output_type": "error",
     "traceback": [
      "\u001b[0;31m---------------------------------------------------------------------------\u001b[0m",
      "\u001b[0;31mFileNotFoundError\u001b[0m                         Traceback (most recent call last)",
      "\u001b[0;32m/tmp/ipykernel_3606463/1042823136.py\u001b[0m in \u001b[0;36m<module>\u001b[0;34m\u001b[0m\n\u001b[1;32m      8\u001b[0m \u001b[0;32mfrom\u001b[0m \u001b[0mlib\u001b[0m \u001b[0;32mimport\u001b[0m \u001b[0mjbutils\u001b[0m\u001b[0;34m\u001b[0m\u001b[0;34m\u001b[0m\u001b[0m\n\u001b[1;32m      9\u001b[0m \u001b[0;34m\u001b[0m\u001b[0m\n\u001b[0;32m---> 10\u001b[0;31m \u001b[0;32mwith\u001b[0m \u001b[0mopen\u001b[0m\u001b[0;34m(\u001b[0m\u001b[0;34m\"./graphs/sos.json\"\u001b[0m\u001b[0;34m)\u001b[0m \u001b[0;32mas\u001b[0m \u001b[0mdgraph\u001b[0m\u001b[0;34m:\u001b[0m\u001b[0;34m\u001b[0m\u001b[0;34m\u001b[0m\u001b[0m\n\u001b[0m\u001b[1;32m     11\u001b[0m     \u001b[0mdoc\u001b[0m \u001b[0;34m=\u001b[0m \u001b[0mjson\u001b[0m\u001b[0;34m.\u001b[0m\u001b[0mload\u001b[0m\u001b[0;34m(\u001b[0m\u001b[0mdgraph\u001b[0m\u001b[0;34m)\u001b[0m\u001b[0;34m\u001b[0m\u001b[0;34m\u001b[0m\u001b[0m\n\u001b[1;32m     12\u001b[0m \u001b[0;34m\u001b[0m\u001b[0m\n",
      "\u001b[0;31mFileNotFoundError\u001b[0m: [Errno 2] No such file or directory: './graphs/sos.json'"
     ]
    }
   ],
   "source": [
    "import json\n",
    "from pyld import jsonld\n",
    "import os, sys\n",
    "\n",
    "currentdir = os.path.dirname(os.path.abspath(''))\n",
    "parentdir = os.path.dirname(currentdir)\n",
    "sys.path.insert(0, parentdir)\n",
    "from lib import jbutils\n",
    "\n",
    "with open(\"./graphs/sos.json\") as dgraph:\n",
    "    doc = json.load(dgraph)\n",
    "\n",
    "context = {\n",
    "    \"@vocab\": \"https://schema.org/\",\n",
    "}\n",
    "\n",
    "compacted = jsonld.compact(doc, context)\n",
    "jbutils.show_graph(compacted)"
   ]
  },
  {
   "cell_type": "markdown",
   "id": "9c07915e",
   "metadata": {},
   "source": [
    "## Option review, SOS Issue 105\n",
    "\n",
    "There are several approaches to expressing spatial geometries in JSON-LD.\n",
    "While Ocean InfoHub will recommend the use of GeoSPARQL, it is worth noting that there \n",
    "are alternative and solid cases for using them\n",
    "\n",
    "One such case could be the case where your WKT geometry string are highly detailed and \n",
    "as a result quite long.  These might result in both very large JSON-LD documents that are hard to \n",
    "read and maintain.  It may also be that this imparts a performance penalty in your GeoSPARQL \n",
    "queries.  \n",
    "\n",
    "It may be tha that you simplify your WKT geometry strings to a more basic form.  Then link out\n",
    "to the detailed geometry in a separate document.   The simplified WKT (or Schema.org spatial)\n",
    "make the documents smaller and easier to read and could help query performance.  The resource\n",
    "can then point to a dereferencable URL for the detailed geometry.\n",
    "\n",
    "ref Selfie:  When linking out to complex geometries we recommend following: https://docs.ogc.org/per/20-067.html\n",
    "\n",
    "\n",
    "From the referenced SOS issue 105:\n",
    "\n",
    "```{literalinclude} ./graphs/issue105.json\n",
    ":linenos:\n",
    ":emphasize-lines: 4-6, 12,18,28,39,46\n",
    "\n",
    "```"
   ]
  },
  {
   "cell_type": "code",
   "execution_count": 3,
   "id": "f3ed03cc",
   "metadata": {
    "tags": [
     "hide-input"
    ]
   },
   "outputs": [
    {
     "ename": "FileNotFoundError",
     "evalue": "[Errno 2] No such file or directory: './graphs/issue105.json'",
     "output_type": "error",
     "traceback": [
      "\u001b[0;31m---------------------------------------------------------------------------\u001b[0m",
      "\u001b[0;31mFileNotFoundError\u001b[0m                         Traceback (most recent call last)",
      "\u001b[0;32m/tmp/ipykernel_3606463/296307218.py\u001b[0m in \u001b[0;36m<module>\u001b[0;34m\u001b[0m\n\u001b[1;32m      8\u001b[0m \u001b[0;32mfrom\u001b[0m \u001b[0mlib\u001b[0m \u001b[0;32mimport\u001b[0m \u001b[0mjbutils\u001b[0m\u001b[0;34m\u001b[0m\u001b[0;34m\u001b[0m\u001b[0m\n\u001b[1;32m      9\u001b[0m \u001b[0;34m\u001b[0m\u001b[0m\n\u001b[0;32m---> 10\u001b[0;31m \u001b[0;32mwith\u001b[0m \u001b[0mopen\u001b[0m\u001b[0;34m(\u001b[0m\u001b[0;34m\"./graphs/issue105.json\"\u001b[0m\u001b[0;34m)\u001b[0m \u001b[0;32mas\u001b[0m \u001b[0mdgraph\u001b[0m\u001b[0;34m:\u001b[0m\u001b[0;34m\u001b[0m\u001b[0;34m\u001b[0m\u001b[0m\n\u001b[0m\u001b[1;32m     11\u001b[0m     \u001b[0mdoc\u001b[0m \u001b[0;34m=\u001b[0m \u001b[0mjson\u001b[0m\u001b[0;34m.\u001b[0m\u001b[0mload\u001b[0m\u001b[0;34m(\u001b[0m\u001b[0mdgraph\u001b[0m\u001b[0;34m)\u001b[0m\u001b[0;34m\u001b[0m\u001b[0;34m\u001b[0m\u001b[0m\n\u001b[1;32m     12\u001b[0m \u001b[0;34m\u001b[0m\u001b[0m\n",
      "\u001b[0;31mFileNotFoundError\u001b[0m: [Errno 2] No such file or directory: './graphs/issue105.json'"
     ]
    }
   ],
   "source": [
    "import json\n",
    "from pyld import jsonld\n",
    "import os, sys\n",
    "\n",
    "currentdir = os.path.dirname(os.path.abspath(''))\n",
    "parentdir = os.path.dirname(currentdir)\n",
    "sys.path.insert(0, parentdir)\n",
    "from lib import jbutils\n",
    "\n",
    "with open(\"./graphs/issue105.json\") as dgraph:\n",
    "    doc = json.load(dgraph)\n",
    "\n",
    "context = {\n",
    "    \"@vocab\": \"https://schema.org/\",\n",
    "}\n",
    "\n",
    "compacted = jsonld.compact(doc, context)\n",
    "jbutils.show_graph(compacted)"
   ]
  },
  {
   "cell_type": "markdown",
   "id": "b342fffe",
   "metadata": {},
   "source": [
    "## References\n",
    "\n",
    "* [GeoAPI at GitHub](https://github.com/opengeospatial/geoapi)\n",
    "* [Science on Schema Issue 105](https://github.com/ESIPFed/science-on-schema.org/issues/105)\n",
    "  * Leverages [subjectOf](https://schema.org/subjectOf) to connect to a Thing / CreativeWork\n",
    "* [https://www.unsalb.org/](https://www.unsalb.org/)\n",
    "* [https://www.un.org/geospatial/](https://www.un.org/geospatial/)\n",
    "* [schema.org/spatial](https://schema.org/spatial)\n",
    "* [schema.org/GeospatialGeometry](https://schema.org/GeospatialGeometry)\n",
    "* SOS patern follows:\n",
    "  * [spatialCoverage](https://schema.org/spatialCoverage) -> [Place](https://schema.org/Place) -> [geo](https://schema.org/geo) -> [GeoCoordinates](https://schema.org/GeoCoordinates) OR [GeoShape](https://schema.org/GeoShape)\n",
    "* Some groups are using [GeoNode](https://geonode.org)\n",
    "  * [schema.org issues](https://github.com/GeoNode/geonode/issues?q=schema.org)\n",
    "* [ICAN & Schema.org](https://docs.google.com/document/d/1Ya7SNm0h6b04nIVMQ_M65LopxZ6_jojXzTxjfaX5Mxw/edit)\n",
    "* [OGC SELFIE](https://www.ogc.org/projects/initiatives/selfie)\n",
    "* [Think broad](https://docs.google.com/presentation/d/1HhuL73g1Bi_d86yT9VGfhvO0Xef9nKhJVwEeRYZ9k0c/edit#slide=id.ga724934615_3_0)\n",
    "* Science on Schema [spatial for dataset guidance](https://github.com/ESIPFed/science-on-schema.org/blob/master/guides/Dataset.md#spatial-coverage)"
   ]
  }
 ],
 "metadata": {
  "execution": {
   "allow_errors": true
  },
  "jupytext": {
   "formats": "md:myst",
   "text_representation": {
    "extension": ".md",
    "format_name": "myst"
   }
  },
  "kernelspec": {
   "display_name": "Python 3",
   "language": "python",
   "name": "python3"
  },
  "language_info": {
   "codemirror_mode": {
    "name": "ipython",
    "version": 3
   },
   "file_extension": ".py",
   "mimetype": "text/x-python",
   "name": "python",
   "nbconvert_exporter": "python",
   "pygments_lexer": "ipython3",
   "version": "3.10.8"
  },
  "source_map": [
   13,
   45,
   67,
   110,
   132,
   163,
   185
  ]
 },
 "nbformat": 4,
 "nbformat_minor": 5
}