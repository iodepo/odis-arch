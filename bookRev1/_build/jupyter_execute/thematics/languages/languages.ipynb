{
 "cells": [
  {
   "cell_type": "markdown",
   "id": "4cf31b1e",
   "metadata": {},
   "source": [
    "# Languages\n",
    "\n",
    "## About\n",
    "\n",
    "JSON-LD fully support the identification of the language types.\n",
    "\n",
    "Properties such as label, description, keyword etc can be \n",
    "extended in the context with a container language attribute notiation.\n",
    "\n",
    "This will allow the use of standard language codes (fr, es, en, de, etc) to\n",
    "be used when describing these properties.   A list of codes can be seen\n",
    "at the [Online Browsing Platform (OBP)](https://www.iso.org/obp/ui/#search and)\n",
    "and [Popular standards ISO 3166 Country Codes](https://www.iso.org/iso-3166-country-codes.html).\n",
    "You should use the 2-letter codes as demonstrated below.  \n",
    "\n",
    "\n",
    "```{literalinclude} ./graphs/language.json\n",
    ":linenos:\n",
    "```"
   ]
  },
  {
   "cell_type": "code",
   "execution_count": 1,
   "id": "1dc3e952",
   "metadata": {
    "tags": [
     "hide-input"
    ]
   },
   "outputs": [
    {
     "ename": "FileNotFoundError",
     "evalue": "[Errno 2] No such file or directory: './graphs/language.json'",
     "output_type": "error",
     "traceback": [
      "\u001b[0;31m---------------------------------------------------------------------------\u001b[0m",
      "\u001b[0;31mFileNotFoundError\u001b[0m                         Traceback (most recent call last)",
      "\u001b[0;32m/tmp/ipykernel_2127413/3845151411.py\u001b[0m in \u001b[0;36m<module>\u001b[0;34m\u001b[0m\n\u001b[1;32m      8\u001b[0m \u001b[0;32mfrom\u001b[0m \u001b[0mlib\u001b[0m \u001b[0;32mimport\u001b[0m \u001b[0mjbutils\u001b[0m\u001b[0;34m\u001b[0m\u001b[0;34m\u001b[0m\u001b[0m\n\u001b[1;32m      9\u001b[0m \u001b[0;34m\u001b[0m\u001b[0m\n\u001b[0;32m---> 10\u001b[0;31m \u001b[0;32mwith\u001b[0m \u001b[0mopen\u001b[0m\u001b[0;34m(\u001b[0m\u001b[0;34m\"./graphs/language.json\"\u001b[0m\u001b[0;34m)\u001b[0m \u001b[0;32mas\u001b[0m \u001b[0mdgraph\u001b[0m\u001b[0;34m:\u001b[0m\u001b[0;34m\u001b[0m\u001b[0;34m\u001b[0m\u001b[0m\n\u001b[0m\u001b[1;32m     11\u001b[0m     \u001b[0mdoc\u001b[0m \u001b[0;34m=\u001b[0m \u001b[0mjson\u001b[0m\u001b[0;34m.\u001b[0m\u001b[0mload\u001b[0m\u001b[0;34m(\u001b[0m\u001b[0mdgraph\u001b[0m\u001b[0;34m)\u001b[0m\u001b[0;34m\u001b[0m\u001b[0;34m\u001b[0m\u001b[0m\n\u001b[1;32m     12\u001b[0m \u001b[0;34m\u001b[0m\u001b[0m\n",
      "\u001b[0;31mFileNotFoundError\u001b[0m: [Errno 2] No such file or directory: './graphs/language.json'"
     ]
    }
   ],
   "source": [
    "import json\n",
    "from pyld import jsonld\n",
    "import os, sys\n",
    "\n",
    "currentdir = os.path.dirname(os.path.abspath(''))\n",
    "parentdir = os.path.dirname(currentdir)\n",
    "sys.path.insert(0, parentdir)\n",
    "from lib import jbutils\n",
    "\n",
    "with open(\"./graphs/language.json\") as dgraph:\n",
    "    doc = json.load(dgraph)\n",
    "\n",
    "context = {\n",
    "    \"@vocab\": \"https://schema.org/\",\n",
    "}\n",
    "\n",
    "compacted = jsonld.compact(doc, context)\n",
    "jbutils.show_graph(compacted)"
   ]
  },
  {
   "cell_type": "markdown",
   "id": "4ee48a65",
   "metadata": {},
   "source": [
    "In graph space the resulting triples from the above are:\n",
    "\n",
    "```\n",
    "<http://example.com/queen> <http://example.com/vocab/label> \"Die Königin\"@de .\n",
    "<http://example.com/queen> <http://example.com/vocab/label> \"Ihre Majestät\"@de .\n",
    "<http://example.com/queen> <http://example.com/vocab/label> \"The Queen\"@en .\n",
    "```\n",
    "\n",
    "with language encoding attributes in place.  These can be used in\n",
    "searching and result filters.\n",
    "\n",
    "Note, this can cause issues in query space since the concept of\n",
    "\n",
    "```\n",
    "\"Semua orang dilahirkan merdeka dan mempunyai martabat dan hak-hak yang sama. \n",
    "Mereka dikaruniai akal dan hati nurani dan hendaknya bergaul satu \n",
    "sama lain dalam semangat persaudaraan.\"\n",
    "```\n",
    "\n",
    "and\n",
    " \n",
    " ```\n",
    " \"Semua orang dilahirkan merdeka dan mempunyai martabat \n",
    " dan hak-hak yang sama. Mereka dikaruniai akal dan hati nurani \n",
    " dan hendaknya bergaul satu sama lain dalam semangat persaudaraan.\"@id\n",
    " ``` \n",
    " \n",
    "are different and so care must be taken the creation of the SPARQL \n",
    "queries not to accidentally imposed implicate filters through the use \n",
    "of language types."
   ]
  }
 ],
 "metadata": {
  "execution": {
   "allow_errors": true
  },
  "jupytext": {
   "formats": "md:myst",
   "text_representation": {
    "extension": ".md",
    "format_name": "myst"
   }
  },
  "kernelspec": {
   "display_name": "Python 3",
   "language": "python",
   "name": "python3"
  },
  "language_info": {
   "codemirror_mode": {
    "name": "ipython",
    "version": 3
   },
   "file_extension": ".py",
   "mimetype": "text/x-python",
   "name": "python",
   "nbconvert_exporter": "python",
   "pygments_lexer": "ipython3",
   "version": "3.10.8"
  },
  "source_map": [
   13,
   35,
   57
  ]
 },
 "nbformat": 4,
 "nbformat_minor": 5
}