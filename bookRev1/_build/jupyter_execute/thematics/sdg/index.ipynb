{
 "cells": [
  {
   "cell_type": "markdown",
   "id": "30400c9b",
   "metadata": {},
   "source": [
    "# Linking to documents and resources\n",
    "\n",
    "Leveraging the ability to link between resources can serve many goals.  We may\n",
    "wish to demonstrate connections between people and courses they have taken or\n",
    "or organizations they are connected with.   We may be wishing to link documents\n",
    "to people or organizations.   \n",
    "\n",
    "This section will review two key thematic profiles and some examples of how to\n",
    "express links from them to other resources.   Our goal will be different in various\n",
    "cases.  The two profiles are type CreativeWork and type Organization. \n",
    "\n",
    "In the case of _Organization our purpose may be to express alignment to various\n",
    "principles and policies_.  These might provide people with an understanding of\n",
    "the goals of an organization when they are searching for or assessing them.\n",
    "\n",
    "In the case of _CreativeWork we are looking to express connections to the\n",
    "publisher and provider of the creative work_.   This is mostly to connect these\n",
    "works with the responsible party associated with them but may also serve to\n",
    "connect to the principles they are associated with. \n",
    "\n",
    "\n",
    "\n",
    "## Organization link options\n",
    "\n",
    "In the following section we will look at three different options for expressing\n",
    "links between an organization and resources that describe the policy and \n",
    "principles of the subject organization.\n",
    "\n",
    "First we will see the full data graph.  We have highlighted the sections we \n",
    "we will review here.  Namely the subjectOF and publishingPrinciples \n",
    "predicates. \n",
    "\n",
    "\n",
    "```{literalinclude} ./graphs/org.json\n",
    ":linenos:\n",
    ":emphasize-lines: 31-53\n",
    "```"
   ]
  },
  {
   "cell_type": "code",
   "execution_count": 1,
   "id": "7919a3ad",
   "metadata": {
    "tags": [
     "hide-input"
    ]
   },
   "outputs": [
    {
     "ename": "FileNotFoundError",
     "evalue": "[Errno 2] No such file or directory: './graphs/org.json'",
     "output_type": "error",
     "traceback": [
      "\u001b[0;31m---------------------------------------------------------------------------\u001b[0m",
      "\u001b[0;31mFileNotFoundError\u001b[0m                         Traceback (most recent call last)",
      "\u001b[0;32m/tmp/ipykernel_2127467/451987433.py\u001b[0m in \u001b[0;36m<module>\u001b[0;34m\u001b[0m\n\u001b[1;32m      8\u001b[0m \u001b[0;32mfrom\u001b[0m \u001b[0mlib\u001b[0m \u001b[0;32mimport\u001b[0m \u001b[0mjbutils\u001b[0m\u001b[0;34m\u001b[0m\u001b[0;34m\u001b[0m\u001b[0m\n\u001b[1;32m      9\u001b[0m \u001b[0;34m\u001b[0m\u001b[0m\n\u001b[0;32m---> 10\u001b[0;31m \u001b[0;32mwith\u001b[0m \u001b[0mopen\u001b[0m\u001b[0;34m(\u001b[0m\u001b[0;34m\"./graphs/org.json\"\u001b[0m\u001b[0;34m)\u001b[0m \u001b[0;32mas\u001b[0m \u001b[0mdgraph\u001b[0m\u001b[0;34m:\u001b[0m\u001b[0;34m\u001b[0m\u001b[0;34m\u001b[0m\u001b[0m\n\u001b[0m\u001b[1;32m     11\u001b[0m     \u001b[0mdoc\u001b[0m \u001b[0;34m=\u001b[0m \u001b[0mjson\u001b[0m\u001b[0;34m.\u001b[0m\u001b[0mload\u001b[0m\u001b[0;34m(\u001b[0m\u001b[0mdgraph\u001b[0m\u001b[0;34m)\u001b[0m\u001b[0;34m\u001b[0m\u001b[0;34m\u001b[0m\u001b[0m\n\u001b[1;32m     12\u001b[0m \u001b[0;34m\u001b[0m\u001b[0m\n",
      "\u001b[0;31mFileNotFoundError\u001b[0m: [Errno 2] No such file or directory: './graphs/org.json'"
     ]
    }
   ],
   "source": [
    "import json\n",
    "from pyld import jsonld\n",
    "import os, sys\n",
    "\n",
    "currentdir = os.path.dirname(os.path.abspath(''))\n",
    "parentdir = os.path.dirname(currentdir)\n",
    "sys.path.insert(0, parentdir)\n",
    "from lib import jbutils\n",
    "\n",
    "with open(\"./graphs/org.json\") as dgraph:\n",
    "    doc = json.load(dgraph)\n",
    "\n",
    "context = {\n",
    "    \"@vocab\": \"https://schema.org/\",\n",
    "}\n",
    "\n",
    "compacted = jsonld.compact(doc, context)\n",
    "jbutils.show_graph(compacted)"
   ]
  },
  {
   "cell_type": "markdown",
   "id": "3f890f62",
   "metadata": {},
   "source": [
    "### subjectOf\n",
    "\n",
    "\n",
    "````{panels}\n",
    "Values expected to be one of these types\n",
    "^^^\n",
    "* [Event](https://schema.org/Event)\n",
    "* [CreativeWork](https://schema.org/CreativeWork)\n",
    "+++\n",
    "Range\n",
    "---\n",
    "\n",
    "Used on these types\n",
    "^^^\n",
    "* [Thing](https://schema.org/Thing)\n",
    "+++\n",
    "Domain\n",
    "````\n",
    "\n",
    "Lets take a look at subjectOf.  In this case we are using subjectOf to express\n",
    "a connection to a UN SDG.  This, subjectOf, could also be used to connect \n",
    "documents describing the policy and principles of an organization or additional \n",
    "metadata for a creative work.  When we look at [subjectOf](https://schema.org/subjectOf)\n",
    "we can see we are allowed are allowed to use it on any type Thing, but must point\n",
    "to a CreativeWork or Event.  \n",
    "\n",
    "\n",
    "```{note}\n",
    "Recall that in the case of OIH types, the type CourseInstance or EducationEvent are both\n",
    "subtype of Event.  Given that we can use subjectOf to connect a Thing to these types\n",
    "as well.  Also, Course is a subtype of CreativeWork, so we are good there too in the \n",
    "context of the range of subjectOf.   Reference thematic type [Training](../training/README.md)\n",
    "```"
   ]
  },
  {
   "cell_type": "code",
   "execution_count": 2,
   "id": "413129a8",
   "metadata": {
    "tags": [
     "hide-input"
    ]
   },
   "outputs": [
    {
     "ename": "FileNotFoundError",
     "evalue": "[Errno 2] No such file or directory: './graphs/org.json'",
     "output_type": "error",
     "traceback": [
      "\u001b[0;31m---------------------------------------------------------------------------\u001b[0m",
      "\u001b[0;31mFileNotFoundError\u001b[0m                         Traceback (most recent call last)",
      "\u001b[0;32m/tmp/ipykernel_2127467/2520452864.py\u001b[0m in \u001b[0;36m<module>\u001b[0;34m\u001b[0m\n\u001b[1;32m     11\u001b[0m \u001b[0;32mfrom\u001b[0m \u001b[0mlib\u001b[0m \u001b[0;32mimport\u001b[0m \u001b[0mjbutils\u001b[0m\u001b[0;34m\u001b[0m\u001b[0;34m\u001b[0m\u001b[0m\n\u001b[1;32m     12\u001b[0m \u001b[0;34m\u001b[0m\u001b[0m\n\u001b[0;32m---> 13\u001b[0;31m \u001b[0;32mwith\u001b[0m \u001b[0mopen\u001b[0m\u001b[0;34m(\u001b[0m\u001b[0;34m\"./graphs/org.json\"\u001b[0m\u001b[0;34m)\u001b[0m \u001b[0;32mas\u001b[0m \u001b[0mdgraph\u001b[0m\u001b[0;34m:\u001b[0m\u001b[0;34m\u001b[0m\u001b[0;34m\u001b[0m\u001b[0m\n\u001b[0m\u001b[1;32m     14\u001b[0m     \u001b[0mdoc\u001b[0m \u001b[0;34m=\u001b[0m \u001b[0mjson\u001b[0m\u001b[0;34m.\u001b[0m\u001b[0mload\u001b[0m\u001b[0;34m(\u001b[0m\u001b[0mdgraph\u001b[0m\u001b[0;34m)\u001b[0m\u001b[0;34m\u001b[0m\u001b[0;34m\u001b[0m\u001b[0m\n\u001b[1;32m     15\u001b[0m \u001b[0;34m\u001b[0m\u001b[0m\n",
      "\u001b[0;31mFileNotFoundError\u001b[0m: [Errno 2] No such file or directory: './graphs/org.json'"
     ]
    }
   ],
   "source": [
    "import json\n",
    "from rdflib.extras.external_graph_libs import rdflib_to_networkx_multidigraph\n",
    "from rdflib.extras.external_graph_libs import rdflib_to_networkx_graph\n",
    "from pyld import jsonld\n",
    "import graphviz\n",
    "import os, sys\n",
    "\n",
    "currentdir = os.path.dirname(os.path.abspath(''))\n",
    "parentdir = os.path.dirname(currentdir)\n",
    "sys.path.insert(0, parentdir)\n",
    "from lib import jbutils\n",
    "\n",
    "with open(\"./graphs/org.json\") as dgraph:\n",
    "    doc = json.load(dgraph)\n",
    "\n",
    "frame = {\n",
    "  \"@context\": {\"@vocab\": \"https://schema.org/\"},\n",
    "  \"@explicit\": \"true\",\n",
    "  \"@requireAll\": \"true\",\n",
    "  \"@type\":     \"Organization\",\n",
    "  \"subjectOf\": \"\"\n",
    "}\n",
    "\n",
    "context = {\n",
    "    \"@vocab\": \"https://schema.org/\",\n",
    "}\n",
    "\n",
    "compacted = jsonld.compact(doc, context)\n",
    "\n",
    "framed = jsonld.frame(compacted, frame)\n",
    "jd = json.dumps(framed, indent=4)\n",
    "print(jd)\n",
    "\n",
    "jbutils.show_graph(framed)"
   ]
  },
  {
   "cell_type": "markdown",
   "id": "498a6f2f",
   "metadata": {},
   "source": [
    "### publishingPrinciples\n",
    "\n",
    "````{panels}\n",
    "Values expected to be one of these types\n",
    "^^^\n",
    "* [CreativeWork](https://schema.org/CreativeWork)\n",
    "* [URL](https://schema.org/URL)\n",
    "+++\n",
    "Range\n",
    "---\n",
    "\n",
    "Used on these types\n",
    "^^^\n",
    "* [CreativeWork](https://schema.org/CreativeWork)\n",
    "* [Organization](https://schema.org/Organization)\n",
    "* [Person](https://schema.org/Person)\n",
    "+++\n",
    "Domain\n",
    "````\n",
    "\n",
    "Lets take a look at [publishingPrinciples](https://schema.org/publishingPrinciples).  This can be used \n",
    "to connect CreativeWork, Organization, or Person to either of CreativeWork or URL.  So this \n",
    "allows us to link a CreativeWork to a policy or principle statement.  This has some very useful\n",
    "use cases where resources can be grouped based on their connection to those principles and policies."
   ]
  },
  {
   "cell_type": "code",
   "execution_count": 3,
   "id": "b9d55a77",
   "metadata": {
    "tags": [
     "hide-input"
    ]
   },
   "outputs": [
    {
     "ename": "FileNotFoundError",
     "evalue": "[Errno 2] No such file or directory: './graphs/org.json'",
     "output_type": "error",
     "traceback": [
      "\u001b[0;31m---------------------------------------------------------------------------\u001b[0m",
      "\u001b[0;31mFileNotFoundError\u001b[0m                         Traceback (most recent call last)",
      "\u001b[0;32m/tmp/ipykernel_2127467/2263592434.py\u001b[0m in \u001b[0;36m<module>\u001b[0;34m\u001b[0m\n\u001b[1;32m     11\u001b[0m \u001b[0;32mfrom\u001b[0m \u001b[0mlib\u001b[0m \u001b[0;32mimport\u001b[0m \u001b[0mjbutils\u001b[0m\u001b[0;34m\u001b[0m\u001b[0;34m\u001b[0m\u001b[0m\n\u001b[1;32m     12\u001b[0m \u001b[0;34m\u001b[0m\u001b[0m\n\u001b[0;32m---> 13\u001b[0;31m \u001b[0;32mwith\u001b[0m \u001b[0mopen\u001b[0m\u001b[0;34m(\u001b[0m\u001b[0;34m\"./graphs/org.json\"\u001b[0m\u001b[0;34m)\u001b[0m \u001b[0;32mas\u001b[0m \u001b[0mdgraph\u001b[0m\u001b[0;34m:\u001b[0m\u001b[0;34m\u001b[0m\u001b[0;34m\u001b[0m\u001b[0m\n\u001b[0m\u001b[1;32m     14\u001b[0m     \u001b[0mdoc\u001b[0m \u001b[0;34m=\u001b[0m \u001b[0mjson\u001b[0m\u001b[0;34m.\u001b[0m\u001b[0mload\u001b[0m\u001b[0;34m(\u001b[0m\u001b[0mdgraph\u001b[0m\u001b[0;34m)\u001b[0m\u001b[0;34m\u001b[0m\u001b[0;34m\u001b[0m\u001b[0m\n\u001b[1;32m     15\u001b[0m \u001b[0;34m\u001b[0m\u001b[0m\n",
      "\u001b[0;31mFileNotFoundError\u001b[0m: [Errno 2] No such file or directory: './graphs/org.json'"
     ]
    }
   ],
   "source": [
    "import json\n",
    "from rdflib.extras.external_graph_libs import rdflib_to_networkx_multidigraph\n",
    "from rdflib.extras.external_graph_libs import rdflib_to_networkx_graph\n",
    "from pyld import jsonld\n",
    "import graphviz\n",
    "import os, sys\n",
    "\n",
    "currentdir = os.path.dirname(os.path.abspath(''))\n",
    "parentdir = os.path.dirname(currentdir)\n",
    "sys.path.insert(0, parentdir)\n",
    "from lib import jbutils\n",
    "\n",
    "with open(\"./graphs/org.json\") as dgraph:\n",
    "    doc = json.load(dgraph)\n",
    "\n",
    "frame = {\n",
    "  \"@context\": {\"@vocab\": \"https://schema.org/\"},\n",
    "  \"@explicit\": \"true\",\n",
    "  \"@requireAll\": \"true\",\n",
    "  \"@type\":     \"Organization\",\n",
    "  \"publishingPrinciples\": \"\"\n",
    "}\n",
    "\n",
    "context = {\n",
    "    \"@vocab\": \"https://schema.org/\",\n",
    "}\n",
    "\n",
    "compacted = jsonld.compact(doc, context)\n",
    "\n",
    "framed = jsonld.frame(compacted, frame)\n",
    "jd = json.dumps(framed, indent=4)\n",
    "print(jd)\n",
    "\n",
    "jbutils.show_graph(framed)"
   ]
  },
  {
   "cell_type": "markdown",
   "id": "637ee2b6",
   "metadata": {},
   "source": [
    "## Sustainable Development Goals\n",
    "\n",
    "\n",
    "The following example provides an an approach to connecting \n",
    "Sustainable Development Goals \n",
    "(SDGs) could be linked to via [subjectOf](https://schema.org/subjectOf).  \n",
    "\n",
    "Other potential links could be made to things such \n",
    "as the [UNDRR-ISC Hazard Definition & Classification](https://www.undrr.org/publication/hazard-information-profiles-supplement-undrr-isc-hazard-definition-classification)\n",
    "\n",
    "As this is a CreateWork, we can now use one more linking property, the \n",
    "Schema.org citation property.  By comparison, the \n",
    "[publishingPrinciples](https://schema.org/publishingPrinciples) or \n",
    "[subjectOf](https://schema.org/subjectOf) \n",
    "connections carry a bit more semantic meaning. \n",
    "\n",
    "```{literalinclude} ./graphs/doc.json\n",
    ":linenos:\n",
    ":emphasize-lines: 14-20\n",
    "\n",
    "```"
   ]
  },
  {
   "cell_type": "code",
   "execution_count": 4,
   "id": "92cacbee",
   "metadata": {
    "tags": [
     "hide-input"
    ]
   },
   "outputs": [
    {
     "ename": "FileNotFoundError",
     "evalue": "[Errno 2] No such file or directory: './graphs/doc.json'",
     "output_type": "error",
     "traceback": [
      "\u001b[0;31m---------------------------------------------------------------------------\u001b[0m",
      "\u001b[0;31mFileNotFoundError\u001b[0m                         Traceback (most recent call last)",
      "\u001b[0;32m/tmp/ipykernel_2127467/2957463720.py\u001b[0m in \u001b[0;36m<module>\u001b[0;34m\u001b[0m\n\u001b[1;32m      8\u001b[0m \u001b[0;32mfrom\u001b[0m \u001b[0mlib\u001b[0m \u001b[0;32mimport\u001b[0m \u001b[0mjbutils\u001b[0m\u001b[0;34m\u001b[0m\u001b[0;34m\u001b[0m\u001b[0m\n\u001b[1;32m      9\u001b[0m \u001b[0;34m\u001b[0m\u001b[0m\n\u001b[0;32m---> 10\u001b[0;31m \u001b[0;32mwith\u001b[0m \u001b[0mopen\u001b[0m\u001b[0;34m(\u001b[0m\u001b[0;34m\"./graphs/doc.json\"\u001b[0m\u001b[0;34m)\u001b[0m \u001b[0;32mas\u001b[0m \u001b[0mdgraph\u001b[0m\u001b[0;34m:\u001b[0m\u001b[0;34m\u001b[0m\u001b[0;34m\u001b[0m\u001b[0m\n\u001b[0m\u001b[1;32m     11\u001b[0m     \u001b[0mdoc\u001b[0m \u001b[0;34m=\u001b[0m \u001b[0mjson\u001b[0m\u001b[0;34m.\u001b[0m\u001b[0mload\u001b[0m\u001b[0;34m(\u001b[0m\u001b[0mdgraph\u001b[0m\u001b[0;34m)\u001b[0m\u001b[0;34m\u001b[0m\u001b[0;34m\u001b[0m\u001b[0m\n\u001b[1;32m     12\u001b[0m \u001b[0;34m\u001b[0m\u001b[0m\n",
      "\u001b[0;31mFileNotFoundError\u001b[0m: [Errno 2] No such file or directory: './graphs/doc.json'"
     ]
    }
   ],
   "source": [
    "import json\n",
    "from pyld import jsonld\n",
    "import os, sys\n",
    "\n",
    "currentdir = os.path.dirname(os.path.abspath(''))\n",
    "parentdir = os.path.dirname(currentdir)\n",
    "sys.path.insert(0, parentdir)\n",
    "from lib import jbutils\n",
    "\n",
    "with open(\"./graphs/doc.json\") as dgraph:\n",
    "    doc = json.load(dgraph)\n",
    "\n",
    "context = {\n",
    "    \"@vocab\": \"https://schema.org/\",\n",
    "}\n",
    "\n",
    "compacted = jsonld.compact(doc, context)\n",
    "jbutils.show_graph(compacted)"
   ]
  },
  {
   "cell_type": "markdown",
   "id": "2f2478dd",
   "metadata": {},
   "source": [
    "### citation\n",
    "\n",
    "````{panels}\n",
    "Values expected to be one of these types\n",
    "^^^\n",
    "* [Text](https://schema.org/Text)\n",
    "* [CreativeWork](https://schema.org/CreativeWork)\n",
    "+++\n",
    "Range\n",
    "---\n",
    "\n",
    "Used on these types\n",
    "^^^\n",
    "* [CreativeWork](https://schema.org/CreativeWork)\n",
    "+++\n",
    "Domain\n",
    "````\n",
    "\n",
    "Schema.org [citation](https://schema.org/citation) provides a way to link to another creative work.\n",
    "This property can be pointed to either Text or CreativeWork.  It should also be noted that citation \n",
    "can only be used on type [CreativeWork](https://schema.org/CreativeWork).  \n",
    "\n",
    "Due to the limit to use on CreateWork only, this example is not seen in the \n",
    "above examplewhich is of type Organization.  \n",
    "\n",
    "The actual semantics of citation is rather vague stating it is a method to \n",
    "cite or reference another creative work."
   ]
  },
  {
   "cell_type": "code",
   "execution_count": 5,
   "id": "8b7e75e2",
   "metadata": {
    "tags": [
     "hide-input"
    ]
   },
   "outputs": [
    {
     "ename": "FileNotFoundError",
     "evalue": "[Errno 2] No such file or directory: './graphs/doc.json'",
     "output_type": "error",
     "traceback": [
      "\u001b[0;31m---------------------------------------------------------------------------\u001b[0m",
      "\u001b[0;31mFileNotFoundError\u001b[0m                         Traceback (most recent call last)",
      "\u001b[0;32m/tmp/ipykernel_2127467/730609211.py\u001b[0m in \u001b[0;36m<module>\u001b[0;34m\u001b[0m\n\u001b[1;32m     11\u001b[0m \u001b[0;32mfrom\u001b[0m \u001b[0mlib\u001b[0m \u001b[0;32mimport\u001b[0m \u001b[0mjbutils\u001b[0m\u001b[0;34m\u001b[0m\u001b[0;34m\u001b[0m\u001b[0m\n\u001b[1;32m     12\u001b[0m \u001b[0;34m\u001b[0m\u001b[0m\n\u001b[0;32m---> 13\u001b[0;31m \u001b[0;32mwith\u001b[0m \u001b[0mopen\u001b[0m\u001b[0;34m(\u001b[0m\u001b[0;34m\"./graphs/doc.json\"\u001b[0m\u001b[0;34m)\u001b[0m \u001b[0;32mas\u001b[0m \u001b[0mdgraph\u001b[0m\u001b[0;34m:\u001b[0m\u001b[0;34m\u001b[0m\u001b[0;34m\u001b[0m\u001b[0m\n\u001b[0m\u001b[1;32m     14\u001b[0m     \u001b[0mdoc\u001b[0m \u001b[0;34m=\u001b[0m \u001b[0mjson\u001b[0m\u001b[0;34m.\u001b[0m\u001b[0mload\u001b[0m\u001b[0;34m(\u001b[0m\u001b[0mdgraph\u001b[0m\u001b[0;34m)\u001b[0m\u001b[0;34m\u001b[0m\u001b[0;34m\u001b[0m\u001b[0m\n\u001b[1;32m     15\u001b[0m \u001b[0;34m\u001b[0m\u001b[0m\n",
      "\u001b[0;31mFileNotFoundError\u001b[0m: [Errno 2] No such file or directory: './graphs/doc.json'"
     ]
    }
   ],
   "source": [
    "import json\n",
    "from rdflib.extras.external_graph_libs import rdflib_to_networkx_multidigraph\n",
    "from rdflib.extras.external_graph_libs import rdflib_to_networkx_graph\n",
    "from pyld import jsonld\n",
    "import graphviz\n",
    "import os, sys\n",
    "\n",
    "currentdir = os.path.dirname(os.path.abspath(''))\n",
    "parentdir = os.path.dirname(currentdir)\n",
    "sys.path.insert(0, parentdir)\n",
    "from lib import jbutils\n",
    "\n",
    "with open(\"./graphs/doc.json\") as dgraph:\n",
    "    doc = json.load(dgraph)\n",
    "\n",
    "frame = {\n",
    "  \"@context\": {\"@vocab\": \"https://schema.org/\"},\n",
    "  \"@explicit\": \"true\",\n",
    "  \"@requireAll\": \"true\",\n",
    "  \"@type\":     \"CreativeWork\",\n",
    "  \"citation\": \"\"\n",
    "}\n",
    "\n",
    "context = {\n",
    "    \"@vocab\": \"https://schema.org/\",\n",
    "}\n",
    "\n",
    "compacted = jsonld.compact(doc, context)\n",
    "\n",
    "framed = jsonld.frame(compacted, frame)\n",
    "jd = json.dumps(framed, indent=4)\n",
    "print(jd)\n",
    "\n",
    "jbutils.show_graph(framed)"
   ]
  },
  {
   "cell_type": "markdown",
   "id": "5f5c3758",
   "metadata": {},
   "source": [
    "## Refs\n",
    "\n",
    "* [SDGs](http://www.ontobee.org/ontology/SDGIO?iri=http://purl.unep.org/sdg/SDGIO_00000000_)\n",
    "* [SDG targets](http://www.ontobee.org/ontology/SDGIO?iri=http://purl.unep.org/sdg/SDGIO_00000001)\n",
    "* [SDG indicators](http://www.ontobee.org/ontology/SDGIO?iri=http%3A%2F%2Fpurl.unep.org%2Fsdg%2FSDGIO_00000003)"
   ]
  }
 ],
 "metadata": {
  "execution": {
   "allow_errors": true
  },
  "jupytext": {
   "formats": "md:myst",
   "text_representation": {
    "extension": ".md",
    "format_name": "myst"
   }
  },
  "kernelspec": {
   "display_name": "Python 3",
   "language": "python",
   "name": "python3"
  },
  "language_info": {
   "codemirror_mode": {
    "name": "ipython",
    "version": 3
   },
   "file_extension": ".py",
   "mimetype": "text/x-python",
   "name": "python",
   "nbconvert_exporter": "python",
   "pygments_lexer": "ipython3",
   "version": "3.10.8"
  },
  "source_map": [
   13,
   52,
   74,
   111,
   149,
   178,
   216,
   240,
   262,
   292,
   330
  ]
 },
 "nbformat": 4,
 "nbformat_minor": 5
}