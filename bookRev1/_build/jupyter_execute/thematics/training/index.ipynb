{
 "cells": [
  {
   "cell_type": "markdown",
   "id": "8e012eec",
   "metadata": {},
   "source": [
    "# Training\n",
    "\n",
    "## About\n",
    "\n",
    "A thematic type to describe potential training activities.  In Schema.org a Course\n",
    "is a subtype of [CreativeWork](https://schema.org/CreativeWork) and [LearningResource](https://schema.org/LearningResource).\n",
    "\n",
    "As defined from [https://schema.org/Course](https://schema.org/Course):\n",
    "\n",
    "> Course: A description of an educational course which may be offered as distinct\n",
    "> instances at which take place at different times or take place at different\n",
    "> locations, or be offered through different media or modes of study. An\n",
    "> educational course is a sequence of one or more educational events and/or\n",
    "> creative works which aims to build knowledge, competence or ability of learners.\n",
    "\n",
    "We can start by looking at a basic Course description.  \n",
    "\n",
    "## Simple Course\n",
    "\n",
    "A basic course might simply present the name and description of the course along \n",
    "with a few other key properties. \n",
    "\n",
    "```{literalinclude} ./graphs/course2.json\n",
    ":linenos:\n",
    ":emphasize-lines: 7, 10-15\n",
    "\n",
    "```"
   ]
  },
  {
   "cell_type": "code",
   "execution_count": 1,
   "id": "002b2122",
   "metadata": {
    "tags": [
     "hide-input"
    ]
   },
   "outputs": [
    {
     "ename": "FileNotFoundError",
     "evalue": "[Errno 2] No such file or directory: './graphs/course2.json'",
     "output_type": "error",
     "traceback": [
      "\u001b[0;31m---------------------------------------------------------------------------\u001b[0m",
      "\u001b[0;31mFileNotFoundError\u001b[0m                         Traceback (most recent call last)",
      "\u001b[0;32m/tmp/ipykernel_2121336/3647673430.py\u001b[0m in \u001b[0;36m<module>\u001b[0;34m\u001b[0m\n\u001b[1;32m      8\u001b[0m \u001b[0;32mfrom\u001b[0m \u001b[0mlib\u001b[0m \u001b[0;32mimport\u001b[0m \u001b[0mjbutils\u001b[0m\u001b[0;34m\u001b[0m\u001b[0;34m\u001b[0m\u001b[0m\n\u001b[1;32m      9\u001b[0m \u001b[0;34m\u001b[0m\u001b[0m\n\u001b[0;32m---> 10\u001b[0;31m \u001b[0;32mwith\u001b[0m \u001b[0mopen\u001b[0m\u001b[0;34m(\u001b[0m\u001b[0;34m\"./graphs/course2.json\"\u001b[0m\u001b[0;34m)\u001b[0m \u001b[0;32mas\u001b[0m \u001b[0mdgraph\u001b[0m\u001b[0;34m:\u001b[0m\u001b[0;34m\u001b[0m\u001b[0;34m\u001b[0m\u001b[0m\n\u001b[0m\u001b[1;32m     11\u001b[0m     \u001b[0mdoc\u001b[0m \u001b[0;34m=\u001b[0m \u001b[0mjson\u001b[0m\u001b[0;34m.\u001b[0m\u001b[0mload\u001b[0m\u001b[0;34m(\u001b[0m\u001b[0mdgraph\u001b[0m\u001b[0;34m)\u001b[0m\u001b[0;34m\u001b[0m\u001b[0;34m\u001b[0m\u001b[0m\n\u001b[1;32m     12\u001b[0m \u001b[0;34m\u001b[0m\u001b[0m\n",
      "\u001b[0;31mFileNotFoundError\u001b[0m: [Errno 2] No such file or directory: './graphs/course2.json'"
     ]
    }
   ],
   "source": [
    "import json\n",
    "from pyld import jsonld\n",
    "import os, sys\n",
    "\n",
    "currentdir = os.path.dirname(os.path.abspath(''))\n",
    "parentdir = os.path.dirname(currentdir)\n",
    "sys.path.insert(0, parentdir)\n",
    "from lib import jbutils\n",
    "\n",
    "with open(\"./graphs/course2.json\") as dgraph:\n",
    "    doc = json.load(dgraph)\n",
    "\n",
    "context = {\n",
    "    \"@vocab\": \"https://schema.org/\",\n",
    "}\n",
    "\n",
    "compacted = jsonld.compact(doc, context)\n",
    "jbutils.show_graph(compacted)"
   ]
  },
  {
   "cell_type": "markdown",
   "id": "09e24f56",
   "metadata": {},
   "source": [
    "Here we can see the emphasized line 7 and lines 10-15 highlighting some\n",
    "unique types.\n",
    "\n",
    "_courseCode_:\n",
    "The [courseCode](https://schema.org/courseCode) is used to provide the ID used by the provider for this course. \n",
    "\n",
    "_provider_:\n",
    "The [provider](https://schema.org/provider) is the organization offering the course.\n",
    "This property is from the CreativeWork supertype.  In this case the provider may\n",
    "be of type Organization or Person.  For Ocean InfoHub these would be described in \n",
    "the [Experts and Institutions](../expinst/README.md) section.\n",
    "\n",
    "```{note}\n",
    "In this case you can see we use a simple @id in the provider property.  You can \n",
    "see this same @id used in the  [Experts and Institutions](../expinst/README.md) section.\n",
    "By doing this, we connect this provider to the Organization described by that document.\n",
    "\n",
    "As such these will be connected in the graph.  So there is no need to duplicate \n",
    "the information here.  This is a common graph pattern that allows us to simply \n",
    "connect resources.   If there was no existing Organization or Person resource you could\n",
    "simply create one here.   However, you may also find it useful to create a given \n",
    "resource and link to it in the graph. \n",
    "```\n",
    "\n",
    "## Detailed Course\n",
    "\n",
    "There are a wide range of properties that can be used to describe a course. \n",
    "Many of these can be seen at the [Course](https://schema.org/Course) type as\n",
    "the properties from Course and properties\n",
    "from [LearningResource](https://schema.org/LearningResource).\n",
    "\n",
    "We wont go into the details of each property here, but we will show a couple.\n",
    "\n",
    "The example below present two.  \n",
    "\n",
    "```{literalinclude} ./graphs/course1.json\n",
    ":linenos:\n",
    ":emphasize-lines: 4-9, 16, 23-56\n",
    "\n",
    "```"
   ]
  },
  {
   "cell_type": "code",
   "execution_count": 2,
   "id": "9370e943",
   "metadata": {
    "tags": [
     "hide-input"
    ]
   },
   "outputs": [
    {
     "ename": "FileNotFoundError",
     "evalue": "[Errno 2] No such file or directory: './graphs/course1.json'",
     "output_type": "error",
     "traceback": [
      "\u001b[0;31m---------------------------------------------------------------------------\u001b[0m",
      "\u001b[0;31mFileNotFoundError\u001b[0m                         Traceback (most recent call last)",
      "\u001b[0;32m/tmp/ipykernel_2121336/854608498.py\u001b[0m in \u001b[0;36m<module>\u001b[0;34m\u001b[0m\n\u001b[1;32m      8\u001b[0m \u001b[0;32mfrom\u001b[0m \u001b[0mlib\u001b[0m \u001b[0;32mimport\u001b[0m \u001b[0mjbutils\u001b[0m\u001b[0;34m\u001b[0m\u001b[0;34m\u001b[0m\u001b[0m\n\u001b[1;32m      9\u001b[0m \u001b[0;34m\u001b[0m\u001b[0m\n\u001b[0;32m---> 10\u001b[0;31m \u001b[0;32mwith\u001b[0m \u001b[0mopen\u001b[0m\u001b[0;34m(\u001b[0m\u001b[0;34m\"./graphs/course1.json\"\u001b[0m\u001b[0;34m)\u001b[0m \u001b[0;32mas\u001b[0m \u001b[0mdgraph\u001b[0m\u001b[0;34m:\u001b[0m\u001b[0;34m\u001b[0m\u001b[0;34m\u001b[0m\u001b[0m\n\u001b[0m\u001b[1;32m     11\u001b[0m     \u001b[0mdoc\u001b[0m \u001b[0;34m=\u001b[0m \u001b[0mjson\u001b[0m\u001b[0;34m.\u001b[0m\u001b[0mload\u001b[0m\u001b[0;34m(\u001b[0m\u001b[0mdgraph\u001b[0m\u001b[0;34m)\u001b[0m\u001b[0;34m\u001b[0m\u001b[0;34m\u001b[0m\u001b[0m\n\u001b[1;32m     12\u001b[0m \u001b[0;34m\u001b[0m\u001b[0m\n",
      "\u001b[0;31mFileNotFoundError\u001b[0m: [Errno 2] No such file or directory: './graphs/course1.json'"
     ]
    }
   ],
   "source": [
    "import json\n",
    "from pyld import jsonld\n",
    "import os, sys\n",
    "\n",
    "currentdir = os.path.dirname(os.path.abspath(''))\n",
    "parentdir = os.path.dirname(currentdir)\n",
    "sys.path.insert(0, parentdir)\n",
    "from lib import jbutils\n",
    "\n",
    "with open(\"./graphs/course1.json\") as dgraph:\n",
    "    doc = json.load(dgraph)\n",
    "\n",
    "context = {\n",
    "    \"@vocab\": \"https://schema.org/\",\n",
    "}\n",
    "\n",
    "compacted = jsonld.compact(doc, context)\n",
    "jbutils.show_graph(compacted)"
   ]
  },
  {
   "cell_type": "markdown",
   "id": "f5a5acd9",
   "metadata": {},
   "source": [
    "Line 16 shows the [_teaches_](https://schema.org/teaches) property.  It \n",
    "should be noted while this propery can point to simple text, it is \n",
    "also possible to leverage [DefinedTerm](https://schema.org/DefinedTerm).  This \n",
    "means a controlled vocabulary can be used to describe what the course \n",
    "teaches.  Ocean InfoHub provides some more information and links to further\n",
    "information on defined term in\n",
    "the [Keywords and Defined Terms](../terms/list.md) section. \n",
    "\n",
    "Lines 23-56 show using a [hasCourseInstance](https://schema.org/hasCourseInstance)\n",
    "property to show instances where this course is being taught.  Also of note\n",
    "in this example are the lines 4-9 in the context where we can type the\n",
    "endDate and startDate as type dateTime.  By doing this we must provide the\n",
    "dates in a format that is in line with the [XML Datatype] and in particular the\n",
    "[ISO 8601 Data and Time Formats](https://www.w3.org/TR/xmlschema-2/#isoformats).\n",
    "\n",
    "By doing this we can then later conduct searches on the graph that use date ranges\n",
    "to allow us to find courses, or any resources, that are being taught in a\n",
    "given time period.\n",
    "\n",
    "## References\n",
    "\n",
    "* [RDA Education and Training on handling of research data IG\n",
    "](https://www.rd-alliance.org/groups/education-and-training-handling-research-data.html)\n",
    "* [DC Tabular Application Profiles (DC TAP) - Primer](https://www.dublincore.org/groups/application_profiles_ig/dctap_primer/)\n",
    "* https://www.w3.org/TR/xmlschema11-2/\n",
    "  * Use YYYY-MM-DDThh:mm:ss or YYYY-MM-DD\n",
    "* [http://www.marinetraining.eu/](http://www.marinetraining.eu/)\n",
    "  * [Example page](http://www.marinetraining.eu/node/1001)\n",
    "* [https://oceanexpert.org/](https://oceanexpert.org/)\n",
    "* [Example page](https://oceanexpert.org/event/2859)\n",
    "* [OCTO](https://www.octogroup.org/)\n",
    "* https://oceansummerschools.iode.org/ \n",
    "* https://octogroup.org/webinars/\n",
    "* https://catalogue.odis.org/search/type=16 \n",
    "* https://clmeplus.org/"
   ]
  }
 ],
 "metadata": {
  "execution": {
   "allow_errors": true
  },
  "jupytext": {
   "formats": "md:myst",
   "text_representation": {
    "extension": ".md",
    "format_name": "myst"
   }
  },
  "kernelspec": {
   "display_name": "Python 3",
   "language": "python",
   "name": "python3"
  },
  "language_info": {
   "codemirror_mode": {
    "name": "ipython",
    "version": 3
   },
   "file_extension": ".py",
   "mimetype": "text/x-python",
   "name": "python",
   "nbconvert_exporter": "python",
   "pygments_lexer": "ipython3",
   "version": "3.10.8"
  },
  "source_map": [
   13,
   43,
   65,
   108,
   130
  ]
 },
 "nbformat": 4,
 "nbformat_minor": 5
}