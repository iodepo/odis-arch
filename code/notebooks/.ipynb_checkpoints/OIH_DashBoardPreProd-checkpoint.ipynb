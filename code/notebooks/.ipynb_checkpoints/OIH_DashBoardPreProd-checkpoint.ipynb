{
 "cells": [
  {
   "cell_type": "markdown",
   "metadata": {
    "tags": []
   },
   "source": [
    "# OIH Dashboard pre-processor\n",
    "\n",
    "This notebook demonstrates some approachs for processing the release graphs into a format that\n",
    "is useful for the Dashboard UI\n"
   ]
  },
  {
   "cell_type": "code",
   "execution_count": 1,
   "metadata": {
    "ExecuteTime": {
     "end_time": "2023-05-27T15:59:52.839126469Z",
     "start_time": "2023-05-27T15:59:52.762876485Z"
    },
    "collapsed": false,
    "jupyter": {
     "outputs_hidden": false
    },
    "tags": []
   },
   "outputs": [],
   "source": [
    "import warnings\n",
    "warnings.simplefilter(action='ignore', category=FutureWarning)  ## remove pandas future warning\n",
    "\n",
    "import s3fs\n",
    "import kglab\n",
    "from minio import Minio\n",
    "import rdflib\n",
    "from rdflib import ConjunctiveGraph  #  needed for nquads"
   ]
  },
  {
   "cell_type": "code",
   "execution_count": 2,
   "metadata": {
    "ExecuteTime": {
     "end_time": "2023-05-27T15:59:23.828998490Z",
     "start_time": "2023-05-27T15:59:23.822531025Z"
    },
    "collapsed": false,
    "jupyter": {
     "outputs_hidden": false
    },
    "tags": []
   },
   "outputs": [],
   "source": [
    "def publicurls(client, bucket, prefix):\n",
    "    urls = []\n",
    "    objects = client.list_objects(bucket, prefix=prefix, recursive=True)\n",
    "    for obj in objects:\n",
    "        result = client.stat_object(bucket, obj.object_name)\n",
    "\n",
    "        if result.size > 0:  #  how to tell if an objet   obj.is_public  ?????\n",
    "            url = client.presigned_get_object(bucket, obj.object_name)\n",
    "            # print(f\"Public URL for object: {url}\")\n",
    "            urls.append(url)\n",
    "\n",
    "    return urls"
   ]
  },
  {
   "cell_type": "code",
   "execution_count": 3,
   "metadata": {
    "ExecuteTime": {
     "end_time": "2023-05-27T15:59:24.200637827Z",
     "start_time": "2023-05-27T15:59:24.197586038Z"
    },
    "tags": []
   },
   "outputs": [
    {
     "name": "stdout",
     "output_type": "stream",
     "text": [
      "0\n"
     ]
    }
   ],
   "source": [
    "# Check for using GPU, in case you want to ensure your GPU is used\n",
    "gc = kglab.get_gpu_count()\n",
    "print(gc)"
   ]
  },
  {
   "cell_type": "code",
   "execution_count": 4,
   "metadata": {
    "ExecuteTime": {
     "end_time": "2023-05-27T15:59:24.570250311Z",
     "start_time": "2023-05-27T15:59:24.564440963Z"
    },
    "collapsed": false,
    "jupyter": {
     "outputs_hidden": false
    },
    "tags": []
   },
   "outputs": [],
   "source": [
    "client = Minio(\"ossapi.oceaninfohub.org:80\",  secure=False) # Create client with anonymous access.\n",
    "urls = publicurls(client, \"public\", \"graph\")"
   ]
  },
  {
   "cell_type": "code",
   "execution_count": 5,
   "metadata": {
    "ExecuteTime": {
     "end_time": "2023-05-27T15:59:24.792955288Z",
     "start_time": "2023-05-27T15:59:24.789720358Z"
    },
    "collapsed": false,
    "jupyter": {
     "outputs_hidden": false
    },
    "tags": []
   },
   "outputs": [
    {
     "name": "stdout",
     "output_type": "stream",
     "text": [
      "['http://ossapi.oceaninfohub.org/public/graphs/summonedafricaioc_v1_release.nq', 'http://ossapi.oceaninfohub.org/public/graphs/summonedaquadocs_v1_release.nq', 'http://ossapi.oceaninfohub.org/public/graphs/summonedcioos_v1_release.nq', 'http://ossapi.oceaninfohub.org/public/graphs/summonededmerp_v1_release.nq', 'http://ossapi.oceaninfohub.org/public/graphs/summonededmo_v1_release.nq', 'http://ossapi.oceaninfohub.org/public/graphs/summonedemodnet_v1_release.nq', 'http://ossapi.oceaninfohub.org/public/graphs/summonedinanodc_v1_release.nq', 'http://ossapi.oceaninfohub.org/public/graphs/summonedinvemardocuments_v1_release.nq', 'http://ossapi.oceaninfohub.org/public/graphs/summonedinvemarexperts_v1_release.nq', 'http://ossapi.oceaninfohub.org/public/graphs/summonedinvemarinstitutions_v1_release.nq', 'http://ossapi.oceaninfohub.org/public/graphs/summonedinvemartraining_v1_release.nq', 'http://ossapi.oceaninfohub.org/public/graphs/summonedinvemarvessels_v1_release.nq', 'http://ossapi.oceaninfohub.org/public/graphs/summonedmarinetraining_v1_release.nq', 'http://ossapi.oceaninfohub.org/public/graphs/summonedobis_v1_release.nq', 'http://ossapi.oceaninfohub.org/public/graphs/summonedobps_v1_release.nq', 'http://ossapi.oceaninfohub.org/public/graphs/summonedoceanexperts_v1_release.nq', 'http://ossapi.oceaninfohub.org/public/graphs/summonedpdh_v1_release.nq']\n"
     ]
    }
   ],
   "source": [
    "print(urls)"
   ]
  },
  {
   "cell_type": "markdown",
   "metadata": {},
   "source": [
    "## Single Graph Load\n",
    "\n",
    "At this point we have the URLs and we could either loop load all of them or pull one out manually and use.  This section dmonstrates loading and working with one\n"
   ]
  },
  {
   "cell_type": "code",
   "execution_count": 6,
   "metadata": {
    "ExecuteTime": {
     "end_time": "2023-05-24T12:48:06.172564843Z",
     "start_time": "2023-05-24T12:47:59.284513794Z"
    },
    "tags": []
   },
   "outputs": [
    {
     "name": "stdout",
     "output_type": "stream",
     "text": [
      "161187\n"
     ]
    }
   ],
   "source": [
    "# load quad graph\n",
    "g = ConjunctiveGraph()\n",
    "g.parse(\"http://ossapi.oceaninfohub.org/public/graphs/summonedobis_v1_release.nq\", format=\"nquads\")\n",
    "print(len(g))"
   ]
  },
  {
   "cell_type": "code",
   "execution_count": 7,
   "metadata": {
    "tags": []
   },
   "outputs": [],
   "source": [
    "namespaces = {\n",
    "    \"shacl\":   \"http://www.w3.org/ns/shacl#\" ,\n",
    "    \"schmea\":   \"https://schema.org/\" ,\n",
    "    \"geo\":      \"http://www.opengis.net/ont/geosparql#\",\n",
    "}\n",
    "\n",
    "kg = kglab.KnowledgeGraph(name = \"OIH test\", base_uri = \"https://oceaninfohub.org/id/\", namespaces = namespaces, use_gpus=True, import_graph = g)"
   ]
  },
  {
   "cell_type": "code",
   "execution_count": 16,
   "metadata": {
    "tags": []
   },
   "outputs": [],
   "source": [
    "sparql = \"\"\"\n",
    "PREFIX schema: <https://schema.org/>\n",
    "\n",
    "\n",
    "SELECT ?s ?type ?desc ?name ?url ?keywords\n",
    "WHERE\n",
    "{\n",
    " ?s rdf:type ?type\n",
    "   FILTER ( ?type IN (schema:ResearchProject, schema:Project, schema:Organization, \n",
    "   schema:Dataset, schema:CreativeWork, schema:Person, schema:Map, schema:Course,\n",
    "   schema:CourseInstance, schema:Event, schema:Vehicle) )\n",
    "   ?s schema:description ?desc .\n",
    "   ?s schema:name ?name\n",
    "       OPTIONAL { ?s schema:url ?url .   }\n",
    "   ?s schema:keywords ?keywords\n",
    "\n",
    "}\n",
    "\"\"\"\n",
    "\n",
    "pdf = kg.query_as_df(sparql)\n",
    "# df = pdf   # .to_pandas()  #  breaks with papermill for reasons unknown at this time if to_pandas() is used, needed in my kglab conda env\n"
   ]
  },
  {
   "cell_type": "code",
   "execution_count": 17,
   "metadata": {
    "tags": []
   },
   "outputs": [
    {
     "data": {
      "text/html": [
       "<div>\n",
       "<style scoped>\n",
       "    .dataframe tbody tr th:only-of-type {\n",
       "        vertical-align: middle;\n",
       "    }\n",
       "\n",
       "    .dataframe tbody tr th {\n",
       "        vertical-align: top;\n",
       "    }\n",
       "\n",
       "    .dataframe thead th {\n",
       "        text-align: right;\n",
       "    }\n",
       "</style>\n",
       "<table border=\"1\" class=\"dataframe\">\n",
       "  <thead>\n",
       "    <tr style=\"text-align: right;\">\n",
       "      <th></th>\n",
       "      <th>s</th>\n",
       "      <th>type</th>\n",
       "      <th>desc</th>\n",
       "      <th>name</th>\n",
       "      <th>url</th>\n",
       "      <th>keywords</th>\n",
       "    </tr>\n",
       "  </thead>\n",
       "  <tbody>\n",
       "    <tr>\n",
       "      <th>0</th>\n",
       "      <td>&lt;https://obis.org/dataset/1057a007-c31c-48a3-a...</td>\n",
       "      <td>schmea:Dataset</td>\n",
       "      <td>In Australia, it is thought that up to 26 Aust...</td>\n",
       "      <td>Census of annual pup production by Australian ...</td>\n",
       "      <td>https://obis.org/dataset/1057a007-c31c-48a3-a6...</td>\n",
       "      <td>Occurrence</td>\n",
       "    </tr>\n",
       "    <tr>\n",
       "      <th>1</th>\n",
       "      <td>&lt;https://obis.org/dataset/1057a007-c31c-48a3-a...</td>\n",
       "      <td>schmea:Dataset</td>\n",
       "      <td>In Australia, it is thought that up to 26 Aust...</td>\n",
       "      <td>Census of annual pup production by Australian ...</td>\n",
       "      <td>https://obis.org/dataset/1057a007-c31c-48a3-a6...</td>\n",
       "      <td>Observation</td>\n",
       "    </tr>\n",
       "    <tr>\n",
       "      <th>2</th>\n",
       "      <td>&lt;https://obis.org/dataset/d64477cf-491f-4de5-8...</td>\n",
       "      <td>schmea:Dataset</td>\n",
       "      <td>Original provider:\\nObservatorio Ambiental Gra...</td>\n",
       "      <td>Canary Islands - OAG (aggregated per 1-degree ...</td>\n",
       "      <td>https://obis.org/dataset/d64477cf-491f-4de5-82...</td>\n",
       "      <td>Occurrence,Radio transmitters,Animal movements</td>\n",
       "    </tr>\n",
       "    <tr>\n",
       "      <th>3</th>\n",
       "      <td>&lt;https://obis.org/dataset/d64477cf-491f-4de5-8...</td>\n",
       "      <td>schmea:Dataset</td>\n",
       "      <td>Original provider:\\nObservatorio Ambiental Gra...</td>\n",
       "      <td>Canary Islands - OAG (aggregated per 1-degree ...</td>\n",
       "      <td>https://obis.org/dataset/d64477cf-491f-4de5-82...</td>\n",
       "      <td>Observation</td>\n",
       "    </tr>\n",
       "    <tr>\n",
       "      <th>4</th>\n",
       "      <td>&lt;https://obis.org/dataset/d64477cf-491f-4de5-8...</td>\n",
       "      <td>schmea:Dataset</td>\n",
       "      <td>Original provider:\\nObservatorio Ambiental Gra...</td>\n",
       "      <td>Canary Islands - OAG (aggregated per 1-degree ...</td>\n",
       "      <td>https://obis.org/dataset/d64477cf-491f-4de5-82...</td>\n",
       "      <td>Occurrence</td>\n",
       "    </tr>\n",
       "    <tr>\n",
       "      <th>5</th>\n",
       "      <td>&lt;https://obis.org/dataset/e71d452f-615e-4654-b...</td>\n",
       "      <td>schmea:Dataset</td>\n",
       "      <td>Original provider:\\nVirginia Aquarium and Mari...</td>\n",
       "      <td>Virginia and Maryland Sea Turtle Research and ...</td>\n",
       "      <td>https://obis.org/dataset/e71d452f-615e-4654-b7...</td>\n",
       "      <td>Occurrence,Marine Animal Survey,Marine Biology...</td>\n",
       "    </tr>\n",
       "    <tr>\n",
       "      <th>6</th>\n",
       "      <td>&lt;https://obis.org/dataset/e71d452f-615e-4654-b...</td>\n",
       "      <td>schmea:Dataset</td>\n",
       "      <td>Original provider:\\nVirginia Aquarium and Mari...</td>\n",
       "      <td>Virginia and Maryland Sea Turtle Research and ...</td>\n",
       "      <td>https://obis.org/dataset/e71d452f-615e-4654-b7...</td>\n",
       "      <td>Observation</td>\n",
       "    </tr>\n",
       "    <tr>\n",
       "      <th>7</th>\n",
       "      <td>&lt;https://obis.org/dataset/e71d452f-615e-4654-b...</td>\n",
       "      <td>schmea:Dataset</td>\n",
       "      <td>Original provider:\\nVirginia Aquarium and Mari...</td>\n",
       "      <td>Virginia and Maryland Sea Turtle Research and ...</td>\n",
       "      <td>https://obis.org/dataset/e71d452f-615e-4654-b7...</td>\n",
       "      <td>Occurrence</td>\n",
       "    </tr>\n",
       "    <tr>\n",
       "      <th>8</th>\n",
       "      <td>&lt;https://obis.org/dataset/49f74e10-b23b-4aca-a...</td>\n",
       "      <td>schmea:Dataset</td>\n",
       "      <td>Tow video and epibenthic sled collections were...</td>\n",
       "      <td>Species assemblages, biomass and regional habi...</td>\n",
       "      <td>https://obis.org/dataset/49f74e10-b23b-4aca-a0...</td>\n",
       "      <td>Occurrence</td>\n",
       "    </tr>\n",
       "    <tr>\n",
       "      <th>9</th>\n",
       "      <td>&lt;https://obis.org/dataset/49f74e10-b23b-4aca-a...</td>\n",
       "      <td>schmea:Dataset</td>\n",
       "      <td>Tow video and epibenthic sled collections were...</td>\n",
       "      <td>Species assemblages, biomass and regional habi...</td>\n",
       "      <td>https://obis.org/dataset/49f74e10-b23b-4aca-a0...</td>\n",
       "      <td>Observation</td>\n",
       "    </tr>\n",
       "    <tr>\n",
       "      <th>10</th>\n",
       "      <td>&lt;https://obis.org/dataset/30fd5e3c-d729-41bb-b...</td>\n",
       "      <td>schmea:Dataset</td>\n",
       "      <td>Data on the distribution, reproductive and sur...</td>\n",
       "      <td>PELD-ELPA Ecology of Lahille's bottlenose dolp...</td>\n",
       "      <td>https://obis.org/dataset/30fd5e3c-d729-41bb-b1...</td>\n",
       "      <td>Samplingevent</td>\n",
       "    </tr>\n",
       "    <tr>\n",
       "      <th>11</th>\n",
       "      <td>&lt;https://obis.org/dataset/30fd5e3c-d729-41bb-b...</td>\n",
       "      <td>schmea:Dataset</td>\n",
       "      <td>Data on the distribution, reproductive and sur...</td>\n",
       "      <td>PELD-ELPA Ecology of Lahille's bottlenose dolp...</td>\n",
       "      <td>https://obis.org/dataset/30fd5e3c-d729-41bb-b1...</td>\n",
       "      <td>Tursiops truncatus gephyreus</td>\n",
       "    </tr>\n",
       "    <tr>\n",
       "      <th>12</th>\n",
       "      <td>&lt;https://obis.org/dataset/30fd5e3c-d729-41bb-b...</td>\n",
       "      <td>schmea:Dataset</td>\n",
       "      <td>Data on the distribution, reproductive and sur...</td>\n",
       "      <td>PELD-ELPA Ecology of Lahille's bottlenose dolp...</td>\n",
       "      <td>https://obis.org/dataset/30fd5e3c-d729-41bb-b1...</td>\n",
       "      <td>abundance</td>\n",
       "    </tr>\n",
       "    <tr>\n",
       "      <th>13</th>\n",
       "      <td>&lt;https://obis.org/dataset/30fd5e3c-d729-41bb-b...</td>\n",
       "      <td>schmea:Dataset</td>\n",
       "      <td>Data on the distribution, reproductive and sur...</td>\n",
       "      <td>PELD-ELPA Ecology of Lahille's bottlenose dolp...</td>\n",
       "      <td>https://obis.org/dataset/30fd5e3c-d729-41bb-b1...</td>\n",
       "      <td>survival</td>\n",
       "    </tr>\n",
       "    <tr>\n",
       "      <th>14</th>\n",
       "      <td>&lt;https://obis.org/dataset/30fd5e3c-d729-41bb-b...</td>\n",
       "      <td>schmea:Dataset</td>\n",
       "      <td>Data on the distribution, reproductive and sur...</td>\n",
       "      <td>PELD-ELPA Ecology of Lahille's bottlenose dolp...</td>\n",
       "      <td>https://obis.org/dataset/30fd5e3c-d729-41bb-b1...</td>\n",
       "      <td>trophic ecology</td>\n",
       "    </tr>\n",
       "    <tr>\n",
       "      <th>15</th>\n",
       "      <td>&lt;https://obis.org/dataset/30fd5e3c-d729-41bb-b...</td>\n",
       "      <td>schmea:Dataset</td>\n",
       "      <td>Data on the distribution, reproductive and sur...</td>\n",
       "      <td>PELD-ELPA Ecology of Lahille's bottlenose dolp...</td>\n",
       "      <td>https://obis.org/dataset/30fd5e3c-d729-41bb-b1...</td>\n",
       "      <td>distribution</td>\n",
       "    </tr>\n",
       "    <tr>\n",
       "      <th>16</th>\n",
       "      <td>&lt;https://obis.org/dataset/30fd5e3c-d729-41bb-b...</td>\n",
       "      <td>schmea:Dataset</td>\n",
       "      <td>Data on the distribution, reproductive and sur...</td>\n",
       "      <td>PELD-ELPA Ecology of Lahille's bottlenose dolp...</td>\n",
       "      <td>https://obis.org/dataset/30fd5e3c-d729-41bb-b1...</td>\n",
       "      <td>reproduction</td>\n",
       "    </tr>\n",
       "    <tr>\n",
       "      <th>17</th>\n",
       "      <td>&lt;https://obis.org/dataset/30fd5e3c-d729-41bb-b...</td>\n",
       "      <td>schmea:Dataset</td>\n",
       "      <td>Data on the distribution, reproductive and sur...</td>\n",
       "      <td>PELD-ELPA Ecology of Lahille's bottlenose dolp...</td>\n",
       "      <td>https://obis.org/dataset/30fd5e3c-d729-41bb-b1...</td>\n",
       "      <td>stable isotopes</td>\n",
       "    </tr>\n",
       "    <tr>\n",
       "      <th>18</th>\n",
       "      <td>&lt;https://obis.org/dataset/30fd5e3c-d729-41bb-b...</td>\n",
       "      <td>schmea:Dataset</td>\n",
       "      <td>Data on the distribution, reproductive and sur...</td>\n",
       "      <td>PELD-ELPA Ecology of Lahille's bottlenose dolp...</td>\n",
       "      <td>https://obis.org/dataset/30fd5e3c-d729-41bb-b1...</td>\n",
       "      <td>diet.</td>\n",
       "    </tr>\n",
       "    <tr>\n",
       "      <th>19</th>\n",
       "      <td>&lt;https://obis.org/dataset/9a37fc55-1fc8-4c19-b...</td>\n",
       "      <td>schmea:Dataset</td>\n",
       "      <td>Original provider:\\nCanadian Wildlife Service\\...</td>\n",
       "      <td>PIROP Northwest Atlantic 1965-1992</td>\n",
       "      <td>https://obis.org/dataset/9a37fc55-1fc8-4c19-b6...</td>\n",
       "      <td>Occurrence,Vessels,Sightings,seabird ecology,s...</td>\n",
       "    </tr>\n",
       "  </tbody>\n",
       "</table>\n",
       "</div>"
      ],
      "text/plain": [
       "                                                    s            type  \\\n",
       "0   <https://obis.org/dataset/1057a007-c31c-48a3-a...  schmea:Dataset   \n",
       "1   <https://obis.org/dataset/1057a007-c31c-48a3-a...  schmea:Dataset   \n",
       "2   <https://obis.org/dataset/d64477cf-491f-4de5-8...  schmea:Dataset   \n",
       "3   <https://obis.org/dataset/d64477cf-491f-4de5-8...  schmea:Dataset   \n",
       "4   <https://obis.org/dataset/d64477cf-491f-4de5-8...  schmea:Dataset   \n",
       "5   <https://obis.org/dataset/e71d452f-615e-4654-b...  schmea:Dataset   \n",
       "6   <https://obis.org/dataset/e71d452f-615e-4654-b...  schmea:Dataset   \n",
       "7   <https://obis.org/dataset/e71d452f-615e-4654-b...  schmea:Dataset   \n",
       "8   <https://obis.org/dataset/49f74e10-b23b-4aca-a...  schmea:Dataset   \n",
       "9   <https://obis.org/dataset/49f74e10-b23b-4aca-a...  schmea:Dataset   \n",
       "10  <https://obis.org/dataset/30fd5e3c-d729-41bb-b...  schmea:Dataset   \n",
       "11  <https://obis.org/dataset/30fd5e3c-d729-41bb-b...  schmea:Dataset   \n",
       "12  <https://obis.org/dataset/30fd5e3c-d729-41bb-b...  schmea:Dataset   \n",
       "13  <https://obis.org/dataset/30fd5e3c-d729-41bb-b...  schmea:Dataset   \n",
       "14  <https://obis.org/dataset/30fd5e3c-d729-41bb-b...  schmea:Dataset   \n",
       "15  <https://obis.org/dataset/30fd5e3c-d729-41bb-b...  schmea:Dataset   \n",
       "16  <https://obis.org/dataset/30fd5e3c-d729-41bb-b...  schmea:Dataset   \n",
       "17  <https://obis.org/dataset/30fd5e3c-d729-41bb-b...  schmea:Dataset   \n",
       "18  <https://obis.org/dataset/30fd5e3c-d729-41bb-b...  schmea:Dataset   \n",
       "19  <https://obis.org/dataset/9a37fc55-1fc8-4c19-b...  schmea:Dataset   \n",
       "\n",
       "                                                 desc  \\\n",
       "0   In Australia, it is thought that up to 26 Aust...   \n",
       "1   In Australia, it is thought that up to 26 Aust...   \n",
       "2   Original provider:\\nObservatorio Ambiental Gra...   \n",
       "3   Original provider:\\nObservatorio Ambiental Gra...   \n",
       "4   Original provider:\\nObservatorio Ambiental Gra...   \n",
       "5   Original provider:\\nVirginia Aquarium and Mari...   \n",
       "6   Original provider:\\nVirginia Aquarium and Mari...   \n",
       "7   Original provider:\\nVirginia Aquarium and Mari...   \n",
       "8   Tow video and epibenthic sled collections were...   \n",
       "9   Tow video and epibenthic sled collections were...   \n",
       "10  Data on the distribution, reproductive and sur...   \n",
       "11  Data on the distribution, reproductive and sur...   \n",
       "12  Data on the distribution, reproductive and sur...   \n",
       "13  Data on the distribution, reproductive and sur...   \n",
       "14  Data on the distribution, reproductive and sur...   \n",
       "15  Data on the distribution, reproductive and sur...   \n",
       "16  Data on the distribution, reproductive and sur...   \n",
       "17  Data on the distribution, reproductive and sur...   \n",
       "18  Data on the distribution, reproductive and sur...   \n",
       "19  Original provider:\\nCanadian Wildlife Service\\...   \n",
       "\n",
       "                                                 name  \\\n",
       "0   Census of annual pup production by Australian ...   \n",
       "1   Census of annual pup production by Australian ...   \n",
       "2   Canary Islands - OAG (aggregated per 1-degree ...   \n",
       "3   Canary Islands - OAG (aggregated per 1-degree ...   \n",
       "4   Canary Islands - OAG (aggregated per 1-degree ...   \n",
       "5   Virginia and Maryland Sea Turtle Research and ...   \n",
       "6   Virginia and Maryland Sea Turtle Research and ...   \n",
       "7   Virginia and Maryland Sea Turtle Research and ...   \n",
       "8   Species assemblages, biomass and regional habi...   \n",
       "9   Species assemblages, biomass and regional habi...   \n",
       "10  PELD-ELPA Ecology of Lahille's bottlenose dolp...   \n",
       "11  PELD-ELPA Ecology of Lahille's bottlenose dolp...   \n",
       "12  PELD-ELPA Ecology of Lahille's bottlenose dolp...   \n",
       "13  PELD-ELPA Ecology of Lahille's bottlenose dolp...   \n",
       "14  PELD-ELPA Ecology of Lahille's bottlenose dolp...   \n",
       "15  PELD-ELPA Ecology of Lahille's bottlenose dolp...   \n",
       "16  PELD-ELPA Ecology of Lahille's bottlenose dolp...   \n",
       "17  PELD-ELPA Ecology of Lahille's bottlenose dolp...   \n",
       "18  PELD-ELPA Ecology of Lahille's bottlenose dolp...   \n",
       "19                 PIROP Northwest Atlantic 1965-1992   \n",
       "\n",
       "                                                  url  \\\n",
       "0   https://obis.org/dataset/1057a007-c31c-48a3-a6...   \n",
       "1   https://obis.org/dataset/1057a007-c31c-48a3-a6...   \n",
       "2   https://obis.org/dataset/d64477cf-491f-4de5-82...   \n",
       "3   https://obis.org/dataset/d64477cf-491f-4de5-82...   \n",
       "4   https://obis.org/dataset/d64477cf-491f-4de5-82...   \n",
       "5   https://obis.org/dataset/e71d452f-615e-4654-b7...   \n",
       "6   https://obis.org/dataset/e71d452f-615e-4654-b7...   \n",
       "7   https://obis.org/dataset/e71d452f-615e-4654-b7...   \n",
       "8   https://obis.org/dataset/49f74e10-b23b-4aca-a0...   \n",
       "9   https://obis.org/dataset/49f74e10-b23b-4aca-a0...   \n",
       "10  https://obis.org/dataset/30fd5e3c-d729-41bb-b1...   \n",
       "11  https://obis.org/dataset/30fd5e3c-d729-41bb-b1...   \n",
       "12  https://obis.org/dataset/30fd5e3c-d729-41bb-b1...   \n",
       "13  https://obis.org/dataset/30fd5e3c-d729-41bb-b1...   \n",
       "14  https://obis.org/dataset/30fd5e3c-d729-41bb-b1...   \n",
       "15  https://obis.org/dataset/30fd5e3c-d729-41bb-b1...   \n",
       "16  https://obis.org/dataset/30fd5e3c-d729-41bb-b1...   \n",
       "17  https://obis.org/dataset/30fd5e3c-d729-41bb-b1...   \n",
       "18  https://obis.org/dataset/30fd5e3c-d729-41bb-b1...   \n",
       "19  https://obis.org/dataset/9a37fc55-1fc8-4c19-b6...   \n",
       "\n",
       "                                             keywords  \n",
       "0                                          Occurrence  \n",
       "1                                         Observation  \n",
       "2      Occurrence,Radio transmitters,Animal movements  \n",
       "3                                         Observation  \n",
       "4                                          Occurrence  \n",
       "5   Occurrence,Marine Animal Survey,Marine Biology...  \n",
       "6                                         Observation  \n",
       "7                                          Occurrence  \n",
       "8                                          Occurrence  \n",
       "9                                         Observation  \n",
       "10                                      Samplingevent  \n",
       "11                       Tursiops truncatus gephyreus  \n",
       "12                                          abundance  \n",
       "13                                           survival  \n",
       "14                                    trophic ecology  \n",
       "15                                       distribution  \n",
       "16                                       reproduction  \n",
       "17                                    stable isotopes  \n",
       "18                                              diet.  \n",
       "19  Occurrence,Vessels,Sightings,seabird ecology,s...  "
      ]
     },
     "execution_count": 17,
     "metadata": {},
     "output_type": "execute_result"
    }
   ],
   "source": [
    "pdf.head(20)"
   ]
  },
  {
   "cell_type": "code",
   "execution_count": 52,
   "metadata": {
    "tags": []
   },
   "outputs": [],
   "source": [
    "\n",
    "sparql = \"\"\"\n",
    "PREFIX schema: <https://schema.org/>\n",
    "\n",
    "\n",
    "SELECT ?sc ?geo ?geotype ?geom\n",
    "\n",
    "WHERE\n",
    "{\n",
    "   ?s rdf:type ?type\n",
    "   FILTER ( ?type IN (schema:ResearchProject, schema:Project, schema:Organization, \n",
    "   schema:Dataset, schema:CreativeWork, schema:Person, schema:Map, schema:Course,\n",
    "   schema:CourseInstance, schema:Event, schema:Vehicle) )\n",
    "   ?s schema:spatialCoverage ?sc .\n",
    "   ?sc a  schema:Place .\n",
    "   ?sc schema:geo ?geo .\n",
    "   ?geo a ?geotype .\n",
    "   ?geo schema:polygon ?geom\n",
    "\n",
    "\n",
    "}\n",
    "\"\"\"\n",
    "\n",
    "# schema:latitude   schema:longitude\n",
    "\n",
    "\n",
    "\n",
    "pdf = kg.query_as_df(sparql)\n",
    "# df = pdf   # .to_pandas()  #  breaks with papermill for reasons unknown at this time if to_pandas() is used, needed in my kglab conda env\n"
   ]
  },
  {
   "cell_type": "code",
   "execution_count": 53,
   "metadata": {
    "tags": []
   },
   "outputs": [
    {
     "data": {
      "text/html": [
       "<div>\n",
       "<style scoped>\n",
       "    .dataframe tbody tr th:only-of-type {\n",
       "        vertical-align: middle;\n",
       "    }\n",
       "\n",
       "    .dataframe tbody tr th {\n",
       "        vertical-align: top;\n",
       "    }\n",
       "\n",
       "    .dataframe thead th {\n",
       "        text-align: right;\n",
       "    }\n",
       "</style>\n",
       "<table border=\"1\" class=\"dataframe\">\n",
       "  <thead>\n",
       "    <tr style=\"text-align: right;\">\n",
       "      <th></th>\n",
       "    </tr>\n",
       "  </thead>\n",
       "  <tbody>\n",
       "  </tbody>\n",
       "</table>\n",
       "</div>"
      ],
      "text/plain": [
       "Empty DataFrame\n",
       "Columns: []\n",
       "Index: []"
      ]
     },
     "execution_count": 55,
     "metadata": {},
     "output_type": "execute_result"
    }
   ],
   "source": [
    "pdf.head(20)"
   ]
  },
  {
   "cell_type": "code",
   "execution_count": null,
   "metadata": {},
   "outputs": [],
   "source": []
  },
  {
   "cell_type": "markdown",
   "metadata": {},
   "source": [
    "### Save to JSON Lines format\n"
   ]
  },
  {
   "cell_type": "code",
   "execution_count": 21,
   "metadata": {
    "tags": []
   },
   "outputs": [],
   "source": [
    "# Convert data frame to JSON lines format\n",
    "json_lines = pdf.to_json(orient='records', lines=True)\n",
    "\n",
    "# Write JSON lines to a file\n",
    "with open(\"pdf.jsonl\", \"w\") as f:\n",
    "    f.write(json_lines)"
   ]
  },
  {
   "cell_type": "markdown",
   "metadata": {},
   "source": [
    "## All OIh-Graph load\n",
    "\n",
    "The following will load all the graphs of the providers in the OIH-Graph."
   ]
  },
  {
   "cell_type": "code",
   "execution_count": 29,
   "metadata": {
    "tags": []
   },
   "outputs": [
    {
     "name": "stdout",
     "output_type": "stream",
     "text": [
      "Loading http://ossapi.oceaninfohub.org/public/graphs/summonedafricaioc_v1_release.nq\n",
      "Loading http://ossapi.oceaninfohub.org/public/graphs/summonedaquadocs_v1_release.nq\n",
      "Loading http://ossapi.oceaninfohub.org/public/graphs/summonedcioos_v1_release.nq\n",
      "Loading http://ossapi.oceaninfohub.org/public/graphs/summonededmerp_v1_release.nq\n",
      "Loading http://ossapi.oceaninfohub.org/public/graphs/summonededmo_v1_release.nq\n",
      "Loading http://ossapi.oceaninfohub.org/public/graphs/summonedemodnet_v1_release.nq\n",
      "Loading http://ossapi.oceaninfohub.org/public/graphs/summonedinanodc_v1_release.nq\n",
      "Loading http://ossapi.oceaninfohub.org/public/graphs/summonedinvemardocuments_v1_release.nq\n",
      "Loading http://ossapi.oceaninfohub.org/public/graphs/summonedinvemarexperts_v1_release.nq\n",
      "Loading http://ossapi.oceaninfohub.org/public/graphs/summonedinvemarinstitutions_v1_release.nq\n",
      "Loading http://ossapi.oceaninfohub.org/public/graphs/summonedinvemartraining_v1_release.nq\n",
      "Loading http://ossapi.oceaninfohub.org/public/graphs/summonedinvemarvessels_v1_release.nq\n",
      "Loading http://ossapi.oceaninfohub.org/public/graphs/summonedmarinetraining_v1_release.nq\n",
      "Loading http://ossapi.oceaninfohub.org/public/graphs/summonedobis_v1_release.nq\n",
      "Loading http://ossapi.oceaninfohub.org/public/graphs/summonedobps_v1_release.nq\n",
      "Loading http://ossapi.oceaninfohub.org/public/graphs/summonedoceanexperts_v1_release.nq\n",
      "Loading http://ossapi.oceaninfohub.org/public/graphs/summonedpdh_v1_release.nq\n",
      "3086320\n"
     ]
    }
   ],
   "source": [
    "bg = ConjunctiveGraph()\n",
    "\n",
    "for u in urls:\n",
    "    print(\"Loading {}\".format(u))\n",
    "    bg.parse(u, format=\"nquads\")\n",
    "\n",
    "print(len(bg))"
   ]
  },
  {
   "cell_type": "code",
   "execution_count": 30,
   "metadata": {
    "tags": []
   },
   "outputs": [],
   "source": [
    "namespaces = {\n",
    "    \"shacl\":   \"http://www.w3.org/ns/shacl#\" ,\n",
    "    \"schmea\":   \"https://schema.org/\" ,\n",
    "    \"geo\":      \"http://www.opengis.net/ont/geosparql#\",\n",
    "}\n",
    "\n",
    "bkg = kglab.KnowledgeGraph(name = \"OIH test\", base_uri = \"https://oceaninfohub.org/id/\", use_gpus=True, namespaces = namespaces, import_graph = bg)"
   ]
  },
  {
   "cell_type": "code",
   "execution_count": 31,
   "metadata": {
    "tags": []
   },
   "outputs": [],
   "source": [
    "sparql = \"\"\"\n",
    "PREFIX rdf: <http://www.w3.org/1999/02/22-rdf-syntax-ns#>\n",
    "PREFIX rdfs: <http://www.w3.org/2000/01/rdf-schema#>\n",
    "PREFIX xsd: <http://www.w3.org/2001/XMLSchema#>\n",
    "\n",
    "\n",
    "SELECT ?p (COUNT(?p) as ?count)\n",
    "WHERE\n",
    "{\n",
    "  ?s ?p ?o .\n",
    "}\n",
    "GROUP BY ?p ORDER BY DESC(?count)\n",
    "\"\"\"\n",
    "\n",
    "pdf = bkg.query_as_df(sparql)\n",
    "# df = pdf   # .to_pandas()  #  breaks with papermill for reasons unknown at this time if to_pandas() is used, needed in my kglab conda env\n"
   ]
  },
  {
   "cell_type": "code",
   "execution_count": 32,
   "metadata": {
    "tags": []
   },
   "outputs": [
    {
     "data": {
      "text/html": [
       "<div>\n",
       "<style scoped>\n",
       "    .dataframe tbody tr th:only-of-type {\n",
       "        vertical-align: middle;\n",
       "    }\n",
       "\n",
       "    .dataframe tbody tr th {\n",
       "        vertical-align: top;\n",
       "    }\n",
       "\n",
       "    .dataframe thead th {\n",
       "        text-align: right;\n",
       "    }\n",
       "</style>\n",
       "<table border=\"1\" class=\"dataframe\">\n",
       "  <thead>\n",
       "    <tr style=\"text-align: right;\">\n",
       "      <th></th>\n",
       "      <th>p</th>\n",
       "      <th>count</th>\n",
       "    </tr>\n",
       "  </thead>\n",
       "  <tbody>\n",
       "    <tr>\n",
       "      <th>0</th>\n",
       "      <td>rdf:type</td>\n",
       "      <td>634761</td>\n",
       "    </tr>\n",
       "    <tr>\n",
       "      <th>1</th>\n",
       "      <td>schmea:name</td>\n",
       "      <td>317029</td>\n",
       "    </tr>\n",
       "    <tr>\n",
       "      <th>2</th>\n",
       "      <td>schmea:keywords</td>\n",
       "      <td>306362</td>\n",
       "    </tr>\n",
       "    <tr>\n",
       "      <th>3</th>\n",
       "      <td>schmea:url</td>\n",
       "      <td>189343</td>\n",
       "    </tr>\n",
       "    <tr>\n",
       "      <th>4</th>\n",
       "      <td>schmea:description</td>\n",
       "      <td>135034</td>\n",
       "    </tr>\n",
       "  </tbody>\n",
       "</table>\n",
       "</div>"
      ],
      "text/plain": [
       "                    p   count\n",
       "0            rdf:type  634761\n",
       "1         schmea:name  317029\n",
       "2     schmea:keywords  306362\n",
       "3          schmea:url  189343\n",
       "4  schmea:description  135034"
      ]
     },
     "execution_count": 32,
     "metadata": {},
     "output_type": "execute_result"
    }
   ],
   "source": [
    "pdf.head()"
   ]
  },
  {
   "cell_type": "code",
   "execution_count": null,
   "metadata": {},
   "outputs": [],
   "source": [
    "# Check for using GPU, in case you want to ensure your GPU is used\n",
    "gc = kglab.get_gpu_count()\n",
    "print(gc)"
   ]
  },
  {
   "cell_type": "code",
   "execution_count": 32,
   "metadata": {
    "tags": []
   },
   "outputs": [],
   "source": [
    "bkg.save_parquet(\"OIHGraph_25032023.parquet\")\n"
   ]
  }
 ],
 "metadata": {
  "kernelspec": {
   "display_name": "Python 3 (ipykernel)",
   "language": "python",
   "name": "python3"
  },
  "language_info": {
   "codemirror_mode": {
    "name": "ipython",
    "version": 3
   },
   "file_extension": ".py",
   "mimetype": "text/x-python",
   "name": "python",
   "nbconvert_exporter": "python",
   "pygments_lexer": "ipython3",
   "version": "3.10.8"
  }
 },
 "nbformat": 4,
 "nbformat_minor": 4
}
