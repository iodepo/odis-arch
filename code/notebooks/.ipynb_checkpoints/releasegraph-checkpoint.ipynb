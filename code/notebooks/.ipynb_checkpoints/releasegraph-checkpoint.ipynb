{
 "cells": [
  {
   "cell_type": "markdown",
   "id": "a7f0a266-fd7f-4eb3-bb53-1515355bc856",
   "metadata": {
    "tags": []
   },
   "source": [
    "# Release Graph \n",
    "\n",
    "Exploring the use of notebooks to generate the release graph output.  Need this to be more a render the HTML than this notebooks nbconvert to HTML I think.\n",
    "\n",
    "\n",
    "Need to look at https://pretty-jupyter.readthedocs.io/en/latest/ \n",
    "\n",
    "Of course there is https://jupyterbook.org/en/stable/advanced/html.html which use already.\n",
    "\n"
   ]
  },
  {
   "cell_type": "code",
   "execution_count": 3,
   "id": "35bef5dd-4762-4dc7-bddd-be41d19b7ccf",
   "metadata": {
    "tags": []
   },
   "outputs": [],
   "source": [
    "name = \"OIH Release Graph\"\n",
    "version = \"0.1\"\n",
    "date = \"12/5/2023\"\n"
   ]
  },
  {
   "cell_type": "markdown",
   "id": "a68f46e2-ad3d-472b-9c7d-491498a37629",
   "metadata": {},
   "source": [
    "## {name}"
   ]
  },
  {
   "cell_type": "code",
   "execution_count": null,
   "id": "1a4c8507-5e60-4093-9b23-2ddf879d84eb",
   "metadata": {},
   "outputs": [],
   "source": []
  }
 ],
 "metadata": {
  "kernelspec": {
   "display_name": "Python 3 (ipykernel)",
   "language": "python",
   "name": "python3"
  },
  "language_info": {
   "codemirror_mode": {
    "name": "ipython",
    "version": 3
   },
   "file_extension": ".py",
   "mimetype": "text/x-python",
   "name": "python",
   "nbconvert_exporter": "python",
   "pygments_lexer": "ipython3",
   "version": "3.10.8"
  }
 },
 "nbformat": 4,
 "nbformat_minor": 5
}
