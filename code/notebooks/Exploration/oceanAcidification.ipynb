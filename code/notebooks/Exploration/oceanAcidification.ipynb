{
 "cells": [
  {
   "cell_type": "markdown",
   "source": [
    "# Ocean Acidification\n",
    "\n",
    "### References\n",
    "\n",
    "* [ocean expert metadata doc](https://oceanexpert.org/document/26001)\n",
    "* [oa erdap](https://erddap.oa.iode.org/erddap/index.html)\n",
    "* An example query (used as guide for below): https://github.com/iodepo/odis-arch/blob/schema-dev-df/code/SPARQL/baseQuery.rq\n",
    "* SHACL shapes for potential reference: https://github.com/iodepo/odis-arch/tree/schema-dev-df/code/SHACL\n",
    "\n",
    "### Need to\n",
    "\n",
    "* Look for datasets with distribution\n",
    "* connect their prov\n",
    "* validate with SHACL for variable measured\n"
   ],
   "metadata": {
    "collapsed": false
   }
  },
  {
   "cell_type": "code",
   "execution_count": 1,
   "outputs": [
    {
     "name": "stderr",
     "output_type": "stream",
     "text": [
      "/home/fils/.local/lib/python3.10/site-packages/rdflib_jsonld/__init__.py:9: DeprecationWarning: The rdflib-jsonld package has been integrated into rdflib as of rdflib==6.0.1.  Please remove rdflib-jsonld from your project's dependencies.\n",
      "  warnings.warn(\n"
     ]
    }
   ],
   "source": [
    "import warnings\n",
    "warnings.simplefilter(action='ignore', category=FutureWarning)\n",
    "\n",
    "from SPARQLWrapper import SPARQLWrapper, JSON\n",
    "import pandas as pd\n",
    "# import dask, boto3\n",
    "# import dask.dataframe as dd\n",
    "import numpy as np\n",
    "import json"
   ],
   "metadata": {
    "collapsed": false,
    "ExecuteTime": {
     "end_time": "2023-05-18T12:47:06.999094116Z",
     "start_time": "2023-05-18T12:47:06.746831459Z"
    }
   }
  },
  {
   "cell_type": "code",
   "execution_count": 2,
   "outputs": [],
   "source": [
    "sparqlep = \"http://graph.oceaninfohub.org/blazegraph/namespace/oih/sparql\"\n"
   ],
   "metadata": {
    "collapsed": false,
    "ExecuteTime": {
     "end_time": "2023-05-18T12:47:07.013099550Z",
     "start_time": "2023-05-18T12:47:06.995682650Z"
    }
   }
  },
  {
   "cell_type": "code",
   "execution_count": 3,
   "outputs": [],
   "source": [
    "#@title\n",
    "def get_sparql_dataframe(service, query):\n",
    "    \"\"\"\n",
    "    Helper function to convert SPARQL results into a Pandas data frame.\n",
    "    \"\"\"\n",
    "    sparql = SPARQLWrapper(service)\n",
    "    sparql.setQuery(query)\n",
    "    sparql.setReturnFormat(JSON)\n",
    "    result = sparql.query()\n",
    "\n",
    "    processed_results = json.load(result.response)\n",
    "    cols = processed_results['head']['vars']\n",
    "\n",
    "    out = []\n",
    "    for row in processed_results['results']['bindings']:\n",
    "        item = []\n",
    "        for c in cols:\n",
    "            item.append(row.get(c, {}).get('value'))\n",
    "        out.append(item)\n",
    "\n",
    "    return pd.DataFrame(out, columns=cols)"
   ],
   "metadata": {
    "collapsed": false,
    "ExecuteTime": {
     "end_time": "2023-05-18T12:47:09.671913141Z",
     "start_time": "2023-05-18T12:47:09.667439245Z"
    }
   }
  },
  {
   "cell_type": "code",
   "execution_count": 4,
   "outputs": [],
   "source": [
    "rq_count = \"\"\"PREFIX rdf: <http://www.w3.org/1999/02/22-rdf-syntax-ns#>\n",
    "PREFIX schema: <https://schema.org/>\n",
    "PREFIX bds: <http://www.bigdata.com/rdf/search#>\n",
    "\n",
    "SELECT DISTINCT  ?s ?url ?dist ?g ?type ?score ?name ?lit ?description ?headline\n",
    "WHERE\n",
    "{\n",
    "   ?lit bds:search \"ocean acidification\" .\n",
    "   ?lit bds:matchAllTerms \"false\" .\n",
    "   ?lit bds:relevance ?score .\n",
    "   graph ?g {\n",
    "    ?s ?p ?lit .\n",
    "    ?s rdf:type ?type .\n",
    "    OPTIONAL { ?s schema:distribution ?dist .   }\n",
    "    OPTIONAL { ?s schema:name ?name .   }\n",
    "    OPTIONAL { ?s schema:headline ?headline .   }\n",
    "    OPTIONAL { ?s schema:url ?url .   }\n",
    "    OPTIONAL { ?s schema:description ?description .    }\n",
    "  }\n",
    "\n",
    "}\n",
    "ORDER BY DESC(?score)\n",
    "OFFSET 0\n",
    "\"\"\""
   ],
   "metadata": {
    "collapsed": false,
    "ExecuteTime": {
     "end_time": "2023-05-18T12:47:10.475823108Z",
     "start_time": "2023-05-18T12:47:10.474594523Z"
    }
   }
  },
  {
   "cell_type": "code",
   "execution_count": 5,
   "outputs": [
    {
     "data": {
      "text/plain": "                                                  s  \\\n0                       oai:aquadocs.org:1834/22971   \n1                       oai:aquadocs.org:1834/35724   \n2                       oai:aquadocs.org:1834/36288   \n3  oai:repository.oceanbestpractices.org:11329/1267   \n4   oai:repository.oceanbestpractices.org:11329/851   \n\n                                                 url  dist  \\\n0  http://aquadocs.org/oai/request?/handle/1834/2...  None   \n1  http://aquadocs.org/oai/request?/handle/1834/3...  None   \n2  http://aquadocs.org/oai/request?/handle/1834/3...  None   \n3  https://repository.oceanbestpractices.org/1132...  None   \n4  https://repository.oceanbestpractices.org/1132...  None   \n\n                                                   g  \\\n0  urn:gleaner.oih:summoned:invemardocuments:587d...   \n1  urn:gleaner.oih:summoned:invemardocuments:587d...   \n2  urn:gleaner.oih:summoned:invemardocuments:587d...   \n3  urn:gleaner.oih:summoned:obps:b7186684bbf5a6b5...   \n4  urn:gleaner.oih:summoned:obps:b7186684bbf5a6b5...   \n\n                              type               score  \\\n0  https://schema.org/CreativeWork  0.8838834764831843   \n1  https://schema.org/CreativeWork  0.8838834764831843   \n2  https://schema.org/CreativeWork  0.8838834764831843   \n3  https://schema.org/CreativeWork  0.8838834764831843   \n4  https://schema.org/CreativeWork  0.8838834764831843   \n\n                                                name                  lit  \\\n0  A Comparison of the SNP Variation in the Calci...  Ocean Acidification   \n1  Production and carbonate dynamics of Halimeda ...  Ocean acidification   \n2  Climate and oceanography of the Galapagos in t...  ocean acidification   \n3  Arctic Ocean Acidification Assessment: 2018 Su...  Ocean acidification   \n4  Development of a Continuous Phytoplankton Cult...  Ocean acidification   \n\n                                         description headline  \n0  As the atmospheric levels of CO2 rise from hum...     None  \n1  Ocean acidification poses a serious threat to ...     None  \n2  With the likelihood that carbon dioxide and ot...     None  \n3   - This document presents the Summary for  Pol...     None  \n4   - Around one third of all anthropogenic CO2 e...     None  ",
      "text/html": "<div>\n<style scoped>\n    .dataframe tbody tr th:only-of-type {\n        vertical-align: middle;\n    }\n\n    .dataframe tbody tr th {\n        vertical-align: top;\n    }\n\n    .dataframe thead th {\n        text-align: right;\n    }\n</style>\n<table border=\"1\" class=\"dataframe\">\n  <thead>\n    <tr style=\"text-align: right;\">\n      <th></th>\n      <th>s</th>\n      <th>url</th>\n      <th>dist</th>\n      <th>g</th>\n      <th>type</th>\n      <th>score</th>\n      <th>name</th>\n      <th>lit</th>\n      <th>description</th>\n      <th>headline</th>\n    </tr>\n  </thead>\n  <tbody>\n    <tr>\n      <th>0</th>\n      <td>oai:aquadocs.org:1834/22971</td>\n      <td>http://aquadocs.org/oai/request?/handle/1834/2...</td>\n      <td>None</td>\n      <td>urn:gleaner.oih:summoned:invemardocuments:587d...</td>\n      <td>https://schema.org/CreativeWork</td>\n      <td>0.8838834764831843</td>\n      <td>A Comparison of the SNP Variation in the Calci...</td>\n      <td>Ocean Acidification</td>\n      <td>As the atmospheric levels of CO2 rise from hum...</td>\n      <td>None</td>\n    </tr>\n    <tr>\n      <th>1</th>\n      <td>oai:aquadocs.org:1834/35724</td>\n      <td>http://aquadocs.org/oai/request?/handle/1834/3...</td>\n      <td>None</td>\n      <td>urn:gleaner.oih:summoned:invemardocuments:587d...</td>\n      <td>https://schema.org/CreativeWork</td>\n      <td>0.8838834764831843</td>\n      <td>Production and carbonate dynamics of Halimeda ...</td>\n      <td>Ocean acidification</td>\n      <td>Ocean acidification poses a serious threat to ...</td>\n      <td>None</td>\n    </tr>\n    <tr>\n      <th>2</th>\n      <td>oai:aquadocs.org:1834/36288</td>\n      <td>http://aquadocs.org/oai/request?/handle/1834/3...</td>\n      <td>None</td>\n      <td>urn:gleaner.oih:summoned:invemardocuments:587d...</td>\n      <td>https://schema.org/CreativeWork</td>\n      <td>0.8838834764831843</td>\n      <td>Climate and oceanography of the Galapagos in t...</td>\n      <td>ocean acidification</td>\n      <td>With the likelihood that carbon dioxide and ot...</td>\n      <td>None</td>\n    </tr>\n    <tr>\n      <th>3</th>\n      <td>oai:repository.oceanbestpractices.org:11329/1267</td>\n      <td>https://repository.oceanbestpractices.org/1132...</td>\n      <td>None</td>\n      <td>urn:gleaner.oih:summoned:obps:b7186684bbf5a6b5...</td>\n      <td>https://schema.org/CreativeWork</td>\n      <td>0.8838834764831843</td>\n      <td>Arctic Ocean Acidification Assessment: 2018 Su...</td>\n      <td>Ocean acidification</td>\n      <td>- This document presents the Summary for  Pol...</td>\n      <td>None</td>\n    </tr>\n    <tr>\n      <th>4</th>\n      <td>oai:repository.oceanbestpractices.org:11329/851</td>\n      <td>https://repository.oceanbestpractices.org/1132...</td>\n      <td>None</td>\n      <td>urn:gleaner.oih:summoned:obps:b7186684bbf5a6b5...</td>\n      <td>https://schema.org/CreativeWork</td>\n      <td>0.8838834764831843</td>\n      <td>Development of a Continuous Phytoplankton Cult...</td>\n      <td>Ocean acidification</td>\n      <td>- Around one third of all anthropogenic CO2 e...</td>\n      <td>None</td>\n    </tr>\n  </tbody>\n</table>\n</div>"
     },
     "execution_count": 5,
     "metadata": {},
     "output_type": "execute_result"
    }
   ],
   "source": [
    "dfsc = get_sparql_dataframe(sparqlep, rq_count)"
   ],
   "metadata": {
    "collapsed": false,
    "ExecuteTime": {
     "end_time": "2023-05-18T12:48:04.041203222Z",
     "start_time": "2023-05-18T12:47:11.004947863Z"
    }
   }
  },
  {
   "cell_type": "code",
   "execution_count": 8,
   "outputs": [
    {
     "data": {
      "text/plain": "                                                   s  \\\n0                        oai:aquadocs.org:1834/22971   \n1                        oai:aquadocs.org:1834/35724   \n2                        oai:aquadocs.org:1834/36288   \n3   oai:repository.oceanbestpractices.org:11329/1267   \n4    oai:repository.oceanbestpractices.org:11329/851   \n5   oai:repository.oceanbestpractices.org:11329/1189   \n6   oai:repository.oceanbestpractices.org:11329/1195   \n7   oai:repository.oceanbestpractices.org:11329/1258   \n8   oai:repository.oceanbestpractices.org:11329/1641   \n9    oai:repository.oceanbestpractices.org:11329/339   \n10   oai:repository.oceanbestpractices.org:11329/878   \n11  oai:repository.oceanbestpractices.org:11329/1268   \n12   oai:repository.oceanbestpractices.org:11329/340   \n13   oai:repository.oceanbestpractices.org:11329/432   \n14   oai:repository.oceanbestpractices.org:11329/934   \n15  oai:repository.oceanbestpractices.org:11329/1380   \n16  oai:repository.oceanbestpractices.org:11329/1712   \n17   oai:repository.oceanbestpractices.org:11329/468   \n18   oai:repository.oceanbestpractices.org:11329/766   \n19                       oai:aquadocs.org:1834/35724   \n20                       oai:aquadocs.org:1834/36288   \n21                       oai:aquadocs.org:1834/19035   \n22                       oai:aquadocs.org:1834/19025   \n23                       oai:aquadocs.org:1834/19048   \n24                       oai:aquadocs.org:1834/19036   \n25                       oai:aquadocs.org:1834/19027   \n26                       oai:aquadocs.org:1834/19023   \n27                       oai:aquadocs.org:1834/19039   \n28                       oai:aquadocs.org:1834/19046   \n29                       oai:aquadocs.org:1834/19049   \n\n                                                  url  dist  \\\n0   http://aquadocs.org/oai/request?/handle/1834/2...  None   \n1   http://aquadocs.org/oai/request?/handle/1834/3...  None   \n2   http://aquadocs.org/oai/request?/handle/1834/3...  None   \n3   https://repository.oceanbestpractices.org/1132...  None   \n4   https://repository.oceanbestpractices.org/1132...  None   \n5   https://repository.oceanbestpractices.org/1132...  None   \n6   https://repository.oceanbestpractices.org/1132...  None   \n7   https://repository.oceanbestpractices.org/1132...  None   \n8   https://repository.oceanbestpractices.org/1132...  None   \n9   https://repository.oceanbestpractices.org/1132...  None   \n10  https://repository.oceanbestpractices.org/1132...  None   \n11  https://repository.oceanbestpractices.org/1132...  None   \n12  https://repository.oceanbestpractices.org/1132...  None   \n13  https://repository.oceanbestpractices.org/1132...  None   \n14  https://repository.oceanbestpractices.org/1132...  None   \n15  https://repository.oceanbestpractices.org/1132...  None   \n16  https://repository.oceanbestpractices.org/1132...  None   \n17  https://repository.oceanbestpractices.org/1132...  None   \n18  https://repository.oceanbestpractices.org/1132...  None   \n19                    https://aquadocs.org/1834/35724  None   \n20                    https://aquadocs.org/1834/36288  None   \n21                    https://aquadocs.org/1834/19035  None   \n22                    https://aquadocs.org/1834/19025  None   \n23                    https://aquadocs.org/1834/19048  None   \n24                    https://aquadocs.org/1834/19036  None   \n25                    https://aquadocs.org/1834/19027  None   \n26                    https://aquadocs.org/1834/19023  None   \n27                    https://aquadocs.org/1834/19039  None   \n28                    https://aquadocs.org/1834/19046  None   \n29                    https://aquadocs.org/1834/19049  None   \n\n                                                    g  \\\n0   urn:gleaner.oih:summoned:invemardocuments:587d...   \n1   urn:gleaner.oih:summoned:invemardocuments:587d...   \n2   urn:gleaner.oih:summoned:invemardocuments:587d...   \n3   urn:gleaner.oih:summoned:obps:b7186684bbf5a6b5...   \n4   urn:gleaner.oih:summoned:obps:b7186684bbf5a6b5...   \n5   urn:gleaner.oih:summoned:obps:b7186684bbf5a6b5...   \n6   urn:gleaner.oih:summoned:obps:b7186684bbf5a6b5...   \n7   urn:gleaner.oih:summoned:obps:b7186684bbf5a6b5...   \n8   urn:gleaner.oih:summoned:obps:b7186684bbf5a6b5...   \n9   urn:gleaner.oih:summoned:obps:b7186684bbf5a6b5...   \n10  urn:gleaner.oih:summoned:obps:b7186684bbf5a6b5...   \n11  urn:gleaner.oih:summoned:obps:b7186684bbf5a6b5...   \n12  urn:gleaner.oih:summoned:obps:b7186684bbf5a6b5...   \n13  urn:gleaner.oih:summoned:obps:b7186684bbf5a6b5...   \n14  urn:gleaner.oih:summoned:obps:b7186684bbf5a6b5...   \n15  urn:gleaner.oih:summoned:obps:b7186684bbf5a6b5...   \n16  urn:gleaner.oih:summoned:obps:b7186684bbf5a6b5...   \n17  urn:gleaner.oih:summoned:obps:b7186684bbf5a6b5...   \n18  urn:gleaner.oih:summoned:obps:b7186684bbf5a6b5...   \n19  urn:gleaner-wf:summoned:aquadocs:afb98c142f721...   \n20  urn:gleaner-wf:summoned:aquadocs:afb98c142f721...   \n21  urn:gleaner-wf:summoned:aquadocs:afb98c142f721...   \n22  urn:gleaner-wf:summoned:aquadocs:afb98c142f721...   \n23  urn:gleaner-wf:summoned:aquadocs:afb98c142f721...   \n24  urn:gleaner-wf:summoned:aquadocs:afb98c142f721...   \n25  urn:gleaner-wf:summoned:aquadocs:afb98c142f721...   \n26  urn:gleaner-wf:summoned:aquadocs:afb98c142f721...   \n27  urn:gleaner-wf:summoned:aquadocs:afb98c142f721...   \n28  urn:gleaner-wf:summoned:aquadocs:afb98c142f721...   \n29  urn:gleaner-wf:summoned:aquadocs:afb98c142f721...   \n\n                               type               score  \\\n0   https://schema.org/CreativeWork  0.8838834764831843   \n1   https://schema.org/CreativeWork  0.8838834764831843   \n2   https://schema.org/CreativeWork  0.8838834764831843   \n3   https://schema.org/CreativeWork  0.8838834764831843   \n4   https://schema.org/CreativeWork  0.8838834764831843   \n5   https://schema.org/CreativeWork  0.8838834764831843   \n6   https://schema.org/CreativeWork  0.8838834764831843   \n7   https://schema.org/CreativeWork  0.8838834764831843   \n8   https://schema.org/CreativeWork  0.8838834764831843   \n9   https://schema.org/CreativeWork  0.8838834764831843   \n10  https://schema.org/CreativeWork  0.8838834764831843   \n11  https://schema.org/CreativeWork  0.8838834764831843   \n12  https://schema.org/CreativeWork  0.8838834764831843   \n13  https://schema.org/CreativeWork  0.8838834764831843   \n14  https://schema.org/CreativeWork  0.8838834764831843   \n15  https://schema.org/CreativeWork  0.8838834764831843   \n16  https://schema.org/CreativeWork  0.8838834764831843   \n17  https://schema.org/CreativeWork  0.8838834764831843   \n18  https://schema.org/CreativeWork  0.8838834764831843   \n19  https://schema.org/CreativeWork  0.8838834764831843   \n20  https://schema.org/CreativeWork  0.8838834764831843   \n21  https://schema.org/CreativeWork  0.8838834764831843   \n22  https://schema.org/CreativeWork  0.8838834764831843   \n23  https://schema.org/CreativeWork  0.8838834764831843   \n24  https://schema.org/CreativeWork  0.8838834764831843   \n25  https://schema.org/CreativeWork  0.8838834764831843   \n26  https://schema.org/CreativeWork  0.8838834764831843   \n27  https://schema.org/CreativeWork  0.8838834764831843   \n28  https://schema.org/CreativeWork  0.8838834764831843   \n29  https://schema.org/CreativeWork  0.8838834764831843   \n\n                                                 name                  lit  \\\n0   A Comparison of the SNP Variation in the Calci...  Ocean Acidification   \n1   Production and carbonate dynamics of Halimeda ...  Ocean acidification   \n2   Climate and oceanography of the Galapagos in t...  ocean acidification   \n3   Arctic Ocean Acidification Assessment: 2018 Su...  Ocean acidification   \n4   Development of a Continuous Phytoplankton Cult...  Ocean acidification   \n5   Perspectives on in situ Sensors for Ocean Acid...  Ocean acidification   \n6   AMAP Assessment 2013: Arctic Ocean Acidification.  Ocean acidification   \n7         How to document - Ocean Acidification Data.  Ocean acidification   \n8   Ocean and Atmospheric Observations at the Remo...  Ocean acidification   \n9   Guide to best practices for ocean acidificatio...  Ocean acidification   \n10  Guidelines for Measuring Changes in Seawater p...  Ocean acidification   \n11  AMAP Assessment 2018: Arctic Ocean Acidification.  Ocean acidification   \n12  Guide to best practices for ocean acidificatio...  Ocean acidification   \n13  Best practices for autonomous measurement of s...  Ocean acidification   \n14  SCOR WG149 Handbook to support the SCOR Best P...  Ocean acidification   \n15  Free-ocean CO2 enrichment (FOCE) systems: pres...  Ocean acidification   \n16  Satellites will address critical science prior...  Ocean acidification   \n17  Beyond the benchtop and the benthos: Dataset m...  Ocean acidification   \n18  Experimental design in ocean acidification res...  Ocean acidification   \n19  Production and carbonate dynamics of Halimeda ...  Ocean acidification   \n20  Climate and oceanography of the Galapagos in t...  ocean acidification   \n21              PICES Press, Vol. 8, No. 2, July 2000  ocean acidification   \n22             PICES Press, Vol. 13, No. 2, July 2005  ocean acidification   \n23           PICES Press, Vol. 2, No. 1, January 1994  ocean acidification   \n24           PICES Press, Vol. 8, No. 1, January 2000  ocean acidification   \n25             PICES Press, Vol. 12, No. 2, July 2004  ocean acidification   \n26             PICES Press, Vol. 14, No. 2, July 2006  ocean acidification   \n27              PICES Press, Vol. 6, No. 2, July 1998  ocean acidification   \n28           PICES Press, Vol. 3, No. 1, January 1995  ocean acidification   \n29              PICES Press, Vol. 1, No. 1, June 1993  ocean acidification   \n\n                                          description headline  \n0   As the atmospheric levels of CO2 rise from hum...     None  \n1   Ocean acidification poses a serious threat to ...     None  \n2   With the likelihood that carbon dioxide and ot...     None  \n3    - This document presents the Summary for  Pol...     None  \n4    - Around one third of all anthropogenic CO2 e...     None  \n5    - As ocean acidification (OA) sensor technolo...     None  \n6    - This assessment report presents the results...     None  \n7    - The number of ocean acidification (OA) stud...     None  \n8    - For open ocean environments, it is rare to ...     None  \n9    - Ocean acidification is an undisputed fact. ...     None  \n10   - These guidelines are written for a variety ...     None  \n11   - This assessment report presents the results...     None  \n12   - This  addendum  provides  critical  informa...     None  \n13   - Performance of autonomous pH sensors is eva...     None  \n14   - Marine species and ecosystems are exposed t...     None  \n15   - Free-ocean CO2 enrichment (FOCE) systems ar...     None  \n16   - The ability to routinely quantify global ca...     None  \n17   - To better understand the impact of ocean ac...     None  \n18   - Ocean acidification has been identified as ...     None  \n19   - Ocean acidification poses a serious threat ...     None  \n20   - With the likelihood that carbon dioxide and...     None  \n21   - Beyond El Nino Conference The status of the...     None  \n22   - PICES in transition: The 3rd inter-sessiona...     None  \n23   - (Document has 16 pages) - ,  - ISSN: 1195-2...     None  \n24   - The state of PICES science - 1999 The statu...     None  \n25   - The future of PICES [pdf, 1.7 MB] Paris by ...     None  \n26   - The 2006 inter-sessional Science Board and ...     None  \n27   - CREAMS, PICES and the exploration of the Ja...     None  \n28                               - ISSN: 1195-2512 -      None  \n29   - (Document has 12 pages) - ,  - ISSN: 1195-2...     None  ",
      "text/html": "<div>\n<style scoped>\n    .dataframe tbody tr th:only-of-type {\n        vertical-align: middle;\n    }\n\n    .dataframe tbody tr th {\n        vertical-align: top;\n    }\n\n    .dataframe thead th {\n        text-align: right;\n    }\n</style>\n<table border=\"1\" class=\"dataframe\">\n  <thead>\n    <tr style=\"text-align: right;\">\n      <th></th>\n      <th>s</th>\n      <th>url</th>\n      <th>dist</th>\n      <th>g</th>\n      <th>type</th>\n      <th>score</th>\n      <th>name</th>\n      <th>lit</th>\n      <th>description</th>\n      <th>headline</th>\n    </tr>\n  </thead>\n  <tbody>\n    <tr>\n      <th>0</th>\n      <td>oai:aquadocs.org:1834/22971</td>\n      <td>http://aquadocs.org/oai/request?/handle/1834/2...</td>\n      <td>None</td>\n      <td>urn:gleaner.oih:summoned:invemardocuments:587d...</td>\n      <td>https://schema.org/CreativeWork</td>\n      <td>0.8838834764831843</td>\n      <td>A Comparison of the SNP Variation in the Calci...</td>\n      <td>Ocean Acidification</td>\n      <td>As the atmospheric levels of CO2 rise from hum...</td>\n      <td>None</td>\n    </tr>\n    <tr>\n      <th>1</th>\n      <td>oai:aquadocs.org:1834/35724</td>\n      <td>http://aquadocs.org/oai/request?/handle/1834/3...</td>\n      <td>None</td>\n      <td>urn:gleaner.oih:summoned:invemardocuments:587d...</td>\n      <td>https://schema.org/CreativeWork</td>\n      <td>0.8838834764831843</td>\n      <td>Production and carbonate dynamics of Halimeda ...</td>\n      <td>Ocean acidification</td>\n      <td>Ocean acidification poses a serious threat to ...</td>\n      <td>None</td>\n    </tr>\n    <tr>\n      <th>2</th>\n      <td>oai:aquadocs.org:1834/36288</td>\n      <td>http://aquadocs.org/oai/request?/handle/1834/3...</td>\n      <td>None</td>\n      <td>urn:gleaner.oih:summoned:invemardocuments:587d...</td>\n      <td>https://schema.org/CreativeWork</td>\n      <td>0.8838834764831843</td>\n      <td>Climate and oceanography of the Galapagos in t...</td>\n      <td>ocean acidification</td>\n      <td>With the likelihood that carbon dioxide and ot...</td>\n      <td>None</td>\n    </tr>\n    <tr>\n      <th>3</th>\n      <td>oai:repository.oceanbestpractices.org:11329/1267</td>\n      <td>https://repository.oceanbestpractices.org/1132...</td>\n      <td>None</td>\n      <td>urn:gleaner.oih:summoned:obps:b7186684bbf5a6b5...</td>\n      <td>https://schema.org/CreativeWork</td>\n      <td>0.8838834764831843</td>\n      <td>Arctic Ocean Acidification Assessment: 2018 Su...</td>\n      <td>Ocean acidification</td>\n      <td>- This document presents the Summary for  Pol...</td>\n      <td>None</td>\n    </tr>\n    <tr>\n      <th>4</th>\n      <td>oai:repository.oceanbestpractices.org:11329/851</td>\n      <td>https://repository.oceanbestpractices.org/1132...</td>\n      <td>None</td>\n      <td>urn:gleaner.oih:summoned:obps:b7186684bbf5a6b5...</td>\n      <td>https://schema.org/CreativeWork</td>\n      <td>0.8838834764831843</td>\n      <td>Development of a Continuous Phytoplankton Cult...</td>\n      <td>Ocean acidification</td>\n      <td>- Around one third of all anthropogenic CO2 e...</td>\n      <td>None</td>\n    </tr>\n    <tr>\n      <th>5</th>\n      <td>oai:repository.oceanbestpractices.org:11329/1189</td>\n      <td>https://repository.oceanbestpractices.org/1132...</td>\n      <td>None</td>\n      <td>urn:gleaner.oih:summoned:obps:b7186684bbf5a6b5...</td>\n      <td>https://schema.org/CreativeWork</td>\n      <td>0.8838834764831843</td>\n      <td>Perspectives on in situ Sensors for Ocean Acid...</td>\n      <td>Ocean acidification</td>\n      <td>- As ocean acidification (OA) sensor technolo...</td>\n      <td>None</td>\n    </tr>\n    <tr>\n      <th>6</th>\n      <td>oai:repository.oceanbestpractices.org:11329/1195</td>\n      <td>https://repository.oceanbestpractices.org/1132...</td>\n      <td>None</td>\n      <td>urn:gleaner.oih:summoned:obps:b7186684bbf5a6b5...</td>\n      <td>https://schema.org/CreativeWork</td>\n      <td>0.8838834764831843</td>\n      <td>AMAP Assessment 2013: Arctic Ocean Acidification.</td>\n      <td>Ocean acidification</td>\n      <td>- This assessment report presents the results...</td>\n      <td>None</td>\n    </tr>\n    <tr>\n      <th>7</th>\n      <td>oai:repository.oceanbestpractices.org:11329/1258</td>\n      <td>https://repository.oceanbestpractices.org/1132...</td>\n      <td>None</td>\n      <td>urn:gleaner.oih:summoned:obps:b7186684bbf5a6b5...</td>\n      <td>https://schema.org/CreativeWork</td>\n      <td>0.8838834764831843</td>\n      <td>How to document - Ocean Acidification Data.</td>\n      <td>Ocean acidification</td>\n      <td>- The number of ocean acidification (OA) stud...</td>\n      <td>None</td>\n    </tr>\n    <tr>\n      <th>8</th>\n      <td>oai:repository.oceanbestpractices.org:11329/1641</td>\n      <td>https://repository.oceanbestpractices.org/1132...</td>\n      <td>None</td>\n      <td>urn:gleaner.oih:summoned:obps:b7186684bbf5a6b5...</td>\n      <td>https://schema.org/CreativeWork</td>\n      <td>0.8838834764831843</td>\n      <td>Ocean and Atmospheric Observations at the Remo...</td>\n      <td>Ocean acidification</td>\n      <td>- For open ocean environments, it is rare to ...</td>\n      <td>None</td>\n    </tr>\n    <tr>\n      <th>9</th>\n      <td>oai:repository.oceanbestpractices.org:11329/339</td>\n      <td>https://repository.oceanbestpractices.org/1132...</td>\n      <td>None</td>\n      <td>urn:gleaner.oih:summoned:obps:b7186684bbf5a6b5...</td>\n      <td>https://schema.org/CreativeWork</td>\n      <td>0.8838834764831843</td>\n      <td>Guide to best practices for ocean acidificatio...</td>\n      <td>Ocean acidification</td>\n      <td>- Ocean acidification is an undisputed fact. ...</td>\n      <td>None</td>\n    </tr>\n    <tr>\n      <th>10</th>\n      <td>oai:repository.oceanbestpractices.org:11329/878</td>\n      <td>https://repository.oceanbestpractices.org/1132...</td>\n      <td>None</td>\n      <td>urn:gleaner.oih:summoned:obps:b7186684bbf5a6b5...</td>\n      <td>https://schema.org/CreativeWork</td>\n      <td>0.8838834764831843</td>\n      <td>Guidelines for Measuring Changes in Seawater p...</td>\n      <td>Ocean acidification</td>\n      <td>- These guidelines are written for a variety ...</td>\n      <td>None</td>\n    </tr>\n    <tr>\n      <th>11</th>\n      <td>oai:repository.oceanbestpractices.org:11329/1268</td>\n      <td>https://repository.oceanbestpractices.org/1132...</td>\n      <td>None</td>\n      <td>urn:gleaner.oih:summoned:obps:b7186684bbf5a6b5...</td>\n      <td>https://schema.org/CreativeWork</td>\n      <td>0.8838834764831843</td>\n      <td>AMAP Assessment 2018: Arctic Ocean Acidification.</td>\n      <td>Ocean acidification</td>\n      <td>- This assessment report presents the results...</td>\n      <td>None</td>\n    </tr>\n    <tr>\n      <th>12</th>\n      <td>oai:repository.oceanbestpractices.org:11329/340</td>\n      <td>https://repository.oceanbestpractices.org/1132...</td>\n      <td>None</td>\n      <td>urn:gleaner.oih:summoned:obps:b7186684bbf5a6b5...</td>\n      <td>https://schema.org/CreativeWork</td>\n      <td>0.8838834764831843</td>\n      <td>Guide to best practices for ocean acidificatio...</td>\n      <td>Ocean acidification</td>\n      <td>- This  addendum  provides  critical  informa...</td>\n      <td>None</td>\n    </tr>\n    <tr>\n      <th>13</th>\n      <td>oai:repository.oceanbestpractices.org:11329/432</td>\n      <td>https://repository.oceanbestpractices.org/1132...</td>\n      <td>None</td>\n      <td>urn:gleaner.oih:summoned:obps:b7186684bbf5a6b5...</td>\n      <td>https://schema.org/CreativeWork</td>\n      <td>0.8838834764831843</td>\n      <td>Best practices for autonomous measurement of s...</td>\n      <td>Ocean acidification</td>\n      <td>- Performance of autonomous pH sensors is eva...</td>\n      <td>None</td>\n    </tr>\n    <tr>\n      <th>14</th>\n      <td>oai:repository.oceanbestpractices.org:11329/934</td>\n      <td>https://repository.oceanbestpractices.org/1132...</td>\n      <td>None</td>\n      <td>urn:gleaner.oih:summoned:obps:b7186684bbf5a6b5...</td>\n      <td>https://schema.org/CreativeWork</td>\n      <td>0.8838834764831843</td>\n      <td>SCOR WG149 Handbook to support the SCOR Best P...</td>\n      <td>Ocean acidification</td>\n      <td>- Marine species and ecosystems are exposed t...</td>\n      <td>None</td>\n    </tr>\n    <tr>\n      <th>15</th>\n      <td>oai:repository.oceanbestpractices.org:11329/1380</td>\n      <td>https://repository.oceanbestpractices.org/1132...</td>\n      <td>None</td>\n      <td>urn:gleaner.oih:summoned:obps:b7186684bbf5a6b5...</td>\n      <td>https://schema.org/CreativeWork</td>\n      <td>0.8838834764831843</td>\n      <td>Free-ocean CO2 enrichment (FOCE) systems: pres...</td>\n      <td>Ocean acidification</td>\n      <td>- Free-ocean CO2 enrichment (FOCE) systems ar...</td>\n      <td>None</td>\n    </tr>\n    <tr>\n      <th>16</th>\n      <td>oai:repository.oceanbestpractices.org:11329/1712</td>\n      <td>https://repository.oceanbestpractices.org/1132...</td>\n      <td>None</td>\n      <td>urn:gleaner.oih:summoned:obps:b7186684bbf5a6b5...</td>\n      <td>https://schema.org/CreativeWork</td>\n      <td>0.8838834764831843</td>\n      <td>Satellites will address critical science prior...</td>\n      <td>Ocean acidification</td>\n      <td>- The ability to routinely quantify global ca...</td>\n      <td>None</td>\n    </tr>\n    <tr>\n      <th>17</th>\n      <td>oai:repository.oceanbestpractices.org:11329/468</td>\n      <td>https://repository.oceanbestpractices.org/1132...</td>\n      <td>None</td>\n      <td>urn:gleaner.oih:summoned:obps:b7186684bbf5a6b5...</td>\n      <td>https://schema.org/CreativeWork</td>\n      <td>0.8838834764831843</td>\n      <td>Beyond the benchtop and the benthos: Dataset m...</td>\n      <td>Ocean acidification</td>\n      <td>- To better understand the impact of ocean ac...</td>\n      <td>None</td>\n    </tr>\n    <tr>\n      <th>18</th>\n      <td>oai:repository.oceanbestpractices.org:11329/766</td>\n      <td>https://repository.oceanbestpractices.org/1132...</td>\n      <td>None</td>\n      <td>urn:gleaner.oih:summoned:obps:b7186684bbf5a6b5...</td>\n      <td>https://schema.org/CreativeWork</td>\n      <td>0.8838834764831843</td>\n      <td>Experimental design in ocean acidification res...</td>\n      <td>Ocean acidification</td>\n      <td>- Ocean acidification has been identified as ...</td>\n      <td>None</td>\n    </tr>\n    <tr>\n      <th>19</th>\n      <td>oai:aquadocs.org:1834/35724</td>\n      <td>https://aquadocs.org/1834/35724</td>\n      <td>None</td>\n      <td>urn:gleaner-wf:summoned:aquadocs:afb98c142f721...</td>\n      <td>https://schema.org/CreativeWork</td>\n      <td>0.8838834764831843</td>\n      <td>Production and carbonate dynamics of Halimeda ...</td>\n      <td>Ocean acidification</td>\n      <td>- Ocean acidification poses a serious threat ...</td>\n      <td>None</td>\n    </tr>\n    <tr>\n      <th>20</th>\n      <td>oai:aquadocs.org:1834/36288</td>\n      <td>https://aquadocs.org/1834/36288</td>\n      <td>None</td>\n      <td>urn:gleaner-wf:summoned:aquadocs:afb98c142f721...</td>\n      <td>https://schema.org/CreativeWork</td>\n      <td>0.8838834764831843</td>\n      <td>Climate and oceanography of the Galapagos in t...</td>\n      <td>ocean acidification</td>\n      <td>- With the likelihood that carbon dioxide and...</td>\n      <td>None</td>\n    </tr>\n    <tr>\n      <th>21</th>\n      <td>oai:aquadocs.org:1834/19035</td>\n      <td>https://aquadocs.org/1834/19035</td>\n      <td>None</td>\n      <td>urn:gleaner-wf:summoned:aquadocs:afb98c142f721...</td>\n      <td>https://schema.org/CreativeWork</td>\n      <td>0.8838834764831843</td>\n      <td>PICES Press, Vol. 8, No. 2, July 2000</td>\n      <td>ocean acidification</td>\n      <td>- Beyond El Nino Conference The status of the...</td>\n      <td>None</td>\n    </tr>\n    <tr>\n      <th>22</th>\n      <td>oai:aquadocs.org:1834/19025</td>\n      <td>https://aquadocs.org/1834/19025</td>\n      <td>None</td>\n      <td>urn:gleaner-wf:summoned:aquadocs:afb98c142f721...</td>\n      <td>https://schema.org/CreativeWork</td>\n      <td>0.8838834764831843</td>\n      <td>PICES Press, Vol. 13, No. 2, July 2005</td>\n      <td>ocean acidification</td>\n      <td>- PICES in transition: The 3rd inter-sessiona...</td>\n      <td>None</td>\n    </tr>\n    <tr>\n      <th>23</th>\n      <td>oai:aquadocs.org:1834/19048</td>\n      <td>https://aquadocs.org/1834/19048</td>\n      <td>None</td>\n      <td>urn:gleaner-wf:summoned:aquadocs:afb98c142f721...</td>\n      <td>https://schema.org/CreativeWork</td>\n      <td>0.8838834764831843</td>\n      <td>PICES Press, Vol. 2, No. 1, January 1994</td>\n      <td>ocean acidification</td>\n      <td>- (Document has 16 pages) - ,  - ISSN: 1195-2...</td>\n      <td>None</td>\n    </tr>\n    <tr>\n      <th>24</th>\n      <td>oai:aquadocs.org:1834/19036</td>\n      <td>https://aquadocs.org/1834/19036</td>\n      <td>None</td>\n      <td>urn:gleaner-wf:summoned:aquadocs:afb98c142f721...</td>\n      <td>https://schema.org/CreativeWork</td>\n      <td>0.8838834764831843</td>\n      <td>PICES Press, Vol. 8, No. 1, January 2000</td>\n      <td>ocean acidification</td>\n      <td>- The state of PICES science - 1999 The statu...</td>\n      <td>None</td>\n    </tr>\n    <tr>\n      <th>25</th>\n      <td>oai:aquadocs.org:1834/19027</td>\n      <td>https://aquadocs.org/1834/19027</td>\n      <td>None</td>\n      <td>urn:gleaner-wf:summoned:aquadocs:afb98c142f721...</td>\n      <td>https://schema.org/CreativeWork</td>\n      <td>0.8838834764831843</td>\n      <td>PICES Press, Vol. 12, No. 2, July 2004</td>\n      <td>ocean acidification</td>\n      <td>- The future of PICES [pdf, 1.7 MB] Paris by ...</td>\n      <td>None</td>\n    </tr>\n    <tr>\n      <th>26</th>\n      <td>oai:aquadocs.org:1834/19023</td>\n      <td>https://aquadocs.org/1834/19023</td>\n      <td>None</td>\n      <td>urn:gleaner-wf:summoned:aquadocs:afb98c142f721...</td>\n      <td>https://schema.org/CreativeWork</td>\n      <td>0.8838834764831843</td>\n      <td>PICES Press, Vol. 14, No. 2, July 2006</td>\n      <td>ocean acidification</td>\n      <td>- The 2006 inter-sessional Science Board and ...</td>\n      <td>None</td>\n    </tr>\n    <tr>\n      <th>27</th>\n      <td>oai:aquadocs.org:1834/19039</td>\n      <td>https://aquadocs.org/1834/19039</td>\n      <td>None</td>\n      <td>urn:gleaner-wf:summoned:aquadocs:afb98c142f721...</td>\n      <td>https://schema.org/CreativeWork</td>\n      <td>0.8838834764831843</td>\n      <td>PICES Press, Vol. 6, No. 2, July 1998</td>\n      <td>ocean acidification</td>\n      <td>- CREAMS, PICES and the exploration of the Ja...</td>\n      <td>None</td>\n    </tr>\n    <tr>\n      <th>28</th>\n      <td>oai:aquadocs.org:1834/19046</td>\n      <td>https://aquadocs.org/1834/19046</td>\n      <td>None</td>\n      <td>urn:gleaner-wf:summoned:aquadocs:afb98c142f721...</td>\n      <td>https://schema.org/CreativeWork</td>\n      <td>0.8838834764831843</td>\n      <td>PICES Press, Vol. 3, No. 1, January 1995</td>\n      <td>ocean acidification</td>\n      <td>- ISSN: 1195-2512 -</td>\n      <td>None</td>\n    </tr>\n    <tr>\n      <th>29</th>\n      <td>oai:aquadocs.org:1834/19049</td>\n      <td>https://aquadocs.org/1834/19049</td>\n      <td>None</td>\n      <td>urn:gleaner-wf:summoned:aquadocs:afb98c142f721...</td>\n      <td>https://schema.org/CreativeWork</td>\n      <td>0.8838834764831843</td>\n      <td>PICES Press, Vol. 1, No. 1, June 1993</td>\n      <td>ocean acidification</td>\n      <td>- (Document has 12 pages) - ,  - ISSN: 1195-2...</td>\n      <td>None</td>\n    </tr>\n  </tbody>\n</table>\n</div>"
     },
     "execution_count": 8,
     "metadata": {},
     "output_type": "execute_result"
    }
   ],
   "source": [
    "dfsc.head(30)"
   ],
   "metadata": {
    "collapsed": false,
    "ExecuteTime": {
     "end_time": "2023-05-18T12:49:16.226022284Z",
     "start_time": "2023-05-18T12:49:16.147205542Z"
    }
   }
  },
  {
   "cell_type": "code",
   "execution_count": 7,
   "outputs": [
    {
     "name": "stdout",
     "output_type": "stream",
     "text": [
      "<class 'pandas.core.frame.DataFrame'>\n",
      "RangeIndex: 98168 entries, 0 to 98167\n",
      "Data columns (total 10 columns):\n",
      " #   Column       Non-Null Count  Dtype \n",
      "---  ------       --------------  ----- \n",
      " 0   s            98168 non-null  object\n",
      " 1   url          28786 non-null  object\n",
      " 2   dist         2835 non-null   object\n",
      " 3   g            98168 non-null  object\n",
      " 4   type         98168 non-null  object\n",
      " 5   score        98168 non-null  object\n",
      " 6   name         23708 non-null  object\n",
      " 7   lit          98168 non-null  object\n",
      " 8   description  29983 non-null  object\n",
      " 9   headline     0 non-null      object\n",
      "dtypes: object(10)\n",
      "memory usage: 7.5+ MB\n"
     ]
    }
   ],
   "source": [
    "dfsc.info()\n"
   ],
   "metadata": {
    "collapsed": false,
    "ExecuteTime": {
     "end_time": "2023-05-18T12:48:38.442243504Z",
     "start_time": "2023-05-18T12:48:38.401173629Z"
    }
   }
  },
  {
   "cell_type": "code",
   "execution_count": null,
   "outputs": [],
   "source": [],
   "metadata": {
    "collapsed": false
   }
  }
 ],
 "metadata": {
  "kernelspec": {
   "display_name": "Python 3",
   "language": "python",
   "name": "python3"
  },
  "language_info": {
   "codemirror_mode": {
    "name": "ipython",
    "version": 2
   },
   "file_extension": ".py",
   "mimetype": "text/x-python",
   "name": "python",
   "nbconvert_exporter": "python",
   "pygments_lexer": "ipython2",
   "version": "2.7.6"
  }
 },
 "nbformat": 4,
 "nbformat_minor": 0
}
