{
 "cells": [
  {
   "cell_type": "markdown",
   "source": [
    "# Ocean Acidification\n",
    "\n",
    "### References\n",
    "\n",
    "* [ocean expert metadata doc](https://oceanexpert.org/document/26001)\n",
    "* [oa erdap](https://erddap.oa.iode.org/erddap/index.html)\n",
    "* An example query (used as guide for below): https://github.com/iodepo/odis-arch/blob/schema-dev-df/code/SPARQL/baseQuery.rq\n",
    "* SHACL shapes for potential reference: https://github.com/iodepo/odis-arch/tree/schema-dev-df/code/SHACL\n",
    "\n",
    "### Need to\n",
    "\n",
    "* Look for datasets with distribution\n",
    "* connect their prov\n",
    "* validate with SHACL for variable measured\n"
   ],
   "metadata": {
    "collapsed": false
   }
  },
  {
   "cell_type": "code",
   "execution_count": 1,
   "outputs": [
    {
     "name": "stderr",
     "output_type": "stream",
     "text": [
      "/home/fils/.local/lib/python3.10/site-packages/rdflib_jsonld/__init__.py:9: DeprecationWarning: The rdflib-jsonld package has been integrated into rdflib as of rdflib==6.0.1.  Please remove rdflib-jsonld from your project's dependencies.\n",
      "  warnings.warn(\n"
     ]
    }
   ],
   "source": [
    "import warnings\n",
    "warnings.simplefilter(action='ignore', category=FutureWarning)\n",
    "\n",
    "from SPARQLWrapper import SPARQLWrapper, JSON\n",
    "import pandas as pd\n",
    "# import dask, boto3\n",
    "# import dask.dataframe as dd\n",
    "import numpy as np\n",
    "import json"
   ],
   "metadata": {
    "collapsed": false,
    "ExecuteTime": {
     "end_time": "2023-05-27T15:51:57.871293780Z",
     "start_time": "2023-05-27T15:51:57.693787568Z"
    }
   }
  },
  {
   "cell_type": "code",
   "execution_count": 2,
   "outputs": [],
   "source": [
    "sparqlep = \"http://graph.oceaninfohub.org/blazegraph/namespace/oih/sparql\"\n"
   ],
   "metadata": {
    "collapsed": false,
    "ExecuteTime": {
     "end_time": "2023-05-27T15:51:59.514193246Z",
     "start_time": "2023-05-27T15:51:59.511209324Z"
    }
   }
  },
  {
   "cell_type": "code",
   "execution_count": 3,
   "outputs": [],
   "source": [
    "#@title\n",
    "def get_sparql_dataframe(service, query):\n",
    "    \"\"\"\n",
    "    Helper function to convert SPARQL results into a Pandas data frame.\n",
    "    \"\"\"\n",
    "    sparql = SPARQLWrapper(service)\n",
    "    sparql.setQuery(query)\n",
    "    sparql.setReturnFormat(JSON)\n",
    "    result = sparql.query()\n",
    "\n",
    "    processed_results = json.load(result.response)\n",
    "    cols = processed_results['head']['vars']\n",
    "\n",
    "    out = []\n",
    "    for row in processed_results['results']['bindings']:\n",
    "        item = []\n",
    "        for c in cols:\n",
    "            item.append(row.get(c, {}).get('value'))\n",
    "        out.append(item)\n",
    "\n",
    "    return pd.DataFrame(out, columns=cols)"
   ],
   "metadata": {
    "collapsed": false,
    "ExecuteTime": {
     "end_time": "2023-05-27T15:52:00.202919912Z",
     "start_time": "2023-05-27T15:52:00.198885476Z"
    }
   }
  },
  {
   "cell_type": "code",
   "execution_count": 4,
   "outputs": [],
   "source": [
    "rq_count = \"\"\"PREFIX rdf: <http://www.w3.org/1999/02/22-rdf-syntax-ns#>\n",
    "PREFIX schema: <https://schema.org/>\n",
    "PREFIX bds: <http://www.bigdata.com/rdf/search#>\n",
    "\n",
    "SELECT DISTINCT  ?s ?url ?dist ?g ?type ?score ?name ?lit ?description ?headline\n",
    "WHERE\n",
    "{\n",
    "   ?lit bds:search \"ocean acidification\" .\n",
    "   ?lit bds:matchAllTerms \"false\" .\n",
    "   ?lit bds:relevance ?score .\n",
    "   graph ?g {\n",
    "    ?s ?p ?lit .\n",
    "    ?s rdf:type ?type .\n",
    "    OPTIONAL { ?s schema:distribution ?dist .   }\n",
    "    OPTIONAL { ?s schema:name ?name .   }\n",
    "    OPTIONAL { ?s schema:headline ?headline .   }\n",
    "    OPTIONAL { ?s schema:url ?url .   }\n",
    "    OPTIONAL { ?s schema:description ?description .    }\n",
    "  }\n",
    "\n",
    "}\n",
    "ORDER BY DESC(?score)\n",
    "OFFSET 0\n",
    "\"\"\""
   ],
   "metadata": {
    "collapsed": false,
    "ExecuteTime": {
     "end_time": "2023-05-27T15:52:01.687974467Z",
     "start_time": "2023-05-27T15:52:01.678619490Z"
    }
   }
  },
  {
   "cell_type": "code",
   "execution_count": 5,
   "outputs": [],
   "source": [
    "dfsc = get_sparql_dataframe(sparqlep, rq_count)"
   ],
   "metadata": {
    "collapsed": false,
    "ExecuteTime": {
     "end_time": "2023-05-27T15:54:36.744211999Z",
     "start_time": "2023-05-27T15:52:02.109777961Z"
    }
   }
  },
  {
   "cell_type": "code",
   "execution_count": 6,
   "outputs": [
    {
     "data": {
      "text/plain": "                                                    s   url  dist  \\\n0   https://catalogue.cioos.ca/dataset/ca-cioos_94...  None  None   \n1   https://catalogue.cioos.ca/dataset/ca-cioos_6d...  None  None   \n2   https://catalogue.cioos.ca/dataset/ca-cioos_28...  None  None   \n3   https://catalogue.cioos.ca/dataset/ca-cioos_46...  None  None   \n4   https://catalogue.cioos.ca/dataset/ca-cioos_fe...  None  None   \n5   https://catalogue.cioos.ca/dataset/ca-cioos_80...  None  None   \n6   https://catalogue.cioos.ca/dataset/ca-cioos_17...  None  None   \n7   https://catalogue.cioos.ca/dataset/ca-cioos_f7...  None  None   \n8   https://catalogue.cioos.ca/dataset/ca-cioos_fe...  None  None   \n9   https://catalogue.cioos.ca/dataset/ca-cioos_b6...  None  None   \n10  https://catalogue.cioos.ca/dataset/ca-cioos_82...  None  None   \n11    https://pacificdata.org/data/dataset/Lenton2016  None  None   \n12    https://pacificdata.org/data/dataset/Devine2013  None  None   \n13      https://pacificdata.org/data/dataset/Sui2016d  None  None   \n14  https://pacificdata.org/data/dataset/Manzello2014  None  None   \n15  https://pacificdata.org/data/dataset/ae2f7e35-...  None  None   \n16            https://pacificdata.org/data/dataset/Li  None  None   \n17       https://pacificdata.org/data/dataset/Hu2017c  None  None   \n18  https://pacificdata.org/data/dataset/Falkenber...  None  None   \n19   https://pacificdata.org/data/dataset/Rivest2018a  None  None   \n20   https://pacificdata.org/data/dataset/Koweek2017a  None  None   \n21    https://pacificdata.org/data/dataset/Smith2009b  None  None   \n22   https://pacificdata.org/data/dataset/Wisshak2013  None  None   \n23  https://pacificdata.org/data/dataset/Noisette2...  None  None   \n24    https://pacificdata.org/data/dataset/Davis2018a  None  None   \n25        https://pacificdata.org/data/dataset/Hu2015  None  None   \n26    https://pacificdata.org/data/dataset/Hoeke2011a  None  None   \n27  https://pacificdata.org/data/dataset/Tatters2013b  None  None   \n28  https://pacificdata.org/data/dataset/Regenberg...  None  None   \n29   https://pacificdata.org/data/dataset/Rocker2015b  None  None   \n\n                                                    g  \\\n0   urn:gleaner.oih:cioos:06ad273673d73ea121b46ccb...   \n1   urn:gleaner.oih:cioos:07b8dbe98aa969748be4ccd9...   \n2   urn:gleaner.oih:cioos:470274a756f88f69ab10ba8b...   \n3   urn:gleaner.oih:cioos:5b269267eff9816d38de6111...   \n4   urn:gleaner.oih:cioos:9da9e91c55f1e3a24526fd7c...   \n5   urn:gleaner.oih:cioos:a93ce67b3674406c3128f45f...   \n6   urn:gleaner.oih:cioos:b1784e3376afc7eb9f4b713c...   \n7   urn:gleaner.oih:cioos:b923332b130b7d5115695f55...   \n8   urn:gleaner.oih:cioos:fd138ecf934ae5539fe11454...   \n9   urn:gleaner.oih:cioos:ffbf74e046ba420f7dfbd6c6...   \n10  urn:gleaner.oih:cioos:26185a45223a4cf483022272...   \n11  urn:gleaner.oih:pdh:bbddbba0b6ec7d95de1c4be642...   \n12  urn:gleaner.oih:pdh:bdd407599c52a3611426349991...   \n13  urn:gleaner.oih:pdh:be25fee24195ea11f2da62b00d...   \n14  urn:gleaner.oih:pdh:bf7258e479629942c9559f95f8...   \n15  urn:gleaner.oih:pdh:c529f44d3e29cbb370ad544e69...   \n16  urn:gleaner.oih:pdh:c80ab32b274a72df52605b5916...   \n17  urn:gleaner.oih:pdh:c931c1ef29eccdf87ffe741eb5...   \n18  urn:gleaner.oih:pdh:c9be78e3cc2b196d707260688e...   \n19  urn:gleaner.oih:pdh:ce0333701b98080fa8b0fa5255...   \n20  urn:gleaner.oih:pdh:d0b609fc7619b2aad3cc8524e4...   \n21  urn:gleaner.oih:pdh:d15f1be05485390cd6973da5bf...   \n22  urn:gleaner.oih:pdh:d1aa4c8111b2ba972b202133b8...   \n23  urn:gleaner.oih:pdh:d5242e9ec68844dd591ca41e3a...   \n24  urn:gleaner.oih:pdh:d7b2842c0af6a6183d4b65ea23...   \n25  urn:gleaner.oih:pdh:0082957d261de96a6c763133be...   \n26  urn:gleaner.oih:pdh:01501c17a45d0f78f8ab82f693...   \n27  urn:gleaner.oih:pdh:015e5b63843024e753cce0dfe1...   \n28  urn:gleaner.oih:pdh:02067a1adb8acdefa3a90b8974...   \n29  urn:gleaner.oih:pdh:050a4eba54d3f2a0ea6e77160a...   \n\n                         type               score  name                  lit  \\\n0   http://schema.org/Dataset  0.8838834764831843  None  ocean-acidification   \n1   http://schema.org/Dataset  0.8838834764831843  None  ocean-acidification   \n2   http://schema.org/Dataset  0.8838834764831843  None  ocean-acidification   \n3   http://schema.org/Dataset  0.8838834764831843  None  ocean-acidification   \n4   http://schema.org/Dataset  0.8838834764831843  None  ocean-acidification   \n5   http://schema.org/Dataset  0.8838834764831843  None  ocean-acidification   \n6   http://schema.org/Dataset  0.8838834764831843  None  ocean-acidification   \n7   http://schema.org/Dataset  0.8838834764831843  None  ocean-acidification   \n8   http://schema.org/Dataset  0.8838834764831843  None  ocean-acidification   \n9   http://schema.org/Dataset  0.8838834764831843  None  ocean-acidification   \n10  http://schema.org/Dataset  0.8838834764831843  None  ocean-acidification   \n11  http://schema.org/Dataset  0.8838834764831843  None  ocean-acidification   \n12  http://schema.org/Dataset  0.8838834764831843  None  ocean-acidification   \n13  http://schema.org/Dataset  0.8838834764831843  None  ocean-acidification   \n14  http://schema.org/Dataset  0.8838834764831843  None  ocean-acidification   \n15  http://schema.org/Dataset  0.8838834764831843  None  ocean-acidification   \n16  http://schema.org/Dataset  0.8838834764831843  None  ocean-acidification   \n17  http://schema.org/Dataset  0.8838834764831843  None  ocean-acidification   \n18  http://schema.org/Dataset  0.8838834764831843  None  ocean-acidification   \n19  http://schema.org/Dataset  0.8838834764831843  None  ocean-acidification   \n20  http://schema.org/Dataset  0.8838834764831843  None  ocean-acidification   \n21  http://schema.org/Dataset  0.8838834764831843  None  ocean-acidification   \n22  http://schema.org/Dataset  0.8838834764831843  None  ocean-acidification   \n23  http://schema.org/Dataset  0.8838834764831843  None  ocean-acidification   \n24  http://schema.org/Dataset  0.8838834764831843  None  ocean-acidification   \n25  http://schema.org/Dataset  0.8838834764831843  None  ocean-acidification   \n26  http://schema.org/Dataset  0.8838834764831843  None  ocean-acidification   \n27  http://schema.org/Dataset  0.8838834764831843  None  ocean-acidification   \n28  http://schema.org/Dataset  0.8838834764831843  None  ocean-acidification   \n29  http://schema.org/Dataset  0.8838834764831843  None  ocean-acidification   \n\n   description headline  \n0         None     None  \n1         None     None  \n2         None     None  \n3         None     None  \n4         None     None  \n5         None     None  \n6         None     None  \n7         None     None  \n8         None     None  \n9         None     None  \n10        None     None  \n11        None     None  \n12        None     None  \n13        None     None  \n14        None     None  \n15        None     None  \n16        None     None  \n17        None     None  \n18        None     None  \n19        None     None  \n20        None     None  \n21        None     None  \n22        None     None  \n23        None     None  \n24        None     None  \n25        None     None  \n26        None     None  \n27        None     None  \n28        None     None  \n29        None     None  ",
      "text/html": "<div>\n<style scoped>\n    .dataframe tbody tr th:only-of-type {\n        vertical-align: middle;\n    }\n\n    .dataframe tbody tr th {\n        vertical-align: top;\n    }\n\n    .dataframe thead th {\n        text-align: right;\n    }\n</style>\n<table border=\"1\" class=\"dataframe\">\n  <thead>\n    <tr style=\"text-align: right;\">\n      <th></th>\n      <th>s</th>\n      <th>url</th>\n      <th>dist</th>\n      <th>g</th>\n      <th>type</th>\n      <th>score</th>\n      <th>name</th>\n      <th>lit</th>\n      <th>description</th>\n      <th>headline</th>\n    </tr>\n  </thead>\n  <tbody>\n    <tr>\n      <th>0</th>\n      <td>https://catalogue.cioos.ca/dataset/ca-cioos_94...</td>\n      <td>None</td>\n      <td>None</td>\n      <td>urn:gleaner.oih:cioos:06ad273673d73ea121b46ccb...</td>\n      <td>http://schema.org/Dataset</td>\n      <td>0.8838834764831843</td>\n      <td>None</td>\n      <td>ocean-acidification</td>\n      <td>None</td>\n      <td>None</td>\n    </tr>\n    <tr>\n      <th>1</th>\n      <td>https://catalogue.cioos.ca/dataset/ca-cioos_6d...</td>\n      <td>None</td>\n      <td>None</td>\n      <td>urn:gleaner.oih:cioos:07b8dbe98aa969748be4ccd9...</td>\n      <td>http://schema.org/Dataset</td>\n      <td>0.8838834764831843</td>\n      <td>None</td>\n      <td>ocean-acidification</td>\n      <td>None</td>\n      <td>None</td>\n    </tr>\n    <tr>\n      <th>2</th>\n      <td>https://catalogue.cioos.ca/dataset/ca-cioos_28...</td>\n      <td>None</td>\n      <td>None</td>\n      <td>urn:gleaner.oih:cioos:470274a756f88f69ab10ba8b...</td>\n      <td>http://schema.org/Dataset</td>\n      <td>0.8838834764831843</td>\n      <td>None</td>\n      <td>ocean-acidification</td>\n      <td>None</td>\n      <td>None</td>\n    </tr>\n    <tr>\n      <th>3</th>\n      <td>https://catalogue.cioos.ca/dataset/ca-cioos_46...</td>\n      <td>None</td>\n      <td>None</td>\n      <td>urn:gleaner.oih:cioos:5b269267eff9816d38de6111...</td>\n      <td>http://schema.org/Dataset</td>\n      <td>0.8838834764831843</td>\n      <td>None</td>\n      <td>ocean-acidification</td>\n      <td>None</td>\n      <td>None</td>\n    </tr>\n    <tr>\n      <th>4</th>\n      <td>https://catalogue.cioos.ca/dataset/ca-cioos_fe...</td>\n      <td>None</td>\n      <td>None</td>\n      <td>urn:gleaner.oih:cioos:9da9e91c55f1e3a24526fd7c...</td>\n      <td>http://schema.org/Dataset</td>\n      <td>0.8838834764831843</td>\n      <td>None</td>\n      <td>ocean-acidification</td>\n      <td>None</td>\n      <td>None</td>\n    </tr>\n    <tr>\n      <th>5</th>\n      <td>https://catalogue.cioos.ca/dataset/ca-cioos_80...</td>\n      <td>None</td>\n      <td>None</td>\n      <td>urn:gleaner.oih:cioos:a93ce67b3674406c3128f45f...</td>\n      <td>http://schema.org/Dataset</td>\n      <td>0.8838834764831843</td>\n      <td>None</td>\n      <td>ocean-acidification</td>\n      <td>None</td>\n      <td>None</td>\n    </tr>\n    <tr>\n      <th>6</th>\n      <td>https://catalogue.cioos.ca/dataset/ca-cioos_17...</td>\n      <td>None</td>\n      <td>None</td>\n      <td>urn:gleaner.oih:cioos:b1784e3376afc7eb9f4b713c...</td>\n      <td>http://schema.org/Dataset</td>\n      <td>0.8838834764831843</td>\n      <td>None</td>\n      <td>ocean-acidification</td>\n      <td>None</td>\n      <td>None</td>\n    </tr>\n    <tr>\n      <th>7</th>\n      <td>https://catalogue.cioos.ca/dataset/ca-cioos_f7...</td>\n      <td>None</td>\n      <td>None</td>\n      <td>urn:gleaner.oih:cioos:b923332b130b7d5115695f55...</td>\n      <td>http://schema.org/Dataset</td>\n      <td>0.8838834764831843</td>\n      <td>None</td>\n      <td>ocean-acidification</td>\n      <td>None</td>\n      <td>None</td>\n    </tr>\n    <tr>\n      <th>8</th>\n      <td>https://catalogue.cioos.ca/dataset/ca-cioos_fe...</td>\n      <td>None</td>\n      <td>None</td>\n      <td>urn:gleaner.oih:cioos:fd138ecf934ae5539fe11454...</td>\n      <td>http://schema.org/Dataset</td>\n      <td>0.8838834764831843</td>\n      <td>None</td>\n      <td>ocean-acidification</td>\n      <td>None</td>\n      <td>None</td>\n    </tr>\n    <tr>\n      <th>9</th>\n      <td>https://catalogue.cioos.ca/dataset/ca-cioos_b6...</td>\n      <td>None</td>\n      <td>None</td>\n      <td>urn:gleaner.oih:cioos:ffbf74e046ba420f7dfbd6c6...</td>\n      <td>http://schema.org/Dataset</td>\n      <td>0.8838834764831843</td>\n      <td>None</td>\n      <td>ocean-acidification</td>\n      <td>None</td>\n      <td>None</td>\n    </tr>\n    <tr>\n      <th>10</th>\n      <td>https://catalogue.cioos.ca/dataset/ca-cioos_82...</td>\n      <td>None</td>\n      <td>None</td>\n      <td>urn:gleaner.oih:cioos:26185a45223a4cf483022272...</td>\n      <td>http://schema.org/Dataset</td>\n      <td>0.8838834764831843</td>\n      <td>None</td>\n      <td>ocean-acidification</td>\n      <td>None</td>\n      <td>None</td>\n    </tr>\n    <tr>\n      <th>11</th>\n      <td>https://pacificdata.org/data/dataset/Lenton2016</td>\n      <td>None</td>\n      <td>None</td>\n      <td>urn:gleaner.oih:pdh:bbddbba0b6ec7d95de1c4be642...</td>\n      <td>http://schema.org/Dataset</td>\n      <td>0.8838834764831843</td>\n      <td>None</td>\n      <td>ocean-acidification</td>\n      <td>None</td>\n      <td>None</td>\n    </tr>\n    <tr>\n      <th>12</th>\n      <td>https://pacificdata.org/data/dataset/Devine2013</td>\n      <td>None</td>\n      <td>None</td>\n      <td>urn:gleaner.oih:pdh:bdd407599c52a3611426349991...</td>\n      <td>http://schema.org/Dataset</td>\n      <td>0.8838834764831843</td>\n      <td>None</td>\n      <td>ocean-acidification</td>\n      <td>None</td>\n      <td>None</td>\n    </tr>\n    <tr>\n      <th>13</th>\n      <td>https://pacificdata.org/data/dataset/Sui2016d</td>\n      <td>None</td>\n      <td>None</td>\n      <td>urn:gleaner.oih:pdh:be25fee24195ea11f2da62b00d...</td>\n      <td>http://schema.org/Dataset</td>\n      <td>0.8838834764831843</td>\n      <td>None</td>\n      <td>ocean-acidification</td>\n      <td>None</td>\n      <td>None</td>\n    </tr>\n    <tr>\n      <th>14</th>\n      <td>https://pacificdata.org/data/dataset/Manzello2014</td>\n      <td>None</td>\n      <td>None</td>\n      <td>urn:gleaner.oih:pdh:bf7258e479629942c9559f95f8...</td>\n      <td>http://schema.org/Dataset</td>\n      <td>0.8838834764831843</td>\n      <td>None</td>\n      <td>ocean-acidification</td>\n      <td>None</td>\n      <td>None</td>\n    </tr>\n    <tr>\n      <th>15</th>\n      <td>https://pacificdata.org/data/dataset/ae2f7e35-...</td>\n      <td>None</td>\n      <td>None</td>\n      <td>urn:gleaner.oih:pdh:c529f44d3e29cbb370ad544e69...</td>\n      <td>http://schema.org/Dataset</td>\n      <td>0.8838834764831843</td>\n      <td>None</td>\n      <td>ocean-acidification</td>\n      <td>None</td>\n      <td>None</td>\n    </tr>\n    <tr>\n      <th>16</th>\n      <td>https://pacificdata.org/data/dataset/Li</td>\n      <td>None</td>\n      <td>None</td>\n      <td>urn:gleaner.oih:pdh:c80ab32b274a72df52605b5916...</td>\n      <td>http://schema.org/Dataset</td>\n      <td>0.8838834764831843</td>\n      <td>None</td>\n      <td>ocean-acidification</td>\n      <td>None</td>\n      <td>None</td>\n    </tr>\n    <tr>\n      <th>17</th>\n      <td>https://pacificdata.org/data/dataset/Hu2017c</td>\n      <td>None</td>\n      <td>None</td>\n      <td>urn:gleaner.oih:pdh:c931c1ef29eccdf87ffe741eb5...</td>\n      <td>http://schema.org/Dataset</td>\n      <td>0.8838834764831843</td>\n      <td>None</td>\n      <td>ocean-acidification</td>\n      <td>None</td>\n      <td>None</td>\n    </tr>\n    <tr>\n      <th>18</th>\n      <td>https://pacificdata.org/data/dataset/Falkenber...</td>\n      <td>None</td>\n      <td>None</td>\n      <td>urn:gleaner.oih:pdh:c9be78e3cc2b196d707260688e...</td>\n      <td>http://schema.org/Dataset</td>\n      <td>0.8838834764831843</td>\n      <td>None</td>\n      <td>ocean-acidification</td>\n      <td>None</td>\n      <td>None</td>\n    </tr>\n    <tr>\n      <th>19</th>\n      <td>https://pacificdata.org/data/dataset/Rivest2018a</td>\n      <td>None</td>\n      <td>None</td>\n      <td>urn:gleaner.oih:pdh:ce0333701b98080fa8b0fa5255...</td>\n      <td>http://schema.org/Dataset</td>\n      <td>0.8838834764831843</td>\n      <td>None</td>\n      <td>ocean-acidification</td>\n      <td>None</td>\n      <td>None</td>\n    </tr>\n    <tr>\n      <th>20</th>\n      <td>https://pacificdata.org/data/dataset/Koweek2017a</td>\n      <td>None</td>\n      <td>None</td>\n      <td>urn:gleaner.oih:pdh:d0b609fc7619b2aad3cc8524e4...</td>\n      <td>http://schema.org/Dataset</td>\n      <td>0.8838834764831843</td>\n      <td>None</td>\n      <td>ocean-acidification</td>\n      <td>None</td>\n      <td>None</td>\n    </tr>\n    <tr>\n      <th>21</th>\n      <td>https://pacificdata.org/data/dataset/Smith2009b</td>\n      <td>None</td>\n      <td>None</td>\n      <td>urn:gleaner.oih:pdh:d15f1be05485390cd6973da5bf...</td>\n      <td>http://schema.org/Dataset</td>\n      <td>0.8838834764831843</td>\n      <td>None</td>\n      <td>ocean-acidification</td>\n      <td>None</td>\n      <td>None</td>\n    </tr>\n    <tr>\n      <th>22</th>\n      <td>https://pacificdata.org/data/dataset/Wisshak2013</td>\n      <td>None</td>\n      <td>None</td>\n      <td>urn:gleaner.oih:pdh:d1aa4c8111b2ba972b202133b8...</td>\n      <td>http://schema.org/Dataset</td>\n      <td>0.8838834764831843</td>\n      <td>None</td>\n      <td>ocean-acidification</td>\n      <td>None</td>\n      <td>None</td>\n    </tr>\n    <tr>\n      <th>23</th>\n      <td>https://pacificdata.org/data/dataset/Noisette2...</td>\n      <td>None</td>\n      <td>None</td>\n      <td>urn:gleaner.oih:pdh:d5242e9ec68844dd591ca41e3a...</td>\n      <td>http://schema.org/Dataset</td>\n      <td>0.8838834764831843</td>\n      <td>None</td>\n      <td>ocean-acidification</td>\n      <td>None</td>\n      <td>None</td>\n    </tr>\n    <tr>\n      <th>24</th>\n      <td>https://pacificdata.org/data/dataset/Davis2018a</td>\n      <td>None</td>\n      <td>None</td>\n      <td>urn:gleaner.oih:pdh:d7b2842c0af6a6183d4b65ea23...</td>\n      <td>http://schema.org/Dataset</td>\n      <td>0.8838834764831843</td>\n      <td>None</td>\n      <td>ocean-acidification</td>\n      <td>None</td>\n      <td>None</td>\n    </tr>\n    <tr>\n      <th>25</th>\n      <td>https://pacificdata.org/data/dataset/Hu2015</td>\n      <td>None</td>\n      <td>None</td>\n      <td>urn:gleaner.oih:pdh:0082957d261de96a6c763133be...</td>\n      <td>http://schema.org/Dataset</td>\n      <td>0.8838834764831843</td>\n      <td>None</td>\n      <td>ocean-acidification</td>\n      <td>None</td>\n      <td>None</td>\n    </tr>\n    <tr>\n      <th>26</th>\n      <td>https://pacificdata.org/data/dataset/Hoeke2011a</td>\n      <td>None</td>\n      <td>None</td>\n      <td>urn:gleaner.oih:pdh:01501c17a45d0f78f8ab82f693...</td>\n      <td>http://schema.org/Dataset</td>\n      <td>0.8838834764831843</td>\n      <td>None</td>\n      <td>ocean-acidification</td>\n      <td>None</td>\n      <td>None</td>\n    </tr>\n    <tr>\n      <th>27</th>\n      <td>https://pacificdata.org/data/dataset/Tatters2013b</td>\n      <td>None</td>\n      <td>None</td>\n      <td>urn:gleaner.oih:pdh:015e5b63843024e753cce0dfe1...</td>\n      <td>http://schema.org/Dataset</td>\n      <td>0.8838834764831843</td>\n      <td>None</td>\n      <td>ocean-acidification</td>\n      <td>None</td>\n      <td>None</td>\n    </tr>\n    <tr>\n      <th>28</th>\n      <td>https://pacificdata.org/data/dataset/Regenberg...</td>\n      <td>None</td>\n      <td>None</td>\n      <td>urn:gleaner.oih:pdh:02067a1adb8acdefa3a90b8974...</td>\n      <td>http://schema.org/Dataset</td>\n      <td>0.8838834764831843</td>\n      <td>None</td>\n      <td>ocean-acidification</td>\n      <td>None</td>\n      <td>None</td>\n    </tr>\n    <tr>\n      <th>29</th>\n      <td>https://pacificdata.org/data/dataset/Rocker2015b</td>\n      <td>None</td>\n      <td>None</td>\n      <td>urn:gleaner.oih:pdh:050a4eba54d3f2a0ea6e77160a...</td>\n      <td>http://schema.org/Dataset</td>\n      <td>0.8838834764831843</td>\n      <td>None</td>\n      <td>ocean-acidification</td>\n      <td>None</td>\n      <td>None</td>\n    </tr>\n  </tbody>\n</table>\n</div>"
     },
     "execution_count": 6,
     "metadata": {},
     "output_type": "execute_result"
    }
   ],
   "source": [
    "dfsc.head(30)"
   ],
   "metadata": {
    "collapsed": false,
    "ExecuteTime": {
     "end_time": "2023-05-27T15:58:23.461733852Z",
     "start_time": "2023-05-27T15:58:23.415920007Z"
    }
   }
  },
  {
   "cell_type": "code",
   "execution_count": 7,
   "outputs": [
    {
     "name": "stdout",
     "output_type": "stream",
     "text": [
      "<class 'pandas.core.frame.DataFrame'>\n",
      "RangeIndex: 98168 entries, 0 to 98167\n",
      "Data columns (total 10 columns):\n",
      " #   Column       Non-Null Count  Dtype \n",
      "---  ------       --------------  ----- \n",
      " 0   s            98168 non-null  object\n",
      " 1   url          28786 non-null  object\n",
      " 2   dist         2835 non-null   object\n",
      " 3   g            98168 non-null  object\n",
      " 4   type         98168 non-null  object\n",
      " 5   score        98168 non-null  object\n",
      " 6   name         23708 non-null  object\n",
      " 7   lit          98168 non-null  object\n",
      " 8   description  29983 non-null  object\n",
      " 9   headline     0 non-null      object\n",
      "dtypes: object(10)\n",
      "memory usage: 7.5+ MB\n"
     ]
    }
   ],
   "source": [
    "dfsc.info()\n"
   ],
   "metadata": {
    "collapsed": false,
    "ExecuteTime": {
     "end_time": "2023-05-18T12:48:38.442243504Z",
     "start_time": "2023-05-18T12:48:38.401173629Z"
    }
   }
  },
  {
   "cell_type": "code",
   "execution_count": null,
   "outputs": [],
   "source": [],
   "metadata": {
    "collapsed": false
   }
  }
 ],
 "metadata": {
  "kernelspec": {
   "display_name": "Python 3",
   "language": "python",
   "name": "python3"
  },
  "language_info": {
   "codemirror_mode": {
    "name": "ipython",
    "version": 2
   },
   "file_extension": ".py",
   "mimetype": "text/x-python",
   "name": "python",
   "nbconvert_exporter": "python",
   "pygments_lexer": "ipython2",
   "version": "2.7.6"
  }
 },
 "nbformat": 4,
 "nbformat_minor": 0
}
