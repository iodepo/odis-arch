{
 "cells": [
  {
   "cell_type": "markdown",
   "metadata": {
    "tags": []
   },
   "source": [
    "# OIH Dashboard pre-processor\n",
    "\n",
    "This notebook demonstrates some approachs for processing the release graphs into a format that\n",
    "is useful for the Dashboard UI\n"
   ]
  },
  {
   "cell_type": "code",
   "execution_count": 2,
   "metadata": {
    "collapsed": false,
    "jupyter": {
     "outputs_hidden": false
    },
    "tags": [],
    "ExecuteTime": {
     "end_time": "2023-06-14T12:02:56.088236760Z",
     "start_time": "2023-06-14T12:02:54.495776612Z"
    }
   },
   "outputs": [],
   "source": [
    "import warnings\n",
    "warnings.simplefilter(action='ignore', category=FutureWarning)  ## remove pandas future warning\n",
    "\n",
    "import s3fs\n",
    "import pyarrow.parquet as pq\n",
    "import os\n",
    "import re\n",
    "import kglab\n",
    "from minio import Minio\n",
    "import rdflib\n",
    "from rdflib import ConjunctiveGraph  #  needed for nquads"
   ]
  },
  {
   "cell_type": "code",
   "execution_count": 3,
   "metadata": {
    "collapsed": false,
    "jupyter": {
     "outputs_hidden": false
    },
    "tags": [],
    "ExecuteTime": {
     "end_time": "2023-06-14T12:02:56.091615116Z",
     "start_time": "2023-06-14T12:02:56.090491937Z"
    }
   },
   "outputs": [],
   "source": [
    "def publicurls(client, bucket, prefix):\n",
    "    urls = []\n",
    "    objects = client.list_objects(bucket, prefix=prefix, recursive=True)\n",
    "    for obj in objects:\n",
    "        result = client.stat_object(bucket, obj.object_name)\n",
    "\n",
    "        if result.size > 0:  #  how to tell if an objet   obj.is_public  ?????\n",
    "            url = client.presigned_get_object(bucket, obj.object_name)\n",
    "            # print(f\"Public URL for object: {url}\")\n",
    "            urls.append(url)\n",
    "\n",
    "    return urls"
   ]
  },
  {
   "cell_type": "code",
   "execution_count": 4,
   "metadata": {
    "tags": [],
    "ExecuteTime": {
     "end_time": "2023-06-14T12:02:56.761798855Z",
     "start_time": "2023-06-14T12:02:56.750693586Z"
    }
   },
   "outputs": [
    {
     "name": "stdout",
     "output_type": "stream",
     "text": [
      "0\n"
     ]
    }
   ],
   "source": [
    "# Check for using GPU, in case you want to ensure your GPU is used\n",
    "gc = kglab.get_gpu_count()\n",
    "print(gc)"
   ]
  },
  {
   "cell_type": "code",
   "execution_count": 5,
   "metadata": {
    "collapsed": false,
    "jupyter": {
     "outputs_hidden": false
    },
    "tags": [],
    "ExecuteTime": {
     "end_time": "2023-06-14T12:03:03.865296113Z",
     "start_time": "2023-06-14T12:03:01.615772273Z"
    }
   },
   "outputs": [],
   "source": [
    "client = Minio(\"ossapi.oceaninfohub.org:80\",  secure=False) # Create client with anonymous access.\n",
    "urls = publicurls(client, \"public\", \"graph\")"
   ]
  },
  {
   "cell_type": "code",
   "execution_count": 6,
   "metadata": {
    "collapsed": false,
    "jupyter": {
     "outputs_hidden": false
    },
    "tags": [],
    "ExecuteTime": {
     "end_time": "2023-06-14T12:03:03.868772238Z",
     "start_time": "2023-06-14T12:03:03.866045317Z"
    }
   },
   "outputs": [
    {
     "name": "stdout",
     "output_type": "stream",
     "text": [
      "['http://ossapi.oceaninfohub.org/public/graphs/summonedafricaioc_v1_release.nq', 'http://ossapi.oceaninfohub.org/public/graphs/summonedaquadocs_v1_release.nq', 'http://ossapi.oceaninfohub.org/public/graphs/summonedcioos_v1_release.nq', 'http://ossapi.oceaninfohub.org/public/graphs/summonededmerp_v1_release.nq', 'http://ossapi.oceaninfohub.org/public/graphs/summonededmo_v1_release.nq', 'http://ossapi.oceaninfohub.org/public/graphs/summonedemodnet_v1_release.nq', 'http://ossapi.oceaninfohub.org/public/graphs/summonedinanodc_v1_release.nq', 'http://ossapi.oceaninfohub.org/public/graphs/summonedinvemardocuments_v1_release.nq', 'http://ossapi.oceaninfohub.org/public/graphs/summonedinvemarexperts_v1_release.nq', 'http://ossapi.oceaninfohub.org/public/graphs/summonedinvemarinstitutions_v1_release.nq', 'http://ossapi.oceaninfohub.org/public/graphs/summonedinvemartraining_v1_release.nq', 'http://ossapi.oceaninfohub.org/public/graphs/summonedinvemarvessels_v1_release.nq', 'http://ossapi.oceaninfohub.org/public/graphs/summonedmarinetraining_v1_release.nq', 'http://ossapi.oceaninfohub.org/public/graphs/summonedobis_v1_release.nq', 'http://ossapi.oceaninfohub.org/public/graphs/summonedobps_v1_release.nq', 'http://ossapi.oceaninfohub.org/public/graphs/summonedoceanexperts_v1_release.nq', 'http://ossapi.oceaninfohub.org/public/graphs/summonedpdh_v1_release.nq']\n"
     ]
    }
   ],
   "source": [
    "print(urls)"
   ]
  },
  {
   "cell_type": "markdown",
   "metadata": {},
   "source": [
    "## Single Graph Load\n",
    "\n",
    "At this point we have the URLs and we could either loop load all of them or pull one out manually and use.  This section dmonstrates loading and working with one\n"
   ]
  },
  {
   "cell_type": "code",
   "execution_count": 6,
   "metadata": {
    "tags": [],
    "ExecuteTime": {
     "end_time": "2023-06-14T01:23:49.257302702Z",
     "start_time": "2023-06-14T01:23:42.092354651Z"
    }
   },
   "outputs": [
    {
     "name": "stdout",
     "output_type": "stream",
     "text": [
      "161187\n"
     ]
    }
   ],
   "source": [
    "# load quad graph\n",
    "g = ConjunctiveGraph()\n",
    "g.parse(\"http://ossapi.oceaninfohub.org/public/graphs/summonedobis_v1_release.nq\", format=\"nquads\")\n",
    "print(len(g))"
   ]
  },
  {
   "cell_type": "code",
   "execution_count": 7,
   "metadata": {
    "tags": [],
    "ExecuteTime": {
     "end_time": "2023-06-14T01:23:49.260423444Z",
     "start_time": "2023-06-14T01:23:49.258022352Z"
    }
   },
   "outputs": [],
   "source": [
    "namespaces = {\n",
    "    \"shacl\":   \"http://www.w3.org/ns/shacl#\" ,\n",
    "    \"schmea\":   \"https://schema.org/\" ,\n",
    "    \"schemawrong\": \"http://schema.org/\",\n",
    "    \"geo\":      \"http://www.opengis.net/ont/geosparql#\",\n",
    "}\n",
    "\n",
    "kg = kglab.KnowledgeGraph(name = \"OIH test\", base_uri = \"https://oceaninfohub.org/id/\", namespaces = namespaces, use_gpus=True, import_graph = g)"
   ]
  },
  {
   "cell_type": "code",
   "execution_count": 8,
   "metadata": {
    "tags": [],
    "ExecuteTime": {
     "end_time": "2023-06-14T01:23:53.661745796Z",
     "start_time": "2023-06-14T01:23:49.260717858Z"
    }
   },
   "outputs": [],
   "source": [
    "sparql = \"\"\"\n",
    "PREFIX schema: <https://schema.org/>\n",
    "\n",
    "\n",
    "SELECT ?s ?type ?desc ?name ?url ?keywords\n",
    "WHERE\n",
    "{\n",
    " ?s rdf:type ?type\n",
    "   FILTER ( ?type IN (schema:ResearchProject, schema:Project, schema:Organization, \n",
    "   schema:Dataset, schema:CreativeWork, schema:Person, schema:Map, schema:Course,\n",
    "   schema:CourseInstance, schema:Event, schema:Vehicle) )\n",
    "   ?s schema:description ?desc .\n",
    "   ?s schema:name ?name\n",
    "       OPTIONAL { ?s schema:url ?url .   }\n",
    "   ?s schema:keywords ?keywords\n",
    "\n",
    "}\n",
    "\"\"\"\n",
    "\n",
    "pdf = kg.query_as_df(sparql)\n",
    "# df = pdf   # .to_pandas()  #  breaks with papermill for reasons unknown at this time if to_pandas() is used, needed in my kglab conda env\n"
   ]
  },
  {
   "cell_type": "code",
   "execution_count": 9,
   "metadata": {
    "tags": [],
    "ExecuteTime": {
     "end_time": "2023-06-14T01:23:53.747527658Z",
     "start_time": "2023-06-14T01:23:53.662307655Z"
    }
   },
   "outputs": [],
   "source": [
    "pdf.to_parquet('output.parquet')\n"
   ]
  },
  {
   "cell_type": "code",
   "execution_count": 10,
   "outputs": [
    {
     "name": "stdout",
     "output_type": "stream",
     "text": [
      "<class 'pandas.core.frame.DataFrame'>\n",
      "RangeIndex: 20101 entries, 0 to 20100\n",
      "Data columns (total 6 columns):\n",
      " #   Column    Non-Null Count  Dtype \n",
      "---  ------    --------------  ----- \n",
      " 0   s         20101 non-null  object\n",
      " 1   type      20101 non-null  object\n",
      " 2   desc      20101 non-null  object\n",
      " 3   name      20101 non-null  object\n",
      " 4   url       20101 non-null  object\n",
      " 5   keywords  20101 non-null  object\n",
      "dtypes: object(6)\n",
      "memory usage: 942.4+ KB\n"
     ]
    }
   ],
   "source": [
    "pdf.info()"
   ],
   "metadata": {
    "collapsed": false,
    "ExecuteTime": {
     "end_time": "2023-06-14T01:23:53.767956227Z",
     "start_time": "2023-06-14T01:23:53.747931317Z"
    }
   }
  },
  {
   "cell_type": "code",
   "execution_count": 11,
   "metadata": {
    "tags": [],
    "ExecuteTime": {
     "end_time": "2023-06-14T01:23:53.802274126Z",
     "start_time": "2023-06-14T01:23:53.767433577Z"
    }
   },
   "outputs": [
    {
     "data": {
      "text/plain": "                                                    s            type  \\\n0   <https://obis.org/dataset/1057a007-c31c-48a3-a...  schmea:Dataset   \n1   <https://obis.org/dataset/1057a007-c31c-48a3-a...  schmea:Dataset   \n2   <https://obis.org/dataset/d64477cf-491f-4de5-8...  schmea:Dataset   \n3   <https://obis.org/dataset/d64477cf-491f-4de5-8...  schmea:Dataset   \n4   <https://obis.org/dataset/d64477cf-491f-4de5-8...  schmea:Dataset   \n5   <https://obis.org/dataset/e71d452f-615e-4654-b...  schmea:Dataset   \n6   <https://obis.org/dataset/e71d452f-615e-4654-b...  schmea:Dataset   \n7   <https://obis.org/dataset/e71d452f-615e-4654-b...  schmea:Dataset   \n8   <https://obis.org/dataset/49f74e10-b23b-4aca-a...  schmea:Dataset   \n9   <https://obis.org/dataset/49f74e10-b23b-4aca-a...  schmea:Dataset   \n10  <https://obis.org/dataset/30fd5e3c-d729-41bb-b...  schmea:Dataset   \n11  <https://obis.org/dataset/30fd5e3c-d729-41bb-b...  schmea:Dataset   \n12  <https://obis.org/dataset/30fd5e3c-d729-41bb-b...  schmea:Dataset   \n13  <https://obis.org/dataset/30fd5e3c-d729-41bb-b...  schmea:Dataset   \n14  <https://obis.org/dataset/30fd5e3c-d729-41bb-b...  schmea:Dataset   \n15  <https://obis.org/dataset/30fd5e3c-d729-41bb-b...  schmea:Dataset   \n16  <https://obis.org/dataset/30fd5e3c-d729-41bb-b...  schmea:Dataset   \n17  <https://obis.org/dataset/30fd5e3c-d729-41bb-b...  schmea:Dataset   \n18  <https://obis.org/dataset/30fd5e3c-d729-41bb-b...  schmea:Dataset   \n19  <https://obis.org/dataset/9a37fc55-1fc8-4c19-b...  schmea:Dataset   \n\n                                                 desc  \\\n0   In Australia, it is thought that up to 26 Aust...   \n1   In Australia, it is thought that up to 26 Aust...   \n2   Original provider:\\nObservatorio Ambiental Gra...   \n3   Original provider:\\nObservatorio Ambiental Gra...   \n4   Original provider:\\nObservatorio Ambiental Gra...   \n5   Original provider:\\nVirginia Aquarium and Mari...   \n6   Original provider:\\nVirginia Aquarium and Mari...   \n7   Original provider:\\nVirginia Aquarium and Mari...   \n8   Tow video and epibenthic sled collections were...   \n9   Tow video and epibenthic sled collections were...   \n10  Data on the distribution, reproductive and sur...   \n11  Data on the distribution, reproductive and sur...   \n12  Data on the distribution, reproductive and sur...   \n13  Data on the distribution, reproductive and sur...   \n14  Data on the distribution, reproductive and sur...   \n15  Data on the distribution, reproductive and sur...   \n16  Data on the distribution, reproductive and sur...   \n17  Data on the distribution, reproductive and sur...   \n18  Data on the distribution, reproductive and sur...   \n19  Original provider:\\nCanadian Wildlife Service\\...   \n\n                                                 name  \\\n0   Census of annual pup production by Australian ...   \n1   Census of annual pup production by Australian ...   \n2   Canary Islands - OAG (aggregated per 1-degree ...   \n3   Canary Islands - OAG (aggregated per 1-degree ...   \n4   Canary Islands - OAG (aggregated per 1-degree ...   \n5   Virginia and Maryland Sea Turtle Research and ...   \n6   Virginia and Maryland Sea Turtle Research and ...   \n7   Virginia and Maryland Sea Turtle Research and ...   \n8   Species assemblages, biomass and regional habi...   \n9   Species assemblages, biomass and regional habi...   \n10  PELD-ELPA Ecology of Lahille's bottlenose dolp...   \n11  PELD-ELPA Ecology of Lahille's bottlenose dolp...   \n12  PELD-ELPA Ecology of Lahille's bottlenose dolp...   \n13  PELD-ELPA Ecology of Lahille's bottlenose dolp...   \n14  PELD-ELPA Ecology of Lahille's bottlenose dolp...   \n15  PELD-ELPA Ecology of Lahille's bottlenose dolp...   \n16  PELD-ELPA Ecology of Lahille's bottlenose dolp...   \n17  PELD-ELPA Ecology of Lahille's bottlenose dolp...   \n18  PELD-ELPA Ecology of Lahille's bottlenose dolp...   \n19                 PIROP Northwest Atlantic 1965-1992   \n\n                                                  url  \\\n0   https://obis.org/dataset/1057a007-c31c-48a3-a6...   \n1   https://obis.org/dataset/1057a007-c31c-48a3-a6...   \n2   https://obis.org/dataset/d64477cf-491f-4de5-82...   \n3   https://obis.org/dataset/d64477cf-491f-4de5-82...   \n4   https://obis.org/dataset/d64477cf-491f-4de5-82...   \n5   https://obis.org/dataset/e71d452f-615e-4654-b7...   \n6   https://obis.org/dataset/e71d452f-615e-4654-b7...   \n7   https://obis.org/dataset/e71d452f-615e-4654-b7...   \n8   https://obis.org/dataset/49f74e10-b23b-4aca-a0...   \n9   https://obis.org/dataset/49f74e10-b23b-4aca-a0...   \n10  https://obis.org/dataset/30fd5e3c-d729-41bb-b1...   \n11  https://obis.org/dataset/30fd5e3c-d729-41bb-b1...   \n12  https://obis.org/dataset/30fd5e3c-d729-41bb-b1...   \n13  https://obis.org/dataset/30fd5e3c-d729-41bb-b1...   \n14  https://obis.org/dataset/30fd5e3c-d729-41bb-b1...   \n15  https://obis.org/dataset/30fd5e3c-d729-41bb-b1...   \n16  https://obis.org/dataset/30fd5e3c-d729-41bb-b1...   \n17  https://obis.org/dataset/30fd5e3c-d729-41bb-b1...   \n18  https://obis.org/dataset/30fd5e3c-d729-41bb-b1...   \n19  https://obis.org/dataset/9a37fc55-1fc8-4c19-b6...   \n\n                                             keywords  \n0                                          Occurrence  \n1                                         Observation  \n2      Occurrence,Radio transmitters,Animal movements  \n3                                         Observation  \n4                                          Occurrence  \n5   Occurrence,Marine Animal Survey,Marine Biology...  \n6                                         Observation  \n7                                          Occurrence  \n8                                          Occurrence  \n9                                         Observation  \n10                                      Samplingevent  \n11                       Tursiops truncatus gephyreus  \n12                                          abundance  \n13                                           survival  \n14                                    trophic ecology  \n15                                       distribution  \n16                                       reproduction  \n17                                    stable isotopes  \n18                                              diet.  \n19  Occurrence,Vessels,Sightings,seabird ecology,s...  ",
      "text/html": "<div>\n<style scoped>\n    .dataframe tbody tr th:only-of-type {\n        vertical-align: middle;\n    }\n\n    .dataframe tbody tr th {\n        vertical-align: top;\n    }\n\n    .dataframe thead th {\n        text-align: right;\n    }\n</style>\n<table border=\"1\" class=\"dataframe\">\n  <thead>\n    <tr style=\"text-align: right;\">\n      <th></th>\n      <th>s</th>\n      <th>type</th>\n      <th>desc</th>\n      <th>name</th>\n      <th>url</th>\n      <th>keywords</th>\n    </tr>\n  </thead>\n  <tbody>\n    <tr>\n      <th>0</th>\n      <td>&lt;https://obis.org/dataset/1057a007-c31c-48a3-a...</td>\n      <td>schmea:Dataset</td>\n      <td>In Australia, it is thought that up to 26 Aust...</td>\n      <td>Census of annual pup production by Australian ...</td>\n      <td>https://obis.org/dataset/1057a007-c31c-48a3-a6...</td>\n      <td>Occurrence</td>\n    </tr>\n    <tr>\n      <th>1</th>\n      <td>&lt;https://obis.org/dataset/1057a007-c31c-48a3-a...</td>\n      <td>schmea:Dataset</td>\n      <td>In Australia, it is thought that up to 26 Aust...</td>\n      <td>Census of annual pup production by Australian ...</td>\n      <td>https://obis.org/dataset/1057a007-c31c-48a3-a6...</td>\n      <td>Observation</td>\n    </tr>\n    <tr>\n      <th>2</th>\n      <td>&lt;https://obis.org/dataset/d64477cf-491f-4de5-8...</td>\n      <td>schmea:Dataset</td>\n      <td>Original provider:\\nObservatorio Ambiental Gra...</td>\n      <td>Canary Islands - OAG (aggregated per 1-degree ...</td>\n      <td>https://obis.org/dataset/d64477cf-491f-4de5-82...</td>\n      <td>Occurrence,Radio transmitters,Animal movements</td>\n    </tr>\n    <tr>\n      <th>3</th>\n      <td>&lt;https://obis.org/dataset/d64477cf-491f-4de5-8...</td>\n      <td>schmea:Dataset</td>\n      <td>Original provider:\\nObservatorio Ambiental Gra...</td>\n      <td>Canary Islands - OAG (aggregated per 1-degree ...</td>\n      <td>https://obis.org/dataset/d64477cf-491f-4de5-82...</td>\n      <td>Observation</td>\n    </tr>\n    <tr>\n      <th>4</th>\n      <td>&lt;https://obis.org/dataset/d64477cf-491f-4de5-8...</td>\n      <td>schmea:Dataset</td>\n      <td>Original provider:\\nObservatorio Ambiental Gra...</td>\n      <td>Canary Islands - OAG (aggregated per 1-degree ...</td>\n      <td>https://obis.org/dataset/d64477cf-491f-4de5-82...</td>\n      <td>Occurrence</td>\n    </tr>\n    <tr>\n      <th>5</th>\n      <td>&lt;https://obis.org/dataset/e71d452f-615e-4654-b...</td>\n      <td>schmea:Dataset</td>\n      <td>Original provider:\\nVirginia Aquarium and Mari...</td>\n      <td>Virginia and Maryland Sea Turtle Research and ...</td>\n      <td>https://obis.org/dataset/e71d452f-615e-4654-b7...</td>\n      <td>Occurrence,Marine Animal Survey,Marine Biology...</td>\n    </tr>\n    <tr>\n      <th>6</th>\n      <td>&lt;https://obis.org/dataset/e71d452f-615e-4654-b...</td>\n      <td>schmea:Dataset</td>\n      <td>Original provider:\\nVirginia Aquarium and Mari...</td>\n      <td>Virginia and Maryland Sea Turtle Research and ...</td>\n      <td>https://obis.org/dataset/e71d452f-615e-4654-b7...</td>\n      <td>Observation</td>\n    </tr>\n    <tr>\n      <th>7</th>\n      <td>&lt;https://obis.org/dataset/e71d452f-615e-4654-b...</td>\n      <td>schmea:Dataset</td>\n      <td>Original provider:\\nVirginia Aquarium and Mari...</td>\n      <td>Virginia and Maryland Sea Turtle Research and ...</td>\n      <td>https://obis.org/dataset/e71d452f-615e-4654-b7...</td>\n      <td>Occurrence</td>\n    </tr>\n    <tr>\n      <th>8</th>\n      <td>&lt;https://obis.org/dataset/49f74e10-b23b-4aca-a...</td>\n      <td>schmea:Dataset</td>\n      <td>Tow video and epibenthic sled collections were...</td>\n      <td>Species assemblages, biomass and regional habi...</td>\n      <td>https://obis.org/dataset/49f74e10-b23b-4aca-a0...</td>\n      <td>Occurrence</td>\n    </tr>\n    <tr>\n      <th>9</th>\n      <td>&lt;https://obis.org/dataset/49f74e10-b23b-4aca-a...</td>\n      <td>schmea:Dataset</td>\n      <td>Tow video and epibenthic sled collections were...</td>\n      <td>Species assemblages, biomass and regional habi...</td>\n      <td>https://obis.org/dataset/49f74e10-b23b-4aca-a0...</td>\n      <td>Observation</td>\n    </tr>\n    <tr>\n      <th>10</th>\n      <td>&lt;https://obis.org/dataset/30fd5e3c-d729-41bb-b...</td>\n      <td>schmea:Dataset</td>\n      <td>Data on the distribution, reproductive and sur...</td>\n      <td>PELD-ELPA Ecology of Lahille's bottlenose dolp...</td>\n      <td>https://obis.org/dataset/30fd5e3c-d729-41bb-b1...</td>\n      <td>Samplingevent</td>\n    </tr>\n    <tr>\n      <th>11</th>\n      <td>&lt;https://obis.org/dataset/30fd5e3c-d729-41bb-b...</td>\n      <td>schmea:Dataset</td>\n      <td>Data on the distribution, reproductive and sur...</td>\n      <td>PELD-ELPA Ecology of Lahille's bottlenose dolp...</td>\n      <td>https://obis.org/dataset/30fd5e3c-d729-41bb-b1...</td>\n      <td>Tursiops truncatus gephyreus</td>\n    </tr>\n    <tr>\n      <th>12</th>\n      <td>&lt;https://obis.org/dataset/30fd5e3c-d729-41bb-b...</td>\n      <td>schmea:Dataset</td>\n      <td>Data on the distribution, reproductive and sur...</td>\n      <td>PELD-ELPA Ecology of Lahille's bottlenose dolp...</td>\n      <td>https://obis.org/dataset/30fd5e3c-d729-41bb-b1...</td>\n      <td>abundance</td>\n    </tr>\n    <tr>\n      <th>13</th>\n      <td>&lt;https://obis.org/dataset/30fd5e3c-d729-41bb-b...</td>\n      <td>schmea:Dataset</td>\n      <td>Data on the distribution, reproductive and sur...</td>\n      <td>PELD-ELPA Ecology of Lahille's bottlenose dolp...</td>\n      <td>https://obis.org/dataset/30fd5e3c-d729-41bb-b1...</td>\n      <td>survival</td>\n    </tr>\n    <tr>\n      <th>14</th>\n      <td>&lt;https://obis.org/dataset/30fd5e3c-d729-41bb-b...</td>\n      <td>schmea:Dataset</td>\n      <td>Data on the distribution, reproductive and sur...</td>\n      <td>PELD-ELPA Ecology of Lahille's bottlenose dolp...</td>\n      <td>https://obis.org/dataset/30fd5e3c-d729-41bb-b1...</td>\n      <td>trophic ecology</td>\n    </tr>\n    <tr>\n      <th>15</th>\n      <td>&lt;https://obis.org/dataset/30fd5e3c-d729-41bb-b...</td>\n      <td>schmea:Dataset</td>\n      <td>Data on the distribution, reproductive and sur...</td>\n      <td>PELD-ELPA Ecology of Lahille's bottlenose dolp...</td>\n      <td>https://obis.org/dataset/30fd5e3c-d729-41bb-b1...</td>\n      <td>distribution</td>\n    </tr>\n    <tr>\n      <th>16</th>\n      <td>&lt;https://obis.org/dataset/30fd5e3c-d729-41bb-b...</td>\n      <td>schmea:Dataset</td>\n      <td>Data on the distribution, reproductive and sur...</td>\n      <td>PELD-ELPA Ecology of Lahille's bottlenose dolp...</td>\n      <td>https://obis.org/dataset/30fd5e3c-d729-41bb-b1...</td>\n      <td>reproduction</td>\n    </tr>\n    <tr>\n      <th>17</th>\n      <td>&lt;https://obis.org/dataset/30fd5e3c-d729-41bb-b...</td>\n      <td>schmea:Dataset</td>\n      <td>Data on the distribution, reproductive and sur...</td>\n      <td>PELD-ELPA Ecology of Lahille's bottlenose dolp...</td>\n      <td>https://obis.org/dataset/30fd5e3c-d729-41bb-b1...</td>\n      <td>stable isotopes</td>\n    </tr>\n    <tr>\n      <th>18</th>\n      <td>&lt;https://obis.org/dataset/30fd5e3c-d729-41bb-b...</td>\n      <td>schmea:Dataset</td>\n      <td>Data on the distribution, reproductive and sur...</td>\n      <td>PELD-ELPA Ecology of Lahille's bottlenose dolp...</td>\n      <td>https://obis.org/dataset/30fd5e3c-d729-41bb-b1...</td>\n      <td>diet.</td>\n    </tr>\n    <tr>\n      <th>19</th>\n      <td>&lt;https://obis.org/dataset/9a37fc55-1fc8-4c19-b...</td>\n      <td>schmea:Dataset</td>\n      <td>Original provider:\\nCanadian Wildlife Service\\...</td>\n      <td>PIROP Northwest Atlantic 1965-1992</td>\n      <td>https://obis.org/dataset/9a37fc55-1fc8-4c19-b6...</td>\n      <td>Occurrence,Vessels,Sightings,seabird ecology,s...</td>\n    </tr>\n  </tbody>\n</table>\n</div>"
     },
     "execution_count": 11,
     "metadata": {},
     "output_type": "execute_result"
    }
   ],
   "source": [
    "pdf.head(20)\n"
   ]
  },
  {
   "cell_type": "code",
   "execution_count": 12,
   "metadata": {
    "tags": [],
    "ExecuteTime": {
     "end_time": "2023-06-14T01:23:54.606995214Z",
     "start_time": "2023-06-14T01:23:53.797953546Z"
    }
   },
   "outputs": [],
   "source": [
    "\n",
    "sparql = \"\"\"\n",
    "PREFIX schema: <https://schema.org/>\n",
    "\n",
    "\n",
    "SELECT ?sc ?geo ?geotype ?geom\n",
    "\n",
    "WHERE\n",
    "{\n",
    "   ?s rdf:type ?type\n",
    "   FILTER ( ?type IN (schema:ResearchProject, schema:Project, schema:Organization, \n",
    "   schema:Dataset, schema:CreativeWork, schema:Person, schema:Map, schema:Course,\n",
    "   schema:CourseInstance, schema:Event, schema:Vehicle) )\n",
    "   ?s schema:spatialCoverage ?sc .\n",
    "   ?sc a  schema:Place .\n",
    "   ?sc schema:geo ?geo .\n",
    "   ?geo a ?geotype .\n",
    "   ?geo schema:polygon ?geom\n",
    "\n",
    "\n",
    "}\n",
    "\"\"\"\n",
    "\n",
    "# schema:latitude   schema:longitude\n",
    "\n",
    "\n",
    "\n",
    "pdf = kg.query_as_df(sparql)\n",
    "# df = pdf   # .to_pandas()  #  breaks with papermill for reasons unknown at this time if to_pandas() is used, needed in my kglab conda env\n"
   ]
  },
  {
   "cell_type": "code",
   "execution_count": 13,
   "metadata": {
    "tags": [],
    "ExecuteTime": {
     "end_time": "2023-06-14T01:23:54.652514995Z",
     "start_time": "2023-06-14T01:23:54.611371333Z"
    }
   },
   "outputs": [
    {
     "data": {
      "text/plain": "                                                   sc  \\\n0   <https://gleaner.io/xid/genid/cgf5dprk59mc73ej...   \n1   <https://gleaner.io/xid/genid/cgf5dprk59mc73ej...   \n2   <https://gleaner.io/xid/genid/cgf5dprk59mc73ej...   \n3   <https://gleaner.io/xid/genid/cgf5dprk59mc73ej...   \n4   <https://gleaner.io/xid/genid/cgf5dprk59mc73ej...   \n5   <https://gleaner.io/xid/genid/cgf5dq3k59mc73ej...   \n6   <https://gleaner.io/xid/genid/cgf5dq3k59mc73ej...   \n7   <https://gleaner.io/xid/genid/cgf5dq3k59mc73ej...   \n8   <https://gleaner.io/xid/genid/cgf5dq3k59mc73ej...   \n9   <https://gleaner.io/xid/genid/cgf5dq3k59mc73ej...   \n10  <https://gleaner.io/xid/genid/cgf5dq3k59mc73ej...   \n11  <https://gleaner.io/xid/genid/cgf5dqbk59mc73ej...   \n12  <https://gleaner.io/xid/genid/cgf5dqbk59mc73ej...   \n13  <https://gleaner.io/xid/genid/cgf5dqbk59mc73ej...   \n14  <https://gleaner.io/xid/genid/cgf5dqbk59mc73ej...   \n15  <https://gleaner.io/xid/genid/cgf5dqjk59mc73ej...   \n16  <https://gleaner.io/xid/genid/cgf5dqjk59mc73ej...   \n17  <https://gleaner.io/xid/genid/cgf5dqjk59mc73ej...   \n18  <https://gleaner.io/xid/genid/cgf5dqjk59mc73ej...   \n19  <https://gleaner.io/xid/genid/cgf5dqjk59mc73ej...   \n\n                                                  geo          geotype  \\\n0   <https://gleaner.io/xid/genid/cgf5dprk59mc73ej...  schmea:GeoShape   \n1   <https://gleaner.io/xid/genid/cgf5dprk59mc73ej...  schmea:GeoShape   \n2   <https://gleaner.io/xid/genid/cgf5dprk59mc73ej...  schmea:GeoShape   \n3   <https://gleaner.io/xid/genid/cgf5dprk59mc73ej...  schmea:GeoShape   \n4   <https://gleaner.io/xid/genid/cgf5dprk59mc73ej...  schmea:GeoShape   \n5   <https://gleaner.io/xid/genid/cgf5dq3k59mc73ej...  schmea:GeoShape   \n6   <https://gleaner.io/xid/genid/cgf5dq3k59mc73ej...  schmea:GeoShape   \n7   <https://gleaner.io/xid/genid/cgf5dq3k59mc73ej...  schmea:GeoShape   \n8   <https://gleaner.io/xid/genid/cgf5dq3k59mc73ej...  schmea:GeoShape   \n9   <https://gleaner.io/xid/genid/cgf5dq3k59mc73ej...  schmea:GeoShape   \n10  <https://gleaner.io/xid/genid/cgf5dq3k59mc73ej...  schmea:GeoShape   \n11  <https://gleaner.io/xid/genid/cgf5dqbk59mc73ej...  schmea:GeoShape   \n12  <https://gleaner.io/xid/genid/cgf5dqbk59mc73ej...  schmea:GeoShape   \n13  <https://gleaner.io/xid/genid/cgf5dqbk59mc73ej...  schmea:GeoShape   \n14  <https://gleaner.io/xid/genid/cgf5dqbk59mc73ej...  schmea:GeoShape   \n15  <https://gleaner.io/xid/genid/cgf5dqjk59mc73ej...  schmea:GeoShape   \n16  <https://gleaner.io/xid/genid/cgf5dqjk59mc73ej...  schmea:GeoShape   \n17  <https://gleaner.io/xid/genid/cgf5dqjk59mc73ej...  schmea:GeoShape   \n18  <https://gleaner.io/xid/genid/cgf5dqjk59mc73ej...  schmea:GeoShape   \n19  <https://gleaner.io/xid/genid/cgf5dqjk59mc73ej...  schmea:GeoShape   \n\n                                                 geom  \n0   135.96667 -43.63333,135.96667 -35.01667,150.23...  \n1   -74.5 5.5,-74.5 45.5,32.5 45.5,32.5 5.5,-74.5 5.5  \n2   -76.39647 36.58278,-76.39647 38.52142,-74.3984...  \n3   124.05919 -15.94544,124.05919 -15.22044,124.69...  \n4   -149.5667 -25.15,-149.5667 79.7833,18.5667 79....  \n5   -80.690317 29.954577,-80.690317 30.574196,-79....  \n6        -73.5 12.5,-73.5 56,55 56,55 12.5,-73.5 12.5  \n7   18.291666 -34.501803,18.291666 -34.058889,19.3...  \n8   -74.32758 10.97982,-74.32758 11.26469,-74.1913...  \n9   67.083 -56.733,67.083 -9.367,168.41701 -9.367,...  \n10  176.23105 -37.30811,176.23105 -37.2595,176.288...  \n11  -101.033833 16.7259,-101.033833 17.2353,-99.81...  \n12  3.4158 5.9056,3.4158 71.1947,31.1739 71.1947,3...  \n13  62.867 -69.7,62.867 -67.617,78.7333333333 -67....  \n14  -77.1 34.2832,-77.1 36.4893,-74.497 36.4893,-7...  \n15  -81.35911203 3.896896988,-81.35911203 13.37633...  \n16  -73.677971 38.948364,-73.677971 44.966145,-62....  \n17  79.99016667 -65.48433333,79.99016667 -62.57283...  \n18  123.179 -16.6231,123.179 -13.8712,128.30099 -1...  \n19  29.659635 31.123853,29.659635 31.459032,30.344...  ",
      "text/html": "<div>\n<style scoped>\n    .dataframe tbody tr th:only-of-type {\n        vertical-align: middle;\n    }\n\n    .dataframe tbody tr th {\n        vertical-align: top;\n    }\n\n    .dataframe thead th {\n        text-align: right;\n    }\n</style>\n<table border=\"1\" class=\"dataframe\">\n  <thead>\n    <tr style=\"text-align: right;\">\n      <th></th>\n      <th>sc</th>\n      <th>geo</th>\n      <th>geotype</th>\n      <th>geom</th>\n    </tr>\n  </thead>\n  <tbody>\n    <tr>\n      <th>0</th>\n      <td>&lt;https://gleaner.io/xid/genid/cgf5dprk59mc73ej...</td>\n      <td>&lt;https://gleaner.io/xid/genid/cgf5dprk59mc73ej...</td>\n      <td>schmea:GeoShape</td>\n      <td>135.96667 -43.63333,135.96667 -35.01667,150.23...</td>\n    </tr>\n    <tr>\n      <th>1</th>\n      <td>&lt;https://gleaner.io/xid/genid/cgf5dprk59mc73ej...</td>\n      <td>&lt;https://gleaner.io/xid/genid/cgf5dprk59mc73ej...</td>\n      <td>schmea:GeoShape</td>\n      <td>-74.5 5.5,-74.5 45.5,32.5 45.5,32.5 5.5,-74.5 5.5</td>\n    </tr>\n    <tr>\n      <th>2</th>\n      <td>&lt;https://gleaner.io/xid/genid/cgf5dprk59mc73ej...</td>\n      <td>&lt;https://gleaner.io/xid/genid/cgf5dprk59mc73ej...</td>\n      <td>schmea:GeoShape</td>\n      <td>-76.39647 36.58278,-76.39647 38.52142,-74.3984...</td>\n    </tr>\n    <tr>\n      <th>3</th>\n      <td>&lt;https://gleaner.io/xid/genid/cgf5dprk59mc73ej...</td>\n      <td>&lt;https://gleaner.io/xid/genid/cgf5dprk59mc73ej...</td>\n      <td>schmea:GeoShape</td>\n      <td>124.05919 -15.94544,124.05919 -15.22044,124.69...</td>\n    </tr>\n    <tr>\n      <th>4</th>\n      <td>&lt;https://gleaner.io/xid/genid/cgf5dprk59mc73ej...</td>\n      <td>&lt;https://gleaner.io/xid/genid/cgf5dprk59mc73ej...</td>\n      <td>schmea:GeoShape</td>\n      <td>-149.5667 -25.15,-149.5667 79.7833,18.5667 79....</td>\n    </tr>\n    <tr>\n      <th>5</th>\n      <td>&lt;https://gleaner.io/xid/genid/cgf5dq3k59mc73ej...</td>\n      <td>&lt;https://gleaner.io/xid/genid/cgf5dq3k59mc73ej...</td>\n      <td>schmea:GeoShape</td>\n      <td>-80.690317 29.954577,-80.690317 30.574196,-79....</td>\n    </tr>\n    <tr>\n      <th>6</th>\n      <td>&lt;https://gleaner.io/xid/genid/cgf5dq3k59mc73ej...</td>\n      <td>&lt;https://gleaner.io/xid/genid/cgf5dq3k59mc73ej...</td>\n      <td>schmea:GeoShape</td>\n      <td>-73.5 12.5,-73.5 56,55 56,55 12.5,-73.5 12.5</td>\n    </tr>\n    <tr>\n      <th>7</th>\n      <td>&lt;https://gleaner.io/xid/genid/cgf5dq3k59mc73ej...</td>\n      <td>&lt;https://gleaner.io/xid/genid/cgf5dq3k59mc73ej...</td>\n      <td>schmea:GeoShape</td>\n      <td>18.291666 -34.501803,18.291666 -34.058889,19.3...</td>\n    </tr>\n    <tr>\n      <th>8</th>\n      <td>&lt;https://gleaner.io/xid/genid/cgf5dq3k59mc73ej...</td>\n      <td>&lt;https://gleaner.io/xid/genid/cgf5dq3k59mc73ej...</td>\n      <td>schmea:GeoShape</td>\n      <td>-74.32758 10.97982,-74.32758 11.26469,-74.1913...</td>\n    </tr>\n    <tr>\n      <th>9</th>\n      <td>&lt;https://gleaner.io/xid/genid/cgf5dq3k59mc73ej...</td>\n      <td>&lt;https://gleaner.io/xid/genid/cgf5dq3k59mc73ej...</td>\n      <td>schmea:GeoShape</td>\n      <td>67.083 -56.733,67.083 -9.367,168.41701 -9.367,...</td>\n    </tr>\n    <tr>\n      <th>10</th>\n      <td>&lt;https://gleaner.io/xid/genid/cgf5dq3k59mc73ej...</td>\n      <td>&lt;https://gleaner.io/xid/genid/cgf5dq3k59mc73ej...</td>\n      <td>schmea:GeoShape</td>\n      <td>176.23105 -37.30811,176.23105 -37.2595,176.288...</td>\n    </tr>\n    <tr>\n      <th>11</th>\n      <td>&lt;https://gleaner.io/xid/genid/cgf5dqbk59mc73ej...</td>\n      <td>&lt;https://gleaner.io/xid/genid/cgf5dqbk59mc73ej...</td>\n      <td>schmea:GeoShape</td>\n      <td>-101.033833 16.7259,-101.033833 17.2353,-99.81...</td>\n    </tr>\n    <tr>\n      <th>12</th>\n      <td>&lt;https://gleaner.io/xid/genid/cgf5dqbk59mc73ej...</td>\n      <td>&lt;https://gleaner.io/xid/genid/cgf5dqbk59mc73ej...</td>\n      <td>schmea:GeoShape</td>\n      <td>3.4158 5.9056,3.4158 71.1947,31.1739 71.1947,3...</td>\n    </tr>\n    <tr>\n      <th>13</th>\n      <td>&lt;https://gleaner.io/xid/genid/cgf5dqbk59mc73ej...</td>\n      <td>&lt;https://gleaner.io/xid/genid/cgf5dqbk59mc73ej...</td>\n      <td>schmea:GeoShape</td>\n      <td>62.867 -69.7,62.867 -67.617,78.7333333333 -67....</td>\n    </tr>\n    <tr>\n      <th>14</th>\n      <td>&lt;https://gleaner.io/xid/genid/cgf5dqbk59mc73ej...</td>\n      <td>&lt;https://gleaner.io/xid/genid/cgf5dqbk59mc73ej...</td>\n      <td>schmea:GeoShape</td>\n      <td>-77.1 34.2832,-77.1 36.4893,-74.497 36.4893,-7...</td>\n    </tr>\n    <tr>\n      <th>15</th>\n      <td>&lt;https://gleaner.io/xid/genid/cgf5dqjk59mc73ej...</td>\n      <td>&lt;https://gleaner.io/xid/genid/cgf5dqjk59mc73ej...</td>\n      <td>schmea:GeoShape</td>\n      <td>-81.35911203 3.896896988,-81.35911203 13.37633...</td>\n    </tr>\n    <tr>\n      <th>16</th>\n      <td>&lt;https://gleaner.io/xid/genid/cgf5dqjk59mc73ej...</td>\n      <td>&lt;https://gleaner.io/xid/genid/cgf5dqjk59mc73ej...</td>\n      <td>schmea:GeoShape</td>\n      <td>-73.677971 38.948364,-73.677971 44.966145,-62....</td>\n    </tr>\n    <tr>\n      <th>17</th>\n      <td>&lt;https://gleaner.io/xid/genid/cgf5dqjk59mc73ej...</td>\n      <td>&lt;https://gleaner.io/xid/genid/cgf5dqjk59mc73ej...</td>\n      <td>schmea:GeoShape</td>\n      <td>79.99016667 -65.48433333,79.99016667 -62.57283...</td>\n    </tr>\n    <tr>\n      <th>18</th>\n      <td>&lt;https://gleaner.io/xid/genid/cgf5dqjk59mc73ej...</td>\n      <td>&lt;https://gleaner.io/xid/genid/cgf5dqjk59mc73ej...</td>\n      <td>schmea:GeoShape</td>\n      <td>123.179 -16.6231,123.179 -13.8712,128.30099 -1...</td>\n    </tr>\n    <tr>\n      <th>19</th>\n      <td>&lt;https://gleaner.io/xid/genid/cgf5dqjk59mc73ej...</td>\n      <td>&lt;https://gleaner.io/xid/genid/cgf5dqjk59mc73ej...</td>\n      <td>schmea:GeoShape</td>\n      <td>29.659635 31.123853,29.659635 31.459032,30.344...</td>\n    </tr>\n  </tbody>\n</table>\n</div>"
     },
     "execution_count": 13,
     "metadata": {},
     "output_type": "execute_result"
    }
   ],
   "source": [
    "pdf.head(20)"
   ]
  },
  {
   "cell_type": "markdown",
   "metadata": {},
   "source": [
    "### Save to JSON Lines format\n"
   ]
  },
  {
   "cell_type": "code",
   "execution_count": 14,
   "metadata": {
    "tags": [],
    "ExecuteTime": {
     "end_time": "2023-06-14T01:23:57.277554623Z",
     "start_time": "2023-06-14T01:23:57.267043499Z"
    }
   },
   "outputs": [],
   "source": [
    "# Convert data frame to JSON lines format\n",
    "json_lines = pdf.to_json(orient='records', lines=True)\n",
    "\n",
    "# Write JSON lines to a file\n",
    "with open(\"pdf.jsonl\", \"w\") as f:\n",
    "    f.write(json_lines)"
   ]
  },
  {
   "cell_type": "markdown",
   "source": [
    "## loop over the files\n",
    "\n",
    "In this section we will loop over the files, load them and query and then save to parquet\n"
   ],
   "metadata": {
    "collapsed": false
   }
  },
  {
   "cell_type": "code",
   "execution_count": 17,
   "outputs": [],
   "source": [
    "sparql = \"\"\"\n",
    "PREFIX schema: <https://schema.org/>\n",
    "PREFIX schemawrong: <http://schema.org/>\n",
    "\n",
    "\n",
    "SELECT ?g ?s ?type ?desc ?name ?url ?keywords\n",
    "WHERE\n",
    "{\n",
    "     ?s rdf:type ?type\n",
    "    FILTER ( ?type IN (schema:ResearchProject, schema:Project, schema:Organization,\n",
    "    schema:Dataset, schema:CreativeWork, schema:Person, schema:Map, schema:Course,\n",
    "    schema:CourseInstance, schema:Event, schema:Vehicle,   schemawrong:ResearchProject, schemawrong:Project, schemawrong:Organization,\n",
    "    schemawrong:Dataset, schemawrong:CreativeWork, schemawrong:Person, schemawrong:Map, schemawrong:Course,\n",
    "    schemawrong:CourseInstance, schemawrong:Event, schemawrong:Vehicle  ) )\n",
    "    OPTIONAL {?s schema:description | schemawrong:description  ?desc .}\n",
    "    OPTIONAL {?s schema:name | schemawrong:name ?name }\n",
    "    OPTIONAL { ?s schema:url | schemawrong:url ?url .   }\n",
    "    OPTIONAL {?s schema:keywords | schemawrong:keywords ?keywords}\n",
    " }\n",
    "\"\"\""
   ],
   "metadata": {
    "collapsed": false,
    "ExecuteTime": {
     "end_time": "2023-06-14T01:35:15.389031269Z",
     "start_time": "2023-06-14T01:35:15.347719002Z"
    }
   }
  },
  {
   "cell_type": "code",
   "execution_count": 23,
   "outputs": [
    {
     "name": "stdout",
     "output_type": "stream",
     "text": [
      "Loading http://ossapi.oceaninfohub.org/public/graphs/summonedafricaioc_v1_release.nq\n",
      "3193\n",
      "Loading http://ossapi.oceaninfohub.org/public/graphs/summonedaquadocs_v1_release.nq\n",
      "1102997\n",
      "Loading http://ossapi.oceaninfohub.org/public/graphs/summonedcioos_v1_release.nq\n",
      "145779\n",
      "Loading http://ossapi.oceaninfohub.org/public/graphs/summonededmerp_v1_release.nq\n",
      "73543\n",
      "Loading http://ossapi.oceaninfohub.org/public/graphs/summonededmo_v1_release.nq\n",
      "101850\n",
      "Loading http://ossapi.oceaninfohub.org/public/graphs/summonedemodnet_v1_release.nq\n",
      "1245\n",
      "Loading http://ossapi.oceaninfohub.org/public/graphs/summonedinanodc_v1_release.nq\n",
      "499\n",
      "Loading http://ossapi.oceaninfohub.org/public/graphs/summonedinvemardocuments_v1_release.nq\n",
      "133485\n",
      "Loading http://ossapi.oceaninfohub.org/public/graphs/summonedinvemarexperts_v1_release.nq\n",
      "14638\n",
      "Loading http://ossapi.oceaninfohub.org/public/graphs/summonedinvemarinstitutions_v1_release.nq\n",
      "3221\n",
      "Loading http://ossapi.oceaninfohub.org/public/graphs/summonedinvemartraining_v1_release.nq\n",
      "6221\n",
      "Loading http://ossapi.oceaninfohub.org/public/graphs/summonedinvemarvessels_v1_release.nq\n",
      "926\n",
      "Loading http://ossapi.oceaninfohub.org/public/graphs/summonedmarinetraining_v1_release.nq\n",
      "11160\n",
      "Loading http://ossapi.oceaninfohub.org/public/graphs/summonedobis_v1_release.nq\n",
      "161187\n",
      "Loading http://ossapi.oceaninfohub.org/public/graphs/summonedobps_v1_release.nq\n",
      "56795\n",
      "Loading http://ossapi.oceaninfohub.org/public/graphs/summonedoceanexperts_v1_release.nq\n",
      "901711\n",
      "Loading http://ossapi.oceaninfohub.org/public/graphs/summonedpdh_v1_release.nq\n",
      "369702\n"
     ]
    }
   ],
   "source": [
    "for u in urls:\n",
    "    print(\"Loading {}\".format(u))\n",
    "    g = ConjunctiveGraph()\n",
    "    g.parse(u, format=\"nquads\")\n",
    "    print(len(g))\n",
    "    namespaces = {\n",
    "        \"shacl\":   \"http://www.w3.org/ns/shacl#\" ,\n",
    "        \"schmea\":   \"https://schema.org/\" ,\n",
    "        \"schemawrong\": \"http://schema.org/\",\n",
    "        \"geo\":      \"http://www.opengis.net/ont/geosparql#\",\n",
    "    }\n",
    "\n",
    "    # get the name of the provider from the release graph file name\n",
    "    result = re.search('(?:summoned)(.*)(?:_v1_)', u)\n",
    "    extracted_text = result.group(1)\n",
    "\n",
    "    # import the file\n",
    "    kg = kglab.KnowledgeGraph(name = \"OIH test\", base_uri = \"https://oceaninfohub.org/id/\", namespaces = namespaces, use_gpus=True, import_graph = g)\n",
    "\n",
    "    # run the query\n",
    "    pdf = kg.query_as_df(sparql)\n",
    "\n",
    "    # add a column with the provider name in it\n",
    "    pdf['provder'] = extracted_text\n",
    "\n",
    "    # save to parquet\n",
    "    pdf.to_parquet('./graphparquet/{}.parquet'.format(extracted_text))\n",
    "\n"
   ],
   "metadata": {
    "collapsed": false,
    "ExecuteTime": {
     "end_time": "2023-06-14T01:50:53.840808836Z",
     "start_time": "2023-06-14T01:45:00.995075128Z"
    }
   }
  },
  {
   "cell_type": "code",
   "execution_count": 27,
   "outputs": [],
   "source": [
    "import pandas as pd\n",
    "\n",
    "directory = './graphparquet'\n",
    "\n",
    "# This will list all files in the directory that end with .parquet.\n",
    "files = [f for f in os.listdir(directory) if f.endswith('.parquet')]\n",
    "\n",
    "# Empty DataFrame to which we'll append each individual file.\n",
    "combined_df = pd.DataFrame()\n",
    "\n",
    "for file in files:\n",
    "    # Complete file path.\n",
    "    file_path = os.path.join(directory, file)\n",
    "\n",
    "    # Read the parquet file.\n",
    "    df = pd.read_parquet(file_path)\n",
    "\n",
    "    # Append it to the combined DataFrame.\n",
    "    combined_df = combined_df.append(df)\n",
    "\n",
    "# If you want to write this combined DataFrame to a new Parquet file:\n",
    "combined_df.to_parquet('combined.parquet')"
   ],
   "metadata": {
    "collapsed": false,
    "ExecuteTime": {
     "end_time": "2023-06-14T01:54:03.327486541Z",
     "start_time": "2023-06-14T01:54:01.168586751Z"
    }
   }
  },
  {
   "cell_type": "markdown",
   "metadata": {},
   "source": [
    "## All OIH-Graph load\n",
    "\n",
    "The following will load all the graphs of the providers in the OIH-Graph."
   ]
  },
  {
   "cell_type": "code",
   "execution_count": 7,
   "metadata": {
    "tags": [],
    "ExecuteTime": {
     "end_time": "2023-06-14T12:05:31.511655575Z",
     "start_time": "2023-06-14T12:03:11.896151100Z"
    }
   },
   "outputs": [
    {
     "name": "stdout",
     "output_type": "stream",
     "text": [
      "Loading http://ossapi.oceaninfohub.org/public/graphs/summonedafricaioc_v1_release.nq\n",
      "Loading http://ossapi.oceaninfohub.org/public/graphs/summonedaquadocs_v1_release.nq\n",
      "Loading http://ossapi.oceaninfohub.org/public/graphs/summonedcioos_v1_release.nq\n",
      "Loading http://ossapi.oceaninfohub.org/public/graphs/summonededmerp_v1_release.nq\n",
      "Loading http://ossapi.oceaninfohub.org/public/graphs/summonededmo_v1_release.nq\n",
      "Loading http://ossapi.oceaninfohub.org/public/graphs/summonedemodnet_v1_release.nq\n",
      "Loading http://ossapi.oceaninfohub.org/public/graphs/summonedinanodc_v1_release.nq\n",
      "Loading http://ossapi.oceaninfohub.org/public/graphs/summonedinvemardocuments_v1_release.nq\n",
      "Loading http://ossapi.oceaninfohub.org/public/graphs/summonedinvemarexperts_v1_release.nq\n",
      "Loading http://ossapi.oceaninfohub.org/public/graphs/summonedinvemarinstitutions_v1_release.nq\n",
      "Loading http://ossapi.oceaninfohub.org/public/graphs/summonedinvemartraining_v1_release.nq\n",
      "Loading http://ossapi.oceaninfohub.org/public/graphs/summonedinvemarvessels_v1_release.nq\n",
      "Loading http://ossapi.oceaninfohub.org/public/graphs/summonedmarinetraining_v1_release.nq\n",
      "Loading http://ossapi.oceaninfohub.org/public/graphs/summonedobis_v1_release.nq\n",
      "Loading http://ossapi.oceaninfohub.org/public/graphs/summonedobps_v1_release.nq\n",
      "Loading http://ossapi.oceaninfohub.org/public/graphs/summonedoceanexperts_v1_release.nq\n",
      "Loading http://ossapi.oceaninfohub.org/public/graphs/summonedpdh_v1_release.nq\n",
      "3086320\n"
     ]
    }
   ],
   "source": [
    "bg = ConjunctiveGraph()\n",
    "\n",
    "for u in urls:\n",
    "    print(\"Loading {}\".format(u))\n",
    "    bg.parse(u, format=\"nquads\")\n",
    "\n",
    "print(len(bg))"
   ]
  },
  {
   "cell_type": "code",
   "execution_count": 8,
   "metadata": {
    "tags": [],
    "ExecuteTime": {
     "end_time": "2023-06-14T12:08:20.114209800Z",
     "start_time": "2023-06-14T12:08:20.061985476Z"
    }
   },
   "outputs": [],
   "source": [
    "namespaces = {\n",
    "    \"shacl\":   \"http://www.w3.org/ns/shacl#\" ,\n",
    "    \"schmea\":   \"https://schema.org/\" ,\n",
    "    \"schemawrong\": \"http://schema.org/\",\n",
    "    \"geo\":      \"http://www.opengis.net/ont/geosparql#\",\n",
    "}\n",
    "\n",
    "bkg = kglab.KnowledgeGraph(name = \"OIH test\", base_uri = \"https://oceaninfohub.org/id/\", use_gpus=True, namespaces = namespaces, import_graph = bg)"
   ]
  },
  {
   "cell_type": "code",
   "execution_count": 9,
   "metadata": {
    "tags": [],
    "ExecuteTime": {
     "end_time": "2023-06-14T12:08:36.792544407Z",
     "start_time": "2023-06-14T12:08:21.318010083Z"
    }
   },
   "outputs": [],
   "source": [
    "bkg.save_parquet(\"OIHGraph_rdf.parquet\")\n"
   ]
  },
  {
   "cell_type": "code",
   "execution_count": null,
   "outputs": [],
   "source": [],
   "metadata": {
    "collapsed": false
   }
  }
 ],
 "metadata": {
  "kernelspec": {
   "display_name": "Python 3 (ipykernel)",
   "language": "python",
   "name": "python3"
  },
  "language_info": {
   "codemirror_mode": {
    "name": "ipython",
    "version": 3
   },
   "file_extension": ".py",
   "mimetype": "text/x-python",
   "name": "python",
   "nbconvert_exporter": "python",
   "pygments_lexer": "ipython3",
   "version": "3.10.8"
  }
 },
 "nbformat": 4,
 "nbformat_minor": 4
}
