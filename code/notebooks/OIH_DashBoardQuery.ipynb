{
 "cells": [
  {
   "cell_type": "markdown",
   "metadata": {},
   "source": [
    "# OIH Dashboard pre-processor query\n",
    "\n",
    "This notebook demonstrates query approach for the pre-processed resources from the OIH Graph\n"
   ]
  },
  {
   "cell_type": "code",
   "execution_count": 9,
   "metadata": {
    "ExecuteTime": {
     "end_time": "2023-06-19T11:21:22.419415445Z",
     "start_time": "2023-06-19T11:21:22.351593082Z"
    },
    "collapsed": false,
    "jupyter": {
     "outputs_hidden": false
    },
    "tags": []
   },
   "outputs": [],
   "source": [
    "import duckdb"
   ]
  },
  {
   "cell_type": "markdown",
   "metadata": {},
   "source": [
    "## Pre-processed OIH Graph"
   ]
  },
  {
   "cell_type": "code",
   "execution_count": 10,
   "metadata": {
    "ExecuteTime": {
     "end_time": "2023-06-19T11:36:58.148181921Z",
     "start_time": "2023-06-19T11:36:57.183659263Z"
    },
    "tags": []
   },
   "outputs": [
    {
     "data": {
      "text/plain": [
       "<duckdb.DuckDBPyConnection at 0x7fed306249f0>"
      ]
     },
     "execution_count": 10,
     "metadata": {},
     "output_type": "execute_result"
    }
   ],
   "source": [
    "## load the combined graph\n",
    "url = \"http://ossapi.oceaninfohub.org/public/combined.parquet\"\n",
    "duckdb.install_extension(\"httpfs\")\n",
    "\n",
    "# Instantiate the DuckDB connection\n",
    "con = duckdb.connect()\n",
    "# con.execute(\"CREATE TABLE my_table AS SELECT * FROM read_parquet('{}')\".format(url))  # load from url\n",
    "con.execute(\"CREATE TABLE my_table AS SELECT * FROM read_parquet('../../secret/combined.parquet')\") # load from local parquet\n"
   ]
  },
  {
   "cell_type": "code",
   "execution_count": 11,
   "metadata": {
    "ExecuteTime": {
     "end_time": "2023-06-19T11:41:27.363340874Z",
     "start_time": "2023-06-19T11:41:27.322073412Z"
    },
    "collapsed": false,
    "jupyter": {
     "outputs_hidden": false
    },
    "tags": []
   },
   "outputs": [
    {
     "name": "stdout",
     "output_type": "stream",
     "text": [
      "                provder                      type   count\n",
      "0          oceanexperts              schmea:Event   20606\n",
      "1          oceanexperts             schmea:Course     491\n",
      "2          oceanexperts     schmea:CourseInstance     491\n",
      "3                   pdh  schemawrong:Organization    3562\n",
      "4                   pdh       schemawrong:Dataset   32807\n",
      "5              aquadocs       schmea:Organization   15198\n",
      "6                 cioos  schemawrong:Organization    2141\n",
      "7                 cioos       schemawrong:Dataset   74251\n",
      "8                 cioos        schemawrong:Person    1372\n",
      "9                edmerp       schmea:Organization   13509\n",
      "10               edmerp    schmea:ResearchProject    3432\n",
      "11                 edmo       schmea:Organization    4757\n",
      "12              emodnet       schemawrong:Dataset    1187\n",
      "13              inanodc            schmea:Dataset     235\n",
      "14     invemardocuments       schmea:Organization    3623\n",
      "15     invemardocuments             schmea:Person   13351\n",
      "16            africaioc    schmea:ResearchProject     176\n",
      "17            africaioc       schmea:Organization      52\n",
      "18            africaioc            schmea:Vehicle      30\n",
      "19            africaioc              schmea:Event      59\n",
      "20            africaioc       schmea:CreativeWork       1\n",
      "21            africaioc            schmea:Dataset       1\n",
      "22            africaioc             schmea:Person       1\n",
      "23             aquadocs       schmea:CreativeWork  261364\n",
      "24     invemardocuments       schmea:CreativeWork   18647\n",
      "25       invemarexperts             schmea:Person    1172\n",
      "26  invemarinstitutions       schmea:Organization     269\n",
      "27      invemartraining             schmea:Course     452\n",
      "28      invemartraining       schmea:Organization     452\n",
      "29      invemartraining       schmea:CreativeWork       1\n",
      "30       invemarvessels            schmea:Vehicle      85\n",
      "31       marinetraining             schmea:Course     457\n",
      "32       marinetraining     schmea:CourseInstance     520\n",
      "33       marinetraining       schmea:Organization     914\n",
      "34                 obis       schmea:Organization     689\n",
      "35                 obis            schmea:Dataset   20120\n",
      "36                 obps       schmea:Organization    1352\n",
      "37                 obps             schmea:Person    7711\n",
      "38                 obps       schmea:CreativeWork    8414\n",
      "39         oceanexperts             schmea:Person   38555\n",
      "40         oceanexperts       schmea:Organization    7304\n",
      "41             aquadocs             schmea:Person  105494\n"
     ]
    }
   ],
   "source": [
    "\n",
    "# Now you can execute SQL queries on the Parquet file as if it was a regular table\n",
    "# r = con.execute(\"SELECT DISTINCT provder FROM my_table\").fetchdf()\n",
    "# r = con.execute(\" SELECT DISTINCT provder, type, ANY_VALUE(s),  COUNT(*) AS count FROM my_table GROUP BY provder, type  order by count desc\").fetchdf()\n",
    "r = con.execute(\" SELECT DISTINCT provder, type, COUNT(*) AS count FROM my_table GROUP BY provder, type\").fetchdf()\n",
    "\n",
    "print(r)\n"
   ]
  },
  {
   "cell_type": "code",
   "execution_count": 4,
   "metadata": {
    "ExecuteTime": {
     "end_time": "2023-06-19T11:26:10.384443182Z",
     "start_time": "2023-06-19T11:26:10.350166994Z"
    },
    "collapsed": false,
    "jupyter": {
     "outputs_hidden": false
    },
    "tags": []
   },
   "outputs": [
    {
     "name": "stdout",
     "output_type": "stream",
     "text": [
      "                        keywords  count\n",
      "0                      Fisheries  14646\n",
      "1                        Biology   6946\n",
      "2                         Oceans   4377\n",
      "3                    Aquaculture   3950\n",
      "4                     Occurrence   3623\n",
      "...                          ...    ...\n",
      "65044                    GLONASS      1\n",
      "65045  Environmental mutagenesis      1\n",
      "65046    Evaporation of droplets      1\n",
      "65047                  génétique      1\n",
      "65048            Oramiri-Ukwa R.      1\n",
      "\n",
      "[65049 rows x 2 columns]\n"
     ]
    }
   ],
   "source": [
    "r = con.execute(\" SELECT keywords, COUNT(*) AS count FROM my_table WHERE keywords <> 'NaN' GROUP BY keywords order by count desc\").fetchdf()\n",
    "print(r)\n"
   ]
  },
  {
   "cell_type": "code",
   "execution_count": 12,
   "metadata": {
    "ExecuteTime": {
     "end_time": "2023-06-19T11:26:11.044189725Z",
     "start_time": "2023-06-19T11:26:11.005793139Z"
    },
    "collapsed": false,
    "jupyter": {
     "outputs_hidden": false
    },
    "tags": []
   },
   "outputs": [
    {
     "name": "stdout",
     "output_type": "stream",
     "text": [
      "   total_count\n",
      "0     407099.0\n"
     ]
    }
   ],
   "source": [
    "r = con.execute(\" SELECT SUM(count) AS total_count FROM ( SELECT DISTINCT keywords, COUNT(*) AS count FROM my_table WHERE keywords <> 'NaN' GROUP BY keywords order by count desc) AS counts\").fetchdf()\n",
    "print(r)"
   ]
  },
  {
   "cell_type": "code",
   "execution_count": 13,
   "metadata": {
    "ExecuteTime": {
     "end_time": "2023-06-19T11:26:11.744690814Z",
     "start_time": "2023-06-19T11:26:11.734302747Z"
    },
    "collapsed": false,
    "jupyter": {
     "outputs_hidden": false
    },
    "tags": []
   },
   "outputs": [
    {
     "name": "stdout",
     "output_type": "stream",
     "text": [
      "                        type   count\n",
      "0        schmea:CreativeWork  288427\n",
      "1              schmea:Person  166284\n",
      "2        schemawrong:Dataset  108245\n",
      "3        schmea:Organization   48119\n",
      "4               schmea:Event   20665\n",
      "5             schmea:Dataset   20356\n",
      "6   schemawrong:Organization    5703\n",
      "7     schmea:ResearchProject    3608\n",
      "8              schmea:Course    1400\n",
      "9         schemawrong:Person    1372\n",
      "10     schmea:CourseInstance    1011\n",
      "11            schmea:Vehicle     115\n"
     ]
    }
   ],
   "source": [
    "r = con.execute(\" SELECT type, COUNT(*) AS count FROM my_table GROUP BY type order by count desc\").fetchdf()\n",
    "print(r)"
   ]
  },
  {
   "cell_type": "markdown",
   "metadata": {},
   "source": [
    "## graph parquet\n"
   ]
  },
  {
   "cell_type": "code",
   "execution_count": 14,
   "metadata": {
    "ExecuteTime": {
     "end_time": "2023-06-19T11:32:27.526121866Z",
     "start_time": "2023-06-19T11:32:26.370626683Z"
    },
    "collapsed": false,
    "jupyter": {
     "outputs_hidden": false
    },
    "tags": []
   },
   "outputs": [
    {
     "data": {
      "text/plain": [
       "<duckdb.DuckDBPyConnection at 0x7fedaae82730>"
      ]
     },
     "execution_count": 14,
     "metadata": {},
     "output_type": "execute_result"
    }
   ],
   "source": [
    "url = \"http://ossapi.oceaninfohub.org/public/oihgraph_rdf.parquet\"\n",
    "duckdb.install_extension(\"httpfs\")\n",
    "\n",
    "# Instantiate the DuckDB connection\n",
    "con2 = duckdb.connect()\n",
    "# con.execute(\"CREATE TABLE my_table AS SELECT * FROM read_parquet('{}')\".format(url))  # load from url\n",
    "con2.execute(\"CREATE TABLE my_table AS SELECT * FROM read_parquet('../../secret/oihgraph_rdf.parquet')\") # load from local parquet\n",
    "\n"
   ]
  },
  {
   "cell_type": "code",
   "execution_count": 16,
   "metadata": {
    "ExecuteTime": {
     "end_time": "2023-06-19T11:32:29.413667010Z",
     "start_time": "2023-06-19T11:32:29.389958934Z"
    },
    "collapsed": false,
    "jupyter": {
     "outputs_hidden": false
    },
    "tags": []
   },
   "outputs": [
    {
     "name": "stdout",
     "output_type": "stream",
     "text": [
      "                                             predicate   count\n",
      "0    <http://www.w3.org/1999/02/22-rdf-syntax-ns#type>  634761\n",
      "1                            <https://schema.org/name>  317029\n",
      "2                        <https://schema.org/keywords>  306362\n",
      "3                             <https://schema.org/url>  189343\n",
      "4                     <https://schema.org/description>  135034\n",
      "..                                                 ...     ...\n",
      "139                <https://schema.org/productionDate>       6\n",
      "140                   <https://schema.org/contactType>       3\n",
      "141                      <http://schema.org/legalName>       3\n",
      "142                   <https://schema.org/relatedLink>       3\n",
      "143                   <https://schema.org/EventStatus>       1\n",
      "\n",
      "[144 rows x 2 columns]\n"
     ]
    }
   ],
   "source": [
    "\n",
    "r = con2.execute(\" SELECT DISTINCT predicate,  COUNT(*) AS count FROM my_table GROUP BY predicate order by count desc\").fetchdf()\n",
    "print(r)"
   ]
  },
  {
   "cell_type": "code",
   "execution_count": null,
   "metadata": {
    "collapsed": false,
    "jupyter": {
     "outputs_hidden": false
    }
   },
   "outputs": [],
   "source": []
  },
  {
   "cell_type": "code",
   "execution_count": null,
   "metadata": {},
   "outputs": [],
   "source": []
  }
 ],
 "metadata": {
  "kernelspec": {
   "display_name": "Python 3 (ipykernel)",
   "language": "python",
   "name": "python3"
  },
  "language_info": {
   "codemirror_mode": {
    "name": "ipython",
    "version": 3
   },
   "file_extension": ".py",
   "mimetype": "text/x-python",
   "name": "python",
   "nbconvert_exporter": "python",
   "pygments_lexer": "ipython3",
   "version": "3.10.8"
  }
 },
 "nbformat": 4,
 "nbformat_minor": 4
}
