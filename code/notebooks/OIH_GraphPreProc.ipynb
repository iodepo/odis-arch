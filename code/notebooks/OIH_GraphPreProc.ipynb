{
 "cells": [
  {
   "cell_type": "markdown",
   "metadata": {
    "tags": []
   },
   "source": [
    "# OIH Graph Pre-Processor\n",
    "\n",
    "## About\n",
    "This notebook demonstrates some approaches for processing the release graphs into a format that\n",
    "is useful for the Dashboard UI\n",
    "\n",
    "#### WMO Note\n",
    "\n",
    "For WMO we need to add to the sparqlwmo an optional temporal aspect.  The output should be set as GeoJSON\n",
    "\n",
    "#### ROA\n",
    "\n",
    "Resource-Oriented Architecture (ROA) is an architectural style for designing network-based software applications. This style prioritizes resources, their identification, representation, and the links between them over the actions performed on those resources (as in many object-oriented architectures).\n",
    "\n",
    "Here are key principles of ROA:\n",
    "\n",
    "1. **Resources:** In a ROA, every piece of information and service is considered a resource. These resources are identifiable and can be accessed through a unique identifier, typically a URI.\n",
    "\n",
    "2. **Links and Connectedness:** Resources reference each other through links, creating a web of interconnected resources. This allows for easy navigation between related resources.\n",
    "\n",
    "3. **Standard Methods:** In ROA, resources are manipulated using standard HTTP methods (like GET, POST, PUT, DELETE). This makes the API predictable and easy to understand.\n",
    "\n",
    "4. **Representation-Oriented:** Rather than being concerned with implementation details, ROA focuses on how resources are represented to clients. Different clients might receive different representations of the same resource.\n",
    "\n",
    "5. **Stateless:** Similar to RESTful systems, ROA prefers stateless operations, where each request from client to server must contain all the information necessary to understand and respond to the request.\n",
    "\n",
    "6. **Addressability:** Every resource has a unique address, typically a URL, which can be bookmarked, typed into a browser, or passed around by an application.\n",
    "\n",
    "ROA is most notably realized in the design of RESTful APIs, which are intended to interact with web resources. It's focused on leveraging the protocols and technologies of the web (like HTTP, URIs, and MIME types) rather than creating new standards or protocols.\n"
   ]
  },
  {
   "cell_type": "markdown",
   "source": [
    "### Imports and definitions"
   ],
   "metadata": {
    "collapsed": false
   }
  },
  {
   "cell_type": "code",
   "execution_count": 47,
   "metadata": {
    "collapsed": false,
    "jupyter": {
     "outputs_hidden": false
    },
    "tags": [],
    "ExecuteTime": {
     "end_time": "2023-06-20T21:09:44.398249428Z",
     "start_time": "2023-06-20T21:09:44.245572363Z"
    }
   },
   "outputs": [],
   "source": [
    "import warnings\n",
    "warnings.simplefilter(action='ignore', category=FutureWarning)  ## remove pandas future warning\n",
    "import pandas as pd\n",
    "import geopandas as gpd\n",
    "from shapely import wkt\n",
    "import s3fs\n",
    "import pyarrow.parquet as pq\n",
    "import shapely\n",
    "import os\n",
    "import re\n",
    "import kglab\n",
    "from minio import Minio\n",
    "import rdflib\n",
    "from rdflib import ConjunctiveGraph  #  needed for nquads"
   ]
  },
  {
   "cell_type": "code",
   "execution_count": 2,
   "metadata": {
    "collapsed": false,
    "jupyter": {
     "outputs_hidden": false
    },
    "tags": [],
    "ExecuteTime": {
     "end_time": "2023-06-20T20:37:29.844907908Z",
     "start_time": "2023-06-20T20:37:29.843500780Z"
    }
   },
   "outputs": [],
   "source": [
    "def publicurls(client, bucket, prefix):\n",
    "    urls = []\n",
    "    objects = client.list_objects(bucket, prefix=prefix, recursive=True)\n",
    "    for obj in objects:\n",
    "        result = client.stat_object(bucket, obj.object_name)\n",
    "\n",
    "        if result.size > 0:  #  how to tell if an objet   obj.is_public  ?????\n",
    "            url = client.presigned_get_object(bucket, obj.object_name)\n",
    "            # print(f\"Public URL for object: {url}\")\n",
    "            urls.append(url)\n",
    "\n",
    "    return urls"
   ]
  },
  {
   "cell_type": "code",
   "execution_count": 43,
   "outputs": [],
   "source": [
    "def to_wkt(polygon_string):\n",
    "    # split the input string into pairs\n",
    "    pairs = polygon_string.split(',')\n",
    "\n",
    "    # transform each pair into 'y x' format\n",
    "    transformed_pairs = [' '.join(reversed(pair.split())) for pair in pairs]\n",
    "\n",
    "    # join the transformed pairs with a comma and a space\n",
    "    transformed_string = ', '.join(transformed_pairs)\n",
    "\n",
    "    # return the final WKT string\n",
    "    return f\"POLYGON (({transformed_string}))\""
   ],
   "metadata": {
    "collapsed": false,
    "ExecuteTime": {
     "end_time": "2023-06-20T21:00:46.999867223Z",
     "start_time": "2023-06-20T21:00:46.958954108Z"
    }
   }
  },
  {
   "cell_type": "code",
   "execution_count": 3,
   "metadata": {
    "tags": [],
    "ExecuteTime": {
     "end_time": "2023-06-20T20:37:29.860484914Z",
     "start_time": "2023-06-20T20:37:29.845081404Z"
    }
   },
   "outputs": [
    {
     "name": "stdout",
     "output_type": "stream",
     "text": [
      "0\n"
     ]
    }
   ],
   "source": [
    "# Check for using GPU, in case you want to ensure your GPU is used\n",
    "# gc = kglab.get_gpu_count()\n",
    "# print(gc)"
   ]
  },
  {
   "cell_type": "code",
   "execution_count": 4,
   "metadata": {
    "collapsed": false,
    "jupyter": {
     "outputs_hidden": false
    },
    "tags": [],
    "ExecuteTime": {
     "end_time": "2023-06-20T20:37:33.751735062Z",
     "start_time": "2023-06-20T20:37:29.860836111Z"
    }
   },
   "outputs": [],
   "source": [
    "client = Minio(\"ossapi.oceaninfohub.org:80\",  secure=False) # Create client with anonymous access.\n",
    "urls = publicurls(client, \"public\", \"graph\")"
   ]
  },
  {
   "cell_type": "code",
   "execution_count": 5,
   "metadata": {
    "collapsed": false,
    "jupyter": {
     "outputs_hidden": false
    },
    "tags": [],
    "ExecuteTime": {
     "end_time": "2023-06-20T20:37:33.756397669Z",
     "start_time": "2023-06-20T20:37:33.753188235Z"
    }
   },
   "outputs": [
    {
     "name": "stdout",
     "output_type": "stream",
     "text": [
      "['http://ossapi.oceaninfohub.org/public/graphs/summonedafricaioc_v1_release.nq', 'http://ossapi.oceaninfohub.org/public/graphs/summonedaquadocs_v1_release.nq', 'http://ossapi.oceaninfohub.org/public/graphs/summonedcioos_v1_release.nq', 'http://ossapi.oceaninfohub.org/public/graphs/summonededmerp_v1_release.nq', 'http://ossapi.oceaninfohub.org/public/graphs/summonededmo_v1_release.nq', 'http://ossapi.oceaninfohub.org/public/graphs/summonedemodnet_v1_release.nq', 'http://ossapi.oceaninfohub.org/public/graphs/summonedinanodc_v1_release.nq', 'http://ossapi.oceaninfohub.org/public/graphs/summonedinvemardocuments_v1_release.nq', 'http://ossapi.oceaninfohub.org/public/graphs/summonedinvemarexperts_v1_release.nq', 'http://ossapi.oceaninfohub.org/public/graphs/summonedinvemarinstitutions_v1_release.nq', 'http://ossapi.oceaninfohub.org/public/graphs/summonedinvemartraining_v1_release.nq', 'http://ossapi.oceaninfohub.org/public/graphs/summonedinvemarvessels_v1_release.nq', 'http://ossapi.oceaninfohub.org/public/graphs/summonedmarinetraining_v1_release.nq', 'http://ossapi.oceaninfohub.org/public/graphs/summonedobis_v1_release.nq', 'http://ossapi.oceaninfohub.org/public/graphs/summonedobps_v1_release.nq', 'http://ossapi.oceaninfohub.org/public/graphs/summonedoceanexperts_v1_release.nq', 'http://ossapi.oceaninfohub.org/public/graphs/summonedpdh_v1_release.nq']\n"
     ]
    }
   ],
   "source": [
    "print(urls)"
   ]
  },
  {
   "cell_type": "markdown",
   "source": [
    "## Query sets\n"
   ],
   "metadata": {
    "collapsed": false
   }
  },
  {
   "cell_type": "code",
   "execution_count": 33,
   "outputs": [],
   "source": [
    "sparql = \"\"\"\n",
    "PREFIX schema: <https://schema.org/>\n",
    "PREFIX schemawrong: <http://schema.org/>\n",
    "\n",
    "\n",
    "SELECT ?s ?type ?desc ?name ?url ?keywords\n",
    "WHERE\n",
    "{\n",
    " ?s rdf:type ?type\n",
    "   FILTER ( ?type IN (schema:ResearchProject, schema:Project, schema:Organization,\n",
    "   schema:Dataset, schema:CreativeWork, schema:Person, schema:Map, schema:Course,\n",
    "   schema:CourseInstance, schema:Event, schema:Vehicle) )\n",
    "   ?s schema:description ?desc .\n",
    "   ?s schema:name ?name\n",
    "       OPTIONAL { ?s schema:url ?url .   }\n",
    "   ?s schema:keywords ?keywords\n",
    "\n",
    "}\n",
    "\"\"\"\n",
    "\n",
    "sparqlcore = \"\"\"\n",
    "PREFIX schema: <https://schema.org/>\n",
    "PREFIX schemawrong: <http://schema.org/>\n",
    "\n",
    "\n",
    "SELECT ?g ?s ?type ?desc ?name ?url ?keywords\n",
    "WHERE\n",
    "{\n",
    "     ?s rdf:type ?type\n",
    "    FILTER ( ?type IN (schema:ResearchProject, schema:Project, schema:Organization,\n",
    "    schema:Dataset, schema:CreativeWork, schema:Person, schema:Map, schema:Course,\n",
    "    schema:CourseInstance, schema:Event, schema:Vehicle,   schemawrong:ResearchProject, schemawrong:Project, schemawrong:Organization,\n",
    "    schemawrong:Dataset, schemawrong:CreativeWork, schemawrong:Person, schemawrong:Map, schemawrong:Course,\n",
    "    schemawrong:CourseInstance, schemawrong:Event, schemawrong:Vehicle  ) )\n",
    "    OPTIONAL {?s schema:description | schemawrong:description  ?desc .}\n",
    "    OPTIONAL {?s schema:name | schemawrong:name ?name }\n",
    "    OPTIONAL { ?s schema:url | schemawrong:url ?url .   }\n",
    "    OPTIONAL {?s schema:keywords | schemawrong:keywords ?keywords}\n",
    " }\n",
    "\"\"\"\n",
    "\n",
    "#  What if we didn't make it optional and just made a \"spatial product\"\n",
    "sparqlgeo = \"\"\"\n",
    "PREFIX schema: <https://schema.org/>\n",
    "PREFIX schemawrong: <http://schema.org/>\n",
    "\n",
    "SELECT ?geo ?geotype ?geompred ?geom\n",
    "WHERE\n",
    "{\n",
    "    ?s rdf:type ?type\n",
    "    FILTER ( ?type IN (schema:ResearchProject, schema:Project, schema:Organization,\n",
    "    schema:Dataset, schema:CreativeWork, schema:Person, schema:Map, schema:Course,\n",
    "    schema:CourseInstance, schema:Event, schema:Vehicle,   schemawrong:ResearchProject, schemawrong:Project, schemawrong:Organization,\n",
    "    schemawrong:Dataset, schemawrong:CreativeWork, schemawrong:Person, schemawrong:Map, schemawrong:Course,\n",
    "    schemawrong:CourseInstance, schemawrong:Event, schemawrong:Vehicle  ) )\n",
    "    ?s schema:name | schemawrong:name ?name .\n",
    "     ?s schema:spatialCoverage ?sc .\n",
    "      ?sc a  schema:Place .\n",
    "      ?sc schema:geo ?geo .\n",
    "      ?geo a ?geotype .\n",
    "      ?geo ?geompred ?geom\n",
    "}\n",
    "\"\"\"\n",
    "\n",
    "sparqltesting = \"\"\"\n",
    "PREFIX schema: <https://schema.org/>\n",
    "PREFIX schemawrong: <http://schema.org/>\n",
    "\n",
    "SELECT *\n",
    "WHERE\n",
    "{\n",
    "    ?s rdf:type ?type\n",
    "    FILTER ( ?type IN (schema:ResearchProject, schema:Project, schema:Organization,\n",
    "    schema:Dataset, schema:CreativeWork, schema:Person, schema:Map, schema:Course,\n",
    "    schema:CourseInstance, schema:Event, schema:Vehicle,   schemawrong:ResearchProject, schemawrong:Project, schemawrong:Organization,\n",
    "    schemawrong:Dataset, schemawrong:CreativeWork, schemawrong:Person, schemawrong:Map, schemawrong:Course,\n",
    "    schemawrong:CourseInstance, schemawrong:Event, schemawrong:Vehicle  ) )\n",
    "    ?s schema:name | schemawrong:name ?name\n",
    "    OPTIONAL {  ?s schema:keywords | schemawrong:keywords ?keywords }\n",
    "    OPTIONAL { ?s schema:description | schemawrong:description  ?desc . }\n",
    "    OPTIONAL { ?s schema:url | schemawrong:url ?url .   }\n",
    "    OPTIONAL {?s schema:keywords | schemawrong:keywords ?keywords}\n",
    "    OPTIONAL { ?s schema:spatialCoverage ?sc .\n",
    "      ?sc a  schema:Place .\n",
    "      ?sc schema:geo ?geo .\n",
    "      ?geo a ?geotype .\n",
    "      ?geo schema:polygon ?geom\n",
    "    }\n",
    "}\n",
    "\"\"\"\n",
    "\n",
    "sparqlwmo = \"\"\"\n",
    "PREFIX schema: <https://schema.org/>\n",
    "PREFIX schemawrong: <http://schema.org/>\n",
    "\n",
    "SELECT DISTINCT ?s ?name ?description ?geotype ?geompred ?geom\n",
    "WHERE\n",
    "{\n",
    "    ?s rdf:type ?type\n",
    "    FILTER ( ?type IN (schema:Dataset, schemawrong:Dataset  ) )\n",
    "    ?s schema:name | schemawrong:name ?name .\n",
    "    ?s schema:description | schemawrong:description ?description .\n",
    "    ?s schema:spatialCoverage ?sc .\n",
    "    ?sc a  schema:Place .\n",
    "    ?sc schema:geo ?geo .\n",
    "    ?geo a ?geotype .\n",
    "    ?geo ?geompred ?geom .\n",
    "    FILTER(!isIRI(?geom))\n",
    "}\n",
    "\"\"\""
   ],
   "metadata": {
    "collapsed": false,
    "ExecuteTime": {
     "end_time": "2023-06-20T20:53:26.779059825Z",
     "start_time": "2023-06-20T20:53:26.738516787Z"
    }
   }
  },
  {
   "cell_type": "markdown",
   "metadata": {},
   "source": [
    "## Single Graph Test\n",
    "\n",
    "At this point we have the URLs, and we could either loop load all of them or pull one out manually and use.  This section dmonstrates loading and working with one\n"
   ]
  },
  {
   "cell_type": "code",
   "execution_count": 39,
   "metadata": {
    "tags": [],
    "ExecuteTime": {
     "end_time": "2023-06-20T20:54:44.714877829Z",
     "start_time": "2023-06-20T20:54:37.089981764Z"
    }
   },
   "outputs": [
    {
     "name": "stdout",
     "output_type": "stream",
     "text": [
      "161187\n"
     ]
    }
   ],
   "source": [
    "# load quad graph\n",
    "g = ConjunctiveGraph()\n",
    "g.parse(\"http://ossapi.oceaninfohub.org/public/graphs/summonedobis_v1_release.nq\", format=\"nquads\")\n",
    "print(len(g))"
   ]
  },
  {
   "cell_type": "code",
   "execution_count": 40,
   "metadata": {
    "tags": [],
    "ExecuteTime": {
     "end_time": "2023-06-20T20:54:45.479504461Z",
     "start_time": "2023-06-20T20:54:45.474310347Z"
    }
   },
   "outputs": [],
   "source": [
    "namespaces = {\n",
    "    \"shacl\":   \"http://www.w3.org/ns/shacl#\" ,\n",
    "    \"schema\":   \"https://schema.org/\" ,\n",
    "    \"schemawrong\": \"http://schema.org/\",\n",
    "    \"geo\":      \"http://www.opengis.net/ont/geosparql#\",\n",
    "}\n",
    "\n",
    "kg = kglab.KnowledgeGraph(name = \"OIH test\", base_uri = \"https://oceaninfohub.org/id/\", namespaces = namespaces, use_gpus=True, import_graph = g)"
   ]
  },
  {
   "cell_type": "code",
   "execution_count": 41,
   "outputs": [],
   "source": [
    "pdf = kg.query_as_df(sparqlwmo)\n",
    "# df = pdf   # .to_pandas()  #  breaks with papermill for reasons unknown at this time if to_pandas() is used, needed in my kglab conda env\n",
    "# pdf.info()"
   ],
   "metadata": {
    "collapsed": false,
    "ExecuteTime": {
     "end_time": "2023-06-20T20:54:48.025677127Z",
     "start_time": "2023-06-20T20:54:46.556019836Z"
    }
   }
  },
  {
   "cell_type": "code",
   "execution_count": 44,
   "outputs": [],
   "source": [
    "pdf['WKT'] = pdf['geom'].apply(to_wkt)\n"
   ],
   "metadata": {
    "collapsed": false,
    "ExecuteTime": {
     "end_time": "2023-06-20T21:04:39.805405667Z",
     "start_time": "2023-06-20T21:04:39.759689117Z"
    }
   }
  },
  {
   "cell_type": "code",
   "execution_count": 45,
   "metadata": {
    "tags": [],
    "ExecuteTime": {
     "end_time": "2023-06-20T21:04:41.102676786Z",
     "start_time": "2023-06-20T21:04:41.100762919Z"
    }
   },
   "outputs": [
    {
     "data": {
      "text/plain": "                                                    s  \\\n0   <https://obis.org/dataset/1057a007-c31c-48a3-a...   \n1   <https://obis.org/dataset/d64477cf-491f-4de5-8...   \n2   <https://obis.org/dataset/e71d452f-615e-4654-b...   \n3   <https://obis.org/dataset/49f74e10-b23b-4aca-a...   \n4   <https://obis.org/dataset/9a37fc55-1fc8-4c19-b...   \n5   <https://obis.org/dataset/1d81a51c-66fc-46bf-a...   \n6   <https://obis.org/dataset/a595a9a0-642a-473f-8...   \n7   <https://obis.org/dataset/32948ff1-6f03-4877-b...   \n8   <https://obis.org/dataset/0abb8cc1-8651-4213-a...   \n9   <https://obis.org/dataset/937da8a1-06b0-40ad-8...   \n10  <https://obis.org/dataset/dcf57651-a262-47db-b...   \n11  <https://obis.org/dataset/84e8941c-61e1-40ea-b...   \n12  <https://obis.org/dataset/561441ab-128b-4be7-8...   \n13  <https://obis.org/dataset/2db91196-579a-4f1f-8...   \n14  <https://obis.org/dataset/d5cd9197-6fce-46f4-a...   \n15  <https://obis.org/dataset/0b1ec148-693f-4517-b...   \n16  <https://obis.org/dataset/47ab07e9-ac50-47b1-9...   \n17  <https://obis.org/dataset/a7c96474-3f59-4901-8...   \n18  <https://obis.org/dataset/5f9b72c9-8d4c-450d-a...   \n19  <https://obis.org/dataset/c7f56175-96a0-4e82-b...   \n\n                                                 name  \\\n0   Census of annual pup production by Australian ...   \n1   Canary Islands - OAG (aggregated per 1-degree ...   \n2   Virginia and Maryland Sea Turtle Research and ...   \n3   Species assemblages, biomass and regional habi...   \n4                  PIROP Northwest Atlantic 1965-1992   \n5       USWTR JAX Aerial Survey -Left side- 2011-2012   \n6   Electronic Atlas of Ichthyoplankton on the Sco...   \n7   Happywhale - Bryde's whale in South Atlantic O...   \n8   Colección de Gusanos Cinta (Nemertea) de la re...   \n9                           BOLD - Australian records   \n10   Fish distribution data, Mayor Is. (Tuhua) mar...   \n11  Benthic Polychaeta (Annelida) from the contine...   \n12                                        SEAPOP NINA   \n13  Weddell Seal Sightings, Vestfold Hills, Antarc...   \n14                                Cape Hatteras 04-05   \n15  Censo abundancia de aves en los Parques Nacion...   \n16         AMAPPS Northeast Aerial Cruise Spring 2017   \n17             Squid collection from 1995/96 V4 BROKE   \n18      Kimberley Islands Biodiversity Survey (Birds)   \n19  Mortensen Th. And Steuer Ad. 1937. The fishery...   \n\n                                          description          geotype  \\\n0   In Australia, it is thought that up to 26 Aust...  schema:GeoShape   \n1   Original provider:\\nObservatorio Ambiental Gra...  schema:GeoShape   \n2   Original provider:\\nVirginia Aquarium and Mari...  schema:GeoShape   \n3   Tow video and epibenthic sled collections were...  schema:GeoShape   \n4   Original provider:\\nCanadian Wildlife Service\\...  schema:GeoShape   \n5   Original provider:\\nUniversity of North Caroli...  schema:GeoShape   \n6   The EAISSNA database contains information on l...  schema:GeoShape   \n7   Original provider:\\nHappywhale\\n\\nDataset cred...  schema:GeoShape   \n8   El phylum Nemertea está formado por un pequeño...  schema:GeoShape   \n9   Barcode of Life data extract, October 2010\\n\\n...  schema:GeoShape   \n10  The Mayor Island (Tuhua) marine reserve was cr...  schema:GeoShape   \n11  The biological material was collected on board...  schema:GeoShape   \n12  SEAPOP (SEAbird POPulations) is a long-term mo...  schema:GeoShape   \n13  Ground based sightings of Weddell seals restin...  schema:GeoShape   \n14  Original provider:\\nDuke University Marine Lab...  schema:GeoShape   \n15  699 Registros recopilados durante las jornadas...  schema:GeoShape   \n16  Original provider:\\nNOAA Northeast Fisheries S...  schema:GeoShape   \n17  Squid collected as a product of fish surveys. ...  schema:GeoShape   \n18  Dataset collected as part of the Kimberley Isl...  schema:GeoShape   \n19  This is a historical dataset that was publishe...  schema:GeoShape   \n\n          geompred                                               geom  \\\n0   schema:polygon  135.96667 -43.63333,135.96667 -35.01667,150.23...   \n1   schema:polygon  -74.5 5.5,-74.5 45.5,32.5 45.5,32.5 5.5,-74.5 5.5   \n2   schema:polygon  -76.39647 36.58278,-76.39647 38.52142,-74.3984...   \n3   schema:polygon  124.05919 -15.94544,124.05919 -15.22044,124.69...   \n4   schema:polygon  -149.5667 -25.15,-149.5667 79.7833,18.5667 79....   \n5   schema:polygon  -80.690317 29.954577,-80.690317 30.574196,-79....   \n6   schema:polygon       -73.5 12.5,-73.5 56,55 56,55 12.5,-73.5 12.5   \n7   schema:polygon  18.291666 -34.501803,18.291666 -34.058889,19.3...   \n8   schema:polygon  -74.32758 10.97982,-74.32758 11.26469,-74.1913...   \n9   schema:polygon  67.083 -56.733,67.083 -9.367,168.41701 -9.367,...   \n10  schema:polygon  176.23105 -37.30811,176.23105 -37.2595,176.288...   \n11  schema:polygon  -101.033833 16.7259,-101.033833 17.2353,-99.81...   \n12  schema:polygon  3.4158 5.9056,3.4158 71.1947,31.1739 71.1947,3...   \n13  schema:polygon  62.867 -69.7,62.867 -67.617,78.7333333333 -67....   \n14  schema:polygon  -77.1 34.2832,-77.1 36.4893,-74.497 36.4893,-7...   \n15  schema:polygon  -81.35911203 3.896896988,-81.35911203 13.37633...   \n16  schema:polygon  -73.677971 38.948364,-73.677971 44.966145,-62....   \n17  schema:polygon  79.99016667 -65.48433333,79.99016667 -62.57283...   \n18  schema:polygon  123.179 -16.6231,123.179 -13.8712,128.30099 -1...   \n19  schema:polygon  29.659635 31.123853,29.659635 31.459032,30.344...   \n\n                                                  WKT  \n0   POLYGON ((-43.63333 135.96667, -35.01667 135.9...  \n1   POLYGON ((5.5 -74.5, 45.5 -74.5, 45.5 32.5, 5....  \n2   POLYGON ((36.58278 -76.39647, 38.52142 -76.396...  \n3   POLYGON ((-15.94544 124.05919, -15.22044 124.0...  \n4   POLYGON ((-25.15 -149.5667, 79.7833 -149.5667,...  \n5   POLYGON ((29.954577 -80.690317, 30.574196 -80....  \n6   POLYGON ((12.5 -73.5, 56 -73.5, 56 55, 12.5 55...  \n7   POLYGON ((-34.501803 18.291666, -34.058889 18....  \n8   POLYGON ((10.97982 -74.32758, 11.26469 -74.327...  \n9   POLYGON ((-56.733 67.083, -9.367 67.083, -9.36...  \n10  POLYGON ((-37.30811 176.23105, -37.2595 176.23...  \n11  POLYGON ((16.7259 -101.033833, 17.2353 -101.03...  \n12  POLYGON ((5.9056 3.4158, 71.1947 3.4158, 71.19...  \n13  POLYGON ((-69.7 62.867, -67.617 62.867, -67.61...  \n14  POLYGON ((34.2832 -77.1, 36.4893 -77.1, 36.489...  \n15  POLYGON ((3.896896988 -81.35911203, 13.3763399...  \n16  POLYGON ((38.948364 -73.677971, 44.966145 -73....  \n17  POLYGON ((-65.48433333 79.99016667, -62.572833...  \n18  POLYGON ((-16.6231 123.179, -13.8712 123.179, ...  \n19  POLYGON ((31.123853 29.659635, 31.459032 29.65...  ",
      "text/html": "<div>\n<style scoped>\n    .dataframe tbody tr th:only-of-type {\n        vertical-align: middle;\n    }\n\n    .dataframe tbody tr th {\n        vertical-align: top;\n    }\n\n    .dataframe thead th {\n        text-align: right;\n    }\n</style>\n<table border=\"1\" class=\"dataframe\">\n  <thead>\n    <tr style=\"text-align: right;\">\n      <th></th>\n      <th>s</th>\n      <th>name</th>\n      <th>description</th>\n      <th>geotype</th>\n      <th>geompred</th>\n      <th>geom</th>\n      <th>WKT</th>\n    </tr>\n  </thead>\n  <tbody>\n    <tr>\n      <th>0</th>\n      <td>&lt;https://obis.org/dataset/1057a007-c31c-48a3-a...</td>\n      <td>Census of annual pup production by Australian ...</td>\n      <td>In Australia, it is thought that up to 26 Aust...</td>\n      <td>schema:GeoShape</td>\n      <td>schema:polygon</td>\n      <td>135.96667 -43.63333,135.96667 -35.01667,150.23...</td>\n      <td>POLYGON ((-43.63333 135.96667, -35.01667 135.9...</td>\n    </tr>\n    <tr>\n      <th>1</th>\n      <td>&lt;https://obis.org/dataset/d64477cf-491f-4de5-8...</td>\n      <td>Canary Islands - OAG (aggregated per 1-degree ...</td>\n      <td>Original provider:\\nObservatorio Ambiental Gra...</td>\n      <td>schema:GeoShape</td>\n      <td>schema:polygon</td>\n      <td>-74.5 5.5,-74.5 45.5,32.5 45.5,32.5 5.5,-74.5 5.5</td>\n      <td>POLYGON ((5.5 -74.5, 45.5 -74.5, 45.5 32.5, 5....</td>\n    </tr>\n    <tr>\n      <th>2</th>\n      <td>&lt;https://obis.org/dataset/e71d452f-615e-4654-b...</td>\n      <td>Virginia and Maryland Sea Turtle Research and ...</td>\n      <td>Original provider:\\nVirginia Aquarium and Mari...</td>\n      <td>schema:GeoShape</td>\n      <td>schema:polygon</td>\n      <td>-76.39647 36.58278,-76.39647 38.52142,-74.3984...</td>\n      <td>POLYGON ((36.58278 -76.39647, 38.52142 -76.396...</td>\n    </tr>\n    <tr>\n      <th>3</th>\n      <td>&lt;https://obis.org/dataset/49f74e10-b23b-4aca-a...</td>\n      <td>Species assemblages, biomass and regional habi...</td>\n      <td>Tow video and epibenthic sled collections were...</td>\n      <td>schema:GeoShape</td>\n      <td>schema:polygon</td>\n      <td>124.05919 -15.94544,124.05919 -15.22044,124.69...</td>\n      <td>POLYGON ((-15.94544 124.05919, -15.22044 124.0...</td>\n    </tr>\n    <tr>\n      <th>4</th>\n      <td>&lt;https://obis.org/dataset/9a37fc55-1fc8-4c19-b...</td>\n      <td>PIROP Northwest Atlantic 1965-1992</td>\n      <td>Original provider:\\nCanadian Wildlife Service\\...</td>\n      <td>schema:GeoShape</td>\n      <td>schema:polygon</td>\n      <td>-149.5667 -25.15,-149.5667 79.7833,18.5667 79....</td>\n      <td>POLYGON ((-25.15 -149.5667, 79.7833 -149.5667,...</td>\n    </tr>\n    <tr>\n      <th>5</th>\n      <td>&lt;https://obis.org/dataset/1d81a51c-66fc-46bf-a...</td>\n      <td>USWTR JAX Aerial Survey -Left side- 2011-2012</td>\n      <td>Original provider:\\nUniversity of North Caroli...</td>\n      <td>schema:GeoShape</td>\n      <td>schema:polygon</td>\n      <td>-80.690317 29.954577,-80.690317 30.574196,-79....</td>\n      <td>POLYGON ((29.954577 -80.690317, 30.574196 -80....</td>\n    </tr>\n    <tr>\n      <th>6</th>\n      <td>&lt;https://obis.org/dataset/a595a9a0-642a-473f-8...</td>\n      <td>Electronic Atlas of Ichthyoplankton on the Sco...</td>\n      <td>The EAISSNA database contains information on l...</td>\n      <td>schema:GeoShape</td>\n      <td>schema:polygon</td>\n      <td>-73.5 12.5,-73.5 56,55 56,55 12.5,-73.5 12.5</td>\n      <td>POLYGON ((12.5 -73.5, 56 -73.5, 56 55, 12.5 55...</td>\n    </tr>\n    <tr>\n      <th>7</th>\n      <td>&lt;https://obis.org/dataset/32948ff1-6f03-4877-b...</td>\n      <td>Happywhale - Bryde's whale in South Atlantic O...</td>\n      <td>Original provider:\\nHappywhale\\n\\nDataset cred...</td>\n      <td>schema:GeoShape</td>\n      <td>schema:polygon</td>\n      <td>18.291666 -34.501803,18.291666 -34.058889,19.3...</td>\n      <td>POLYGON ((-34.501803 18.291666, -34.058889 18....</td>\n    </tr>\n    <tr>\n      <th>8</th>\n      <td>&lt;https://obis.org/dataset/0abb8cc1-8651-4213-a...</td>\n      <td>Colección de Gusanos Cinta (Nemertea) de la re...</td>\n      <td>El phylum Nemertea está formado por un pequeño...</td>\n      <td>schema:GeoShape</td>\n      <td>schema:polygon</td>\n      <td>-74.32758 10.97982,-74.32758 11.26469,-74.1913...</td>\n      <td>POLYGON ((10.97982 -74.32758, 11.26469 -74.327...</td>\n    </tr>\n    <tr>\n      <th>9</th>\n      <td>&lt;https://obis.org/dataset/937da8a1-06b0-40ad-8...</td>\n      <td>BOLD - Australian records</td>\n      <td>Barcode of Life data extract, October 2010\\n\\n...</td>\n      <td>schema:GeoShape</td>\n      <td>schema:polygon</td>\n      <td>67.083 -56.733,67.083 -9.367,168.41701 -9.367,...</td>\n      <td>POLYGON ((-56.733 67.083, -9.367 67.083, -9.36...</td>\n    </tr>\n    <tr>\n      <th>10</th>\n      <td>&lt;https://obis.org/dataset/dcf57651-a262-47db-b...</td>\n      <td>Fish distribution data, Mayor Is. (Tuhua) mar...</td>\n      <td>The Mayor Island (Tuhua) marine reserve was cr...</td>\n      <td>schema:GeoShape</td>\n      <td>schema:polygon</td>\n      <td>176.23105 -37.30811,176.23105 -37.2595,176.288...</td>\n      <td>POLYGON ((-37.30811 176.23105, -37.2595 176.23...</td>\n    </tr>\n    <tr>\n      <th>11</th>\n      <td>&lt;https://obis.org/dataset/84e8941c-61e1-40ea-b...</td>\n      <td>Benthic Polychaeta (Annelida) from the contine...</td>\n      <td>The biological material was collected on board...</td>\n      <td>schema:GeoShape</td>\n      <td>schema:polygon</td>\n      <td>-101.033833 16.7259,-101.033833 17.2353,-99.81...</td>\n      <td>POLYGON ((16.7259 -101.033833, 17.2353 -101.03...</td>\n    </tr>\n    <tr>\n      <th>12</th>\n      <td>&lt;https://obis.org/dataset/561441ab-128b-4be7-8...</td>\n      <td>SEAPOP NINA</td>\n      <td>SEAPOP (SEAbird POPulations) is a long-term mo...</td>\n      <td>schema:GeoShape</td>\n      <td>schema:polygon</td>\n      <td>3.4158 5.9056,3.4158 71.1947,31.1739 71.1947,3...</td>\n      <td>POLYGON ((5.9056 3.4158, 71.1947 3.4158, 71.19...</td>\n    </tr>\n    <tr>\n      <th>13</th>\n      <td>&lt;https://obis.org/dataset/2db91196-579a-4f1f-8...</td>\n      <td>Weddell Seal Sightings, Vestfold Hills, Antarc...</td>\n      <td>Ground based sightings of Weddell seals restin...</td>\n      <td>schema:GeoShape</td>\n      <td>schema:polygon</td>\n      <td>62.867 -69.7,62.867 -67.617,78.7333333333 -67....</td>\n      <td>POLYGON ((-69.7 62.867, -67.617 62.867, -67.61...</td>\n    </tr>\n    <tr>\n      <th>14</th>\n      <td>&lt;https://obis.org/dataset/d5cd9197-6fce-46f4-a...</td>\n      <td>Cape Hatteras 04-05</td>\n      <td>Original provider:\\nDuke University Marine Lab...</td>\n      <td>schema:GeoShape</td>\n      <td>schema:polygon</td>\n      <td>-77.1 34.2832,-77.1 36.4893,-74.497 36.4893,-7...</td>\n      <td>POLYGON ((34.2832 -77.1, 36.4893 -77.1, 36.489...</td>\n    </tr>\n    <tr>\n      <th>15</th>\n      <td>&lt;https://obis.org/dataset/0b1ec148-693f-4517-b...</td>\n      <td>Censo abundancia de aves en los Parques Nacion...</td>\n      <td>699 Registros recopilados durante las jornadas...</td>\n      <td>schema:GeoShape</td>\n      <td>schema:polygon</td>\n      <td>-81.35911203 3.896896988,-81.35911203 13.37633...</td>\n      <td>POLYGON ((3.896896988 -81.35911203, 13.3763399...</td>\n    </tr>\n    <tr>\n      <th>16</th>\n      <td>&lt;https://obis.org/dataset/47ab07e9-ac50-47b1-9...</td>\n      <td>AMAPPS Northeast Aerial Cruise Spring 2017</td>\n      <td>Original provider:\\nNOAA Northeast Fisheries S...</td>\n      <td>schema:GeoShape</td>\n      <td>schema:polygon</td>\n      <td>-73.677971 38.948364,-73.677971 44.966145,-62....</td>\n      <td>POLYGON ((38.948364 -73.677971, 44.966145 -73....</td>\n    </tr>\n    <tr>\n      <th>17</th>\n      <td>&lt;https://obis.org/dataset/a7c96474-3f59-4901-8...</td>\n      <td>Squid collection from 1995/96 V4 BROKE</td>\n      <td>Squid collected as a product of fish surveys. ...</td>\n      <td>schema:GeoShape</td>\n      <td>schema:polygon</td>\n      <td>79.99016667 -65.48433333,79.99016667 -62.57283...</td>\n      <td>POLYGON ((-65.48433333 79.99016667, -62.572833...</td>\n    </tr>\n    <tr>\n      <th>18</th>\n      <td>&lt;https://obis.org/dataset/5f9b72c9-8d4c-450d-a...</td>\n      <td>Kimberley Islands Biodiversity Survey (Birds)</td>\n      <td>Dataset collected as part of the Kimberley Isl...</td>\n      <td>schema:GeoShape</td>\n      <td>schema:polygon</td>\n      <td>123.179 -16.6231,123.179 -13.8712,128.30099 -1...</td>\n      <td>POLYGON ((-16.6231 123.179, -13.8712 123.179, ...</td>\n    </tr>\n    <tr>\n      <th>19</th>\n      <td>&lt;https://obis.org/dataset/c7f56175-96a0-4e82-b...</td>\n      <td>Mortensen Th. And Steuer Ad. 1937. The fishery...</td>\n      <td>This is a historical dataset that was publishe...</td>\n      <td>schema:GeoShape</td>\n      <td>schema:polygon</td>\n      <td>29.659635 31.123853,29.659635 31.459032,30.344...</td>\n      <td>POLYGON ((31.123853 29.659635, 31.459032 29.65...</td>\n    </tr>\n  </tbody>\n</table>\n</div>"
     },
     "execution_count": 45,
     "metadata": {},
     "output_type": "execute_result"
    }
   ],
   "source": [
    "pdf.head(20)\n"
   ]
  },
  {
   "cell_type": "markdown",
   "source": [
    "### Convert to geoPandas"
   ],
   "metadata": {
    "collapsed": false
   }
  },
  {
   "cell_type": "code",
   "execution_count": 48,
   "outputs": [],
   "source": [
    "pdf['geometry'] = pdf['WKT'].apply(wkt.loads)\n",
    "\n",
    "gdf = gpd.GeoDataFrame(pdf, geometry='geometry')\n"
   ],
   "metadata": {
    "collapsed": false,
    "ExecuteTime": {
     "end_time": "2023-06-20T21:10:54.147583250Z",
     "start_time": "2023-06-20T21:10:54.092880310Z"
    }
   }
  },
  {
   "cell_type": "code",
   "execution_count": 49,
   "outputs": [
    {
     "data": {
      "text/plain": "                                                    s  \\\n0   <https://obis.org/dataset/1057a007-c31c-48a3-a...   \n1   <https://obis.org/dataset/d64477cf-491f-4de5-8...   \n2   <https://obis.org/dataset/e71d452f-615e-4654-b...   \n3   <https://obis.org/dataset/49f74e10-b23b-4aca-a...   \n4   <https://obis.org/dataset/9a37fc55-1fc8-4c19-b...   \n5   <https://obis.org/dataset/1d81a51c-66fc-46bf-a...   \n6   <https://obis.org/dataset/a595a9a0-642a-473f-8...   \n7   <https://obis.org/dataset/32948ff1-6f03-4877-b...   \n8   <https://obis.org/dataset/0abb8cc1-8651-4213-a...   \n9   <https://obis.org/dataset/937da8a1-06b0-40ad-8...   \n10  <https://obis.org/dataset/dcf57651-a262-47db-b...   \n11  <https://obis.org/dataset/84e8941c-61e1-40ea-b...   \n12  <https://obis.org/dataset/561441ab-128b-4be7-8...   \n13  <https://obis.org/dataset/2db91196-579a-4f1f-8...   \n14  <https://obis.org/dataset/d5cd9197-6fce-46f4-a...   \n15  <https://obis.org/dataset/0b1ec148-693f-4517-b...   \n16  <https://obis.org/dataset/47ab07e9-ac50-47b1-9...   \n17  <https://obis.org/dataset/a7c96474-3f59-4901-8...   \n18  <https://obis.org/dataset/5f9b72c9-8d4c-450d-a...   \n19  <https://obis.org/dataset/c7f56175-96a0-4e82-b...   \n\n                                                 name  \\\n0   Census of annual pup production by Australian ...   \n1   Canary Islands - OAG (aggregated per 1-degree ...   \n2   Virginia and Maryland Sea Turtle Research and ...   \n3   Species assemblages, biomass and regional habi...   \n4                  PIROP Northwest Atlantic 1965-1992   \n5       USWTR JAX Aerial Survey -Left side- 2011-2012   \n6   Electronic Atlas of Ichthyoplankton on the Sco...   \n7   Happywhale - Bryde's whale in South Atlantic O...   \n8   Colección de Gusanos Cinta (Nemertea) de la re...   \n9                           BOLD - Australian records   \n10   Fish distribution data, Mayor Is. (Tuhua) mar...   \n11  Benthic Polychaeta (Annelida) from the contine...   \n12                                        SEAPOP NINA   \n13  Weddell Seal Sightings, Vestfold Hills, Antarc...   \n14                                Cape Hatteras 04-05   \n15  Censo abundancia de aves en los Parques Nacion...   \n16         AMAPPS Northeast Aerial Cruise Spring 2017   \n17             Squid collection from 1995/96 V4 BROKE   \n18      Kimberley Islands Biodiversity Survey (Birds)   \n19  Mortensen Th. And Steuer Ad. 1937. The fishery...   \n\n                                          description          geotype  \\\n0   In Australia, it is thought that up to 26 Aust...  schema:GeoShape   \n1   Original provider:\\nObservatorio Ambiental Gra...  schema:GeoShape   \n2   Original provider:\\nVirginia Aquarium and Mari...  schema:GeoShape   \n3   Tow video and epibenthic sled collections were...  schema:GeoShape   \n4   Original provider:\\nCanadian Wildlife Service\\...  schema:GeoShape   \n5   Original provider:\\nUniversity of North Caroli...  schema:GeoShape   \n6   The EAISSNA database contains information on l...  schema:GeoShape   \n7   Original provider:\\nHappywhale\\n\\nDataset cred...  schema:GeoShape   \n8   El phylum Nemertea está formado por un pequeño...  schema:GeoShape   \n9   Barcode of Life data extract, October 2010\\n\\n...  schema:GeoShape   \n10  The Mayor Island (Tuhua) marine reserve was cr...  schema:GeoShape   \n11  The biological material was collected on board...  schema:GeoShape   \n12  SEAPOP (SEAbird POPulations) is a long-term mo...  schema:GeoShape   \n13  Ground based sightings of Weddell seals restin...  schema:GeoShape   \n14  Original provider:\\nDuke University Marine Lab...  schema:GeoShape   \n15  699 Registros recopilados durante las jornadas...  schema:GeoShape   \n16  Original provider:\\nNOAA Northeast Fisheries S...  schema:GeoShape   \n17  Squid collected as a product of fish surveys. ...  schema:GeoShape   \n18  Dataset collected as part of the Kimberley Isl...  schema:GeoShape   \n19  This is a historical dataset that was publishe...  schema:GeoShape   \n\n          geompred                                               geom  \\\n0   schema:polygon  135.96667 -43.63333,135.96667 -35.01667,150.23...   \n1   schema:polygon  -74.5 5.5,-74.5 45.5,32.5 45.5,32.5 5.5,-74.5 5.5   \n2   schema:polygon  -76.39647 36.58278,-76.39647 38.52142,-74.3984...   \n3   schema:polygon  124.05919 -15.94544,124.05919 -15.22044,124.69...   \n4   schema:polygon  -149.5667 -25.15,-149.5667 79.7833,18.5667 79....   \n5   schema:polygon  -80.690317 29.954577,-80.690317 30.574196,-79....   \n6   schema:polygon       -73.5 12.5,-73.5 56,55 56,55 12.5,-73.5 12.5   \n7   schema:polygon  18.291666 -34.501803,18.291666 -34.058889,19.3...   \n8   schema:polygon  -74.32758 10.97982,-74.32758 11.26469,-74.1913...   \n9   schema:polygon  67.083 -56.733,67.083 -9.367,168.41701 -9.367,...   \n10  schema:polygon  176.23105 -37.30811,176.23105 -37.2595,176.288...   \n11  schema:polygon  -101.033833 16.7259,-101.033833 17.2353,-99.81...   \n12  schema:polygon  3.4158 5.9056,3.4158 71.1947,31.1739 71.1947,3...   \n13  schema:polygon  62.867 -69.7,62.867 -67.617,78.7333333333 -67....   \n14  schema:polygon  -77.1 34.2832,-77.1 36.4893,-74.497 36.4893,-7...   \n15  schema:polygon  -81.35911203 3.896896988,-81.35911203 13.37633...   \n16  schema:polygon  -73.677971 38.948364,-73.677971 44.966145,-62....   \n17  schema:polygon  79.99016667 -65.48433333,79.99016667 -62.57283...   \n18  schema:polygon  123.179 -16.6231,123.179 -13.8712,128.30099 -1...   \n19  schema:polygon  29.659635 31.123853,29.659635 31.459032,30.344...   \n\n                                                  WKT  \\\n0   POLYGON ((-43.63333 135.96667, -35.01667 135.9...   \n1   POLYGON ((5.5 -74.5, 45.5 -74.5, 45.5 32.5, 5....   \n2   POLYGON ((36.58278 -76.39647, 38.52142 -76.396...   \n3   POLYGON ((-15.94544 124.05919, -15.22044 124.0...   \n4   POLYGON ((-25.15 -149.5667, 79.7833 -149.5667,...   \n5   POLYGON ((29.954577 -80.690317, 30.574196 -80....   \n6   POLYGON ((12.5 -73.5, 56 -73.5, 56 55, 12.5 55...   \n7   POLYGON ((-34.501803 18.291666, -34.058889 18....   \n8   POLYGON ((10.97982 -74.32758, 11.26469 -74.327...   \n9   POLYGON ((-56.733 67.083, -9.367 67.083, -9.36...   \n10  POLYGON ((-37.30811 176.23105, -37.2595 176.23...   \n11  POLYGON ((16.7259 -101.033833, 17.2353 -101.03...   \n12  POLYGON ((5.9056 3.4158, 71.1947 3.4158, 71.19...   \n13  POLYGON ((-69.7 62.867, -67.617 62.867, -67.61...   \n14  POLYGON ((34.2832 -77.1, 36.4893 -77.1, 36.489...   \n15  POLYGON ((3.896896988 -81.35911203, 13.3763399...   \n16  POLYGON ((38.948364 -73.677971, 44.966145 -73....   \n17  POLYGON ((-65.48433333 79.99016667, -62.572833...   \n18  POLYGON ((-16.6231 123.179, -13.8712 123.179, ...   \n19  POLYGON ((31.123853 29.659635, 31.459032 29.65...   \n\n                                             geometry  \n0   POLYGON ((-43.633 135.967, -35.017 135.967, -3...  \n1   POLYGON ((5.500 -74.500, 45.500 -74.500, 45.50...  \n2   POLYGON ((36.583 -76.396, 38.521 -76.396, 38.5...  \n3   POLYGON ((-15.945 124.059, -15.220 124.059, -1...  \n4   POLYGON ((-25.150 -149.567, 79.783 -149.567, 7...  \n5   POLYGON ((29.955 -80.690, 30.574 -80.690, 30.5...  \n6   POLYGON ((12.500 -73.500, 56.000 -73.500, 56.0...  \n7   POLYGON ((-34.502 18.292, -34.059 18.292, -34....  \n8   POLYGON ((10.980 -74.328, 11.265 -74.328, 11.2...  \n9   POLYGON ((-56.733 67.083, -9.367 67.083, -9.36...  \n10  POLYGON ((-37.308 176.231, -37.260 176.231, -3...  \n11  POLYGON ((16.726 -101.034, 17.235 -101.034, 17...  \n12  POLYGON ((5.906 3.416, 71.195 3.416, 71.195 31...  \n13  POLYGON ((-69.700 62.867, -67.617 62.867, -67....  \n14  POLYGON ((34.283 -77.100, 36.489 -77.100, 36.4...  \n15  POLYGON ((3.897 -81.359, 13.376 -81.359, 13.37...  \n16  POLYGON ((38.948 -73.678, 44.966 -73.678, 44.9...  \n17  POLYGON ((-65.484 79.990, -62.573 79.990, -62....  \n18  POLYGON ((-16.623 123.179, -13.871 123.179, -1...  \n19  POLYGON ((31.124 29.660, 31.459 29.660, 31.459...  ",
      "text/html": "<div>\n<style scoped>\n    .dataframe tbody tr th:only-of-type {\n        vertical-align: middle;\n    }\n\n    .dataframe tbody tr th {\n        vertical-align: top;\n    }\n\n    .dataframe thead th {\n        text-align: right;\n    }\n</style>\n<table border=\"1\" class=\"dataframe\">\n  <thead>\n    <tr style=\"text-align: right;\">\n      <th></th>\n      <th>s</th>\n      <th>name</th>\n      <th>description</th>\n      <th>geotype</th>\n      <th>geompred</th>\n      <th>geom</th>\n      <th>WKT</th>\n      <th>geometry</th>\n    </tr>\n  </thead>\n  <tbody>\n    <tr>\n      <th>0</th>\n      <td>&lt;https://obis.org/dataset/1057a007-c31c-48a3-a...</td>\n      <td>Census of annual pup production by Australian ...</td>\n      <td>In Australia, it is thought that up to 26 Aust...</td>\n      <td>schema:GeoShape</td>\n      <td>schema:polygon</td>\n      <td>135.96667 -43.63333,135.96667 -35.01667,150.23...</td>\n      <td>POLYGON ((-43.63333 135.96667, -35.01667 135.9...</td>\n      <td>POLYGON ((-43.633 135.967, -35.017 135.967, -3...</td>\n    </tr>\n    <tr>\n      <th>1</th>\n      <td>&lt;https://obis.org/dataset/d64477cf-491f-4de5-8...</td>\n      <td>Canary Islands - OAG (aggregated per 1-degree ...</td>\n      <td>Original provider:\\nObservatorio Ambiental Gra...</td>\n      <td>schema:GeoShape</td>\n      <td>schema:polygon</td>\n      <td>-74.5 5.5,-74.5 45.5,32.5 45.5,32.5 5.5,-74.5 5.5</td>\n      <td>POLYGON ((5.5 -74.5, 45.5 -74.5, 45.5 32.5, 5....</td>\n      <td>POLYGON ((5.500 -74.500, 45.500 -74.500, 45.50...</td>\n    </tr>\n    <tr>\n      <th>2</th>\n      <td>&lt;https://obis.org/dataset/e71d452f-615e-4654-b...</td>\n      <td>Virginia and Maryland Sea Turtle Research and ...</td>\n      <td>Original provider:\\nVirginia Aquarium and Mari...</td>\n      <td>schema:GeoShape</td>\n      <td>schema:polygon</td>\n      <td>-76.39647 36.58278,-76.39647 38.52142,-74.3984...</td>\n      <td>POLYGON ((36.58278 -76.39647, 38.52142 -76.396...</td>\n      <td>POLYGON ((36.583 -76.396, 38.521 -76.396, 38.5...</td>\n    </tr>\n    <tr>\n      <th>3</th>\n      <td>&lt;https://obis.org/dataset/49f74e10-b23b-4aca-a...</td>\n      <td>Species assemblages, biomass and regional habi...</td>\n      <td>Tow video and epibenthic sled collections were...</td>\n      <td>schema:GeoShape</td>\n      <td>schema:polygon</td>\n      <td>124.05919 -15.94544,124.05919 -15.22044,124.69...</td>\n      <td>POLYGON ((-15.94544 124.05919, -15.22044 124.0...</td>\n      <td>POLYGON ((-15.945 124.059, -15.220 124.059, -1...</td>\n    </tr>\n    <tr>\n      <th>4</th>\n      <td>&lt;https://obis.org/dataset/9a37fc55-1fc8-4c19-b...</td>\n      <td>PIROP Northwest Atlantic 1965-1992</td>\n      <td>Original provider:\\nCanadian Wildlife Service\\...</td>\n      <td>schema:GeoShape</td>\n      <td>schema:polygon</td>\n      <td>-149.5667 -25.15,-149.5667 79.7833,18.5667 79....</td>\n      <td>POLYGON ((-25.15 -149.5667, 79.7833 -149.5667,...</td>\n      <td>POLYGON ((-25.150 -149.567, 79.783 -149.567, 7...</td>\n    </tr>\n    <tr>\n      <th>5</th>\n      <td>&lt;https://obis.org/dataset/1d81a51c-66fc-46bf-a...</td>\n      <td>USWTR JAX Aerial Survey -Left side- 2011-2012</td>\n      <td>Original provider:\\nUniversity of North Caroli...</td>\n      <td>schema:GeoShape</td>\n      <td>schema:polygon</td>\n      <td>-80.690317 29.954577,-80.690317 30.574196,-79....</td>\n      <td>POLYGON ((29.954577 -80.690317, 30.574196 -80....</td>\n      <td>POLYGON ((29.955 -80.690, 30.574 -80.690, 30.5...</td>\n    </tr>\n    <tr>\n      <th>6</th>\n      <td>&lt;https://obis.org/dataset/a595a9a0-642a-473f-8...</td>\n      <td>Electronic Atlas of Ichthyoplankton on the Sco...</td>\n      <td>The EAISSNA database contains information on l...</td>\n      <td>schema:GeoShape</td>\n      <td>schema:polygon</td>\n      <td>-73.5 12.5,-73.5 56,55 56,55 12.5,-73.5 12.5</td>\n      <td>POLYGON ((12.5 -73.5, 56 -73.5, 56 55, 12.5 55...</td>\n      <td>POLYGON ((12.500 -73.500, 56.000 -73.500, 56.0...</td>\n    </tr>\n    <tr>\n      <th>7</th>\n      <td>&lt;https://obis.org/dataset/32948ff1-6f03-4877-b...</td>\n      <td>Happywhale - Bryde's whale in South Atlantic O...</td>\n      <td>Original provider:\\nHappywhale\\n\\nDataset cred...</td>\n      <td>schema:GeoShape</td>\n      <td>schema:polygon</td>\n      <td>18.291666 -34.501803,18.291666 -34.058889,19.3...</td>\n      <td>POLYGON ((-34.501803 18.291666, -34.058889 18....</td>\n      <td>POLYGON ((-34.502 18.292, -34.059 18.292, -34....</td>\n    </tr>\n    <tr>\n      <th>8</th>\n      <td>&lt;https://obis.org/dataset/0abb8cc1-8651-4213-a...</td>\n      <td>Colección de Gusanos Cinta (Nemertea) de la re...</td>\n      <td>El phylum Nemertea está formado por un pequeño...</td>\n      <td>schema:GeoShape</td>\n      <td>schema:polygon</td>\n      <td>-74.32758 10.97982,-74.32758 11.26469,-74.1913...</td>\n      <td>POLYGON ((10.97982 -74.32758, 11.26469 -74.327...</td>\n      <td>POLYGON ((10.980 -74.328, 11.265 -74.328, 11.2...</td>\n    </tr>\n    <tr>\n      <th>9</th>\n      <td>&lt;https://obis.org/dataset/937da8a1-06b0-40ad-8...</td>\n      <td>BOLD - Australian records</td>\n      <td>Barcode of Life data extract, October 2010\\n\\n...</td>\n      <td>schema:GeoShape</td>\n      <td>schema:polygon</td>\n      <td>67.083 -56.733,67.083 -9.367,168.41701 -9.367,...</td>\n      <td>POLYGON ((-56.733 67.083, -9.367 67.083, -9.36...</td>\n      <td>POLYGON ((-56.733 67.083, -9.367 67.083, -9.36...</td>\n    </tr>\n    <tr>\n      <th>10</th>\n      <td>&lt;https://obis.org/dataset/dcf57651-a262-47db-b...</td>\n      <td>Fish distribution data, Mayor Is. (Tuhua) mar...</td>\n      <td>The Mayor Island (Tuhua) marine reserve was cr...</td>\n      <td>schema:GeoShape</td>\n      <td>schema:polygon</td>\n      <td>176.23105 -37.30811,176.23105 -37.2595,176.288...</td>\n      <td>POLYGON ((-37.30811 176.23105, -37.2595 176.23...</td>\n      <td>POLYGON ((-37.308 176.231, -37.260 176.231, -3...</td>\n    </tr>\n    <tr>\n      <th>11</th>\n      <td>&lt;https://obis.org/dataset/84e8941c-61e1-40ea-b...</td>\n      <td>Benthic Polychaeta (Annelida) from the contine...</td>\n      <td>The biological material was collected on board...</td>\n      <td>schema:GeoShape</td>\n      <td>schema:polygon</td>\n      <td>-101.033833 16.7259,-101.033833 17.2353,-99.81...</td>\n      <td>POLYGON ((16.7259 -101.033833, 17.2353 -101.03...</td>\n      <td>POLYGON ((16.726 -101.034, 17.235 -101.034, 17...</td>\n    </tr>\n    <tr>\n      <th>12</th>\n      <td>&lt;https://obis.org/dataset/561441ab-128b-4be7-8...</td>\n      <td>SEAPOP NINA</td>\n      <td>SEAPOP (SEAbird POPulations) is a long-term mo...</td>\n      <td>schema:GeoShape</td>\n      <td>schema:polygon</td>\n      <td>3.4158 5.9056,3.4158 71.1947,31.1739 71.1947,3...</td>\n      <td>POLYGON ((5.9056 3.4158, 71.1947 3.4158, 71.19...</td>\n      <td>POLYGON ((5.906 3.416, 71.195 3.416, 71.195 31...</td>\n    </tr>\n    <tr>\n      <th>13</th>\n      <td>&lt;https://obis.org/dataset/2db91196-579a-4f1f-8...</td>\n      <td>Weddell Seal Sightings, Vestfold Hills, Antarc...</td>\n      <td>Ground based sightings of Weddell seals restin...</td>\n      <td>schema:GeoShape</td>\n      <td>schema:polygon</td>\n      <td>62.867 -69.7,62.867 -67.617,78.7333333333 -67....</td>\n      <td>POLYGON ((-69.7 62.867, -67.617 62.867, -67.61...</td>\n      <td>POLYGON ((-69.700 62.867, -67.617 62.867, -67....</td>\n    </tr>\n    <tr>\n      <th>14</th>\n      <td>&lt;https://obis.org/dataset/d5cd9197-6fce-46f4-a...</td>\n      <td>Cape Hatteras 04-05</td>\n      <td>Original provider:\\nDuke University Marine Lab...</td>\n      <td>schema:GeoShape</td>\n      <td>schema:polygon</td>\n      <td>-77.1 34.2832,-77.1 36.4893,-74.497 36.4893,-7...</td>\n      <td>POLYGON ((34.2832 -77.1, 36.4893 -77.1, 36.489...</td>\n      <td>POLYGON ((34.283 -77.100, 36.489 -77.100, 36.4...</td>\n    </tr>\n    <tr>\n      <th>15</th>\n      <td>&lt;https://obis.org/dataset/0b1ec148-693f-4517-b...</td>\n      <td>Censo abundancia de aves en los Parques Nacion...</td>\n      <td>699 Registros recopilados durante las jornadas...</td>\n      <td>schema:GeoShape</td>\n      <td>schema:polygon</td>\n      <td>-81.35911203 3.896896988,-81.35911203 13.37633...</td>\n      <td>POLYGON ((3.896896988 -81.35911203, 13.3763399...</td>\n      <td>POLYGON ((3.897 -81.359, 13.376 -81.359, 13.37...</td>\n    </tr>\n    <tr>\n      <th>16</th>\n      <td>&lt;https://obis.org/dataset/47ab07e9-ac50-47b1-9...</td>\n      <td>AMAPPS Northeast Aerial Cruise Spring 2017</td>\n      <td>Original provider:\\nNOAA Northeast Fisheries S...</td>\n      <td>schema:GeoShape</td>\n      <td>schema:polygon</td>\n      <td>-73.677971 38.948364,-73.677971 44.966145,-62....</td>\n      <td>POLYGON ((38.948364 -73.677971, 44.966145 -73....</td>\n      <td>POLYGON ((38.948 -73.678, 44.966 -73.678, 44.9...</td>\n    </tr>\n    <tr>\n      <th>17</th>\n      <td>&lt;https://obis.org/dataset/a7c96474-3f59-4901-8...</td>\n      <td>Squid collection from 1995/96 V4 BROKE</td>\n      <td>Squid collected as a product of fish surveys. ...</td>\n      <td>schema:GeoShape</td>\n      <td>schema:polygon</td>\n      <td>79.99016667 -65.48433333,79.99016667 -62.57283...</td>\n      <td>POLYGON ((-65.48433333 79.99016667, -62.572833...</td>\n      <td>POLYGON ((-65.484 79.990, -62.573 79.990, -62....</td>\n    </tr>\n    <tr>\n      <th>18</th>\n      <td>&lt;https://obis.org/dataset/5f9b72c9-8d4c-450d-a...</td>\n      <td>Kimberley Islands Biodiversity Survey (Birds)</td>\n      <td>Dataset collected as part of the Kimberley Isl...</td>\n      <td>schema:GeoShape</td>\n      <td>schema:polygon</td>\n      <td>123.179 -16.6231,123.179 -13.8712,128.30099 -1...</td>\n      <td>POLYGON ((-16.6231 123.179, -13.8712 123.179, ...</td>\n      <td>POLYGON ((-16.623 123.179, -13.871 123.179, -1...</td>\n    </tr>\n    <tr>\n      <th>19</th>\n      <td>&lt;https://obis.org/dataset/c7f56175-96a0-4e82-b...</td>\n      <td>Mortensen Th. And Steuer Ad. 1937. The fishery...</td>\n      <td>This is a historical dataset that was publishe...</td>\n      <td>schema:GeoShape</td>\n      <td>schema:polygon</td>\n      <td>29.659635 31.123853,29.659635 31.459032,30.344...</td>\n      <td>POLYGON ((31.123853 29.659635, 31.459032 29.65...</td>\n      <td>POLYGON ((31.124 29.660, 31.459 29.660, 31.459...</td>\n    </tr>\n  </tbody>\n</table>\n</div>"
     },
     "execution_count": 49,
     "metadata": {},
     "output_type": "execute_result"
    }
   ],
   "source": [
    "gdf.head(20)"
   ],
   "metadata": {
    "collapsed": false,
    "ExecuteTime": {
     "end_time": "2023-06-20T21:11:18.042775462Z",
     "start_time": "2023-06-20T21:11:18.031978490Z"
    }
   }
  },
  {
   "cell_type": "code",
   "execution_count": 50,
   "outputs": [
    {
     "data": {
      "text/plain": "<AxesSubplot: >"
     },
     "execution_count": 50,
     "metadata": {},
     "output_type": "execute_result"
    },
    {
     "data": {
      "text/plain": "<Figure size 1080x1080 with 1 Axes>",
      "image/png": "[encoded data removed]"
     },
     "metadata": {
      "needs_background": "light"
     },
     "output_type": "display_data"
    }
   ],
   "source": [
    "ax = gdf.plot(color='white', edgecolor='black', figsize=(15,15))\n",
    "gdf.plot(ax=ax, color='red') # We can now plot our ``GeoDataFrame``."
   ],
   "metadata": {
    "collapsed": false,
    "ExecuteTime": {
     "end_time": "2023-06-20T21:12:14.174274766Z",
     "start_time": "2023-06-20T21:12:11.542818968Z"
    }
   }
  },
  {
   "cell_type": "code",
   "execution_count": 11,
   "outputs": [],
   "source": [
    "pdf.to_parquet('test_obis.parquet')"
   ],
   "metadata": {
    "collapsed": false,
    "ExecuteTime": {
     "end_time": "2023-06-20T20:37:53.421239984Z",
     "start_time": "2023-06-20T20:37:53.398082440Z"
    }
   }
  },
  {
   "cell_type": "code",
   "execution_count": 51,
   "outputs": [],
   "source": [
    "gdf.to_file(\"test_obis.geojson\", driver='GeoJSON')"
   ],
   "metadata": {
    "collapsed": false,
    "ExecuteTime": {
     "end_time": "2023-06-20T21:13:43.314965034Z",
     "start_time": "2023-06-20T21:13:42.647417071Z"
    }
   }
  },
  {
   "cell_type": "markdown",
   "metadata": {},
   "source": [
    "### Save to JSON Lines format\n"
   ]
  },
  {
   "cell_type": "code",
   "execution_count": 14,
   "metadata": {
    "tags": [],
    "ExecuteTime": {
     "end_time": "2023-06-14T01:23:57.277554623Z",
     "start_time": "2023-06-14T01:23:57.267043499Z"
    }
   },
   "outputs": [],
   "source": [
    "# Convert data frame to JSON lines format\n",
    "json_lines = pdf.to_json(orient='records', lines=True)\n",
    "\n",
    "# Write JSON lines to a file\n",
    "with open(\"pdf.jsonl\", \"w\") as f:\n",
    "    f.write(json_lines)"
   ]
  },
  {
   "cell_type": "markdown",
   "source": [
    "## Dashboard product\n",
    "\n",
    "In this section we will loop over the files, load them and query and then save to parquet\n"
   ],
   "metadata": {
    "collapsed": false
   }
  },
  {
   "cell_type": "code",
   "execution_count": 23,
   "outputs": [
    {
     "name": "stdout",
     "output_type": "stream",
     "text": [
      "Loading http://ossapi.oceaninfohub.org/public/graphs/summonedafricaioc_v1_release.nq\n",
      "3193\n",
      "Loading http://ossapi.oceaninfohub.org/public/graphs/summonedaquadocs_v1_release.nq\n",
      "1102997\n",
      "Loading http://ossapi.oceaninfohub.org/public/graphs/summonedcioos_v1_release.nq\n",
      "145779\n",
      "Loading http://ossapi.oceaninfohub.org/public/graphs/summonededmerp_v1_release.nq\n",
      "73543\n",
      "Loading http://ossapi.oceaninfohub.org/public/graphs/summonededmo_v1_release.nq\n",
      "101850\n",
      "Loading http://ossapi.oceaninfohub.org/public/graphs/summonedemodnet_v1_release.nq\n",
      "1245\n",
      "Loading http://ossapi.oceaninfohub.org/public/graphs/summonedinanodc_v1_release.nq\n",
      "499\n",
      "Loading http://ossapi.oceaninfohub.org/public/graphs/summonedinvemardocuments_v1_release.nq\n",
      "133485\n",
      "Loading http://ossapi.oceaninfohub.org/public/graphs/summonedinvemarexperts_v1_release.nq\n",
      "14638\n",
      "Loading http://ossapi.oceaninfohub.org/public/graphs/summonedinvemarinstitutions_v1_release.nq\n",
      "3221\n",
      "Loading http://ossapi.oceaninfohub.org/public/graphs/summonedinvemartraining_v1_release.nq\n",
      "6221\n",
      "Loading http://ossapi.oceaninfohub.org/public/graphs/summonedinvemarvessels_v1_release.nq\n",
      "926\n",
      "Loading http://ossapi.oceaninfohub.org/public/graphs/summonedmarinetraining_v1_release.nq\n",
      "11160\n",
      "Loading http://ossapi.oceaninfohub.org/public/graphs/summonedobis_v1_release.nq\n",
      "161187\n",
      "Loading http://ossapi.oceaninfohub.org/public/graphs/summonedobps_v1_release.nq\n",
      "56795\n",
      "Loading http://ossapi.oceaninfohub.org/public/graphs/summonedoceanexperts_v1_release.nq\n",
      "901711\n",
      "Loading http://ossapi.oceaninfohub.org/public/graphs/summonedpdh_v1_release.nq\n",
      "369702\n"
     ]
    }
   ],
   "source": [
    "for u in urls:\n",
    "    print(\"Loading {}\".format(u))\n",
    "    g = ConjunctiveGraph()\n",
    "    g.parse(u, format=\"nquads\")\n",
    "    print(len(g))\n",
    "    namespaces = {\n",
    "        \"shacl\":   \"http://www.w3.org/ns/shacl#\" ,\n",
    "        \"schema\":   \"https://schema.org/\" ,\n",
    "        \"schemawrong\": \"http://schema.org/\",\n",
    "        \"geo\":      \"http://www.opengis.net/ont/geosparql#\",\n",
    "    }\n",
    "\n",
    "    # get the name of the provider from the release graph file name\n",
    "    result = re.search('(?:summoned)(.*)(?:_v1_)', u)\n",
    "    extracted_text = result.group(1)\n",
    "\n",
    "    # import the file\n",
    "    kg = kglab.KnowledgeGraph(name = \"OIH test\", base_uri = \"https://oceaninfohub.org/id/\", namespaces = namespaces, use_gpus=True, import_graph = g)\n",
    "\n",
    "    # run the query\n",
    "    pdf = kg.query_as_df(sparqlcore)\n",
    "\n",
    "    # add a column with the provider name in it\n",
    "    pdf['provder'] = extracted_text\n",
    "\n",
    "    # save to parquet\n",
    "    pdf.to_parquet('./graphparquet/{}.parquet'.format(extracted_text))\n",
    "\n"
   ],
   "metadata": {
    "collapsed": false,
    "ExecuteTime": {
     "end_time": "2023-06-14T01:50:53.840808836Z",
     "start_time": "2023-06-14T01:45:00.995075128Z"
    }
   }
  },
  {
   "cell_type": "code",
   "execution_count": 27,
   "outputs": [],
   "source": [
    "import pandas as pd\n",
    "\n",
    "directory = './graphparquet'\n",
    "\n",
    "# This will list all files in the directory that end with .parquet.\n",
    "files = [f for f in os.listdir(directory) if f.endswith('.parquet')]\n",
    "\n",
    "# Empty DataFrame to which we'll append each individual file.\n",
    "combined_df = pd.DataFrame()\n",
    "\n",
    "for file in files:\n",
    "    # Complete file path.\n",
    "    file_path = os.path.join(directory, file)\n",
    "\n",
    "    # Read the parquet file.\n",
    "    df = pd.read_parquet(file_path)\n",
    "\n",
    "    # Append it to the combined DataFrame.\n",
    "    combined_df = combined_df.append(df)\n",
    "\n",
    "# If you want to write this combined DataFrame to a new Parquet file:\n",
    "combined_df.to_parquet('combined.parquet')"
   ],
   "metadata": {
    "collapsed": false,
    "ExecuteTime": {
     "end_time": "2023-06-14T01:54:03.327486541Z",
     "start_time": "2023-06-14T01:54:01.168586751Z"
    }
   }
  },
  {
   "cell_type": "markdown",
   "metadata": {},
   "source": [
    "## Full RDF graph build\n",
    "\n",
    "The following will load all the graphs of the providers in the OIH-Graph."
   ]
  },
  {
   "cell_type": "code",
   "execution_count": 7,
   "metadata": {
    "tags": [],
    "ExecuteTime": {
     "end_time": "2023-06-14T12:05:31.511655575Z",
     "start_time": "2023-06-14T12:03:11.896151100Z"
    }
   },
   "outputs": [
    {
     "name": "stdout",
     "output_type": "stream",
     "text": [
      "Loading http://ossapi.oceaninfohub.org/public/graphs/summonedafricaioc_v1_release.nq\n",
      "Loading http://ossapi.oceaninfohub.org/public/graphs/summonedaquadocs_v1_release.nq\n",
      "Loading http://ossapi.oceaninfohub.org/public/graphs/summonedcioos_v1_release.nq\n",
      "Loading http://ossapi.oceaninfohub.org/public/graphs/summonededmerp_v1_release.nq\n",
      "Loading http://ossapi.oceaninfohub.org/public/graphs/summonededmo_v1_release.nq\n",
      "Loading http://ossapi.oceaninfohub.org/public/graphs/summonedemodnet_v1_release.nq\n",
      "Loading http://ossapi.oceaninfohub.org/public/graphs/summonedinanodc_v1_release.nq\n",
      "Loading http://ossapi.oceaninfohub.org/public/graphs/summonedinvemardocuments_v1_release.nq\n",
      "Loading http://ossapi.oceaninfohub.org/public/graphs/summonedinvemarexperts_v1_release.nq\n",
      "Loading http://ossapi.oceaninfohub.org/public/graphs/summonedinvemarinstitutions_v1_release.nq\n",
      "Loading http://ossapi.oceaninfohub.org/public/graphs/summonedinvemartraining_v1_release.nq\n",
      "Loading http://ossapi.oceaninfohub.org/public/graphs/summonedinvemarvessels_v1_release.nq\n",
      "Loading http://ossapi.oceaninfohub.org/public/graphs/summonedmarinetraining_v1_release.nq\n",
      "Loading http://ossapi.oceaninfohub.org/public/graphs/summonedobis_v1_release.nq\n",
      "Loading http://ossapi.oceaninfohub.org/public/graphs/summonedobps_v1_release.nq\n",
      "Loading http://ossapi.oceaninfohub.org/public/graphs/summonedoceanexperts_v1_release.nq\n",
      "Loading http://ossapi.oceaninfohub.org/public/graphs/summonedpdh_v1_release.nq\n",
      "3086320\n"
     ]
    }
   ],
   "source": [
    "bg = ConjunctiveGraph()\n",
    "\n",
    "for u in urls:\n",
    "    print(\"Loading {}\".format(u))\n",
    "    bg.parse(u, format=\"nquads\")\n",
    "\n",
    "print(len(bg))"
   ]
  },
  {
   "cell_type": "code",
   "execution_count": 8,
   "metadata": {
    "tags": [],
    "ExecuteTime": {
     "end_time": "2023-06-14T12:08:20.114209800Z",
     "start_time": "2023-06-14T12:08:20.061985476Z"
    }
   },
   "outputs": [],
   "source": [
    "namespaces = {\n",
    "    \"shacl\":   \"http://www.w3.org/ns/shacl#\" ,\n",
    "    \"schema\":   \"https://schema.org/\" ,\n",
    "    \"schemawrong\": \"http://schema.org/\",\n",
    "    \"geo\":      \"http://www.opengis.net/ont/geosparql#\",\n",
    "}\n",
    "\n",
    "bkg = kglab.KnowledgeGraph(name = \"OIH test\", base_uri = \"https://oceaninfohub.org/id/\", use_gpus=True, namespaces = namespaces, import_graph = bg)"
   ]
  },
  {
   "cell_type": "code",
   "execution_count": 9,
   "metadata": {
    "tags": [],
    "ExecuteTime": {
     "end_time": "2023-06-14T12:08:36.792544407Z",
     "start_time": "2023-06-14T12:08:21.318010083Z"
    }
   },
   "outputs": [],
   "source": [
    "bkg.save_parquet(\"OIHGraph_rdf.parquet\")\n"
   ]
  },
  {
   "cell_type": "code",
   "execution_count": null,
   "outputs": [],
   "source": [],
   "metadata": {
    "collapsed": false
   }
  }
 ],
 "metadata": {
  "kernelspec": {
   "display_name": "Python 3 (ipykernel)",
   "language": "python",
   "name": "python3"
  },
  "language_info": {
   "codemirror_mode": {
    "name": "ipython",
    "version": 3
   },
   "file_extension": ".py",
   "mimetype": "text/x-python",
   "name": "python",
   "nbconvert_exporter": "python",
   "pygments_lexer": "ipython3",
   "version": "3.10.8"
  }
 },
 "nbformat": 4,
 "nbformat_minor": 4
}
