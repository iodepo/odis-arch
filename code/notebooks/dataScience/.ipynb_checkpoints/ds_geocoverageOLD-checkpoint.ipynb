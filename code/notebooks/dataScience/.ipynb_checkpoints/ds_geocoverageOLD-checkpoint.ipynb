{
 "cells": [
  {
   "cell_type": "markdown",
   "metadata": {},
   "source": [
    "# OIH Data Science Notebook:  Geocoverage inspection on combined parquet\n",
    "\n",
    "This notebook demonstrates query approach for the pre-processed resources from the OIH Graph\n",
    "\n",
    "Notes:\n",
    "\n",
    "Need to download the model with _python -m spacy download en_core_web_lg_\n",
    "\n",
    "you can also downloiad with\n",
    "\n",
    "```\n",
    "pip install -q\n",
    "https://s3-us-west-2.amazonaws.com/ai2-s2-scispacy/releases/v0.5.1/en_core_sci_lg-0.5.1.tar.gz\n",
    "```"
   ]
  },
  {
   "cell_type": "code",
   "execution_count": 11,
   "metadata": {
    "ExecuteTime": {
     "end_time": "2023-07-12T18:23:23.931427515Z",
     "start_time": "2023-07-12T18:23:18.347112341Z"
    },
    "collapsed": false,
    "jupyter": {
     "outputs_hidden": false
    },
    "tags": []
   },
   "outputs": [],
   "source": [
    "import duckdb\n",
    "\n",
    "import warnings\n",
    "warnings.simplefilter(action='ignore', category=FutureWarning)  ## remove pandas future warning\n",
    "\n",
    "import scispacy\n",
    "import spacy\n",
    "#import en_core_sci_sm\n",
    "from spacy import displacy\n",
    "import getpass\n",
    "import pandas as pd\n",
    "import urllib.request, json\n",
    "import dask, boto3\n",
    "import s3fs"
   ]
  },
  {
   "cell_type": "code",
   "execution_count": 12,
   "metadata": {
    "ExecuteTime": {
     "end_time": "2023-07-12T17:32:23.091028517Z",
     "start_time": "2023-07-12T17:30:29.148359332Z"
    },
    "collapsed": false,
    "jupyter": {
     "outputs_hidden": false
    },
    "tags": []
   },
   "outputs": [],
   "source": [
    "# Install SpaCY Web Large\n",
    "# !pip install -q https://s3-us-west-2.amazonaws.com/ai2-s2-scispacy/releases/v0.5.1/en_core_sci_lg-0.5.1.tar.gz\n"
   ]
  },
  {
   "cell_type": "markdown",
   "metadata": {},
   "source": [
    "## Pre-processed OIH Graph"
   ]
  },
  {
   "cell_type": "code",
   "execution_count": 13,
   "metadata": {
    "ExecuteTime": {
     "end_time": "2023-07-12T18:23:28.481922605Z",
     "start_time": "2023-07-12T18:23:26.835722527Z"
    },
    "tags": []
   },
   "outputs": [
    {
     "data": {
      "text/plain": [
       "<duckdb.DuckDBPyConnection at 0x7f44806689f0>"
      ]
     },
     "execution_count": 13,
     "metadata": {},
     "output_type": "execute_result"
    }
   ],
   "source": [
    "## load the combined graph\n",
    "url = \"http://ossapi.oceaninfohub.org/public/combined.parquet\"\n",
    "duckdb.install_extension(\"httpfs\")\n",
    "\n",
    "# Instantiate the DuckDB connection\n",
    "con = duckdb.connect()\n",
    "# con.execute(\"CREATE TABLE my_table AS SELECT * FROM read_parquet('{}')\".format(url))  # load from url\n",
    "con.execute(\"CREATE TABLE my_table AS SELECT * FROM read_parquet('./inputs/combined.parquet')\") # load from local parquet\n"
   ]
  },
  {
   "cell_type": "code",
   "execution_count": 14,
   "metadata": {
    "ExecuteTime": {
     "end_time": "2023-07-12T18:23:28.539125064Z",
     "start_time": "2023-07-12T18:23:28.477042574Z"
    },
    "collapsed": false,
    "jupyter": {
     "outputs_hidden": false
    },
    "tags": []
   },
   "outputs": [
    {
     "name": "stdout",
     "output_type": "stream",
     "text": [
      "                provder                      type   count\n",
      "0          oceanexperts              schema:Event   20606\n",
      "1          oceanexperts             schema:Course     491\n",
      "2          oceanexperts     schema:CourseInstance     491\n",
      "3                   pdh  schemawrong:Organization    3562\n",
      "4                   pdh       schemawrong:Dataset   32807\n",
      "5                   NaN            schmea:Dataset   20101\n",
      "6             africaioc    schema:ResearchProject     176\n",
      "7             africaioc       schema:Organization      52\n",
      "8             africaioc            schema:Vehicle      30\n",
      "9             africaioc              schema:Event      59\n",
      "10            africaioc       schema:CreativeWork       1\n",
      "11            africaioc            schema:Dataset       1\n",
      "12            africaioc             schema:Person       1\n",
      "13             aquadocs       schema:CreativeWork  261364\n",
      "14     invemardocuments             schema:Person   13351\n",
      "15     invemardocuments       schema:CreativeWork   18647\n",
      "16       invemarexperts             schema:Person    1172\n",
      "17  invemarinstitutions       schema:Organization     269\n",
      "18      invemartraining             schema:Course     452\n",
      "19      invemartraining       schema:Organization     452\n",
      "20      invemartraining       schema:CreativeWork       1\n",
      "21       invemarvessels            schema:Vehicle      85\n",
      "22       marinetraining             schema:Course     457\n",
      "23       marinetraining     schema:CourseInstance     520\n",
      "24       marinetraining       schema:Organization     914\n",
      "25                 obis       schema:Organization     689\n",
      "26                 obis            schema:Dataset   20120\n",
      "27                 obps       schema:Organization    1352\n",
      "28                 obps             schema:Person    7711\n",
      "29                 obps       schema:CreativeWork    8414\n",
      "30         oceanexperts             schema:Person   38555\n",
      "31         oceanexperts       schema:Organization    7304\n",
      "32             aquadocs             schema:Person  105494\n",
      "33             aquadocs       schema:Organization   15198\n",
      "34                cioos  schemawrong:Organization    2141\n",
      "35                cioos       schemawrong:Dataset   74251\n",
      "36                cioos        schemawrong:Person    1372\n",
      "37               edmerp       schema:Organization   13509\n",
      "38               edmerp    schema:ResearchProject    3432\n",
      "39                 edmo       schema:Organization    4757\n",
      "40              emodnet       schemawrong:Dataset    1187\n",
      "41              inanodc            schema:Dataset     235\n",
      "42     invemardocuments       schema:Organization    3623\n"
     ]
    }
   ],
   "source": [
    "\n",
    "# Now you can execute SQL queries on the Parquet file as if it was a regular table\n",
    "# r = con.execute(\"SELECT DISTINCT provder FROM my_table\").fetchdf()\n",
    "# r = con.execute(\" SELECT DISTINCT provder, type, ANY_VALUE(s),  COUNT(*) AS count FROM my_table GROUP BY provder, type  order by count desc\").fetchdf()\n",
    "r = con.execute(\" SELECT DISTINCT provder, type, COUNT(*) AS count FROM my_table GROUP BY provder, type\").fetchdf()\n",
    "\n",
    "print(r)\n"
   ]
  },
  {
   "cell_type": "code",
   "execution_count": 15,
   "metadata": {
    "ExecuteTime": {
     "end_time": "2023-07-12T18:23:29.722239456Z",
     "start_time": "2023-07-12T18:23:29.709208967Z"
    },
    "collapsed": false,
    "jupyter": {
     "outputs_hidden": false
    },
    "tags": []
   },
   "outputs": [],
   "source": [
    "# test data\n",
    "\n",
    "text = \"Estonian Marine Institute is one of many Tartu University&rsquo;s contemporary scientific institutions. The main purpose of Estonian Marine Institute is marine research and promotion of the given sphere in Estonia and the Baltic region. This institute is one of the biggest organizations in Estonia carrying out marine exploration contributing research in several marine study fields. Our research ranges from water physics to biology, from microscopic scale to ecosystems having unique expert opinion and qualification in most research fields. Estonian Marine Institute is an educational basis for the marine biology-oriented postgraduate students and is actively improving the advanced and extensive higher marine education in Estonia. The active progress of marine sciences in Estonia in the last decades has enhanced the awarness of Estonian science around the Baltic Sea countries and also in Europe. Estonian Marine Institute has very international nature and thus the research is conducted in high level and in close co-operation with other specialist around the world. The success of the Estonian marine scientists at the international level refers to their high-rated scientific publications and increase in the number of international projects. On the other hand a significant part of the research is aimed at finding solutions to the local scientific problems important for Estonia&rsquo;s well-being. We hope our website provides you easy access to all of the information you seek about the Estonian Marine Institute and useful links to other related themes.\""
   ]
  },
  {
   "cell_type": "code",
   "execution_count": 16,
   "metadata": {
    "ExecuteTime": {
     "end_time": "2023-07-12T18:23:32.735731228Z",
     "start_time": "2023-07-12T18:23:30.399103765Z"
    },
    "collapsed": false,
    "jupyter": {
     "outputs_hidden": false
    },
    "tags": []
   },
   "outputs": [
    {
     "data": {
      "text/html": [
       "<span class=\"tex2jax_ignore\"><div class=\"entities\" style=\"line-height: 2.5; direction: ltr\">\n",
       "<mark class=\"entity\" style=\"background: #7aecec; padding: 0.45em 0.6em; margin: 0 0.25em; line-height: 1; border-radius: 0.35em;\">\n",
       "    Estonian Marine Institute\n",
       "    <span style=\"font-size: 0.8em; font-weight: bold; line-height: 1; border-radius: 0.35em; vertical-align: middle; margin-left: 0.5rem\">ORG</span>\n",
       "</mark>\n",
       " is \n",
       "<mark class=\"entity\" style=\"background: #e4e7d2; padding: 0.45em 0.6em; margin: 0 0.25em; line-height: 1; border-radius: 0.35em;\">\n",
       "    one\n",
       "    <span style=\"font-size: 0.8em; font-weight: bold; line-height: 1; border-radius: 0.35em; vertical-align: middle; margin-left: 0.5rem\">CARDINAL</span>\n",
       "</mark>\n",
       " of many \n",
       "<mark class=\"entity\" style=\"background: #7aecec; padding: 0.45em 0.6em; margin: 0 0.25em; line-height: 1; border-radius: 0.35em;\">\n",
       "    Tartu University&amp;rsquo;s\n",
       "    <span style=\"font-size: 0.8em; font-weight: bold; line-height: 1; border-radius: 0.35em; vertical-align: middle; margin-left: 0.5rem\">ORG</span>\n",
       "</mark>\n",
       " contemporary scientific institutions. The main purpose of \n",
       "<mark class=\"entity\" style=\"background: #7aecec; padding: 0.45em 0.6em; margin: 0 0.25em; line-height: 1; border-radius: 0.35em;\">\n",
       "    Estonian Marine Institute\n",
       "    <span style=\"font-size: 0.8em; font-weight: bold; line-height: 1; border-radius: 0.35em; vertical-align: middle; margin-left: 0.5rem\">ORG</span>\n",
       "</mark>\n",
       " is marine research and promotion of the given sphere in \n",
       "<mark class=\"entity\" style=\"background: #feca74; padding: 0.45em 0.6em; margin: 0 0.25em; line-height: 1; border-radius: 0.35em;\">\n",
       "    Estonia\n",
       "    <span style=\"font-size: 0.8em; font-weight: bold; line-height: 1; border-radius: 0.35em; vertical-align: middle; margin-left: 0.5rem\">GPE</span>\n",
       "</mark>\n",
       " and the \n",
       "<mark class=\"entity\" style=\"background: #c887fb; padding: 0.45em 0.6em; margin: 0 0.25em; line-height: 1; border-radius: 0.35em;\">\n",
       "    Baltic\n",
       "    <span style=\"font-size: 0.8em; font-weight: bold; line-height: 1; border-radius: 0.35em; vertical-align: middle; margin-left: 0.5rem\">NORP</span>\n",
       "</mark>\n",
       " region. This institute is one of the biggest organizations in \n",
       "<mark class=\"entity\" style=\"background: #feca74; padding: 0.45em 0.6em; margin: 0 0.25em; line-height: 1; border-radius: 0.35em;\">\n",
       "    Estonia\n",
       "    <span style=\"font-size: 0.8em; font-weight: bold; line-height: 1; border-radius: 0.35em; vertical-align: middle; margin-left: 0.5rem\">GPE</span>\n",
       "</mark>\n",
       " carrying out marine exploration contributing research in several marine study fields. Our research ranges from water physics to biology, from microscopic scale to ecosystems having unique expert opinion and qualification in most research fields. \n",
       "<mark class=\"entity\" style=\"background: #7aecec; padding: 0.45em 0.6em; margin: 0 0.25em; line-height: 1; border-radius: 0.35em;\">\n",
       "    Estonian Marine Institute\n",
       "    <span style=\"font-size: 0.8em; font-weight: bold; line-height: 1; border-radius: 0.35em; vertical-align: middle; margin-left: 0.5rem\">ORG</span>\n",
       "</mark>\n",
       " is an educational basis for the marine biology-oriented postgraduate students and is actively improving the advanced and extensive higher marine education in \n",
       "<mark class=\"entity\" style=\"background: #feca74; padding: 0.45em 0.6em; margin: 0 0.25em; line-height: 1; border-radius: 0.35em;\">\n",
       "    Estonia\n",
       "    <span style=\"font-size: 0.8em; font-weight: bold; line-height: 1; border-radius: 0.35em; vertical-align: middle; margin-left: 0.5rem\">GPE</span>\n",
       "</mark>\n",
       ". The active progress of marine sciences in \n",
       "<mark class=\"entity\" style=\"background: #feca74; padding: 0.45em 0.6em; margin: 0 0.25em; line-height: 1; border-radius: 0.35em;\">\n",
       "    Estonia\n",
       "    <span style=\"font-size: 0.8em; font-weight: bold; line-height: 1; border-radius: 0.35em; vertical-align: middle; margin-left: 0.5rem\">GPE</span>\n",
       "</mark>\n",
       " in \n",
       "<mark class=\"entity\" style=\"background: #bfe1d9; padding: 0.45em 0.6em; margin: 0 0.25em; line-height: 1; border-radius: 0.35em;\">\n",
       "    the last decades\n",
       "    <span style=\"font-size: 0.8em; font-weight: bold; line-height: 1; border-radius: 0.35em; vertical-align: middle; margin-left: 0.5rem\">DATE</span>\n",
       "</mark>\n",
       " has enhanced the awarness of \n",
       "<mark class=\"entity\" style=\"background: #c887fb; padding: 0.45em 0.6em; margin: 0 0.25em; line-height: 1; border-radius: 0.35em;\">\n",
       "    Estonian\n",
       "    <span style=\"font-size: 0.8em; font-weight: bold; line-height: 1; border-radius: 0.35em; vertical-align: middle; margin-left: 0.5rem\">NORP</span>\n",
       "</mark>\n",
       " science around the \n",
       "<mark class=\"entity\" style=\"background: #ff9561; padding: 0.45em 0.6em; margin: 0 0.25em; line-height: 1; border-radius: 0.35em;\">\n",
       "    Baltic Sea\n",
       "    <span style=\"font-size: 0.8em; font-weight: bold; line-height: 1; border-radius: 0.35em; vertical-align: middle; margin-left: 0.5rem\">LOC</span>\n",
       "</mark>\n",
       " countries and also in \n",
       "<mark class=\"entity\" style=\"background: #ff9561; padding: 0.45em 0.6em; margin: 0 0.25em; line-height: 1; border-radius: 0.35em;\">\n",
       "    Europe\n",
       "    <span style=\"font-size: 0.8em; font-weight: bold; line-height: 1; border-radius: 0.35em; vertical-align: middle; margin-left: 0.5rem\">LOC</span>\n",
       "</mark>\n",
       ". \n",
       "<mark class=\"entity\" style=\"background: #7aecec; padding: 0.45em 0.6em; margin: 0 0.25em; line-height: 1; border-radius: 0.35em;\">\n",
       "    Estonian Marine Institute\n",
       "    <span style=\"font-size: 0.8em; font-weight: bold; line-height: 1; border-radius: 0.35em; vertical-align: middle; margin-left: 0.5rem\">ORG</span>\n",
       "</mark>\n",
       " has very international nature and thus the research is conducted in high level and in close co-operation with other specialist around the world. The success of the \n",
       "<mark class=\"entity\" style=\"background: #c887fb; padding: 0.45em 0.6em; margin: 0 0.25em; line-height: 1; border-radius: 0.35em;\">\n",
       "    Estonian\n",
       "    <span style=\"font-size: 0.8em; font-weight: bold; line-height: 1; border-radius: 0.35em; vertical-align: middle; margin-left: 0.5rem\">NORP</span>\n",
       "</mark>\n",
       " marine scientists at the international level refers to their high-rated scientific publications and increase in the number of international projects. On the other hand a significant part of the research is aimed at finding solutions to the local scientific problems important for Estonia&amp;rsquo;s well-being. We hope our website provides you easy access to all of the information you seek about \n",
       "<mark class=\"entity\" style=\"background: #7aecec; padding: 0.45em 0.6em; margin: 0 0.25em; line-height: 1; border-radius: 0.35em;\">\n",
       "    the Estonian Marine Institute\n",
       "    <span style=\"font-size: 0.8em; font-weight: bold; line-height: 1; border-radius: 0.35em; vertical-align: middle; margin-left: 0.5rem\">ORG</span>\n",
       "</mark>\n",
       " and useful links to other related themes.</div></span>"
      ],
      "text/plain": [
       "<IPython.core.display.HTML object>"
      ]
     },
     "metadata": {},
     "output_type": "display_data"
    }
   ],
   "source": [
    "from spacy import displacy\n",
    "import spacy\n",
    "import en_core_web_lg  # intersting need for import here...\n",
    "\n",
    "nlp = en_core_web_lg.load()\n",
    "# nlp = spacy.load(\"en_core_web_trf\")\n",
    "# doc2 = nlp(''.join(kwtest)) # nlp(text)\n",
    "doc2 = nlp(text) # nlp(text)\n",
    "\n",
    "displacy_image = displacy.render(doc2, jupyter = True, style = 'ent')"
   ]
  },
  {
   "cell_type": "markdown",
   "metadata": {},
   "source": [
    "### Description Entities\n",
    "\n",
    "Now lets loop on all of the data graphs and pull the descriptions.  We will then use spacy to identify entities and hold these for later use.\n",
    "\n",
    "NORP == Nationalities or religious or political groups\n",
    "GPE == spacy.explain(\"GPE\")"
   ]
  },
  {
   "cell_type": "code",
   "execution_count": 17,
   "metadata": {
    "ExecuteTime": {
     "end_time": "2023-07-12T18:23:37.726457838Z",
     "start_time": "2023-07-12T18:23:36.528012546Z"
    },
    "collapsed": false,
    "jupyter": {
     "outputs_hidden": false
    },
    "tags": []
   },
   "outputs": [],
   "source": [
    "# load the parquet into pandas\n",
    "oihdf = pd.read_parquet(\"./inputs/combined.parquet\")"
   ]
  },
  {
   "cell_type": "code",
   "execution_count": 18,
   "metadata": {
    "ExecuteTime": {
     "end_time": "2023-07-12T18:27:27.452054670Z",
     "start_time": "2023-07-12T18:27:27.133303535Z"
    },
    "collapsed": false,
    "jupyter": {
     "outputs_hidden": false
    },
    "tags": []
   },
   "outputs": [
    {
     "name": "stdout",
     "output_type": "stream",
     "text": [
      "<class 'pandas.core.frame.DataFrame'>\n",
      "Int64Index: 685406 entries, 0 to 20100\n",
      "Data columns (total 7 columns):\n",
      " #   Column    Non-Null Count   Dtype \n",
      "---  ------    --------------   ----- \n",
      " 0   s         685406 non-null  object\n",
      " 1   type      685406 non-null  object\n",
      " 2   name      652304 non-null  object\n",
      " 3   keywords  427200 non-null  object\n",
      " 4   url       520435 non-null  object\n",
      " 5   desc      465528 non-null  object\n",
      " 6   provder   665305 non-null  object\n",
      "dtypes: object(7)\n",
      "memory usage: 41.8+ MB\n"
     ]
    }
   ],
   "source": [
    "oihdf.info()\n"
   ]
  },
  {
   "cell_type": "code",
   "execution_count": 19,
   "metadata": {
    "ExecuteTime": {
     "end_time": "2023-07-12T18:23:39.560336252Z",
     "start_time": "2023-07-12T18:23:39.549579245Z"
    },
    "collapsed": false,
    "jupyter": {
     "outputs_hidden": false
    },
    "tags": []
   },
   "outputs": [
    {
     "data": {
      "text/html": [
       "<div>\n",
       "<style scoped>\n",
       "    .dataframe tbody tr th:only-of-type {\n",
       "        vertical-align: middle;\n",
       "    }\n",
       "\n",
       "    .dataframe tbody tr th {\n",
       "        vertical-align: top;\n",
       "    }\n",
       "\n",
       "    .dataframe thead th {\n",
       "        text-align: right;\n",
       "    }\n",
       "</style>\n",
       "<table border=\"1\" class=\"dataframe\">\n",
       "  <thead>\n",
       "    <tr style=\"text-align: right;\">\n",
       "      <th></th>\n",
       "      <th>s</th>\n",
       "      <th>type</th>\n",
       "      <th>name</th>\n",
       "      <th>keywords</th>\n",
       "      <th>url</th>\n",
       "      <th>desc</th>\n",
       "      <th>provder</th>\n",
       "    </tr>\n",
       "  </thead>\n",
       "  <tbody>\n",
       "    <tr>\n",
       "      <th>0</th>\n",
       "      <td>&lt;https://ioc-africa.org/dbs/jsonld/oceanProjec...</td>\n",
       "      <td>schema:ResearchProject</td>\n",
       "      <td>Integrated Natural Resource Management Program...</td>\n",
       "      <td></td>\n",
       "      <td>None</td>\n",
       "      <td>None</td>\n",
       "      <td>africaioc</td>\n",
       "    </tr>\n",
       "    <tr>\n",
       "      <th>1</th>\n",
       "      <td>&lt;https://ioc-africa.org/dbs/jsonld/previousExp...</td>\n",
       "      <td>schema:ResearchProject</td>\n",
       "      <td>1 cruise</td>\n",
       "      <td>None</td>\n",
       "      <td>None</td>\n",
       "      <td>None</td>\n",
       "      <td>africaioc</td>\n",
       "    </tr>\n",
       "    <tr>\n",
       "      <th>2</th>\n",
       "      <td>&lt;https://ioc-africa.org/dbs/jsonld/previousExp...</td>\n",
       "      <td>schema:ResearchProject</td>\n",
       "      <td>TR SALOUI Cruise</td>\n",
       "      <td>None</td>\n",
       "      <td>None</td>\n",
       "      <td>None</td>\n",
       "      <td>africaioc</td>\n",
       "    </tr>\n",
       "    <tr>\n",
       "      <th>3</th>\n",
       "      <td>&lt;https://ioc-africa.org/dbs/jsonld/oceanProjec...</td>\n",
       "      <td>schema:ResearchProject</td>\n",
       "      <td>SEYCHELLES THIRD FISCAL SUSTAINABILITY AND CLI...</td>\n",
       "      <td></td>\n",
       "      <td>None</td>\n",
       "      <td>None</td>\n",
       "      <td>africaioc</td>\n",
       "    </tr>\n",
       "    <tr>\n",
       "      <th>4</th>\n",
       "      <td>&lt;https://ioc-africa.org/dbs/jsonld/previousExp...</td>\n",
       "      <td>schema:ResearchProject</td>\n",
       "      <td>Kenya Shallow-water CrustaceanTrawl Survey</td>\n",
       "      <td>None</td>\n",
       "      <td>None</td>\n",
       "      <td>None</td>\n",
       "      <td>africaioc</td>\n",
       "    </tr>\n",
       "    <tr>\n",
       "      <th>5</th>\n",
       "      <td>&lt;https://ioc-africa.org/dbs/jsonld/previousExp...</td>\n",
       "      <td>schema:ResearchProject</td>\n",
       "      <td>VT 51 / OISO 6 Cruise</td>\n",
       "      <td>None</td>\n",
       "      <td>None</td>\n",
       "      <td>None</td>\n",
       "      <td>africaioc</td>\n",
       "    </tr>\n",
       "    <tr>\n",
       "      <th>6</th>\n",
       "      <td>&lt;https://ioc-africa.org/dbs/jsonld/oceanProjec...</td>\n",
       "      <td>schema:ResearchProject</td>\n",
       "      <td>Ghana - West Africa Regional Fisheries Program</td>\n",
       "      <td></td>\n",
       "      <td>None</td>\n",
       "      <td>None</td>\n",
       "      <td>africaioc</td>\n",
       "    </tr>\n",
       "    <tr>\n",
       "      <th>7</th>\n",
       "      <td>&lt;https://ioc-africa.org/dbs/jsonld/oceanProjec...</td>\n",
       "      <td>schema:ResearchProject</td>\n",
       "      <td>Marine and Coastal Environment Management</td>\n",
       "      <td></td>\n",
       "      <td>None</td>\n",
       "      <td>None</td>\n",
       "      <td>africaioc</td>\n",
       "    </tr>\n",
       "    <tr>\n",
       "      <th>8</th>\n",
       "      <td>&lt;https://ioc-africa.org/dbs/jsonld/previousExp...</td>\n",
       "      <td>schema:ResearchProject</td>\n",
       "      <td>VT 79 / OISO 12 Cruise</td>\n",
       "      <td>None</td>\n",
       "      <td>None</td>\n",
       "      <td>None</td>\n",
       "      <td>africaioc</td>\n",
       "    </tr>\n",
       "    <tr>\n",
       "      <th>9</th>\n",
       "      <td>&lt;https://ioc-africa.org/dbs/jsonld/oceanProjec...</td>\n",
       "      <td>schema:ResearchProject</td>\n",
       "      <td>Integrated Coastal and Marine Biodiversity Man...</td>\n",
       "      <td></td>\n",
       "      <td>None</td>\n",
       "      <td>None</td>\n",
       "      <td>africaioc</td>\n",
       "    </tr>\n",
       "  </tbody>\n",
       "</table>\n",
       "</div>"
      ],
      "text/plain": [
       "                                                   s                    type  \\\n",
       "0  <https://ioc-africa.org/dbs/jsonld/oceanProjec...  schema:ResearchProject   \n",
       "1  <https://ioc-africa.org/dbs/jsonld/previousExp...  schema:ResearchProject   \n",
       "2  <https://ioc-africa.org/dbs/jsonld/previousExp...  schema:ResearchProject   \n",
       "3  <https://ioc-africa.org/dbs/jsonld/oceanProjec...  schema:ResearchProject   \n",
       "4  <https://ioc-africa.org/dbs/jsonld/previousExp...  schema:ResearchProject   \n",
       "5  <https://ioc-africa.org/dbs/jsonld/previousExp...  schema:ResearchProject   \n",
       "6  <https://ioc-africa.org/dbs/jsonld/oceanProjec...  schema:ResearchProject   \n",
       "7  <https://ioc-africa.org/dbs/jsonld/oceanProjec...  schema:ResearchProject   \n",
       "8  <https://ioc-africa.org/dbs/jsonld/previousExp...  schema:ResearchProject   \n",
       "9  <https://ioc-africa.org/dbs/jsonld/oceanProjec...  schema:ResearchProject   \n",
       "\n",
       "                                                name keywords   url  desc  \\\n",
       "0  Integrated Natural Resource Management Program...           None  None   \n",
       "1                                           1 cruise     None  None  None   \n",
       "2                                   TR SALOUI Cruise     None  None  None   \n",
       "3  SEYCHELLES THIRD FISCAL SUSTAINABILITY AND CLI...           None  None   \n",
       "4         Kenya Shallow-water CrustaceanTrawl Survey     None  None  None   \n",
       "5                              VT 51 / OISO 6 Cruise     None  None  None   \n",
       "6     Ghana - West Africa Regional Fisheries Program           None  None   \n",
       "7          Marine and Coastal Environment Management           None  None   \n",
       "8                             VT 79 / OISO 12 Cruise     None  None  None   \n",
       "9  Integrated Coastal and Marine Biodiversity Man...           None  None   \n",
       "\n",
       "     provder  \n",
       "0  africaioc  \n",
       "1  africaioc  \n",
       "2  africaioc  \n",
       "3  africaioc  \n",
       "4  africaioc  \n",
       "5  africaioc  \n",
       "6  africaioc  \n",
       "7  africaioc  \n",
       "8  africaioc  \n",
       "9  africaioc  "
      ]
     },
     "execution_count": 19,
     "metadata": {},
     "output_type": "execute_result"
    }
   ],
   "source": [
    "oihdf.head(10)"
   ]
  },
  {
   "cell_type": "code",
   "execution_count": 20,
   "metadata": {
    "ExecuteTime": {
     "end_time": "2023-07-12T21:03:45.994708223Z",
     "start_time": "2023-07-12T21:03:40.530522747Z"
    },
    "collapsed": false,
    "jupyter": {
     "outputs_hidden": false
    },
    "tags": []
   },
   "outputs": [
    {
     "ename": "KeyboardInterrupt",
     "evalue": "",
     "output_type": "error",
     "traceback": [
      "\u001b[0;31m---------------------------------------------------------------------------\u001b[0m",
      "\u001b[0;31mKeyboardInterrupt\u001b[0m                         Traceback (most recent call last)",
      "\u001b[0;32m<timed exec>\u001b[0m in \u001b[0;36m<module>\u001b[0;34m\u001b[0m\n",
      "\u001b[0;32m~/.conda/envs/dev/lib/python3.10/site-packages/pandas/core/frame.py\u001b[0m in \u001b[0;36mappend\u001b[0;34m(self, other, ignore_index, verify_integrity, sort)\u001b[0m\n\u001b[1;32m   9766\u001b[0m         )\n\u001b[1;32m   9767\u001b[0m \u001b[0;34m\u001b[0m\u001b[0m\n\u001b[0;32m-> 9768\u001b[0;31m         \u001b[0;32mreturn\u001b[0m \u001b[0mself\u001b[0m\u001b[0;34m.\u001b[0m\u001b[0m_append\u001b[0m\u001b[0;34m(\u001b[0m\u001b[0mother\u001b[0m\u001b[0;34m,\u001b[0m \u001b[0mignore_index\u001b[0m\u001b[0;34m,\u001b[0m \u001b[0mverify_integrity\u001b[0m\u001b[0;34m,\u001b[0m \u001b[0msort\u001b[0m\u001b[0;34m)\u001b[0m\u001b[0;34m\u001b[0m\u001b[0;34m\u001b[0m\u001b[0m\n\u001b[0m\u001b[1;32m   9769\u001b[0m \u001b[0;34m\u001b[0m\u001b[0m\n\u001b[1;32m   9770\u001b[0m     def _append(\n",
      "\u001b[0;32m~/.conda/envs/dev/lib/python3.10/site-packages/pandas/core/frame.py\u001b[0m in \u001b[0;36m_append\u001b[0;34m(self, other, ignore_index, verify_integrity, sort)\u001b[0m\n\u001b[1;32m   9806\u001b[0m             \u001b[0mto_concat\u001b[0m \u001b[0;34m=\u001b[0m \u001b[0;34m[\u001b[0m\u001b[0mself\u001b[0m\u001b[0;34m,\u001b[0m \u001b[0mother\u001b[0m\u001b[0;34m]\u001b[0m\u001b[0;34m\u001b[0m\u001b[0;34m\u001b[0m\u001b[0m\n\u001b[1;32m   9807\u001b[0m \u001b[0;34m\u001b[0m\u001b[0m\n\u001b[0;32m-> 9808\u001b[0;31m         result = concat(\n\u001b[0m\u001b[1;32m   9809\u001b[0m             \u001b[0mto_concat\u001b[0m\u001b[0;34m,\u001b[0m\u001b[0;34m\u001b[0m\u001b[0;34m\u001b[0m\u001b[0m\n\u001b[1;32m   9810\u001b[0m             \u001b[0mignore_index\u001b[0m\u001b[0;34m=\u001b[0m\u001b[0mignore_index\u001b[0m\u001b[0;34m,\u001b[0m\u001b[0;34m\u001b[0m\u001b[0;34m\u001b[0m\u001b[0m\n",
      "\u001b[0;32m~/.conda/envs/dev/lib/python3.10/site-packages/pandas/util/_decorators.py\u001b[0m in \u001b[0;36mwrapper\u001b[0;34m(*args, **kwargs)\u001b[0m\n\u001b[1;32m    329\u001b[0m                     \u001b[0mstacklevel\u001b[0m\u001b[0;34m=\u001b[0m\u001b[0mfind_stack_level\u001b[0m\u001b[0;34m(\u001b[0m\u001b[0;34m)\u001b[0m\u001b[0;34m,\u001b[0m\u001b[0;34m\u001b[0m\u001b[0;34m\u001b[0m\u001b[0m\n\u001b[1;32m    330\u001b[0m                 )\n\u001b[0;32m--> 331\u001b[0;31m             \u001b[0;32mreturn\u001b[0m \u001b[0mfunc\u001b[0m\u001b[0;34m(\u001b[0m\u001b[0;34m*\u001b[0m\u001b[0margs\u001b[0m\u001b[0;34m,\u001b[0m \u001b[0;34m**\u001b[0m\u001b[0mkwargs\u001b[0m\u001b[0;34m)\u001b[0m\u001b[0;34m\u001b[0m\u001b[0;34m\u001b[0m\u001b[0m\n\u001b[0m\u001b[1;32m    332\u001b[0m \u001b[0;34m\u001b[0m\u001b[0m\n\u001b[1;32m    333\u001b[0m         \u001b[0;31m# error: \"Callable[[VarArg(Any), KwArg(Any)], Any]\" has no\u001b[0m\u001b[0;34m\u001b[0m\u001b[0;34m\u001b[0m\u001b[0m\n",
      "\u001b[0;32m~/.conda/envs/dev/lib/python3.10/site-packages/pandas/core/reshape/concat.py\u001b[0m in \u001b[0;36mconcat\u001b[0;34m(objs, axis, join, ignore_index, keys, levels, names, verify_integrity, sort, copy)\u001b[0m\n\u001b[1;32m    379\u001b[0m     )\n\u001b[1;32m    380\u001b[0m \u001b[0;34m\u001b[0m\u001b[0m\n\u001b[0;32m--> 381\u001b[0;31m     \u001b[0;32mreturn\u001b[0m \u001b[0mop\u001b[0m\u001b[0;34m.\u001b[0m\u001b[0mget_result\u001b[0m\u001b[0;34m(\u001b[0m\u001b[0;34m)\u001b[0m\u001b[0;34m\u001b[0m\u001b[0;34m\u001b[0m\u001b[0m\n\u001b[0m\u001b[1;32m    382\u001b[0m \u001b[0;34m\u001b[0m\u001b[0m\n\u001b[1;32m    383\u001b[0m \u001b[0;34m\u001b[0m\u001b[0m\n",
      "\u001b[0;32m~/.conda/envs/dev/lib/python3.10/site-packages/pandas/core/reshape/concat.py\u001b[0m in \u001b[0;36mget_result\u001b[0;34m(self)\u001b[0m\n\u001b[1;32m    614\u001b[0m                 \u001b[0mmgrs_indexers\u001b[0m\u001b[0;34m.\u001b[0m\u001b[0mappend\u001b[0m\u001b[0;34m(\u001b[0m\u001b[0;34m(\u001b[0m\u001b[0mobj\u001b[0m\u001b[0;34m.\u001b[0m\u001b[0m_mgr\u001b[0m\u001b[0;34m,\u001b[0m \u001b[0mindexers\u001b[0m\u001b[0;34m)\u001b[0m\u001b[0;34m)\u001b[0m\u001b[0;34m\u001b[0m\u001b[0;34m\u001b[0m\u001b[0m\n\u001b[1;32m    615\u001b[0m \u001b[0;34m\u001b[0m\u001b[0m\n\u001b[0;32m--> 616\u001b[0;31m             new_data = concatenate_managers(\n\u001b[0m\u001b[1;32m    617\u001b[0m                 \u001b[0mmgrs_indexers\u001b[0m\u001b[0;34m,\u001b[0m \u001b[0mself\u001b[0m\u001b[0;34m.\u001b[0m\u001b[0mnew_axes\u001b[0m\u001b[0;34m,\u001b[0m \u001b[0mconcat_axis\u001b[0m\u001b[0;34m=\u001b[0m\u001b[0mself\u001b[0m\u001b[0;34m.\u001b[0m\u001b[0mbm_axis\u001b[0m\u001b[0;34m,\u001b[0m \u001b[0mcopy\u001b[0m\u001b[0;34m=\u001b[0m\u001b[0mself\u001b[0m\u001b[0;34m.\u001b[0m\u001b[0mcopy\u001b[0m\u001b[0;34m\u001b[0m\u001b[0;34m\u001b[0m\u001b[0m\n\u001b[1;32m    618\u001b[0m             )\n",
      "\u001b[0;32m~/.conda/envs/dev/lib/python3.10/site-packages/pandas/core/internals/concat.py\u001b[0m in \u001b[0;36mconcatenate_managers\u001b[0;34m(mgrs_indexers, axes, concat_axis, copy)\u001b[0m\n\u001b[1;32m    221\u001b[0m                 \u001b[0;31m#  we can use np.concatenate, which is more performant\u001b[0m\u001b[0;34m\u001b[0m\u001b[0;34m\u001b[0m\u001b[0m\n\u001b[1;32m    222\u001b[0m                 \u001b[0;31m#  than concat_compat\u001b[0m\u001b[0;34m\u001b[0m\u001b[0;34m\u001b[0m\u001b[0m\n\u001b[0;32m--> 223\u001b[0;31m                 \u001b[0mvalues\u001b[0m \u001b[0;34m=\u001b[0m \u001b[0mnp\u001b[0m\u001b[0;34m.\u001b[0m\u001b[0mconcatenate\u001b[0m\u001b[0;34m(\u001b[0m\u001b[0mvals\u001b[0m\u001b[0;34m,\u001b[0m \u001b[0maxis\u001b[0m\u001b[0;34m=\u001b[0m\u001b[0;36m1\u001b[0m\u001b[0;34m)\u001b[0m\u001b[0;34m\u001b[0m\u001b[0;34m\u001b[0m\u001b[0m\n\u001b[0m\u001b[1;32m    224\u001b[0m             \u001b[0;32melse\u001b[0m\u001b[0;34m:\u001b[0m\u001b[0;34m\u001b[0m\u001b[0;34m\u001b[0m\u001b[0m\n\u001b[1;32m    225\u001b[0m                 \u001b[0;31m# TODO(EA2D): special-casing not needed with 2D EAs\u001b[0m\u001b[0;34m\u001b[0m\u001b[0;34m\u001b[0m\u001b[0m\n",
      "\u001b[0;32m~/.conda/envs/dev/lib/python3.10/site-packages/numpy/core/overrides.py\u001b[0m in \u001b[0;36mconcatenate\u001b[0;34m(*args, **kwargs)\u001b[0m\n",
      "\u001b[0;31mKeyboardInterrupt\u001b[0m: "
     ]
    }
   ],
   "source": [
    "%%time \n",
    "from spacy import displacy\n",
    "import spacy\n",
    "import en_core_web_lg  # intersting need for import here...\n",
    "import numpy as np\n",
    "from multiprocessing import Pool\n",
    "\n",
    "nlp = en_core_web_lg.load()\n",
    "nlpdf = pd.DataFrame(columns=['name', 'label', 'text', 'url'])\n",
    "\n",
    "for i in range(len(oihdf)):\n",
    "# for i in range(100):\n",
    "    text = ' '.join(oihdf.at[i,'desc'].astype(str))\n",
    "    doc3 = nlp(text)\n",
    "    for entity in doc3.ents:\n",
    "        nlpdf = nlpdf.append({'name': oihdf.at[i,'name'], 'label': entity.label_, 'text':entity.text, 'url': oihdf.at[i,'s']}, ignore_index=True)\n"
   ]
  },
  {
   "cell_type": "code",
   "execution_count": 12,
   "metadata": {
    "collapsed": false,
    "jupyter": {
     "outputs_hidden": false
    },
    "tags": []
   },
   "outputs": [
    {
     "name": "stdout",
     "output_type": "stream",
     "text": [
      "<class 'pandas.core.frame.DataFrame'>\n",
      "RangeIndex: 1705 entries, 0 to 1704\n",
      "Data columns (total 4 columns):\n",
      " #   Column  Non-Null Count  Dtype \n",
      "---  ------  --------------  ----- \n",
      " 0   name    1705 non-null   object\n",
      " 1   label   1705 non-null   object\n",
      " 2   text    1705 non-null   object\n",
      " 3   url     1705 non-null   object\n",
      "dtypes: object(4)\n",
      "memory usage: 53.4+ KB\n"
     ]
    }
   ],
   "source": [
    "nlpdf.info()"
   ]
  },
  {
   "cell_type": "code",
   "execution_count": 13,
   "metadata": {
    "ExecuteTime": {
     "end_time": "2023-07-12T20:20:26.283223886Z",
     "start_time": "2023-07-12T20:20:26.277467804Z"
    },
    "collapsed": false,
    "jupyter": {
     "outputs_hidden": false
    },
    "tags": []
   },
   "outputs": [
    {
     "data": {
      "text/html": [
       "<div>\n",
       "<style scoped>\n",
       "    .dataframe tbody tr th:only-of-type {\n",
       "        vertical-align: middle;\n",
       "    }\n",
       "\n",
       "    .dataframe tbody tr th {\n",
       "        vertical-align: top;\n",
       "    }\n",
       "\n",
       "    .dataframe thead th {\n",
       "        text-align: right;\n",
       "    }\n",
       "</style>\n",
       "<table border=\"1\" class=\"dataframe\">\n",
       "  <thead>\n",
       "    <tr style=\"text-align: right;\">\n",
       "      <th></th>\n",
       "      <th>name</th>\n",
       "      <th>label</th>\n",
       "      <th>text</th>\n",
       "      <th>url</th>\n",
       "    </tr>\n",
       "  </thead>\n",
       "  <tbody>\n",
       "    <tr>\n",
       "      <th>0</th>\n",
       "      <td>0    Integrated Natural Resource Management Pr...</td>\n",
       "      <td>ORG</td>\n",
       "      <td>Integrated Natural Resource Management Program...</td>\n",
       "      <td>0    &lt;https://ioc-africa.org/dbs/jsonld/oceanP...</td>\n",
       "    </tr>\n",
       "    <tr>\n",
       "      <th>1</th>\n",
       "      <td>0    Integrated Natural Resource Management Pr...</td>\n",
       "      <td>ORG</td>\n",
       "      <td>Hang Rai</td>\n",
       "      <td>0    &lt;https://ioc-africa.org/dbs/jsonld/oceanP...</td>\n",
       "    </tr>\n",
       "    <tr>\n",
       "      <th>2</th>\n",
       "      <td>0    Integrated Natural Resource Management Pr...</td>\n",
       "      <td>GPE</td>\n",
       "      <td>Ninh Thuan</td>\n",
       "      <td>0    &lt;https://ioc-africa.org/dbs/jsonld/oceanP...</td>\n",
       "    </tr>\n",
       "    <tr>\n",
       "      <th>3</th>\n",
       "      <td>0    Integrated Natural Resource Management Pr...</td>\n",
       "      <td>ORG</td>\n",
       "      <td>NTT Fault Model Aaron Samuel Bracho Mosquera R...</td>\n",
       "      <td>0    &lt;https://ioc-africa.org/dbs/jsonld/oceanP...</td>\n",
       "    </tr>\n",
       "    <tr>\n",
       "      <th>4</th>\n",
       "      <td>0    Integrated Natural Resource Management Pr...</td>\n",
       "      <td>ORG</td>\n",
       "      <td>JOSE DE CALDAS</td>\n",
       "      <td>0    &lt;https://ioc-africa.org/dbs/jsonld/oceanP...</td>\n",
       "    </tr>\n",
       "    <tr>\n",
       "      <th>5</th>\n",
       "      <td>0    Integrated Natural Resource Management Pr...</td>\n",
       "      <td>ORG</td>\n",
       "      <td>BOGOTÁ</td>\n",
       "      <td>0    &lt;https://ioc-africa.org/dbs/jsonld/oceanP...</td>\n",
       "    </tr>\n",
       "    <tr>\n",
       "      <th>6</th>\n",
       "      <td>0    Integrated Natural Resource Management Pr...</td>\n",
       "      <td>ORG</td>\n",
       "      <td>UDFJC University</td>\n",
       "      <td>0    &lt;https://ioc-africa.org/dbs/jsonld/oceanP...</td>\n",
       "    </tr>\n",
       "    <tr>\n",
       "      <th>7</th>\n",
       "      <td>0    Integrated Natural Resource Management Pr...</td>\n",
       "      <td>ORG</td>\n",
       "      <td>Antofagasta -&gt;</td>\n",
       "      <td>0    &lt;https://ioc-africa.org/dbs/jsonld/oceanP...</td>\n",
       "    </tr>\n",
       "    <tr>\n",
       "      <th>8</th>\n",
       "      <td>0    Integrated Natural Resource Management Pr...</td>\n",
       "      <td>ORG</td>\n",
       "      <td>Facultad de ciencias</td>\n",
       "      <td>0    &lt;https://ioc-africa.org/dbs/jsonld/oceanP...</td>\n",
       "    </tr>\n",
       "    <tr>\n",
       "      <th>9</th>\n",
       "      <td>0    Integrated Natural Resource Management Pr...</td>\n",
       "      <td>DATE</td>\n",
       "      <td>mar y</td>\n",
       "      <td>0    &lt;https://ioc-africa.org/dbs/jsonld/oceanP...</td>\n",
       "    </tr>\n",
       "  </tbody>\n",
       "</table>\n",
       "</div>"
      ],
      "text/plain": [
       "                                                name label  \\\n",
       "0  0    Integrated Natural Resource Management Pr...   ORG   \n",
       "1  0    Integrated Natural Resource Management Pr...   ORG   \n",
       "2  0    Integrated Natural Resource Management Pr...   GPE   \n",
       "3  0    Integrated Natural Resource Management Pr...   ORG   \n",
       "4  0    Integrated Natural Resource Management Pr...   ORG   \n",
       "5  0    Integrated Natural Resource Management Pr...   ORG   \n",
       "6  0    Integrated Natural Resource Management Pr...   ORG   \n",
       "7  0    Integrated Natural Resource Management Pr...   ORG   \n",
       "8  0    Integrated Natural Resource Management Pr...   ORG   \n",
       "9  0    Integrated Natural Resource Management Pr...  DATE   \n",
       "\n",
       "                                                text  \\\n",
       "0  Integrated Natural Resource Management Program...   \n",
       "1                                           Hang Rai   \n",
       "2                                         Ninh Thuan   \n",
       "3  NTT Fault Model Aaron Samuel Bracho Mosquera R...   \n",
       "4                                     JOSE DE CALDAS   \n",
       "5                                             BOGOTÁ   \n",
       "6                                   UDFJC University   \n",
       "7                                     Antofagasta ->   \n",
       "8                               Facultad de ciencias   \n",
       "9                                              mar y   \n",
       "\n",
       "                                                 url  \n",
       "0  0    <https://ioc-africa.org/dbs/jsonld/oceanP...  \n",
       "1  0    <https://ioc-africa.org/dbs/jsonld/oceanP...  \n",
       "2  0    <https://ioc-africa.org/dbs/jsonld/oceanP...  \n",
       "3  0    <https://ioc-africa.org/dbs/jsonld/oceanP...  \n",
       "4  0    <https://ioc-africa.org/dbs/jsonld/oceanP...  \n",
       "5  0    <https://ioc-africa.org/dbs/jsonld/oceanP...  \n",
       "6  0    <https://ioc-africa.org/dbs/jsonld/oceanP...  \n",
       "7  0    <https://ioc-africa.org/dbs/jsonld/oceanP...  \n",
       "8  0    <https://ioc-africa.org/dbs/jsonld/oceanP...  \n",
       "9  0    <https://ioc-africa.org/dbs/jsonld/oceanP...  "
      ]
     },
     "execution_count": 13,
     "metadata": {},
     "output_type": "execute_result"
    }
   ],
   "source": [
    "nlpdf.head(10)"
   ]
  },
  {
   "cell_type": "code",
   "execution_count": 14,
   "metadata": {
    "ExecuteTime": {
     "end_time": "2023-07-12T21:04:14.870425560Z",
     "start_time": "2023-07-12T21:04:14.859997080Z"
    },
    "collapsed": false,
    "jupyter": {
     "outputs_hidden": false
    },
    "tags": []
   },
   "outputs": [],
   "source": [
    "test_df= oihdf.head(1000)\n"
   ]
  },
  {
   "cell_type": "code",
   "execution_count": null,
   "metadata": {
    "ExecuteTime": {
     "end_time": "2023-07-12T21:11:18.343930367Z",
     "start_time": "2023-07-12T21:10:03.637997950Z"
    },
    "collapsed": false,
    "jupyter": {
     "outputs_hidden": false
    },
    "tags": []
   },
   "outputs": [],
   "source": [
    "%%time\n",
    "\n",
    "from spacy import displacy\n",
    "import spacy\n",
    "import en_core_web_lg  # intersting need for import here...\n",
    "import numpy as np\n",
    "from multiprocessing import Pool\n",
    "\n",
    "nlp = en_core_web_lg.load()\n",
    "# nlpdf = pd.DataFrame(columns=['name', 'label', 'text', 'url'])\n",
    "\n",
    "def getents(input):\n",
    "    nlpdf = pd.DataFrame(columns=['name', 'label', 'text', 'url'])\n",
    "    tj =  input #' '.join(input)        #' '.join(input.astype(str))\n",
    "    if not tj is None:\n",
    "        doc3 = nlp(tj)\n",
    "        for entity in doc3.ents:\n",
    "            nlpdf = nlpdf.append({'name': oihdf.at[i,'name'], 'label': entity.label_, 'text':entity.text, 'url': oihdf.at[i,'s']}, ignore_index=True)\n",
    "\n",
    "    return nlpdf\n",
    "\n",
    "    # Create a Pool of processes\n",
    "with Pool(processes=10) as pool:\n",
    "    # Apply the process_data function to each chunk of the DataFrame\n",
    "    result_dfs = pool.map(getents, oihdf['desc'])\n",
    "\n",
    "final_df = pd.concat(result_dfs)\n",
    "\n",
    "\n",
    "#     # Create a Pool of processes\n",
    "# with Pool(processes=10) as pool:\n",
    "#     # Apply the process_data function to each chunk of the DataFrame\n",
    "#     defresult_dfs = pool.map(getents, oihdf['desc'])\n",
    "\n",
    "    \n",
    "# deffinal_df = pd.concat(defresult_dfs)\n",
    "\n",
    "# combined_df = pd.concat([final_df, deffinal_df], ignore_index=True)\n",
    "\n",
    "    "
   ]
  },
  {
   "cell_type": "code",
   "execution_count": 16,
   "metadata": {
    "tags": []
   },
   "outputs": [
    {
     "name": "stdout",
     "output_type": "stream",
     "text": [
      "<class 'pandas.core.frame.DataFrame'>\n",
      "Int64Index: 1248737 entries, 0 to 1\n",
      "Data columns (total 4 columns):\n",
      " #   Column  Non-Null Count    Dtype \n",
      "---  ------  --------------    ----- \n",
      " 0   name    1248737 non-null  object\n",
      " 1   label   1248737 non-null  object\n",
      " 2   text    1248737 non-null  object\n",
      " 3   url     1248737 non-null  object\n",
      "dtypes: object(4)\n",
      "memory usage: 47.6+ MB\n"
     ]
    }
   ],
   "source": [
    "combined_df.info()"
   ]
  },
  {
   "cell_type": "code",
   "execution_count": 15,
   "metadata": {
    "ExecuteTime": {
     "end_time": "2023-07-12T21:07:08.832417160Z",
     "start_time": "2023-07-12T21:07:08.828649668Z"
    },
    "collapsed": false,
    "jupyter": {
     "outputs_hidden": false
    },
    "tags": []
   },
   "outputs": [
    {
     "data": {
      "text/html": [
       "<div>\n",
       "<style scoped>\n",
       "    .dataframe tbody tr th:only-of-type {\n",
       "        vertical-align: middle;\n",
       "    }\n",
       "\n",
       "    .dataframe tbody tr th {\n",
       "        vertical-align: top;\n",
       "    }\n",
       "\n",
       "    .dataframe thead th {\n",
       "        text-align: right;\n",
       "    }\n",
       "</style>\n",
       "<table border=\"1\" class=\"dataframe\">\n",
       "  <thead>\n",
       "    <tr style=\"text-align: right;\">\n",
       "      <th></th>\n",
       "      <th>name</th>\n",
       "      <th>label</th>\n",
       "      <th>text</th>\n",
       "      <th>url</th>\n",
       "    </tr>\n",
       "  </thead>\n",
       "  <tbody>\n",
       "    <tr>\n",
       "      <th>0</th>\n",
       "      <td>99                                 OISO5 (VT 4...</td>\n",
       "      <td>ORG</td>\n",
       "      <td>Integrated Natural Resource Management Program...</td>\n",
       "      <td>99    &lt;https://ioc-africa.org/dbs/jsonld/previ...</td>\n",
       "    </tr>\n",
       "    <tr>\n",
       "      <th>0</th>\n",
       "      <td>99                                 OISO5 (VT 4...</td>\n",
       "      <td>CARDINAL</td>\n",
       "      <td>1</td>\n",
       "      <td>99    &lt;https://ioc-africa.org/dbs/jsonld/previ...</td>\n",
       "    </tr>\n",
       "    <tr>\n",
       "      <th>0</th>\n",
       "      <td>99                                 OISO5 (VT 4...</td>\n",
       "      <td>GPE</td>\n",
       "      <td>Kenya</td>\n",
       "      <td>99    &lt;https://ioc-africa.org/dbs/jsonld/previ...</td>\n",
       "    </tr>\n",
       "    <tr>\n",
       "      <th>1</th>\n",
       "      <td>99                                 OISO5 (VT 4...</td>\n",
       "      <td>ORG</td>\n",
       "      <td>CrustaceanTrawl</td>\n",
       "      <td>99    &lt;https://ioc-africa.org/dbs/jsonld/previ...</td>\n",
       "    </tr>\n",
       "    <tr>\n",
       "      <th>0</th>\n",
       "      <td>99                                 OISO5 (VT 4...</td>\n",
       "      <td>ORG</td>\n",
       "      <td>VT 51</td>\n",
       "      <td>99    &lt;https://ioc-africa.org/dbs/jsonld/previ...</td>\n",
       "    </tr>\n",
       "    <tr>\n",
       "      <th>1</th>\n",
       "      <td>99                                 OISO5 (VT 4...</td>\n",
       "      <td>CARDINAL</td>\n",
       "      <td>6</td>\n",
       "      <td>99    &lt;https://ioc-africa.org/dbs/jsonld/previ...</td>\n",
       "    </tr>\n",
       "    <tr>\n",
       "      <th>0</th>\n",
       "      <td>99                                 OISO5 (VT 4...</td>\n",
       "      <td>GPE</td>\n",
       "      <td>Ghana</td>\n",
       "      <td>99    &lt;https://ioc-africa.org/dbs/jsonld/previ...</td>\n",
       "    </tr>\n",
       "    <tr>\n",
       "      <th>0</th>\n",
       "      <td>99                                 OISO5 (VT 4...</td>\n",
       "      <td>ORG</td>\n",
       "      <td>Marine</td>\n",
       "      <td>99    &lt;https://ioc-africa.org/dbs/jsonld/previ...</td>\n",
       "    </tr>\n",
       "    <tr>\n",
       "      <th>1</th>\n",
       "      <td>99                                 OISO5 (VT 4...</td>\n",
       "      <td>ORG</td>\n",
       "      <td>Coastal Environment Management</td>\n",
       "      <td>99    &lt;https://ioc-africa.org/dbs/jsonld/previ...</td>\n",
       "    </tr>\n",
       "    <tr>\n",
       "      <th>0</th>\n",
       "      <td>99                                 OISO5 (VT 4...</td>\n",
       "      <td>CARDINAL</td>\n",
       "      <td>12</td>\n",
       "      <td>99    &lt;https://ioc-africa.org/dbs/jsonld/previ...</td>\n",
       "    </tr>\n",
       "  </tbody>\n",
       "</table>\n",
       "</div>"
      ],
      "text/plain": [
       "                                                name     label  \\\n",
       "0  99                                 OISO5 (VT 4...       ORG   \n",
       "0  99                                 OISO5 (VT 4...  CARDINAL   \n",
       "0  99                                 OISO5 (VT 4...       GPE   \n",
       "1  99                                 OISO5 (VT 4...       ORG   \n",
       "0  99                                 OISO5 (VT 4...       ORG   \n",
       "1  99                                 OISO5 (VT 4...  CARDINAL   \n",
       "0  99                                 OISO5 (VT 4...       GPE   \n",
       "0  99                                 OISO5 (VT 4...       ORG   \n",
       "1  99                                 OISO5 (VT 4...       ORG   \n",
       "0  99                                 OISO5 (VT 4...  CARDINAL   \n",
       "\n",
       "                                                text  \\\n",
       "0  Integrated Natural Resource Management Program...   \n",
       "0                                                  1   \n",
       "0                                              Kenya   \n",
       "1                                    CrustaceanTrawl   \n",
       "0                                              VT 51   \n",
       "1                                                  6   \n",
       "0                                              Ghana   \n",
       "0                                             Marine   \n",
       "1                     Coastal Environment Management   \n",
       "0                                                 12   \n",
       "\n",
       "                                                 url  \n",
       "0  99    <https://ioc-africa.org/dbs/jsonld/previ...  \n",
       "0  99    <https://ioc-africa.org/dbs/jsonld/previ...  \n",
       "0  99    <https://ioc-africa.org/dbs/jsonld/previ...  \n",
       "1  99    <https://ioc-africa.org/dbs/jsonld/previ...  \n",
       "0  99    <https://ioc-africa.org/dbs/jsonld/previ...  \n",
       "1  99    <https://ioc-africa.org/dbs/jsonld/previ...  \n",
       "0  99    <https://ioc-africa.org/dbs/jsonld/previ...  \n",
       "0  99    <https://ioc-africa.org/dbs/jsonld/previ...  \n",
       "1  99    <https://ioc-africa.org/dbs/jsonld/previ...  \n",
       "0  99    <https://ioc-africa.org/dbs/jsonld/previ...  "
      ]
     },
     "execution_count": 15,
     "metadata": {},
     "output_type": "execute_result"
    }
   ],
   "source": [
    "combined_df.head(10)"
   ]
  },
  {
   "cell_type": "code",
   "execution_count": 23,
   "metadata": {
    "tags": []
   },
   "outputs": [
    {
     "data": {
      "text/html": [
       "<div>\n",
       "<style scoped>\n",
       "    .dataframe tbody tr th:only-of-type {\n",
       "        vertical-align: middle;\n",
       "    }\n",
       "\n",
       "    .dataframe tbody tr th {\n",
       "        vertical-align: top;\n",
       "    }\n",
       "\n",
       "    .dataframe thead th {\n",
       "        text-align: right;\n",
       "    }\n",
       "</style>\n",
       "<table border=\"1\" class=\"dataframe\">\n",
       "  <thead>\n",
       "    <tr style=\"text-align: right;\">\n",
       "      <th></th>\n",
       "      <th>place</th>\n",
       "      <th>count</th>\n",
       "    </tr>\n",
       "  </thead>\n",
       "  <tbody>\n",
       "    <tr>\n",
       "      <th>0</th>\n",
       "      <td>Iran</td>\n",
       "      <td>5391</td>\n",
       "    </tr>\n",
       "    <tr>\n",
       "      <th>1</th>\n",
       "      <td>Argentina</td>\n",
       "      <td>3648</td>\n",
       "    </tr>\n",
       "    <tr>\n",
       "      <th>2</th>\n",
       "      <td>Nigeria</td>\n",
       "      <td>3306</td>\n",
       "    </tr>\n",
       "    <tr>\n",
       "      <th>3</th>\n",
       "      <td>Kenya</td>\n",
       "      <td>2700</td>\n",
       "    </tr>\n",
       "    <tr>\n",
       "      <th>4</th>\n",
       "      <td>Florida</td>\n",
       "      <td>2106</td>\n",
       "    </tr>\n",
       "    <tr>\n",
       "      <th>5</th>\n",
       "      <td>India</td>\n",
       "      <td>2062</td>\n",
       "    </tr>\n",
       "    <tr>\n",
       "      <th>6</th>\n",
       "      <td>Cuba</td>\n",
       "      <td>2006</td>\n",
       "    </tr>\n",
       "    <tr>\n",
       "      <th>7</th>\n",
       "      <td>Canada</td>\n",
       "      <td>1521</td>\n",
       "    </tr>\n",
       "    <tr>\n",
       "      <th>8</th>\n",
       "      <td>California</td>\n",
       "      <td>1351</td>\n",
       "    </tr>\n",
       "    <tr>\n",
       "      <th>9</th>\n",
       "      <td>Venezuela</td>\n",
       "      <td>1284</td>\n",
       "    </tr>\n",
       "  </tbody>\n",
       "</table>\n",
       "</div>"
      ],
      "text/plain": [
       "        place  count\n",
       "0        Iran   5391\n",
       "1   Argentina   3648\n",
       "2     Nigeria   3306\n",
       "3       Kenya   2700\n",
       "4     Florida   2106\n",
       "5       India   2062\n",
       "6        Cuba   2006\n",
       "7      Canada   1521\n",
       "8  California   1351\n",
       "9   Venezuela   1284"
      ]
     },
     "execution_count": 23,
     "metadata": {},
     "output_type": "execute_result"
    }
   ],
   "source": [
    "filtered_df = final_df[final_df['label'] == 'GPE']\n",
    "\n",
    "# Count the occurrences of each unique term in the \"text\" column\n",
    "counts = filtered_df['text'].value_counts()\n",
    "\n",
    "# Convert the counts Series to a DataFrame\n",
    "new_df = counts.reset_index()\n",
    "\n",
    "# Rename the columns\n",
    "new_df.columns = ['place', 'count']\n",
    "\n",
    "new_df.head(10)"
   ]
  },
  {
   "cell_type": "code",
   "execution_count": 24,
   "metadata": {
    "tags": []
   },
   "outputs": [
    {
     "name": "stdout",
     "output_type": "stream",
     "text": [
      "<class 'pandas.core.frame.DataFrame'>\n",
      "RangeIndex: 11679 entries, 0 to 11678\n",
      "Data columns (total 2 columns):\n",
      " #   Column  Non-Null Count  Dtype \n",
      "---  ------  --------------  ----- \n",
      " 0   place   11679 non-null  object\n",
      " 1   count   11679 non-null  int64 \n",
      "dtypes: int64(1), object(1)\n",
      "memory usage: 182.6+ KB\n"
     ]
    }
   ],
   "source": [
    "new_df.info()\n"
   ]
  },
  {
   "cell_type": "code",
   "execution_count": 25,
   "metadata": {
    "tags": []
   },
   "outputs": [],
   "source": [
    "new_df.to_csv('descCounts.csv', index=False)\n"
   ]
  },
  {
   "cell_type": "code",
   "execution_count": null,
   "metadata": {},
   "outputs": [],
   "source": []
  }
 ],
 "metadata": {
  "kernelspec": {
   "display_name": "Python 3 (ipykernel)",
   "language": "python",
   "name": "python3"
  },
  "language_info": {
   "codemirror_mode": {
    "name": "ipython",
    "version": 3
   },
   "file_extension": ".py",
   "mimetype": "text/x-python",
   "name": "python",
   "nbconvert_exporter": "python",
   "pygments_lexer": "ipython3",
   "version": "3.10.8"
  }
 },
 "nbformat": 4,
 "nbformat_minor": 4
}
