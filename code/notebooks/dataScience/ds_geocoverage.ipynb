{
 "cells": [
  {
   "cell_type": "markdown",
   "metadata": {
    "id": "9KwyeTa823TV"
   },
   "source": [
    "# OIH Data Science Notebook:  Geocoverage inspection on combined parquet\n",
    "\n",
    "This notebook demonstrates query approach for the pre-processed resources from the OIH Graph\n",
    "\n",
    "Notes:\n",
    "\n",
    "Need to download the model with _python -m spacy download en_core_web_lg_\n",
    "\n",
    "you can also downloiad with\n",
    "\n",
    "## Note\n",
    "\n",
    "```\n",
    "pip install -q\n",
    "https://s3-us-west-2.amazonaws.com/ai2-s2-scispacy/releases/v0.5.1/en_core_sci_lg-0.5.1.tar.gz\n",
    "\n",
    "pip install -q -U spacy[cuda113]\n",
    "\n",
    "```"
   ]
  },
  {
   "cell_type": "markdown",
   "metadata": {},
   "source": [
    "## Model loading"
   ]
  },
  {
   "cell_type": "code",
   "execution_count": 31,
   "metadata": {
    "colab": {
     "base_uri": "https://localhost:8080/"
    },
    "id": "akpmB2if4JrH",
    "outputId": "147f6843-0a47-43a5-81c8-40f5db28f79f",
    "tags": []
   },
   "outputs": [
    {
     "name": "stdout",
     "output_type": "stream",
     "text": [
      "\u001B[38;5;2m✔ Download and installation successful\u001B[0m\n",
      "You can now load the package via spacy.load('en_core_web_lg')\n"
     ]
    }
   ],
   "source": [
    "!python -m spacy download en_core_web_lg --quiet\n",
    "# !python -m spacy download en_core_web_sm"
   ]
  },
  {
   "cell_type": "markdown",
   "metadata": {
    "id": "BjtYzfrLy1-x"
   },
   "source": [
    "## Imports"
   ]
  },
  {
   "cell_type": "code",
   "execution_count": 20,
   "metadata": {
    "id": "7Lb0BUiV23TW",
    "tags": []
   },
   "outputs": [],
   "source": [
    "import duckdb\n",
    "import tqdm\n",
    "\n",
    "import warnings\n",
    "warnings.simplefilter(action='ignore', category=FutureWarning)  ## remove pandas future warning\n",
    "\n",
    "import spacy\n",
    "# import scispacy\n",
    "#import en_core_sci_sm\n",
    "from spacy import displacy\n",
    "import getpass\n",
    "import pandas as pd\n",
    "import urllib.request, json\n",
    "import en_core_web_sm  # intersting need for import here...\n",
    "import numpy as np\n",
    "from multiprocessing import Pool\n",
    "# import dask, boto3\n",
    "# import s3fs"
   ]
  },
  {
   "cell_type": "markdown",
   "metadata": {
    "id": "HpCqKoIe23TX"
   },
   "source": [
    "## Load Pre-processed OIH Graph"
   ]
  },
  {
   "cell_type": "code",
   "execution_count": 5,
   "metadata": {
    "colab": {
     "base_uri": "https://localhost:8080/",
     "height": 66,
     "referenced_widgets": [
      "c14e28d28c394f6a8c73eaf77cc3c361",
      "8ac0ca1d55144845b0cc87743476b369",
      "cc99fb63649741d8a47a2e5df6ff2418"
     ]
    },
    "id": "fuVbZUoa23TX",
    "outputId": "33208244-43fa-468f-91c1-fae40607e39e",
    "tags": []
   },
   "outputs": [
    {
     "data": {
      "text/plain": [
       "<duckdb.DuckDBPyConnection at 0x7f5879153c30>"
      ]
     },
     "execution_count": 5,
     "metadata": {},
     "output_type": "execute_result"
    }
   ],
   "source": [
    "## load the combined graph\n",
    "url = \"http://ossapi.oceaninfohub.org/public/combined.parquet\"\n",
    "duckdb.install_extension(\"httpfs\")\n",
    "\n",
    "# Instantiate the DuckDB connection\n",
    "con = duckdb.connect()\n",
    "con.execute(\"CREATE TABLE my_table AS SELECT * FROM read_parquet('{}')\".format(url))  # load from url\n",
    "# con.execute(\"CREATE TABLE my_table AS SELECT * FROM read_parquet('/content/drive/MyDrive/Data/combined.parquet')\") # load from local parquet\n",
    "# con.execute(\"CREATE TABLE data AS SELECT row_number() OVER () AS idx, * FROM './inputs/combined.parquet';\")"
   ]
  },
  {
   "cell_type": "markdown",
   "metadata": {},
   "source": [
    "## Spacy test"
   ]
  },
  {
   "cell_type": "code",
   "execution_count": 30,
   "metadata": {
    "tags": []
   },
   "outputs": [
    {
     "data": {
      "text/html": [
       "<span class=\"tex2jax_ignore\"><div class=\"entities\" style=\"line-height: 2.5; direction: ltr\">\n",
       "<mark class=\"entity\" style=\"background: #7aecec; padding: 0.45em 0.6em; margin: 0 0.25em; line-height: 1; border-radius: 0.35em;\">\n",
       "    Estonian Marine Institute\n",
       "    <span style=\"font-size: 0.8em; font-weight: bold; line-height: 1; border-radius: 0.35em; vertical-align: middle; margin-left: 0.5rem\">ORG</span>\n",
       "</mark>\n",
       " is \n",
       "<mark class=\"entity\" style=\"background: #e4e7d2; padding: 0.45em 0.6em; margin: 0 0.25em; line-height: 1; border-radius: 0.35em;\">\n",
       "    one\n",
       "    <span style=\"font-size: 0.8em; font-weight: bold; line-height: 1; border-radius: 0.35em; vertical-align: middle; margin-left: 0.5rem\">CARDINAL</span>\n",
       "</mark>\n",
       " of many \n",
       "<mark class=\"entity\" style=\"background: #feca74; padding: 0.45em 0.6em; margin: 0 0.25em; line-height: 1; border-radius: 0.35em;\">\n",
       "    Tartu\n",
       "    <span style=\"font-size: 0.8em; font-weight: bold; line-height: 1; border-radius: 0.35em; vertical-align: middle; margin-left: 0.5rem\">GPE</span>\n",
       "</mark>\n",
       " \n",
       "<mark class=\"entity\" style=\"background: #7aecec; padding: 0.45em 0.6em; margin: 0 0.25em; line-height: 1; border-radius: 0.35em;\">\n",
       "    University&amp;rsquo;s\n",
       "    <span style=\"font-size: 0.8em; font-weight: bold; line-height: 1; border-radius: 0.35em; vertical-align: middle; margin-left: 0.5rem\">ORG</span>\n",
       "</mark>\n",
       " contemporary scientific institutions. The main purpose of \n",
       "<mark class=\"entity\" style=\"background: #7aecec; padding: 0.45em 0.6em; margin: 0 0.25em; line-height: 1; border-radius: 0.35em;\">\n",
       "    Estonian Marine Institute\n",
       "    <span style=\"font-size: 0.8em; font-weight: bold; line-height: 1; border-radius: 0.35em; vertical-align: middle; margin-left: 0.5rem\">ORG</span>\n",
       "</mark>\n",
       " is marine research and promotion of the given sphere in \n",
       "<mark class=\"entity\" style=\"background: #feca74; padding: 0.45em 0.6em; margin: 0 0.25em; line-height: 1; border-radius: 0.35em;\">\n",
       "    Estonia\n",
       "    <span style=\"font-size: 0.8em; font-weight: bold; line-height: 1; border-radius: 0.35em; vertical-align: middle; margin-left: 0.5rem\">GPE</span>\n",
       "</mark>\n",
       " and the \n",
       "<mark class=\"entity\" style=\"background: #c887fb; padding: 0.45em 0.6em; margin: 0 0.25em; line-height: 1; border-radius: 0.35em;\">\n",
       "    Baltic\n",
       "    <span style=\"font-size: 0.8em; font-weight: bold; line-height: 1; border-radius: 0.35em; vertical-align: middle; margin-left: 0.5rem\">NORP</span>\n",
       "</mark>\n",
       " region. This institute is one of the biggest organizations in \n",
       "<mark class=\"entity\" style=\"background: #feca74; padding: 0.45em 0.6em; margin: 0 0.25em; line-height: 1; border-radius: 0.35em;\">\n",
       "    Estonia\n",
       "    <span style=\"font-size: 0.8em; font-weight: bold; line-height: 1; border-radius: 0.35em; vertical-align: middle; margin-left: 0.5rem\">GPE</span>\n",
       "</mark>\n",
       " carrying out marine exploration contributing research in several marine study fields. Our research ranges from water physics to biology, from microscopic scale to ecosystems having unique expert opinion and qualification in most research fields. \n",
       "<mark class=\"entity\" style=\"background: #7aecec; padding: 0.45em 0.6em; margin: 0 0.25em; line-height: 1; border-radius: 0.35em;\">\n",
       "    Estonian Marine Institute\n",
       "    <span style=\"font-size: 0.8em; font-weight: bold; line-height: 1; border-radius: 0.35em; vertical-align: middle; margin-left: 0.5rem\">ORG</span>\n",
       "</mark>\n",
       " is an educational basis for the marine biology-oriented postgraduate students and is actively improving the advanced and extensive higher marine education in \n",
       "<mark class=\"entity\" style=\"background: #feca74; padding: 0.45em 0.6em; margin: 0 0.25em; line-height: 1; border-radius: 0.35em;\">\n",
       "    Estonia\n",
       "    <span style=\"font-size: 0.8em; font-weight: bold; line-height: 1; border-radius: 0.35em; vertical-align: middle; margin-left: 0.5rem\">GPE</span>\n",
       "</mark>\n",
       ". The active progress of \n",
       "<mark class=\"entity\" style=\"background: #7aecec; padding: 0.45em 0.6em; margin: 0 0.25em; line-height: 1; border-radius: 0.35em;\">\n",
       "    marine sciences\n",
       "    <span style=\"font-size: 0.8em; font-weight: bold; line-height: 1; border-radius: 0.35em; vertical-align: middle; margin-left: 0.5rem\">ORG</span>\n",
       "</mark>\n",
       " in \n",
       "<mark class=\"entity\" style=\"background: #feca74; padding: 0.45em 0.6em; margin: 0 0.25em; line-height: 1; border-radius: 0.35em;\">\n",
       "    Estonia\n",
       "    <span style=\"font-size: 0.8em; font-weight: bold; line-height: 1; border-radius: 0.35em; vertical-align: middle; margin-left: 0.5rem\">GPE</span>\n",
       "</mark>\n",
       " in \n",
       "<mark class=\"entity\" style=\"background: #bfe1d9; padding: 0.45em 0.6em; margin: 0 0.25em; line-height: 1; border-radius: 0.35em;\">\n",
       "    the last decades\n",
       "    <span style=\"font-size: 0.8em; font-weight: bold; line-height: 1; border-radius: 0.35em; vertical-align: middle; margin-left: 0.5rem\">DATE</span>\n",
       "</mark>\n",
       " has enhanced the awarness of \n",
       "<mark class=\"entity\" style=\"background: #c887fb; padding: 0.45em 0.6em; margin: 0 0.25em; line-height: 1; border-radius: 0.35em;\">\n",
       "    Estonian\n",
       "    <span style=\"font-size: 0.8em; font-weight: bold; line-height: 1; border-radius: 0.35em; vertical-align: middle; margin-left: 0.5rem\">NORP</span>\n",
       "</mark>\n",
       " science around the \n",
       "<mark class=\"entity\" style=\"background: #ff9561; padding: 0.45em 0.6em; margin: 0 0.25em; line-height: 1; border-radius: 0.35em;\">\n",
       "    Baltic Sea\n",
       "    <span style=\"font-size: 0.8em; font-weight: bold; line-height: 1; border-radius: 0.35em; vertical-align: middle; margin-left: 0.5rem\">LOC</span>\n",
       "</mark>\n",
       " countries and also in \n",
       "<mark class=\"entity\" style=\"background: #ff9561; padding: 0.45em 0.6em; margin: 0 0.25em; line-height: 1; border-radius: 0.35em;\">\n",
       "    Europe\n",
       "    <span style=\"font-size: 0.8em; font-weight: bold; line-height: 1; border-radius: 0.35em; vertical-align: middle; margin-left: 0.5rem\">LOC</span>\n",
       "</mark>\n",
       ". \n",
       "<mark class=\"entity\" style=\"background: #7aecec; padding: 0.45em 0.6em; margin: 0 0.25em; line-height: 1; border-radius: 0.35em;\">\n",
       "    Estonian Marine Institute\n",
       "    <span style=\"font-size: 0.8em; font-weight: bold; line-height: 1; border-radius: 0.35em; vertical-align: middle; margin-left: 0.5rem\">ORG</span>\n",
       "</mark>\n",
       " has very international nature and thus the research is conducted in high level and in close co-operation with other specialist around the world. The success of the \n",
       "<mark class=\"entity\" style=\"background: #c887fb; padding: 0.45em 0.6em; margin: 0 0.25em; line-height: 1; border-radius: 0.35em;\">\n",
       "    Estonian\n",
       "    <span style=\"font-size: 0.8em; font-weight: bold; line-height: 1; border-radius: 0.35em; vertical-align: middle; margin-left: 0.5rem\">NORP</span>\n",
       "</mark>\n",
       " marine scientists at the international level refers to their high-rated scientific publications and increase in the number of international projects. On the other hand a significant part of the research is aimed at finding solutions to the local scientific problems important for Estonia&amp;rsquo;s well-being. We hope our website provides you easy access to all of the information you seek about \n",
       "<mark class=\"entity\" style=\"background: #7aecec; padding: 0.45em 0.6em; margin: 0 0.25em; line-height: 1; border-radius: 0.35em;\">\n",
       "    the Estonian Marine Institute\n",
       "    <span style=\"font-size: 0.8em; font-weight: bold; line-height: 1; border-radius: 0.35em; vertical-align: middle; margin-left: 0.5rem\">ORG</span>\n",
       "</mark>\n",
       " and useful links to other related themes.</div></span>"
      ],
      "text/plain": [
       "<IPython.core.display.HTML object>"
      ]
     },
     "metadata": {},
     "output_type": "display_data"
    }
   ],
   "source": [
    "from spacy import displacy\n",
    "import spacy\n",
    "import en_core_web_sm  # intersting need for import here...\n",
    "\n",
    "text = \"Estonian Marine Institute is one of many Tartu University&rsquo;s contemporary scientific institutions. The main purpose of Estonian Marine Institute is marine research and promotion of the given sphere in Estonia and the Baltic region. This institute is one of the biggest organizations in Estonia carrying out marine exploration contributing research in several marine study fields. Our research ranges from water physics to biology, from microscopic scale to ecosystems having unique expert opinion and qualification in most research fields. Estonian Marine Institute is an educational basis for the marine biology-oriented postgraduate students and is actively improving the advanced and extensive higher marine education in Estonia. The active progress of marine sciences in Estonia in the last decades has enhanced the awarness of Estonian science around the Baltic Sea countries and also in Europe. Estonian Marine Institute has very international nature and thus the research is conducted in high level and in close co-operation with other specialist around the world. The success of the Estonian marine scientists at the international level refers to their high-rated scientific publications and increase in the number of international projects. On the other hand a significant part of the research is aimed at finding solutions to the local scientific problems important for Estonia&rsquo;s well-being. We hope our website provides you easy access to all of the information you seek about the Estonian Marine Institute and useful links to other related themes.\"\n",
    "\n",
    "nlp = spacy.load(\"en_core_web_lg\")\n",
    "# nlp = spacy.load(\"en_core_web_trf\")\n",
    "# doc = nlp(''.join(kwtest)) # nlp(text)\n",
    "doc = nlp(text) # nlp(text)\n",
    "\n",
    "displacy_image = displacy.render(doc, jupyter = True, style = 'ent')"
   ]
  },
  {
   "cell_type": "markdown",
   "metadata": {
    "id": "KWw7pknj1W3G"
   },
   "source": [
    "## DuckDB test querries "
   ]
  },
  {
   "cell_type": "code",
   "execution_count": 45,
   "metadata": {
    "colab": {
     "base_uri": "https://localhost:8080/"
    },
    "id": "oetCAHNU3q6L",
    "outputId": "f76fb28c-de26-470e-c191-5419d2b61344",
    "tags": []
   },
   "outputs": [
    {
     "name": "stdout",
     "output_type": "stream",
     "text": [
      "685406\n"
     ]
    }
   ],
   "source": [
    "# Now you can execute SQL queries on the Parquet file as if it was a regular table\n",
    "# r = con.execute(\"SELECT DISTINCT provder FROM my_table\").fetchdf()\n",
    "# r = con.execute(\" SELECT DISTINCT provder, type, ANY_VALUE(s),  COUNT(*) AS count FROM my_table GROUP BY provder, type  order by count desc\").fetchdf()\n",
    "# r = con.execute(\" SELECT DISTINCT provder, type, COUNT(*) AS count FROM my_table GROUP BY provder, type\").fetchdf()\n",
    "# r = con.execute('SELECT \"desc\" FROM data LIMIT 1').fetchdf()\n",
    "# r = con.execute('SELECT \"desc\" FROM data WHERE idx = {};'.format(\"22222\")).fetchdf()\n",
    "# r = con.execute('SELECT CONCAT(name, \"desc\") AS full_name FROM data;').fetchdf()\n",
    "# print(r.iloc[1010,0])\n",
    "\n",
    "r = con.execute('SELECT COUNT(*) FROM data').fetchdf()\n",
    "len = r.iloc[0,0]\n",
    "print(len)"
   ]
  },
  {
   "cell_type": "markdown",
   "metadata": {
    "id": "tU88bHY49Vpq"
   },
   "source": [
    "## Simple Loop with DuckDB calls"
   ]
  },
  {
   "cell_type": "code",
   "execution_count": null,
   "metadata": {
    "id": "gRE8Ih9s9ZpF"
   },
   "outputs": [],
   "source": [
    "\n",
    "spacy.prefer_gpu()\n",
    "nlp = spacy.load(\"en_core_web_sm\")\n",
    "\n",
    "# nlp = en_core_web_sm.load()\n",
    "# nlpdf = pd.DataFrame(columns=['name', 'label', 'text', 'url'])\n",
    "nlpdf = pd.DataFrame(columns=['label', 'text'])\n",
    "\n",
    "\n",
    "# for i in range(len(oihdf)):\n",
    "# for i in tqdm.tqdm(range(len(oihdf))):\n",
    "for i in  tqdm.tqdm(range(len)):\n",
    "    r = con.execute('SELECT \"desc\" FROM data WHERE idx = {};'.format(str(i+1))).fetchdf()\n",
    "    text = str(r.iloc[0,0])\n",
    "    # text = ' '.join(oihdf.at[i,'desc'].astype(str))\n",
    "    if not isinstance(text, str) or text != \"nan\":\n",
    "      # print(text)\n",
    "      doc = nlp(text)\n",
    "      for entity in doc.ents:\n",
    "          nlpdf = nlpdf.append({'label': entity.label_, 'text':entity.text}, ignore_index=True)\n"
   ]
  },
  {
   "cell_type": "markdown",
   "metadata": {
    "id": "KMR-58NYIFch"
   },
   "source": [
    "## Multiprocessing Pool over DuckDB"
   ]
  },
  {
   "cell_type": "code",
   "execution_count": 21,
   "metadata": {
    "colab": {
     "base_uri": "https://localhost:8080/"
    },
    "id": "qGvVNqKQMwrW",
    "outputId": "0be547e1-51e8-4d44-9fe1-0a1abb98f5e1",
    "tags": []
   },
   "outputs": [
    {
     "name": "stdout",
     "output_type": "stream",
     "text": [
      "CPU times: user 1min 59s, sys: 5.96 s, total: 2min 5s\n",
      "Wall time: 52min 11s\n"
     ]
    }
   ],
   "source": [
    "%%time\n",
    "\n",
    "import multiprocessing\n",
    "\n",
    "# spacy.prefer_gpu()\n",
    "nlp = spacy.load(\"en_core_web_lg\")\n",
    "\n",
    "r = con.execute('SELECT \"desc\" FROM data;').fetchdf()\n",
    "\n",
    "# nlp = en_core_web_sm.load()\n",
    "# nlpdf = pd.DataFrame(columns=['name', 'label', 'text', 'url'])\n",
    "\n",
    "def getents(number):\n",
    "  nlpdf = pd.DataFrame(columns=['label', 'text'])  # ['name', 'label', 'text', 'url'])\n",
    "  r = con.execute('SELECT \"desc\" FROM data WHERE idx = {};'.format(str(number))).fetchdf()\n",
    "  text = str(r.iloc[0,0])\n",
    "  # text = ' '.join(oihdf.at[i,'desc'].astype(str))\n",
    "  if not isinstance(text, str) or text != \"nan\":\n",
    "    # print(text)\n",
    "    doc = nlp(text)\n",
    "    for entity in doc.ents:\n",
    "        nlpdf = nlpdf.append({'label': entity.label_, 'text':entity.text}, ignore_index=True)\n",
    "\n",
    "  return nlpdf\n",
    "\n",
    "\n",
    "# Create a process pool with the desired number of processes\n",
    "pool = multiprocessing.Pool(processes=10)\n",
    "\n",
    "# Generate a range of numbers from 1 to 10,000\n",
    "numbers = range(1, len)\n",
    "# numbers = range(1, 1000)\n",
    "\n",
    "# Map the calculation function to the numbers in the pool\n",
    "results = pool.map(getents, numbers)\n",
    "\n",
    "# Close the process pool.\n",
    "pool.close()\n",
    "pool.join()\n"
   ]
  },
  {
   "cell_type": "code",
   "execution_count": 22,
   "metadata": {
    "tags": []
   },
   "outputs": [
    {
     "name": "stdout",
     "output_type": "stream",
     "text": [
      "CPU times: user 25.9 s, sys: 220 ms, total: 26.1 s\n",
      "Wall time: 26.1 s\n"
     ]
    }
   ],
   "source": [
    "%%time \n",
    "collecteddfs = pd.concat(results)\n"
   ]
  },
  {
   "cell_type": "code",
   "execution_count": 23,
   "metadata": {
    "colab": {
     "base_uri": "https://localhost:8080/"
    },
    "id": "bGcpGWdbY42j",
    "outputId": "96a21e23-8326-4746-bf0b-b84108a1d574",
    "tags": []
   },
   "outputs": [
    {
     "name": "stdout",
     "output_type": "stream",
     "text": [
      "<class 'pandas.core.frame.DataFrame'>\n",
      "Int64Index: 9884367 entries, 0 to 4\n",
      "Data columns (total 2 columns):\n",
      " #   Column  Dtype \n",
      "---  ------  ----- \n",
      " 0   label   object\n",
      " 1   text    object\n",
      "dtypes: object(2)\n",
      "memory usage: 226.2+ MB\n"
     ]
    }
   ],
   "source": [
    "collecteddfs.info()"
   ]
  },
  {
   "cell_type": "code",
   "execution_count": 24,
   "metadata": {
    "colab": {
     "base_uri": "https://localhost:8080/",
     "height": 363
    },
    "id": "iCydsCg-Z-yN",
    "outputId": "02b3f020-157b-492b-bb23-9dea5a7dc15e",
    "tags": []
   },
   "outputs": [],
   "source": [
    "filtered_df = collecteddfs[collecteddfs['label'] == 'GPE']\n",
    "\n",
    "# Count the occurrences of each unique term in the \"text\" column\n",
    "counts = filtered_df['text'].value_counts()\n",
    "\n",
    "# Convert the counts Series to a DataFrame\n",
    "new_df = counts.reset_index()\n",
    "\n",
    "# Rename the columns\n",
    "new_df.columns = ['place', 'count']\n",
    "\n"
   ]
  },
  {
   "cell_type": "code",
   "execution_count": 27,
   "metadata": {
    "tags": []
   },
   "outputs": [
    {
     "data": {
      "text/html": [
       "<div>\n",
       "<style scoped>\n",
       "    .dataframe tbody tr th:only-of-type {\n",
       "        vertical-align: middle;\n",
       "    }\n",
       "\n",
       "    .dataframe tbody tr th {\n",
       "        vertical-align: top;\n",
       "    }\n",
       "\n",
       "    .dataframe thead th {\n",
       "        text-align: right;\n",
       "    }\n",
       "</style>\n",
       "<table border=\"1\" class=\"dataframe\">\n",
       "  <thead>\n",
       "    <tr style=\"text-align: right;\">\n",
       "      <th></th>\n",
       "      <th>place</th>\n",
       "      <th>count</th>\n",
       "    </tr>\n",
       "  </thead>\n",
       "  <tbody>\n",
       "    <tr>\n",
       "      <th>0</th>\n",
       "      <td>Argentina</td>\n",
       "      <td>68142</td>\n",
       "    </tr>\n",
       "    <tr>\n",
       "      <th>1</th>\n",
       "      <td>Florida</td>\n",
       "      <td>18849</td>\n",
       "    </tr>\n",
       "    <tr>\n",
       "      <th>2</th>\n",
       "      <td>Iran</td>\n",
       "      <td>13233</td>\n",
       "    </tr>\n",
       "    <tr>\n",
       "      <th>3</th>\n",
       "      <td>Colpophyllia</td>\n",
       "      <td>9308</td>\n",
       "    </tr>\n",
       "    <tr>\n",
       "      <th>4</th>\n",
       "      <td>British Columbia</td>\n",
       "      <td>8545</td>\n",
       "    </tr>\n",
       "  </tbody>\n",
       "</table>\n",
       "</div>"
      ],
      "text/plain": [
       "              place  count\n",
       "0         Argentina  68142\n",
       "1           Florida  18849\n",
       "2              Iran  13233\n",
       "3      Colpophyllia   9308\n",
       "4  British Columbia   8545"
      ]
     },
     "execution_count": 27,
     "metadata": {},
     "output_type": "execute_result"
    }
   ],
   "source": [
    "new_df.head(5)"
   ]
  },
  {
   "cell_type": "code",
   "execution_count": 26,
   "metadata": {
    "tags": []
   },
   "outputs": [],
   "source": [
    "new_df.to_csv('descCounts.csv', index=False)\n"
   ]
  }
 ],
 "metadata": {
  "colab": {
   "gpuType": "T4",
   "machine_shape": "hm",
   "provenance": []
  },
  "kernelspec": {
   "display_name": "Python 3 (ipykernel)",
   "language": "python",
   "name": "python3"
  },
  "language_info": {
   "codemirror_mode": {
    "name": "ipython",
    "version": 3
   },
   "file_extension": ".py",
   "mimetype": "text/x-python",
   "name": "python",
   "nbconvert_exporter": "python",
   "pygments_lexer": "ipython3",
   "version": "3.10.8"
  },
  "widgets": {
   "application/vnd.jupyter.widget-state+json": {
    "8ac0ca1d55144845b0cc87743476b369": {
     "model_module": "@jupyter-widgets/base",
     "model_module_version": "1.2.0",
     "model_name": "LayoutModel",
     "state": {
      "_model_module": "@jupyter-widgets/base",
      "_model_module_version": "1.2.0",
      "_model_name": "LayoutModel",
      "_view_count": null,
      "_view_module": "@jupyter-widgets/base",
      "_view_module_version": "1.2.0",
      "_view_name": "LayoutView",
      "align_content": null,
      "align_items": null,
      "align_self": null,
      "border": null,
      "bottom": null,
      "display": null,
      "flex": null,
      "flex_flow": null,
      "grid_area": null,
      "grid_auto_columns": null,
      "grid_auto_flow": null,
      "grid_auto_rows": null,
      "grid_column": null,
      "grid_gap": null,
      "grid_row": null,
      "grid_template_areas": null,
      "grid_template_columns": null,
      "grid_template_rows": null,
      "height": null,
      "justify_content": null,
      "justify_items": null,
      "left": null,
      "margin": null,
      "max_height": null,
      "max_width": null,
      "min_height": null,
      "min_width": null,
      "object_fit": null,
      "object_position": null,
      "order": null,
      "overflow": null,
      "overflow_x": null,
      "overflow_y": null,
      "padding": null,
      "right": null,
      "top": null,
      "visibility": null,
      "width": "auto"
     }
    },
    "c14e28d28c394f6a8c73eaf77cc3c361": {
     "model_module": "@jupyter-widgets/controls",
     "model_module_version": "1.5.0",
     "model_name": "FloatProgressModel",
     "state": {
      "_dom_classes": [],
      "_model_module": "@jupyter-widgets/controls",
      "_model_module_version": "1.5.0",
      "_model_name": "FloatProgressModel",
      "_view_count": null,
      "_view_module": "@jupyter-widgets/controls",
      "_view_module_version": "1.5.0",
      "_view_name": "ProgressView",
      "bar_style": "",
      "description": "",
      "description_tooltip": null,
      "layout": "IPY_MODEL_8ac0ca1d55144845b0cc87743476b369",
      "max": 100,
      "min": 0,
      "orientation": "horizontal",
      "style": "IPY_MODEL_cc99fb63649741d8a47a2e5df6ff2418",
      "value": 100
     }
    },
    "cc99fb63649741d8a47a2e5df6ff2418": {
     "model_module": "@jupyter-widgets/controls",
     "model_module_version": "1.5.0",
     "model_name": "ProgressStyleModel",
     "state": {
      "_model_module": "@jupyter-widgets/controls",
      "_model_module_version": "1.5.0",
      "_model_name": "ProgressStyleModel",
      "_view_count": null,
      "_view_module": "@jupyter-widgets/base",
      "_view_module_version": "1.2.0",
      "_view_name": "StyleView",
      "bar_color": "black",
      "description_width": ""
     }
    }
   }
  }
 },
 "nbformat": 4,
 "nbformat_minor": 4
}
