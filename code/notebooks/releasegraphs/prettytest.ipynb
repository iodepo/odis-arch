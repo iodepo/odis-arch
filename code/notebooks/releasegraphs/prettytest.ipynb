{
 "cells": [
  {
   "cell_type": "raw",
   "metadata": {},
   "source": [
    "title: Ocean InfoHub Release Graph\n",
    "author: Ocean Info Hub Community\n",
    "date: \"{{ datetime.now().strftime('%Y-%m-%d %H:%M:%S') }}\"\n",
    "code_tools: hide"
   ]
  },
  {
   "cell_type": "code",
   "execution_count": 1,
   "metadata": {
    "tags": []
   },
   "outputs": [],
   "source": [
    "%load_ext pretty_jupyter"
   ]
  },
  {
   "cell_type": "code",
   "execution_count": 2,
   "metadata": {},
   "outputs": [
    {
     "name": "stderr",
     "output_type": "stream",
     "text": [
      "/home/fils/.local/lib/python3.10/site-packages/rdflib_jsonld/__init__.py:9: DeprecationWarning: The rdflib-jsonld package has been integrated into rdflib as of rdflib==6.0.1.  Please remove rdflib-jsonld from your project's dependencies.\n",
      "  warnings.warn(\n"
     ]
    }
   ],
   "source": [
    "# import packages\n",
    "import pandas as pd\n",
    "from SPARQLWrapper import SPARQLWrapper, JSON\n",
    "import json\n",
    "\n",
    "sparqlep = \"http://graph.oceaninfohub.org/blazegraph/namespace/oih/sparql\""
   ]
  },
  {
   "cell_type": "code",
   "execution_count": 3,
   "metadata": {
    "tags": []
   },
   "outputs": [],
   "source": [
    "def get_sparql_dataframe(service, query):\n",
    "    \"\"\"\n",
    "    Helper function to convert SPARQL results into a Pandas data frame.\n",
    "    \"\"\"\n",
    "    sparql = SPARQLWrapper(service)\n",
    "    sparql.setQuery(query)\n",
    "    sparql.setReturnFormat(JSON)\n",
    "    result = sparql.query()\n",
    "\n",
    "    processed_results = json.load(result.response)\n",
    "    cols = processed_results['head']['vars']\n",
    "\n",
    "    out = []\n",
    "    for row in processed_results['results']['bindings']:\n",
    "        item = []\n",
    "        for c in cols:\n",
    "            item.append(row.get(c, {}).get('value'))\n",
    "        out.append(item)\n",
    "\n",
    "    return pd.DataFrame(out, columns=cols)"
   ]
  },
  {
   "cell_type": "code",
   "execution_count": 4,
   "metadata": {
    "tags": []
   },
   "outputs": [
    {
     "data": {
      "text/markdown": [
       "\n",
       "# About\n",
       "\n",
       "This is the introduction to the Ocean InfoHub Release Graph.   \n",
       "\n",
       "Besides this HTML file we would want to package\n",
       "\n",
       "* PDF version of this\n",
       "* the graphs\n",
       "* the original Jupyter Notebook that builds the HTML and PDF\n",
       "* any JSON-LD frames or SHACL files used in generating this document"
      ],
      "text/plain": [
       "<IPython.core.display.Markdown object>"
      ]
     },
     "execution_count": 4,
     "metadata": {},
     "output_type": "execute_result"
    }
   ],
   "source": [
    "%%jmd\n",
    "\n",
    "# About\n",
    "\n",
    "This is the introduction to the Ocean InfoHub Release Graph.   \n",
    "\n",
    "Besides this HTML file we would want to package\n",
    "\n",
    "* PDF version of this\n",
    "* the graphs\n",
    "* the original Jupyter Notebook that builds the HTML and PDF\n",
    "* any JSON-LD frames or SHACL files used in generating this document\n"
   ]
  },
  {
   "cell_type": "code",
   "execution_count": 5,
   "metadata": {},
   "outputs": [
    {
     "data": {
      "text/markdown": [
       "\n",
       "# First Section\n",
       "\n",
       "This is our first section. We use so called **Jinja Markdown** here.\n",
       "It allows us to combine Markdown with Python variables and makes\n",
       "for a more dynamic report.\n",
       "\n",
       "We can for example print pandas version such as this: 1.5.3."
      ],
      "text/plain": [
       "<IPython.core.display.Markdown object>"
      ]
     },
     "execution_count": 5,
     "metadata": {},
     "output_type": "execute_result"
    }
   ],
   "source": [
    "%%jmd\n",
    "\n",
    "# First Section\n",
    "\n",
    "This is our first section. We use so called **Jinja Markdown** here.\n",
    "It allows us to combine Markdown with Python variables and makes\n",
    "for a more dynamic report.\n",
    "\n",
    "We can for example print pandas version such as this: {{ pd.__version__ }}."
   ]
  },
  {
   "cell_type": "code",
   "execution_count": 6,
   "metadata": {},
   "outputs": [
    {
     "data": {
      "text/html": [
       "<div>\n",
       "<style scoped>\n",
       "    .dataframe tbody tr th:only-of-type {\n",
       "        vertical-align: middle;\n",
       "    }\n",
       "\n",
       "    .dataframe tbody tr th {\n",
       "        vertical-align: top;\n",
       "    }\n",
       "\n",
       "    .dataframe thead th {\n",
       "        text-align: right;\n",
       "    }\n",
       "</style>\n",
       "<table border=\"1\" class=\"dataframe\">\n",
       "  <thead>\n",
       "    <tr style=\"text-align: right;\">\n",
       "      <th></th>\n",
       "      <th>col1</th>\n",
       "      <th>col2</th>\n",
       "    </tr>\n",
       "  </thead>\n",
       "  <tbody>\n",
       "    <tr>\n",
       "      <th>0</th>\n",
       "      <td>1</td>\n",
       "      <td>cat1</td>\n",
       "    </tr>\n",
       "    <tr>\n",
       "      <th>1</th>\n",
       "      <td>2</td>\n",
       "      <td>cat2</td>\n",
       "    </tr>\n",
       "    <tr>\n",
       "      <th>2</th>\n",
       "      <td>3</td>\n",
       "      <td>cat1</td>\n",
       "    </tr>\n",
       "    <tr>\n",
       "      <th>3</th>\n",
       "      <td>4</td>\n",
       "      <td>cat2</td>\n",
       "    </tr>\n",
       "  </tbody>\n",
       "</table>\n",
       "</div>"
      ],
      "text/plain": [
       "   col1  col2\n",
       "0     1  cat1\n",
       "1     2  cat2\n",
       "2     3  cat1\n",
       "3     4  cat2"
      ]
     },
     "execution_count": 6,
     "metadata": {},
     "output_type": "execute_result"
    }
   ],
   "source": [
    "# we create a simple dataframe for demonstration purposes\n",
    "data = pd.DataFrame({\"col1\": [1, 2, 3, 4], \"col2\": [\"cat1\", \"cat2\", \"cat1\", \"cat2\"]})\n",
    "\n",
    "data.head()"
   ]
  },
  {
   "cell_type": "code",
   "execution_count": 7,
   "metadata": {},
   "outputs": [
    {
     "data": {
      "text/markdown": [
       "\n",
       "# Tabset Root\n",
       "<span class='pj-token' style='display: none;'>.tabset|O_O|.tabset-pills</span>\n",
       "\n",
       "The content of this section will be shown as tabs. This will help us avoid potential scrolling and improve the HTML UI.\n",
       "\n",
       "## First Tab\n",
       "In the first tab, we can show some graphs or tables. We can output the table like this:\n",
       "\n",
       "<table border=\"1\" class=\"dataframe\">\n",
       "  <thead>\n",
       "    <tr style=\"text-align: right;\">\n",
       "      <th></th>\n",
       "      <th>col1</th>\n",
       "      <th>col2</th>\n",
       "    </tr>\n",
       "  </thead>\n",
       "  <tbody>\n",
       "    <tr>\n",
       "      <th>0</th>\n",
       "      <td>1</td>\n",
       "      <td>cat1</td>\n",
       "    </tr>\n",
       "    <tr>\n",
       "      <th>1</th>\n",
       "      <td>2</td>\n",
       "      <td>cat2</td>\n",
       "    </tr>\n",
       "    <tr>\n",
       "      <th>2</th>\n",
       "      <td>3</td>\n",
       "      <td>cat1</td>\n",
       "    </tr>\n",
       "    <tr>\n",
       "      <th>3</th>\n",
       "      <td>4</td>\n",
       "      <td>cat2</td>\n",
       "    </tr>\n",
       "  </tbody>\n",
       "</table>\n",
       "\n",
       "## Second Tab\n",
       "In the second tab, we can do the same. Btw maths also works in the tabs.\n",
       "\n",
       "##\n",
       "<span class='pj-token' style='display: none;'>.unlisted|O_O|.unnumbered</span>\n",
       "\n",
       "# Not a Tabset\n",
       "This section will not be tabbed because it has the same level (or higher) as the Tabset Root."
      ],
      "text/plain": [
       "<IPython.core.display.Markdown object>"
      ]
     },
     "execution_count": 7,
     "metadata": {},
     "output_type": "execute_result"
    }
   ],
   "source": [
    "%%jmd\n",
    "\n",
    "# Tabset Root\n",
    "[//]: # (-.- .tabset .tabset-pills)\n",
    "\n",
    "The content of this section will be shown as tabs. This will help us avoid potential scrolling and improve the HTML UI.\n",
    "\n",
    "## First Tab\n",
    "In the first tab, we can show some graphs or tables. We can output the table like this:\n",
    "\n",
    "{{ data.head().to_html() }}\n",
    "\n",
    "## Second Tab\n",
    "In the second tab, we can do the same. Btw maths also works in the tabs.\n",
    "\n",
    "##\n",
    "[//]: # (-.- .unlisted .unnumbered)\n",
    "\n",
    "# Not a Tabset\n",
    "This section will not be tabbed because it has the same level (or higher) as the Tabset Root."
   ]
  },
  {
   "cell_type": "markdown",
   "metadata": {
    "tags": []
   },
   "source": [
    "\n",
    "## Providers\n",
    "\n",
    "| name (graph alias)                                                                                                                                                                              | catalog | logo |\n",
    "|-------------------------------------------------------------------------------------------------------------------------------------------------------------------------------------------------|:-------:|-----:|\n",
    "| [IOC Africa Data Portal](https://ioc-africa.org) (africaioc)                                                                                                                       | [catlog](https://ioc-africa.org/dbs/displayData.php) | <img src='https://ioc-africa.org/dbs/images/unesco_ioc_logo.png' width='100'>|\n",
    "| [AquaDocs](https://aquadocs.org) (aquadocs)                                                                                                                                        | [catlog](https://aquadocs.org/discover) | <img src='https://aquadocs.org/themes/OR//images/repo-logo.png' width='100'>|\n",
    "| [Better Biomolecular Ocean Practices (BeBOP) as part of Ocean Biomolecular Observing Network (OBON)](https://oceandecade.org/actions/better-biomolecular-ocean-practices/) (bebop) | [catlog](https://github.com/BeBOP-OBON/odis-interface) | <img src='https://en.unesco.org/sites/default/files/styles/banner_sec_col_234x100/public/logo_decade_ocean_science_en.jpg' width='100'>|\n",
    "| [Benguela Current Convention (BCC) GeoData Portal](https://www.benguelacc.org/) (benguelacc)                                                                                       | [catlog](https://geodata.benguelacc.org/) | <img src='https://static.tildacdn.com/tild3263-3132-4937-a166-373963646533/Skjermbilde_2020-12-.png' width='100'>|\n",
    "| [Caribbean Marine Atlas catalogue](https://www.caribbeanmarineatlas.net/) (caribbeanmarineatlas)                                                                                   | [catlog](https://www.caribbeanmarineatlas.net/home/) | <img src='https://www.caribbeanmarineatlas.net/static/cma2/landing_page/images/logotipo_CMA_2019.svg' width='100'>|\n",
    "| [CIOOS](https://cioos.ca/) (cioos)                                                                                                                                                 | [catlog](https://catalogue.cioos.ca/) | <img src='https://cioos.ca/wp-content/themes/cioos-siooc-wordpress-theme/img/national/cioos-national_EN.svg' width='100'>|\n",
    "| [European Directory of Marine Environmental Research Projects (EDMERP) SeaDataNet](https://edmerp.seadatanet.org) (edmerp)                                                         | [catlog](https://edmerp.seadatanet.org/search) | <img src='https://edmerp.seadatanet.org/grfx/edmerp/logo_big.png' width='100'>|\n",
    "| [European Directory of Marine Organisations (EDMO) SeaDataNet](https://edmo.seadatanet.org) (edmo)                                                                                 | [catlog](https://edmo.seadatanet.org/search) | <img src='https://edmo.seadatanet.org/grfx/edmo/logo.png' width='100'>|\n",
    "| [EurOcean Organizations](https://infohub.eurocean.net/) (euroceanorgs)                                                                                                             | [catlog](https://infohub.eurocean.net/data/organizations) | <img src='https://infohub.eurocean.net/images/under_constrution/eurOcean-logo-color.png' width='100'>|\n",
    "| [EurOcean Projects](https://infohub.eurocean.net/) (euroceanprojects)                                                                                                              | [catlog](https://infohub.eurocean.net/data/projects) | <img src='https://infohub.eurocean.net/images/under_constrution/eurOcean-logo-color.png' width='100'>|\n",
    "| [EurOcean Vessels](https://infohub.eurocean.net/) (euroceanvessels)                                                                                                                | [catlog](https://infohub.eurocean.net/data/vessels) | <img src='https://infohub.eurocean.net/images/under_constrution/eurOcean-logo-color.png' width='100'>|\n",
    "| [European Marine Observation and Data Network catalogue](https://emodnet.ec.europa.eu/) (emodnet)                                                                                  | [catlog](https://emodnet.ec.europa.eu/geonetwork/srv/eng/catalog.search#/home) | <img src='https://emodnet.ec.europa.eu/sites/emodnet.ec.europa.eu/themes/emodnet/component-library/ec/static/media/logo--en.5055ef4f.svg' width='100'>|\n",
    "| [Indonesia National Oceanic Data Center](https://nodc.id) (inanodc)                                                                                                                | [catlog](https://geonode.nodc.id) | <img src='https://nodc.id/dist/img/brin.png' width='100'>|\n",
    "| [CHM LAC - Documents](http://portete.invemar.org.co) (invemardocuments)                                                                                                            | [catlog](http://portete.invemar.org.co/chm/) | <img src='http://portete.invemar.org.co/static/images/logo-web.svg' width='100'>|\n",
    "| [CHM LAC - Experts](http://portete.invemar.org.co) (invemarexperts)                                                                                                                | [catlog](http://portete.invemar.org.co/chm/) | <img src='http://portete.invemar.org.co/static/images/logo-web.svg' width='100'>|\n",
    "| [CHM LAC - Institutions](http://portete.invemar.org.co) (invemarinstitutions)                                                                                                      | [catlog](http://portete.invemar.org.co/chm/) | <img src='http://portete.invemar.org.co/static/images/logo-web.svg' width='100'>|\n",
    "| [CHM LAC - Training](http://portete.invemar.org.co) (invemartraining)                                                                                                              | [catlog](http://portete.invemar.org.co/chm/) | <img src='http://portete.invemar.org.co/static/images/logo-web.svg' width='100'>|\n",
    "| [CHM LAC - Vessels](http://portete.invemar.org.co) (invemarvessels)                                                                                                                | [catlog](http://portete.invemar.org.co/chm/) | <img src='http://portete.invemar.org.co/static/images/logo-web.svg' width='100'>|\n",
    "| [Marine Training EU](https://marinetraining.eu/) (marinetraining)                                                                                                                  | [catlog](https://marinetraining.eu/search) | <img src='https://marinetraining.eu/sites/default/files/M2.0.png' width='100'>|\n",
    "| [MASPAWIO - Marine Spatial Atlas for the Western Indian Ocean](https://cordioea.net/) (maspawio)                                                                                   | [catlog](http://maspawio.net/) | <img src='https://cordioea.net/wp-content/uploads/2017/09/Geonde.png' width='100'>|\n",
    "| [Ocean Biodiversity Information System](https://obis.org) (obis)                                                                                                                   | [catlog](https://obis.org) | <img src='https://obis.org/images/logo.png' width='100'>|"
   ]
  },
  {
   "cell_type": "code",
   "execution_count": 8,
   "metadata": {
    "tags": []
   },
   "outputs": [],
   "source": [
    "rq_pcount = \"\"\"SELECT ?p (COUNT(?p) as ?pCount)\n",
    "WHERE\n",
    "{\n",
    "  ?s ?p ?o .\n",
    "}\n",
    "GROUP BY ?p\n",
    "\"\"\"\n",
    "dfc = get_sparql_dataframe(sparqlep, rq_pcount)\n",
    "dfc['pCount'] = dfc[\"pCount\"].astype(int) # convert count to int\n",
    "# dfc.set_index('p', inplace=True)\n",
    "dfc_sorted = dfc.sort_values('pCount', ascending=False)\n"
   ]
  },
  {
   "cell_type": "code",
   "execution_count": 9,
   "metadata": {
    "tags": []
   },
   "outputs": [
    {
     "data": {
      "text/markdown": [
       "\n",
       "## countByLicense.rq\n",
       "<table border=\"1\" class=\"dataframe\">\n",
       "  <thead>\n",
       "    <tr style=\"text-align: right;\">\n",
       "      <th></th>\n",
       "      <th>p</th>\n",
       "      <th>pCount</th>\n",
       "    </tr>\n",
       "  </thead>\n",
       "  <tbody>\n",
       "    <tr>\n",
       "      <th>154</th>\n",
       "      <td>http://www.w3.org/1999/02/22-rdf-syntax-ns#type</td>\n",
       "      <td>7914266</td>\n",
       "    </tr>\n",
       "    <tr>\n",
       "      <th>75</th>\n",
       "      <td>http://www.w3.org/ns/prov#value</td>\n",
       "      <td>2554814</td>\n",
       "    </tr>\n",
       "    <tr>\n",
       "      <th>74</th>\n",
       "      <td>http://www.w3.org/ns/prov#used</td>\n",
       "      <td>1277407</td>\n",
       "    </tr>\n",
       "    <tr>\n",
       "      <th>73</th>\n",
       "      <td>http://www.w3.org/ns/prov#hadMember</td>\n",
       "      <td>1277407</td>\n",
       "    </tr>\n",
       "    <tr>\n",
       "      <th>72</th>\n",
       "      <td>http://www.w3.org/ns/prov#generated</td>\n",
       "      <td>1277407</td>\n",
       "    </tr>\n",
       "  </tbody>\n",
       "</table>"
      ],
      "text/plain": [
       "<IPython.core.display.Markdown object>"
      ]
     },
     "execution_count": 9,
     "metadata": {},
     "output_type": "execute_result"
    }
   ],
   "source": [
    "%%jmd\n",
    "\n",
    "## countByLicense.rq\n",
    "{{ dfc_sorted.head().to_html() }}"
   ]
  },
  {
   "cell_type": "code",
   "execution_count": null,
   "metadata": {},
   "outputs": [],
   "source": []
  }
 ],
 "metadata": {
  "kernelspec": {
   "display_name": "Python 3 (ipykernel)",
   "language": "python",
   "name": "python3"
  },
  "language_info": {
   "codemirror_mode": {
    "name": "ipython",
    "version": 3
   },
   "file_extension": ".py",
   "mimetype": "text/x-python",
   "name": "python",
   "nbconvert_exporter": "python",
   "pygments_lexer": "ipython3",
   "version": "3.10.8"
  }
 },
 "nbformat": 4,
 "nbformat_minor": 4
}
