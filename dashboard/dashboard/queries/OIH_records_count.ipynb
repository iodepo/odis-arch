{
 "cells": [
  {
   "cell_type": "markdown",
   "id": "bc053107",
   "metadata": {},
   "source": [
    "# OIH Queries \n",
    "\n",
    "What follows are some example SPARQL queries used in OIH for the test interface\n"
   ]
  },
  {
   "cell_type": "markdown",
   "id": "6e2db460",
   "metadata": {
    "tags": []
   },
   "source": [
    "## Setup and inits"
   ]
  },
  {
   "cell_type": "markdown",
   "id": "fe360cfb",
   "metadata": {},
   "source": [
    "### Imports"
   ]
  },
  {
   "cell_type": "code",
   "execution_count": 5,
   "id": "18cc5c27",
   "metadata": {},
   "outputs": [],
   "source": [
    "from SPARQLWrapper import SPARQLWrapper, JSON\n",
    "import pandas as pd\n",
    "# import dask, boto3\n",
    "# import dask.dataframe as dd\n",
    "import numpy as np\n",
    "import json\n",
    "import geopandas\n",
    "import matplotlib.pyplot as plt\n",
    "import shapely\n",
    "# import kglab as kg\n",
    "\n",
    "oih = \"https://ts.collaborium.io/blazegraph/namespace/oih/sparql\"\n",
    "oihdev = \"https://ts.collaborium.io/blazegraph/namespace/development/sparql\"\n",
    "oihinvemar = \"https://ts.collaborium.io/blazegraph/namespace/invemar/sparql\"\n",
    "oihad = \"https://graph.collaborium.io/blazegraph/namespace/aquadocs/sparql\""
   ]
  },
  {
   "cell_type": "markdown",
   "id": "9dd04c65",
   "metadata": {},
   "source": [
    "### Support Functions"
   ]
  },
  {
   "cell_type": "code",
   "execution_count": 6,
   "id": "c82ffba9",
   "metadata": {},
   "outputs": [],
   "source": [
    "#@title\n",
    "def get_sparql_dataframe(service, query):\n",
    "    \"\"\"\n",
    "    Helper function to convert SPARQL results into a Pandas data frame.\n",
    "    \"\"\"\n",
    "    sparql = SPARQLWrapper(service)\n",
    "    sparql.setQuery(query)\n",
    "    sparql.setReturnFormat(JSON)\n",
    "    result = sparql.query()\n",
    "\n",
    "    processed_results = json.load(result.response)\n",
    "    cols = processed_results['head']['vars']\n",
    "\n",
    "    out = []\n",
    "    for row in processed_results['results']['bindings']:\n",
    "        item = []\n",
    "        for c in cols:\n",
    "            item.append(row.get(c, {}).get('value'))\n",
    "        out.append(item)\n",
    "\n",
    "    return pd.DataFrame(out, columns=cols)"
   ]
  },
  {
   "cell_type": "markdown",
   "id": "012c531f",
   "metadata": {},
   "source": [
    "## Queries\n",
    "\n",
    "What follows is a set of queries designed to provide a feel for the OIH graph"
   ]
  },
  {
   "cell_type": "markdown",
   "id": "e084e5f4",
   "metadata": {},
   "source": [
    "### Simple Count\n",
    "\n",
    "How many triples are there?"
   ]
  },
  {
   "cell_type": "code",
   "execution_count": 7,
   "id": "78663f4e",
   "metadata": {},
   "outputs": [],
   "source": [
    "rq_count = \"\"\"SELECT (COUNT(*) as ?Triples) \n",
    "WHERE \n",
    "  {\n",
    "      { ?s ?p ?o } \n",
    "  }\n",
    "\"\"\""
   ]
  },
  {
   "cell_type": "code",
   "execution_count": 8,
   "id": "78c06ad2",
   "metadata": {},
   "outputs": [
    {
     "data": {
      "text/html": [
       "<div>\n",
       "<style scoped>\n",
       "    .dataframe tbody tr th:only-of-type {\n",
       "        vertical-align: middle;\n",
       "    }\n",
       "\n",
       "    .dataframe tbody tr th {\n",
       "        vertical-align: top;\n",
       "    }\n",
       "\n",
       "    .dataframe thead th {\n",
       "        text-align: right;\n",
       "    }\n",
       "</style>\n",
       "<table border=\"1\" class=\"dataframe\">\n",
       "  <thead>\n",
       "    <tr style=\"text-align: right;\">\n",
       "      <th></th>\n",
       "      <th>Triples</th>\n",
       "    </tr>\n",
       "  </thead>\n",
       "  <tbody>\n",
       "    <tr>\n",
       "      <th>0</th>\n",
       "      <td>6712460</td>\n",
       "    </tr>\n",
       "  </tbody>\n",
       "</table>\n",
       "</div>"
      ],
      "text/plain": [
       "   Triples\n",
       "0  6712460"
      ]
     },
     "execution_count": 8,
     "metadata": {},
     "output_type": "execute_result"
    }
   ],
   "source": [
    "dfsc = get_sparql_dataframe(oihdev, rq_count)\n",
    "dfsc.head()"
   ]
  },
  {
   "cell_type": "code",
   "execution_count": null,
   "id": "854354bb",
   "metadata": {},
   "outputs": [],
   "source": []
  }
 ],
 "metadata": {
  "interpreter": {
   "hash": "884008db010a4da72f62f471ce341f5399c2c405d8eebc0270fe261741869d85"
  },
  "kernelspec": {
   "display_name": "Python 3 (ipykernel)",
   "language": "python",
   "name": "python3"
  },
  "language_info": {
   "codemirror_mode": {
    "name": "ipython",
    "version": 3
   },
   "file_extension": ".py",
   "mimetype": "text/x-python",
   "name": "python",
   "nbconvert_exporter": "python",
   "pygments_lexer": "ipython3",
   "version": "3.9.12"
  }
 },
 "nbformat": 4,
 "nbformat_minor": 5
}
