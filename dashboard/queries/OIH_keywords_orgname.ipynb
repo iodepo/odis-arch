{
 "cells": [
  {
   "cell_type": "markdown",
   "id": "bc053107",
   "metadata": {},
   "source": [
    "# OIH Queries \n",
    "\n",
    "What follows are some example SPARQL queries used in OIH for the test interface\n"
   ]
  },
  {
   "cell_type": "markdown",
   "id": "6e2db460",
   "metadata": {
    "tags": []
   },
   "source": [
    "## Setup and inits"
   ]
  },
  {
   "cell_type": "markdown",
   "id": "fe360cfb",
   "metadata": {},
   "source": [
    "### Imports"
   ]
  },
  {
   "cell_type": "code",
   "execution_count": 5,
   "id": "18cc5c27",
   "metadata": {},
   "outputs": [],
   "source": [
    "from SPARQLWrapper import SPARQLWrapper, JSON\n",
    "import pandas as pd\n",
    "#import dask, boto3\n",
    "#import dask.dataframe as dd\n",
    "import numpy as np\n",
    "import json\n",
    "import geopandas\n",
    "import matplotlib.pyplot as plt\n",
    "import shapely\n",
    "# import kglab as kg\n",
    "\n",
    "oih = \"https://ts.collaborium.io/blazegraph/namespace/oih/sparql\"\n",
    "oihdev = \"https://ts.collaborium.io/blazegraph/namespace/development/sparql\"\n",
    "oihinvemar = \"https://ts.collaborium.io/blazegraph/namespace/invemar/sparql\"\n",
    "oihad = \"https://graph.collaborium.io/blazegraph/namespace/aquadocs/sparql\""
   ]
  },
  {
   "cell_type": "markdown",
   "id": "9dd04c65",
   "metadata": {},
   "source": [
    "### Support Functions"
   ]
  },
  {
   "cell_type": "code",
   "execution_count": 6,
   "id": "c82ffba9",
   "metadata": {},
   "outputs": [],
   "source": [
    "#@title\n",
    "def get_sparql_dataframe(service, query):\n",
    "    \"\"\"\n",
    "    Helper function to convert SPARQL results into a Pandas data frame.\n",
    "    \"\"\"\n",
    "    sparql = SPARQLWrapper(service)\n",
    "    sparql.setQuery(query)\n",
    "    sparql.setReturnFormat(JSON)\n",
    "    result = sparql.query()\n",
    "\n",
    "    processed_results = json.load(result.response)\n",
    "    cols = processed_results['head']['vars']\n",
    "\n",
    "    out = []\n",
    "    for row in processed_results['results']['bindings']:\n",
    "        item = []\n",
    "        for c in cols:\n",
    "            item.append(row.get(c, {}).get('value'))\n",
    "        out.append(item)\n",
    "\n",
    "    return pd.DataFrame(out, columns=cols)"
   ]
  },
  {
   "cell_type": "markdown",
   "id": "012c531f",
   "metadata": {},
   "source": [
    "## Queries\n",
    "\n",
    "What follows is a set of queries designed to provide a feel for the OIH graph"
   ]
  },
  {
   "cell_type": "markdown",
   "id": "e2afc203-81b2-4492-baab-d3f29459e74e",
   "metadata": {},
   "source": [
    "## Keywords"
   ]
  },
  {
   "cell_type": "code",
   "execution_count": 7,
   "id": "559a0ee6-bc1b-446b-b537-34629b4698b0",
   "metadata": {},
   "outputs": [],
   "source": [
    "rq_keywords = \"\"\"prefix prov: <http://www.w3.org/ns/prov#>\n",
    "        PREFIX con: <http://www.ontotext.com/connectors/lucene#>\n",
    "        PREFIX luc: <http://www.ontotext.com/owlim/lucene#>\n",
    "        PREFIX con-inst: <http://www.ontotext.com/connectors/lucene/instance#>\n",
    "        PREFIX rdfs: <http://www.w3.org/2000/01/rdf-schema#>\n",
    "        PREFIX schema: <https://schema.org/>\n",
    "        PREFIX schemaold: <http://schema.org/>\n",
    "        PREFIX rdf: <http://www.w3.org/1999/02/22-rdf-syntax-ns#>\n",
    "\n",
    "       SELECT   ( COUNT(?kw) as ?count) ?kw ?wat ?orgname\n",
    "        WHERE\n",
    "        {\n",
    "           ?s schema:keywords ?kw .\n",
    "           ?wat rdf:name ?orgname .\n",
    "           FILTER (?orgname = \"Ocean Biodiversity Information System\") .\n",
    "        }\n",
    "        GROUP BY ?kw ?wat ?orgname\n",
    "        ORDER BY DESC(?count)\n",
    "        \"\"\"\n"
   ]
  },
  {
   "cell_type": "code",
   "execution_count": 8,
   "id": "2a5bf18b-d377-47e1-a194-53f3998c937d",
   "metadata": {},
   "outputs": [
    {
     "data": {
      "text/html": [
       "<div>\n",
       "<style scoped>\n",
       "    .dataframe tbody tr th:only-of-type {\n",
       "        vertical-align: middle;\n",
       "    }\n",
       "\n",
       "    .dataframe tbody tr th {\n",
       "        vertical-align: top;\n",
       "    }\n",
       "\n",
       "    .dataframe thead th {\n",
       "        text-align: right;\n",
       "    }\n",
       "</style>\n",
       "<table border=\"1\" class=\"dataframe\">\n",
       "  <thead>\n",
       "    <tr style=\"text-align: right;\">\n",
       "      <th></th>\n",
       "      <th>count</th>\n",
       "      <th>wat</th>\n",
       "      <th>orgname</th>\n",
       "    </tr>\n",
       "    <tr>\n",
       "      <th>kw</th>\n",
       "      <th></th>\n",
       "      <th></th>\n",
       "      <th></th>\n",
       "    </tr>\n",
       "  </thead>\n",
       "  <tbody>\n",
       "    <tr>\n",
       "      <th>Fisheries</th>\n",
       "      <td>14655</td>\n",
       "      <td>https://www.re3data.org/repository/obis</td>\n",
       "      <td>Ocean Biodiversity Information System</td>\n",
       "    </tr>\n",
       "    <tr>\n",
       "      <th>Biology</th>\n",
       "      <td>6950</td>\n",
       "      <td>https://www.re3data.org/repository/obis</td>\n",
       "      <td>Ocean Biodiversity Information System</td>\n",
       "    </tr>\n",
       "    <tr>\n",
       "      <th>Occurrence</th>\n",
       "      <td>6819</td>\n",
       "      <td>https://www.re3data.org/repository/obis</td>\n",
       "      <td>Ocean Biodiversity Information System</td>\n",
       "    </tr>\n",
       "    <tr>\n",
       "      <th>Observation</th>\n",
       "      <td>5311</td>\n",
       "      <td>https://www.re3data.org/repository/obis</td>\n",
       "      <td>Ocean Biodiversity Information System</td>\n",
       "    </tr>\n",
       "    <tr>\n",
       "      <th>Aquaculture</th>\n",
       "      <td>3932</td>\n",
       "      <td>https://www.re3data.org/repository/obis</td>\n",
       "      <td>Ocean Biodiversity Information System</td>\n",
       "    </tr>\n",
       "    <tr>\n",
       "      <th>Ecology</th>\n",
       "      <td>3516</td>\n",
       "      <td>https://www.re3data.org/repository/obis</td>\n",
       "      <td>Ocean Biodiversity Information System</td>\n",
       "    </tr>\n",
       "    <tr>\n",
       "      <th>GCFI</th>\n",
       "      <td>2952</td>\n",
       "      <td>https://www.re3data.org/repository/obis</td>\n",
       "      <td>Ocean Biodiversity Information System</td>\n",
       "    </tr>\n",
       "    <tr>\n",
       "      <th>Iran</th>\n",
       "      <td>2794</td>\n",
       "      <td>https://www.re3data.org/repository/obis</td>\n",
       "      <td>Ocean Biodiversity Information System</td>\n",
       "    </tr>\n",
       "    <tr>\n",
       "      <th>Management</th>\n",
       "      <td>2603</td>\n",
       "      <td>https://www.re3data.org/repository/obis</td>\n",
       "      <td>Ocean Biodiversity Information System</td>\n",
       "    </tr>\n",
       "    <tr>\n",
       "      <th>Limnology</th>\n",
       "      <td>1675</td>\n",
       "      <td>https://www.re3data.org/repository/obis</td>\n",
       "      <td>Ocean Biodiversity Information System</td>\n",
       "    </tr>\n",
       "  </tbody>\n",
       "</table>\n",
       "</div>"
      ],
      "text/plain": [
       "             count                                      wat  \\\n",
       "kw                                                            \n",
       "Fisheries    14655  https://www.re3data.org/repository/obis   \n",
       "Biology       6950  https://www.re3data.org/repository/obis   \n",
       "Occurrence    6819  https://www.re3data.org/repository/obis   \n",
       "Observation   5311  https://www.re3data.org/repository/obis   \n",
       "Aquaculture   3932  https://www.re3data.org/repository/obis   \n",
       "Ecology       3516  https://www.re3data.org/repository/obis   \n",
       "GCFI          2952  https://www.re3data.org/repository/obis   \n",
       "Iran          2794  https://www.re3data.org/repository/obis   \n",
       "Management    2603  https://www.re3data.org/repository/obis   \n",
       "Limnology     1675  https://www.re3data.org/repository/obis   \n",
       "\n",
       "                                           orgname  \n",
       "kw                                                  \n",
       "Fisheries    Ocean Biodiversity Information System  \n",
       "Biology      Ocean Biodiversity Information System  \n",
       "Occurrence   Ocean Biodiversity Information System  \n",
       "Observation  Ocean Biodiversity Information System  \n",
       "Aquaculture  Ocean Biodiversity Information System  \n",
       "Ecology      Ocean Biodiversity Information System  \n",
       "GCFI         Ocean Biodiversity Information System  \n",
       "Iran         Ocean Biodiversity Information System  \n",
       "Management   Ocean Biodiversity Information System  \n",
       "Limnology    Ocean Biodiversity Information System  "
      ]
     },
     "execution_count": 8,
     "metadata": {},
     "output_type": "execute_result"
    }
   ],
   "source": [
    "dfkw = get_sparql_dataframe(oihdev, rq_keywords)\n",
    "dfkw['count'] = dfkw[\"count\"].astype(int) # convert count c to int\n",
    "dfkw.set_index('kw', inplace=True)\n",
    "dfkw.head(10)"
   ]
  },
  {
   "cell_type": "code",
   "execution_count": null,
   "id": "4a221cd9",
   "metadata": {},
   "outputs": [],
   "source": []
  }
 ],
 "metadata": {
  "interpreter": {
   "hash": "884008db010a4da72f62f471ce341f5399c2c405d8eebc0270fe261741869d85"
  },
  "kernelspec": {
   "display_name": "Python 3 (ipykernel)",
   "language": "python",
   "name": "python3"
  },
  "language_info": {
   "codemirror_mode": {
    "name": "ipython",
    "version": 3
   },
   "file_extension": ".py",
   "mimetype": "text/x-python",
   "name": "python",
   "nbconvert_exporter": "python",
   "pygments_lexer": "ipython3",
   "version": "3.9.12"
  }
 },
 "nbformat": 4,
 "nbformat_minor": 5
}
