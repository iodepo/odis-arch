{
 "cells": [
  {
   "cell_type": "code",
   "id": "initial_id",
   "metadata": {
    "collapsed": true,
    "ExecuteTime": {
     "end_time": "2025-01-31T20:23:34.343953Z",
     "start_time": "2025-01-31T20:23:30.835591Z"
    }
   },
   "source": [
    "from io import StringIO\n",
    "import polars as pl\n",
    "import requests\n",
    "import kuzu\n",
    "from ipysigma import Sigma\n",
    "import networkx as nx\n",
    "import igraph as ig"
   ],
   "outputs": [],
   "execution_count": 1
  },
  {
   "metadata": {
    "ExecuteTime": {
     "end_time": "2025-01-31T20:23:34.414177Z",
     "start_time": "2025-01-31T20:23:34.410459Z"
    }
   },
   "cell_type": "code",
   "source": [
    "def query_mode(source,   query):\n",
    "    params = {\n",
    "        \"timeout\": \"600s\",\n",
    "        \"access-token\": \"doos_7643543846_6dMISzlPrD7i\"\n",
    "    }\n",
    "    headers = {\n",
    "        \"Accept\": \"text/csv\",\n",
    "        \"Content-type\": \"application/sparql-query\"\n",
    "    }\n",
    "\n",
    "    # Read the SPARQL query from file\n",
    "    with open(query, \"r\") as file:\n",
    "        query = file.read()\n",
    "\n",
    "    # Send the request\n",
    "    response = requests.post(source, params=params, headers=headers, data=query)\n",
    "\n",
    "    # Load response into Polars DataFrame\n",
    "    df = pl.read_csv(StringIO(response.text))\n",
    "\n",
    "    return df"
   ],
   "id": "d90f2e9c9d7e9125",
   "outputs": [],
   "execution_count": 2
  },
  {
   "metadata": {
    "ExecuteTime": {
     "end_time": "2025-01-31T20:23:41.432148Z",
     "start_time": "2025-01-31T20:23:39.874200Z"
    }
   },
   "cell_type": "code",
   "source": [
    "source = \"http://0.0.0.0:7019\"\n",
    "query = \"/home/fils/scratch/qleverflow/queries/keywordsPathSearch.rq\"\n",
    "df = query_mode(source, query)"
   ],
   "id": "8d76d08d05808e29",
   "outputs": [],
   "execution_count": 3
  },
  {
   "metadata": {
    "ExecuteTime": {
     "end_time": "2025-01-31T20:23:50.430824Z",
     "start_time": "2025-01-31T20:23:50.354156Z"
    }
   },
   "cell_type": "code",
   "source": [
    "combined_uniques = (\n",
    "        df\n",
    "        .select([\n",
    "            pl.concat_list([pl.col('source'), pl.col('target')])\n",
    "            .alias('nodes')\n",
    "        ])\n",
    "        .select([\n",
    "            pl.col('nodes').explode().unique().sort()\n",
    "        ])\n",
    "    ).drop_nulls()    #   .to_series().to_list()"
   ],
   "id": "e38cd742db714eb",
   "outputs": [],
   "execution_count": 4
  },
  {
   "metadata": {
    "ExecuteTime": {
     "end_time": "2025-01-31T20:24:28.601077Z",
     "start_time": "2025-01-31T20:24:28.595475Z"
    }
   },
   "cell_type": "code",
   "source": "edge_df = df.select(['source', 'target']).drop_nulls()",
   "id": "98476119ba541c9d",
   "outputs": [],
   "execution_count": 5
  },
  {
   "metadata": {
    "ExecuteTime": {
     "end_time": "2025-01-31T20:24:36.826220Z",
     "start_time": "2025-01-31T20:24:36.787339Z"
    }
   },
   "cell_type": "code",
   "source": [
    "db = kuzu.Database()\n",
    "conn = kuzu.Connection(db)"
   ],
   "id": "b9106c8694bab1ca",
   "outputs": [],
   "execution_count": 6
  },
  {
   "metadata": {
    "ExecuteTime": {
     "end_time": "2025-01-31T20:24:44.384783Z",
     "start_time": "2025-01-31T20:24:44.371596Z"
    }
   },
   "cell_type": "code",
   "source": [
    "conn.execute(\"DROP TABLE IF EXISTS Relations\")\n",
    "conn.execute(\"DROP TABLE IF EXISTS Entity\")\n",
    "\n",
    "conn.execute(\"CREATE NODE TABLE Entity(nodes STRING, PRIMARY KEY (nodes))\")\n",
    "conn.execute(\"COPY Entity FROM combined_uniques\")\n",
    "conn.execute(\"CREATE REL TABLE Relations(FROM Entity TO Entity)\")\n",
    "conn.execute(\"COPY Relations FROM edge_df\")"
   ],
   "id": "226a1e37bf4f8522",
   "outputs": [
    {
     "data": {
      "text/plain": [
       "<kuzu.query_result.QueryResult at 0x76ac3da21a50>"
      ]
     },
     "execution_count": 7,
     "metadata": {},
     "output_type": "execute_result"
    }
   ],
   "execution_count": 7
  },
  {
   "metadata": {
    "ExecuteTime": {
     "end_time": "2025-01-31T20:34:59.766467Z",
     "start_time": "2025-01-31T20:34:59.763321Z"
    }
   },
   "cell_type": "code",
   "source": [
    "cq = \"\"\"MATCH (n1:Entity)-[r]->(n2:Entity)\n",
    "RETURN n1, n2, r\n",
    "LIMIT 5000\n",
    "\"\"\""
   ],
   "id": "2d7da3dce9f85ed6",
   "outputs": [],
   "execution_count": 20
  },
  {
   "metadata": {
    "ExecuteTime": {
     "end_time": "2025-01-31T20:35:00.178821Z",
     "start_time": "2025-01-31T20:35:00.162634Z"
    }
   },
   "cell_type": "code",
   "source": "r = conn.execute(cq)",
   "id": "20b93132ce801b42",
   "outputs": [],
   "execution_count": 21
  },
  {
   "metadata": {
    "ExecuteTime": {
     "end_time": "2025-01-31T20:35:00.541336Z",
     "start_time": "2025-01-31T20:35:00.491435Z"
    }
   },
   "cell_type": "code",
   "source": "G = r.get_as_networkx(directed=False)",
   "id": "f25804222d643466",
   "outputs": [],
   "execution_count": 22
  },
  {
   "metadata": {
    "ExecuteTime": {
     "end_time": "2025-01-31T20:35:01.159867Z",
     "start_time": "2025-01-31T20:35:01.037354Z"
    }
   },
   "cell_type": "code",
   "source": [
    "# sigma can work with a networkx graph to begin with\n",
    "Sigma(\n",
    "    G,\n",
    "    node_size=G.degree,\n",
    "    default_edge_type='curve',\n",
    "    node_border_color_from='node',\n",
    "    node_metrics=['louvain'],\n",
    "    node_color='louvain',\n",
    "    start_layout=5,\n",
    "    edge_size=lambda u, v: G.degree(u) + G.degree(v),\n",
    "    edge_size_range=(0.5, 5),\n",
    "    label_font='cursive',\n",
    "    node_label_size=G.degree,\n",
    "    label_density=0\n",
    ")"
   ],
   "id": "5c5c3b803a48b30a",
   "outputs": [
    {
     "data": {
      "text/plain": [
       "Sigma(nx.MultiGraph with 2,987 nodes and 5,000 edges)"
      ],
      "application/vnd.jupyter.widget-view+json": {
       "version_major": 2,
       "version_minor": 0,
       "model_id": "85483cb3227e4fe3a04fcd4a4a27dc83"
      }
     },
     "execution_count": 23,
     "metadata": {},
     "output_type": "execute_result"
    }
   ],
   "execution_count": 23
  },
  {
   "metadata": {},
   "cell_type": "code",
   "outputs": [],
   "execution_count": null,
   "source": "",
   "id": "186e5dc62741d1ce"
  }
 ],
 "metadata": {
  "kernelspec": {
   "display_name": "Python 3",
   "language": "python",
   "name": "python3"
  },
  "language_info": {
   "codemirror_mode": {
    "name": "ipython",
    "version": 2
   },
   "file_extension": ".py",
   "mimetype": "text/x-python",
   "name": "python",
   "nbconvert_exporter": "python",
   "pygments_lexer": "ipython2",
   "version": "2.7.6"
  }
 },
 "nbformat": 4,
 "nbformat_minor": 5
}
