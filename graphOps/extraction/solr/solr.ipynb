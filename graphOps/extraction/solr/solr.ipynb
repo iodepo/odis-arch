{
 "cells": [
  {
   "cell_type": "markdown",
   "metadata": {
    "tags": []
   },
   "source": [
    "# OIH Graph Pre-Processor - Solr\n",
    "\n",
    "## About\n",
    "This notebook demonstrates some approaches for processing the release graphs into a format that\n",
    "is useful for the Solr index\n"
   ]
  },
  {
   "cell_type": "markdown",
   "metadata": {},
   "source": [
    "### Imports and definitions"
   ]
  },
  {
   "cell_type": "code",
   "execution_count": 1,
   "metadata": {
    "ExecuteTime": {
     "end_time": "2023-08-29T16:55:32.446222811Z",
     "start_time": "2023-08-29T16:55:32.198659430Z"
    },
    "collapsed": false,
    "jupyter": {
     "outputs_hidden": false
    },
    "tags": []
   },
   "outputs": [],
   "source": [
    "import warnings\n",
    "warnings.simplefilter(action='ignore', category=FutureWarning)  ## remove pandas future warning\n",
    "import pandas as pd\n",
    "import geopandas as gpd\n",
    "from shapely import wkt\n",
    "# import s3fs\n",
    "import pyarrow.parquet as pq\n",
    "import shapely\n",
    "import os\n",
    "import re\n",
    "import json, io\n",
    "from pyld import jsonld\n",
    "import kglab\n",
    "from minio import Minio\n",
    "import rdflib\n",
    "from rdflib import ConjunctiveGraph  #  needed for nquads"
   ]
  },
  {
   "cell_type": "code",
   "execution_count": 2,
   "metadata": {
    "ExecuteTime": {
     "end_time": "2023-08-29T16:55:32.691616699Z",
     "start_time": "2023-08-29T16:55:32.687461639Z"
    },
    "collapsed": false,
    "jupyter": {
     "outputs_hidden": false
    },
    "tags": []
   },
   "outputs": [],
   "source": [
    "def publicurls(client, bucket, prefix):\n",
    "    urls = []\n",
    "    objects = client.list_objects(bucket, prefix=prefix, recursive=True)\n",
    "    for obj in objects:\n",
    "        result = client.stat_object(bucket, obj.object_name)\n",
    "\n",
    "        if result.size > 0:  #  how to tell if an objet   obj.is_public  ?????\n",
    "            url = client.presigned_get_object(bucket, obj.object_name)\n",
    "            # print(f\"Public URL for object: {url}\")\n",
    "            urls.append(url)\n",
    "\n",
    "    return urls"
   ]
  },
  {
   "cell_type": "code",
   "execution_count": 3,
   "metadata": {
    "ExecuteTime": {
     "end_time": "2023-08-29T16:55:34.386155258Z",
     "start_time": "2023-08-29T16:55:34.382720777Z"
    },
    "collapsed": false,
    "jupyter": {
     "outputs_hidden": false
    },
    "tags": []
   },
   "outputs": [],
   "source": [
    "def to_wkt(polygon_string):\n",
    "    # split the input string into pairs\n",
    "    pairs = polygon_string.split(',')\n",
    "\n",
    "    # transform each pair into 'y x' format\n",
    "    # transformed_pairs = [' '.join(reversed(pair.split())) for pair in pairs]\n",
    "    transformed_pairs = [' '.join(pair.split()) for pair in pairs]\n",
    "\n",
    "\n",
    "    # join the transformed pairs with a comma and a space\n",
    "    transformed_string = ', '.join(transformed_pairs)\n",
    "\n",
    "    # return the final WKT string\n",
    "    return f\"POLYGON (({transformed_string}))\""
   ]
  },
  {
   "cell_type": "code",
   "execution_count": 4,
   "metadata": {
    "ExecuteTime": {
     "end_time": "2023-08-29T16:24:02.077407141Z",
     "start_time": "2023-08-29T16:24:02.075358130Z"
    },
    "tags": []
   },
   "outputs": [],
   "source": [
    "# Check for using GPU, in case you want to ensure your GPU is used\n",
    "# gc = kglab.get_gpu_count()\n",
    "# print(gc)"
   ]
  },
  {
   "cell_type": "code",
   "execution_count": 5,
   "metadata": {
    "ExecuteTime": {
     "end_time": "2023-08-29T16:24:04.663996198Z",
     "start_time": "2023-08-29T16:24:02.497138481Z"
    },
    "collapsed": false,
    "jupyter": {
     "outputs_hidden": false
    },
    "tags": []
   },
   "outputs": [],
   "source": [
    "client = Minio(\"ossapi.oceaninfohub.org:80\",  secure=False) # Create client with anonymous access.\n",
    "urls = publicurls(client, \"public\", \"graph\")"
   ]
  },
  {
   "cell_type": "code",
   "execution_count": 6,
   "metadata": {
    "ExecuteTime": {
     "end_time": "2023-08-29T16:24:04.675082534Z",
     "start_time": "2023-08-29T16:24:04.664446482Z"
    },
    "collapsed": false,
    "jupyter": {
     "outputs_hidden": false
    },
    "tags": []
   },
   "outputs": [
    {
     "name": "stdout",
     "output_type": "stream",
     "text": [
      "['http://ossapi.oceaninfohub.org/public/graphs/summonedafricaioc_v1_release.nq', 'http://ossapi.oceaninfohub.org/public/graphs/summonedaquadocs_v1_release.nq', 'http://ossapi.oceaninfohub.org/public/graphs/summonedcioos_v1_release.nq', 'http://ossapi.oceaninfohub.org/public/graphs/summonededmerp_v1_release.nq', 'http://ossapi.oceaninfohub.org/public/graphs/summonededmo_v1_release.nq', 'http://ossapi.oceaninfohub.org/public/graphs/summonedemodnet_v1_release.nq', 'http://ossapi.oceaninfohub.org/public/graphs/summonedinanodc_v1_release.nq', 'http://ossapi.oceaninfohub.org/public/graphs/summonedinvemardocuments_v1_release.nq', 'http://ossapi.oceaninfohub.org/public/graphs/summonedinvemarexperts_v1_release.nq', 'http://ossapi.oceaninfohub.org/public/graphs/summonedinvemarinstitutions_v1_release.nq', 'http://ossapi.oceaninfohub.org/public/graphs/summonedinvemartraining_v1_release.nq', 'http://ossapi.oceaninfohub.org/public/graphs/summonedinvemarvessels_v1_release.nq', 'http://ossapi.oceaninfohub.org/public/graphs/summonedmarinetraining_v1_release.nq', 'http://ossapi.oceaninfohub.org/public/graphs/summonedobis_v1_release.nq', 'http://ossapi.oceaninfohub.org/public/graphs/summonedobps_v1_release.nq', 'http://ossapi.oceaninfohub.org/public/graphs/summonedoceanexperts_v1_release.nq', 'http://ossapi.oceaninfohub.org/public/graphs/summonedpdh_v1_release.nq']\n"
     ]
    }
   ],
   "source": [
    "print(urls)"
   ]
  },
  {
   "cell_type": "markdown",
   "metadata": {},
   "source": [
    "## Single Graph Test\n",
    "\n",
    "At this point we have the URLs, and we could either loop load all of them or pull one out manually and use.  This section dmonstrates loading and working with one\n"
   ]
  },
  {
   "cell_type": "code",
   "execution_count": 7,
   "metadata": {
    "ExecuteTime": {
     "end_time": "2023-08-29T16:24:14.121746722Z",
     "start_time": "2023-08-29T16:24:05.419560531Z"
    },
    "tags": []
   },
   "outputs": [
    {
     "name": "stdout",
     "output_type": "stream",
     "text": [
      "161187\n"
     ]
    }
   ],
   "source": [
    "# load quad graph\n",
    "g = ConjunctiveGraph()\n",
    "g.parse(\"http://ossapi.oceaninfohub.org/public/graphs/summonedobis_v1_release.nq\", format=\"nquads\")\n",
    "print(len(g))"
   ]
  },
  {
   "cell_type": "code",
   "execution_count": 8,
   "metadata": {
    "ExecuteTime": {
     "end_time": "2023-08-29T16:24:14.132179601Z",
     "start_time": "2023-08-29T16:24:14.123263157Z"
    },
    "tags": []
   },
   "outputs": [],
   "source": [
    "namespaces = {\n",
    "    \"shacl\":   \"http://www.w3.org/ns/shacl#\" ,\n",
    "    \"schema\":   \"https://schema.org/\" ,\n",
    "    \"schemawrong\": \"http://schema.org/\",\n",
    "    \"geo\":      \"http://www.opengis.net/ont/geosparql#\",\n",
    "}\n",
    "\n",
    "kg = kglab.KnowledgeGraph(name = \"OIH test\", base_uri = \"https://oceaninfohub.org/id/\", namespaces = namespaces, use_gpus=True, import_graph = g)"
   ]
  },
  {
   "cell_type": "code",
   "execution_count": 9,
   "metadata": {
    "ExecuteTime": {
     "end_time": "2023-08-29T16:45:39.187019538Z",
     "start_time": "2023-08-29T16:45:39.142787348Z"
    },
    "collapsed": false,
    "jupyter": {
     "outputs_hidden": false
    },
    "tags": []
   },
   "outputs": [],
   "source": [
    "solrquery2 = \"\"\"\n",
    "PREFIX schema: <https://schema.org/>\n",
    "PREFIX schemawrong: <http://schema.org/>\n",
    "\n",
    "SELECT (?s as ?id) ?type \n",
    "WHERE\n",
    "{\n",
    "    ?s rdf:type ?type ?description\n",
    "    FILTER ( ?type IN (schema:ResearchProject, schema:Project, schema:Organization,\n",
    "    schema:Dataset, schema:CreativeWork, schema:Person, schema:Map, schema:Course,\n",
    "    schema:CourseInstance, schema:Event, schema:Vehicle,   schemawrong:ResearchProject, schemawrong:Project, schemawrong:Organization,\n",
    "    schemawrong:Dataset, schemawrong:CreativeWork, schemawrong:Person, schemawrong:Map, schemawrong:Course,\n",
    "    schemawrong:CourseInstance, schemawrong:Event, schemawrong:Vehicle  ) )\n",
    "    ?s schema:name | schemawrong:name ?name\n",
    "    OPTIONAL { ?s schema:keywords | schemawrong:keywords ?keywords }\n",
    "    OPTIONAL { ?s schema:description | schemawrong:description  ?desc . }\n",
    "    OPTIONAL { ?s schema:name | schemawrong:description  ?name . }\n",
    "    OPTIONAL { ?s schema:url | schemawrong:url ?url .   }\n",
    "    OPTIONAL {?s schema:keywords | schemawrong:keywords ?keywords}\n",
    "    OPTIONAL { ?s schema:spatialCoverage ?sc .\n",
    "      ?sc a  schema:Place .\n",
    "      ?sc schema:geo ?geo .\n",
    "      ?geo a ?geotype .\n",
    "      ?geo schema:polygon ?geom\n",
    "    }\n",
    "}\n",
    "\"\"\"\n",
    "\n",
    "solrquery1 = \"\"\"\n",
    "PREFIX schema: <https://schema.org/>\n",
    "PREFIX schemawrong: <http://schema.org/>\n",
    "\n",
    "SELECT (?s as ?id) ?type ?description ?name ?geom\n",
    "WHERE\n",
    "{\n",
    "    ?s rdf:type ?type\n",
    "    FILTER ( ?type IN (schema:ResearchProject, schema:Project, schema:Organization,\n",
    "    schema:Dataset, schema:CreativeWork, schema:Person, schema:Map, schema:Course,\n",
    "    schema:CourseInstance, schema:Event, schema:Vehicle,   schemawrong:ResearchProject, schemawrong:Project, schemawrong:Organization,\n",
    "    schemawrong:Dataset, schemawrong:CreativeWork, schemawrong:Person, schemawrong:Map, schemawrong:Course,\n",
    "    schemawrong:CourseInstance, schemawrong:Event, schemawrong:Vehicle  ) )\n",
    "    ?s schema:name | schemawrong:name ?name\n",
    "        OPTIONAL { ?s schema:name | schemawrong:description  ?name . }\n",
    "\n",
    "    OPTIONAL { ?s schema:keywords | schemawrong:keywords ?keywords }\n",
    "    OPTIONAL { ?s schema:description | schemawrong:description  ?description . }\n",
    "    OPTIONAL { ?s schema:url | schemawrong:url ?url .   }\n",
    "    OPTIONAL {?s schema:keywords | schemawrong:keywords ?keywords}\n",
    "    ?s schema:spatialCoverage ?sc .\n",
    "    ?sc a  schema:Place .\n",
    "    ?sc schema:geo ?geo .\n",
    "    ?geo a ?geotype .\n",
    "    ?geo ?geompred ?geom .\n",
    "    FILTER(!isIRI(?geom))\n",
    "\n",
    "}\n",
    "\"\"\"\n"
   ]
  },
  {
   "cell_type": "code",
   "execution_count": 10,
   "metadata": {
    "ExecuteTime": {
     "end_time": "2023-08-29T16:55:28.533779996Z",
     "start_time": "2023-08-29T16:45:39.673540307Z"
    },
    "collapsed": false,
    "jupyter": {
     "outputs_hidden": false
    },
    "tags": []
   },
   "outputs": [],
   "source": [
    "pdf = kg.query_as_df(solrquery1)\n",
    "# df = pdf   # .to_pandas()  #  breaks with papermill for reasons unknown at this time if to_pandas() is used, needed in my kglab conda env\n",
    "# pdf.info()"
   ]
  },
  {
   "cell_type": "code",
   "execution_count": 11,
   "metadata": {
    "ExecuteTime": {
     "start_time": "2023-08-29T16:55:28.522233827Z"
    },
    "tags": []
   },
   "outputs": [
    {
     "data": {
      "text/html": [
       "<div>\n",
       "<style scoped>\n",
       "    .dataframe tbody tr th:only-of-type {\n",
       "        vertical-align: middle;\n",
       "    }\n",
       "\n",
       "    .dataframe tbody tr th {\n",
       "        vertical-align: top;\n",
       "    }\n",
       "\n",
       "    .dataframe thead th {\n",
       "        text-align: right;\n",
       "    }\n",
       "</style>\n",
       "<table border=\"1\" class=\"dataframe\">\n",
       "  <thead>\n",
       "    <tr style=\"text-align: right;\">\n",
       "      <th></th>\n",
       "      <th>id</th>\n",
       "      <th>type</th>\n",
       "      <th>description</th>\n",
       "      <th>name</th>\n",
       "      <th>geom</th>\n",
       "    </tr>\n",
       "  </thead>\n",
       "  <tbody>\n",
       "    <tr>\n",
       "      <th>0</th>\n",
       "      <td>&lt;https://obis.org/dataset/1057a007-c31c-48a3-a...</td>\n",
       "      <td>schema:Dataset</td>\n",
       "      <td>In Australia, it is thought that up to 26 Aust...</td>\n",
       "      <td>Census of annual pup production by Australian ...</td>\n",
       "      <td>135.96667 -43.63333,135.96667 -35.01667,150.23...</td>\n",
       "    </tr>\n",
       "    <tr>\n",
       "      <th>1</th>\n",
       "      <td>&lt;https://obis.org/dataset/1057a007-c31c-48a3-a...</td>\n",
       "      <td>schema:Dataset</td>\n",
       "      <td>In Australia, it is thought that up to 26 Aust...</td>\n",
       "      <td>Census of annual pup production by Australian ...</td>\n",
       "      <td>135.96667 -43.63333,135.96667 -35.01667,150.23...</td>\n",
       "    </tr>\n",
       "    <tr>\n",
       "      <th>2</th>\n",
       "      <td>&lt;https://obis.org/dataset/d64477cf-491f-4de5-8...</td>\n",
       "      <td>schema:Dataset</td>\n",
       "      <td>Original provider:\\nObservatorio Ambiental Gra...</td>\n",
       "      <td>Canary Islands - OAG (aggregated per 1-degree ...</td>\n",
       "      <td>-74.5 5.5,-74.5 45.5,32.5 45.5,32.5 5.5,-74.5 5.5</td>\n",
       "    </tr>\n",
       "    <tr>\n",
       "      <th>3</th>\n",
       "      <td>&lt;https://obis.org/dataset/d64477cf-491f-4de5-8...</td>\n",
       "      <td>schema:Dataset</td>\n",
       "      <td>Original provider:\\nObservatorio Ambiental Gra...</td>\n",
       "      <td>Canary Islands - OAG (aggregated per 1-degree ...</td>\n",
       "      <td>-74.5 5.5,-74.5 45.5,32.5 45.5,32.5 5.5,-74.5 5.5</td>\n",
       "    </tr>\n",
       "    <tr>\n",
       "      <th>4</th>\n",
       "      <td>&lt;https://obis.org/dataset/d64477cf-491f-4de5-8...</td>\n",
       "      <td>schema:Dataset</td>\n",
       "      <td>Original provider:\\nObservatorio Ambiental Gra...</td>\n",
       "      <td>Canary Islands - OAG (aggregated per 1-degree ...</td>\n",
       "      <td>-74.5 5.5,-74.5 45.5,32.5 45.5,32.5 5.5,-74.5 5.5</td>\n",
       "    </tr>\n",
       "    <tr>\n",
       "      <th>5</th>\n",
       "      <td>&lt;https://obis.org/dataset/e71d452f-615e-4654-b...</td>\n",
       "      <td>schema:Dataset</td>\n",
       "      <td>Original provider:\\nVirginia Aquarium and Mari...</td>\n",
       "      <td>Virginia and Maryland Sea Turtle Research and ...</td>\n",
       "      <td>-76.39647 36.58278,-76.39647 38.52142,-74.3984...</td>\n",
       "    </tr>\n",
       "    <tr>\n",
       "      <th>6</th>\n",
       "      <td>&lt;https://obis.org/dataset/e71d452f-615e-4654-b...</td>\n",
       "      <td>schema:Dataset</td>\n",
       "      <td>Original provider:\\nVirginia Aquarium and Mari...</td>\n",
       "      <td>Virginia and Maryland Sea Turtle Research and ...</td>\n",
       "      <td>-76.39647 36.58278,-76.39647 38.52142,-74.3984...</td>\n",
       "    </tr>\n",
       "    <tr>\n",
       "      <th>7</th>\n",
       "      <td>&lt;https://obis.org/dataset/e71d452f-615e-4654-b...</td>\n",
       "      <td>schema:Dataset</td>\n",
       "      <td>Original provider:\\nVirginia Aquarium and Mari...</td>\n",
       "      <td>Virginia and Maryland Sea Turtle Research and ...</td>\n",
       "      <td>-76.39647 36.58278,-76.39647 38.52142,-74.3984...</td>\n",
       "    </tr>\n",
       "    <tr>\n",
       "      <th>8</th>\n",
       "      <td>&lt;https://obis.org/dataset/49f74e10-b23b-4aca-a...</td>\n",
       "      <td>schema:Dataset</td>\n",
       "      <td>Tow video and epibenthic sled collections were...</td>\n",
       "      <td>Species assemblages, biomass and regional habi...</td>\n",
       "      <td>124.05919 -15.94544,124.05919 -15.22044,124.69...</td>\n",
       "    </tr>\n",
       "    <tr>\n",
       "      <th>9</th>\n",
       "      <td>&lt;https://obis.org/dataset/49f74e10-b23b-4aca-a...</td>\n",
       "      <td>schema:Dataset</td>\n",
       "      <td>Tow video and epibenthic sled collections were...</td>\n",
       "      <td>Species assemblages, biomass and regional habi...</td>\n",
       "      <td>124.05919 -15.94544,124.05919 -15.22044,124.69...</td>\n",
       "    </tr>\n",
       "    <tr>\n",
       "      <th>10</th>\n",
       "      <td>&lt;https://obis.org/dataset/9a37fc55-1fc8-4c19-b...</td>\n",
       "      <td>schema:Dataset</td>\n",
       "      <td>Original provider:\\nCanadian Wildlife Service\\...</td>\n",
       "      <td>PIROP Northwest Atlantic 1965-1992</td>\n",
       "      <td>-149.5667 -25.15,-149.5667 79.7833,18.5667 79....</td>\n",
       "    </tr>\n",
       "    <tr>\n",
       "      <th>11</th>\n",
       "      <td>&lt;https://obis.org/dataset/9a37fc55-1fc8-4c19-b...</td>\n",
       "      <td>schema:Dataset</td>\n",
       "      <td>Original provider:\\nCanadian Wildlife Service\\...</td>\n",
       "      <td>PIROP Northwest Atlantic 1965-1992</td>\n",
       "      <td>-149.5667 -25.15,-149.5667 79.7833,18.5667 79....</td>\n",
       "    </tr>\n",
       "    <tr>\n",
       "      <th>12</th>\n",
       "      <td>&lt;https://obis.org/dataset/9a37fc55-1fc8-4c19-b...</td>\n",
       "      <td>schema:Dataset</td>\n",
       "      <td>Original provider:\\nCanadian Wildlife Service\\...</td>\n",
       "      <td>PIROP Northwest Atlantic 1965-1992</td>\n",
       "      <td>-149.5667 -25.15,-149.5667 79.7833,18.5667 79....</td>\n",
       "    </tr>\n",
       "    <tr>\n",
       "      <th>13</th>\n",
       "      <td>&lt;https://obis.org/dataset/1d81a51c-66fc-46bf-a...</td>\n",
       "      <td>schema:Dataset</td>\n",
       "      <td>Original provider:\\nUniversity of North Caroli...</td>\n",
       "      <td>USWTR JAX Aerial Survey -Left side- 2011-2012</td>\n",
       "      <td>-80.690317 29.954577,-80.690317 30.574196,-79....</td>\n",
       "    </tr>\n",
       "    <tr>\n",
       "      <th>14</th>\n",
       "      <td>&lt;https://obis.org/dataset/1d81a51c-66fc-46bf-a...</td>\n",
       "      <td>schema:Dataset</td>\n",
       "      <td>Original provider:\\nUniversity of North Caroli...</td>\n",
       "      <td>USWTR JAX Aerial Survey -Left side- 2011-2012</td>\n",
       "      <td>-80.690317 29.954577,-80.690317 30.574196,-79....</td>\n",
       "    </tr>\n",
       "    <tr>\n",
       "      <th>15</th>\n",
       "      <td>&lt;https://obis.org/dataset/1d81a51c-66fc-46bf-a...</td>\n",
       "      <td>schema:Dataset</td>\n",
       "      <td>Original provider:\\nUniversity of North Caroli...</td>\n",
       "      <td>USWTR JAX Aerial Survey -Left side- 2011-2012</td>\n",
       "      <td>-80.690317 29.954577,-80.690317 30.574196,-79....</td>\n",
       "    </tr>\n",
       "    <tr>\n",
       "      <th>16</th>\n",
       "      <td>&lt;https://obis.org/dataset/a595a9a0-642a-473f-8...</td>\n",
       "      <td>schema:Dataset</td>\n",
       "      <td>The EAISSNA database contains information on l...</td>\n",
       "      <td>Electronic Atlas of Ichthyoplankton on the Sco...</td>\n",
       "      <td>-73.5 12.5,-73.5 56,55 56,55 12.5,-73.5 12.5</td>\n",
       "    </tr>\n",
       "    <tr>\n",
       "      <th>17</th>\n",
       "      <td>&lt;https://obis.org/dataset/a595a9a0-642a-473f-8...</td>\n",
       "      <td>schema:Dataset</td>\n",
       "      <td>The EAISSNA database contains information on l...</td>\n",
       "      <td>Electronic Atlas of Ichthyoplankton on the Sco...</td>\n",
       "      <td>-73.5 12.5,-73.5 56,55 56,55 12.5,-73.5 12.5</td>\n",
       "    </tr>\n",
       "    <tr>\n",
       "      <th>18</th>\n",
       "      <td>&lt;https://obis.org/dataset/32948ff1-6f03-4877-b...</td>\n",
       "      <td>schema:Dataset</td>\n",
       "      <td>Original provider:\\nHappywhale\\n\\nDataset cred...</td>\n",
       "      <td>Happywhale - Bryde's whale in South Atlantic O...</td>\n",
       "      <td>18.291666 -34.501803,18.291666 -34.058889,19.3...</td>\n",
       "    </tr>\n",
       "    <tr>\n",
       "      <th>19</th>\n",
       "      <td>&lt;https://obis.org/dataset/32948ff1-6f03-4877-b...</td>\n",
       "      <td>schema:Dataset</td>\n",
       "      <td>Original provider:\\nHappywhale\\n\\nDataset cred...</td>\n",
       "      <td>Happywhale - Bryde's whale in South Atlantic O...</td>\n",
       "      <td>18.291666 -34.501803,18.291666 -34.058889,19.3...</td>\n",
       "    </tr>\n",
       "  </tbody>\n",
       "</table>\n",
       "</div>"
      ],
      "text/plain": [
       "                                                   id            type  \\\n",
       "0   <https://obis.org/dataset/1057a007-c31c-48a3-a...  schema:Dataset   \n",
       "1   <https://obis.org/dataset/1057a007-c31c-48a3-a...  schema:Dataset   \n",
       "2   <https://obis.org/dataset/d64477cf-491f-4de5-8...  schema:Dataset   \n",
       "3   <https://obis.org/dataset/d64477cf-491f-4de5-8...  schema:Dataset   \n",
       "4   <https://obis.org/dataset/d64477cf-491f-4de5-8...  schema:Dataset   \n",
       "5   <https://obis.org/dataset/e71d452f-615e-4654-b...  schema:Dataset   \n",
       "6   <https://obis.org/dataset/e71d452f-615e-4654-b...  schema:Dataset   \n",
       "7   <https://obis.org/dataset/e71d452f-615e-4654-b...  schema:Dataset   \n",
       "8   <https://obis.org/dataset/49f74e10-b23b-4aca-a...  schema:Dataset   \n",
       "9   <https://obis.org/dataset/49f74e10-b23b-4aca-a...  schema:Dataset   \n",
       "10  <https://obis.org/dataset/9a37fc55-1fc8-4c19-b...  schema:Dataset   \n",
       "11  <https://obis.org/dataset/9a37fc55-1fc8-4c19-b...  schema:Dataset   \n",
       "12  <https://obis.org/dataset/9a37fc55-1fc8-4c19-b...  schema:Dataset   \n",
       "13  <https://obis.org/dataset/1d81a51c-66fc-46bf-a...  schema:Dataset   \n",
       "14  <https://obis.org/dataset/1d81a51c-66fc-46bf-a...  schema:Dataset   \n",
       "15  <https://obis.org/dataset/1d81a51c-66fc-46bf-a...  schema:Dataset   \n",
       "16  <https://obis.org/dataset/a595a9a0-642a-473f-8...  schema:Dataset   \n",
       "17  <https://obis.org/dataset/a595a9a0-642a-473f-8...  schema:Dataset   \n",
       "18  <https://obis.org/dataset/32948ff1-6f03-4877-b...  schema:Dataset   \n",
       "19  <https://obis.org/dataset/32948ff1-6f03-4877-b...  schema:Dataset   \n",
       "\n",
       "                                          description  \\\n",
       "0   In Australia, it is thought that up to 26 Aust...   \n",
       "1   In Australia, it is thought that up to 26 Aust...   \n",
       "2   Original provider:\\nObservatorio Ambiental Gra...   \n",
       "3   Original provider:\\nObservatorio Ambiental Gra...   \n",
       "4   Original provider:\\nObservatorio Ambiental Gra...   \n",
       "5   Original provider:\\nVirginia Aquarium and Mari...   \n",
       "6   Original provider:\\nVirginia Aquarium and Mari...   \n",
       "7   Original provider:\\nVirginia Aquarium and Mari...   \n",
       "8   Tow video and epibenthic sled collections were...   \n",
       "9   Tow video and epibenthic sled collections were...   \n",
       "10  Original provider:\\nCanadian Wildlife Service\\...   \n",
       "11  Original provider:\\nCanadian Wildlife Service\\...   \n",
       "12  Original provider:\\nCanadian Wildlife Service\\...   \n",
       "13  Original provider:\\nUniversity of North Caroli...   \n",
       "14  Original provider:\\nUniversity of North Caroli...   \n",
       "15  Original provider:\\nUniversity of North Caroli...   \n",
       "16  The EAISSNA database contains information on l...   \n",
       "17  The EAISSNA database contains information on l...   \n",
       "18  Original provider:\\nHappywhale\\n\\nDataset cred...   \n",
       "19  Original provider:\\nHappywhale\\n\\nDataset cred...   \n",
       "\n",
       "                                                 name  \\\n",
       "0   Census of annual pup production by Australian ...   \n",
       "1   Census of annual pup production by Australian ...   \n",
       "2   Canary Islands - OAG (aggregated per 1-degree ...   \n",
       "3   Canary Islands - OAG (aggregated per 1-degree ...   \n",
       "4   Canary Islands - OAG (aggregated per 1-degree ...   \n",
       "5   Virginia and Maryland Sea Turtle Research and ...   \n",
       "6   Virginia and Maryland Sea Turtle Research and ...   \n",
       "7   Virginia and Maryland Sea Turtle Research and ...   \n",
       "8   Species assemblages, biomass and regional habi...   \n",
       "9   Species assemblages, biomass and regional habi...   \n",
       "10                 PIROP Northwest Atlantic 1965-1992   \n",
       "11                 PIROP Northwest Atlantic 1965-1992   \n",
       "12                 PIROP Northwest Atlantic 1965-1992   \n",
       "13      USWTR JAX Aerial Survey -Left side- 2011-2012   \n",
       "14      USWTR JAX Aerial Survey -Left side- 2011-2012   \n",
       "15      USWTR JAX Aerial Survey -Left side- 2011-2012   \n",
       "16  Electronic Atlas of Ichthyoplankton on the Sco...   \n",
       "17  Electronic Atlas of Ichthyoplankton on the Sco...   \n",
       "18  Happywhale - Bryde's whale in South Atlantic O...   \n",
       "19  Happywhale - Bryde's whale in South Atlantic O...   \n",
       "\n",
       "                                                 geom  \n",
       "0   135.96667 -43.63333,135.96667 -35.01667,150.23...  \n",
       "1   135.96667 -43.63333,135.96667 -35.01667,150.23...  \n",
       "2   -74.5 5.5,-74.5 45.5,32.5 45.5,32.5 5.5,-74.5 5.5  \n",
       "3   -74.5 5.5,-74.5 45.5,32.5 45.5,32.5 5.5,-74.5 5.5  \n",
       "4   -74.5 5.5,-74.5 45.5,32.5 45.5,32.5 5.5,-74.5 5.5  \n",
       "5   -76.39647 36.58278,-76.39647 38.52142,-74.3984...  \n",
       "6   -76.39647 36.58278,-76.39647 38.52142,-74.3984...  \n",
       "7   -76.39647 36.58278,-76.39647 38.52142,-74.3984...  \n",
       "8   124.05919 -15.94544,124.05919 -15.22044,124.69...  \n",
       "9   124.05919 -15.94544,124.05919 -15.22044,124.69...  \n",
       "10  -149.5667 -25.15,-149.5667 79.7833,18.5667 79....  \n",
       "11  -149.5667 -25.15,-149.5667 79.7833,18.5667 79....  \n",
       "12  -149.5667 -25.15,-149.5667 79.7833,18.5667 79....  \n",
       "13  -80.690317 29.954577,-80.690317 30.574196,-79....  \n",
       "14  -80.690317 29.954577,-80.690317 30.574196,-79....  \n",
       "15  -80.690317 29.954577,-80.690317 30.574196,-79....  \n",
       "16       -73.5 12.5,-73.5 56,55 56,55 12.5,-73.5 12.5  \n",
       "17       -73.5 12.5,-73.5 56,55 56,55 12.5,-73.5 12.5  \n",
       "18  18.291666 -34.501803,18.291666 -34.058889,19.3...  \n",
       "19  18.291666 -34.501803,18.291666 -34.058889,19.3...  "
      ]
     },
     "execution_count": 11,
     "metadata": {},
     "output_type": "execute_result"
    }
   ],
   "source": [
    "pdf.head(20)\n"
   ]
  },
  {
   "cell_type": "code",
   "execution_count": 13,
   "metadata": {
    "tags": []
   },
   "outputs": [],
   "source": [
    "pdf.to_parquet('solr_obis.parquet')  "
   ]
  },
  {
   "cell_type": "markdown",
   "metadata": {},
   "source": [
    "# Frame testing\n"
   ]
  },
  {
   "cell_type": "code",
   "execution_count": 14,
   "metadata": {
    "ExecuteTime": {
     "end_time": "2023-08-29T17:40:58.591349484Z",
     "start_time": "2023-08-29T17:40:58.528507078Z"
    },
    "collapsed": false,
    "jupyter": {
     "outputs_hidden": false
    },
    "tags": []
   },
   "outputs": [],
   "source": [
    "def simple_frame(dg, frame):\n",
    "    try:\n",
    "        framed = jsonld.frame(dg, frame)\n",
    "        return framed  # ['citation']\n",
    "    except:\n",
    "        return \"\""
   ]
  },
  {
   "cell_type": "code",
   "execution_count": 15,
   "metadata": {
    "ExecuteTime": {
     "end_time": "2023-08-29T17:53:21.165443556Z",
     "start_time": "2023-08-29T17:53:21.124824457Z"
    },
    "collapsed": false,
    "jupyter": {
     "outputs_hidden": false
    },
    "tags": []
   },
   "outputs": [
    {
     "name": "stdout",
     "output_type": "stream",
     "text": [
      "{\n",
      "  \"@context\": {\n",
      "    \"@vocab\": \"http://schema.org/\"\n",
      "  },\n",
      "  \"@graph\": [\n",
      "    {\n",
      "      \"@id\": \"http://ckan.onc.uvic.ca\",\n",
      "      \"@type\": \"DataCatalog\",\n",
      "      \"description\": \"\"\n",
      "    },\n",
      "    {\n",
      "      \"@id\": \"https://catalogue.cioos.ca\",\n",
      "      \"@type\": \"DataCatalog\",\n",
      "      \"description\": \"\"\n",
      "    },\n",
      "    {\n",
      "      \"@id\": \"https://catalogue.cioos.ca/dataset/ff0232d8-34bd-4456-be28-20d4f8b2937c.jsonld\",\n",
      "      \"@type\": \"Dataset\",\n",
      "      \"description\": [\n",
      "        {\n",
      "          \"@language\": \"en\",\n",
      "          \"@value\": \"The WET Labs ECO FLNTUS 894 was deployed on 2010-09-13 at Barkley Upper Slope. Upper Slope is a location within Barkley Canyon, which is located on the upper continental slope. This device is a Fluorometer Turbidity. Fluorometer Turbidity instruments measure chlorophyll fluorescence and turbidity within the same volume of seawater. The instrument uses a light emitting diode (LED) to provide an excitation source. The fluoresced light is received by a detector at a particular angle from the LED source, and uses an interference filter to discriminate against scattered excitation light. Turbidity is measured at the same time, by detecting scattered light from a LED, which is positioned at the same angle as the chlorophyll fluorescence. It was deployed on a profiling platform. Data from this deployment were archived and made available through Ocean Networks Canada's Oceans 3.0 digital infrastructure, with quality assurance and derived data products following established practices.\"\n",
      "        },\n",
      "        {\n",
      "          \"@language\": \"fr\",\n",
      "          \"@value\": \"Ce WET Labs ECO FLNTUS 894 a \\u00e9t\\u00e9 d\\u00e9ploy\\u00e9 le 2010-09-13 au Barkley Canyon Upper Slope. Upper Slope est un endroit situ\\u00e9 dans Barkley Canyon, qui est situ\\u00e9 sur le versant continental sup\\u00e9rieur. Cet instrument est un Fluorim\\u00e8tre et Turbidit\\u00e9. Les instruments de fluorim\\u00e8tre et turbidit\\u00e9 (FLNTU) sont dot\\u00e9s d'un capteur combin\\u00e9 qui mesure la fluorescence et la turbidit\\u00e9 de la chlorophylle dans le m\\u00eame volume d'eau de mer. L'instrument utilise une diode \\u00e9lectroluminescente (DEL) pour fournir une source d'excitation. La lumi\\u00e8re fluorescente est re\\u00e7ue par un d\\u00e9tecteur \\u00e0 un angle particulier \\u00e0 partir de la source DEL et utilise un filtre d'interf\\u00e9rence pour distinguer la lumi\\u00e8re d'excitation dispers\\u00e9e. La turbidit\\u00e9 est mesur\\u00e9e en m\\u00eame temps, en d\\u00e9tectant la lumi\\u00e8re diffus\\u00e9e \\u00e0 partir d'une DEL, qui est positionn\\u00e9e au m\\u00eame angle que la fluorescence chlorophylle. Il a \\u00e9t\\u00e9 deploy\\u00e9 sur une plateforme profilant. Les donn\\u00e9es de ce d\\u00e9ploiement sont archiv\\u00e9es et accessibles sur l\\u2019infrastructure num\\u00e9rique Oceans 3.0 du R\\u00e9seau Canadien des Oc\\u00e9ans (ONC), avec assurance de la qualit\\u00e9 et produits d\\u00e9riv\\u00e9s selon les conventions \\u00e9tablies.\"\n",
      "        }\n",
      "      ]\n",
      "    },\n",
      "    {\n",
      "      \"@id\": \"https://catalogue.cioos.ca/dataset/ff0232d8-34bd-4456-be28-20d4f8b2937c/resource/ca-cioos-resource_db2601e73a3bd9b1fdf69be519241c9e\",\n",
      "      \"@type\": \"DataDownload\",\n",
      "      \"description\": \"Data is delivered via ERDDAP, a data server that gives a standardized way to download subsets of datasets in common file formats. This particular ERDDAP installation has oceanographic data from Ocean Networks Canada's instruments\"\n",
      "    },\n",
      "    {\n",
      "      \"@id\": \"https://catalogue.cioospacific.ca\",\n",
      "      \"@type\": \"DataCatalog\",\n",
      "      \"description\": \"Home of Canada's Pacific Ocean Data\"\n",
      "    }\n",
      "  ]\n",
      "}\n"
     ]
    }
   ],
   "source": [
    "with open('./assets/frame.json', 'rb') as f:\n",
    "    fr = json.loads(f.read().decode(\"utf-8\", \"ignore\").replace('\\n',' '))\n",
    "    # fr =   f.read()\n",
    "\n",
    "with open('./solrInputData.json', 'rb') as f:\n",
    "    dg = json.loads(f.read().decode(\"utf-8\", \"ignore\").replace('\\n',' '))\n",
    "    # dg =   file.read()\n",
    "    \n",
    "# print(fr)\n",
    "# print(dg)\n",
    "\n",
    "f = simple_frame(dg, fr)\n",
    "json_formatted_str = json.dumps(f, indent=2)\n",
    "print(json_formatted_str)"
   ]
  },
  {
   "cell_type": "code",
   "execution_count": null,
   "metadata": {
    "collapsed": false,
    "jupyter": {
     "outputs_hidden": false
    }
   },
   "outputs": [],
   "source": []
  }
 ],
 "metadata": {
  "kernelspec": {
   "display_name": "Python 3",
   "language": "python",
   "name": "python3"
  },
  "language_info": {
   "codemirror_mode": {
    "name": "ipython",
    "version": 3
   },
   "file_extension": ".py",
   "mimetype": "text/x-python",
   "name": "python",
   "nbconvert_exporter": "python",
   "pygments_lexer": "ipython3",
   "version": "3.10.12"
  }
 },
 "nbformat": 4,
 "nbformat_minor": 4
}
