{
 "cells": [
  {
   "cell_type": "markdown",
   "metadata": {
    "tags": []
   },
   "source": [
    "# OIH Graph Pre-Processor - Solr\n",
    "\n",
    "## About\n",
    "This notebook demonstrates some approaches for processing the release graphs into a format that\n",
    "is useful for the Solr index\n"
   ]
  },
  {
   "cell_type": "markdown",
   "source": [
    "### Imports and definitions"
   ],
   "metadata": {
    "collapsed": false
   }
  },
  {
   "cell_type": "code",
   "execution_count": 55,
   "metadata": {
    "collapsed": false,
    "tags": [],
    "ExecuteTime": {
     "end_time": "2023-08-29T16:55:32.446222811Z",
     "start_time": "2023-08-29T16:55:32.198659430Z"
    }
   },
   "outputs": [],
   "source": [
    "import warnings\n",
    "warnings.simplefilter(action='ignore', category=FutureWarning)  ## remove pandas future warning\n",
    "import pandas as pd\n",
    "import geopandas as gpd\n",
    "from shapely import wkt\n",
    "import s3fs\n",
    "import pyarrow.parquet as pq\n",
    "import shapely\n",
    "import os\n",
    "import re\n",
    "import json, io\n",
    "from pyld import jsonld\n",
    "import kglab\n",
    "from minio import Minio\n",
    "import rdflib\n",
    "from rdflib import ConjunctiveGraph  #  needed for nquads"
   ]
  },
  {
   "cell_type": "code",
   "execution_count": 56,
   "metadata": {
    "collapsed": false,
    "tags": [],
    "ExecuteTime": {
     "end_time": "2023-08-29T16:55:32.691616699Z",
     "start_time": "2023-08-29T16:55:32.687461639Z"
    }
   },
   "outputs": [],
   "source": [
    "def publicurls(client, bucket, prefix):\n",
    "    urls = []\n",
    "    objects = client.list_objects(bucket, prefix=prefix, recursive=True)\n",
    "    for obj in objects:\n",
    "        result = client.stat_object(bucket, obj.object_name)\n",
    "\n",
    "        if result.size > 0:  #  how to tell if an objet   obj.is_public  ?????\n",
    "            url = client.presigned_get_object(bucket, obj.object_name)\n",
    "            # print(f\"Public URL for object: {url}\")\n",
    "            urls.append(url)\n",
    "\n",
    "    return urls"
   ]
  },
  {
   "cell_type": "code",
   "execution_count": 57,
   "outputs": [],
   "source": [
    "def to_wkt(polygon_string):\n",
    "    # split the input string into pairs\n",
    "    pairs = polygon_string.split(',')\n",
    "\n",
    "    # transform each pair into 'y x' format\n",
    "    # transformed_pairs = [' '.join(reversed(pair.split())) for pair in pairs]\n",
    "    transformed_pairs = [' '.join(pair.split()) for pair in pairs]\n",
    "\n",
    "\n",
    "    # join the transformed pairs with a comma and a space\n",
    "    transformed_string = ', '.join(transformed_pairs)\n",
    "\n",
    "    # return the final WKT string\n",
    "    return f\"POLYGON (({transformed_string}))\""
   ],
   "metadata": {
    "collapsed": false,
    "ExecuteTime": {
     "end_time": "2023-08-29T16:55:34.386155258Z",
     "start_time": "2023-08-29T16:55:34.382720777Z"
    }
   }
  },
  {
   "cell_type": "code",
   "execution_count": 20,
   "metadata": {
    "tags": [],
    "ExecuteTime": {
     "end_time": "2023-08-29T16:24:02.077407141Z",
     "start_time": "2023-08-29T16:24:02.075358130Z"
    }
   },
   "outputs": [],
   "source": [
    "# Check for using GPU, in case you want to ensure your GPU is used\n",
    "# gc = kglab.get_gpu_count()\n",
    "# print(gc)"
   ]
  },
  {
   "cell_type": "code",
   "execution_count": 21,
   "metadata": {
    "collapsed": false,
    "tags": [],
    "ExecuteTime": {
     "end_time": "2023-08-29T16:24:04.663996198Z",
     "start_time": "2023-08-29T16:24:02.497138481Z"
    }
   },
   "outputs": [],
   "source": [
    "client = Minio(\"ossapi.oceaninfohub.org:80\",  secure=False) # Create client with anonymous access.\n",
    "urls = publicurls(client, \"public\", \"graph\")"
   ]
  },
  {
   "cell_type": "code",
   "execution_count": 22,
   "metadata": {
    "collapsed": false,
    "tags": [],
    "ExecuteTime": {
     "end_time": "2023-08-29T16:24:04.675082534Z",
     "start_time": "2023-08-29T16:24:04.664446482Z"
    }
   },
   "outputs": [
    {
     "name": "stdout",
     "output_type": "stream",
     "text": [
      "['http://ossapi.oceaninfohub.org/public/graphs/summonedafricaioc_v1_release.nq', 'http://ossapi.oceaninfohub.org/public/graphs/summonedaquadocs_v1_release.nq', 'http://ossapi.oceaninfohub.org/public/graphs/summonedcioos_v1_release.nq', 'http://ossapi.oceaninfohub.org/public/graphs/summonededmerp_v1_release.nq', 'http://ossapi.oceaninfohub.org/public/graphs/summonededmo_v1_release.nq', 'http://ossapi.oceaninfohub.org/public/graphs/summonedemodnet_v1_release.nq', 'http://ossapi.oceaninfohub.org/public/graphs/summonedinanodc_v1_release.nq', 'http://ossapi.oceaninfohub.org/public/graphs/summonedinvemardocuments_v1_release.nq', 'http://ossapi.oceaninfohub.org/public/graphs/summonedinvemarexperts_v1_release.nq', 'http://ossapi.oceaninfohub.org/public/graphs/summonedinvemarinstitutions_v1_release.nq', 'http://ossapi.oceaninfohub.org/public/graphs/summonedinvemartraining_v1_release.nq', 'http://ossapi.oceaninfohub.org/public/graphs/summonedinvemarvessels_v1_release.nq', 'http://ossapi.oceaninfohub.org/public/graphs/summonedmarinetraining_v1_release.nq', 'http://ossapi.oceaninfohub.org/public/graphs/summonedobis_v1_release.nq', 'http://ossapi.oceaninfohub.org/public/graphs/summonedobps_v1_release.nq', 'http://ossapi.oceaninfohub.org/public/graphs/summonedoceanexperts_v1_release.nq', 'http://ossapi.oceaninfohub.org/public/graphs/summonedpdh_v1_release.nq']\n"
     ]
    }
   ],
   "source": [
    "print(urls)"
   ]
  },
  {
   "cell_type": "markdown",
   "metadata": {},
   "source": [
    "## Single Graph Test\n",
    "\n",
    "At this point we have the URLs, and we could either loop load all of them or pull one out manually and use.  This section dmonstrates loading and working with one\n"
   ]
  },
  {
   "cell_type": "code",
   "execution_count": 23,
   "metadata": {
    "tags": [],
    "ExecuteTime": {
     "end_time": "2023-08-29T16:24:14.121746722Z",
     "start_time": "2023-08-29T16:24:05.419560531Z"
    }
   },
   "outputs": [
    {
     "name": "stdout",
     "output_type": "stream",
     "text": [
      "161187\n"
     ]
    }
   ],
   "source": [
    "# load quad graph\n",
    "g = ConjunctiveGraph()\n",
    "g.parse(\"http://ossapi.oceaninfohub.org/public/graphs/summonedobis_v1_release.nq\", format=\"nquads\")\n",
    "print(len(g))"
   ]
  },
  {
   "cell_type": "code",
   "execution_count": 24,
   "metadata": {
    "tags": [],
    "ExecuteTime": {
     "end_time": "2023-08-29T16:24:14.132179601Z",
     "start_time": "2023-08-29T16:24:14.123263157Z"
    }
   },
   "outputs": [],
   "source": [
    "namespaces = {\n",
    "    \"shacl\":   \"http://www.w3.org/ns/shacl#\" ,\n",
    "    \"schema\":   \"https://schema.org/\" ,\n",
    "    \"schemawrong\": \"http://schema.org/\",\n",
    "    \"geo\":      \"http://www.opengis.net/ont/geosparql#\",\n",
    "}\n",
    "\n",
    "kg = kglab.KnowledgeGraph(name = \"OIH test\", base_uri = \"https://oceaninfohub.org/id/\", namespaces = namespaces, use_gpus=True, import_graph = g)"
   ]
  },
  {
   "cell_type": "code",
   "execution_count": 53,
   "outputs": [],
   "source": [
    "solrquery2 = \"\"\"\n",
    "PREFIX schema: <https://schema.org/>\n",
    "PREFIX schemawrong: <http://schema.org/>\n",
    "\n",
    "SELECT (?s as ?id) ?type \n",
    "WHERE\n",
    "{\n",
    "    ?s rdf:type ?type ?description\n",
    "    FILTER ( ?type IN (schema:ResearchProject, schema:Project, schema:Organization,\n",
    "    schema:Dataset, schema:CreativeWork, schema:Person, schema:Map, schema:Course,\n",
    "    schema:CourseInstance, schema:Event, schema:Vehicle,   schemawrong:ResearchProject, schemawrong:Project, schemawrong:Organization,\n",
    "    schemawrong:Dataset, schemawrong:CreativeWork, schemawrong:Person, schemawrong:Map, schemawrong:Course,\n",
    "    schemawrong:CourseInstance, schemawrong:Event, schemawrong:Vehicle  ) )\n",
    "    ?s schema:name | schemawrong:name ?name\n",
    "    OPTIONAL {  ?s schema:keywords | schemawrong:keywords ?keywords }\n",
    "    OPTIONAL { ?s schema:description | schemawrong:description  ?desc . }\n",
    "    OPTIONAL { ?s schema:name | schemawrong:description  ?name . }\n",
    "    OPTIONAL { ?s schema:url | schemawrong:url ?url .   }\n",
    "    OPTIONAL {?s schema:keywords | schemawrong:keywords ?keywords}\n",
    "    OPTIONAL { ?s schema:spatialCoverage ?sc .\n",
    "      ?sc a  schema:Place .\n",
    "      ?sc schema:geo ?geo .\n",
    "      ?geo a ?geotype .\n",
    "      ?geo schema:polygon ?geom\n",
    "    }\n",
    "}\n",
    "\"\"\"\n",
    "\n",
    "solrquery1 = \"\"\"\n",
    "PREFIX schema: <https://schema.org/>\n",
    "PREFIX schemawrong: <http://schema.org/>\n",
    "\n",
    "SELECT (?s as ?id) ?type ?description ?name ?geom\n",
    "WHERE\n",
    "{\n",
    "    ?s rdf:type ?type\n",
    "    FILTER ( ?type IN (schema:ResearchProject, schema:Project, schema:Organization,\n",
    "    schema:Dataset, schema:CreativeWork, schema:Person, schema:Map, schema:Course,\n",
    "    schema:CourseInstance, schema:Event, schema:Vehicle,   schemawrong:ResearchProject, schemawrong:Project, schemawrong:Organization,\n",
    "    schemawrong:Dataset, schemawrong:CreativeWork, schemawrong:Person, schemawrong:Map, schemawrong:Course,\n",
    "    schemawrong:CourseInstance, schemawrong:Event, schemawrong:Vehicle  ) )\n",
    "    ?s schema:name | schemawrong:name ?name\n",
    "        OPTIONAL { ?s schema:name | schemawrong:description  ?name . }\n",
    "\n",
    "    OPTIONAL {  ?s schema:keywords | schemawrong:keywords ?keywords }\n",
    "    OPTIONAL { ?s schema:description | schemawrong:description  ?description . }\n",
    "    OPTIONAL { ?s schema:url | schemawrong:url ?url .   }\n",
    "    OPTIONAL {?s schema:keywords | schemawrong:keywords ?keywords}\n",
    "    ?s schema:spatialCoverage ?sc .\n",
    "    ?sc a  schema:Place .\n",
    "    ?sc schema:geo ?geo .\n",
    "    ?geo a ?geotype .\n",
    "    ?geo ?geompred ?geom .\n",
    "    FILTER(!isIRI(?geom))\n",
    "\n",
    "}\n",
    "\"\"\"\n"
   ],
   "metadata": {
    "collapsed": false,
    "ExecuteTime": {
     "end_time": "2023-08-29T16:45:39.187019538Z",
     "start_time": "2023-08-29T16:45:39.142787348Z"
    }
   }
  },
  {
   "cell_type": "code",
   "execution_count": 54,
   "outputs": [
    {
     "ename": "KeyboardInterrupt",
     "evalue": "",
     "output_type": "error",
     "traceback": [
      "\u001B[0;31m---------------------------------------------------------------------------\u001B[0m",
      "\u001B[0;31mKeyboardInterrupt\u001B[0m                         Traceback (most recent call last)",
      "\u001B[0;32m/tmp/ipykernel_2640612/3686608473.py\u001B[0m in \u001B[0;36m<module>\u001B[0;34m\u001B[0m\n\u001B[0;32m----> 1\u001B[0;31m \u001B[0mpdf\u001B[0m \u001B[0;34m=\u001B[0m \u001B[0mkg\u001B[0m\u001B[0;34m.\u001B[0m\u001B[0mquery_as_df\u001B[0m\u001B[0;34m(\u001B[0m\u001B[0msolrquery1\u001B[0m\u001B[0;34m)\u001B[0m\u001B[0;34m\u001B[0m\u001B[0;34m\u001B[0m\u001B[0m\n\u001B[0m\u001B[1;32m      2\u001B[0m \u001B[0;31m# df = pdf   # .to_pandas()  #  breaks with papermill for reasons unknown at this time if to_pandas() is used, needed in my kglab conda env\u001B[0m\u001B[0;34m\u001B[0m\u001B[0;34m\u001B[0m\u001B[0m\n\u001B[1;32m      3\u001B[0m \u001B[0;31m# pdf.info()\u001B[0m\u001B[0;34m\u001B[0m\u001B[0;34m\u001B[0m\u001B[0m\n",
      "\u001B[0;32m~/.conda/envs/dev/lib/python3.10/site-packages/kglab/query/mixin.py\u001B[0m in \u001B[0;36mquery_as_df\u001B[0;34m(self, sparql, bindings, simplify, pythonify)\u001B[0m\n\u001B[1;32m    104\u001B[0m \u001B[0;34m\u001B[0m\u001B[0m\n\u001B[1;32m    105\u001B[0m         \u001B[0;32mif\u001B[0m \u001B[0msimplify\u001B[0m\u001B[0;34m:\u001B[0m\u001B[0;34m\u001B[0m\u001B[0;34m\u001B[0m\u001B[0m\n\u001B[0;32m--> 106\u001B[0;31m             \u001B[0mrows_list\u001B[0m \u001B[0;34m=\u001B[0m \u001B[0;34m[\u001B[0m \u001B[0mself\u001B[0m\u001B[0;34m.\u001B[0m\u001B[0mn3fy_row\u001B[0m\u001B[0;34m(\u001B[0m\u001B[0mr\u001B[0m\u001B[0;34m.\u001B[0m\u001B[0masdict\u001B[0m\u001B[0;34m(\u001B[0m\u001B[0;34m)\u001B[0m\u001B[0;34m,\u001B[0m \u001B[0mpythonify\u001B[0m\u001B[0;34m=\u001B[0m\u001B[0mpythonify\u001B[0m\u001B[0;34m)\u001B[0m \u001B[0;32mfor\u001B[0m \u001B[0mr\u001B[0m \u001B[0;32min\u001B[0m \u001B[0mrow_iter\u001B[0m \u001B[0;34m]\u001B[0m\u001B[0;34m\u001B[0m\u001B[0;34m\u001B[0m\u001B[0m\n\u001B[0m\u001B[1;32m    107\u001B[0m         \u001B[0;32melse\u001B[0m\u001B[0;34m:\u001B[0m\u001B[0;34m\u001B[0m\u001B[0;34m\u001B[0m\u001B[0m\n\u001B[1;32m    108\u001B[0m             \u001B[0mrows_list\u001B[0m \u001B[0;34m=\u001B[0m \u001B[0;34m[\u001B[0m \u001B[0mr\u001B[0m\u001B[0;34m.\u001B[0m\u001B[0masdict\u001B[0m\u001B[0;34m(\u001B[0m\u001B[0;34m)\u001B[0m \u001B[0;32mfor\u001B[0m \u001B[0mr\u001B[0m \u001B[0;32min\u001B[0m \u001B[0mrow_iter\u001B[0m \u001B[0;34m]\u001B[0m\u001B[0;34m\u001B[0m\u001B[0;34m\u001B[0m\u001B[0m\n",
      "\u001B[0;32m~/.conda/envs/dev/lib/python3.10/site-packages/kglab/query/mixin.py\u001B[0m in \u001B[0;36m<listcomp>\u001B[0;34m(.0)\u001B[0m\n\u001B[1;32m    104\u001B[0m \u001B[0;34m\u001B[0m\u001B[0m\n\u001B[1;32m    105\u001B[0m         \u001B[0;32mif\u001B[0m \u001B[0msimplify\u001B[0m\u001B[0;34m:\u001B[0m\u001B[0;34m\u001B[0m\u001B[0;34m\u001B[0m\u001B[0m\n\u001B[0;32m--> 106\u001B[0;31m             \u001B[0mrows_list\u001B[0m \u001B[0;34m=\u001B[0m \u001B[0;34m[\u001B[0m \u001B[0mself\u001B[0m\u001B[0;34m.\u001B[0m\u001B[0mn3fy_row\u001B[0m\u001B[0;34m(\u001B[0m\u001B[0mr\u001B[0m\u001B[0;34m.\u001B[0m\u001B[0masdict\u001B[0m\u001B[0;34m(\u001B[0m\u001B[0;34m)\u001B[0m\u001B[0;34m,\u001B[0m \u001B[0mpythonify\u001B[0m\u001B[0;34m=\u001B[0m\u001B[0mpythonify\u001B[0m\u001B[0;34m)\u001B[0m \u001B[0;32mfor\u001B[0m \u001B[0mr\u001B[0m \u001B[0;32min\u001B[0m \u001B[0mrow_iter\u001B[0m \u001B[0;34m]\u001B[0m\u001B[0;34m\u001B[0m\u001B[0;34m\u001B[0m\u001B[0m\n\u001B[0m\u001B[1;32m    107\u001B[0m         \u001B[0;32melse\u001B[0m\u001B[0;34m:\u001B[0m\u001B[0;34m\u001B[0m\u001B[0;34m\u001B[0m\u001B[0m\n\u001B[1;32m    108\u001B[0m             \u001B[0mrows_list\u001B[0m \u001B[0;34m=\u001B[0m \u001B[0;34m[\u001B[0m \u001B[0mr\u001B[0m\u001B[0;34m.\u001B[0m\u001B[0masdict\u001B[0m\u001B[0;34m(\u001B[0m\u001B[0;34m)\u001B[0m \u001B[0;32mfor\u001B[0m \u001B[0mr\u001B[0m \u001B[0;32min\u001B[0m \u001B[0mrow_iter\u001B[0m \u001B[0;34m]\u001B[0m\u001B[0;34m\u001B[0m\u001B[0;34m\u001B[0m\u001B[0m\n",
      "\u001B[0;32m~/.conda/envs/dev/lib/python3.10/site-packages/rdflib/query.py\u001B[0m in \u001B[0;36m__iter__\u001B[0;34m(self)\u001B[0m\n\u001B[1;32m    371\u001B[0m \u001B[0;34m\u001B[0m\u001B[0m\n\u001B[1;32m    372\u001B[0m             \u001B[0;32mif\u001B[0m \u001B[0mself\u001B[0m\u001B[0;34m.\u001B[0m\u001B[0m_genbindings\u001B[0m\u001B[0;34m:\u001B[0m\u001B[0;34m\u001B[0m\u001B[0;34m\u001B[0m\u001B[0m\n\u001B[0;32m--> 373\u001B[0;31m                 \u001B[0;32mfor\u001B[0m \u001B[0mb\u001B[0m \u001B[0;32min\u001B[0m \u001B[0mself\u001B[0m\u001B[0;34m.\u001B[0m\u001B[0m_genbindings\u001B[0m\u001B[0;34m:\u001B[0m\u001B[0;34m\u001B[0m\u001B[0;34m\u001B[0m\u001B[0m\n\u001B[0m\u001B[1;32m    374\u001B[0m                     \u001B[0;32mif\u001B[0m \u001B[0mb\u001B[0m\u001B[0;34m:\u001B[0m  \u001B[0;31m# don't add a result row in case of empty binding {}\u001B[0m\u001B[0;34m\u001B[0m\u001B[0;34m\u001B[0m\u001B[0m\n\u001B[1;32m    375\u001B[0m                         \u001B[0mself\u001B[0m\u001B[0;34m.\u001B[0m\u001B[0m_bindings\u001B[0m\u001B[0;34m.\u001B[0m\u001B[0mappend\u001B[0m\u001B[0;34m(\u001B[0m\u001B[0mb\u001B[0m\u001B[0;34m)\u001B[0m\u001B[0;34m\u001B[0m\u001B[0;34m\u001B[0m\u001B[0m\n",
      "\u001B[0;32m~/.conda/envs/dev/lib/python3.10/site-packages/rdflib/plugins/sparql/evaluate.py\u001B[0m in \u001B[0;36m<genexpr>\u001B[0;34m(.0)\u001B[0m\n\u001B[1;32m    560\u001B[0m \u001B[0;32mdef\u001B[0m \u001B[0mevalProject\u001B[0m\u001B[0;34m(\u001B[0m\u001B[0mctx\u001B[0m\u001B[0;34m:\u001B[0m \u001B[0mQueryContext\u001B[0m\u001B[0;34m,\u001B[0m \u001B[0mproject\u001B[0m\u001B[0;34m:\u001B[0m \u001B[0mCompValue\u001B[0m\u001B[0;34m)\u001B[0m\u001B[0;34m:\u001B[0m\u001B[0;34m\u001B[0m\u001B[0;34m\u001B[0m\u001B[0m\n\u001B[1;32m    561\u001B[0m     \u001B[0mres\u001B[0m \u001B[0;34m=\u001B[0m \u001B[0mevalPart\u001B[0m\u001B[0;34m(\u001B[0m\u001B[0mctx\u001B[0m\u001B[0;34m,\u001B[0m \u001B[0mproject\u001B[0m\u001B[0;34m.\u001B[0m\u001B[0mp\u001B[0m\u001B[0;34m)\u001B[0m\u001B[0;34m\u001B[0m\u001B[0;34m\u001B[0m\u001B[0m\n\u001B[0;32m--> 562\u001B[0;31m     \u001B[0;32mreturn\u001B[0m \u001B[0;34m(\u001B[0m\u001B[0mrow\u001B[0m\u001B[0;34m.\u001B[0m\u001B[0mproject\u001B[0m\u001B[0;34m(\u001B[0m\u001B[0mproject\u001B[0m\u001B[0;34m.\u001B[0m\u001B[0mPV\u001B[0m\u001B[0;34m)\u001B[0m \u001B[0;32mfor\u001B[0m \u001B[0mrow\u001B[0m \u001B[0;32min\u001B[0m \u001B[0mres\u001B[0m\u001B[0;34m)\u001B[0m\u001B[0;34m\u001B[0m\u001B[0;34m\u001B[0m\u001B[0m\n\u001B[0m\u001B[1;32m    563\u001B[0m \u001B[0;34m\u001B[0m\u001B[0m\n\u001B[1;32m    564\u001B[0m \u001B[0;34m\u001B[0m\u001B[0m\n",
      "\u001B[0;32m~/.conda/envs/dev/lib/python3.10/site-packages/rdflib/plugins/sparql/evaluate.py\u001B[0m in \u001B[0;36mevalExtend\u001B[0;34m(ctx, extend)\u001B[0m\n\u001B[1;32m    119\u001B[0m     \u001B[0;31m# TODO: Deal with dict returned from evalPart from GROUP BY\u001B[0m\u001B[0;34m\u001B[0m\u001B[0;34m\u001B[0m\u001B[0m\n\u001B[1;32m    120\u001B[0m \u001B[0;34m\u001B[0m\u001B[0m\n\u001B[0;32m--> 121\u001B[0;31m     \u001B[0;32mfor\u001B[0m \u001B[0mc\u001B[0m \u001B[0;32min\u001B[0m \u001B[0mevalPart\u001B[0m\u001B[0;34m(\u001B[0m\u001B[0mctx\u001B[0m\u001B[0;34m,\u001B[0m \u001B[0mextend\u001B[0m\u001B[0;34m.\u001B[0m\u001B[0mp\u001B[0m\u001B[0;34m)\u001B[0m\u001B[0;34m:\u001B[0m\u001B[0;34m\u001B[0m\u001B[0;34m\u001B[0m\u001B[0m\n\u001B[0m\u001B[1;32m    122\u001B[0m         \u001B[0;32mtry\u001B[0m\u001B[0;34m:\u001B[0m\u001B[0;34m\u001B[0m\u001B[0;34m\u001B[0m\u001B[0m\n\u001B[1;32m    123\u001B[0m             \u001B[0me\u001B[0m \u001B[0;34m=\u001B[0m \u001B[0m_eval\u001B[0m\u001B[0;34m(\u001B[0m\u001B[0mextend\u001B[0m\u001B[0;34m.\u001B[0m\u001B[0mexpr\u001B[0m\u001B[0;34m,\u001B[0m \u001B[0mc\u001B[0m\u001B[0;34m.\u001B[0m\u001B[0mforget\u001B[0m\u001B[0;34m(\u001B[0m\u001B[0mctx\u001B[0m\u001B[0;34m,\u001B[0m \u001B[0m_except\u001B[0m\u001B[0;34m=\u001B[0m\u001B[0mextend\u001B[0m\u001B[0;34m.\u001B[0m\u001B[0m_vars\u001B[0m\u001B[0;34m)\u001B[0m\u001B[0;34m)\u001B[0m\u001B[0;34m\u001B[0m\u001B[0;34m\u001B[0m\u001B[0m\n",
      "\u001B[0;32m~/.conda/envs/dev/lib/python3.10/site-packages/rdflib/plugins/sparql/evaluate.py\u001B[0m in \u001B[0;36mevalFilter\u001B[0;34m(ctx, part)\u001B[0m\n\u001B[1;32m    202\u001B[0m ) -> Generator[FrozenBindings, None, None]:\n\u001B[1;32m    203\u001B[0m     \u001B[0;31m# TODO: Deal with dict returned from evalPart!\u001B[0m\u001B[0;34m\u001B[0m\u001B[0;34m\u001B[0m\u001B[0m\n\u001B[0;32m--> 204\u001B[0;31m     \u001B[0;32mfor\u001B[0m \u001B[0mc\u001B[0m \u001B[0;32min\u001B[0m \u001B[0mevalPart\u001B[0m\u001B[0;34m(\u001B[0m\u001B[0mctx\u001B[0m\u001B[0;34m,\u001B[0m \u001B[0mpart\u001B[0m\u001B[0;34m.\u001B[0m\u001B[0mp\u001B[0m\u001B[0;34m)\u001B[0m\u001B[0;34m:\u001B[0m\u001B[0;34m\u001B[0m\u001B[0;34m\u001B[0m\u001B[0m\n\u001B[0m\u001B[1;32m    205\u001B[0m         if _ebv(\n\u001B[1;32m    206\u001B[0m             \u001B[0mpart\u001B[0m\u001B[0;34m.\u001B[0m\u001B[0mexpr\u001B[0m\u001B[0;34m,\u001B[0m\u001B[0;34m\u001B[0m\u001B[0;34m\u001B[0m\u001B[0m\n",
      "\u001B[0;32m~/.conda/envs/dev/lib/python3.10/site-packages/rdflib/plugins/sparql/evaluate.py\u001B[0m in \u001B[0;36mevalLazyJoin\u001B[0;34m(ctx, join)\u001B[0m\n\u001B[1;32m    142\u001B[0m     \u001B[0;32mfor\u001B[0m \u001B[0ma\u001B[0m \u001B[0;32min\u001B[0m \u001B[0mevalPart\u001B[0m\u001B[0;34m(\u001B[0m\u001B[0mctx\u001B[0m\u001B[0;34m,\u001B[0m \u001B[0mjoin\u001B[0m\u001B[0;34m.\u001B[0m\u001B[0mp1\u001B[0m\u001B[0;34m)\u001B[0m\u001B[0;34m:\u001B[0m\u001B[0;34m\u001B[0m\u001B[0;34m\u001B[0m\u001B[0m\n\u001B[1;32m    143\u001B[0m         \u001B[0mc\u001B[0m \u001B[0;34m=\u001B[0m \u001B[0mctx\u001B[0m\u001B[0;34m.\u001B[0m\u001B[0mthaw\u001B[0m\u001B[0;34m(\u001B[0m\u001B[0ma\u001B[0m\u001B[0;34m)\u001B[0m\u001B[0;34m\u001B[0m\u001B[0;34m\u001B[0m\u001B[0m\n\u001B[0;32m--> 144\u001B[0;31m         \u001B[0;32mfor\u001B[0m \u001B[0mb\u001B[0m \u001B[0;32min\u001B[0m \u001B[0mevalPart\u001B[0m\u001B[0;34m(\u001B[0m\u001B[0mc\u001B[0m\u001B[0;34m,\u001B[0m \u001B[0mjoin\u001B[0m\u001B[0;34m.\u001B[0m\u001B[0mp2\u001B[0m\u001B[0;34m)\u001B[0m\u001B[0;34m:\u001B[0m\u001B[0;34m\u001B[0m\u001B[0;34m\u001B[0m\u001B[0m\n\u001B[0m\u001B[1;32m    145\u001B[0m             \u001B[0;32myield\u001B[0m \u001B[0mb\u001B[0m\u001B[0;34m.\u001B[0m\u001B[0mmerge\u001B[0m\u001B[0;34m(\u001B[0m\u001B[0ma\u001B[0m\u001B[0;34m)\u001B[0m  \u001B[0;31m# merge, as some bindings may have been forgotten\u001B[0m\u001B[0;34m\u001B[0m\u001B[0;34m\u001B[0m\u001B[0m\n\u001B[1;32m    146\u001B[0m \u001B[0;34m\u001B[0m\u001B[0m\n",
      "\u001B[0;32m~/.conda/envs/dev/lib/python3.10/site-packages/rdflib/plugins/sparql/evaluate.py\u001B[0m in \u001B[0;36mevalBGP\u001B[0;34m(ctx, bgp)\u001B[0m\n\u001B[1;32m     86\u001B[0m     \u001B[0;31m# type error: Item \"None\" of \"Optional[Graph]\" has no attribute \"triples\"\u001B[0m\u001B[0;34m\u001B[0m\u001B[0;34m\u001B[0m\u001B[0m\n\u001B[1;32m     87\u001B[0m     \u001B[0;31m# type Argument 1 to \"triples\" of \"Graph\" has incompatible type \"Tuple[Union[str, Path, None], Union[str, Path, None], Union[str, Path, None]]\"; expected \"Tuple[Optional[Node], Optional[Node], Optional[Node]]\"\u001B[0m\u001B[0;34m\u001B[0m\u001B[0;34m\u001B[0m\u001B[0m\n\u001B[0;32m---> 88\u001B[0;31m     \u001B[0;32mfor\u001B[0m \u001B[0mss\u001B[0m\u001B[0;34m,\u001B[0m \u001B[0msp\u001B[0m\u001B[0;34m,\u001B[0m \u001B[0mso\u001B[0m \u001B[0;32min\u001B[0m \u001B[0mctx\u001B[0m\u001B[0;34m.\u001B[0m\u001B[0mgraph\u001B[0m\u001B[0;34m.\u001B[0m\u001B[0mtriples\u001B[0m\u001B[0;34m(\u001B[0m\u001B[0;34m(\u001B[0m\u001B[0m_s\u001B[0m\u001B[0;34m,\u001B[0m \u001B[0m_p\u001B[0m\u001B[0;34m,\u001B[0m \u001B[0m_o\u001B[0m\u001B[0;34m)\u001B[0m\u001B[0;34m)\u001B[0m\u001B[0;34m:\u001B[0m  \u001B[0;31m# type: ignore[union-attr, arg-type]\u001B[0m\u001B[0;34m\u001B[0m\u001B[0;34m\u001B[0m\u001B[0m\n\u001B[0m\u001B[1;32m     89\u001B[0m         \u001B[0;32mif\u001B[0m \u001B[0;32mNone\u001B[0m \u001B[0;32min\u001B[0m \u001B[0;34m(\u001B[0m\u001B[0m_s\u001B[0m\u001B[0;34m,\u001B[0m \u001B[0m_p\u001B[0m\u001B[0;34m,\u001B[0m \u001B[0m_o\u001B[0m\u001B[0;34m)\u001B[0m\u001B[0;34m:\u001B[0m\u001B[0;34m\u001B[0m\u001B[0;34m\u001B[0m\u001B[0m\n\u001B[1;32m     90\u001B[0m             \u001B[0mc\u001B[0m \u001B[0;34m=\u001B[0m \u001B[0mctx\u001B[0m\u001B[0;34m.\u001B[0m\u001B[0mpush\u001B[0m\u001B[0;34m(\u001B[0m\u001B[0;34m)\u001B[0m\u001B[0;34m\u001B[0m\u001B[0;34m\u001B[0m\u001B[0m\n",
      "\u001B[0;32m~/.conda/envs/dev/lib/python3.10/site-packages/rdflib/graph.py\u001B[0m in \u001B[0;36mtriples\u001B[0;34m(self, triple_or_quad, context)\u001B[0m\n\u001B[1;32m   2102\u001B[0m                 \u001B[0;32myield\u001B[0m \u001B[0ms\u001B[0m\u001B[0;34m,\u001B[0m \u001B[0mp\u001B[0m\u001B[0;34m,\u001B[0m \u001B[0mo\u001B[0m\u001B[0;34m\u001B[0m\u001B[0;34m\u001B[0m\u001B[0m\n\u001B[1;32m   2103\u001B[0m         \u001B[0;32melse\u001B[0m\u001B[0;34m:\u001B[0m\u001B[0;34m\u001B[0m\u001B[0;34m\u001B[0m\u001B[0m\n\u001B[0;32m-> 2104\u001B[0;31m             \u001B[0;32mfor\u001B[0m \u001B[0;34m(\u001B[0m\u001B[0ms\u001B[0m\u001B[0;34m,\u001B[0m \u001B[0mp\u001B[0m\u001B[0;34m,\u001B[0m \u001B[0mo\u001B[0m\u001B[0;34m)\u001B[0m\u001B[0;34m,\u001B[0m \u001B[0mcg\u001B[0m \u001B[0;32min\u001B[0m \u001B[0mself\u001B[0m\u001B[0;34m.\u001B[0m\u001B[0mstore\u001B[0m\u001B[0;34m.\u001B[0m\u001B[0mtriples\u001B[0m\u001B[0;34m(\u001B[0m\u001B[0;34m(\u001B[0m\u001B[0ms\u001B[0m\u001B[0;34m,\u001B[0m \u001B[0mp\u001B[0m\u001B[0;34m,\u001B[0m \u001B[0mo\u001B[0m\u001B[0;34m)\u001B[0m\u001B[0;34m,\u001B[0m \u001B[0mcontext\u001B[0m\u001B[0;34m=\u001B[0m\u001B[0mcontext\u001B[0m\u001B[0;34m)\u001B[0m\u001B[0;34m:\u001B[0m\u001B[0;34m\u001B[0m\u001B[0;34m\u001B[0m\u001B[0m\n\u001B[0m\u001B[1;32m   2105\u001B[0m                 \u001B[0;32myield\u001B[0m \u001B[0ms\u001B[0m\u001B[0;34m,\u001B[0m \u001B[0mp\u001B[0m\u001B[0;34m,\u001B[0m \u001B[0mo\u001B[0m\u001B[0;34m\u001B[0m\u001B[0;34m\u001B[0m\u001B[0m\n\u001B[1;32m   2106\u001B[0m \u001B[0;34m\u001B[0m\u001B[0m\n",
      "\u001B[0;32m~/.conda/envs/dev/lib/python3.10/site-packages/rdflib/plugins/stores/memory.py\u001B[0m in \u001B[0;36mtriples\u001B[0;34m(self, triple_pattern, context)\u001B[0m\n\u001B[1;32m    492\u001B[0m                             \u001B[0mtriple\u001B[0m \u001B[0;34m=\u001B[0m \u001B[0;34m(\u001B[0m\u001B[0ms\u001B[0m\u001B[0;34m,\u001B[0m \u001B[0mpredicate\u001B[0m\u001B[0;34m,\u001B[0m \u001B[0mobject_\u001B[0m\u001B[0;34m)\u001B[0m\u001B[0;34m\u001B[0m\u001B[0;34m\u001B[0m\u001B[0m\n\u001B[1;32m    493\u001B[0m                             \u001B[0;32mif\u001B[0m \u001B[0mself\u001B[0m\u001B[0;34m.\u001B[0m\u001B[0m__triple_has_context\u001B[0m\u001B[0;34m(\u001B[0m\u001B[0mtriple\u001B[0m\u001B[0;34m,\u001B[0m \u001B[0mreq_ctx\u001B[0m\u001B[0;34m)\u001B[0m\u001B[0;34m:\u001B[0m\u001B[0;34m\u001B[0m\u001B[0;34m\u001B[0m\u001B[0m\n\u001B[0;32m--> 494\u001B[0;31m                                 \u001B[0;32myield\u001B[0m \u001B[0mtriple\u001B[0m\u001B[0;34m,\u001B[0m \u001B[0mself\u001B[0m\u001B[0;34m.\u001B[0m\u001B[0m__contexts\u001B[0m\u001B[0;34m(\u001B[0m\u001B[0mtriple\u001B[0m\u001B[0;34m)\u001B[0m\u001B[0;34m\u001B[0m\u001B[0;34m\u001B[0m\u001B[0m\n\u001B[0m\u001B[1;32m    495\u001B[0m                     \u001B[0;32melse\u001B[0m\u001B[0;34m:\u001B[0m  \u001B[0;31m# given object not found\u001B[0m\u001B[0;34m\u001B[0m\u001B[0;34m\u001B[0m\u001B[0m\n\u001B[1;32m    496\u001B[0m                         \u001B[0;32mpass\u001B[0m\u001B[0;34m\u001B[0m\u001B[0;34m\u001B[0m\u001B[0m\n",
      "\u001B[0;32m~/.conda/envs/dev/lib/python3.10/site-packages/rdflib/plugins/stores/memory.py\u001B[0m in \u001B[0;36m__contexts\u001B[0;34m(self, triple)\u001B[0m\n\u001B[1;32m    706\u001B[0m             \u001B[0;32mraise\u001B[0m \u001B[0mRuntimeError\u001B[0m\u001B[0;34m(\u001B[0m\u001B[0;34m\"Cannot use that type of object as a Graph context\"\u001B[0m\u001B[0;34m)\u001B[0m\u001B[0;34m\u001B[0m\u001B[0;34m\u001B[0m\u001B[0m\n\u001B[1;32m    707\u001B[0m \u001B[0;34m\u001B[0m\u001B[0m\n\u001B[0;32m--> 708\u001B[0;31m     def __contexts(\n\u001B[0m\u001B[1;32m    709\u001B[0m         \u001B[0mself\u001B[0m\u001B[0;34m,\u001B[0m \u001B[0mtriple\u001B[0m\u001B[0;34m:\u001B[0m \u001B[0;34m\"_TripleType\"\u001B[0m\u001B[0;34m\u001B[0m\u001B[0;34m\u001B[0m\u001B[0m\n\u001B[1;32m    710\u001B[0m     ) -> Generator[\"_ContextType\", None, None]:\n",
      "\u001B[0;31mKeyboardInterrupt\u001B[0m: "
     ]
    }
   ],
   "source": [
    "pdf = kg.query_as_df(solrquery1)\n",
    "# df = pdf   # .to_pandas()  #  breaks with papermill for reasons unknown at this time if to_pandas() is used, needed in my kglab conda env\n",
    "# pdf.info()"
   ],
   "metadata": {
    "collapsed": false,
    "ExecuteTime": {
     "end_time": "2023-08-29T16:55:28.533779996Z",
     "start_time": "2023-08-29T16:45:39.673540307Z"
    }
   }
  },
  {
   "cell_type": "code",
   "execution_count": null,
   "metadata": {
    "tags": [],
    "ExecuteTime": {
     "start_time": "2023-08-29T16:55:28.522233827Z"
    }
   },
   "outputs": [],
   "source": [
    "pdf.head(20)\n"
   ]
  },
  {
   "cell_type": "markdown",
   "source": [
    "# Frame testing\n"
   ],
   "metadata": {
    "collapsed": false
   }
  },
  {
   "cell_type": "code",
   "execution_count": 74,
   "outputs": [],
   "source": [
    "def simple_frame(dg, frame):\n",
    "    try:\n",
    "        framed = jsonld.frame(dg, frame)\n",
    "        return framed  # ['citation']\n",
    "    except:\n",
    "        return \"\""
   ],
   "metadata": {
    "collapsed": false,
    "ExecuteTime": {
     "end_time": "2023-08-29T17:40:58.591349484Z",
     "start_time": "2023-08-29T17:40:58.528507078Z"
    }
   }
  },
  {
   "cell_type": "code",
   "execution_count": 94,
   "outputs": [
    {
     "name": "stdout",
     "output_type": "stream",
     "text": [
      "{\n",
      "  \"@context\": {\n",
      "    \"@vocab\": \"http://schema.org/\"\n",
      "  },\n",
      "  \"@graph\": [\n",
      "    {\n",
      "      \"@id\": \"http://ckan.onc.uvic.ca\",\n",
      "      \"@type\": \"DataCatalog\",\n",
      "      \"description\": \"\"\n",
      "    },\n",
      "    {\n",
      "      \"@id\": \"https://catalogue.cioos.ca\",\n",
      "      \"@type\": \"DataCatalog\",\n",
      "      \"description\": \"\"\n",
      "    },\n",
      "    {\n",
      "      \"@id\": \"https://catalogue.cioos.ca/dataset/ff0232d8-34bd-4456-be28-20d4f8b2937c.jsonld\",\n",
      "      \"@type\": \"Dataset\",\n",
      "      \"description\": [\n",
      "        {\n",
      "          \"@language\": \"en\",\n",
      "          \"@value\": \"The WET Labs ECO FLNTUS 894 was deployed on 2010-09-13 at Barkley Upper Slope. Upper Slope is a location within Barkley Canyon, which is located on the upper continental slope. This device is a Fluorometer Turbidity. Fluorometer Turbidity instruments measure chlorophyll fluorescence and turbidity within the same volume of seawater. The instrument uses a light emitting diode (LED) to provide an excitation source. The fluoresced light is received by a detector at a particular angle from the LED source, and uses an interference filter to discriminate against scattered excitation light. Turbidity is measured at the same time, by detecting scattered light from a LED, which is positioned at the same angle as the chlorophyll fluorescence. It was deployed on a profiling platform. Data from this deployment were archived and made available through Ocean Networks Canada's Oceans 3.0 digital infrastructure, with quality assurance and derived data products following established practices.\"\n",
      "        },\n",
      "        {\n",
      "          \"@language\": \"fr\",\n",
      "          \"@value\": \"Ce WET Labs ECO FLNTUS 894 a \\u00e9t\\u00e9 d\\u00e9ploy\\u00e9 le 2010-09-13 au Barkley Canyon Upper Slope. Upper Slope est un endroit situ\\u00e9 dans Barkley Canyon, qui est situ\\u00e9 sur le versant continental sup\\u00e9rieur. Cet instrument est un Fluorim\\u00e8tre et Turbidit\\u00e9. Les instruments de fluorim\\u00e8tre et turbidit\\u00e9 (FLNTU) sont dot\\u00e9s d'un capteur combin\\u00e9 qui mesure la fluorescence et la turbidit\\u00e9 de la chlorophylle dans le m\\u00eame volume d'eau de mer. L'instrument utilise une diode \\u00e9lectroluminescente (DEL) pour fournir une source d'excitation. La lumi\\u00e8re fluorescente est re\\u00e7ue par un d\\u00e9tecteur \\u00e0 un angle particulier \\u00e0 partir de la source DEL et utilise un filtre d'interf\\u00e9rence pour distinguer la lumi\\u00e8re d'excitation dispers\\u00e9e. La turbidit\\u00e9 est mesur\\u00e9e en m\\u00eame temps, en d\\u00e9tectant la lumi\\u00e8re diffus\\u00e9e \\u00e0 partir d'une DEL, qui est positionn\\u00e9e au m\\u00eame angle que la fluorescence chlorophylle. Il a \\u00e9t\\u00e9 deploy\\u00e9 sur une plateforme profilant. Les donn\\u00e9es de ce d\\u00e9ploiement sont archiv\\u00e9es et accessibles sur l\\u2019infrastructure num\\u00e9rique Oceans 3.0 du R\\u00e9seau Canadien des Oc\\u00e9ans (ONC), avec assurance de la qualit\\u00e9 et produits d\\u00e9riv\\u00e9s selon les conventions \\u00e9tablies.\"\n",
      "        }\n",
      "      ]\n",
      "    },\n",
      "    {\n",
      "      \"@id\": \"https://catalogue.cioos.ca/dataset/ff0232d8-34bd-4456-be28-20d4f8b2937c/resource/ca-cioos-resource_db2601e73a3bd9b1fdf69be519241c9e\",\n",
      "      \"@type\": \"DataDownload\",\n",
      "      \"description\": \"Data is delivered via ERDDAP, a data server that gives a standardized way to download subsets of datasets in common file formats. This particular ERDDAP installation has oceanographic data from Ocean Networks Canada's instruments\"\n",
      "    },\n",
      "    {\n",
      "      \"@id\": \"https://catalogue.cioospacific.ca\",\n",
      "      \"@type\": \"DataCatalog\",\n",
      "      \"description\": \"Home of Canada's Pacific Ocean Data\"\n",
      "    }\n",
      "  ]\n",
      "}\n"
     ]
    }
   ],
   "source": [
    "with open('./assets/frame.json', 'rb') as f:\n",
    "    fr = json.loads(f.read().decode(\"utf-8\", \"ignore\").replace('\\n',' '))\n",
    "    # fr =   f.read()\n",
    "\n",
    "with open('./solrInputData.json', 'rb') as f:\n",
    "    dg = json.loads(f.read().decode(\"utf-8\", \"ignore\").replace('\\n',' '))\n",
    "    # dg =   file.read()\n",
    "    \n",
    "# print(fr)\n",
    "# print(dg)\n",
    "\n",
    "f = simple_frame(dg, fr)\n",
    "json_formatted_str = json.dumps(f, indent=2)\n",
    "print(json_formatted_str)"
   ],
   "metadata": {
    "collapsed": false,
    "ExecuteTime": {
     "end_time": "2023-08-29T17:53:21.165443556Z",
     "start_time": "2023-08-29T17:53:21.124824457Z"
    }
   }
  },
  {
   "cell_type": "code",
   "execution_count": null,
   "outputs": [],
   "source": [],
   "metadata": {
    "collapsed": false
   }
  }
 ],
 "metadata": {
  "kernelspec": {
   "display_name": "Python 3 (ipykernel)",
   "language": "python",
   "name": "python3"
  },
  "language_info": {
   "codemirror_mode": {
    "name": "ipython",
    "version": 3
   },
   "file_extension": ".py",
   "mimetype": "text/x-python",
   "name": "python",
   "nbconvert_exporter": "python",
   "pygments_lexer": "ipython3",
   "version": "3.10.8"
  }
 },
 "nbformat": 4,
 "nbformat_minor": 4
}
