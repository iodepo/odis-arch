{
 "cells": [
  {
   "cell_type": "markdown",
   "metadata": {
    "id": "G3JNChI0uBdD"
   },
   "source": [
    "# Named Entity Recognition for GeoPolitical Entities\n",
    "\n",
    "## About\n",
    "\n",
    "This notebook is a simple test.  It performs the following: \n",
    "\n",
    "* Loads data from an S3 (Minio) source populated by [Gleaner](https://gleaner.io) into a Pandas data frame mediated by Dask\n",
    "* Loads SWEET labels into an additional Pandas data frame\n",
    "* Leverages SpaCy to extract entities from the data graph descriptions.  \n",
    "* Compare the extracted entities (from descriptions) and the keywords from the data graph to the SWEET labels to looks for matches.  \n",
    "\n",
    "This pattern could be used with other elements of the data graph or extracted entities and other vocabularies for linking. \n",
    "\n",
    "Additionally it provides an exmaple of comparing generated knowledge graphs from various sources with each other as well to resolve relations.  \n",
    "\n",
    "## Domain Entities\n",
    "\n",
    "What we really need is a domain entity linker like described at:\n",
    "https://github.com/allenai/scispacy#entitylinker in SciSpaCY.  However, we are not going to use SciSpaCY obviously, as it's more for biomedical.  \n",
    "\n",
    "For now we will stick to SpaCY in this example.  Later it would be good train an entity extractor for the geoscience for SpaCY or other NLP packages. \n",
    "\n",
    "## Checking WikiData\n",
    "\n",
    "We could do something like with SWEET but for WikiDATA.  However, a search at https://query.wikidata.org/ like:\n",
    "\n",
    "```\n",
    "SELECT * \n",
    "WHERE { \n",
    "  SERVICE wikibase:mwapi \n",
    "          { bd:serviceParam wikibase:api \"EntitySearch\" . \n",
    "           bd:serviceParam wikibase:endpoint \"www.wikidata.org\" . \n",
    "           bd:serviceParam mwapi:search \"cascade\" . \n",
    "           bd:serviceParam mwapi:language \"en\" . \n",
    "           ?item wikibase:apiOutputItem mwapi:item . \n",
    "           ?num wikibase:apiOrdinal true . \n",
    "          } \n",
    "}\n",
    "```\n",
    "\n",
    "returns a large amount of results.   Reference details about this call at https://www.mediawiki.org/wiki/Wikidata_Query_Service/User_Manual/MWAPI. \n",
    "\n",
    "Resolving if any of these are in fact a true match is difficult to know.  Even presenting these to a human for assessment is non-trivial.  \n",
    "\n",
    "## Reporting\n",
    "\n",
    "Resolving this issue of how to present these results back in an effective and usable manner to data providers is an important aspect.  I am not sure what might be the best approach at this time though it might vary from community to community. \n",
    "\n",
    "## UN References\n",
    "* https://unstats.un.org/sdgapi/swagger/#!/GeoArea/V1SdgGeoAreaListGet\n",
    "* https://unstats.un.org/sdgapi/swagger/\n",
    "* https://en.wikipedia.org/wiki/United_Nations_geoscheme\n",
    "* https://github.com/iodepo/odis-arch/tree/schema-dev-jm/data/un-countries\n",
    "\n",
    "```\n",
    "curl -X GET --header 'Accept: application/json' 'https://unstats.un.org/sdgapi/v1/sdg/GeoArea/List'\n",
    "```\n",
    "\n"
   ]
  },
  {
   "cell_type": "markdown",
   "metadata": {
    "id": "hlv5Whu8WjYX"
   },
   "source": [
    "### Core imports"
   ]
  },
  {
   "cell_type": "code",
   "execution_count": 1,
   "metadata": {
    "id": "wiwH7BrtxMCp",
    "tags": [],
    "ExecuteTime": {
     "end_time": "2023-07-12T18:31:18.910285243Z",
     "start_time": "2023-07-12T18:31:16.610493782Z"
    }
   },
   "outputs": [],
   "source": [
    "# Import packages\n",
    "import warnings\n",
    "warnings.simplefilter(action='ignore', category=FutureWarning)  ## remove pandas future warning\n",
    "\n",
    "import scispacy\n",
    "import spacy\n",
    "#import en_core_sci_sm\n",
    "from spacy import displacy\n",
    "import getpass\n",
    "import pandas as pd\n",
    "import urllib.request, json\n",
    "import dask, boto3\n",
    "import s3fs\n",
    "import dask.dataframe as dd"
   ]
  },
  {
   "cell_type": "markdown",
   "source": [
    "## Model Installs\n",
    "\n",
    "If you know you have these installed already you can skip the install in the next two cells.  It can take a while to download and install the models"
   ],
   "metadata": {
    "collapsed": false
   }
  },
  {
   "cell_type": "code",
   "execution_count": 14,
   "outputs": [],
   "source": [
    "# Install a SciSpaCY model\n",
    "!pip install -q https://s3-us-west-2.amazonaws.com/ai2-s2-scispacy/releases/v0.2.4/en_core_sci_sm-0.2.4.tar.gz"
   ],
   "metadata": {
    "collapsed": false,
    "pycharm": {
     "name": "#%%\n"
    }
   }
  },
  {
   "cell_type": "code",
   "execution_count": 15,
   "outputs": [],
   "source": [
    "# Install SpaCY Web Large\n",
    "!pip install -q https://s3-us-west-2.amazonaws.com/ai2-s2-scispacy/releases/v0.5.1/en_core_sci_lg-0.5.1.tar.gz\n",
    "# !pip install -q https://github.com/explosion/spacy-models/releases/download/en_core_web_lg-3.4.1/en_core_web_lg-3.4.1.tar.gz\n"
   ],
   "metadata": {
    "collapsed": false,
    "pycharm": {
     "name": "#%%\n"
    }
   }
  },
  {
   "cell_type": "markdown",
   "metadata": {
    "id": "VPCguN7dQnVz"
   },
   "source": [
    "### Helping function(s)\n",
    "The following block is a SPARQL to Pandas feature.  You may need to run it to load the function per standard notebook actions."
   ]
  },
  {
   "cell_type": "code",
   "execution_count": 2,
   "metadata": {
    "id": "KlU0kr2R00i_",
    "ExecuteTime": {
     "end_time": "2023-07-12T18:31:27.286422496Z",
     "start_time": "2023-07-12T18:31:27.283427077Z"
    }
   },
   "outputs": [],
   "source": [
    "#@title\n",
    "def get_sparql_dataframe(service, query):\n",
    "    \"\"\"\n",
    "    Helper function to convert SPARQL results into a Pandas data frame.\n",
    "    \"\"\"\n",
    "    sparql = SPARQLWrapper(service)\n",
    "    sparql.setQuery(query)\n",
    "    sparql.setReturnFormat(JSON)\n",
    "    result = sparql.query()\n",
    "\n",
    "    processed_results = json.load(result.response)\n",
    "    cols = processed_results['head']['vars']\n",
    "\n",
    "    out = []\n",
    "    for row in processed_results['results']['bindings']:\n",
    "        item = []\n",
    "        for c in cols:\n",
    "            item.append(row.get(c, {}).get('value'))\n",
    "        out.append(item)\n",
    "\n",
    "    return pd.DataFrame(out, columns=cols)"
   ]
  },
  {
   "cell_type": "markdown",
   "metadata": {
    "id": "ZFNMwfzwe1Q7"
   },
   "source": [
    "### Pandas config"
   ]
  },
  {
   "cell_type": "code",
   "execution_count": 3,
   "metadata": {
    "colab": {
     "base_uri": "https://localhost:8080/",
     "height": 71
    },
    "id": "8G2m6K-Me01c",
    "outputId": "869f356b-1840-452c-9727-432cd85a310b",
    "ExecuteTime": {
     "end_time": "2023-07-12T18:31:28.902883481Z",
     "start_time": "2023-07-12T18:31:28.897802632Z"
    }
   },
   "outputs": [],
   "source": [
    "pd.set_option('display.max_rows', None)\n",
    "pd.set_option('display.max_columns', None)\n",
    "pd.set_option('display.width', None)\n",
    "pd.set_option('display.max_colwidth', -1)"
   ]
  },
  {
   "cell_type": "markdown",
   "metadata": {
    "id": "27XGS8Mk4Bm_"
   },
   "source": [
    "## Gleaner Data\n",
    "\n",
    "First lets load up some of the data Gleaner has collected.  This is just simple data graph objects and not any graphs or other processed products from Gleaner."
   ]
  },
  {
   "cell_type": "code",
   "execution_count": 4,
   "outputs": [],
   "source": [
    "# ## Anonymous S3 File system\n",
    "# oss = s3fs.S3FileSystem(\n",
    "#     anon=True,\n",
    "#     client_kwargs = {\"endpoint_url\":\"https://oss.geodex.org\"}\n",
    "# )\n",
    "\n",
    "# Access controlled s3\n",
    "# session = boto3.Session(profile_name='default' ,   region_name=\"us-east-1\")\n",
    "# s3 = session.client('s3')  # needed later for listing objects\n",
    "# s3r = session.resource('s3')\n",
    "# oss = s3fs.S3FileSystem( profile=\"default\")\n",
    "\n",
    "## Manual code access\n",
    "ACCESS_CODE = getpass.getpass()\n",
    "SECRET_CODE = getpass.getpass()\n",
    "\n",
    "oss = s3fs.S3FileSystem(\n",
    "    anon=False,\n",
    "    key=ACCESS_CODE,\n",
    "    secret=SECRET_CODE,\n",
    "    client_kwargs = {\"endpoint_url\":\"http://192.168.202.114:49155\"}\n",
    ")"
   ],
   "metadata": {
    "collapsed": false,
    "pycharm": {
     "name": "#%%\n"
    },
    "ExecuteTime": {
     "end_time": "2023-07-12T18:31:42.137559610Z",
     "start_time": "2023-07-12T18:31:29.923929576Z"
    }
   }
  },
  {
   "cell_type": "code",
   "execution_count": 6,
   "metadata": {
    "id": "jta0pzeOKbG0"
   },
   "outputs": [],
   "source": [
    "import json\n",
    "\n",
    "@dask.delayed()\n",
    "def read_a_file(fn):\n",
    "    # or preferably open in text mode and json.load from the file\n",
    "    with oss.open(fn, 'rb') as f:\n",
    "        #return json.loads(f.read().replace('\\n',' '))\n",
    "        return json.loads(f.read().decode(\"utf-8\", \"ignore\").replace('\\n',' '))\n"
   ]
  },
  {
   "cell_type": "code",
   "execution_count": 9,
   "metadata": {
    "id": "Uwjzh7PmK5Z9"
   },
   "outputs": [],
   "source": [
    "filenames = oss.ls('gleaner.oih/summoned/edmo')\n",
    "output = [read_a_file(f) for f in filenames]\n",
    "\n",
    "gldf = pd.DataFrame(columns=['name', 'url', \"keywords\", \"description\"])\n",
    "\n",
    "for doc in range(len(output)):\n",
    "#for doc in range(10):\n",
    "  try:\n",
    "    jld = output[doc].compute()\n",
    "  except:\n",
    "    print(\"Doc has bad encoding\")\n",
    "\n",
    "  # TODO  Really need to flatten and or frame this, framing would also allow a default value which I have\n",
    "  # to try except here for missing entries in a data graph\n",
    "\n",
    "  desc = \"\"\n",
    "  kws = \"\"\n",
    "\n",
    "  try:\n",
    "      desc = jld[\"description\"]\n",
    "  except:\n",
    "    pass\n",
    "\n",
    "  try:\n",
    "    kws = jld[\"keywords\"]\n",
    "  except:\n",
    "    pass\n",
    "\n",
    "  # kws = jld[\"keywords\"]\n",
    "  name = jld[\"name\"]\n",
    "  url = jld[\"url\"]  \n",
    "  gldf = gldf.append({'name':name, 'url':url, 'keywords':kws, 'description': desc}, ignore_index=True)\n"
   ]
  },
  {
   "cell_type": "code",
   "execution_count": 10,
   "metadata": {
    "colab": {
     "base_uri": "https://localhost:8080/",
     "height": 204
    },
    "id": "5YBhd00_aLIF",
    "outputId": "42b3b97f-334a-478c-9fa8-12e9c520096d"
   },
   "outputs": [
    {
     "name": "stdout",
     "output_type": "stream",
     "text": [
      "<class 'pandas.core.frame.DataFrame'>\n",
      "RangeIndex: 4616 entries, 0 to 4615\n",
      "Data columns (total 4 columns):\n",
      " #   Column       Non-Null Count  Dtype \n",
      "---  ------       --------------  ----- \n",
      " 0   name         4616 non-null   object\n",
      " 1   url          4616 non-null   object\n",
      " 2   keywords     4616 non-null   object\n",
      " 3   description  4616 non-null   object\n",
      "dtypes: object(4)\n",
      "memory usage: 144.4+ KB\n"
     ]
    }
   ],
   "source": [
    "gldf.info()"
   ]
  },
  {
   "cell_type": "markdown",
   "metadata": {
    "id": "PsQTrPv-cFkx"
   },
   "source": [
    "### Quick Check\n",
    "\n",
    "Lets grab one of our descriptions and feed it through spacy and check our entities.  The datafram ID 122 was a good one to try, feel free to experiment."
   ]
  },
  {
   "cell_type": "code",
   "execution_count": 18,
   "outputs": [
    {
     "name": "stdout",
     "output_type": "stream",
     "text": [
      "Estonian Marine Institute is one of many Tartu University&rsquo;s contemporary scientific institutions. The main purpose of Estonian Marine Institute is marine research and promotion of the given sphere in Estonia and the Baltic region. This institute is one of the biggest organizations in Estonia carrying out marine exploration contributing research in several marine study fields. Our research ranges from water physics to biology, from microscopic scale to ecosystems having unique expert opinion and qualification in most research fields. Estonian Marine Institute is an educational basis for the marine biology-oriented postgraduate students and is actively improving the advanced and extensive higher marine education in Estonia. The active progress of marine sciences in Estonia in the last decades has enhanced the awarness of Estonian science around the Baltic Sea countries and also in Europe. Estonian Marine Institute has very international nature and thus the research is conducted in high level and in close co-operation with other specialist around the world. The success of the Estonian marine scientists at the international level refers to their high-rated scientific publications and increase in the number of international projects. On the other hand a significant part of the research is aimed at finding solutions to the local scientific problems important for Estonia&rsquo;s well-being. We hope our website provides you easy access to all of the information you seek about the Estonian Marine Institute and useful links to other related themes.\n"
     ]
    }
   ],
   "source": [
    "text = gldf.at[1,'description']\n",
    "print(text)"
   ],
   "metadata": {
    "collapsed": false,
    "pycharm": {
     "name": "#%%\n"
    }
   }
  },
  {
   "cell_type": "code",
   "execution_count": 19,
   "metadata": {
    "colab": {
     "base_uri": "https://localhost:8080/",
     "height": 71
    },
    "id": "j0fH6BT9bN67",
    "outputId": "dcdfc32e-5ab1-466e-db2a-76e529d167a6"
   },
   "outputs": [
    {
     "name": "stdout",
     "output_type": "stream",
     "text": [
      "\n"
     ]
    }
   ],
   "source": [
    "kwtest = gldf.at[1,'keywords']\n",
    "print(kwtest)"
   ]
  },
  {
   "cell_type": "code",
   "execution_count": 20,
   "metadata": {
    "colab": {
     "base_uri": "https://localhost:8080/",
     "height": 247
    },
    "id": "IETGGQ9w_V4h",
    "outputId": "5b054a81-7947-469b-aad0-b08e7c39ab5d"
   },
   "outputs": [
    {
     "data": {
      "text/plain": "<IPython.core.display.HTML object>",
      "text/html": "<span class=\"tex2jax_ignore\"><div class=\"entities\" style=\"line-height: 2.5; direction: ltr\">\n<mark class=\"entity\" style=\"background: #7aecec; padding: 0.45em 0.6em; margin: 0 0.25em; line-height: 1; border-radius: 0.35em;\">\n    Estonian Marine Institute\n    <span style=\"font-size: 0.8em; font-weight: bold; line-height: 1; border-radius: 0.35em; text-transform: uppercase; vertical-align: middle; margin-left: 0.5rem\">ORG</span>\n</mark>\n is \n<mark class=\"entity\" style=\"background: #e4e7d2; padding: 0.45em 0.6em; margin: 0 0.25em; line-height: 1; border-radius: 0.35em;\">\n    one\n    <span style=\"font-size: 0.8em; font-weight: bold; line-height: 1; border-radius: 0.35em; text-transform: uppercase; vertical-align: middle; margin-left: 0.5rem\">CARDINAL</span>\n</mark>\n of many \n<mark class=\"entity\" style=\"background: #feca74; padding: 0.45em 0.6em; margin: 0 0.25em; line-height: 1; border-radius: 0.35em;\">\n    Tartu\n    <span style=\"font-size: 0.8em; font-weight: bold; line-height: 1; border-radius: 0.35em; text-transform: uppercase; vertical-align: middle; margin-left: 0.5rem\">GPE</span>\n</mark>\n University&amp;rsquo;s contemporary scientific institutions. The main purpose of \n<mark class=\"entity\" style=\"background: #7aecec; padding: 0.45em 0.6em; margin: 0 0.25em; line-height: 1; border-radius: 0.35em;\">\n    Estonian Marine Institute\n    <span style=\"font-size: 0.8em; font-weight: bold; line-height: 1; border-radius: 0.35em; text-transform: uppercase; vertical-align: middle; margin-left: 0.5rem\">ORG</span>\n</mark>\n is marine research and promotion of the given sphere in \n<mark class=\"entity\" style=\"background: #feca74; padding: 0.45em 0.6em; margin: 0 0.25em; line-height: 1; border-radius: 0.35em;\">\n    Estonia\n    <span style=\"font-size: 0.8em; font-weight: bold; line-height: 1; border-radius: 0.35em; text-transform: uppercase; vertical-align: middle; margin-left: 0.5rem\">GPE</span>\n</mark>\n and the \n<mark class=\"entity\" style=\"background: #c887fb; padding: 0.45em 0.6em; margin: 0 0.25em; line-height: 1; border-radius: 0.35em;\">\n    Baltic\n    <span style=\"font-size: 0.8em; font-weight: bold; line-height: 1; border-radius: 0.35em; text-transform: uppercase; vertical-align: middle; margin-left: 0.5rem\">NORP</span>\n</mark>\n region. This institute is one of the biggest organizations in \n<mark class=\"entity\" style=\"background: #feca74; padding: 0.45em 0.6em; margin: 0 0.25em; line-height: 1; border-radius: 0.35em;\">\n    Estonia\n    <span style=\"font-size: 0.8em; font-weight: bold; line-height: 1; border-radius: 0.35em; text-transform: uppercase; vertical-align: middle; margin-left: 0.5rem\">GPE</span>\n</mark>\n carrying out marine exploration contributing research in several marine study fields. Our research ranges from water physics to biology, from microscopic scale to ecosystems having unique expert opinion and qualification in most research fields. \n<mark class=\"entity\" style=\"background: #7aecec; padding: 0.45em 0.6em; margin: 0 0.25em; line-height: 1; border-radius: 0.35em;\">\n    Estonian Marine Institute\n    <span style=\"font-size: 0.8em; font-weight: bold; line-height: 1; border-radius: 0.35em; text-transform: uppercase; vertical-align: middle; margin-left: 0.5rem\">ORG</span>\n</mark>\n is an educational basis for the marine biology-oriented postgraduate students and is actively improving the advanced and extensive higher marine education in \n<mark class=\"entity\" style=\"background: #feca74; padding: 0.45em 0.6em; margin: 0 0.25em; line-height: 1; border-radius: 0.35em;\">\n    Estonia\n    <span style=\"font-size: 0.8em; font-weight: bold; line-height: 1; border-radius: 0.35em; text-transform: uppercase; vertical-align: middle; margin-left: 0.5rem\">GPE</span>\n</mark>\n. The active progress of marine sciences in \n<mark class=\"entity\" style=\"background: #feca74; padding: 0.45em 0.6em; margin: 0 0.25em; line-height: 1; border-radius: 0.35em;\">\n    Estonia\n    <span style=\"font-size: 0.8em; font-weight: bold; line-height: 1; border-radius: 0.35em; text-transform: uppercase; vertical-align: middle; margin-left: 0.5rem\">GPE</span>\n</mark>\n in \n<mark class=\"entity\" style=\"background: #bfe1d9; padding: 0.45em 0.6em; margin: 0 0.25em; line-height: 1; border-radius: 0.35em;\">\n    the last decades\n    <span style=\"font-size: 0.8em; font-weight: bold; line-height: 1; border-radius: 0.35em; text-transform: uppercase; vertical-align: middle; margin-left: 0.5rem\">DATE</span>\n</mark>\n has enhanced the awarness of \n<mark class=\"entity\" style=\"background: #c887fb; padding: 0.45em 0.6em; margin: 0 0.25em; line-height: 1; border-radius: 0.35em;\">\n    Estonian\n    <span style=\"font-size: 0.8em; font-weight: bold; line-height: 1; border-radius: 0.35em; text-transform: uppercase; vertical-align: middle; margin-left: 0.5rem\">NORP</span>\n</mark>\n science around the \n<mark class=\"entity\" style=\"background: #ff9561; padding: 0.45em 0.6em; margin: 0 0.25em; line-height: 1; border-radius: 0.35em;\">\n    Baltic Sea\n    <span style=\"font-size: 0.8em; font-weight: bold; line-height: 1; border-radius: 0.35em; text-transform: uppercase; vertical-align: middle; margin-left: 0.5rem\">LOC</span>\n</mark>\n countries and also in \n<mark class=\"entity\" style=\"background: #ff9561; padding: 0.45em 0.6em; margin: 0 0.25em; line-height: 1; border-radius: 0.35em;\">\n    Europe\n    <span style=\"font-size: 0.8em; font-weight: bold; line-height: 1; border-radius: 0.35em; text-transform: uppercase; vertical-align: middle; margin-left: 0.5rem\">LOC</span>\n</mark>\n. \n<mark class=\"entity\" style=\"background: #7aecec; padding: 0.45em 0.6em; margin: 0 0.25em; line-height: 1; border-radius: 0.35em;\">\n    Estonian Marine Institute\n    <span style=\"font-size: 0.8em; font-weight: bold; line-height: 1; border-radius: 0.35em; text-transform: uppercase; vertical-align: middle; margin-left: 0.5rem\">ORG</span>\n</mark>\n has very international nature and thus the research is conducted in high level and in close co-operation with other specialist around the world. The success of the \n<mark class=\"entity\" style=\"background: #c887fb; padding: 0.45em 0.6em; margin: 0 0.25em; line-height: 1; border-radius: 0.35em;\">\n    Estonian\n    <span style=\"font-size: 0.8em; font-weight: bold; line-height: 1; border-radius: 0.35em; text-transform: uppercase; vertical-align: middle; margin-left: 0.5rem\">NORP</span>\n</mark>\n marine scientists at the international level refers to their high-rated scientific publications and increase in the number of international projects. On the other hand a significant part of the research is aimed at finding solutions to the local scientific problems important for \n<mark class=\"entity\" style=\"background: #bfe1d9; padding: 0.45em 0.6em; margin: 0 0.25em; line-height: 1; border-radius: 0.35em;\">\n    Estonia&amp;rsquo;s\n    <span style=\"font-size: 0.8em; font-weight: bold; line-height: 1; border-radius: 0.35em; text-transform: uppercase; vertical-align: middle; margin-left: 0.5rem\">DATE</span>\n</mark>\n well-being. We hope our website provides you easy access to all of the information you seek about \n<mark class=\"entity\" style=\"background: #7aecec; padding: 0.45em 0.6em; margin: 0 0.25em; line-height: 1; border-radius: 0.35em;\">\n    the Estonian Marine Institute\n    <span style=\"font-size: 0.8em; font-weight: bold; line-height: 1; border-radius: 0.35em; text-transform: uppercase; vertical-align: middle; margin-left: 0.5rem\">ORG</span>\n</mark>\n and useful links to other related themes.</div></span>"
     },
     "metadata": {},
     "output_type": "display_data"
    }
   ],
   "source": [
    "from spacy import displacy\n",
    "import spacy\n",
    "import en_core_web_lg  # intersting need for import here...\n",
    "\n",
    "nlp = en_core_web_lg.load()\n",
    "# nlp = spacy.load(\"en_core_web_trf\")\n",
    "# doc2 = nlp(''.join(kwtest)) # nlp(text)\n",
    "doc2 = nlp(text) # nlp(text)\n",
    "\n",
    "displacy_image = displacy.render(doc2, jupyter = True, style = 'ent')"
   ]
  },
  {
   "cell_type": "markdown",
   "metadata": {
    "id": "qpi06RyvLowt"
   },
   "source": [
    "### Description Entities\n",
    "\n",
    "Now lets loop on all of the data graphs and pull the descriptions.  We will then use spacy to identify entities and hold these for later use.\n",
    "\n",
    "NORP == Nationalities or religious or political groups\n",
    "GPE == spacy.explain(\"GPE\")"
   ]
  },
  {
   "cell_type": "code",
   "execution_count": 21,
   "outputs": [
    {
     "data": {
      "text/plain": "'Nationalities or religious or political groups'"
     },
     "execution_count": 21,
     "metadata": {},
     "output_type": "execute_result"
    }
   ],
   "source": [
    "# you can request to define a lebel with\n",
    "spacy.explain(\"NORP\")"
   ],
   "metadata": {
    "collapsed": false,
    "pycharm": {
     "name": "#%%\n"
    }
   }
  },
  {
   "cell_type": "code",
   "execution_count": 22,
   "metadata": {
    "id": "7CmE1RuGLtLY"
   },
   "outputs": [],
   "source": [
    "from spacy import displacy\n",
    "import spacy\n",
    "import en_core_web_lg  # intersting need for import here...\n",
    "\n",
    "nlp = en_core_web_lg.load()\n",
    "df2 = pd.DataFrame(columns=['name', 'label', 'text', 'url'])\n",
    "\n",
    "for i in range(len(gldf)):\n",
    "  doc3 = nlp( gldf.at[i,'description'])\n",
    "  for entity in doc3.ents:\n",
    "    df2 = df2.append({'name': gldf.at[i,'name'], 'label': entity.label_, 'text':entity.text, 'url': gldf.at[i,'url']}, ignore_index=True)"
   ]
  },
  {
   "cell_type": "code",
   "execution_count": 23,
   "metadata": {
    "colab": {
     "base_uri": "https://localhost:8080/",
     "height": 289
    },
    "id": "EaknXoATOAs3",
    "outputId": "9374531a-6575-4536-fead-6a2cf1e28cb8",
    "pycharm": {
     "name": "#%%\n"
    }
   },
   "outputs": [
    {
     "data": {
      "text/plain": "                              name     label                       text  \\\n0  Oceaneering International, Inc.  ORG       Oceaneering                 \n1  Estonian Marine Institute        ORG       Estonian Marine Institute   \n2  Estonian Marine Institute        CARDINAL  one                         \n3  Estonian Marine Institute        GPE       Tartu                       \n4  Estonian Marine Institute        ORG       Estonian Marine Institute   \n5  Estonian Marine Institute        GPE       Estonia                     \n6  Estonian Marine Institute        NORP      Baltic                      \n7  Estonian Marine Institute        GPE       Estonia                     \n8  Estonian Marine Institute        ORG       Estonian Marine Institute   \n9  Estonian Marine Institute        GPE       Estonia                     \n\n                                       url  \n0  https://edmo.seadatanet.org/report/3600  \n1  https://edmo.seadatanet.org/report/714   \n2  https://edmo.seadatanet.org/report/714   \n3  https://edmo.seadatanet.org/report/714   \n4  https://edmo.seadatanet.org/report/714   \n5  https://edmo.seadatanet.org/report/714   \n6  https://edmo.seadatanet.org/report/714   \n7  https://edmo.seadatanet.org/report/714   \n8  https://edmo.seadatanet.org/report/714   \n9  https://edmo.seadatanet.org/report/714   ",
      "text/html": "<div>\n<style scoped>\n    .dataframe tbody tr th:only-of-type {\n        vertical-align: middle;\n    }\n\n    .dataframe tbody tr th {\n        vertical-align: top;\n    }\n\n    .dataframe thead th {\n        text-align: right;\n    }\n</style>\n<table border=\"1\" class=\"dataframe\">\n  <thead>\n    <tr style=\"text-align: right;\">\n      <th></th>\n      <th>name</th>\n      <th>label</th>\n      <th>text</th>\n      <th>url</th>\n    </tr>\n  </thead>\n  <tbody>\n    <tr>\n      <th>0</th>\n      <td>Oceaneering International, Inc.</td>\n      <td>ORG</td>\n      <td>Oceaneering</td>\n      <td>https://edmo.seadatanet.org/report/3600</td>\n    </tr>\n    <tr>\n      <th>1</th>\n      <td>Estonian Marine Institute</td>\n      <td>ORG</td>\n      <td>Estonian Marine Institute</td>\n      <td>https://edmo.seadatanet.org/report/714</td>\n    </tr>\n    <tr>\n      <th>2</th>\n      <td>Estonian Marine Institute</td>\n      <td>CARDINAL</td>\n      <td>one</td>\n      <td>https://edmo.seadatanet.org/report/714</td>\n    </tr>\n    <tr>\n      <th>3</th>\n      <td>Estonian Marine Institute</td>\n      <td>GPE</td>\n      <td>Tartu</td>\n      <td>https://edmo.seadatanet.org/report/714</td>\n    </tr>\n    <tr>\n      <th>4</th>\n      <td>Estonian Marine Institute</td>\n      <td>ORG</td>\n      <td>Estonian Marine Institute</td>\n      <td>https://edmo.seadatanet.org/report/714</td>\n    </tr>\n    <tr>\n      <th>5</th>\n      <td>Estonian Marine Institute</td>\n      <td>GPE</td>\n      <td>Estonia</td>\n      <td>https://edmo.seadatanet.org/report/714</td>\n    </tr>\n    <tr>\n      <th>6</th>\n      <td>Estonian Marine Institute</td>\n      <td>NORP</td>\n      <td>Baltic</td>\n      <td>https://edmo.seadatanet.org/report/714</td>\n    </tr>\n    <tr>\n      <th>7</th>\n      <td>Estonian Marine Institute</td>\n      <td>GPE</td>\n      <td>Estonia</td>\n      <td>https://edmo.seadatanet.org/report/714</td>\n    </tr>\n    <tr>\n      <th>8</th>\n      <td>Estonian Marine Institute</td>\n      <td>ORG</td>\n      <td>Estonian Marine Institute</td>\n      <td>https://edmo.seadatanet.org/report/714</td>\n    </tr>\n    <tr>\n      <th>9</th>\n      <td>Estonian Marine Institute</td>\n      <td>GPE</td>\n      <td>Estonia</td>\n      <td>https://edmo.seadatanet.org/report/714</td>\n    </tr>\n  </tbody>\n</table>\n</div>"
     },
     "execution_count": 23,
     "metadata": {},
     "output_type": "execute_result"
    }
   ],
   "source": [
    "df2.head(10)"
   ]
  },
  {
   "cell_type": "code",
   "execution_count": 27,
   "outputs": [],
   "source": [
    "df_gpe = df2[df2['label']==\"GPE\"].drop_duplicates( keep='first')"
   ],
   "metadata": {
    "collapsed": false,
    "pycharm": {
     "name": "#%%\n"
    }
   }
  },
  {
   "cell_type": "code",
   "execution_count": 29,
   "outputs": [
    {
     "data": {
      "text/plain": "                                                                               name  \\\n3    Estonian Marine Institute                                                        \n5    Estonian Marine Institute                                                        \n27   Oxford Archaeology (South)                                                       \n30   Oxford Archaeology (South)                                                       \n35   Appalachian State University                                                     \n36   Appalachian State University                                                     \n47   PowerGen Plc                                                                     \n51   PowerGen Plc                                                                     \n52   PowerGen Plc                                                                     \n54   PowerGen Plc                                                                     \n62   Galway-Mayo Institute of Technology                                              \n64   Galway-Mayo Institute of Technology                                              \n69   Max Planck Institute for Meteorology                                             \n70   Max Planck Institute for Meteorology                                             \n139  Canadian Ice Service                                                             \n152  Canadian Ice Service                                                             \n157  Canadian Ice Service                                                             \n174  Canadian Ice Service                                                             \n194  National Institute of Meteorology and Hydrology, Bulgarian Academy of Sciences   \n199  National Institute of Meteorology and Hydrology, Bulgarian Academy of Sciences   \n\n    label             text                                      url  \n3    GPE   Tartu            https://edmo.seadatanet.org/report/714   \n5    GPE   Estonia          https://edmo.seadatanet.org/report/714   \n27   GPE   Oxford           https://edmo.seadatanet.org/report/5102  \n30   GPE   England          https://edmo.seadatanet.org/report/5102  \n35   GPE   Boone            https://edmo.seadatanet.org/report/3516  \n36   GPE   N.C.             https://edmo.seadatanet.org/report/3516  \n47   GPE   UK               https://edmo.seadatanet.org/report/75    \n51   GPE   Haslemere        https://edmo.seadatanet.org/report/75    \n52   GPE   Surrey           https://edmo.seadatanet.org/report/75    \n54   GPE   United Kingdom   https://edmo.seadatanet.org/report/75    \n62   GPE   Galway City      https://edmo.seadatanet.org/report/773   \n64   GPE   Galway City's    https://edmo.seadatanet.org/report/773   \n69   GPE   Hamburg          https://edmo.seadatanet.org/report/2402  \n70   GPE   Hamburg&acute;s  https://edmo.seadatanet.org/report/2402  \n139  GPE   Canada           https://edmo.seadatanet.org/report/3711  \n152  GPE   Halifax          https://edmo.seadatanet.org/report/3711  \n157  GPE   Ottawa           https://edmo.seadatanet.org/report/3711  \n174  GPE   Toronto          https://edmo.seadatanet.org/report/3711  \n194  GPE   Bulgaria         https://edmo.seadatanet.org/report/961   \n199  GPE   Sofia            https://edmo.seadatanet.org/report/961   ",
      "text/html": "<div>\n<style scoped>\n    .dataframe tbody tr th:only-of-type {\n        vertical-align: middle;\n    }\n\n    .dataframe tbody tr th {\n        vertical-align: top;\n    }\n\n    .dataframe thead th {\n        text-align: right;\n    }\n</style>\n<table border=\"1\" class=\"dataframe\">\n  <thead>\n    <tr style=\"text-align: right;\">\n      <th></th>\n      <th>name</th>\n      <th>label</th>\n      <th>text</th>\n      <th>url</th>\n    </tr>\n  </thead>\n  <tbody>\n    <tr>\n      <th>3</th>\n      <td>Estonian Marine Institute</td>\n      <td>GPE</td>\n      <td>Tartu</td>\n      <td>https://edmo.seadatanet.org/report/714</td>\n    </tr>\n    <tr>\n      <th>5</th>\n      <td>Estonian Marine Institute</td>\n      <td>GPE</td>\n      <td>Estonia</td>\n      <td>https://edmo.seadatanet.org/report/714</td>\n    </tr>\n    <tr>\n      <th>27</th>\n      <td>Oxford Archaeology (South)</td>\n      <td>GPE</td>\n      <td>Oxford</td>\n      <td>https://edmo.seadatanet.org/report/5102</td>\n    </tr>\n    <tr>\n      <th>30</th>\n      <td>Oxford Archaeology (South)</td>\n      <td>GPE</td>\n      <td>England</td>\n      <td>https://edmo.seadatanet.org/report/5102</td>\n    </tr>\n    <tr>\n      <th>35</th>\n      <td>Appalachian State University</td>\n      <td>GPE</td>\n      <td>Boone</td>\n      <td>https://edmo.seadatanet.org/report/3516</td>\n    </tr>\n    <tr>\n      <th>36</th>\n      <td>Appalachian State University</td>\n      <td>GPE</td>\n      <td>N.C.</td>\n      <td>https://edmo.seadatanet.org/report/3516</td>\n    </tr>\n    <tr>\n      <th>47</th>\n      <td>PowerGen Plc</td>\n      <td>GPE</td>\n      <td>UK</td>\n      <td>https://edmo.seadatanet.org/report/75</td>\n    </tr>\n    <tr>\n      <th>51</th>\n      <td>PowerGen Plc</td>\n      <td>GPE</td>\n      <td>Haslemere</td>\n      <td>https://edmo.seadatanet.org/report/75</td>\n    </tr>\n    <tr>\n      <th>52</th>\n      <td>PowerGen Plc</td>\n      <td>GPE</td>\n      <td>Surrey</td>\n      <td>https://edmo.seadatanet.org/report/75</td>\n    </tr>\n    <tr>\n      <th>54</th>\n      <td>PowerGen Plc</td>\n      <td>GPE</td>\n      <td>United Kingdom</td>\n      <td>https://edmo.seadatanet.org/report/75</td>\n    </tr>\n    <tr>\n      <th>62</th>\n      <td>Galway-Mayo Institute of Technology</td>\n      <td>GPE</td>\n      <td>Galway City</td>\n      <td>https://edmo.seadatanet.org/report/773</td>\n    </tr>\n    <tr>\n      <th>64</th>\n      <td>Galway-Mayo Institute of Technology</td>\n      <td>GPE</td>\n      <td>Galway City's</td>\n      <td>https://edmo.seadatanet.org/report/773</td>\n    </tr>\n    <tr>\n      <th>69</th>\n      <td>Max Planck Institute for Meteorology</td>\n      <td>GPE</td>\n      <td>Hamburg</td>\n      <td>https://edmo.seadatanet.org/report/2402</td>\n    </tr>\n    <tr>\n      <th>70</th>\n      <td>Max Planck Institute for Meteorology</td>\n      <td>GPE</td>\n      <td>Hamburg&amp;acute;s</td>\n      <td>https://edmo.seadatanet.org/report/2402</td>\n    </tr>\n    <tr>\n      <th>139</th>\n      <td>Canadian Ice Service</td>\n      <td>GPE</td>\n      <td>Canada</td>\n      <td>https://edmo.seadatanet.org/report/3711</td>\n    </tr>\n    <tr>\n      <th>152</th>\n      <td>Canadian Ice Service</td>\n      <td>GPE</td>\n      <td>Halifax</td>\n      <td>https://edmo.seadatanet.org/report/3711</td>\n    </tr>\n    <tr>\n      <th>157</th>\n      <td>Canadian Ice Service</td>\n      <td>GPE</td>\n      <td>Ottawa</td>\n      <td>https://edmo.seadatanet.org/report/3711</td>\n    </tr>\n    <tr>\n      <th>174</th>\n      <td>Canadian Ice Service</td>\n      <td>GPE</td>\n      <td>Toronto</td>\n      <td>https://edmo.seadatanet.org/report/3711</td>\n    </tr>\n    <tr>\n      <th>194</th>\n      <td>National Institute of Meteorology and Hydrology, Bulgarian Academy of Sciences</td>\n      <td>GPE</td>\n      <td>Bulgaria</td>\n      <td>https://edmo.seadatanet.org/report/961</td>\n    </tr>\n    <tr>\n      <th>199</th>\n      <td>National Institute of Meteorology and Hydrology, Bulgarian Academy of Sciences</td>\n      <td>GPE</td>\n      <td>Sofia</td>\n      <td>https://edmo.seadatanet.org/report/961</td>\n    </tr>\n  </tbody>\n</table>\n</div>"
     },
     "execution_count": 29,
     "metadata": {},
     "output_type": "execute_result"
    }
   ],
   "source": [
    "df_gpe.head(20)"
   ],
   "metadata": {
    "collapsed": false,
    "pycharm": {
     "name": "#%%\n"
    }
   }
  },
  {
   "cell_type": "code",
   "execution_count": 30,
   "outputs": [
    {
     "name": "stdout",
     "output_type": "stream",
     "text": [
      "['Tartu' 'Estonia' 'Oxford' ... 'San Mateo CA' 'M&uuml;lheim' 'Nashville']\n"
     ]
    }
   ],
   "source": [
    "gpeunique = df_gpe['text'].unique()\n",
    "print(gpeunique)"
   ],
   "metadata": {
    "collapsed": false,
    "pycharm": {
     "name": "#%%\n"
    }
   }
  },
  {
   "cell_type": "markdown",
   "source": [
    "## Notes\n",
    "\n",
    "At this point we could compare this list against a list of known countries we can match against.  Those could even have WKT or grid cell data with them to allow for better search or display.\n",
    "\n",
    "The NRE model is going to find a LOT of false positive GPEs at this stage and how much we can improve that is not known.  However, matching againstg a known list of\n",
    "countries would likely work and allow us to feed some level improved location/spatial data back into the graph.\n"
   ],
   "metadata": {
    "collapsed": false
   }
  },
  {
   "cell_type": "code",
   "execution_count": 32,
   "outputs": [],
   "source": [
    "with urllib.request.urlopen(\"https://raw.githubusercontent.com/iodepo/odis-arch/schema-dev-jm/data/un-countries/un-countries-with-regions-391.json\") as url:\n",
    "    data = json.loads(url.read().decode())\n",
    "    undf = pd.DataFrame(data)"
   ],
   "metadata": {
    "collapsed": false,
    "pycharm": {
     "name": "#%%\n"
    }
   }
  },
  {
   "cell_type": "code",
   "execution_count": 33,
   "outputs": [
    {
     "data": {
      "text/plain": "  geoAreaCode          geoAreaName\n0  4           Afghanistan        \n1  248         Åland Islands      \n2  8           Albania            \n3  12          Algeria            \n4  16          American Samoa     \n5  20          Andorra            \n6  24          Angola             \n7  660         Anguilla           \n8  10          Antarctica         \n9  28          Antigua and Barbuda",
      "text/html": "<div>\n<style scoped>\n    .dataframe tbody tr th:only-of-type {\n        vertical-align: middle;\n    }\n\n    .dataframe tbody tr th {\n        vertical-align: top;\n    }\n\n    .dataframe thead th {\n        text-align: right;\n    }\n</style>\n<table border=\"1\" class=\"dataframe\">\n  <thead>\n    <tr style=\"text-align: right;\">\n      <th></th>\n      <th>geoAreaCode</th>\n      <th>geoAreaName</th>\n    </tr>\n  </thead>\n  <tbody>\n    <tr>\n      <th>0</th>\n      <td>4</td>\n      <td>Afghanistan</td>\n    </tr>\n    <tr>\n      <th>1</th>\n      <td>248</td>\n      <td>Åland Islands</td>\n    </tr>\n    <tr>\n      <th>2</th>\n      <td>8</td>\n      <td>Albania</td>\n    </tr>\n    <tr>\n      <th>3</th>\n      <td>12</td>\n      <td>Algeria</td>\n    </tr>\n    <tr>\n      <th>4</th>\n      <td>16</td>\n      <td>American Samoa</td>\n    </tr>\n    <tr>\n      <th>5</th>\n      <td>20</td>\n      <td>Andorra</td>\n    </tr>\n    <tr>\n      <th>6</th>\n      <td>24</td>\n      <td>Angola</td>\n    </tr>\n    <tr>\n      <th>7</th>\n      <td>660</td>\n      <td>Anguilla</td>\n    </tr>\n    <tr>\n      <th>8</th>\n      <td>10</td>\n      <td>Antarctica</td>\n    </tr>\n    <tr>\n      <th>9</th>\n      <td>28</td>\n      <td>Antigua and Barbuda</td>\n    </tr>\n  </tbody>\n</table>\n</div>"
     },
     "execution_count": 33,
     "metadata": {},
     "output_type": "execute_result"
    }
   ],
   "source": [
    "undf.head(10)"
   ],
   "metadata": {
    "collapsed": false,
    "pycharm": {
     "name": "#%%\n"
    }
   }
  },
  {
   "cell_type": "code",
   "execution_count": null,
   "outputs": [],
   "source": [],
   "metadata": {
    "collapsed": false,
    "pycharm": {
     "name": "#%%\n"
    }
   }
  }
 ],
 "metadata": {
  "colab": {
   "collapsed_sections": [],
   "name": "SWEETandSpaCYGleaner.ipynb",
   "provenance": [],
   "toc_visible": true
  },
  "kernelspec": {
   "name": "python3",
   "language": "python",
   "display_name": "Python 3 (ipykernel)"
  },
  "language_info": {
   "codemirror_mode": {
    "name": "ipython",
    "version": 3
   },
   "file_extension": ".py",
   "mimetype": "text/x-python",
   "name": "python",
   "nbconvert_exporter": "python",
   "pygments_lexer": "ipython3",
   "version": "3.8.10"
  }
 },
 "nbformat": 4,
 "nbformat_minor": 4
}
