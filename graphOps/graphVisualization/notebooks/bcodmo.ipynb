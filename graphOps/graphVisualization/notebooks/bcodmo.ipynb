{
 "cells": [
  {
   "cell_type": "markdown",
   "id": "f3e6d6344164a35f",
   "metadata": {},
   "source": [
    "# Graph Visualization\n",
    "\n",
    "<a href=\"https://githubtocolab.com/gleanerio/archetype/blob/master/networks/commons/notebooks/networkViz.ipynb\" target=\"_parent\"><img src=\"https://colab.research.google.com/assets/colab-badge.png\" alt=\"Open in Colab\"/></a>"
   ]
  },
  {
   "cell_type": "markdown",
   "id": "a93b42e26bbe4d49",
   "metadata": {},
   "source": [
    "## requirements.txt\n"
   ]
  },
  {
   "cell_type": "code",
   "execution_count": null,
   "id": "491673eea3c08f57",
   "metadata": {
    "collapsed": false,
    "jupyter": {
     "outputs_hidden": false
    }
   },
   "outputs": [],
   "source": [
    "!pip install -q minio\n",
    "!pip install -q kglab\n",
    "!pip install -q sparqlwrapper\n",
    "!pip install -q pygraphml\n",
    "!pip install -q ipysigma"
   ]
  },
  {
   "cell_type": "code",
   "execution_count": 1,
   "id": "73ae8326ecb53b81",
   "metadata": {
    "ExecuteTime": {
     "end_time": "2024-01-04T15:14:33.169122275Z",
     "start_time": "2024-01-04T15:14:33.165947664Z"
    },
    "collapsed": false,
    "jupyter": {
     "outputs_hidden": false
    },
    "tags": []
   },
   "outputs": [],
   "source": [
    "import warnings\n",
    "warnings.simplefilter(action='ignore', category=FutureWarning)  ## remove pandas future warning\n",
    "import kglab\n",
    "from minio import Minio\n",
    "from rdflib import Graph, plugin\n",
    "import plotly.express as px\n",
    "import pandas as pd\n",
    "from urllib.request import urlopen\n",
    "import os,json\n",
    "\n",
    "from pygraphml import GraphMLParser\n",
    "from pygraphml import Graph as GraphML \n",
    "import networkx as nx\n",
    "from ipysigma import Sigma\n",
    "from SPARQLWrapper import SPARQLWrapper, JSON\n",
    "from hashlib import sha256"
   ]
  },
  {
   "cell_type": "code",
   "execution_count": 2,
   "id": "9dbf0a59-42e1-4108-a7ef-dae3cfed22ff",
   "metadata": {
    "tags": []
   },
   "outputs": [],
   "source": [
    "\n",
    "def hash_text(text):\n",
    "  \"\"\"\n",
    "  Hashes the given text using SHA256 and returns a short hex digest.\n",
    "\n",
    "  Args:\n",
    "      text: The text to hash.\n",
    "\n",
    "  Returns:\n",
    "      A short hex digest of the hashed text.\n",
    "  \"\"\"\n",
    "  return sha256(text.encode()).hexdigest()[:8]"
   ]
  },
  {
   "cell_type": "code",
   "execution_count": 3,
   "id": "10a8925854cddf20",
   "metadata": {
    "ExecuteTime": {
     "end_time": "2024-01-04T15:14:34.202992757Z",
     "start_time": "2024-01-04T15:14:34.197832829Z"
    },
    "collapsed": false,
    "jupyter": {
     "outputs_hidden": false
    },
    "tags": []
   },
   "outputs": [],
   "source": [
    "## Remote SPARQL server\n",
    "#@title\n",
    "def get_sparql_dataframe(service, query):\n",
    "    \"\"\"\n",
    "    Helper function to convert SPARQL results into a Pandas data frame.\n",
    "    \"\"\"\n",
    "    sparql = SPARQLWrapper(service)\n",
    "    sparql.setQuery(query)\n",
    "    sparql.setReturnFormat(JSON)\n",
    "    result = sparql.query()\n",
    "\n",
    "    processed_results = json.load(result.response)\n",
    "    cols = processed_results['head']['vars']\n",
    "\n",
    "    out = []\n",
    "    for row in processed_results['results']['bindings']:\n",
    "        item = []\n",
    "        for c in cols:\n",
    "            item.append(row.get(c, {}).get('value'))\n",
    "        out.append(item)\n",
    "\n",
    "    return pd.DataFrame(out, columns=cols)\n",
    "\n"
   ]
  },
  {
   "cell_type": "code",
   "execution_count": 7,
   "id": "e66aee68c498d6e2",
   "metadata": {
    "ExecuteTime": {
     "end_time": "2024-01-04T15:14:34.908195816Z",
     "start_time": "2024-01-04T15:14:34.902626062Z"
    },
    "collapsed": false,
    "jupyter": {
     "outputs_hidden": false
    },
    "tags": []
   },
   "outputs": [],
   "source": [
    "rp1 = \"\"\"\n",
    "PREFIX rdf: <http://www.w3.org/1999/02/22-rdf-syntax-ns#>\n",
    "PREFIX rdfs: <http://www.w3.org/2000/01/rdf-schema#>\n",
    "PREFIX xsd: <http://www.w3.org/2001/XMLSchema#>\n",
    "PREFIX schema: <https://schema.org/>\n",
    "\n",
    "SELECT DISTINCT ?source ?type ?target ?sType ?tType\n",
    "WHERE {\n",
    "  graph ?g {\n",
    "    ?source a ?sType .\n",
    "    ?target a ?tType .\n",
    "    ?source ?type ?target .\n",
    "  }\n",
    "}\n",
    "\n",
    "\"\"\"\n",
    "\n",
    "## Thought:  we need to mod the query to get the schema:identifier for Person and Organization and likely others\n",
    "## and make these the ?source / ?target values.  So we have common shared PIDs that are expressing relations.\n",
    "\n",
    "\n",
    "\n",
    "# FILTER((?sType) IN (schema:Person, schema:Organization, schema:Dataset, schema:Course, schema:Document))\n",
    "# FILTER((?tType) IN (schema:Person, schema:Organization, schema:Dataset, schema:Course, schema:Document))\n",
    "\n",
    "ep = \"http://0.0.0.0:7878/query\"\n",
    "\n",
    "df = get_sparql_dataframe(ep, rp1)\n"
   ]
  },
  {
   "cell_type": "code",
   "execution_count": 17,
   "id": "22a748f3-c656-440b-a9b4-a223d80552a2",
   "metadata": {
    "tags": []
   },
   "outputs": [],
   "source": [
    "df.to_parquet('./output/bcodmo.parquet')\n",
    "# df = pd.read_parquet('path/to/your/file.parquet')"
   ]
  },
  {
   "cell_type": "code",
   "execution_count": 13,
   "id": "b8ad95d8-21cf-41c9-aef9-3d13441d471a",
   "metadata": {
    "ExecuteTime": {
     "end_time": "2024-01-04T15:14:35.601176577Z",
     "start_time": "2024-01-04T15:14:35.599025683Z"
    },
    "tags": []
   },
   "outputs": [
    {
     "data": {
      "text/html": [
       "<div>\n",
       "<style scoped>\n",
       "    .dataframe tbody tr th:only-of-type {\n",
       "        vertical-align: middle;\n",
       "    }\n",
       "\n",
       "    .dataframe tbody tr th {\n",
       "        vertical-align: top;\n",
       "    }\n",
       "\n",
       "    .dataframe thead th {\n",
       "        text-align: right;\n",
       "    }\n",
       "</style>\n",
       "<table border=\"1\" class=\"dataframe\">\n",
       "  <thead>\n",
       "    <tr style=\"text-align: right;\">\n",
       "      <th></th>\n",
       "      <th>source</th>\n",
       "      <th>type</th>\n",
       "      <th>target</th>\n",
       "      <th>sType</th>\n",
       "      <th>tType</th>\n",
       "    </tr>\n",
       "  </thead>\n",
       "  <tbody>\n",
       "    <tr>\n",
       "      <th>0</th>\n",
       "      <td>https://gleaner.io/xid/genid/clsqo4rh2h49b33a25e0</td>\n",
       "      <td>http://spdx.org/rdf/terms#checksum</td>\n",
       "      <td>https://gleaner.io/xid/genid/clsqo4rh2h49b33a25fg</td>\n",
       "      <td>https://schema.org/DataDownload</td>\n",
       "      <td>http://spdx.org/rdf/terms#Checksum</td>\n",
       "    </tr>\n",
       "    <tr>\n",
       "      <th>1</th>\n",
       "      <td>https://gleaner.io/xid/genid/clsqp8bh2h49b33bh9kg</td>\n",
       "      <td>http://spdx.org/rdf/terms#checksum</td>\n",
       "      <td>https://gleaner.io/xid/genid/clsqp8bh2h49b33bh9l0</td>\n",
       "      <td>https://schema.org/DataDownload</td>\n",
       "      <td>http://spdx.org/rdf/terms#Checksum</td>\n",
       "    </tr>\n",
       "    <tr>\n",
       "      <th>2</th>\n",
       "      <td>https://gleaner.io/xid/genid/clsqmirh2h49b337uh8g</td>\n",
       "      <td>http://spdx.org/rdf/terms#checksum</td>\n",
       "      <td>https://gleaner.io/xid/genid/clsqmirh2h49b337ugu0</td>\n",
       "      <td>https://schema.org/DataDownload</td>\n",
       "      <td>http://spdx.org/rdf/terms#Checksum</td>\n",
       "    </tr>\n",
       "    <tr>\n",
       "      <th>3</th>\n",
       "      <td>https://gleaner.io/xid/genid/clsqoejh2h49b33afpc0</td>\n",
       "      <td>https://schema.org/about</td>\n",
       "      <td>https://www.bco-dmo.org/dataset/773727</td>\n",
       "      <td>https://schema.org/DataDownload</td>\n",
       "      <td>https://schema.org/Dataset</td>\n",
       "    </tr>\n",
       "    <tr>\n",
       "      <th>4</th>\n",
       "      <td>https://gleaner.io/xid/genid/clsqoejh2h49b33afpc0</td>\n",
       "      <td>http://spdx.org/rdf/terms#checksum</td>\n",
       "      <td>https://gleaner.io/xid/genid/clsqoejh2h49b33afpeg</td>\n",
       "      <td>https://schema.org/DataDownload</td>\n",
       "      <td>http://spdx.org/rdf/terms#Checksum</td>\n",
       "    </tr>\n",
       "    <tr>\n",
       "      <th>5</th>\n",
       "      <td>https://gleaner.io/xid/genid/clsqnsjh2h49b339n1ig</td>\n",
       "      <td>http://spdx.org/rdf/terms#checksum</td>\n",
       "      <td>https://gleaner.io/xid/genid/clsqnsjh2h49b339n180</td>\n",
       "      <td>https://schema.org/DataDownload</td>\n",
       "      <td>http://spdx.org/rdf/terms#Checksum</td>\n",
       "    </tr>\n",
       "    <tr>\n",
       "      <th>6</th>\n",
       "      <td>https://gleaner.io/xid/genid/clsqmj3h2h49b337v0k0</td>\n",
       "      <td>http://spdx.org/rdf/terms#checksum</td>\n",
       "      <td>https://gleaner.io/xid/genid/clsqmj3h2h49b337v0lg</td>\n",
       "      <td>https://schema.org/DataDownload</td>\n",
       "      <td>http://spdx.org/rdf/terms#Checksum</td>\n",
       "    </tr>\n",
       "    <tr>\n",
       "      <th>7</th>\n",
       "      <td>https://gleaner.io/xid/genid/clsqmo3h2h49b3385v70</td>\n",
       "      <td>http://spdx.org/rdf/terms#checksum</td>\n",
       "      <td>https://gleaner.io/xid/genid/clsqmo3h2h49b3385uv0</td>\n",
       "      <td>https://schema.org/DataDownload</td>\n",
       "      <td>http://spdx.org/rdf/terms#Checksum</td>\n",
       "    </tr>\n",
       "    <tr>\n",
       "      <th>8</th>\n",
       "      <td>https://gleaner.io/xid/genid/clsqnv3h2h49b339qcb0</td>\n",
       "      <td>http://spdx.org/rdf/terms#checksum</td>\n",
       "      <td>https://gleaner.io/xid/genid/clsqnv3h2h49b339qcbg</td>\n",
       "      <td>https://schema.org/DataDownload</td>\n",
       "      <td>http://spdx.org/rdf/terms#Checksum</td>\n",
       "    </tr>\n",
       "    <tr>\n",
       "      <th>9</th>\n",
       "      <td>https://gleaner.io/xid/genid/clsqmqjh2h49b3389080</td>\n",
       "      <td>http://spdx.org/rdf/terms#checksum</td>\n",
       "      <td>https://gleaner.io/xid/genid/clsqmqjh2h49b3388vi0</td>\n",
       "      <td>https://schema.org/DataDownload</td>\n",
       "      <td>http://spdx.org/rdf/terms#Checksum</td>\n",
       "    </tr>\n",
       "  </tbody>\n",
       "</table>\n",
       "</div>"
      ],
      "text/plain": [
       "                                              source  \\\n",
       "0  https://gleaner.io/xid/genid/clsqo4rh2h49b33a25e0   \n",
       "1  https://gleaner.io/xid/genid/clsqp8bh2h49b33bh9kg   \n",
       "2  https://gleaner.io/xid/genid/clsqmirh2h49b337uh8g   \n",
       "3  https://gleaner.io/xid/genid/clsqoejh2h49b33afpc0   \n",
       "4  https://gleaner.io/xid/genid/clsqoejh2h49b33afpc0   \n",
       "5  https://gleaner.io/xid/genid/clsqnsjh2h49b339n1ig   \n",
       "6  https://gleaner.io/xid/genid/clsqmj3h2h49b337v0k0   \n",
       "7  https://gleaner.io/xid/genid/clsqmo3h2h49b3385v70   \n",
       "8  https://gleaner.io/xid/genid/clsqnv3h2h49b339qcb0   \n",
       "9  https://gleaner.io/xid/genid/clsqmqjh2h49b3389080   \n",
       "\n",
       "                                 type  \\\n",
       "0  http://spdx.org/rdf/terms#checksum   \n",
       "1  http://spdx.org/rdf/terms#checksum   \n",
       "2  http://spdx.org/rdf/terms#checksum   \n",
       "3            https://schema.org/about   \n",
       "4  http://spdx.org/rdf/terms#checksum   \n",
       "5  http://spdx.org/rdf/terms#checksum   \n",
       "6  http://spdx.org/rdf/terms#checksum   \n",
       "7  http://spdx.org/rdf/terms#checksum   \n",
       "8  http://spdx.org/rdf/terms#checksum   \n",
       "9  http://spdx.org/rdf/terms#checksum   \n",
       "\n",
       "                                              target  \\\n",
       "0  https://gleaner.io/xid/genid/clsqo4rh2h49b33a25fg   \n",
       "1  https://gleaner.io/xid/genid/clsqp8bh2h49b33bh9l0   \n",
       "2  https://gleaner.io/xid/genid/clsqmirh2h49b337ugu0   \n",
       "3             https://www.bco-dmo.org/dataset/773727   \n",
       "4  https://gleaner.io/xid/genid/clsqoejh2h49b33afpeg   \n",
       "5  https://gleaner.io/xid/genid/clsqnsjh2h49b339n180   \n",
       "6  https://gleaner.io/xid/genid/clsqmj3h2h49b337v0lg   \n",
       "7  https://gleaner.io/xid/genid/clsqmo3h2h49b3385uv0   \n",
       "8  https://gleaner.io/xid/genid/clsqnv3h2h49b339qcbg   \n",
       "9  https://gleaner.io/xid/genid/clsqmqjh2h49b3388vi0   \n",
       "\n",
       "                             sType                               tType  \n",
       "0  https://schema.org/DataDownload  http://spdx.org/rdf/terms#Checksum  \n",
       "1  https://schema.org/DataDownload  http://spdx.org/rdf/terms#Checksum  \n",
       "2  https://schema.org/DataDownload  http://spdx.org/rdf/terms#Checksum  \n",
       "3  https://schema.org/DataDownload          https://schema.org/Dataset  \n",
       "4  https://schema.org/DataDownload  http://spdx.org/rdf/terms#Checksum  \n",
       "5  https://schema.org/DataDownload  http://spdx.org/rdf/terms#Checksum  \n",
       "6  https://schema.org/DataDownload  http://spdx.org/rdf/terms#Checksum  \n",
       "7  https://schema.org/DataDownload  http://spdx.org/rdf/terms#Checksum  \n",
       "8  https://schema.org/DataDownload  http://spdx.org/rdf/terms#Checksum  \n",
       "9  https://schema.org/DataDownload  http://spdx.org/rdf/terms#Checksum  "
      ]
     },
     "execution_count": 13,
     "metadata": {},
     "output_type": "execute_result"
    }
   ],
   "source": [
    "df.head(10)"
   ]
  },
  {
   "cell_type": "code",
   "execution_count": 56,
   "id": "a827feb4-6063-42da-93db-ed5d570a2639",
   "metadata": {
    "tags": []
   },
   "outputs": [
    {
     "name": "stdout",
     "output_type": "stream",
     "text": [
      "Unique values in column: ['https://schema.org/DataDownload' 'https://schema.org/OfferCatalog'\n",
      " 'https://schema.org/Person' 'https://schema.org/FundingAgency'\n",
      " 'https://schema.org/MonetaryGrant' 'https://schema.org/DataCatalog'\n",
      " 'https://schema.org/Service' 'https://schema.org/ResearchProject'\n",
      " 'https://schema.org/Event' 'https://schema.org/Dataset'\n",
      " 'https://schema.org/Organization' 'https://schema.org/Place']\n"
     ]
    }
   ],
   "source": [
    "# Get unique sTypes\n",
    "unique_values = df['sType'].unique()\n",
    "print(f\"Unique values in column: {unique_values}\")\n"
   ]
  },
  {
   "cell_type": "code",
   "execution_count": 77,
   "id": "ac140007-66b7-4521-9e98-4bb5c80427f8",
   "metadata": {
    "tags": []
   },
   "outputs": [
    {
     "name": "stdout",
     "output_type": "stream",
     "text": [
      "Unique values in column: ['http://spdx.org/rdf/terms#Checksum' 'https://schema.org/Dataset'\n",
      " 'https://schema.org/DataCatalog' 'https://schema.org/Service'\n",
      " 'https://schema.org/PropertyValue' 'https://schema.org/Organization'\n",
      " 'https://schema.org/FundingAgency' 'https://schema.org/DigitalDocument'\n",
      " 'https://schema.org/OfferCatalog' 'https://schema.org/DefinedTerm'\n",
      " 'https://schema.org/ImageObject' 'https://schema.org/ContactPoint'\n",
      " 'https://schema.org/PostalAddress' 'https://schema.org/SearchAction'\n",
      " 'https://schema.org/Audience' 'https://schema.org/Place'\n",
      " 'https://schema.org/Person' 'https://schema.org/DataDownload'\n",
      " 'https://schema.org/MonetaryGrant' 'https://schema.org/ResearchProject'\n",
      " 'https://schema.org/GeoShape']\n"
     ]
    }
   ],
   "source": [
    "# Get unique tTypes\n",
    "unique_values = df['tType'].unique()\n",
    "print(f\"Unique values in column: {unique_values}\")"
   ]
  },
  {
   "cell_type": "code",
   "execution_count": 68,
   "id": "6405af38-11b0-4561-815c-1eaa002be039",
   "metadata": {
    "tags": []
   },
   "outputs": [],
   "source": [
    "# filter genid out for now\n",
    "filtered_df = df[~df['source'].str.contains(\"genid\") & ~df['target'].str.contains(\"genid\")]"
   ]
  },
  {
   "cell_type": "code",
   "execution_count": 69,
   "id": "b21a05b0-5d5f-40b1-8a10-3086770d7f79",
   "metadata": {
    "tags": []
   },
   "outputs": [
    {
     "name": "stdout",
     "output_type": "stream",
     "text": [
      "<class 'pandas.core.frame.DataFrame'>\n",
      "Int64Index: 15992 entries, 56789 to 249074\n",
      "Data columns (total 5 columns):\n",
      " #   Column  Non-Null Count  Dtype \n",
      "---  ------  --------------  ----- \n",
      " 0   source  15992 non-null  object\n",
      " 1   type    15992 non-null  object\n",
      " 2   target  15992 non-null  object\n",
      " 3   sType   15992 non-null  object\n",
      " 4   tType   15992 non-null  object\n",
      "dtypes: object(5)\n",
      "memory usage: 749.6+ KB\n"
     ]
    }
   ],
   "source": [
    "filtered_df.info()"
   ]
  },
  {
   "cell_type": "code",
   "execution_count": 72,
   "id": "bcfb9d98-1a50-4514-bcd9-487aff716aec",
   "metadata": {
    "tags": []
   },
   "outputs": [
    {
     "name": "stderr",
     "output_type": "stream",
     "text": [
      "<ipython-input-72-62365e768303>:6: UserWarning: Boolean Series key will be reindexed to match DataFrame index.\n",
      "  fdftemp = filtered_df[df['sType'].isin(sTypes)]\n",
      "<ipython-input-72-62365e768303>:7: UserWarning: Boolean Series key will be reindexed to match DataFrame index.\n",
      "  fdf = fdftemp[df['tType'].isin(tTypes)]\n"
     ]
    }
   ],
   "source": [
    "# make a new dataframe where only the rows matching types of interest remain\n",
    "sTypes = ['https://schema.org/Dataset',    'https://schema.org/Organization','https://schema.org/Person', 'https://schema.org/FundingAgency']\n",
    "tTypes = ['https://schema.org/Dataset',   'https://schema.org/Organization','https://schema.org/Person', 'https://schema.org/FundingAgency']\n",
    "\n",
    "# lookfor = ['https://schema.org/Dataset',  'https://schema.org/Organization', 'https://schema.org/Person', 'https://schema.org/FundingAgency']\n",
    "fdftemp = filtered_df[df['sType'].isin(sTypes)]\n",
    "fdf = fdftemp[df['tType'].isin(tTypes)]"
   ]
  },
  {
   "cell_type": "code",
   "execution_count": 73,
   "id": "a07663e0-c205-4f21-ae97-ca101cd32eaa",
   "metadata": {
    "tags": []
   },
   "outputs": [
    {
     "name": "stdout",
     "output_type": "stream",
     "text": [
      "<class 'pandas.core.frame.DataFrame'>\n",
      "Int64Index: 12978 entries, 78641 to 249074\n",
      "Data columns (total 5 columns):\n",
      " #   Column  Non-Null Count  Dtype \n",
      "---  ------  --------------  ----- \n",
      " 0   source  12978 non-null  object\n",
      " 1   type    12978 non-null  object\n",
      " 2   target  12978 non-null  object\n",
      " 3   sType   12978 non-null  object\n",
      " 4   tType   12978 non-null  object\n",
      "dtypes: object(5)\n",
      "memory usage: 608.3+ KB\n"
     ]
    }
   ],
   "source": [
    "fdf.info()"
   ]
  },
  {
   "cell_type": "code",
   "execution_count": 74,
   "id": "6edcf5a3e7e8a9d",
   "metadata": {
    "ExecuteTime": {
     "end_time": "2024-01-04T15:14:36.496745280Z",
     "start_time": "2024-01-04T15:14:36.495338175Z"
    },
    "collapsed": false,
    "jupyter": {
     "outputs_hidden": false
    },
    "tags": []
   },
   "outputs": [],
   "source": [
    "#  yeah, I get it...   don't iterate rows...  PR's welcome for this, being bad is too easy!  \n",
    "# for index, row in nodes.iterrows():\n",
    "#    g.add_node(row['Id'])\n",
    "g = GraphML()\n",
    "g.directed = False\n",
    "\n",
    "for index, row in fdf.iterrows():\n",
    "    n1 = g.add_node(row['source'])\n",
    "    n1['type'] = row['sType']\n",
    "    \n",
    "    n2 = g.add_node(row['target'])\n",
    "    n2['type'] = row['tType']\n",
    "\n",
    "    e1 = g.add_edge(n1, n2)\n",
    "    \n",
    "fname = \"./output/testGraphML.xml\"\n",
    "parser = GraphMLParser()\n",
    "parser.write(g, fname)"
   ]
  },
  {
   "cell_type": "code",
   "execution_count": 75,
   "id": "ed7af016-bb24-43c4-84b3-e78f9f8e9cc3",
   "metadata": {
    "ExecuteTime": {
     "end_time": "2024-01-04T15:14:37.686367114Z",
     "start_time": "2024-01-04T15:14:37.682938656Z"
    },
    "tags": []
   },
   "outputs": [],
   "source": [
    "# g = nx.les_miserables_graph()\n",
    "g = nx.read_graphml(\"./output/testGraphML.xml\")"
   ]
  },
  {
   "cell_type": "code",
   "execution_count": 76,
   "id": "633c2831-ef4d-4c88-ae42-95c3189254db",
   "metadata": {
    "ExecuteTime": {
     "end_time": "2024-01-04T15:14:38.116114415Z",
     "start_time": "2024-01-04T15:14:38.111321513Z"
    },
    "tags": []
   },
   "outputs": [
    {
     "data": {
      "application/vnd.jupyter.widget-view+json": {
       "model_id": "43936ddbd3c5474cb5ad98d2e4ecec48",
       "version_major": 2,
       "version_minor": 0
      },
      "text/plain": [
       "Sigma(nx.MultiGraph with 6,492 nodes and 12,978 edges)"
      ]
     },
     "metadata": {},
     "output_type": "display_data"
    }
   ],
   "source": [
    "Sigma(\n",
    "    g,\n",
    "    node_size=g.degree,\n",
    "    default_edge_type='curve',\n",
    "    node_border_color_from='node',\n",
    "    node_metrics=['louvain'],\n",
    "    node_color='louvain',\n",
    "    start_layout=5,\n",
    "    edge_size=lambda u, v: g.degree(u) + g.degree(v),\n",
    "    edge_size_range=(0.5, 5),\n",
    "    label_font='cursive',\n",
    "    node_label_size=g.degree,\n",
    "    label_density=0\n",
    ")\n",
    "\n"
   ]
  },
  {
   "cell_type": "code",
   "execution_count": 8,
   "id": "734d858724bd6a30",
   "metadata": {
    "ExecuteTime": {
     "end_time": "2023-12-14T14:55:11.455167413Z",
     "start_time": "2023-12-14T14:55:11.454273523Z"
    },
    "collapsed": false,
    "jupyter": {
     "outputs_hidden": false
    }
   },
   "outputs": [],
   "source": []
  },
  {
   "cell_type": "code",
   "execution_count": null,
   "id": "5ae8815403d298ad",
   "metadata": {
    "collapsed": false,
    "jupyter": {
     "outputs_hidden": false
    }
   },
   "outputs": [],
   "source": []
  }
 ],
 "metadata": {
  "kernelspec": {
   "display_name": "Python 3",
   "language": "python",
   "name": "python3"
  },
  "language_info": {
   "codemirror_mode": {
    "name": "ipython",
    "version": 3
   },
   "file_extension": ".py",
   "mimetype": "text/x-python",
   "name": "python",
   "nbconvert_exporter": "python",
   "pygments_lexer": "ipython3",
   "version": "3.10.12"
  }
 },
 "nbformat": 4,
 "nbformat_minor": 5
}
