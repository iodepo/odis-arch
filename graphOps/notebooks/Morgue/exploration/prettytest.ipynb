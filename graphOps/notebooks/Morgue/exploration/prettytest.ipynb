{
 "cells": [
  {
   "cell_type": "raw",
   "metadata": {},
   "source": [
    "title: Ocean InfoHub Release Graph\n",
    "author: Ocean Info Hub Community\n",
    "date: \"{{ datetime.now().strftime('%Y-%m-%d %H:%M:%S') }}\"\n",
    "code_tools: hide"
   ]
  },
  {
   "cell_type": "code",
   "execution_count": 1,
   "metadata": {
    "tags": [],
    "ExecuteTime": {
     "end_time": "2023-07-28T16:11:39.642944667Z",
     "start_time": "2023-07-28T16:11:39.419890165Z"
    }
   },
   "outputs": [],
   "source": [
    "%load_ext pretty_jupyter"
   ]
  },
  {
   "cell_type": "code",
   "execution_count": 2,
   "metadata": {
    "ExecuteTime": {
     "end_time": "2023-07-28T16:11:43.276707419Z",
     "start_time": "2023-07-28T16:11:42.987468089Z"
    }
   },
   "outputs": [
    {
     "name": "stderr",
     "output_type": "stream",
     "text": [
      "/home/fils/.local/lib/python3.10/site-packages/rdflib_jsonld/__init__.py:9: DeprecationWarning: The rdflib-jsonld package has been integrated into rdflib as of rdflib==6.0.1.  Please remove rdflib-jsonld from your project's dependencies.\n",
      "  warnings.warn(\n"
     ]
    }
   ],
   "source": [
    "# import packages\n",
    "import pandas as pd\n",
    "from SPARQLWrapper import SPARQLWrapper, JSON\n",
    "import json\n",
    "\n",
    "sparqlep = \"http://graph.oceaninfohub.org/blazegraph/namespace/oih/sparql\""
   ]
  },
  {
   "cell_type": "code",
   "execution_count": 6,
   "outputs": [],
   "source": [
    "from minio import Minio\n",
    "\n",
    "def publicurls(client, bucket, prefix):\n",
    "    urls = []\n",
    "    objects = client.list_objects(bucket, prefix=prefix, recursive=True)\n",
    "    for obj in objects:\n",
    "        result = client.stat_object(bucket, obj.object_name)\n",
    "\n",
    "        if result.size > 0:  #  how to tell if an objet   obj.is_public  ?????\n",
    "            url = client.presigned_get_object(bucket, obj.object_name)\n",
    "            # print(f\"Public URL for object: {url}\")\n",
    "            urls.append(url)\n",
    "\n",
    "    return urls\n",
    "\n",
    "client = Minio(\"ossapi.oceaninfohub.org:80\",  secure=False) # Create client with anonymous access."
   ],
   "metadata": {
    "collapsed": false,
    "ExecuteTime": {
     "end_time": "2023-07-28T16:12:55.041625071Z",
     "start_time": "2023-07-28T16:12:54.993723780Z"
    }
   }
  },
  {
   "cell_type": "code",
   "execution_count": 7,
   "metadata": {
    "tags": [],
    "ExecuteTime": {
     "end_time": "2023-07-28T16:12:55.355043588Z",
     "start_time": "2023-07-28T16:12:55.346070073Z"
    }
   },
   "outputs": [],
   "source": [
    "def get_sparql_dataframe(service, query):\n",
    "    \"\"\"\n",
    "    Helper function to convert SPARQL results into a Pandas data frame.\n",
    "    \"\"\"\n",
    "    sparql = SPARQLWrapper(service)\n",
    "    sparql.setQuery(query)\n",
    "    sparql.setReturnFormat(JSON)\n",
    "    result = sparql.query()\n",
    "\n",
    "    processed_results = json.load(result.response)\n",
    "    cols = processed_results['head']['vars']\n",
    "\n",
    "    out = []\n",
    "    for row in processed_results['results']['bindings']:\n",
    "        item = []\n",
    "        for c in cols:\n",
    "            item.append(row.get(c, {}).get('value'))\n",
    "        out.append(item)\n",
    "\n",
    "    return pd.DataFrame(out, columns=cols)"
   ]
  },
  {
   "cell_type": "code",
   "execution_count": 4,
   "metadata": {
    "tags": [],
    "ExecuteTime": {
     "end_time": "2023-07-28T16:11:46.171092831Z",
     "start_time": "2023-07-28T16:11:46.166946694Z"
    }
   },
   "outputs": [
    {
     "data": {
      "text/plain": "<IPython.core.display.Markdown object>",
      "text/markdown": "\n# About\n\nThis is the introduction to the Ocean InfoHub Release Graph.   \n\nBesides this HTML file we would want to package\n\n* PDF version of this\n* the graphs\n* the original Jupyter Notebook that builds the HTML and PDF\n* any JSON-LD frames or SHACL files used in generating this document"
     },
     "execution_count": 4,
     "metadata": {},
     "output_type": "execute_result"
    }
   ],
   "source": [
    "%%jmd\n",
    "\n",
    "# About\n",
    "\n",
    "This is the introduction to the Ocean InfoHub Release Graph.   \n",
    "\n",
    "Besides this HTML file we would want to package\n",
    "\n",
    "* PDF version of this\n",
    "* the graphs\n",
    "* the original Jupyter Notebook that builds the HTML and PDF\n",
    "* any JSON-LD frames or SHACL files used in generating this document\n"
   ]
  },
  {
   "cell_type": "code",
   "execution_count": 21,
   "metadata": {
    "ExecuteTime": {
     "end_time": "2023-07-28T16:28:58.071883568Z",
     "start_time": "2023-07-28T16:28:58.054808068Z"
    }
   },
   "outputs": [
    {
     "data": {
      "text/plain": "<IPython.core.display.Markdown object>",
      "text/markdown": "\n# Resource Links\n\nThis is our first section. We use so called **Jinja Markdown** here.\nIt allows us to combine Markdown with Python variables and makes\nfor a more dynamic report.\n\nWe can for example print pandas version such as this: 1.5.3."
     },
     "execution_count": 21,
     "metadata": {},
     "output_type": "execute_result"
    }
   ],
   "source": [
    "%%jmd\n",
    "\n",
    "# Resource Links\n",
    "\n",
    "This is our first section. We use so called **Jinja Markdown** here.\n",
    "It allows us to combine Markdown with Python variables and makes\n",
    "for a more dynamic report.\n",
    "\n",
    "We can for example print pandas version such as this: {{ pd.__version__ }}."
   ]
  },
  {
   "cell_type": "markdown",
   "source": [
    "\n",
    "## Providers\n",
    "\n",
    "| name (graph alias)                                                                                                                                                                              | catalog | logo |\n",
    "|-------------------------------------------------------------------------------------------------------------------------------------------------------------------------------------------------|:-------:|-----:|\n",
    "| [IOC Africa Data Portal](https://ioc-africa.org) (africaioc)                                                                                                                       | [catlog](https://ioc-africa.org/dbs/displayData.php) | <img src='https://ioc-africa.org/dbs/images/unesco_ioc_logo.png' width='100'>|\n",
    "| [AquaDocs](https://aquadocs.org) (aquadocs)                                                                                                                                        | [catlog](https://aquadocs.org/discover) | <img src='https://aquadocs.org/themes/OR//images/repo-logo.png' width='100'>|\n",
    "| [Better Biomolecular Ocean Practices (BeBOP) as part of Ocean Biomolecular Observing Network (OBON)](https://oceandecade.org/actions/better-biomolecular-ocean-practices/) (bebop) | [catlog](https://github.com/BeBOP-OBON/odis-interface) | <img src='https://en.unesco.org/sites/default/files/styles/banner_sec_col_234x100/public/logo_decade_ocean_science_en.jpg' width='100'>|\n",
    "| [Benguela Current Convention (BCC) GeoData Portal](https://www.benguelacc.org/) (benguelacc)                                                                                       | [catlog](https://geodata.benguelacc.org/) | <img src='https://static.tildacdn.com/tild3263-3132-4937-a166-373963646533/Skjermbilde_2020-12-.png' width='100'>|\n",
    "| [Caribbean Marine Atlas catalogue](https://www.caribbeanmarineatlas.net/) (caribbeanmarineatlas)                                                                                   | [catlog](https://www.caribbeanmarineatlas.net/home/) | <img src='https://www.caribbeanmarineatlas.net/static/cma2/landing_page/images/logotipo_CMA_2019.svg' width='100'>|\n",
    "| [CIOOS](https://cioos.ca/) (cioos)                                                                                                                                                 | [catlog](https://catalogue.cioos.ca/) | <img src='https://cioos.ca/wp-content/themes/cioos-siooc-wordpress-theme/img/national/cioos-national_EN.svg' width='100'>|\n",
    "| [European Directory of Marine Environmental Research Projects (EDMERP) SeaDataNet](https://edmerp.seadatanet.org) (edmerp)                                                         | [catlog](https://edmerp.seadatanet.org/search) | <img src='https://edmerp.seadatanet.org/grfx/edmerp/logo_big.png' width='100'>|\n",
    "| [European Directory of Marine Organisations (EDMO) SeaDataNet](https://edmo.seadatanet.org) (edmo)                                                                                 | [catlog](https://edmo.seadatanet.org/search) | <img src='https://edmo.seadatanet.org/grfx/edmo/logo.png' width='100'>|\n",
    "| [EurOcean Organizations](https://infohub.eurocean.net/) (euroceanorgs)                                                                                                             | [catlog](https://infohub.eurocean.net/data/organizations) | <img src='https://infohub.eurocean.net/images/under_constrution/eurOcean-logo-color.png' width='100'>|\n",
    "| [EurOcean Projects](https://infohub.eurocean.net/) (euroceanprojects)                                                                                                              | [catlog](https://infohub.eurocean.net/data/projects) | <img src='https://infohub.eurocean.net/images/under_constrution/eurOcean-logo-color.png' width='100'>|\n",
    "| [EurOcean Vessels](https://infohub.eurocean.net/) (euroceanvessels)                                                                                                                | [catlog](https://infohub.eurocean.net/data/vessels) | <img src='https://infohub.eurocean.net/images/under_constrution/eurOcean-logo-color.png' width='100'>|\n",
    "| [European Marine Observation and Data Network catalogue](https://emodnet.ec.europa.eu/) (emodnet)                                                                                  | [catlog](https://emodnet.ec.europa.eu/geonetwork/srv/eng/catalog.search#/home) | <img src='https://emodnet.ec.europa.eu/sites/emodnet.ec.europa.eu/themes/emodnet/component-library/ec/static/media/logo--en.5055ef4f.svg' width='100'>|\n",
    "                                                                                                                                                                                                        | [Indonesia National Oceanic Data Center](https://nodc.id) (inanodc)                                                                                                                | [catlog](https://geonode.nodc.id) | <img src='https://nodc.id/dist/img/brin.png' width='100'>|\n",
    "| [CHM LAC - Documents](http://portete.invemar.org.co) (invemardocuments)                                                                                                            | [catlog](http://portete.invemar.org.co/chm/) | <img src='http://portete.invemar.org.co/static/images/logo-web.svg' width='100'>|\n",
    "| [CHM LAC - Experts](http://portete.invemar.org.co) (invemarexperts)                                                                                                                | [catlog](http://portete.invemar.org.co/chm/) | <img src='http://portete.invemar.org.co/static/images/logo-web.svg' width='100'>|\n",
    "| [CHM LAC - Institutions](http://portete.invemar.org.co) (invemarinstitutions)                                                                                                      | [catlog](http://portete.invemar.org.co/chm/) | <img src='http://portete.invemar.org.co/static/images/logo-web.svg' width='100'>|\n",
    "| [CHM LAC - Training](http://portete.invemar.org.co) (invemartraining)                                                                                                              | [catlog](http://portete.invemar.org.co/chm/) | <img src='http://portete.invemar.org.co/static/images/logo-web.svg' width='100'>|\n",
    "| [CHM LAC - Vessels](http://portete.invemar.org.co) (invemarvessels)                                                                                                                | [catlog](http://portete.invemar.org.co/chm/) | <img src='http://portete.invemar.org.co/static/images/logo-web.svg' width='100'>|\n",
    "| [Marine Training EU](https://marinetraining.eu/) (marinetraining)                                                                                                                  | [catlog](https://marinetraining.eu/search) | <img src='https://marinetraining.eu/sites/default/files/M2.0.png' width='100'>|\n",
    "| [MASPAWIO - Marine Spatial Atlas for the Western Indian Ocean](https://cordioea.net/) (maspawio)                                                                                   | [catlog](http://maspawio.net/) | <img src='https://cordioea.net/wp-content/uploads/2017/09/Geonde.png' width='100'>|\n",
    "| [Ocean Biodiversity Information System](https://obis.org) (obis)                                                                                                                   | [catlog](https://obis.org) | <img src='https://obis.org/images/logo.png' width='100'>|\n",
    "\n"
   ],
   "metadata": {
    "collapsed": false
   }
  },
  {
   "cell_type": "markdown",
   "source": [
    "## Graph Links\n",
    "| provider by graph alias   |      size      |  date | link\n",
    "|----------|:-------------:|------:|------:|\n",
    "| africaioc | 707451  | 2023-03-23 17:18:18+00:00  | [summonedafricaioc_v1_release.nq](http://ossapi.oceaninfohub.org/public/graphs/summonedafricaioc_v1_release.nq) |\n",
    "| aquadocs | 211713813  | 2023-03-23 17:18:18+00:00  | [summonedaquadocs_v1_release.nq](http://ossapi.oceaninfohub.org/public/graphs/summonedaquadocs_v1_release.nq) |\n",
    "| cioos | 42653232  | 2023-03-23 17:18:23+00:00  | [summonedcioos_v1_release.nq](http://ossapi.oceaninfohub.org/public/graphs/summonedcioos_v1_release.nq) |\n",
    "| edmerp | 17165450  | 2023-03-23 17:18:24+00:00  | [summonededmerp_v1_release.nq](http://ossapi.oceaninfohub.org/public/graphs/summonededmerp_v1_release.nq) |\n",
    "| edmo | 21312369  | 2023-03-23 17:18:25+00:00  | [summonededmo_v1_release.nq](http://ossapi.oceaninfohub.org/public/graphs/summonededmo_v1_release.nq) |\n",
    "| emodnet | 312445  | 2023-03-23 17:18:26+00:00  | [summonedemodnet_v1_release.nq](http://ossapi.oceaninfohub.org/public/graphs/summonedemodnet_v1_release.nq) |\n",
    "| inanodc | 120868  | 2023-03-23 17:18:26+00:00  | [summonedinanodc_v1_release.nq](http://ossapi.oceaninfohub.org/public/graphs/summonedinanodc_v1_release.nq) |\n",
    "| invemardocuments | 30805743  | 2023-03-23 17:18:27+00:00  | [summonedinvemardocuments_v1_release.nq](http://ossapi.oceaninfohub.org/public/graphs/summonedinvemardocuments_v1_release.nq) |\n",
    "| invemarexperts | 3337999  | 2023-03-23 17:18:28+00:00  | [summonedinvemarexperts_v1_release.nq](http://ossapi.oceaninfohub.org/public/graphs/summonedinvemarexperts_v1_release.nq) |\n",
    "| invemarinstitutions | 730445  | 2023-03-23 17:18:28+00:00  | [summonedinvemarinstitutions_v1_release.nq](http://ossapi.oceaninfohub.org/public/graphs/summonedinvemarinstitutions_v1_release.nq) |\n",
    "| invemartraining | 1435575  | 2023-03-23 17:18:28+00:00  | [summonedinvemartraining_v1_release.nq](http://ossapi.oceaninfohub.org/public/graphs/summonedinvemartraining_v1_release.nq) |\n",
    "| invemarvessels | 272856  | 2023-03-23 17:18:29+00:00  | [summonedinvemarvessels_v1_release.nq](http://ossapi.oceaninfohub.org/public/graphs/summonedinvemarvessels_v1_release.nq) |\n",
    "| marinetraining | 2618862  | 2023-03-23 17:18:29+00:00  | [summonedmarinetraining_v1_release.nq](http://ossapi.oceaninfohub.org/public/graphs/summonedmarinetraining_v1_release.nq) |\n",
    "| obis | 43477772  | 2023-03-23 17:18:29+00:00  | [summonedobis_v1_release.nq](http://ossapi.oceaninfohub.org/public/graphs/summonedobis_v1_release.nq) |\n",
    "| obps | 12110954  | 2023-03-23 17:18:30+00:00  | [summonedobps_v1_release.nq](http://ossapi.oceaninfohub.org/public/graphs/summonedobps_v1_release.nq) |\n",
    "| oceanexperts | 180515480  | 2023-03-23 17:18:31+00:00  | [summonedoceanexperts_v1_release.nq](http://ossapi.oceaninfohub.org/public/graphs/summonedoceanexperts_v1_release.nq) |\n"
   ],
   "metadata": {
    "collapsed": false
   }
  },
  {
   "cell_type": "code",
   "execution_count": 8,
   "metadata": {
    "ExecuteTime": {
     "end_time": "2023-07-28T16:13:20.583041838Z",
     "start_time": "2023-07-28T16:13:18.002434227Z"
    }
   },
   "outputs": [],
   "source": [
    "# we create a simple dataframe for demonstration purposes\n",
    "urls = publicurls(client, \"public\", \"graph\")\n"
   ]
  },
  {
   "cell_type": "code",
   "execution_count": 20,
   "metadata": {
    "ExecuteTime": {
     "end_time": "2023-07-28T16:27:20.558794391Z",
     "start_time": "2023-07-28T16:27:20.517974389Z"
    }
   },
   "outputs": [
    {
     "data": {
      "text/plain": "<IPython.core.display.Markdown object>",
      "text/markdown": "\n## Tabset\n<span class='pj-token' style='display: none;'>.tabset</span>\n\n### First Tab\nContent of this first section will be generated into the first tab content.\n\n### Second Tab\nSame goes for the second section."
     },
     "execution_count": 20,
     "metadata": {},
     "output_type": "execute_result"
    }
   ],
   "source": [
    "%%jmd\n",
    "\n",
    "# Tabset\n",
    "[//]: # (-.- .tabset)\n",
    "\n",
    "## First Tab\n",
    "Content of this first section will be generated into the first tab content.\n",
    "\n",
    "## Second Tab\n",
    "Same goes for the second section.\n"
   ]
  },
  {
   "cell_type": "code",
   "execution_count": 17,
   "metadata": {
    "tags": [],
    "ExecuteTime": {
     "end_time": "2023-07-28T16:25:39.083999546Z",
     "start_time": "2023-07-28T16:25:38.586609323Z"
    }
   },
   "outputs": [],
   "source": [
    "rq_pcount = \"\"\"SELECT ?p (COUNT(?p) as ?pCount)\n",
    "WHERE\n",
    "{\n",
    "  ?s ?p ?o .\n",
    "}\n",
    "GROUP BY ?p\n",
    "\"\"\"\n",
    "dfc = get_sparql_dataframe(sparqlep, rq_pcount)\n",
    "dfc['pCount'] = dfc[\"pCount\"].astype(int) # convert count to int\n",
    "# dfc.set_index('p', inplace=True)\n",
    "dfc_sorted = dfc.sort_values('pCount', ascending=False)\n"
   ]
  },
  {
   "cell_type": "code",
   "execution_count": 18,
   "metadata": {
    "tags": [],
    "ExecuteTime": {
     "end_time": "2023-07-28T16:25:39.095006078Z",
     "start_time": "2023-07-28T16:25:39.085471859Z"
    }
   },
   "outputs": [
    {
     "data": {
      "text/plain": "<IPython.core.display.Markdown object>",
      "text/markdown": "\n## countByLicense.rq\n<table border=\"1\" class=\"dataframe\">\n  <thead>\n    <tr style=\"text-align: right;\">\n      <th></th>\n      <th>p</th>\n      <th>pCount</th>\n    </tr>\n  </thead>\n  <tbody>\n    <tr>\n      <th>154</th>\n      <td>http://www.w3.org/1999/02/22-rdf-syntax-ns#type</td>\n      <td>7914266</td>\n    </tr>\n    <tr>\n      <th>75</th>\n      <td>http://www.w3.org/ns/prov#value</td>\n      <td>2554814</td>\n    </tr>\n    <tr>\n      <th>74</th>\n      <td>http://www.w3.org/ns/prov#used</td>\n      <td>1277407</td>\n    </tr>\n    <tr>\n      <th>73</th>\n      <td>http://www.w3.org/ns/prov#hadMember</td>\n      <td>1277407</td>\n    </tr>\n    <tr>\n      <th>72</th>\n      <td>http://www.w3.org/ns/prov#generated</td>\n      <td>1277407</td>\n    </tr>\n  </tbody>\n</table>"
     },
     "execution_count": 18,
     "metadata": {},
     "output_type": "execute_result"
    }
   ],
   "source": [
    "%%jmd\n",
    "\n",
    "# Count By License\n",
    "\n",
    "Uses the countByLicense.rq\n",
    "\n",
    "{{ dfc_sorted.head().to_html() }}"
   ]
  },
  {
   "cell_type": "code",
   "execution_count": null,
   "metadata": {},
   "outputs": [],
   "source": []
  }
 ],
 "metadata": {
  "kernelspec": {
   "display_name": "Python 3 (ipykernel)",
   "language": "python",
   "name": "python3"
  },
  "language_info": {
   "codemirror_mode": {
    "name": "ipython",
    "version": 3
   },
   "file_extension": ".py",
   "mimetype": "text/x-python",
   "name": "python",
   "nbconvert_exporter": "python",
   "pygments_lexer": "ipython3",
   "version": "3.10.8"
  }
 },
 "nbformat": 4,
 "nbformat_minor": 4
}
