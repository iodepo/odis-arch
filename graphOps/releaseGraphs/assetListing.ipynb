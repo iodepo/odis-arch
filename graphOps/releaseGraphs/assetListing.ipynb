{
 "cells": [
  {
   "cell_type": "markdown",
   "id": "a7f0a266-fd7f-4eb3-bb53-1515355bc856",
   "metadata": {
    "tags": []
   },
   "source": [
    "# Assets Index\n",
    "\n",
    "This notebook show a very basic approach to listing the graphs and other data assets stored in the OIH object store.\n"
   ]
  },
  {
   "cell_type": "markdown",
   "id": "8e682238-6156-4931-9805-bdf5e898b16a",
   "metadata": {
    "tags": []
   },
   "source": [
    "## Imports and functions"
   ]
  },
  {
   "cell_type": "code",
   "execution_count": 8,
   "id": "1a4c8507-5e60-4093-9b23-2ddf879d84eb",
   "metadata": {},
   "outputs": [],
   "source": [
    "from minio import Minio\n",
    "\n",
    "def publicurls(client, bucket, prefix):\n",
    "    urls = []\n",
    "    objects = client.list_objects(bucket, prefix=prefix, recursive=True)\n",
    "    for obj in objects:\n",
    "        result = client.stat_object(bucket, obj.object_name)\n",
    "\n",
    "        if result.size > 0:  #  how to tell if an objet   obj.is_public  ?????\n",
    "            url = client.presigned_get_object(bucket, obj.object_name)\n",
    "            # print(f\"Public URL for object: {url}\")\n",
    "            urls.append(url)\n",
    "\n",
    "    return urls\n",
    "\n",
    "client = Minio(\"ossapi.oceaninfohub.org:80\",  secure=False) # Create client with anonymous access.\n"
   ]
  },
  {
   "cell_type": "markdown",
   "id": "eebafd6a-f674-4198-95bb-5296fb11466e",
   "metadata": {},
   "source": [
    "## List the Provider Graphs"
   ]
  },
  {
   "cell_type": "code",
   "execution_count": 7,
   "id": "4608a630-620c-4dac-b9ba-b95a9a1217a5",
   "metadata": {
    "tags": []
   },
   "outputs": [
    {
     "name": "stdout",
     "output_type": "stream",
     "text": [
      "http://ossapi.oceaninfohub.org/public/graphs/summonedafricaioc_v1_release.nq\n",
      "http://ossapi.oceaninfohub.org/public/graphs/summonedaquadocs_v1_release.nq\n",
      "http://ossapi.oceaninfohub.org/public/graphs/summonedcioos_v1_release.nq\n",
      "http://ossapi.oceaninfohub.org/public/graphs/summonededmerp_v1_release.nq\n",
      "http://ossapi.oceaninfohub.org/public/graphs/summonededmo_v1_release.nq\n",
      "http://ossapi.oceaninfohub.org/public/graphs/summonedemodnet_v1_release.nq\n",
      "http://ossapi.oceaninfohub.org/public/graphs/summonedinanodc_v1_release.nq\n",
      "http://ossapi.oceaninfohub.org/public/graphs/summonedinvemardocuments_v1_release.nq\n",
      "http://ossapi.oceaninfohub.org/public/graphs/summonedinvemarexperts_v1_release.nq\n",
      "http://ossapi.oceaninfohub.org/public/graphs/summonedinvemarinstitutions_v1_release.nq\n",
      "http://ossapi.oceaninfohub.org/public/graphs/summonedinvemartraining_v1_release.nq\n",
      "http://ossapi.oceaninfohub.org/public/graphs/summonedinvemarvessels_v1_release.nq\n",
      "http://ossapi.oceaninfohub.org/public/graphs/summonedmarinetraining_v1_release.nq\n",
      "http://ossapi.oceaninfohub.org/public/graphs/summonedobis_v1_release.nq\n",
      "http://ossapi.oceaninfohub.org/public/graphs/summonedobps_v1_release.nq\n",
      "http://ossapi.oceaninfohub.org/public/graphs/summonedoceanexperts_v1_release.nq\n",
      "http://ossapi.oceaninfohub.org/public/graphs/summonedpdh_v1_release.nq\n"
     ]
    }
   ],
   "source": [
    "urls = publicurls(client, \"public\", \"graph\")\n",
    "for url in urls:\n",
    "    print(url)"
   ]
  },
  {
   "cell_type": "markdown",
   "id": "b74356be-1949-4c8d-b7a8-f27236864680",
   "metadata": {},
   "source": [
    "## List other data assets\n",
    "\n",
    "In this cast the OIHGraph... file a parquet representation of the RDF triples for all the providers.\n",
    "\n",
    "The combined.parquet is the result of the output from the OIH_GraphPreProc.ipynb notebook found in this directory.  It performs a base SPARQL query across the graph from all the providers and the results are stored in this parquet file.  "
   ]
  },
  {
   "cell_type": "code",
   "execution_count": 10,
   "id": "7c07ce85-b695-4b24-a5ab-21d6774680ec",
   "metadata": {
    "tags": []
   },
   "outputs": [
    {
     "name": "stdout",
     "output_type": "stream",
     "text": [
      "http://ossapi.oceaninfohub.org/public/assets/OIHGraph_25032023.parquet\n",
      "http://ossapi.oceaninfohub.org/public/assets/africaioc.parquet\n",
      "http://ossapi.oceaninfohub.org/public/assets/cioos.parquet\n",
      "http://ossapi.oceaninfohub.org/public/assets/combined.parquet\n",
      "http://ossapi.oceaninfohub.org/public/assets/edmerp.parquet\n",
      "http://ossapi.oceaninfohub.org/public/assets/edmo.parquet\n",
      "http://ossapi.oceaninfohub.org/public/assets/emodnet.parquet\n",
      "http://ossapi.oceaninfohub.org/public/assets/inanodc.parquet\n",
      "http://ossapi.oceaninfohub.org/public/assets/invemardocuments.parquet\n",
      "http://ossapi.oceaninfohub.org/public/assets/invemarexperts.parquet\n",
      "http://ossapi.oceaninfohub.org/public/assets/invemarinstitutions.parquet\n",
      "http://ossapi.oceaninfohub.org/public/assets/invemartraining.parquet\n",
      "http://ossapi.oceaninfohub.org/public/assets/invemarvessels.parquet\n",
      "http://ossapi.oceaninfohub.org/public/assets/marinetraining.parquet\n",
      "http://ossapi.oceaninfohub.org/public/assets/obis.parquet\n",
      "http://ossapi.oceaninfohub.org/public/assets/obps.parquet\n",
      "http://ossapi.oceaninfohub.org/public/assets/oceanexperts.parquet\n",
      "http://ossapi.oceaninfohub.org/public/assets/pdh.parquet\n",
      "http://ossapi.oceaninfohub.org/public/assets/test_obis.parquet\n"
     ]
    }
   ],
   "source": [
    "assets = publicurls(client, \"public\", \"assets\")\n",
    "for a in assets:\n",
    "    print(a)"
   ]
  },
  {
   "cell_type": "code",
   "execution_count": null,
   "id": "c9b49aa4-789b-48c7-afd8-71b8a8a4d8e6",
   "metadata": {},
   "outputs": [],
   "source": []
  }
 ],
 "metadata": {
  "kernelspec": {
   "display_name": "Python 3 (ipykernel)",
   "language": "python",
   "name": "python3"
  },
  "language_info": {
   "codemirror_mode": {
    "name": "ipython",
    "version": 3
   },
   "file_extension": ".py",
   "mimetype": "text/x-python",
   "name": "python",
   "nbconvert_exporter": "python",
   "pygments_lexer": "ipython3",
   "version": "3.10.8"
  }
 },
 "nbformat": 4,
 "nbformat_minor": 5
}
