{
 "cells": [
  {
   "cell_type": "markdown",
   "id": "f3e6d6344164a35f",
   "metadata": {},
   "source": [
    "# Graph Visualization\n",
    "\n",
    "<a href=\"https://githubtocolab.com/gleanerio/archetype/blob/master/networks/commons/notebooks/networkViz.ipynb\" target=\"_parent\"><img src=\"https://colab.research.google.com/assets/colab-badge.png\" alt=\"Open in Colab\"/></a>"
   ]
  },
  {
   "cell_type": "markdown",
   "id": "a93b42e26bbe4d49",
   "metadata": {},
   "source": [
    "## requirements.txt\n"
   ]
  },
  {
   "cell_type": "code",
   "execution_count": null,
   "id": "491673eea3c08f57",
   "metadata": {
    "collapsed": false,
    "jupyter": {
     "outputs_hidden": false
    }
   },
   "outputs": [],
   "source": [
    "!pip install -q minio\n",
    "!pip install -q kglab\n",
    "!pip install -q sparqlwrapper\n",
    "!pip install -q pygraphml\n",
    "!pip install -q ipysigma"
   ]
  },
  {
   "cell_type": "code",
   "execution_count": 1,
   "id": "73ae8326ecb53b81",
   "metadata": {
    "ExecuteTime": {
     "end_time": "2024-01-04T15:14:33.169122275Z",
     "start_time": "2024-01-04T15:14:33.165947664Z"
    },
    "collapsed": false,
    "jupyter": {
     "outputs_hidden": false
    },
    "tags": []
   },
   "outputs": [],
   "source": [
    "import warnings\n",
    "warnings.simplefilter(action='ignore', category=FutureWarning)  ## remove pandas future warning\n",
    "import kglab\n",
    "from minio import Minio\n",
    "from rdflib import Graph, plugin\n",
    "import plotly.express as px\n",
    "import pandas as pd\n",
    "from urllib.request import urlopen\n",
    "import os,json\n",
    "\n",
    "from pygraphml import GraphMLParser\n",
    "from pygraphml import Graph as GraphML \n",
    "import networkx as nx\n",
    "from ipysigma import Sigma\n",
    "from SPARQLWrapper import SPARQLWrapper, JSON\n",
    "from hashlib import sha256"
   ]
  },
  {
   "cell_type": "code",
   "execution_count": 2,
   "id": "9dbf0a59-42e1-4108-a7ef-dae3cfed22ff",
   "metadata": {
    "tags": []
   },
   "outputs": [],
   "source": [
    "\n",
    "def hash_text(text):\n",
    "  \"\"\"\n",
    "  Hashes the given text using SHA256 and returns a short hex digest.\n",
    "\n",
    "  Args:\n",
    "      text: The text to hash.\n",
    "\n",
    "  Returns:\n",
    "      A short hex digest of the hashed text.\n",
    "  \"\"\"\n",
    "  return sha256(text.encode()).hexdigest()[:8]"
   ]
  },
  {
   "cell_type": "code",
   "execution_count": 3,
   "id": "10a8925854cddf20",
   "metadata": {
    "ExecuteTime": {
     "end_time": "2024-01-04T15:14:34.202992757Z",
     "start_time": "2024-01-04T15:14:34.197832829Z"
    },
    "collapsed": false,
    "jupyter": {
     "outputs_hidden": false
    },
    "tags": []
   },
   "outputs": [],
   "source": [
    "## Remote SPARQL server\n",
    "#@title\n",
    "def get_sparql_dataframe(service, query):\n",
    "    \"\"\"\n",
    "    Helper function to convert SPARQL results into a Pandas data frame.\n",
    "    \"\"\"\n",
    "    sparql = SPARQLWrapper(service)\n",
    "    sparql.setQuery(query)\n",
    "    sparql.setReturnFormat(JSON)\n",
    "    result = sparql.query()\n",
    "\n",
    "    processed_results = json.load(result.response)\n",
    "    cols = processed_results['head']['vars']\n",
    "\n",
    "    out = []\n",
    "    for row in processed_results['results']['bindings']:\n",
    "        item = []\n",
    "        for c in cols:\n",
    "            item.append(row.get(c, {}).get('value'))\n",
    "        out.append(item)\n",
    "\n",
    "    return pd.DataFrame(out, columns=cols)\n",
    "\n"
   ]
  },
  {
   "cell_type": "code",
   "execution_count": 8,
   "id": "e66aee68c498d6e2",
   "metadata": {
    "ExecuteTime": {
     "end_time": "2024-01-04T15:14:34.908195816Z",
     "start_time": "2024-01-04T15:14:34.902626062Z"
    },
    "collapsed": false,
    "jupyter": {
     "outputs_hidden": false
    },
    "tags": []
   },
   "outputs": [],
   "source": [
    "rp1 = \"\"\"\n",
    "PREFIX rdf: <http://www.w3.org/1999/02/22-rdf-syntax-ns#>\n",
    "PREFIX rdfs: <http://www.w3.org/2000/01/rdf-schema#>\n",
    "PREFIX xsd: <http://www.w3.org/2001/XMLSchema#>\n",
    "PREFIX schema: <https://schema.org/>\n",
    "\n",
    "SELECT  ?name ?url ?description ?s\n",
    "WHERE {\n",
    "    graph ?g {\n",
    "        ?s schema:variableMeasured ?vm .\n",
    "        ?vm ?p ?o\n",
    "        OPTIONAL { ?vm schema:name ?name . }\n",
    "        ?vm schema:url ?url . \n",
    "        OPTIONAL { ?vm schema:description ?description . }\n",
    "    }\n",
    "}\n",
    "\"\"\"\n",
    "\n",
    "ep = \"http://0.0.0.0:7878/query\"\n",
    "\n",
    "df = get_sparql_dataframe(ep, rp1)\n"
   ]
  },
  {
   "cell_type": "code",
   "execution_count": 9,
   "id": "22a748f3-c656-440b-a9b4-a223d80552a2",
   "metadata": {
    "tags": []
   },
   "outputs": [],
   "source": [
    "df.to_parquet('obisvars.parquet')\n",
    "# df = pd.read_parquet('path/to/your/file.parquet')"
   ]
  },
  {
   "cell_type": "code",
   "execution_count": 16,
   "id": "c13dc3de-4ffc-43e5-9d14-49057eefa3c1",
   "metadata": {
    "tags": []
   },
   "outputs": [],
   "source": [
    "df = df[df.applymap(lambda x: len(str(x)) > 0).all(axis=1)]\n"
   ]
  },
  {
   "cell_type": "code",
   "execution_count": 17,
   "id": "b8ad95d8-21cf-41c9-aef9-3d13441d471a",
   "metadata": {
    "ExecuteTime": {
     "end_time": "2024-01-04T15:14:35.601176577Z",
     "start_time": "2024-01-04T15:14:35.599025683Z"
    },
    "tags": []
   },
   "outputs": [
    {
     "data": {
      "text/html": [
       "<div>\n",
       "<style scoped>\n",
       "    .dataframe tbody tr th:only-of-type {\n",
       "        vertical-align: middle;\n",
       "    }\n",
       "\n",
       "    .dataframe tbody tr th {\n",
       "        vertical-align: top;\n",
       "    }\n",
       "\n",
       "    .dataframe thead th {\n",
       "        text-align: right;\n",
       "    }\n",
       "</style>\n",
       "<table border=\"1\" class=\"dataframe\">\n",
       "  <thead>\n",
       "    <tr style=\"text-align: right;\">\n",
       "      <th></th>\n",
       "      <th>name</th>\n",
       "      <th>url</th>\n",
       "      <th>description</th>\n",
       "      <th>s</th>\n",
       "    </tr>\n",
       "  </thead>\n",
       "  <tbody>\n",
       "    <tr>\n",
       "      <th>0</th>\n",
       "      <td>Length (fork length) of biological entity spec...</td>\n",
       "      <td>http://vocab.nerc.ac.uk/collection/P01/current...</td>\n",
       "      <td>Length (fork length) of biological entity spec...</td>\n",
       "      <td>https://obis.org/dataset/d6dc7351-aae6-4ed1-8f...</td>\n",
       "    </tr>\n",
       "    <tr>\n",
       "      <th>1</th>\n",
       "      <td>Length (fork length) of biological entity spec...</td>\n",
       "      <td>http://vocab.nerc.ac.uk/collection/P01/current...</td>\n",
       "      <td>Length (fork length) of biological entity spec...</td>\n",
       "      <td>https://obis.org/dataset/d6dc7351-aae6-4ed1-8f...</td>\n",
       "    </tr>\n",
       "    <tr>\n",
       "      <th>2</th>\n",
       "      <td>Length (fork length) of biological entity spec...</td>\n",
       "      <td>http://vocab.nerc.ac.uk/collection/P01/current...</td>\n",
       "      <td>Length (fork length) of biological entity spec...</td>\n",
       "      <td>https://obis.org/dataset/d6dc7351-aae6-4ed1-8f...</td>\n",
       "    </tr>\n",
       "    <tr>\n",
       "      <th>3</th>\n",
       "      <td>Length (fork length) of biological entity spec...</td>\n",
       "      <td>http://vocab.nerc.ac.uk/collection/P01/current...</td>\n",
       "      <td>Length (fork length) of biological entity spec...</td>\n",
       "      <td>https://obis.org/dataset/d6dc7351-aae6-4ed1-8f...</td>\n",
       "    </tr>\n",
       "    <tr>\n",
       "      <th>12</th>\n",
       "      <td>Sampling effort</td>\n",
       "      <td>http://vocab.nerc.ac.uk/collection/P02/current...</td>\n",
       "      <td>Sampling effort</td>\n",
       "      <td>https://obis.org/dataset/aecfd008-3399-4422-b7...</td>\n",
       "    </tr>\n",
       "    <tr>\n",
       "      <th>13</th>\n",
       "      <td>Sampling effort</td>\n",
       "      <td>http://vocab.nerc.ac.uk/collection/P02/current...</td>\n",
       "      <td>Sampling effort</td>\n",
       "      <td>https://obis.org/dataset/aecfd008-3399-4422-b7...</td>\n",
       "    </tr>\n",
       "    <tr>\n",
       "      <th>14</th>\n",
       "      <td>Sampling effort</td>\n",
       "      <td>http://vocab.nerc.ac.uk/collection/P02/current...</td>\n",
       "      <td>Sampling effort</td>\n",
       "      <td>https://obis.org/dataset/aecfd008-3399-4422-b7...</td>\n",
       "    </tr>\n",
       "    <tr>\n",
       "      <th>15</th>\n",
       "      <td>Sampling effort</td>\n",
       "      <td>http://vocab.nerc.ac.uk/collection/P02/current...</td>\n",
       "      <td>Sampling effort</td>\n",
       "      <td>https://obis.org/dataset/aecfd008-3399-4422-b7...</td>\n",
       "    </tr>\n",
       "    <tr>\n",
       "      <th>16</th>\n",
       "      <td>Lower sieve mesh size</td>\n",
       "      <td>http://vocab.nerc.ac.uk/collection/Q01/current...</td>\n",
       "      <td>Lower sieve mesh size</td>\n",
       "      <td>https://obis.org/dataset/55e369ca-ff48-4024-90...</td>\n",
       "    </tr>\n",
       "    <tr>\n",
       "      <th>17</th>\n",
       "      <td>Lower sieve mesh size</td>\n",
       "      <td>http://vocab.nerc.ac.uk/collection/Q01/current...</td>\n",
       "      <td>Lower sieve mesh size</td>\n",
       "      <td>https://obis.org/dataset/55e369ca-ff48-4024-90...</td>\n",
       "    </tr>\n",
       "  </tbody>\n",
       "</table>\n",
       "</div>"
      ],
      "text/plain": [
       "                                                 name  \\\n",
       "0   Length (fork length) of biological entity spec...   \n",
       "1   Length (fork length) of biological entity spec...   \n",
       "2   Length (fork length) of biological entity spec...   \n",
       "3   Length (fork length) of biological entity spec...   \n",
       "12                                    Sampling effort   \n",
       "13                                    Sampling effort   \n",
       "14                                    Sampling effort   \n",
       "15                                    Sampling effort   \n",
       "16                              Lower sieve mesh size   \n",
       "17                              Lower sieve mesh size   \n",
       "\n",
       "                                                  url  \\\n",
       "0   http://vocab.nerc.ac.uk/collection/P01/current...   \n",
       "1   http://vocab.nerc.ac.uk/collection/P01/current...   \n",
       "2   http://vocab.nerc.ac.uk/collection/P01/current...   \n",
       "3   http://vocab.nerc.ac.uk/collection/P01/current...   \n",
       "12  http://vocab.nerc.ac.uk/collection/P02/current...   \n",
       "13  http://vocab.nerc.ac.uk/collection/P02/current...   \n",
       "14  http://vocab.nerc.ac.uk/collection/P02/current...   \n",
       "15  http://vocab.nerc.ac.uk/collection/P02/current...   \n",
       "16  http://vocab.nerc.ac.uk/collection/Q01/current...   \n",
       "17  http://vocab.nerc.ac.uk/collection/Q01/current...   \n",
       "\n",
       "                                          description  \\\n",
       "0   Length (fork length) of biological entity spec...   \n",
       "1   Length (fork length) of biological entity spec...   \n",
       "2   Length (fork length) of biological entity spec...   \n",
       "3   Length (fork length) of biological entity spec...   \n",
       "12                                    Sampling effort   \n",
       "13                                    Sampling effort   \n",
       "14                                    Sampling effort   \n",
       "15                                    Sampling effort   \n",
       "16                              Lower sieve mesh size   \n",
       "17                              Lower sieve mesh size   \n",
       "\n",
       "                                                    s  \n",
       "0   https://obis.org/dataset/d6dc7351-aae6-4ed1-8f...  \n",
       "1   https://obis.org/dataset/d6dc7351-aae6-4ed1-8f...  \n",
       "2   https://obis.org/dataset/d6dc7351-aae6-4ed1-8f...  \n",
       "3   https://obis.org/dataset/d6dc7351-aae6-4ed1-8f...  \n",
       "12  https://obis.org/dataset/aecfd008-3399-4422-b7...  \n",
       "13  https://obis.org/dataset/aecfd008-3399-4422-b7...  \n",
       "14  https://obis.org/dataset/aecfd008-3399-4422-b7...  \n",
       "15  https://obis.org/dataset/aecfd008-3399-4422-b7...  \n",
       "16  https://obis.org/dataset/55e369ca-ff48-4024-90...  \n",
       "17  https://obis.org/dataset/55e369ca-ff48-4024-90...  "
      ]
     },
     "execution_count": 17,
     "metadata": {},
     "output_type": "execute_result"
    }
   ],
   "source": [
    "df.head(10)"
   ]
  },
  {
   "cell_type": "code",
   "execution_count": 18,
   "id": "6edcf5a3e7e8a9d",
   "metadata": {
    "ExecuteTime": {
     "end_time": "2024-01-04T15:14:36.496745280Z",
     "start_time": "2024-01-04T15:14:36.495338175Z"
    },
    "collapsed": false,
    "jupyter": {
     "outputs_hidden": false
    },
    "tags": []
   },
   "outputs": [],
   "source": [
    "#  yeah, I get it...   don't iterate rows...  PR's welcome for this, being bad is too easy!  \n",
    "# for index, row in nodes.iterrows():\n",
    "#    g.add_node(row['Id'])\n",
    "g = GraphML()\n",
    "g.directed = False\n",
    "\n",
    "for index, row in df.iterrows():\n",
    "    n1 = g.add_node(row['s'])\n",
    "    # n1['type'] = row['sType']\n",
    "    \n",
    "    n2 = g.add_node(row['name'])\n",
    "    # n2['type'] = row['tType']\n",
    "\n",
    "    e1 = g.add_edge(n1, n2)\n",
    "    \n",
    "fname = \"./obisvars.graphml\"\n",
    "parser = GraphMLParser()\n",
    "parser.write(g, fname)"
   ]
  },
  {
   "cell_type": "code",
   "execution_count": 19,
   "id": "ed7af016-bb24-43c4-84b3-e78f9f8e9cc3",
   "metadata": {
    "ExecuteTime": {
     "end_time": "2024-01-04T15:14:37.686367114Z",
     "start_time": "2024-01-04T15:14:37.682938656Z"
    },
    "tags": []
   },
   "outputs": [],
   "source": [
    "# g = nx.les_miserables_graph()\n",
    "g = nx.read_graphml(\"./obisvars.graphml\")"
   ]
  },
  {
   "cell_type": "code",
   "execution_count": 20,
   "id": "633c2831-ef4d-4c88-ae42-95c3189254db",
   "metadata": {
    "ExecuteTime": {
     "end_time": "2024-01-04T15:14:38.116114415Z",
     "start_time": "2024-01-04T15:14:38.111321513Z"
    },
    "tags": []
   },
   "outputs": [
    {
     "data": {
      "application/vnd.jupyter.widget-view+json": {
       "model_id": "a7095b58f3494c0da8a066c6e46719be",
       "version_major": 2,
       "version_minor": 0
      },
      "text/plain": [
       "Sigma(nx.MultiGraph with 2,230 nodes and 31,748 edges)"
      ]
     },
     "metadata": {},
     "output_type": "display_data"
    }
   ],
   "source": [
    "Sigma(\n",
    "    g,\n",
    "    node_size=g.degree,\n",
    "    default_edge_type='curve',\n",
    "    node_border_color_from='node',\n",
    "    node_metrics=['louvain'],\n",
    "    node_color='louvain',\n",
    "    start_layout=5,\n",
    "    edge_size=lambda u, v: g.degree(u) + g.degree(v),\n",
    "    edge_size_range=(0.5, 5),\n",
    "    label_font='cursive',\n",
    "    node_label_size=g.degree,\n",
    "    label_density=0\n",
    ")\n",
    "\n"
   ]
  },
  {
   "cell_type": "code",
   "execution_count": 8,
   "id": "734d858724bd6a30",
   "metadata": {
    "ExecuteTime": {
     "end_time": "2023-12-14T14:55:11.455167413Z",
     "start_time": "2023-12-14T14:55:11.454273523Z"
    },
    "collapsed": false,
    "jupyter": {
     "outputs_hidden": false
    }
   },
   "outputs": [],
   "source": []
  },
  {
   "cell_type": "code",
   "execution_count": null,
   "id": "5ae8815403d298ad",
   "metadata": {
    "collapsed": false,
    "jupyter": {
     "outputs_hidden": false
    }
   },
   "outputs": [],
   "source": []
  }
 ],
 "metadata": {
  "kernelspec": {
   "display_name": "Python 3",
   "language": "python",
   "name": "python3"
  },
  "language_info": {
   "codemirror_mode": {
    "name": "ipython",
    "version": 3
   },
   "file_extension": ".py",
   "mimetype": "text/x-python",
   "name": "python",
   "nbconvert_exporter": "python",
   "pygments_lexer": "ipython3",
   "version": "3.10.12"
  }
 },
 "nbformat": 4,
 "nbformat_minor": 5
}
