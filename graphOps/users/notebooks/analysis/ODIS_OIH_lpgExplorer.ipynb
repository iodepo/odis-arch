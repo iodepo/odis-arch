{
 "nbformat": 4,
 "nbformat_minor": 0,
 "metadata": {
  "colab": {
   "provenance": [],
   "machine_shape": "hm",
   "collapsed_sections": [
    "pMQttOx0Buob",
    "DerBJTPrEvox"
   ]
  },
  "kernelspec": {
   "name": "python3",
   "display_name": "Python 3 (ipykernel)",
   "language": "python"
  },
  "language_info": {
   "name": "python"
  }
 },
 "cells": [
  {
   "cell_type": "markdown",
   "source": [
    "# ODIS / OIH Property Graph Explorer\n",
    "\n",
    "In process graph OLAP with KuzuDB\n",
    "\n"
   ],
   "metadata": {
    "id": "tpIq0F9lsXTi"
   }
  },
  {
   "cell_type": "markdown",
   "source": [
    "## Installs, imports and definitions\n",
    "\n",
    "For all the OLAP approaches, connecting with DuckDB might be useful, as might\n",
    "IBIS (https://ibis-project.org/).  \n",
    "\n",
    "### Try\n",
    "* https://kuzudb.com/docusaurus/blog/llms-graphs-part-1/\n",
    "* https://kuzudb.com/docusaurus/blog/transforming-your-data-to-graphs-2/"
   ],
   "metadata": {
    "id": "hrxJQDSgxw1G"
   }
  },
  {
   "cell_type": "code",
   "metadata": {
    "id": "2ZDVJx4n4gf7",
    "ExecuteTime": {
     "end_time": "2024-06-22T20:13:46.304874Z",
     "start_time": "2024-06-22T20:13:46.303173Z"
    }
   },
   "source": [
    "# %%capture\n",
    "# !pip install -q minio\n",
    "# !pip install -q oxrdflib\n",
    "# !pip install -q ipysigma\n",
    "# !pip install -q kuzu\n",
    "# !pip install -q chocolate >= 0.0.2\n",
    "# !pip install -q icecream >= 2.1\n",
    "# !pip install -q pandas >= 2.2\n",
    "# !pip install -q pyshacl >= 0.25\n",
    "# !pip install -q rdflib >= 7.0"
   ],
   "outputs": [],
   "execution_count": 1
  },
  {
   "cell_type": "code",
   "source": [
    "import warnings\n",
    "warnings.simplefilter(action='ignore', category=FutureWarning)  ## remove pandas future warning\n",
    "from minio import Minio\n",
    "from urllib.request import urlopen\n",
    "import kuzu\n",
    "from ipysigma import Sigma\n",
    "import os\n",
    "import requests\n",
    "from concurrent.futures import ThreadPoolExecutor\n",
    "import networkx as nx\n",
    "from lxml import etree"
   ],
   "metadata": {
    "id": "sI2_aqTs-gfa"
   },
   "execution_count": 12,
   "outputs": []
  },
  {
   "cell_type": "code",
   "source": [
    "def publicurls(client, bucket, prefix):\n",
    "    urls = []\n",
    "    objects = client.list_objects(bucket, prefix=prefix, recursive=True)\n",
    "    for obj in objects:\n",
    "        result = client.stat_object(bucket, obj.object_name)\n",
    "\n",
    "        if result.size > 0:  #  how to tell if an objet   obj.is_public  ?????\n",
    "            url = client.presigned_get_object(bucket, obj.object_name)\n",
    "            # print(f\"Public URL for object: {url}\")\n",
    "            urls.append(url)\n",
    "\n",
    "    return urls\n",
    "\n",
    "def download_file(url):\n",
    "    \"\"\"Downloads a remote file and handles potential errors.\"\"\"\n",
    "    try:\n",
    "        response = requests.get(url, stream=True)  # Stream for efficient memory usage\n",
    "        response.raise_for_status()  # Raise exception for error codes\n",
    "\n",
    "        filename = url.split(\"/\")[-1]\n",
    "        local_filename = f\"./data/{filename.replace('.nq', '.nt')}\"  # Convert extension\n",
    "\n",
    "        with open(local_filename, \"wb\") as f:\n",
    "            for chunk in response.iter_content(chunk_size=1024):  # Download in chunks\n",
    "                f.write(chunk)\n",
    "\n",
    "        print(f\"Downloaded: {filename}\")\n",
    "\n",
    "    except requests.exceptions.RequestException as e:\n",
    "        print(f\"Download failed for {url}: {e}\")"
   ],
   "metadata": {
    "id": "7_EIoLaGj4e8"
   },
   "execution_count": 13,
   "outputs": []
  },
  {
   "cell_type": "code",
   "source": [
    "client = Minio(\"ossapi.oceaninfohub.org:80\",  secure=False) # Create client with anonymous access.\n",
    "urls = publicurls(client, \"commons\", \"OIH-KG/21022024/nt\")\n",
    "# for u in urls:\n",
    "#   print(u)"
   ],
   "metadata": {
    "id": "G5BEhyL-25rb"
   },
   "execution_count": 14,
   "outputs": []
  },
  {
   "cell_type": "markdown",
   "source": [
    "## Copy files local for use"
   ],
   "metadata": {
    "id": "pMQttOx0Buob"
   }
  },
  {
   "cell_type": "code",
   "source": [
    "# make the directory ./data if it doesn't exist\n",
    "# Define the directory path\n",
    "directory_path = \"./data\"\n",
    "\n",
    "# Check if the directory exists\n",
    "if not os.path.exists(directory_path):\n",
    "    # Create the directory\n",
    "    os.makedirs(directory_path)"
   ],
   "metadata": {
    "id": "15Zi8NotSXtk"
   },
   "execution_count": 5,
   "outputs": []
  },
  {
   "cell_type": "code",
   "source": [
    "with ThreadPoolExecutor() as executor:\n",
    "    for url in urls:\n",
    "        if \"_prov\" not in url:\n",
    "            executor.submit(download_file, url)"
   ],
   "metadata": {
    "colab": {
     "base_uri": "https://localhost:8080/"
    },
    "id": "MMnNFt8Lp3nj",
    "outputId": "0c419dfb-e998-4e61-df36-bece54e2390c"
   },
   "execution_count": 6,
   "outputs": [
    {
     "output_type": "stream",
     "name": "stdout",
     "text": [
      "Downloaded: inanodc_release.nt\n",
      "Downloaded: invemarvessels_release.nt\n",
      "Downloaded: invemarinstitutions_release.nt\n",
      "Downloaded: africaioc_release.nt\n",
      "Downloaded: invemarexperts_release.nt\n",
      "Downloaded: bmdc_release.nt\n",
      "Downloaded: emodnet_release.nt\n",
      "Downloaded: edmo_release.nt\n",
      "Downloaded: invemartraining_release.nt\n",
      "Downloaded: nmdis_release.nt\n",
      "Downloaded: oceanscape_release.nt\n",
      "Downloaded: obps_release.nt\n",
      "Downloaded: pedp_release.nt\n",
      "Downloaded: edmerp_release.nt\n",
      "Downloaded: oceanexpert_release.nt\n",
      "Downloaded: rda_release.nt\n",
      "Downloaded: marinetraining_release.nt\n",
      "Downloaded: cioos_release.nt\n",
      "Downloaded: invemardocuments_release.nt\n",
      "Downloaded: obis_release.nt\n",
      "Downloaded: medin_release.nt\n",
      "Downloaded: pdh_release.nt\n"
     ]
    }
   ]
  },
  {
   "cell_type": "markdown",
   "source": [
    "## Load all in ./data to Kuzu\n"
   ],
   "metadata": {
    "id": "DerBJTPrEvox"
   }
  },
  {
   "cell_type": "code",
   "source": [
    "db = kuzu.Database('./kuzu')\n",
    "conn = kuzu.Connection(db)\n",
    "conn.execute(\"CREATE RDFGraph UniKG;\")"
   ],
   "metadata": {
    "id": "AYCu6iPS3Isr",
    "colab": {
     "base_uri": "https://localhost:8080/"
    },
    "outputId": "4020c275-b93c-49b1-9fca-57c8da3a699d"
   },
   "execution_count": 7,
   "outputs": [
    {
     "output_type": "execute_result",
     "data": {
      "text/plain": [
       "<kuzu.query_result.QueryResult at 0x7a72493daa10>"
      ]
     },
     "metadata": {},
     "execution_count": 7
    }
   ]
  },
  {
   "cell_type": "code",
   "source": [
    "file_names = os.listdir(\"./data\")\n",
    "file_paths = [(\"./data/{}\".format(file_name)) for file_name in file_names]\n",
    "conn.execute(\"COPY UniKG FROM {};\".format(file_paths))"
   ],
   "metadata": {
    "id": "7lU4Q5GlDU3D",
    "colab": {
     "base_uri": "https://localhost:8080/"
    },
    "outputId": "51d9946a-400c-4107-dded-a25e4db2eec1"
   },
   "execution_count": 8,
   "outputs": [
    {
     "output_type": "execute_result",
     "data": {
      "text/plain": [
       "<kuzu.query_result.QueryResult at 0x7a72493db130>"
      ]
     },
     "metadata": {},
     "execution_count": 8
    }
   ]
  },
  {
   "cell_type": "code",
   "source": [
    "r = conn.execute(\"MATCH (s)-[p:UniKG]->(o) RETURN count(*);\")\n",
    "while r.has_next():\n",
    "    print(r.get_next())"
   ],
   "metadata": {
    "id": "32eq49nGDhAj",
    "colab": {
     "base_uri": "https://localhost:8080/"
    },
    "outputId": "e1fe9d29-b474-40b9-c0a4-d1bc84940d91"
   },
   "execution_count": 9,
   "outputs": [
    {
     "output_type": "stream",
     "name": "stdout",
     "text": [
      "[7320341]\n"
     ]
    }
   ]
  },
  {
   "cell_type": "markdown",
   "source": [
    "## Subset load"
   ],
   "metadata": {
    "id": "jqT6D1DwiFSM"
   }
  },
  {
   "cell_type": "code",
   "source": [
    "db2 = kuzu.Database('./kuzu')\n",
    "conn2 = kuzu.Connection(db2)\n",
    "conn2.execute(\"CREATE RDFGraph UniKG;\")"
   ],
   "metadata": {
    "colab": {
     "base_uri": "https://localhost:8080/",
     "height": 297
    },
    "id": "XChxrnKcimtd",
    "outputId": "b41090d6-6f8f-4a96-a616-a58c682cc371"
   },
   "execution_count": 10,
   "outputs": [
    {
     "output_type": "error",
     "ename": "RuntimeError",
     "evalue": "Binder exception: UniKG already exists in catalog.",
     "traceback": [
      "\u001B[0;31m---------------------------------------------------------------------------\u001B[0m",
      "\u001B[0;31mRuntimeError\u001B[0m                              Traceback (most recent call last)",
      "\u001B[0;32m<ipython-input-10-9d5d67dbddf5>\u001B[0m in \u001B[0;36m<cell line: 3>\u001B[0;34m()\u001B[0m\n\u001B[1;32m      1\u001B[0m \u001B[0mdb2\u001B[0m \u001B[0;34m=\u001B[0m \u001B[0mkuzu\u001B[0m\u001B[0;34m.\u001B[0m\u001B[0mDatabase\u001B[0m\u001B[0;34m(\u001B[0m\u001B[0;34m'./kuzu'\u001B[0m\u001B[0;34m)\u001B[0m\u001B[0;34m\u001B[0m\u001B[0;34m\u001B[0m\u001B[0m\n\u001B[1;32m      2\u001B[0m \u001B[0mconn2\u001B[0m \u001B[0;34m=\u001B[0m \u001B[0mkuzu\u001B[0m\u001B[0;34m.\u001B[0m\u001B[0mConnection\u001B[0m\u001B[0;34m(\u001B[0m\u001B[0mdb2\u001B[0m\u001B[0;34m)\u001B[0m\u001B[0;34m\u001B[0m\u001B[0;34m\u001B[0m\u001B[0m\n\u001B[0;32m----> 3\u001B[0;31m \u001B[0mconn2\u001B[0m\u001B[0;34m.\u001B[0m\u001B[0mexecute\u001B[0m\u001B[0;34m(\u001B[0m\u001B[0;34m\"CREATE RDFGraph UniKG;\"\u001B[0m\u001B[0;34m)\u001B[0m\u001B[0;34m\u001B[0m\u001B[0;34m\u001B[0m\u001B[0m\n\u001B[0m",
      "\u001B[0;32m/usr/local/lib/python3.10/dist-packages/kuzu/connection.py\u001B[0m in \u001B[0;36mexecute\u001B[0;34m(self, query, parameters)\u001B[0m\n\u001B[1;32m    129\u001B[0m \u001B[0;34m\u001B[0m\u001B[0m\n\u001B[1;32m    130\u001B[0m         \u001B[0;32mif\u001B[0m \u001B[0mlen\u001B[0m\u001B[0;34m(\u001B[0m\u001B[0mparameters\u001B[0m\u001B[0;34m)\u001B[0m \u001B[0;34m==\u001B[0m \u001B[0;36m0\u001B[0m\u001B[0;34m:\u001B[0m\u001B[0;34m\u001B[0m\u001B[0;34m\u001B[0m\u001B[0m\n\u001B[0;32m--> 131\u001B[0;31m             \u001B[0m_query_result\u001B[0m \u001B[0;34m=\u001B[0m \u001B[0mself\u001B[0m\u001B[0;34m.\u001B[0m\u001B[0m_connection\u001B[0m\u001B[0;34m.\u001B[0m\u001B[0mquery\u001B[0m\u001B[0;34m(\u001B[0m\u001B[0mquery\u001B[0m\u001B[0;34m)\u001B[0m\u001B[0;34m\u001B[0m\u001B[0;34m\u001B[0m\u001B[0m\n\u001B[0m\u001B[1;32m    132\u001B[0m         \u001B[0;32melse\u001B[0m\u001B[0;34m:\u001B[0m\u001B[0;34m\u001B[0m\u001B[0;34m\u001B[0m\u001B[0m\n\u001B[1;32m    133\u001B[0m             \u001B[0mprepared_statement\u001B[0m \u001B[0;34m=\u001B[0m \u001B[0mself\u001B[0m\u001B[0;34m.\u001B[0m\u001B[0mprepare\u001B[0m\u001B[0;34m(\u001B[0m\u001B[0mquery\u001B[0m\u001B[0;34m)\u001B[0m \u001B[0;32mif\u001B[0m \u001B[0misinstance\u001B[0m\u001B[0;34m(\u001B[0m\u001B[0mquery\u001B[0m\u001B[0;34m,\u001B[0m \u001B[0mstr\u001B[0m\u001B[0;34m)\u001B[0m \u001B[0;32melse\u001B[0m \u001B[0mquery\u001B[0m\u001B[0;34m\u001B[0m\u001B[0;34m\u001B[0m\u001B[0m\n",
      "\u001B[0;31mRuntimeError\u001B[0m: Binder exception: UniKG already exists in catalog."
     ]
    }
   ]
  },
  {
   "cell_type": "code",
   "source": [
    "ss = ['./data/obis_release.nt', './data/obps_release.nt', \"./data/oceanexpert_release.nt\"]\n",
    "conn2.execute(\"COPY UniKG FROM {};\".format(ss))"
   ],
   "metadata": {
    "id": "TvI8gZkZiEzJ"
   },
   "execution_count": null,
   "outputs": []
  },
  {
   "cell_type": "code",
   "source": [
    "r = conn2.execute(\"MATCH (s)-[p:UniKG]->(o) RETURN count(*);\")\n",
    "while r.has_next():\n",
    "    print(r.get_next())"
   ],
   "metadata": {
    "id": "6ruNaGUtO3Ys"
   },
   "execution_count": null,
   "outputs": []
  },
  {
   "cell_type": "markdown",
   "source": [
    "## Kuzu to Visilization\n",
    "\n",
    "I can same results to networkx, which can same to graphml for use with sigm"
   ],
   "metadata": {
    "id": "are7FoB_rFNo"
   }
  },
  {
   "cell_type": "code",
   "source": [
    "from google.colab import output\n",
    "output.enable_custom_widget_manager()"
   ],
   "metadata": {
    "id": "JjyMn5hdtINZ"
   },
   "execution_count": null,
   "outputs": []
  },
  {
   "cell_type": "code",
   "source": [
    "c1 = \"\"\"MATCH (s)-[p:UniKG {iri: \"http://www.w3.org/1999/02/22-rdf-syntax-ns#type\"}]-> (st),\n",
    "(t)-[p2:UniKG {iri: \"http://www.w3.org/1999/02/22-rdf-syntax-ns#type\"}]-> (tt),\n",
    "(s)-[p3:UniKG_rt]->(t)\n",
    "\n",
    "RETURN s.iri, t.iri, p3.iri  LIMIT 10000\n",
    "\"\"\"\n",
    "\n",
    "c2 = \"\"\"MATCH (s)-[p:UniKG {iri: \"http://www.w3.org/1999/02/22-rdf-syntax-ns#type\"}]-> (st),\n",
    "(t)-[p2:UniKG {iri: \"http://www.w3.org/1999/02/22-rdf-syntax-ns#type\"}]-> (tt),\n",
    "(s)-[p3:UniKG_rt]->(t)\n",
    "RETURN COUNT(*)\n",
    "\"\"\"\n",
    "\n",
    "c3 = \"\"\"MATCH (s)-[p:UniKG {iri: \"http://www.w3.org/1999/02/22-rdf-syntax-ns#type\"}]-> (st),\n",
    "(t)-[p2:UniKG {iri: \"http://www.w3.org/1999/02/22-rdf-syntax-ns#type\"}]-> (tt),\n",
    "(s)-[p3:UniKG_rt]->(t)\n",
    "RETURN s, t, p3 LIMIT 100000\n",
    "\"\"\""
   ],
   "metadata": {
    "id": "UXahumdgv7Bl"
   },
   "execution_count": null,
   "outputs": []
  },
  {
   "cell_type": "code",
   "source": [
    "r = conn.execute(c3)"
   ],
   "metadata": {
    "id": "E1uK7MWcv-Tj"
   },
   "execution_count": null,
   "outputs": []
  },
  {
   "cell_type": "code",
   "source": [
    "g = r.get_as_networkx(directed=False)"
   ],
   "metadata": {
    "id": "-4yMriExuyiY"
   },
   "execution_count": null,
   "outputs": []
  },
  {
   "cell_type": "code",
   "source": [
    "# sigma can work with a networkx graph to begin with\n",
    "Sigma(\n",
    "    g,\n",
    "    node_size=g.degree,\n",
    "    default_edge_type='curve',\n",
    "    node_border_color_from='node',\n",
    "    node_metrics=['louvain'],\n",
    "    node_color='louvain',\n",
    "    start_layout=5,\n",
    "    edge_size=lambda u, v: g.degree(u) + g.degree(v),\n",
    "    edge_size_range=(0.5, 5),\n",
    "    label_font='cursive',\n",
    "    node_label_size=g.degree,\n",
    "    label_density=0\n",
    ")"
   ],
   "metadata": {
    "id": "iAIFgUT_svht"
   },
   "execution_count": null,
   "outputs": []
  }
 ]
}
