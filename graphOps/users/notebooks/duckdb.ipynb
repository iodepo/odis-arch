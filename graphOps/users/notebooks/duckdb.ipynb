{
 "cells": [
  {
   "cell_type": "markdown",
   "id": "53f6f7c4-caa2-4c0e-adb5-3e63711be3c2",
   "metadata": {},
   "source": [
    "# DuckDB processing\n",
    "\n",
    "Query the parquet products and try and make some JSON products from them\n",
    "\n",
    "Need to get to a format like:  https://github.com/iodepo/odis-arch/blob/master/graphOps/extraction/data/solrexample.json\n"
   ]
  },
  {
   "cell_type": "markdown",
   "id": "c5981b4b-64db-4a07-9e29-9359732f8131",
   "metadata": {
    "jp-MarkdownHeadingCollapsed": true
   },
   "source": [
    "## Web Loading"
   ]
  },
  {
   "cell_type": "code",
   "execution_count": 1,
   "id": "09b99a06-16b0-442e-aa0c-b569d5c046b1",
   "metadata": {
    "ExecuteTime": {
     "end_time": "2024-05-08T21:12:47.795329Z",
     "start_time": "2024-05-08T21:12:47.304730Z"
    },
    "execution": {
     "iopub.execute_input": "2024-05-09T23:45:25.146531Z",
     "iopub.status.busy": "2024-05-09T23:45:25.146372Z",
     "iopub.status.idle": "2024-05-09T23:45:26.090000Z",
     "shell.execute_reply": "2024-05-09T23:45:26.089546Z",
     "shell.execute_reply.started": "2024-05-09T23:45:25.146517Z"
    }
   },
   "outputs": [],
   "source": [
    "import duckdb\n",
    "import pandas as pd\n",
    "import numpy as np\n",
    "import os\n",
    "import tqdm\n",
    "from minio import Minio\n",
    "import matplotlib.pyplot as plt\n",
    "# import spacy\n"
   ]
  },
  {
   "cell_type": "code",
   "execution_count": 2,
   "id": "2bff18e5-f1db-4daf-a3a4-394ae9b872a4",
   "metadata": {
    "ExecuteTime": {
     "end_time": "2024-05-08T12:14:32.271244Z",
     "start_time": "2024-05-08T12:14:17.722958Z"
    },
    "execution": {
     "iopub.execute_input": "2024-05-08T00:44:01.103417Z",
     "iopub.status.busy": "2024-05-08T00:44:01.103235Z",
     "iopub.status.idle": "2024-05-08T00:44:16.111691Z",
     "shell.execute_reply": "2024-05-08T00:44:16.111238Z",
     "shell.execute_reply.started": "2024-05-08T00:44:01.103404Z"
    }
   },
   "outputs": [
    {
     "data": {
      "application/vnd.jupyter.widget-view+json": {
       "model_id": "c4e59d557f7d435fb70facedb15d7f55",
       "version_major": 2,
       "version_minor": 0
      },
      "text/plain": [
       "FloatProgress(value=0.0, layout=Layout(width='auto'), style=ProgressStyle(bar_color='black'))"
      ]
     },
     "metadata": {},
     "output_type": "display_data"
    },
    {
     "data": {
      "application/vnd.jupyter.widget-view+json": {
       "model_id": "98b8ab75f0384aafb163098a6e5d509a",
       "version_major": 2,
       "version_minor": 0
      },
      "text/plain": [
       "FloatProgress(value=0.0, layout=Layout(width='auto'), style=ProgressStyle(bar_color='black'))"
      ]
     },
     "metadata": {},
     "output_type": "display_data"
    },
    {
     "data": {
      "text/plain": [
       "<duckdb.duckdb.DuckDBPyConnection at 0x7fae37fce9b0>"
      ]
     },
     "execution_count": 2,
     "metadata": {},
     "output_type": "execute_result"
    }
   ],
   "source": [
    "## load the combined graph\n",
    "urlCombined = \"http://ossapi.oceaninfohub.org/public/assets/combined.parquet\"\n",
    "urlCIOOS = \"http://ossapi.oceaninfohub.org/public/assets/cioos.parquet\"\n",
    "\n",
    "duckdb.install_extension(\"httpfs\")\n",
    "\n",
    "# Instantiate the DuckDB connection\n",
    "con = duckdb.connect()\n",
    "con.execute(\"CREATE TABLE data AS SELECT  row_number() OVER () AS idx, * FROM read_parquet('{}')\".format(urlCombined))  # load from url\n",
    "\n",
    "con2 = duckdb.connect()\n",
    "con2.execute(\"CREATE TABLE data AS SELECT  row_number() OVER () AS idx, * FROM read_parquet('{}')\".format(urlCIOOS))  # load from url\n"
   ]
  },
  {
   "cell_type": "code",
   "execution_count": 3,
   "id": "50c149f7-660d-49fb-8244-cbafa147a10c",
   "metadata": {
    "ExecuteTime": {
     "end_time": "2024-05-08T12:14:32.275371Z",
     "start_time": "2024-05-08T12:14:32.271909Z"
    },
    "execution": {
     "iopub.execute_input": "2024-05-08T00:44:16.112798Z",
     "iopub.status.busy": "2024-05-08T00:44:16.112595Z",
     "iopub.status.idle": "2024-05-08T00:44:16.116252Z",
     "shell.execute_reply": "2024-05-08T00:44:16.115900Z",
     "shell.execute_reply.started": "2024-05-08T00:44:16.112779Z"
    }
   },
   "outputs": [
    {
     "name": "stdout",
     "output_type": "stream",
     "text": [
      "['idx', 's', 'type', 'name', 'keywords', 'url', 'desc', 'provder', '__index_level_0__']\n"
     ]
    }
   ],
   "source": [
    "r1 = con.execute(\"DESCRIBE SELECT * FROM data\").fetchdf()\n",
    "print(list(r1['column_name']))"
   ]
  },
  {
   "cell_type": "code",
   "execution_count": 4,
   "id": "86cad2c0-1b3d-455f-97a8-9865a9d05bea",
   "metadata": {
    "ExecuteTime": {
     "end_time": "2024-05-08T12:14:32.292146Z",
     "start_time": "2024-05-08T12:14:32.276211Z"
    },
    "execution": {
     "iopub.execute_input": "2024-05-08T00:42:25.866529Z",
     "iopub.status.busy": "2024-05-08T00:42:25.866366Z",
     "iopub.status.idle": "2024-05-08T00:42:25.869858Z",
     "shell.execute_reply": "2024-05-08T00:42:25.869424Z",
     "shell.execute_reply.started": "2024-05-08T00:42:25.866516Z"
    }
   },
   "outputs": [
    {
     "name": "stdout",
     "output_type": "stream",
     "text": [
      "['idx', 'id', 'keywords', 'type', 'name', 'description', 'url', 'geotype', 'geompred', 'geom', 'temporalCoverage', 'datePublished', 'license', 'creator', 'includedInDataCatalog', 'distribution', 'publisher', 'filteredgeom', 'dt_startDate', 'dt_endDate', 'n_startYear', 'n_endYear', 'centroid', 'length', 'area', 'wkt', 'geojson']\n"
     ]
    }
   ],
   "source": [
    "r2 = con2.execute(\"DESCRIBE SELECT * FROM data\").fetchdf()\n",
    "print(list(r2['column_name']))"
   ]
  },
  {
   "cell_type": "code",
   "execution_count": 16,
   "id": "62485055-b96a-409c-9980-c18b80d90863",
   "metadata": {
    "ExecuteTime": {
     "end_time": "2024-05-08T12:16:27.248632Z",
     "start_time": "2024-05-08T12:16:27.225351Z"
    },
    "execution": {
     "iopub.execute_input": "2024-05-08T00:42:40.456676Z",
     "iopub.status.busy": "2024-05-08T00:42:40.456514Z",
     "iopub.status.idle": "2024-05-08T00:42:40.482747Z",
     "shell.execute_reply": "2024-05-08T00:42:40.482153Z",
     "shell.execute_reply.started": "2024-05-08T00:42:40.456663Z"
    }
   },
   "outputs": [],
   "source": [
    "# Now you can execute SQL queries on the Parquet file as if it was a regular table\n",
    "kc = con.execute(\"SELECT keywords, COUNT(*) AS counts FROM data GROUP BY keywords ORDER BY  counts DESC\" ).fetchdf()\n",
    "kc = kc[kc['keywords'].notna()]\n",
    "df = kc.head(30)\n"
   ]
  },
  {
   "cell_type": "code",
   "execution_count": 17,
   "id": "6ecfb33d-7600-40b1-994d-cc08f0f69c2b",
   "metadata": {
    "ExecuteTime": {
     "end_time": "2024-05-08T12:16:27.884445Z",
     "start_time": "2024-05-08T12:16:27.745715Z"
    },
    "execution": {
     "iopub.execute_input": "2024-05-08T00:43:42.935538Z",
     "iopub.status.busy": "2024-05-08T00:43:42.935375Z",
     "iopub.status.idle": "2024-05-08T00:43:43.105187Z",
     "shell.execute_reply": "2024-05-08T00:43:43.104630Z",
     "shell.execute_reply.started": "2024-05-08T00:43:42.935525Z"
    }
   },
   "outputs": [
    {
     "name": "stderr",
     "output_type": "stream",
     "text": [
      "/tmp/ipykernel_3686125/1023690343.py:6: SettingWithCopyWarning: \n",
      "A value is trying to be set on a copy of a slice from a DataFrame.\n",
      "Try using .loc[row_indexer,col_indexer] = value instead\n",
      "\n",
      "See the caveats in the documentation: https://pandas.pydata.org/pandas-docs/stable/user_guide/indexing.html#returning-a-view-versus-a-copy\n",
      "  df['counts'] = df['counts'] / df['counts'].sum()\n",
      "/tmp/ipykernel_3686125/1023690343.py:7: SettingWithCopyWarning: \n",
      "A value is trying to be set on a copy of a slice from a DataFrame.\n",
      "Try using .loc[row_indexer,col_indexer] = value instead\n",
      "\n",
      "See the caveats in the documentation: https://pandas.pydata.org/pandas-docs/stable/user_guide/indexing.html#returning-a-view-versus-a-copy\n",
      "  df['keywords'] = df['keywords'].apply(lambda x: x[:10] if len(x) > 10 else x)\n"
     ]
    },
    {
     "data": {
      "image/png": "[encoded data removed]",
      "text/plain": [
       "<Figure size 720x576 with 1 Axes>"
      ]
     },
     "metadata": {
      "needs_background": "light"
     },
     "output_type": "display_data"
    }
   ],
   "source": [
    "import pandas as pd\n",
    "import matplotlib.pyplot as plt\n",
    "import squarify\n",
    "\n",
    "# Normalize the counts to sum up to 1\n",
    "df['counts'] = df['counts'] / df['counts'].sum()\n",
    "df['keywords'] = df['keywords'].apply(lambda x: x[:10] if len(x) > 10 else x)\n",
    "\n",
    "# Create the treemap\n",
    "fig = plt.figure(figsize=(10, 8))\n",
    "ax = fig.add_subplot()\n",
    "\n",
    "# Squarify the data\n",
    "squarify.plot(sizes=df['counts'], label=df['keywords'], ax=ax, alpha=0.7)\n",
    "\n",
    "# Adjust the plot\n",
    "ax.axis('off')\n",
    "plt.title('Treemap of Keywords and Counts')\n",
    "\n",
    "plt.show()"
   ]
  },
  {
   "cell_type": "markdown",
   "id": "ffbd6987-b9b2-4c93-98bb-ff1a4381dcbc",
   "metadata": {},
   "source": [
    "## Load local files"
   ]
  },
  {
   "cell_type": "code",
   "execution_count": 10,
   "id": "50f8eaa8-6ee2-43c6-a028-168a6a965bdd",
   "metadata": {
    "ExecuteTime": {
     "end_time": "2024-05-08T12:14:59.495483Z",
     "start_time": "2024-05-08T12:14:59.453635Z"
    },
    "execution": {
     "iopub.execute_input": "2024-05-08T02:23:20.221571Z",
     "iopub.status.busy": "2024-05-08T02:23:20.221407Z",
     "iopub.status.idle": "2024-05-08T02:23:20.338003Z",
     "shell.execute_reply": "2024-05-08T02:23:20.337401Z",
     "shell.execute_reply.started": "2024-05-08T02:23:20.221558Z"
    }
   },
   "outputs": [
    {
     "data": {
      "text/plain": [
       "<duckdb.duckdb.DuckDBPyConnection at 0x7facb41fef30>"
      ]
     },
     "execution_count": 10,
     "metadata": {},
     "output_type": "execute_result"
    }
   ],
   "source": [
    "con3 = duckdb.connect()\n",
    "# dir = \"/home/fils/src/Projects/OIH/odis-arch/graphOps/extraction/mdp/output/*_baseQuery.parquet\"\n",
    "# dir = \"/home/fils/src/Projects/OIH/odis-arch/graphOps/extraction/mdp/output/*_dataset.parquet\"\n",
    "# dir = \"/home/fils/src/Projects/OIH/odis-arch/graphOps/extraction/mdp/output/*.parquet\"\n",
    "dir = \"/home/fils/src/Projects/OIH/odis-arch/graphOps/extraction/mdp/output/*_sup_geo.parquet\"\n",
    "\n",
    "con3.execute(\"CREATE TABLE data AS SELECT * FROM read_parquet('{}',  union_by_name = true)\".format(dir))  # load from url"
   ]
  },
  {
   "cell_type": "code",
   "execution_count": 11,
   "id": "cc848ed6-b71a-4490-bf74-586213af4a74",
   "metadata": {
    "ExecuteTime": {
     "end_time": "2024-05-08T12:14:59.978628Z",
     "start_time": "2024-05-08T12:14:59.975301Z"
    },
    "execution": {
     "iopub.execute_input": "2024-05-08T01:57:59.443644Z",
     "iopub.status.busy": "2024-05-08T01:57:59.443516Z",
     "iopub.status.idle": "2024-05-08T01:57:59.446766Z",
     "shell.execute_reply": "2024-05-08T01:57:59.446451Z",
     "shell.execute_reply.started": "2024-05-08T01:57:59.443632Z"
    }
   },
   "outputs": [
    {
     "name": "stdout",
     "output_type": "stream",
     "text": [
      "['id', 'type', 'placename', 'geotype', 'geompred', 'geom', 'lat', 'long', 'g']\n"
     ]
    }
   ],
   "source": [
    "r1 = con3.execute(\"DESCRIBE SELECT * FROM data\").fetchdf()\n",
    "print(list(r1['column_name']))"
   ]
  },
  {
   "cell_type": "code",
   "execution_count": 12,
   "id": "58dbce4b-23d2-46f6-9c86-c7674e31ee28",
   "metadata": {
    "ExecuteTime": {
     "end_time": "2024-05-08T12:15:00.895282Z",
     "start_time": "2024-05-08T12:15:00.855822Z"
    },
    "execution": {
     "iopub.execute_input": "2024-05-08T01:57:59.536852Z",
     "iopub.status.busy": "2024-05-08T01:57:59.536542Z",
     "iopub.status.idle": "2024-05-08T01:58:01.253663Z",
     "shell.execute_reply": "2024-05-08T01:58:01.253133Z",
     "shell.execute_reply.started": "2024-05-08T01:57:59.536840Z"
    }
   },
   "outputs": [],
   "source": [
    "kc = con3.execute(\"SELECT * FROM data\" ).fetchdf()"
   ]
  },
  {
   "cell_type": "code",
   "execution_count": 13,
   "id": "3665d4eb-eec4-4d95-afa6-b0e878fae181",
   "metadata": {
    "ExecuteTime": {
     "end_time": "2024-05-08T12:15:01.170552Z",
     "start_time": "2024-05-08T12:15:01.159630Z"
    },
    "execution": {
     "iopub.execute_input": "2024-05-08T01:58:01.254621Z",
     "iopub.status.busy": "2024-05-08T01:58:01.254460Z",
     "iopub.status.idle": "2024-05-08T01:58:01.258901Z",
     "shell.execute_reply": "2024-05-08T01:58:01.258564Z",
     "shell.execute_reply.started": "2024-05-08T01:58:01.254609Z"
    }
   },
   "outputs": [
    {
     "name": "stdout",
     "output_type": "stream",
     "text": [
      "<class 'pandas.core.frame.DataFrame'>\n",
      "RangeIndex: 26765 entries, 0 to 26764\n",
      "Data columns (total 9 columns):\n",
      " #   Column     Non-Null Count  Dtype \n",
      "---  ------     --------------  ----- \n",
      " 0   id         26765 non-null  object\n",
      " 1   type       26765 non-null  object\n",
      " 2   placename  0 non-null      object\n",
      " 3   geotype    26763 non-null  object\n",
      " 4   geompred   26763 non-null  object\n",
      " 5   geom       26763 non-null  object\n",
      " 6   lat        0 non-null      object\n",
      " 7   long       0 non-null      object\n",
      " 8   g          26765 non-null  object\n",
      "dtypes: object(9)\n",
      "memory usage: 1.8+ MB\n"
     ]
    }
   ],
   "source": [
    "kc.info()"
   ]
  },
  {
   "cell_type": "code",
   "execution_count": 14,
   "id": "410444f7-e8be-41ab-a0fd-6be018f431a7",
   "metadata": {
    "ExecuteTime": {
     "end_time": "2024-05-08T12:15:01.797095Z",
     "start_time": "2024-05-08T12:15:01.790477Z"
    },
    "execution": {
     "iopub.execute_input": "2024-05-08T01:58:01.259521Z",
     "iopub.status.busy": "2024-05-08T01:58:01.259385Z",
     "iopub.status.idle": "2024-05-08T01:58:01.278764Z",
     "shell.execute_reply": "2024-05-08T01:58:01.278469Z",
     "shell.execute_reply.started": "2024-05-08T01:58:01.259509Z"
    }
   },
   "outputs": [
    {
     "data": {
      "text/html": [
       "<div>\n",
       "<style scoped>\n",
       "    .dataframe tbody tr th:only-of-type {\n",
       "        vertical-align: middle;\n",
       "    }\n",
       "\n",
       "    .dataframe tbody tr th {\n",
       "        vertical-align: top;\n",
       "    }\n",
       "\n",
       "    .dataframe thead th {\n",
       "        text-align: right;\n",
       "    }\n",
       "</style>\n",
       "<table border=\"1\" class=\"dataframe\">\n",
       "  <thead>\n",
       "    <tr style=\"text-align: right;\">\n",
       "      <th></th>\n",
       "      <th>id</th>\n",
       "      <th>type</th>\n",
       "      <th>placename</th>\n",
       "      <th>geotype</th>\n",
       "      <th>geompred</th>\n",
       "      <th>geom</th>\n",
       "      <th>lat</th>\n",
       "      <th>long</th>\n",
       "      <th>g</th>\n",
       "    </tr>\n",
       "  </thead>\n",
       "  <tbody>\n",
       "    <tr>\n",
       "      <th>0</th>\n",
       "      <td>https://catalogue.cioos.ca/dataset/1721338f-cc...</td>\n",
       "      <td>https://schema.org/Dataset</td>\n",
       "      <td>NaN</td>\n",
       "      <td>https://schema.org/GeoShape</td>\n",
       "      <td>https://schema.org/box</td>\n",
       "      <td>47.9817231 -70.173161 49.6416261 -67.0137501</td>\n",
       "      <td>NaN</td>\n",
       "      <td>NaN</td>\n",
       "      <td>urn:gleaner.io:iow:cioos:data:94817ccbb6779fc0...</td>\n",
       "    </tr>\n",
       "    <tr>\n",
       "      <th>1</th>\n",
       "      <td>https://catalogue.cioos.ca/dataset/ca-cioos_a0...</td>\n",
       "      <td>https://schema.org/Dataset</td>\n",
       "      <td>NaN</td>\n",
       "      <td>https://schema.org/GeoShape</td>\n",
       "      <td>https://schema.org/box</td>\n",
       "      <td>49.83702595 -125.2942704 50.05976151 -124.9057...</td>\n",
       "      <td>NaN</td>\n",
       "      <td>NaN</td>\n",
       "      <td>urn:gleaner.io:iow:cioos:data:cde9511a0e90134f...</td>\n",
       "    </tr>\n",
       "    <tr>\n",
       "      <th>2</th>\n",
       "      <td>https://catalogue.cioos.ca/dataset/ca-cioos_17...</td>\n",
       "      <td>https://schema.org/Dataset</td>\n",
       "      <td>NaN</td>\n",
       "      <td>https://schema.org/GeoShape</td>\n",
       "      <td>https://schema.org/box</td>\n",
       "      <td>43.38978964 -131.40081275 53.31525434 -121.838...</td>\n",
       "      <td>NaN</td>\n",
       "      <td>NaN</td>\n",
       "      <td>urn:gleaner.io:iow:cioos:data:2125ea8633506a7d...</td>\n",
       "    </tr>\n",
       "    <tr>\n",
       "      <th>3</th>\n",
       "      <td>https://catalogue.cioos.ca/dataset/31f4eeda-d1...</td>\n",
       "      <td>https://schema.org/Dataset</td>\n",
       "      <td>NaN</td>\n",
       "      <td>https://schema.org/GeoShape</td>\n",
       "      <td>https://schema.org/polygon</td>\n",
       "      <td>{'type': 'Polygon', 'coordinates': [[[-68.5583...</td>\n",
       "      <td>NaN</td>\n",
       "      <td>NaN</td>\n",
       "      <td>urn:gleaner.io:iow:cioos:data:9a168311e789181d...</td>\n",
       "    </tr>\n",
       "    <tr>\n",
       "      <th>4</th>\n",
       "      <td>https://catalogue.cioos.ca/dataset/fd3e7a99-af...</td>\n",
       "      <td>https://schema.org/Dataset</td>\n",
       "      <td>NaN</td>\n",
       "      <td>https://schema.org/GeoCoordinates</td>\n",
       "      <td>https://schema.org/latitude</td>\n",
       "      <td>47.31837666666667</td>\n",
       "      <td>NaN</td>\n",
       "      <td>NaN</td>\n",
       "      <td>urn:gleaner.io:iow:cioos:data:388eada7fd7b65d1...</td>\n",
       "    </tr>\n",
       "  </tbody>\n",
       "</table>\n",
       "</div>"
      ],
      "text/plain": [
       "                                                  id  \\\n",
       "0  https://catalogue.cioos.ca/dataset/1721338f-cc...   \n",
       "1  https://catalogue.cioos.ca/dataset/ca-cioos_a0...   \n",
       "2  https://catalogue.cioos.ca/dataset/ca-cioos_17...   \n",
       "3  https://catalogue.cioos.ca/dataset/31f4eeda-d1...   \n",
       "4  https://catalogue.cioos.ca/dataset/fd3e7a99-af...   \n",
       "\n",
       "                         type placename                            geotype  \\\n",
       "0  https://schema.org/Dataset       NaN        https://schema.org/GeoShape   \n",
       "1  https://schema.org/Dataset       NaN        https://schema.org/GeoShape   \n",
       "2  https://schema.org/Dataset       NaN        https://schema.org/GeoShape   \n",
       "3  https://schema.org/Dataset       NaN        https://schema.org/GeoShape   \n",
       "4  https://schema.org/Dataset       NaN  https://schema.org/GeoCoordinates   \n",
       "\n",
       "                      geompred  \\\n",
       "0       https://schema.org/box   \n",
       "1       https://schema.org/box   \n",
       "2       https://schema.org/box   \n",
       "3   https://schema.org/polygon   \n",
       "4  https://schema.org/latitude   \n",
       "\n",
       "                                                geom  lat long  \\\n",
       "0       47.9817231 -70.173161 49.6416261 -67.0137501  NaN  NaN   \n",
       "1  49.83702595 -125.2942704 50.05976151 -124.9057...  NaN  NaN   \n",
       "2  43.38978964 -131.40081275 53.31525434 -121.838...  NaN  NaN   \n",
       "3  {'type': 'Polygon', 'coordinates': [[[-68.5583...  NaN  NaN   \n",
       "4                                  47.31837666666667  NaN  NaN   \n",
       "\n",
       "                                                   g  \n",
       "0  urn:gleaner.io:iow:cioos:data:94817ccbb6779fc0...  \n",
       "1  urn:gleaner.io:iow:cioos:data:cde9511a0e90134f...  \n",
       "2  urn:gleaner.io:iow:cioos:data:2125ea8633506a7d...  \n",
       "3  urn:gleaner.io:iow:cioos:data:9a168311e789181d...  \n",
       "4  urn:gleaner.io:iow:cioos:data:388eada7fd7b65d1...  "
      ]
     },
     "execution_count": 14,
     "metadata": {},
     "output_type": "execute_result"
    }
   ],
   "source": [
    "# kc = kc[kc['keywords'].notna()]\n",
    "kc.head()"
   ]
  },
  {
   "cell_type": "code",
   "execution_count": 14,
   "id": "d5d3d161-148e-46b4-a063-26b3561b1503",
   "metadata": {
    "ExecuteTime": {
     "end_time": "2024-05-08T12:15:02.656686Z",
     "start_time": "2024-05-08T12:15:02.654973Z"
    }
   },
   "outputs": [],
   "source": []
  },
  {
   "cell_type": "markdown",
   "id": "bb171592e801e8f4",
   "metadata": {},
   "source": [
    "## Schema testing"
   ]
  },
  {
   "cell_type": "code",
   "execution_count": 4,
   "id": "6d7ae3ea54b08d2e",
   "metadata": {
    "ExecuteTime": {
     "end_time": "2024-05-08T21:58:41.999475Z",
     "start_time": "2024-05-08T21:58:41.993591Z"
    },
    "execution": {
     "iopub.execute_input": "2024-05-09T23:52:50.756237Z",
     "iopub.status.busy": "2024-05-09T23:52:50.756023Z",
     "iopub.status.idle": "2024-05-09T23:52:50.762064Z",
     "shell.execute_reply": "2024-05-09T23:52:50.761670Z",
     "shell.execute_reply.started": "2024-05-09T23:52:50.756222Z"
    }
   },
   "outputs": [],
   "source": [
    "con4 = duckdb.connect()"
   ]
  },
  {
   "cell_type": "code",
   "execution_count": 5,
   "id": "bcd6ad0b-947f-44be-9c1c-e39950af75af",
   "metadata": {
    "ExecuteTime": {
     "end_time": "2024-05-08T21:58:42.403749Z",
     "start_time": "2024-05-08T21:58:42.399796Z"
    },
    "execution": {
     "iopub.execute_input": "2024-05-09T23:52:52.435422Z",
     "iopub.status.busy": "2024-05-09T23:52:52.435255Z",
     "iopub.status.idle": "2024-05-09T23:52:52.441356Z",
     "shell.execute_reply": "2024-05-09T23:52:52.440916Z",
     "shell.execute_reply.started": "2024-05-09T23:52:52.435408Z"
    }
   },
   "outputs": [
    {
     "data": {
      "text/plain": [
       "<duckdb.duckdb.DuckDBPyConnection at 0x7f06840610b0>"
      ]
     },
     "execution_count": 5,
     "metadata": {},
     "output_type": "execute_result"
    }
   ],
   "source": [
    "con4.execute(\"CREATE SCHEMA base\")\n",
    "con4.execute(\"CREATE SCHEMA course\")\n",
    "con4.execute(\"CREATE SCHEMA dataset\")\n",
    "con4.execute(\"CREATE SCHEMA person\")\n",
    "con4.execute(\"CREATE SCHEMA sup_geo\")\n",
    "con4.execute(\"CREATE SCHEMA sup_time\")"
   ]
  },
  {
   "cell_type": "code",
   "execution_count": 6,
   "id": "7e195ef44ed05",
   "metadata": {
    "ExecuteTime": {
     "end_time": "2024-05-08T21:58:43.058310Z",
     "start_time": "2024-05-08T21:58:43.056057Z"
    },
    "execution": {
     "iopub.execute_input": "2024-05-09T23:52:53.334510Z",
     "iopub.status.busy": "2024-05-09T23:52:53.334341Z",
     "iopub.status.idle": "2024-05-09T23:52:53.336966Z",
     "shell.execute_reply": "2024-05-09T23:52:53.336577Z",
     "shell.execute_reply.started": "2024-05-09T23:52:53.334496Z"
    }
   },
   "outputs": [],
   "source": [
    "base_objs = \"/home/fils/src/Projects/OIH/odis-arch/graphOps/extraction/mdp/output/*_baseQuery.parquet\"\n",
    "course_objs = \"/home/fils/src/Projects/OIH/odis-arch/graphOps/extraction/mdp/output/*_course.parquet\"\n",
    "dataset_objs = \"/home/fils/src/Projects/OIH/odis-arch/graphOps/extraction/mdp/output/*_dataset.parquet\"\n",
    "person_objs = \"/home/fils/src/Projects/OIH/odis-arch/graphOps/extraction/mdp/output/*_person.parquet\"\n",
    "sg_objs = \"/home/fils/src/Projects/OIH/odis-arch/graphOps/extraction/mdp/output/*_sup_geo.parquet\"\n",
    "st_objs = \"/home/fils/src/Projects/OIH/odis-arch/graphOps/extraction/mdp/output/*_sup_temporal.parquet\""
   ]
  },
  {
   "cell_type": "code",
   "execution_count": 7,
   "id": "51ccfb5e8a33986d",
   "metadata": {
    "ExecuteTime": {
     "end_time": "2024-05-08T21:58:43.515311Z",
     "start_time": "2024-05-08T21:58:43.512343Z"
    },
    "execution": {
     "iopub.execute_input": "2024-05-09T23:52:54.273485Z",
     "iopub.status.busy": "2024-05-09T23:52:54.273320Z",
     "iopub.status.idle": "2024-05-09T23:52:54.276946Z",
     "shell.execute_reply": "2024-05-09T23:52:54.276564Z",
     "shell.execute_reply.started": "2024-05-09T23:52:54.273472Z"
    }
   },
   "outputs": [
    {
     "data": {
      "text/plain": [
       "<duckdb.duckdb.DuckDBPyConnection at 0x7f06840610b0>"
      ]
     },
     "execution_count": 7,
     "metadata": {},
     "output_type": "execute_result"
    }
   ],
   "source": [
    "con4.execute(\"CREATE TABLE dataset.data (id VARCHAR, type VARCHAR, sameAs VARCHAR, license VARCHAR, citation VARCHAR, keyword VARCHAR, includedInDataCatalog VARCHAR, distribution VARCHAR, region VARCHAR, provider VARCHAR, publisher VARCHAR, creator VARCHAR )\")"
   ]
  },
  {
   "cell_type": "code",
   "execution_count": 8,
   "id": "e041abd5df290d31",
   "metadata": {
    "ExecuteTime": {
     "end_time": "2024-05-08T21:58:45.946299Z",
     "start_time": "2024-05-08T21:58:44.176386Z"
    },
    "execution": {
     "iopub.execute_input": "2024-05-09T23:53:00.781046Z",
     "iopub.status.busy": "2024-05-09T23:53:00.780877Z",
     "iopub.status.idle": "2024-05-09T23:53:02.436816Z",
     "shell.execute_reply": "2024-05-09T23:53:02.436405Z",
     "shell.execute_reply.started": "2024-05-09T23:53:00.781032Z"
    }
   },
   "outputs": [
    {
     "data": {
      "text/plain": [
       "<duckdb.duckdb.DuckDBPyConnection at 0x7f06840610b0>"
      ]
     },
     "execution_count": 8,
     "metadata": {},
     "output_type": "execute_result"
    }
   ],
   "source": [
    "con4.execute(\"COPY dataset.data FROM '{}'\".format(dataset_objs)) "
   ]
  },
  {
   "cell_type": "code",
   "execution_count": 9,
   "id": "47ca468821e46a14",
   "metadata": {
    "ExecuteTime": {
     "end_time": "2024-05-08T21:58:45.949792Z",
     "start_time": "2024-05-08T21:58:45.947163Z"
    },
    "execution": {
     "iopub.execute_input": "2024-05-09T23:53:02.437755Z",
     "iopub.status.busy": "2024-05-09T23:53:02.437581Z",
     "iopub.status.idle": "2024-05-09T23:53:02.440817Z",
     "shell.execute_reply": "2024-05-09T23:53:02.440437Z",
     "shell.execute_reply.started": "2024-05-09T23:53:02.437742Z"
    }
   },
   "outputs": [
    {
     "data": {
      "text/plain": [
       "<duckdb.duckdb.DuckDBPyConnection at 0x7f06840610b0>"
      ]
     },
     "execution_count": 9,
     "metadata": {},
     "output_type": "execute_result"
    }
   ],
   "source": [
    "con4.execute(\"CREATE TABLE base.data (id VARCHAR, type VARCHAR, name VARCHAR, url VARCHAR, description VARCHAR, headline VARCHAR, g VARCHAR )\")"
   ]
  },
  {
   "cell_type": "code",
   "execution_count": 10,
   "id": "139f0ddc6e5732",
   "metadata": {
    "ExecuteTime": {
     "end_time": "2024-05-08T21:58:46.893627Z",
     "start_time": "2024-05-08T21:58:45.950456Z"
    },
    "execution": {
     "iopub.execute_input": "2024-05-09T23:53:02.441381Z",
     "iopub.status.busy": "2024-05-09T23:53:02.441260Z",
     "iopub.status.idle": "2024-05-09T23:53:03.356444Z",
     "shell.execute_reply": "2024-05-09T23:53:03.356040Z",
     "shell.execute_reply.started": "2024-05-09T23:53:02.441369Z"
    }
   },
   "outputs": [
    {
     "data": {
      "text/plain": [
       "<duckdb.duckdb.DuckDBPyConnection at 0x7f06840610b0>"
      ]
     },
     "execution_count": 10,
     "metadata": {},
     "output_type": "execute_result"
    }
   ],
   "source": [
    "con4.execute(\"COPY base.data FROM '{}'\".format(base_objs)) "
   ]
  },
  {
   "cell_type": "code",
   "execution_count": 11,
   "id": "cf6e27b5b31f516a",
   "metadata": {
    "ExecuteTime": {
     "end_time": "2024-05-08T21:58:47.687767Z",
     "start_time": "2024-05-08T21:58:47.544849Z"
    },
    "execution": {
     "iopub.execute_input": "2024-05-09T23:53:03.921173Z",
     "iopub.status.busy": "2024-05-09T23:53:03.920974Z",
     "iopub.status.idle": "2024-05-09T23:53:04.048562Z",
     "shell.execute_reply": "2024-05-09T23:53:04.048159Z",
     "shell.execute_reply.started": "2024-05-09T23:53:03.921160Z"
    }
   },
   "outputs": [
    {
     "data": {
      "text/plain": [
       "<duckdb.duckdb.DuckDBPyConnection at 0x7f06840610b0>"
      ]
     },
     "execution_count": 11,
     "metadata": {},
     "output_type": "execute_result"
    }
   ],
   "source": [
    "# con4.execute(\"CREATE TABLE base.data AS SELECT * FROM read_parquet('{}',  union_by_name=True)\".format(base_objs)) \n",
    "con4.execute(\"CREATE TABLE course.data AS SELECT * FROM read_parquet('{}',  union_by_name=true)\".format(course_objs)) \n",
    "# con4.execute(\"CREATE TABLE dataset.data AS SELECT * FROM read_parquet('{}',  union_by_name=true)\".format(dataset_objs)) \n",
    "con4.execute(\"CREATE TABLE person.data AS SELECT * FROM read_parquet('{}',  union_by_name=true)\".format(person_objs)) \n",
    "con4.execute(\"CREATE TABLE sup_geo.data AS SELECT * FROM read_parquet('{}',  union_by_name=true)\".format(sg_objs)) \n",
    "con4.execute(\"CREATE TABLE sup_time.data AS SELECT * FROM read_parquet('{}',  union_by_name=true)\".format(st_objs)) "
   ]
  },
  {
   "cell_type": "code",
   "execution_count": 12,
   "id": "973f97e01b7f4f2",
   "metadata": {
    "ExecuteTime": {
     "end_time": "2024-05-08T21:59:06.912765Z",
     "start_time": "2024-05-08T21:59:04.880650Z"
    },
    "execution": {
     "iopub.execute_input": "2024-05-09T23:53:04.919802Z",
     "iopub.status.busy": "2024-05-09T23:53:04.919610Z",
     "iopub.status.idle": "2024-05-09T23:53:06.649815Z",
     "shell.execute_reply": "2024-05-09T23:53:06.649321Z",
     "shell.execute_reply.started": "2024-05-09T23:53:04.919789Z"
    }
   },
   "outputs": [
    {
     "name": "stdout",
     "output_type": "stream",
     "text": [
      "<class 'pandas.core.frame.DataFrame'>\n",
      "RangeIndex: 1771462 entries, 0 to 1771461\n",
      "Data columns (total 12 columns):\n",
      " #   Column                 Dtype \n",
      "---  ------                 ----- \n",
      " 0   id                     object\n",
      " 1   type                   object\n",
      " 2   sameAs                 object\n",
      " 3   license                object\n",
      " 4   citation               object\n",
      " 5   keyword                object\n",
      " 6   includedInDataCatalog  object\n",
      " 7   distribution           object\n",
      " 8   region                 object\n",
      " 9   provider               object\n",
      " 10  publisher              object\n",
      " 11  creator                object\n",
      "dtypes: object(12)\n",
      "memory usage: 162.2+ MB\n"
     ]
    }
   ],
   "source": [
    "kc = con4.execute(\"SELECT * FROM dataset.data\" ).fetchdf()\n",
    "kc.info()"
   ]
  },
  {
   "cell_type": "code",
   "execution_count": 13,
   "id": "150ed1a2ace6669e",
   "metadata": {
    "ExecuteTime": {
     "end_time": "2024-05-08T21:59:18.650259Z",
     "start_time": "2024-05-08T21:59:18.642924Z"
    },
    "execution": {
     "iopub.execute_input": "2024-05-09T23:53:06.650693Z",
     "iopub.status.busy": "2024-05-09T23:53:06.650568Z",
     "iopub.status.idle": "2024-05-09T23:53:06.659502Z",
     "shell.execute_reply": "2024-05-09T23:53:06.659167Z",
     "shell.execute_reply.started": "2024-05-09T23:53:06.650681Z"
    }
   },
   "outputs": [
    {
     "data": {
      "text/html": [
       "<div>\n",
       "<style scoped>\n",
       "    .dataframe tbody tr th:only-of-type {\n",
       "        vertical-align: middle;\n",
       "    }\n",
       "\n",
       "    .dataframe tbody tr th {\n",
       "        vertical-align: top;\n",
       "    }\n",
       "\n",
       "    .dataframe thead th {\n",
       "        text-align: right;\n",
       "    }\n",
       "</style>\n",
       "<table border=\"1\" class=\"dataframe\">\n",
       "  <thead>\n",
       "    <tr style=\"text-align: right;\">\n",
       "      <th></th>\n",
       "      <th>id</th>\n",
       "      <th>type</th>\n",
       "      <th>sameAs</th>\n",
       "      <th>license</th>\n",
       "      <th>citation</th>\n",
       "      <th>keyword</th>\n",
       "      <th>includedInDataCatalog</th>\n",
       "      <th>distribution</th>\n",
       "      <th>region</th>\n",
       "      <th>provider</th>\n",
       "      <th>publisher</th>\n",
       "      <th>creator</th>\n",
       "    </tr>\n",
       "  </thead>\n",
       "  <tbody>\n",
       "    <tr>\n",
       "      <th>0</th>\n",
       "      <td>https://catalogue.cioos.ca/dataset/37a33ad6-82...</td>\n",
       "      <td>https://schema.org/Dataset</td>\n",
       "      <td>None</td>\n",
       "      <td>None</td>\n",
       "      <td>None</td>\n",
       "      <td>Oceans</td>\n",
       "      <td>http://ckan.onc.uvic.ca</td>\n",
       "      <td>https://catalogue.cioos.ca/dataset/37a33ad6-82...</td>\n",
       "      <td>None</td>\n",
       "      <td>https://cioospacific.ca</td>\n",
       "      <td>https://catalogue.cioos.ca/organization/f6f187...</td>\n",
       "      <td>https://gleaner.io/xid/genid/cog3q93k59mc739rh7ng</td>\n",
       "    </tr>\n",
       "    <tr>\n",
       "      <th>1</th>\n",
       "      <td>https://catalogue.cioos.ca/dataset/37a33ad6-82...</td>\n",
       "      <td>https://schema.org/Dataset</td>\n",
       "      <td>None</td>\n",
       "      <td>None</td>\n",
       "      <td>None</td>\n",
       "      <td>Oceans</td>\n",
       "      <td>http://ckan.onc.uvic.ca</td>\n",
       "      <td>https://catalogue.cioos.ca/dataset/37a33ad6-82...</td>\n",
       "      <td>None</td>\n",
       "      <td>https://cioospacific.ca</td>\n",
       "      <td>https://catalogue.cioos.ca/organization/f6f187...</td>\n",
       "      <td>https://gleaner.io/xid/genid/cog3q93k59mc739rh7ng</td>\n",
       "    </tr>\n",
       "    <tr>\n",
       "      <th>2</th>\n",
       "      <td>https://catalogue.cioos.ca/dataset/37a33ad6-82...</td>\n",
       "      <td>https://schema.org/Dataset</td>\n",
       "      <td>None</td>\n",
       "      <td>None</td>\n",
       "      <td>None</td>\n",
       "      <td>Oceans</td>\n",
       "      <td>https://catalogue.cioos.ca</td>\n",
       "      <td>https://catalogue.cioos.ca/dataset/37a33ad6-82...</td>\n",
       "      <td>None</td>\n",
       "      <td>https://cioospacific.ca</td>\n",
       "      <td>https://catalogue.cioos.ca/organization/f6f187...</td>\n",
       "      <td>https://gleaner.io/xid/genid/cog3q93k59mc739rh7ng</td>\n",
       "    </tr>\n",
       "    <tr>\n",
       "      <th>3</th>\n",
       "      <td>https://catalogue.cioos.ca/dataset/37a33ad6-82...</td>\n",
       "      <td>https://schema.org/Dataset</td>\n",
       "      <td>None</td>\n",
       "      <td>None</td>\n",
       "      <td>None</td>\n",
       "      <td>Oceans</td>\n",
       "      <td>https://catalogue.cioos.ca</td>\n",
       "      <td>https://catalogue.cioos.ca/dataset/37a33ad6-82...</td>\n",
       "      <td>None</td>\n",
       "      <td>https://cioospacific.ca</td>\n",
       "      <td>https://catalogue.cioos.ca/organization/f6f187...</td>\n",
       "      <td>https://gleaner.io/xid/genid/cog3q93k59mc739rh7ng</td>\n",
       "    </tr>\n",
       "    <tr>\n",
       "      <th>4</th>\n",
       "      <td>https://catalogue.cioos.ca/dataset/37a33ad6-82...</td>\n",
       "      <td>https://schema.org/Dataset</td>\n",
       "      <td>None</td>\n",
       "      <td>None</td>\n",
       "      <td>None</td>\n",
       "      <td>Oceans</td>\n",
       "      <td>https://catalogue.cioospacific.ca</td>\n",
       "      <td>https://catalogue.cioos.ca/dataset/37a33ad6-82...</td>\n",
       "      <td>None</td>\n",
       "      <td>https://cioospacific.ca</td>\n",
       "      <td>https://catalogue.cioos.ca/organization/f6f187...</td>\n",
       "      <td>https://gleaner.io/xid/genid/cog3q93k59mc739rh7ng</td>\n",
       "    </tr>\n",
       "  </tbody>\n",
       "</table>\n",
       "</div>"
      ],
      "text/plain": [
       "                                                  id  \\\n",
       "0  https://catalogue.cioos.ca/dataset/37a33ad6-82...   \n",
       "1  https://catalogue.cioos.ca/dataset/37a33ad6-82...   \n",
       "2  https://catalogue.cioos.ca/dataset/37a33ad6-82...   \n",
       "3  https://catalogue.cioos.ca/dataset/37a33ad6-82...   \n",
       "4  https://catalogue.cioos.ca/dataset/37a33ad6-82...   \n",
       "\n",
       "                         type sameAs license citation keyword  \\\n",
       "0  https://schema.org/Dataset   None    None     None  Oceans   \n",
       "1  https://schema.org/Dataset   None    None     None  Oceans   \n",
       "2  https://schema.org/Dataset   None    None     None  Oceans   \n",
       "3  https://schema.org/Dataset   None    None     None  Oceans   \n",
       "4  https://schema.org/Dataset   None    None     None  Oceans   \n",
       "\n",
       "               includedInDataCatalog  \\\n",
       "0            http://ckan.onc.uvic.ca   \n",
       "1            http://ckan.onc.uvic.ca   \n",
       "2         https://catalogue.cioos.ca   \n",
       "3         https://catalogue.cioos.ca   \n",
       "4  https://catalogue.cioospacific.ca   \n",
       "\n",
       "                                        distribution region  \\\n",
       "0  https://catalogue.cioos.ca/dataset/37a33ad6-82...   None   \n",
       "1  https://catalogue.cioos.ca/dataset/37a33ad6-82...   None   \n",
       "2  https://catalogue.cioos.ca/dataset/37a33ad6-82...   None   \n",
       "3  https://catalogue.cioos.ca/dataset/37a33ad6-82...   None   \n",
       "4  https://catalogue.cioos.ca/dataset/37a33ad6-82...   None   \n",
       "\n",
       "                  provider                                          publisher  \\\n",
       "0  https://cioospacific.ca  https://catalogue.cioos.ca/organization/f6f187...   \n",
       "1  https://cioospacific.ca  https://catalogue.cioos.ca/organization/f6f187...   \n",
       "2  https://cioospacific.ca  https://catalogue.cioos.ca/organization/f6f187...   \n",
       "3  https://cioospacific.ca  https://catalogue.cioos.ca/organization/f6f187...   \n",
       "4  https://cioospacific.ca  https://catalogue.cioos.ca/organization/f6f187...   \n",
       "\n",
       "                                             creator  \n",
       "0  https://gleaner.io/xid/genid/cog3q93k59mc739rh7ng  \n",
       "1  https://gleaner.io/xid/genid/cog3q93k59mc739rh7ng  \n",
       "2  https://gleaner.io/xid/genid/cog3q93k59mc739rh7ng  \n",
       "3  https://gleaner.io/xid/genid/cog3q93k59mc739rh7ng  \n",
       "4  https://gleaner.io/xid/genid/cog3q93k59mc739rh7ng  "
      ]
     },
     "execution_count": 13,
     "metadata": {},
     "output_type": "execute_result"
    }
   ],
   "source": [
    "kc.head()"
   ]
  },
  {
   "cell_type": "code",
   "execution_count": null,
   "id": "9b9dda6d-01cd-4a13-834c-299d88fc2759",
   "metadata": {},
   "outputs": [],
   "source": []
  },
  {
   "metadata": {},
   "cell_type": "markdown",
   "source": "# The following was imported from another notebook, so it might have some run issues.\n",
   "id": "e322db0ea8e17049"
  },
  {
   "metadata": {},
   "cell_type": "code",
   "outputs": [],
   "execution_count": null,
   "source": "",
   "id": "a0d77634bd83922e"
  },
  {
   "metadata": {},
   "cell_type": "code",
   "outputs": [],
   "execution_count": null,
   "source": [
    "# OIH Dashboard pre-processor query\n",
    "\n",
    "This notebook demonstrates query approach for the pre-processed resources from the OIH Graph\n"
   ],
   "id": "177e90dddca474cd"
  },
  {
   "metadata": {},
   "cell_type": "code",
   "outputs": [],
   "execution_count": null,
   "source": "import duckdb",
   "id": "52846ddd5fc61a4a"
  },
  {
   "metadata": {},
   "cell_type": "markdown",
   "source": "## Pre-processed OIH Graph",
   "id": "f3b4e5b18e4151c"
  },
  {
   "metadata": {},
   "cell_type": "code",
   "outputs": [],
   "execution_count": null,
   "source": [
    "## load the combined graph\n",
    "url = \"http://ossapi.oceaninfohub.org/public/combined.parquet\"\n",
    "duckdb.install_extension(\"httpfs\")\n",
    "\n",
    "# Instantiate the DuckDB connection\n",
    "con = duckdb.connect()\n",
    "# con.execute(\"CREATE TABLE my_table AS SELECT * FROM read_parquet('{}')\".format(url))  # load from url\n",
    "con.execute(\"CREATE TABLE my_table AS SELECT * FROM read_parquet('../../secret/combined.parquet')\") # load from local parquet\n"
   ],
   "id": "9cccd031a764d033"
  },
  {
   "metadata": {},
   "cell_type": "code",
   "outputs": [],
   "execution_count": null,
   "source": [
    "\n",
    "# Now you can execute SQL queries on the Parquet file as if it was a regular table\n",
    "# r = con.execute(\"SELECT DISTINCT provder FROM my_table\").fetchdf()\n",
    "# r = con.execute(\" SELECT DISTINCT provder, type, ANY_VALUE(s),  COUNT(*) AS count FROM my_table GROUP BY provder, type  order by count desc\").fetchdf()\n",
    "r = con.execute(\" SELECT DISTINCT provder, type, COUNT(*) AS count FROM my_table GROUP BY provder, type\").fetchdf()\n",
    "\n",
    "print(r)\n"
   ],
   "id": "c6bfec2ff5c11f4d"
  },
  {
   "metadata": {},
   "cell_type": "code",
   "outputs": [],
   "execution_count": null,
   "source": [
    "r = con.execute(\" SELECT keywords, COUNT(*) AS count FROM my_table WHERE keywords <> 'NaN' GROUP BY keywords order by count desc\").fetchdf()\n",
    "print(r)\n"
   ],
   "id": "1ac349a38931052f"
  },
  {
   "metadata": {},
   "cell_type": "code",
   "outputs": [],
   "execution_count": null,
   "source": [
    "r = con.execute(\" SELECT SUM(count) AS total_count FROM ( SELECT DISTINCT keywords, COUNT(*) AS count FROM my_table WHERE keywords <> 'NaN' GROUP BY keywords order by count desc) AS counts\").fetchdf()\n",
    "print(r)"
   ],
   "id": "a564b6858d22a8b0"
  },
  {
   "metadata": {},
   "cell_type": "code",
   "outputs": [],
   "execution_count": null,
   "source": [
    "r = con.execute(\" SELECT type, COUNT(*) AS count FROM my_table GROUP BY type order by count desc\").fetchdf()\n",
    "print(r)"
   ],
   "id": "cc18a527bb3db461"
  },
  {
   "metadata": {},
   "cell_type": "markdown",
   "source": "## graph parquet\n",
   "id": "2db71bd28704e371"
  },
  {
   "metadata": {},
   "cell_type": "code",
   "outputs": [],
   "execution_count": null,
   "source": [
    "url = \"http://ossapi.oceaninfohub.org/public/oihgraph_rdf.parquet\"\n",
    "duckdb.install_extension(\"httpfs\")\n",
    "\n",
    "# Instantiate the DuckDB connection\n",
    "con2 = duckdb.connect()\n",
    "# con.execute(\"CREATE TABLE my_table AS SELECT * FROM read_parquet('{}')\".format(url))  # load from url\n",
    "con2.execute(\"CREATE TABLE my_table AS SELECT * FROM read_parquet('../../secret/oihgraph_rdf.parquet')\") # load from local parquet\n",
    "\n"
   ],
   "id": "bcb2d6c44296c6bc"
  },
  {
   "metadata": {},
   "cell_type": "code",
   "outputs": [],
   "execution_count": null,
   "source": [
    "\n",
    "r = con2.execute(\" SELECT DISTINCT predicate,  COUNT(*) AS count FROM my_table GROUP BY predicate order by count desc\").fetchdf()\n",
    "print(r)"
   ],
   "id": "f0736c719b186515"
  },
  {
   "metadata": {},
   "cell_type": "code",
   "outputs": [],
   "execution_count": null,
   "source": "",
   "id": "9e92ecb661be2b1c"
  },
  {
   "metadata": {},
   "cell_type": "code",
   "outputs": [],
   "execution_count": null,
   "source": "",
   "id": "d7bd213cbf113d20"
  }
 ],
 "metadata": {
  "kernelspec": {
   "display_name": "Python 3 (ipykernel)",
   "language": "python",
   "name": "python3"
  },
  "language_info": {
   "codemirror_mode": {
    "name": "ipython",
    "version": 3
   },
   "file_extension": ".py",
   "mimetype": "text/x-python",
   "name": "python",
   "nbconvert_exporter": "python",
   "pygments_lexer": "ipython3",
   "version": "3.10.12"
  }
 },
 "nbformat": 4,
 "nbformat_minor": 5
}
