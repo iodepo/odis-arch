{
 "cells": [
  {
   "metadata": {},
   "cell_type": "markdown",
   "source": "# SPARQL Client",
   "id": "17e7ace8f8ac0978"
  },
  {
   "metadata": {
    "ExecuteTime": {
     "end_time": "2024-05-07T18:54:51.494753Z",
     "start_time": "2024-05-07T18:54:51.490945Z"
    }
   },
   "cell_type": "code",
   "source": [
    "from SPARQLWrapper import SPARQLWrapper, JSON\n",
    "import pandas as pd\n",
    "import dask, boto3\n",
    "import dask.dataframe as dd\n",
    "import numpy as np\n",
    "import json\n",
    "import geopandas\n",
    "import matplotlib.pyplot as plt\n",
    "import shapely\n",
    "import sparqldataframe"
   ],
   "id": "6e4f475504aed0c8",
   "outputs": [],
   "execution_count": 20
  },
  {
   "metadata": {
    "ExecuteTime": {
     "end_time": "2024-05-07T18:43:56.942834Z",
     "start_time": "2024-05-07T18:43:56.940757Z"
    }
   },
   "cell_type": "code",
   "source": [
    "local = \"http://localhost:7878/query\"\n",
    "oih = \"http://graph.oceaninfohub.org/blazegraph/namespace/ocd/sparql\""
   ],
   "id": "bcfaf8c84c90fbc1",
   "outputs": [],
   "execution_count": 7
  },
  {
   "cell_type": "code",
   "id": "initial_id",
   "metadata": {
    "collapsed": true,
    "ExecuteTime": {
     "end_time": "2024-05-07T18:43:57.447617Z",
     "start_time": "2024-05-07T18:43:57.444473Z"
    }
   },
   "source": [
    "#@title\n",
    "def get_sparql_dataframe(service, query):\n",
    "    \"\"\"\n",
    "    Helper function to convert SPARQL results into a Pandas data frame.\n",
    "    \"\"\"\n",
    "    sparql = SPARQLWrapper(service)\n",
    "    sparql.setQuery(query)\n",
    "    sparql.setReturnFormat(JSON)\n",
    "    result = sparql.query()\n",
    "\n",
    "    processed_results = json.load(result.response)\n",
    "    cols = processed_results['head']['vars']\n",
    "\n",
    "    out = []\n",
    "    for row in processed_results['results']['bindings']:\n",
    "        item = []\n",
    "        for c in cols:\n",
    "            item.append(row.get(c, {}).get('value'))\n",
    "        out.append(item)\n",
    "\n",
    "    return pd.DataFrame(out, columns=cols)"
   ],
   "outputs": [],
   "execution_count": 8
  },
  {
   "metadata": {
    "ExecuteTime": {
     "end_time": "2024-05-07T18:53:07.687964Z",
     "start_time": "2024-05-07T18:51:34.950810Z"
    }
   },
   "cell_type": "code",
   "source": [
    "rp1 = \"\"\"\n",
    "PREFIX rdf: <http://www.w3.org/1999/02/22-rdf-syntax-ns#>\n",
    "PREFIX rdfs: <http://www.w3.org/2000/01/rdf-schema#>\n",
    "PREFIX xsd: <http://www.w3.org/2001/XMLSchema#>\n",
    "prefix prov: <http://www.w3.org/ns/prov#>\n",
    "PREFIX schema: <https://schema.org/>\n",
    "\n",
    "\n",
    "SELECT DISTINCT (?s as ?id)  ?type ?name ?url ?description ?headline ?g\n",
    "WHERE {\n",
    "      graph ?g {\n",
    "\n",
    "         ?s rdf:type ?type .\n",
    "        OPTIONAL { ?s schema:name ?name . }\n",
    "        OPTIONAL { ?s schema:description ?description . }\n",
    "        OPTIONAL { ?s schema:url ?url . }\n",
    "        OPTIONAL { ?s schema:headline ?headline . }\n",
    "     }\n",
    " }\n",
    "\"\"\"\n",
    "\n",
    "\n",
    "\n",
    "# dftype['count'] = dftype['count'].astype(int)"
   ],
   "id": "3cfd73230026872",
   "outputs": [
    {
     "ename": "JSONDecodeError",
     "evalue": "Invalid \\uXXXX escape: line 1 column 42392830 (char 42392829)",
     "output_type": "error",
     "traceback": [
      "\u001B[0;31m---------------------------------------------------------------------------\u001B[0m",
      "\u001B[0;31mJSONDecodeError\u001B[0m                           Traceback (most recent call last)",
      "\u001B[0;32m/tmp/ipykernel_3220414/331821288.py\u001B[0m in \u001B[0;36m<module>\u001B[0;34m\u001B[0m\n\u001B[1;32m     20\u001B[0m \"\"\"\n\u001B[1;32m     21\u001B[0m \u001B[0;34m\u001B[0m\u001B[0m\n\u001B[0;32m---> 22\u001B[0;31m \u001B[0mdfrp1\u001B[0m \u001B[0;34m=\u001B[0m \u001B[0mget_sparql_dataframe\u001B[0m\u001B[0;34m(\u001B[0m\u001B[0mlocal\u001B[0m\u001B[0;34m,\u001B[0m \u001B[0mrp1\u001B[0m\u001B[0;34m)\u001B[0m\u001B[0;34m\u001B[0m\u001B[0;34m\u001B[0m\u001B[0m\n\u001B[0m\u001B[1;32m     23\u001B[0m \u001B[0;34m\u001B[0m\u001B[0m\n\u001B[1;32m     24\u001B[0m \u001B[0;34m\u001B[0m\u001B[0m\n",
      "\u001B[0;32m/tmp/ipykernel_3220414/1278955090.py\u001B[0m in \u001B[0;36mget_sparql_dataframe\u001B[0;34m(service, query)\u001B[0m\n\u001B[1;32m      9\u001B[0m     \u001B[0mresult\u001B[0m \u001B[0;34m=\u001B[0m \u001B[0msparql\u001B[0m\u001B[0;34m.\u001B[0m\u001B[0mquery\u001B[0m\u001B[0;34m(\u001B[0m\u001B[0;34m)\u001B[0m\u001B[0;34m\u001B[0m\u001B[0;34m\u001B[0m\u001B[0m\n\u001B[1;32m     10\u001B[0m \u001B[0;34m\u001B[0m\u001B[0m\n\u001B[0;32m---> 11\u001B[0;31m     \u001B[0mprocessed_results\u001B[0m \u001B[0;34m=\u001B[0m \u001B[0mjson\u001B[0m\u001B[0;34m.\u001B[0m\u001B[0mload\u001B[0m\u001B[0;34m(\u001B[0m\u001B[0mresult\u001B[0m\u001B[0;34m.\u001B[0m\u001B[0mresponse\u001B[0m\u001B[0;34m)\u001B[0m\u001B[0;34m\u001B[0m\u001B[0;34m\u001B[0m\u001B[0m\n\u001B[0m\u001B[1;32m     12\u001B[0m     \u001B[0mcols\u001B[0m \u001B[0;34m=\u001B[0m \u001B[0mprocessed_results\u001B[0m\u001B[0;34m[\u001B[0m\u001B[0;34m'head'\u001B[0m\u001B[0;34m]\u001B[0m\u001B[0;34m[\u001B[0m\u001B[0;34m'vars'\u001B[0m\u001B[0;34m]\u001B[0m\u001B[0;34m\u001B[0m\u001B[0;34m\u001B[0m\u001B[0m\n\u001B[1;32m     13\u001B[0m \u001B[0;34m\u001B[0m\u001B[0m\n",
      "\u001B[0;32m~/.conda/envs/dev/lib/python3.10/json/__init__.py\u001B[0m in \u001B[0;36mload\u001B[0;34m(fp, cls, object_hook, parse_float, parse_int, parse_constant, object_pairs_hook, **kw)\u001B[0m\n\u001B[1;32m    291\u001B[0m     \u001B[0mkwarg\u001B[0m\u001B[0;34m;\u001B[0m \u001B[0motherwise\u001B[0m\u001B[0;31m \u001B[0m\u001B[0;31m`\u001B[0m\u001B[0;31m`\u001B[0m\u001B[0mJSONDecoder\u001B[0m\u001B[0;31m`\u001B[0m\u001B[0;31m`\u001B[0m \u001B[0;32mis\u001B[0m \u001B[0mused\u001B[0m\u001B[0;34m.\u001B[0m\u001B[0;34m\u001B[0m\u001B[0;34m\u001B[0m\u001B[0m\n\u001B[1;32m    292\u001B[0m     \"\"\"\n\u001B[0;32m--> 293\u001B[0;31m     return loads(fp.read(),\n\u001B[0m\u001B[1;32m    294\u001B[0m         \u001B[0mcls\u001B[0m\u001B[0;34m=\u001B[0m\u001B[0mcls\u001B[0m\u001B[0;34m,\u001B[0m \u001B[0mobject_hook\u001B[0m\u001B[0;34m=\u001B[0m\u001B[0mobject_hook\u001B[0m\u001B[0;34m,\u001B[0m\u001B[0;34m\u001B[0m\u001B[0;34m\u001B[0m\u001B[0m\n\u001B[1;32m    295\u001B[0m         \u001B[0mparse_float\u001B[0m\u001B[0;34m=\u001B[0m\u001B[0mparse_float\u001B[0m\u001B[0;34m,\u001B[0m \u001B[0mparse_int\u001B[0m\u001B[0;34m=\u001B[0m\u001B[0mparse_int\u001B[0m\u001B[0;34m,\u001B[0m\u001B[0;34m\u001B[0m\u001B[0;34m\u001B[0m\u001B[0m\n",
      "\u001B[0;32m~/.conda/envs/dev/lib/python3.10/json/__init__.py\u001B[0m in \u001B[0;36mloads\u001B[0;34m(s, cls, object_hook, parse_float, parse_int, parse_constant, object_pairs_hook, **kw)\u001B[0m\n\u001B[1;32m    344\u001B[0m             \u001B[0mparse_int\u001B[0m \u001B[0;32mis\u001B[0m \u001B[0;32mNone\u001B[0m \u001B[0;32mand\u001B[0m \u001B[0mparse_float\u001B[0m \u001B[0;32mis\u001B[0m \u001B[0;32mNone\u001B[0m \u001B[0;32mand\u001B[0m\u001B[0;34m\u001B[0m\u001B[0;34m\u001B[0m\u001B[0m\n\u001B[1;32m    345\u001B[0m             parse_constant is None and object_pairs_hook is None and not kw):\n\u001B[0;32m--> 346\u001B[0;31m         \u001B[0;32mreturn\u001B[0m \u001B[0m_default_decoder\u001B[0m\u001B[0;34m.\u001B[0m\u001B[0mdecode\u001B[0m\u001B[0;34m(\u001B[0m\u001B[0ms\u001B[0m\u001B[0;34m)\u001B[0m\u001B[0;34m\u001B[0m\u001B[0;34m\u001B[0m\u001B[0m\n\u001B[0m\u001B[1;32m    347\u001B[0m     \u001B[0;32mif\u001B[0m \u001B[0mcls\u001B[0m \u001B[0;32mis\u001B[0m \u001B[0;32mNone\u001B[0m\u001B[0;34m:\u001B[0m\u001B[0;34m\u001B[0m\u001B[0;34m\u001B[0m\u001B[0m\n\u001B[1;32m    348\u001B[0m         \u001B[0mcls\u001B[0m \u001B[0;34m=\u001B[0m \u001B[0mJSONDecoder\u001B[0m\u001B[0;34m\u001B[0m\u001B[0;34m\u001B[0m\u001B[0m\n",
      "\u001B[0;32m~/.conda/envs/dev/lib/python3.10/json/decoder.py\u001B[0m in \u001B[0;36mdecode\u001B[0;34m(self, s, _w)\u001B[0m\n\u001B[1;32m    335\u001B[0m \u001B[0;34m\u001B[0m\u001B[0m\n\u001B[1;32m    336\u001B[0m         \"\"\"\n\u001B[0;32m--> 337\u001B[0;31m         \u001B[0mobj\u001B[0m\u001B[0;34m,\u001B[0m \u001B[0mend\u001B[0m \u001B[0;34m=\u001B[0m \u001B[0mself\u001B[0m\u001B[0;34m.\u001B[0m\u001B[0mraw_decode\u001B[0m\u001B[0;34m(\u001B[0m\u001B[0ms\u001B[0m\u001B[0;34m,\u001B[0m \u001B[0midx\u001B[0m\u001B[0;34m=\u001B[0m\u001B[0m_w\u001B[0m\u001B[0;34m(\u001B[0m\u001B[0ms\u001B[0m\u001B[0;34m,\u001B[0m \u001B[0;36m0\u001B[0m\u001B[0;34m)\u001B[0m\u001B[0;34m.\u001B[0m\u001B[0mend\u001B[0m\u001B[0;34m(\u001B[0m\u001B[0;34m)\u001B[0m\u001B[0;34m)\u001B[0m\u001B[0;34m\u001B[0m\u001B[0;34m\u001B[0m\u001B[0m\n\u001B[0m\u001B[1;32m    338\u001B[0m         \u001B[0mend\u001B[0m \u001B[0;34m=\u001B[0m \u001B[0m_w\u001B[0m\u001B[0;34m(\u001B[0m\u001B[0ms\u001B[0m\u001B[0;34m,\u001B[0m \u001B[0mend\u001B[0m\u001B[0;34m)\u001B[0m\u001B[0;34m.\u001B[0m\u001B[0mend\u001B[0m\u001B[0;34m(\u001B[0m\u001B[0;34m)\u001B[0m\u001B[0;34m\u001B[0m\u001B[0;34m\u001B[0m\u001B[0m\n\u001B[1;32m    339\u001B[0m         \u001B[0;32mif\u001B[0m \u001B[0mend\u001B[0m \u001B[0;34m!=\u001B[0m \u001B[0mlen\u001B[0m\u001B[0;34m(\u001B[0m\u001B[0ms\u001B[0m\u001B[0;34m)\u001B[0m\u001B[0;34m:\u001B[0m\u001B[0;34m\u001B[0m\u001B[0;34m\u001B[0m\u001B[0m\n",
      "\u001B[0;32m~/.conda/envs/dev/lib/python3.10/json/decoder.py\u001B[0m in \u001B[0;36mraw_decode\u001B[0;34m(self, s, idx)\u001B[0m\n\u001B[1;32m    351\u001B[0m         \"\"\"\n\u001B[1;32m    352\u001B[0m         \u001B[0;32mtry\u001B[0m\u001B[0;34m:\u001B[0m\u001B[0;34m\u001B[0m\u001B[0;34m\u001B[0m\u001B[0m\n\u001B[0;32m--> 353\u001B[0;31m             \u001B[0mobj\u001B[0m\u001B[0;34m,\u001B[0m \u001B[0mend\u001B[0m \u001B[0;34m=\u001B[0m \u001B[0mself\u001B[0m\u001B[0;34m.\u001B[0m\u001B[0mscan_once\u001B[0m\u001B[0;34m(\u001B[0m\u001B[0ms\u001B[0m\u001B[0;34m,\u001B[0m \u001B[0midx\u001B[0m\u001B[0;34m)\u001B[0m\u001B[0;34m\u001B[0m\u001B[0;34m\u001B[0m\u001B[0m\n\u001B[0m\u001B[1;32m    354\u001B[0m         \u001B[0;32mexcept\u001B[0m \u001B[0mStopIteration\u001B[0m \u001B[0;32mas\u001B[0m \u001B[0merr\u001B[0m\u001B[0;34m:\u001B[0m\u001B[0;34m\u001B[0m\u001B[0;34m\u001B[0m\u001B[0m\n\u001B[1;32m    355\u001B[0m             \u001B[0;32mraise\u001B[0m \u001B[0mJSONDecodeError\u001B[0m\u001B[0;34m(\u001B[0m\u001B[0;34m\"Expecting value\"\u001B[0m\u001B[0;34m,\u001B[0m \u001B[0ms\u001B[0m\u001B[0;34m,\u001B[0m \u001B[0merr\u001B[0m\u001B[0;34m.\u001B[0m\u001B[0mvalue\u001B[0m\u001B[0;34m)\u001B[0m \u001B[0;32mfrom\u001B[0m \u001B[0;32mNone\u001B[0m\u001B[0;34m\u001B[0m\u001B[0;34m\u001B[0m\u001B[0m\n",
      "\u001B[0;31mJSONDecodeError\u001B[0m: Invalid \\uXXXX escape: line 1 column 42392830 (char 42392829)"
     ]
    }
   ],
   "execution_count": 18
  },
  {
   "metadata": {
    "ExecuteTime": {
     "end_time": "2024-05-07T18:56:10.806453Z",
     "start_time": "2024-05-07T18:56:10.804301Z"
    }
   },
   "cell_type": "code",
   "source": "df = sparqldataframe.query(local, rp1)",
   "id": "e4d1fc5d32e6eb44",
   "outputs": [],
   "execution_count": 21
  },
  {
   "metadata": {
    "ExecuteTime": {
     "end_time": "2024-05-07T18:57:52.277838Z",
     "start_time": "2024-05-07T18:56:11.995937Z"
    }
   },
   "cell_type": "code",
   "source": "print(df.info())",
   "id": "ada8534925657305",
   "outputs": [
    {
     "name": "stderr",
     "output_type": "stream",
     "text": [
      "IOPub data rate exceeded.\n",
      "The notebook server will temporarily stop sending output\n",
      "to the client in order to avoid crashing it.\n",
      "To change this limit, set the config variable\n",
      "`--NotebookApp.iopub_data_rate_limit`.\n",
      "\n",
      "Current values:\n",
      "NotebookApp.iopub_data_rate_limit=1000000.0 (bytes/sec)\n",
      "NotebookApp.rate_limit_window=3.0 (secs)\n",
      "\n"
     ]
    },
    {
     "ename": "Exception",
     "evalue": "Invalid query",
     "output_type": "error",
     "traceback": [
      "\u001B[0;31m---------------------------------------------------------------------------\u001B[0m",
      "\u001B[0;31mJSONDecodeError\u001B[0m                           Traceback (most recent call last)",
      "\u001B[0;32m~/.conda/envs/dev/lib/python3.10/site-packages/requests/models.py\u001B[0m in \u001B[0;36mjson\u001B[0;34m(self, **kwargs)\u001B[0m\n\u001B[1;32m    959\u001B[0m                 \u001B[0;32mtry\u001B[0m\u001B[0;34m:\u001B[0m\u001B[0;34m\u001B[0m\u001B[0;34m\u001B[0m\u001B[0m\n\u001B[0;32m--> 960\u001B[0;31m                     \u001B[0;32mreturn\u001B[0m \u001B[0mcomplexjson\u001B[0m\u001B[0;34m.\u001B[0m\u001B[0mloads\u001B[0m\u001B[0;34m(\u001B[0m\u001B[0mself\u001B[0m\u001B[0;34m.\u001B[0m\u001B[0mcontent\u001B[0m\u001B[0;34m.\u001B[0m\u001B[0mdecode\u001B[0m\u001B[0;34m(\u001B[0m\u001B[0mencoding\u001B[0m\u001B[0;34m)\u001B[0m\u001B[0;34m,\u001B[0m \u001B[0;34m**\u001B[0m\u001B[0mkwargs\u001B[0m\u001B[0;34m)\u001B[0m\u001B[0;34m\u001B[0m\u001B[0;34m\u001B[0m\u001B[0m\n\u001B[0m\u001B[1;32m    961\u001B[0m                 \u001B[0;32mexcept\u001B[0m \u001B[0mUnicodeDecodeError\u001B[0m\u001B[0;34m:\u001B[0m\u001B[0;34m\u001B[0m\u001B[0;34m\u001B[0m\u001B[0m\n",
      "\u001B[0;32m~/.local/lib/python3.10/site-packages/simplejson/__init__.py\u001B[0m in \u001B[0;36mloads\u001B[0;34m(s, encoding, cls, object_hook, parse_float, parse_int, parse_constant, object_pairs_hook, use_decimal, **kw)\u001B[0m\n\u001B[1;32m    524\u001B[0m             and not use_decimal and not kw):\n\u001B[0;32m--> 525\u001B[0;31m         \u001B[0;32mreturn\u001B[0m \u001B[0m_default_decoder\u001B[0m\u001B[0;34m.\u001B[0m\u001B[0mdecode\u001B[0m\u001B[0;34m(\u001B[0m\u001B[0ms\u001B[0m\u001B[0;34m)\u001B[0m\u001B[0;34m\u001B[0m\u001B[0;34m\u001B[0m\u001B[0m\n\u001B[0m\u001B[1;32m    526\u001B[0m     \u001B[0;32mif\u001B[0m \u001B[0mcls\u001B[0m \u001B[0;32mis\u001B[0m \u001B[0;32mNone\u001B[0m\u001B[0;34m:\u001B[0m\u001B[0;34m\u001B[0m\u001B[0;34m\u001B[0m\u001B[0m\n",
      "\u001B[0;32m~/.local/lib/python3.10/site-packages/simplejson/decoder.py\u001B[0m in \u001B[0;36mdecode\u001B[0;34m(self, s, _w, _PY3)\u001B[0m\n\u001B[1;32m    369\u001B[0m             \u001B[0ms\u001B[0m \u001B[0;34m=\u001B[0m \u001B[0mstr\u001B[0m\u001B[0;34m(\u001B[0m\u001B[0ms\u001B[0m\u001B[0;34m,\u001B[0m \u001B[0mself\u001B[0m\u001B[0;34m.\u001B[0m\u001B[0mencoding\u001B[0m\u001B[0;34m)\u001B[0m\u001B[0;34m\u001B[0m\u001B[0;34m\u001B[0m\u001B[0m\n\u001B[0;32m--> 370\u001B[0;31m         \u001B[0mobj\u001B[0m\u001B[0;34m,\u001B[0m \u001B[0mend\u001B[0m \u001B[0;34m=\u001B[0m \u001B[0mself\u001B[0m\u001B[0;34m.\u001B[0m\u001B[0mraw_decode\u001B[0m\u001B[0;34m(\u001B[0m\u001B[0ms\u001B[0m\u001B[0;34m)\u001B[0m\u001B[0;34m\u001B[0m\u001B[0;34m\u001B[0m\u001B[0m\n\u001B[0m\u001B[1;32m    371\u001B[0m         \u001B[0mend\u001B[0m \u001B[0;34m=\u001B[0m \u001B[0m_w\u001B[0m\u001B[0;34m(\u001B[0m\u001B[0ms\u001B[0m\u001B[0;34m,\u001B[0m \u001B[0mend\u001B[0m\u001B[0;34m)\u001B[0m\u001B[0;34m.\u001B[0m\u001B[0mend\u001B[0m\u001B[0;34m(\u001B[0m\u001B[0;34m)\u001B[0m\u001B[0;34m\u001B[0m\u001B[0;34m\u001B[0m\u001B[0m\n",
      "\u001B[0;32m~/.local/lib/python3.10/site-packages/simplejson/decoder.py\u001B[0m in \u001B[0;36mraw_decode\u001B[0;34m(self, s, idx, _w, _PY3)\u001B[0m\n\u001B[1;32m    399\u001B[0m                 \u001B[0midx\u001B[0m \u001B[0;34m+=\u001B[0m \u001B[0;36m3\u001B[0m\u001B[0;34m\u001B[0m\u001B[0;34m\u001B[0m\u001B[0m\n\u001B[0;32m--> 400\u001B[0;31m         \u001B[0;32mreturn\u001B[0m \u001B[0mself\u001B[0m\u001B[0;34m.\u001B[0m\u001B[0mscan_once\u001B[0m\u001B[0;34m(\u001B[0m\u001B[0ms\u001B[0m\u001B[0;34m,\u001B[0m \u001B[0midx\u001B[0m\u001B[0;34m=\u001B[0m\u001B[0m_w\u001B[0m\u001B[0;34m(\u001B[0m\u001B[0ms\u001B[0m\u001B[0;34m,\u001B[0m \u001B[0midx\u001B[0m\u001B[0;34m)\u001B[0m\u001B[0;34m.\u001B[0m\u001B[0mend\u001B[0m\u001B[0;34m(\u001B[0m\u001B[0;34m)\u001B[0m\u001B[0;34m)\u001B[0m\u001B[0;34m\u001B[0m\u001B[0;34m\u001B[0m\u001B[0m\n\u001B[0m",
      "\u001B[0;31mJSONDecodeError\u001B[0m: Invalid \\uXXXX escape sequence: line 1 column 42392830 (char 42392829)",
      "\nDuring handling of the above exception, another exception occurred:\n",
      "\u001B[0;31mJSONDecodeError\u001B[0m                           Traceback (most recent call last)",
      "\u001B[0;32m~/.conda/envs/dev/lib/python3.10/site-packages/sparqldataframe/__init__.py\u001B[0m in \u001B[0;36mquery\u001B[0;34m(url, sparql_query)\u001B[0m\n\u001B[1;32m     49\u001B[0m             })\n\u001B[0;32m---> 50\u001B[0;31m         \u001B[0mdata\u001B[0m \u001B[0;34m=\u001B[0m \u001B[0mr\u001B[0m\u001B[0;34m.\u001B[0m\u001B[0mjson\u001B[0m\u001B[0;34m(\u001B[0m\u001B[0;34m)\u001B[0m\u001B[0;34m\u001B[0m\u001B[0;34m\u001B[0m\u001B[0m\n\u001B[0m\u001B[1;32m     51\u001B[0m     \u001B[0;32mexcept\u001B[0m \u001B[0mJSONDecodeError\u001B[0m \u001B[0;32mas\u001B[0m \u001B[0me\u001B[0m\u001B[0;34m:\u001B[0m\u001B[0;34m\u001B[0m\u001B[0;34m\u001B[0m\u001B[0m\n",
      "\u001B[0;32m~/.conda/envs/dev/lib/python3.10/site-packages/requests/models.py\u001B[0m in \u001B[0;36mjson\u001B[0;34m(self, **kwargs)\u001B[0m\n\u001B[1;32m    967\u001B[0m                 \u001B[0;32mexcept\u001B[0m \u001B[0mJSONDecodeError\u001B[0m \u001B[0;32mas\u001B[0m \u001B[0me\u001B[0m\u001B[0;34m:\u001B[0m\u001B[0;34m\u001B[0m\u001B[0;34m\u001B[0m\u001B[0m\n\u001B[0;32m--> 968\u001B[0;31m                     \u001B[0;32mraise\u001B[0m \u001B[0mRequestsJSONDecodeError\u001B[0m\u001B[0;34m(\u001B[0m\u001B[0me\u001B[0m\u001B[0;34m.\u001B[0m\u001B[0mmsg\u001B[0m\u001B[0;34m,\u001B[0m \u001B[0me\u001B[0m\u001B[0;34m.\u001B[0m\u001B[0mdoc\u001B[0m\u001B[0;34m,\u001B[0m \u001B[0me\u001B[0m\u001B[0;34m.\u001B[0m\u001B[0mpos\u001B[0m\u001B[0;34m)\u001B[0m\u001B[0;34m\u001B[0m\u001B[0;34m\u001B[0m\u001B[0m\n\u001B[0m\u001B[1;32m    969\u001B[0m \u001B[0;34m\u001B[0m\u001B[0m\n",
      "\u001B[0;31mJSONDecodeError\u001B[0m: Invalid \\uXXXX escape sequence: line 1 column 42392830 (char 42392829)",
      "\nDuring handling of the above exception, another exception occurred:\n",
      "\u001B[0;31mException\u001B[0m                                 Traceback (most recent call last)",
      "\u001B[0;32m/tmp/ipykernel_3220414/170000986.py\u001B[0m in \u001B[0;36m<module>\u001B[0;34m\u001B[0m\n\u001B[0;32m----> 1\u001B[0;31m \u001B[0mdf\u001B[0m\u001B[0;34m=\u001B[0m\u001B[0msq2df\u001B[0m\u001B[0;34m(\u001B[0m\u001B[0;34m)\u001B[0m\u001B[0;34m\u001B[0m\u001B[0;34m\u001B[0m\u001B[0m\n\u001B[0m",
      "\u001B[0;32m/tmp/ipykernel_3220414/4003366611.py\u001B[0m in \u001B[0;36msq2df\u001B[0;34m()\u001B[0m\n\u001B[1;32m      5\u001B[0m     \u001B[0mq\u001B[0m\u001B[0;34m=\u001B[0m\u001B[0mrp1\u001B[0m\u001B[0;34m\u001B[0m\u001B[0;34m\u001B[0m\u001B[0m\n\u001B[1;32m      6\u001B[0m     \u001B[0;31m#print(f'q:{q}')\u001B[0m\u001B[0;34m\u001B[0m\u001B[0;34m\u001B[0m\u001B[0m\n\u001B[0;32m----> 7\u001B[0;31m     \u001B[0mdf\u001B[0m \u001B[0;34m=\u001B[0m \u001B[0msparqldataframe\u001B[0m\u001B[0;34m.\u001B[0m\u001B[0mquery\u001B[0m\u001B[0;34m(\u001B[0m\u001B[0mendpoint\u001B[0m\u001B[0;34m,\u001B[0m \u001B[0mq\u001B[0m\u001B[0;34m)\u001B[0m\u001B[0;34m\u001B[0m\u001B[0;34m\u001B[0m\u001B[0m\n\u001B[0m\u001B[1;32m      8\u001B[0m     \u001B[0;31m#df.describe()\u001B[0m\u001B[0;34m\u001B[0m\u001B[0;34m\u001B[0m\u001B[0m\n\u001B[1;32m      9\u001B[0m     \u001B[0;32mreturn\u001B[0m \u001B[0mdf\u001B[0m\u001B[0;34m\u001B[0m\u001B[0;34m\u001B[0m\u001B[0m\n",
      "\u001B[0;32m~/.conda/envs/dev/lib/python3.10/site-packages/sparqldataframe/__init__.py\u001B[0m in \u001B[0;36mquery\u001B[0;34m(url, sparql_query)\u001B[0m\n\u001B[1;32m     51\u001B[0m     \u001B[0;32mexcept\u001B[0m \u001B[0mJSONDecodeError\u001B[0m \u001B[0;32mas\u001B[0m \u001B[0me\u001B[0m\u001B[0;34m:\u001B[0m\u001B[0;34m\u001B[0m\u001B[0;34m\u001B[0m\u001B[0m\n\u001B[1;32m     52\u001B[0m         \u001B[0mprint\u001B[0m\u001B[0;34m(\u001B[0m\u001B[0mr\u001B[0m\u001B[0;34m.\u001B[0m\u001B[0mcontent\u001B[0m\u001B[0;34m)\u001B[0m\u001B[0;34m\u001B[0m\u001B[0;34m\u001B[0m\u001B[0m\n\u001B[0;32m---> 53\u001B[0;31m         \u001B[0;32mraise\u001B[0m \u001B[0mException\u001B[0m\u001B[0;34m(\u001B[0m\u001B[0;34m'Invalid query'\u001B[0m\u001B[0;34m)\u001B[0m\u001B[0;34m\u001B[0m\u001B[0;34m\u001B[0m\u001B[0m\n\u001B[0m\u001B[1;32m     54\u001B[0m \u001B[0;34m\u001B[0m\u001B[0m\n\u001B[1;32m     55\u001B[0m     \u001B[0;32mif\u001B[0m \u001B[0;34m(\u001B[0m\u001B[0;34m'results'\u001B[0m \u001B[0;32min\u001B[0m \u001B[0mdata\u001B[0m\u001B[0;34m)\u001B[0m \u001B[0;32mand\u001B[0m \u001B[0;34m(\u001B[0m\u001B[0;34m'bindings'\u001B[0m \u001B[0;32min\u001B[0m \u001B[0mdata\u001B[0m\u001B[0;34m[\u001B[0m\u001B[0;34m'results'\u001B[0m\u001B[0;34m]\u001B[0m\u001B[0;34m)\u001B[0m\u001B[0;34m:\u001B[0m\u001B[0;34m\u001B[0m\u001B[0;34m\u001B[0m\u001B[0m\n",
      "\u001B[0;31mException\u001B[0m: Invalid query"
     ]
    }
   ],
   "execution_count": 22
  },
  {
   "metadata": {},
   "cell_type": "code",
   "outputs": [],
   "execution_count": null,
   "source": "",
   "id": "623482cd1980c8eb"
  },
  {
   "metadata": {},
   "cell_type": "code",
   "outputs": [],
   "execution_count": null,
   "source": "",
   "id": "6d1ee4bfaf6cee7b"
  },
  {
   "metadata": {},
   "cell_type": "code",
   "outputs": [],
   "execution_count": null,
   "source": "dfrp1 = get_sparql_dataframe(local, rp1)\n",
   "id": "602eb31bd56d27a7"
  },
  {
   "metadata": {
    "ExecuteTime": {
     "end_time": "2024-05-07T18:49:56.169307Z",
     "start_time": "2024-05-07T18:49:56.154514Z"
    }
   },
   "cell_type": "code",
   "source": "dfrp1.info()",
   "id": "61c9191b0c89c985",
   "outputs": [
    {
     "name": "stdout",
     "output_type": "stream",
     "text": [
      "<class 'pandas.core.frame.DataFrame'>\n",
      "RangeIndex: 10000 entries, 0 to 9999\n",
      "Data columns (total 7 columns):\n",
      " #   Column       Non-Null Count  Dtype \n",
      "---  ------       --------------  ----- \n",
      " 0   id           10000 non-null  object\n",
      " 1   type         10000 non-null  object\n",
      " 2   name         9036 non-null   object\n",
      " 3   url          8940 non-null   object\n",
      " 4   description  3115 non-null   object\n",
      " 5   headline     0 non-null      object\n",
      " 6   g            10000 non-null  object\n",
      "dtypes: object(7)\n",
      "memory usage: 547.0+ KB\n"
     ]
    }
   ],
   "execution_count": 15
  },
  {
   "metadata": {
    "ExecuteTime": {
     "end_time": "2024-05-07T18:50:23.040554Z",
     "start_time": "2024-05-07T18:50:23.033431Z"
    }
   },
   "cell_type": "code",
   "source": "dfrp1",
   "id": "63d320bbc31f7db0",
   "outputs": [
    {
     "data": {
      "text/plain": [
       "                                                     id  \\\n",
       "0     https://pacificdata.org/data/dataset/e7723660-...   \n",
       "1     https://pacificdata.org/data/dataset/e7723660-...   \n",
       "2     https://pacificdata.org/data/dataset/e7723660-...   \n",
       "3     https://pacificdata.org/data/dataset/e7723660-...   \n",
       "4     https://pacificdata.org/data/dataset/e7723660-...   \n",
       "...                                                 ...   \n",
       "9995  https://pacificdata.org/data/dataset/oai-www-s...   \n",
       "9996  https://pacificdata.org/data/dataset/oai-www-s...   \n",
       "9997  https://pacificdata.org/data/dataset/oai-www-s...   \n",
       "9998  https://pacificdata.org/data/dataset/oai-www-s...   \n",
       "9999  https://pacificdata.org/data/dataset/oai-www-s...   \n",
       "\n",
       "                                 type  \\\n",
       "0     https://schema.org/DataDownload   \n",
       "1     https://schema.org/DataDownload   \n",
       "2     https://schema.org/DataDownload   \n",
       "3     https://schema.org/DataDownload   \n",
       "4     https://schema.org/DataDownload   \n",
       "...                               ...   \n",
       "9995  https://schema.org/DataDownload   \n",
       "9996  https://schema.org/DataDownload   \n",
       "9997  https://schema.org/DataDownload   \n",
       "9998  https://schema.org/DataDownload   \n",
       "9999  https://schema.org/DataDownload   \n",
       "\n",
       "                                                   name  \\\n",
       "0     MR_Regional energy experts meet in Suva to dis...   \n",
       "1     MR_Regional energy experts meet in Suva to dis...   \n",
       "2     MR_Regional energy experts meet in Suva to dis...   \n",
       "3     MR_Regional energy experts meet in Suva to dis...   \n",
       "4     MR_Regional energy experts meet in Suva to dis...   \n",
       "...                                                 ...   \n",
       "9995                   11SP FIJI GENDER TRAINING REPORT   \n",
       "9996                   11SP FIJI GENDER TRAINING REPORT   \n",
       "9997                   11SP FIJI GENDER TRAINING REPORT   \n",
       "9998                   11SP FIJI GENDER TRAINING REPORT   \n",
       "9999                   11SP FIJI GENDER TRAINING REPORT   \n",
       "\n",
       "                                                    url description headline  \\\n",
       "0     https://prdrse4all.spc.int/system/files/MR_Reg...        None     None   \n",
       "1     https://prdrse4all.spc.int/system/files/MR_Reg...        None     None   \n",
       "2     https://prdrse4all.spc.int/system/files/MR_Reg...        None     None   \n",
       "3     https://prdrse4all.spc.int/system/files/MR_Reg...        None     None   \n",
       "4     https://prdrse4all.spc.int/system/files/MR_Reg...        None     None   \n",
       "...                                                 ...         ...      ...   \n",
       "9995             https://purl.org/spc/digilib/doc/pnjm5        None     None   \n",
       "9996             https://purl.org/spc/digilib/doc/pnjm5        None     None   \n",
       "9997             https://purl.org/spc/digilib/doc/pnjm5        None     None   \n",
       "9998             https://purl.org/spc/digilib/doc/pnjm5        None     None   \n",
       "9999             https://purl.org/spc/digilib/doc/pnjm5        None     None   \n",
       "\n",
       "                                                      g  \n",
       "0     urn:gleaner.io:iow:pdh:data:b5f4af96a8655bb766...  \n",
       "1     urn:gleaner.io:iow:pdh:data:498fc097dd450fe32c...  \n",
       "2     urn:gleaner.io:iow:pdh:data:b39edc75a6e96f2bce...  \n",
       "3     urn:gleaner.io:iow:pdh:data:e504e4d351d41981ea...  \n",
       "4     urn:gleaner.io:iow:pdh:data:b398f7c90032b6d80b...  \n",
       "...                                                 ...  \n",
       "9995  urn:gleaner.io:iow:pdh:data:6a1cc3a67a16a249bf...  \n",
       "9996  urn:gleaner.io:iow:pdh:data:b80c17d2341d463bdf...  \n",
       "9997  urn:gleaner.io:iow:pdh:data:1f54a265003f932812...  \n",
       "9998  urn:gleaner.io:iow:pdh:data:60ae0b37634ab6e1cb...  \n",
       "9999  urn:gleaner.io:iow:pdh:data:4d2305310efd3a8a3f...  \n",
       "\n",
       "[10000 rows x 7 columns]"
      ],
      "text/html": [
       "<div>\n",
       "<style scoped>\n",
       "    .dataframe tbody tr th:only-of-type {\n",
       "        vertical-align: middle;\n",
       "    }\n",
       "\n",
       "    .dataframe tbody tr th {\n",
       "        vertical-align: top;\n",
       "    }\n",
       "\n",
       "    .dataframe thead th {\n",
       "        text-align: right;\n",
       "    }\n",
       "</style>\n",
       "<table border=\"1\" class=\"dataframe\">\n",
       "  <thead>\n",
       "    <tr style=\"text-align: right;\">\n",
       "      <th></th>\n",
       "      <th>id</th>\n",
       "      <th>type</th>\n",
       "      <th>name</th>\n",
       "      <th>url</th>\n",
       "      <th>description</th>\n",
       "      <th>headline</th>\n",
       "      <th>g</th>\n",
       "    </tr>\n",
       "  </thead>\n",
       "  <tbody>\n",
       "    <tr>\n",
       "      <th>0</th>\n",
       "      <td>https://pacificdata.org/data/dataset/e7723660-...</td>\n",
       "      <td>https://schema.org/DataDownload</td>\n",
       "      <td>MR_Regional energy experts meet in Suva to dis...</td>\n",
       "      <td>https://prdrse4all.spc.int/system/files/MR_Reg...</td>\n",
       "      <td>None</td>\n",
       "      <td>None</td>\n",
       "      <td>urn:gleaner.io:iow:pdh:data:b5f4af96a8655bb766...</td>\n",
       "    </tr>\n",
       "    <tr>\n",
       "      <th>1</th>\n",
       "      <td>https://pacificdata.org/data/dataset/e7723660-...</td>\n",
       "      <td>https://schema.org/DataDownload</td>\n",
       "      <td>MR_Regional energy experts meet in Suva to dis...</td>\n",
       "      <td>https://prdrse4all.spc.int/system/files/MR_Reg...</td>\n",
       "      <td>None</td>\n",
       "      <td>None</td>\n",
       "      <td>urn:gleaner.io:iow:pdh:data:498fc097dd450fe32c...</td>\n",
       "    </tr>\n",
       "    <tr>\n",
       "      <th>2</th>\n",
       "      <td>https://pacificdata.org/data/dataset/e7723660-...</td>\n",
       "      <td>https://schema.org/DataDownload</td>\n",
       "      <td>MR_Regional energy experts meet in Suva to dis...</td>\n",
       "      <td>https://prdrse4all.spc.int/system/files/MR_Reg...</td>\n",
       "      <td>None</td>\n",
       "      <td>None</td>\n",
       "      <td>urn:gleaner.io:iow:pdh:data:b39edc75a6e96f2bce...</td>\n",
       "    </tr>\n",
       "    <tr>\n",
       "      <th>3</th>\n",
       "      <td>https://pacificdata.org/data/dataset/e7723660-...</td>\n",
       "      <td>https://schema.org/DataDownload</td>\n",
       "      <td>MR_Regional energy experts meet in Suva to dis...</td>\n",
       "      <td>https://prdrse4all.spc.int/system/files/MR_Reg...</td>\n",
       "      <td>None</td>\n",
       "      <td>None</td>\n",
       "      <td>urn:gleaner.io:iow:pdh:data:e504e4d351d41981ea...</td>\n",
       "    </tr>\n",
       "    <tr>\n",
       "      <th>4</th>\n",
       "      <td>https://pacificdata.org/data/dataset/e7723660-...</td>\n",
       "      <td>https://schema.org/DataDownload</td>\n",
       "      <td>MR_Regional energy experts meet in Suva to dis...</td>\n",
       "      <td>https://prdrse4all.spc.int/system/files/MR_Reg...</td>\n",
       "      <td>None</td>\n",
       "      <td>None</td>\n",
       "      <td>urn:gleaner.io:iow:pdh:data:b398f7c90032b6d80b...</td>\n",
       "    </tr>\n",
       "    <tr>\n",
       "      <th>...</th>\n",
       "      <td>...</td>\n",
       "      <td>...</td>\n",
       "      <td>...</td>\n",
       "      <td>...</td>\n",
       "      <td>...</td>\n",
       "      <td>...</td>\n",
       "      <td>...</td>\n",
       "    </tr>\n",
       "    <tr>\n",
       "      <th>9995</th>\n",
       "      <td>https://pacificdata.org/data/dataset/oai-www-s...</td>\n",
       "      <td>https://schema.org/DataDownload</td>\n",
       "      <td>11SP FIJI GENDER TRAINING REPORT</td>\n",
       "      <td>https://purl.org/spc/digilib/doc/pnjm5</td>\n",
       "      <td>None</td>\n",
       "      <td>None</td>\n",
       "      <td>urn:gleaner.io:iow:pdh:data:6a1cc3a67a16a249bf...</td>\n",
       "    </tr>\n",
       "    <tr>\n",
       "      <th>9996</th>\n",
       "      <td>https://pacificdata.org/data/dataset/oai-www-s...</td>\n",
       "      <td>https://schema.org/DataDownload</td>\n",
       "      <td>11SP FIJI GENDER TRAINING REPORT</td>\n",
       "      <td>https://purl.org/spc/digilib/doc/pnjm5</td>\n",
       "      <td>None</td>\n",
       "      <td>None</td>\n",
       "      <td>urn:gleaner.io:iow:pdh:data:b80c17d2341d463bdf...</td>\n",
       "    </tr>\n",
       "    <tr>\n",
       "      <th>9997</th>\n",
       "      <td>https://pacificdata.org/data/dataset/oai-www-s...</td>\n",
       "      <td>https://schema.org/DataDownload</td>\n",
       "      <td>11SP FIJI GENDER TRAINING REPORT</td>\n",
       "      <td>https://purl.org/spc/digilib/doc/pnjm5</td>\n",
       "      <td>None</td>\n",
       "      <td>None</td>\n",
       "      <td>urn:gleaner.io:iow:pdh:data:1f54a265003f932812...</td>\n",
       "    </tr>\n",
       "    <tr>\n",
       "      <th>9998</th>\n",
       "      <td>https://pacificdata.org/data/dataset/oai-www-s...</td>\n",
       "      <td>https://schema.org/DataDownload</td>\n",
       "      <td>11SP FIJI GENDER TRAINING REPORT</td>\n",
       "      <td>https://purl.org/spc/digilib/doc/pnjm5</td>\n",
       "      <td>None</td>\n",
       "      <td>None</td>\n",
       "      <td>urn:gleaner.io:iow:pdh:data:60ae0b37634ab6e1cb...</td>\n",
       "    </tr>\n",
       "    <tr>\n",
       "      <th>9999</th>\n",
       "      <td>https://pacificdata.org/data/dataset/oai-www-s...</td>\n",
       "      <td>https://schema.org/DataDownload</td>\n",
       "      <td>11SP FIJI GENDER TRAINING REPORT</td>\n",
       "      <td>https://purl.org/spc/digilib/doc/pnjm5</td>\n",
       "      <td>None</td>\n",
       "      <td>None</td>\n",
       "      <td>urn:gleaner.io:iow:pdh:data:4d2305310efd3a8a3f...</td>\n",
       "    </tr>\n",
       "  </tbody>\n",
       "</table>\n",
       "<p>10000 rows × 7 columns</p>\n",
       "</div>"
      ]
     },
     "execution_count": 17,
     "metadata": {},
     "output_type": "execute_result"
    }
   ],
   "execution_count": 17
  },
  {
   "metadata": {},
   "cell_type": "code",
   "outputs": [],
   "execution_count": null,
   "source": "",
   "id": "985a2ab75101903f"
  }
 ],
 "metadata": {
  "kernelspec": {
   "display_name": "Python 3",
   "language": "python",
   "name": "python3"
  },
  "language_info": {
   "codemirror_mode": {
    "name": "ipython",
    "version": 2
   },
   "file_extension": ".py",
   "mimetype": "text/x-python",
   "name": "python",
   "nbconvert_exporter": "python",
   "pygments_lexer": "ipython2",
   "version": "2.7.6"
  }
 },
 "nbformat": 4,
 "nbformat_minor": 5
}
