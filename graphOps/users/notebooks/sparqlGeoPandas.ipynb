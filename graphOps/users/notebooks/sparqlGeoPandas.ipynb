{
 "cells": [
  {
   "cell_type": "markdown",
   "metadata": {
    "tags": []
   },
   "source": [
    "# OIH Graph Pre-Processor\n",
    "\n",
    "## About\n",
    "This notebook demonstrates some approaches for processing the release graphs into a format that\n",
    "is useful for the Dashboard UI\n",
    "\n",
    "#### WMO Note\n",
    "\n",
    "For WMO we need to add to the sparqlwmo an optional temporal aspect.  The output should be set as GeoJSON\n",
    "\n",
    "#### ROA\n",
    "\n",
    "Resource-Oriented Architecture (ROA) is an architectural style for designing network-based software applications. This style prioritizes resources, their identification, representation, and the links between them over the actions performed on those resources (as in many object-oriented architectures).\n",
    "\n",
    "Here are key principles of ROA:\n",
    "\n",
    "1. **Resources:** In a ROA, every piece of information and service is considered a resource. These resources are identifiable and can be accessed through a unique identifier, typically a URI.\n",
    "\n",
    "2. **Links and Connectedness:** Resources reference each other through links, creating a web of interconnected resources. This allows for easy navigation between related resources.\n",
    "\n",
    "3. **Standard Methods:** In ROA, resources are manipulated using standard HTTP methods (like GET, POST, PUT, DELETE). This makes the API predictable and easy to understand.\n",
    "\n",
    "4. **Representation-Oriented:** Rather than being concerned with implementation details, ROA focuses on how resources are represented to clients. Different clients might receive different representations of the same resource.\n",
    "\n",
    "5. **Stateless:** Similar to RESTful systems, ROA prefers stateless operations, where each request from client to server must contain all the information necessary to understand and respond to the request.\n",
    "\n",
    "6. **Addressability:** Every resource has a unique address, typically a URL, which can be bookmarked, typed into a browser, or passed around by an application.\n",
    "\n",
    "ROA is most notably realized in the design of RESTful APIs, which are intended to interact with web resources. It's focused on leveraging the protocols and technologies of the web (like HTTP, URIs, and MIME types) rather than creating new standards or protocols.\n",
    "\n",
    "# WMO updates needed\n",
    "\n",
    "* I don’t need geotype, geom, geompred , or WKT, especially given the fact that you provide geometry in the payload, which is 1:1 with WIS2 WCMP2 metadata\n",
    "* I do need some sort of identifier for the record.  I can derive that from s, but it would be safer to make it more explicit\n",
    "* I do need some sort of temporal property (of the data) in WCMP2.  If this is not available I can make it null in WCMP2, so you can either emit it (with null as required), or, when null, do not emit which implies a null.  I would prefer the former to be explicit\n",
    "* can keywords be provided?  Even better, qualified by thesarus?\n",
    "* I do need a record creation date\n",
    "* we need to discuss data policy issues (WMO requires a data policy of “core” or “recommended”.  Needs discussion at our next call\n"
   ]
  },
  {
   "cell_type": "markdown",
   "metadata": {},
   "source": [
    "### Imports and definitions"
   ]
  },
  {
   "cell_type": "code",
   "execution_count": 1,
   "metadata": {
    "ExecuteTime": {
     "end_time": "2023-07-12T14:47:50.261971010Z",
     "start_time": "2023-07-12T14:47:48.602681453Z"
    },
    "collapsed": false,
    "jupyter": {
     "outputs_hidden": false
    },
    "tags": []
   },
   "outputs": [],
   "source": [
    "import warnings\n",
    "warnings.simplefilter(action='ignore', category=FutureWarning)  ## remove pandas future warning\n",
    "import pandas as pd\n",
    "import geopandas as gpd\n",
    "from shapely import wkt\n",
    "import s3fs\n",
    "import pyarrow.parquet as pq\n",
    "import shapely\n",
    "import os\n",
    "import re\n",
    "import kglab\n",
    "from minio import Minio\n",
    "import rdflib\n",
    "from rdflib import ConjunctiveGraph  #  needed for nquads"
   ]
  },
  {
   "cell_type": "code",
   "execution_count": 2,
   "metadata": {
    "ExecuteTime": {
     "end_time": "2023-07-12T14:47:51.260298359Z",
     "start_time": "2023-07-12T14:47:51.257352637Z"
    },
    "collapsed": false,
    "jupyter": {
     "outputs_hidden": false
    },
    "tags": []
   },
   "outputs": [],
   "source": [
    "def publicurls(client, bucket, prefix):\n",
    "    urls = []\n",
    "    objects = client.list_objects(bucket, prefix=prefix, recursive=True)\n",
    "    for obj in objects:\n",
    "        result = client.stat_object(bucket, obj.object_name)\n",
    "\n",
    "        if result.size > 0:  #  how to tell if an objet   obj.is_public  ?????\n",
    "            url = client.presigned_get_object(bucket, obj.object_name)\n",
    "            # print(f\"Public URL for object: {url}\")\n",
    "            urls.append(url)\n",
    "\n",
    "    return urls"
   ]
  },
  {
   "cell_type": "code",
   "execution_count": 3,
   "metadata": {
    "ExecuteTime": {
     "end_time": "2023-07-12T14:47:52.020831198Z",
     "start_time": "2023-07-12T14:47:52.018771723Z"
    },
    "collapsed": false,
    "jupyter": {
     "outputs_hidden": false
    }
   },
   "outputs": [],
   "source": [
    "def to_wkt(polygon_string):\n",
    "    # split the input string into pairs\n",
    "    pairs = polygon_string.split(',')\n",
    "\n",
    "    # transform each pair into 'y x' format\n",
    "    # transformed_pairs = [' '.join(reversed(pair.split())) for pair in pairs]\n",
    "    transformed_pairs = [' '.join(pair.split()) for pair in pairs]\n",
    "\n",
    "\n",
    "    # join the transformed pairs with a comma and a space\n",
    "    transformed_string = ', '.join(transformed_pairs)\n",
    "\n",
    "    # return the final WKT string\n",
    "    return f\"POLYGON (({transformed_string}))\""
   ]
  },
  {
   "cell_type": "code",
   "execution_count": 4,
   "metadata": {
    "ExecuteTime": {
     "end_time": "2023-07-12T14:47:52.679099300Z",
     "start_time": "2023-07-12T14:47:52.673622143Z"
    },
    "tags": []
   },
   "outputs": [],
   "source": [
    "# Check for using GPU, in case you want to ensure your GPU is used\n",
    "# gc = kglab.get_gpu_count()\n",
    "# print(gc)"
   ]
  },
  {
   "cell_type": "code",
   "execution_count": 5,
   "metadata": {
    "ExecuteTime": {
     "end_time": "2023-07-12T14:47:55.895398623Z",
     "start_time": "2023-07-12T14:47:53.289953030Z"
    },
    "collapsed": false,
    "jupyter": {
     "outputs_hidden": false
    },
    "tags": []
   },
   "outputs": [],
   "source": [
    "client = Minio(\"ossapi.oceaninfohub.org:80\",  secure=False) # Create client with anonymous access.\n",
    "urls = publicurls(client, \"public\", \"graph\")"
   ]
  },
  {
   "cell_type": "code",
   "execution_count": 6,
   "metadata": {
    "ExecuteTime": {
     "end_time": "2023-07-12T14:47:57.467239148Z",
     "start_time": "2023-07-12T14:47:57.449810132Z"
    },
    "collapsed": false,
    "jupyter": {
     "outputs_hidden": false
    },
    "tags": []
   },
   "outputs": [
    {
     "name": "stdout",
     "output_type": "stream",
     "text": [
      "['http://ossapi.oceaninfohub.org/public/graphs/summonedafricaioc_v1_release.nq', 'http://ossapi.oceaninfohub.org/public/graphs/summonedaquadocs_v1_release.nq', 'http://ossapi.oceaninfohub.org/public/graphs/summonedcioos_v1_release.nq', 'http://ossapi.oceaninfohub.org/public/graphs/summonededmerp_v1_release.nq', 'http://ossapi.oceaninfohub.org/public/graphs/summonededmo_v1_release.nq', 'http://ossapi.oceaninfohub.org/public/graphs/summonedemodnet_v1_release.nq', 'http://ossapi.oceaninfohub.org/public/graphs/summonedinanodc_v1_release.nq', 'http://ossapi.oceaninfohub.org/public/graphs/summonedinvemardocuments_v1_release.nq', 'http://ossapi.oceaninfohub.org/public/graphs/summonedinvemarexperts_v1_release.nq', 'http://ossapi.oceaninfohub.org/public/graphs/summonedinvemarinstitutions_v1_release.nq', 'http://ossapi.oceaninfohub.org/public/graphs/summonedinvemartraining_v1_release.nq', 'http://ossapi.oceaninfohub.org/public/graphs/summonedinvemarvessels_v1_release.nq', 'http://ossapi.oceaninfohub.org/public/graphs/summonedmarinetraining_v1_release.nq', 'http://ossapi.oceaninfohub.org/public/graphs/summonedobis_v1_release.nq', 'http://ossapi.oceaninfohub.org/public/graphs/summonedobps_v1_release.nq', 'http://ossapi.oceaninfohub.org/public/graphs/summonedoceanexperts_v1_release.nq', 'http://ossapi.oceaninfohub.org/public/graphs/summonedpdh_v1_release.nq']\n"
     ]
    }
   ],
   "source": [
    "print(urls)"
   ]
  },
  {
   "cell_type": "markdown",
   "metadata": {},
   "source": [
    "## Query sets\n"
   ]
  },
  {
   "cell_type": "code",
   "execution_count": 15,
   "metadata": {
    "ExecuteTime": {
     "end_time": "2023-07-12T15:08:08.989805162Z",
     "start_time": "2023-07-12T15:08:08.980725493Z"
    },
    "collapsed": false,
    "jupyter": {
     "outputs_hidden": false
    }
   },
   "outputs": [],
   "source": [
    "sparql = \"\"\"\n",
    "PREFIX schema: <https://schema.org/>\n",
    "PREFIX schemawrong: <http://schema.org/>\n",
    "\n",
    "\n",
    "SELECT ?s ?type ?desc ?name ?url ?keywords\n",
    "WHERE\n",
    "{\n",
    " ?s rdf:type ?type\n",
    "   FILTER ( ?type IN (schema:ResearchProject, schema:Project, schema:Organization,\n",
    "   schema:Dataset, schema:CreativeWork, schema:Person, schema:Map, schema:Course,\n",
    "   schema:CourseInstance, schema:Event, schema:Vehicle) )\n",
    "   ?s schema:description ?desc .\n",
    "   ?s schema:name ?name\n",
    "       OPTIONAL { ?s schema:url ?url .   }\n",
    "   ?s schema:keywords ?keywords\n",
    "\n",
    "}\n",
    "\"\"\"\n",
    "\n",
    "sparqlcore = \"\"\"\n",
    "PREFIX schema: <https://schema.org/>\n",
    "PREFIX schemawrong: <http://schema.org/>\n",
    "\n",
    "\n",
    "SELECT ?g ?s ?type ?desc ?name ?url ?keywords\n",
    "WHERE\n",
    "{\n",
    "     ?s rdf:type ?type\n",
    "    FILTER ( ?type IN (schema:ResearchProject, schema:Project, schema:Organization,\n",
    "    schema:Dataset, schema:CreativeWork, schema:Person, schema:Map, schema:Course,\n",
    "    schema:CourseInstance, schema:Event, schema:Vehicle,   schemawrong:ResearchProject, schemawrong:Project, schemawrong:Organization,\n",
    "    schemawrong:Dataset, schemawrong:CreativeWork, schemawrong:Person, schemawrong:Map, schemawrong:Course,\n",
    "    schemawrong:CourseInstance, schemawrong:Event, schemawrong:Vehicle  ) )\n",
    "    OPTIONAL {?s schema:description | schemawrong:description  ?desc .}\n",
    "    OPTIONAL {?s schema:name | schemawrong:name ?name }\n",
    "    OPTIONAL { ?s schema:url | schemawrong:url ?url .   }\n",
    "    OPTIONAL {?s schema:keywords | schemawrong:keywords ?keywords}\n",
    " }\n",
    "\"\"\"\n",
    "\n",
    "#  What if we didn't make it optional and just made a \"spatial product\"\n",
    "sparqlgeo = \"\"\"\n",
    "PREFIX schema: <https://schema.org/>\n",
    "PREFIX schemawrong: <http://schema.org/>\n",
    "\n",
    "SELECT ?s ?type ?name ?description ?keywords ?url ?geo ?geotype ?geompred ?geom\n",
    "WHERE\n",
    "{\n",
    "    ?s rdf:type ?type\n",
    "    FILTER ( ?type IN (schema:ResearchProject, schema:Project, schema:Organization,\n",
    "    schema:Dataset, schema:CreativeWork, schema:Person, schema:Map, schema:Course,\n",
    "    schema:CourseInstance, schema:Event, schema:Vehicle,   schemawrong:ResearchProject, schemawrong:Project, schemawrong:Organization,\n",
    "    schemawrong:Dataset, schemawrong:CreativeWork, schemawrong:Person, schemawrong:Map, schemawrong:Course,\n",
    "    schemawrong:CourseInstance, schemawrong:Event, schemawrong:Vehicle  ) )\n",
    "    ?s schema:name | schemawrong:name ?name .\n",
    "    OPTIONAL {?s schema:keywords | schemawrong:keywords ?keywords}\n",
    "    OPTIONAL {?s schema:description | schemawrong:description  ?desc .}\n",
    "    OPTIONAL { ?s schema:url | schemawrong:url ?url .   }\n",
    "    OPTIONAL {\n",
    "     ?s schema:spatialCoverage ?sc .\n",
    "      ?sc a  schema:Place .\n",
    "      ?sc schema:geo ?geo .\n",
    "      ?geo a ?geotype .\n",
    "      ?geo ?geompred ?geom\n",
    "      }\n",
    "}\n",
    "\"\"\"\n",
    "\n",
    "sparqltesting = \"\"\"\n",
    "PREFIX schema: <https://schema.org/>\n",
    "PREFIX schemawrong: <http://schema.org/>\n",
    "\n",
    "SELECT *\n",
    "WHERE\n",
    "{\n",
    "    ?s rdf:type ?type\n",
    "    FILTER ( ?type IN (schema:ResearchProject, schema:Project, schema:Organization,\n",
    "    schema:Dataset, schema:CreativeWork, schema:Person, schema:Map, schema:Course,\n",
    "    schema:CourseInstance, schema:Event, schema:Vehicle,   schemawrong:ResearchProject, schemawrong:Project, schemawrong:Organization,\n",
    "    schemawrong:Dataset, schemawrong:CreativeWork, schemawrong:Person, schemawrong:Map, schemawrong:Course,\n",
    "    schemawrong:CourseInstance, schemawrong:Event, schemawrong:Vehicle  ) )\n",
    "    ?s schema:name | schemawrong:name ?name\n",
    "    OPTIONAL {  ?s schema:keywords | schemawrong:keywords ?keywords }\n",
    "    OPTIONAL { ?s schema:description | schemawrong:description  ?desc . }\n",
    "    OPTIONAL { ?s schema:url | schemawrong:url ?url .   }\n",
    "    OPTIONAL {?s schema:keywords | schemawrong:keywords ?keywords}\n",
    "    OPTIONAL { ?s schema:spatialCoverage ?sc .\n",
    "      ?sc a  schema:Place .\n",
    "      ?sc schema:geo ?geo .\n",
    "      ?geo a ?geotype .\n",
    "      ?geo schema:polygon ?geom\n",
    "    }\n",
    "}\n",
    "\"\"\"\n",
    "\n",
    "sparqlwmo = \"\"\"\n",
    "PREFIX schema: <https://schema.org/>\n",
    "PREFIX schemawrong: <http://schema.org/>\n",
    "\n",
    "SELECT DISTINCT ?s ?name ?description ?geotype ?geompred ?geom\n",
    "WHERE\n",
    "{\n",
    "    ?s rdf:type ?type\n",
    "    FILTER ( ?type IN (schema:Dataset, schemawrong:Dataset  ) )\n",
    "    ?s schema:name | schemawrong:name ?name .\n",
    "    ?s schema:description | schemawrong:description ?description .\n",
    "    ?s schema:spatialCoverage ?sc .\n",
    "    ?sc a  schema:Place .\n",
    "    ?sc schema:geo ?geo .\n",
    "    ?geo a ?geotype .\n",
    "    ?geo ?geompred ?geom .\n",
    "    FILTER(!isIRI(?geom))\n",
    "    OPTIONAL {?s schema:keywords | schemawrong:keywords ?keywords}\n",
    "\n",
    "}\n",
    "\"\"\""
   ]
  },
  {
   "cell_type": "markdown",
   "metadata": {},
   "source": [
    "## Single Graph Test\n",
    "\n",
    "At this point we have the URLs, and we could either loop load all of them or pull one out manually and use.  This section dmonstrates loading and working with one\n"
   ]
  },
  {
   "cell_type": "code",
   "execution_count": 16,
   "metadata": {
    "ExecuteTime": {
     "end_time": "2023-07-12T15:08:21.082726075Z",
     "start_time": "2023-07-12T15:08:12.685197179Z"
    },
    "tags": []
   },
   "outputs": [
    {
     "name": "stdout",
     "output_type": "stream",
     "text": [
      "161187\n"
     ]
    }
   ],
   "source": [
    "# load quad graph\n",
    "g = ConjunctiveGraph()\n",
    "g.parse(\"http://ossapi.oceaninfohub.org/public/graphs/summonedobis_v1_release.nq\", format=\"nquads\")\n",
    "print(len(g))"
   ]
  },
  {
   "cell_type": "code",
   "execution_count": 17,
   "metadata": {
    "ExecuteTime": {
     "end_time": "2023-07-12T15:08:29.691063994Z",
     "start_time": "2023-07-12T15:08:29.682975097Z"
    },
    "tags": []
   },
   "outputs": [],
   "source": [
    "namespaces = {\n",
    "    \"shacl\":   \"http://www.w3.org/ns/shacl#\" ,\n",
    "    \"schema\":   \"https://schema.org/\" ,\n",
    "    \"schemawrong\": \"http://schema.org/\",\n",
    "    \"geo\":      \"http://www.opengis.net/ont/geosparql#\",\n",
    "}\n",
    "\n",
    "kg = kglab.KnowledgeGraph(name = \"OIH test\", base_uri = \"https://oceaninfohub.org/id/\", namespaces = namespaces, use_gpus=True, import_graph = g)"
   ]
  },
  {
   "cell_type": "code",
   "execution_count": 19,
   "metadata": {
    "ExecuteTime": {
     "end_time": "2023-07-12T15:16:04.850027432Z",
     "start_time": "2023-07-12T15:15:55.523247124Z"
    },
    "collapsed": false,
    "jupyter": {
     "outputs_hidden": false
    }
   },
   "outputs": [],
   "source": [
    "pdf = kg.query_as_df(sparqlcore)\n",
    "# df = pdf   # .to_pandas()  #  breaks with papermill for reasons unknown at this time if to_pandas() is used, needed in my kglab conda env\n",
    "# pdf.info()"
   ]
  },
  {
   "cell_type": "code",
   "execution_count": 20,
   "metadata": {
    "ExecuteTime": {
     "end_time": "2023-07-12T15:16:06.678329660Z",
     "start_time": "2023-07-12T15:16:06.671741245Z"
    },
    "tags": []
   },
   "outputs": [
    {
     "data": {
      "text/html": [
       "<div>\n",
       "<style scoped>\n",
       "    .dataframe tbody tr th:only-of-type {\n",
       "        vertical-align: middle;\n",
       "    }\n",
       "\n",
       "    .dataframe tbody tr th {\n",
       "        vertical-align: top;\n",
       "    }\n",
       "\n",
       "    .dataframe thead th {\n",
       "        text-align: right;\n",
       "    }\n",
       "</style>\n",
       "<table border=\"1\" class=\"dataframe\">\n",
       "  <thead>\n",
       "    <tr style=\"text-align: right;\">\n",
       "      <th></th>\n",
       "      <th>s</th>\n",
       "      <th>type</th>\n",
       "      <th>name</th>\n",
       "      <th>url</th>\n",
       "      <th>desc</th>\n",
       "      <th>keywords</th>\n",
       "    </tr>\n",
       "  </thead>\n",
       "  <tbody>\n",
       "    <tr>\n",
       "      <th>0</th>\n",
       "      <td>&lt;https://oceanexpert.org/institution/20942&gt;</td>\n",
       "      <td>schema:Organization</td>\n",
       "      <td>CSIRO National Collections and Marine Infrastr...</td>\n",
       "      <td>https://oceanexpert.org/institution/20942</td>\n",
       "      <td>NaN</td>\n",
       "      <td>NaN</td>\n",
       "    </tr>\n",
       "    <tr>\n",
       "      <th>1</th>\n",
       "      <td>&lt;https://oceanexpert.org/institution/19393&gt;</td>\n",
       "      <td>schema:Organization</td>\n",
       "      <td>Duke University</td>\n",
       "      <td>https://oceanexpert.org/institution/19393</td>\n",
       "      <td>NaN</td>\n",
       "      <td>NaN</td>\n",
       "    </tr>\n",
       "    <tr>\n",
       "      <th>2</th>\n",
       "      <td>&lt;https://oceanexpert.org/institution/23181&gt;</td>\n",
       "      <td>schema:Organization</td>\n",
       "      <td>SEATURTLE.ORG</td>\n",
       "      <td>https://oceanexpert.org/institution/23181</td>\n",
       "      <td>NaN</td>\n",
       "      <td>NaN</td>\n",
       "    </tr>\n",
       "    <tr>\n",
       "      <th>3</th>\n",
       "      <td>&lt;https://oceanexpert.org/institution/22762&gt;</td>\n",
       "      <td>schema:Organization</td>\n",
       "      <td>CSIRO Oceans &amp; Atmosphere, Indian Ocean Marine...</td>\n",
       "      <td>https://oceanexpert.org/institution/22762</td>\n",
       "      <td>NaN</td>\n",
       "      <td>NaN</td>\n",
       "    </tr>\n",
       "    <tr>\n",
       "      <th>4</th>\n",
       "      <td>&lt;https://oceanexpert.org/institution/13853&gt;</td>\n",
       "      <td>schema:Organization</td>\n",
       "      <td>Federal University of Rio Grande-FURG, Rio Grande</td>\n",
       "      <td>https://oceanexpert.org/institution/13853</td>\n",
       "      <td>NaN</td>\n",
       "      <td>NaN</td>\n",
       "    </tr>\n",
       "    <tr>\n",
       "      <th>5</th>\n",
       "      <td>&lt;https://oceanexpert.org/institution/19285&gt;</td>\n",
       "      <td>schema:Organization</td>\n",
       "      <td>Canadian Wildlife Service - Quebec Region</td>\n",
       "      <td>https://oceanexpert.org/institution/19285</td>\n",
       "      <td>NaN</td>\n",
       "      <td>NaN</td>\n",
       "    </tr>\n",
       "    <tr>\n",
       "      <th>6</th>\n",
       "      <td>&lt;https://oceanexpert.org/institution/17542&gt;</td>\n",
       "      <td>schema:Organization</td>\n",
       "      <td>University of North Carolina Wilmington</td>\n",
       "      <td>https://oceanexpert.org/institution/17542</td>\n",
       "      <td>NaN</td>\n",
       "      <td>NaN</td>\n",
       "    </tr>\n",
       "    <tr>\n",
       "      <th>7</th>\n",
       "      <td>&lt;https://oceanexpert.org/institution/6860&gt;</td>\n",
       "      <td>schema:Organization</td>\n",
       "      <td>Intergovernmental Oceanographic Commission of ...</td>\n",
       "      <td>https://oceanexpert.org/institution/6860</td>\n",
       "      <td>NaN</td>\n",
       "      <td>NaN</td>\n",
       "    </tr>\n",
       "    <tr>\n",
       "      <th>8</th>\n",
       "      <td>&lt;https://oceanexpert.org/institution/23182&gt;</td>\n",
       "      <td>schema:Organization</td>\n",
       "      <td>Happywhale</td>\n",
       "      <td>https://oceanexpert.org/institution/23182</td>\n",
       "      <td>NaN</td>\n",
       "      <td>NaN</td>\n",
       "    </tr>\n",
       "    <tr>\n",
       "      <th>9</th>\n",
       "      <td>&lt;https://oceanexpert.org/institution/10047&gt;</td>\n",
       "      <td>schema:Organization</td>\n",
       "      <td>Universidad del Magdalena</td>\n",
       "      <td>https://oceanexpert.org/institution/10047</td>\n",
       "      <td>NaN</td>\n",
       "      <td>NaN</td>\n",
       "    </tr>\n",
       "    <tr>\n",
       "      <th>10</th>\n",
       "      <td>&lt;https://oceanexpert.org/institution/7489&gt;</td>\n",
       "      <td>schema:Organization</td>\n",
       "      <td>National Institute for Water &amp; Atmospheric Res...</td>\n",
       "      <td>https://oceanexpert.org/institution/7489</td>\n",
       "      <td>NaN</td>\n",
       "      <td>NaN</td>\n",
       "    </tr>\n",
       "    <tr>\n",
       "      <th>11</th>\n",
       "      <td>&lt;https://oceanexpert.org/institution/16018&gt;</td>\n",
       "      <td>schema:Organization</td>\n",
       "      <td>Universidad Nacional Autónoma de México</td>\n",
       "      <td>https://oceanexpert.org/institution/16018</td>\n",
       "      <td>NaN</td>\n",
       "      <td>NaN</td>\n",
       "    </tr>\n",
       "    <tr>\n",
       "      <th>12</th>\n",
       "      <td>&lt;https://oceanexpert.org/institution/18705&gt;</td>\n",
       "      <td>schema:Organization</td>\n",
       "      <td>Koninklijk Belgisch Instituut voor Natuurweten...</td>\n",
       "      <td>https://oceanexpert.org/institution/18705</td>\n",
       "      <td>NaN</td>\n",
       "      <td>NaN</td>\n",
       "    </tr>\n",
       "    <tr>\n",
       "      <th>13</th>\n",
       "      <td>&lt;https://oceanexpert.org/institution/17925&gt;</td>\n",
       "      <td>schema:Organization</td>\n",
       "      <td>Instituto de Investigaciones Marinas y  Costeras</td>\n",
       "      <td>https://oceanexpert.org/institution/17925</td>\n",
       "      <td>NaN</td>\n",
       "      <td>NaN</td>\n",
       "    </tr>\n",
       "    <tr>\n",
       "      <th>14</th>\n",
       "      <td>&lt;https://oceanexpert.org/institution/20807&gt;</td>\n",
       "      <td>schema:Organization</td>\n",
       "      <td>Asociación para el Estudio y la Conservación d...</td>\n",
       "      <td>https://oceanexpert.org/institution/20807</td>\n",
       "      <td>NaN</td>\n",
       "      <td>NaN</td>\n",
       "    </tr>\n",
       "    <tr>\n",
       "      <th>15</th>\n",
       "      <td>&lt;https://oceanexpert.org/institution/5028&gt;</td>\n",
       "      <td>schema:Organization</td>\n",
       "      <td>Australian Antarctic Division</td>\n",
       "      <td>https://oceanexpert.org/institution/5028</td>\n",
       "      <td>NaN</td>\n",
       "      <td>NaN</td>\n",
       "    </tr>\n",
       "    <tr>\n",
       "      <th>16</th>\n",
       "      <td>&lt;https://oceanexpert.org/institution/18077&gt;</td>\n",
       "      <td>schema:Organization</td>\n",
       "      <td>University of Tasmania</td>\n",
       "      <td>https://oceanexpert.org/institution/18077</td>\n",
       "      <td>NaN</td>\n",
       "      <td>NaN</td>\n",
       "    </tr>\n",
       "    <tr>\n",
       "      <th>17</th>\n",
       "      <td>&lt;https://oceanexpert.org/institution/9824&gt;</td>\n",
       "      <td>schema:Organization</td>\n",
       "      <td>Institute of Oceanography and  Fisheries Croatia</td>\n",
       "      <td>https://oceanexpert.org/institution/9824</td>\n",
       "      <td>NaN</td>\n",
       "      <td>NaN</td>\n",
       "    </tr>\n",
       "    <tr>\n",
       "      <th>18</th>\n",
       "      <td>&lt;https://oceanexpert.org/institution/6715&gt;</td>\n",
       "      <td>schema:Organization</td>\n",
       "      <td>Hellenic Centre for Marine Research - Institut...</td>\n",
       "      <td>https://oceanexpert.org/institution/6715</td>\n",
       "      <td>NaN</td>\n",
       "      <td>NaN</td>\n",
       "    </tr>\n",
       "    <tr>\n",
       "      <th>19</th>\n",
       "      <td>&lt;https://oceanexpert.org/institution/18892&gt;</td>\n",
       "      <td>schema:Organization</td>\n",
       "      <td>University of Crete</td>\n",
       "      <td>https://oceanexpert.org/institution/18892</td>\n",
       "      <td>NaN</td>\n",
       "      <td>NaN</td>\n",
       "    </tr>\n",
       "  </tbody>\n",
       "</table>\n",
       "</div>"
      ],
      "text/plain": [
       "                                              s                 type  \\\n",
       "0   <https://oceanexpert.org/institution/20942>  schema:Organization   \n",
       "1   <https://oceanexpert.org/institution/19393>  schema:Organization   \n",
       "2   <https://oceanexpert.org/institution/23181>  schema:Organization   \n",
       "3   <https://oceanexpert.org/institution/22762>  schema:Organization   \n",
       "4   <https://oceanexpert.org/institution/13853>  schema:Organization   \n",
       "5   <https://oceanexpert.org/institution/19285>  schema:Organization   \n",
       "6   <https://oceanexpert.org/institution/17542>  schema:Organization   \n",
       "7    <https://oceanexpert.org/institution/6860>  schema:Organization   \n",
       "8   <https://oceanexpert.org/institution/23182>  schema:Organization   \n",
       "9   <https://oceanexpert.org/institution/10047>  schema:Organization   \n",
       "10   <https://oceanexpert.org/institution/7489>  schema:Organization   \n",
       "11  <https://oceanexpert.org/institution/16018>  schema:Organization   \n",
       "12  <https://oceanexpert.org/institution/18705>  schema:Organization   \n",
       "13  <https://oceanexpert.org/institution/17925>  schema:Organization   \n",
       "14  <https://oceanexpert.org/institution/20807>  schema:Organization   \n",
       "15   <https://oceanexpert.org/institution/5028>  schema:Organization   \n",
       "16  <https://oceanexpert.org/institution/18077>  schema:Organization   \n",
       "17   <https://oceanexpert.org/institution/9824>  schema:Organization   \n",
       "18   <https://oceanexpert.org/institution/6715>  schema:Organization   \n",
       "19  <https://oceanexpert.org/institution/18892>  schema:Organization   \n",
       "\n",
       "                                                 name  \\\n",
       "0   CSIRO National Collections and Marine Infrastr...   \n",
       "1                                     Duke University   \n",
       "2                                       SEATURTLE.ORG   \n",
       "3   CSIRO Oceans & Atmosphere, Indian Ocean Marine...   \n",
       "4   Federal University of Rio Grande-FURG, Rio Grande   \n",
       "5           Canadian Wildlife Service - Quebec Region   \n",
       "6             University of North Carolina Wilmington   \n",
       "7   Intergovernmental Oceanographic Commission of ...   \n",
       "8                                          Happywhale   \n",
       "9                           Universidad del Magdalena   \n",
       "10  National Institute for Water & Atmospheric Res...   \n",
       "11            Universidad Nacional Autónoma de México   \n",
       "12  Koninklijk Belgisch Instituut voor Natuurweten...   \n",
       "13   Instituto de Investigaciones Marinas y  Costeras   \n",
       "14  Asociación para el Estudio y la Conservación d...   \n",
       "15                      Australian Antarctic Division   \n",
       "16                             University of Tasmania   \n",
       "17   Institute of Oceanography and  Fisheries Croatia   \n",
       "18  Hellenic Centre for Marine Research - Institut...   \n",
       "19                                University of Crete   \n",
       "\n",
       "                                          url desc keywords  \n",
       "0   https://oceanexpert.org/institution/20942  NaN      NaN  \n",
       "1   https://oceanexpert.org/institution/19393  NaN      NaN  \n",
       "2   https://oceanexpert.org/institution/23181  NaN      NaN  \n",
       "3   https://oceanexpert.org/institution/22762  NaN      NaN  \n",
       "4   https://oceanexpert.org/institution/13853  NaN      NaN  \n",
       "5   https://oceanexpert.org/institution/19285  NaN      NaN  \n",
       "6   https://oceanexpert.org/institution/17542  NaN      NaN  \n",
       "7    https://oceanexpert.org/institution/6860  NaN      NaN  \n",
       "8   https://oceanexpert.org/institution/23182  NaN      NaN  \n",
       "9   https://oceanexpert.org/institution/10047  NaN      NaN  \n",
       "10   https://oceanexpert.org/institution/7489  NaN      NaN  \n",
       "11  https://oceanexpert.org/institution/16018  NaN      NaN  \n",
       "12  https://oceanexpert.org/institution/18705  NaN      NaN  \n",
       "13  https://oceanexpert.org/institution/17925  NaN      NaN  \n",
       "14  https://oceanexpert.org/institution/20807  NaN      NaN  \n",
       "15   https://oceanexpert.org/institution/5028  NaN      NaN  \n",
       "16  https://oceanexpert.org/institution/18077  NaN      NaN  \n",
       "17   https://oceanexpert.org/institution/9824  NaN      NaN  \n",
       "18   https://oceanexpert.org/institution/6715  NaN      NaN  \n",
       "19  https://oceanexpert.org/institution/18892  NaN      NaN  "
      ]
     },
     "execution_count": 20,
     "metadata": {},
     "output_type": "execute_result"
    }
   ],
   "source": [
    "pdf.head(20)\n"
   ]
  },
  {
   "cell_type": "markdown",
   "metadata": {},
   "source": [
    "### Convert to GeoPandas\n",
    "\n",
    "In the case of the result set being spatial, as in the case of the WMO query, we can turn these into true geometries in order to export to things like GeoJSON or GeoPackage."
   ]
  },
  {
   "cell_type": "code",
   "execution_count": 12,
   "metadata": {
    "ExecuteTime": {
     "end_time": "2023-06-27T13:27:56.770974212Z",
     "start_time": "2023-06-27T13:27:56.756436745Z"
    },
    "collapsed": false,
    "jupyter": {
     "outputs_hidden": false
    }
   },
   "outputs": [],
   "source": [
    "pdf['WKT'] = pdf['geom'].apply(to_wkt)"
   ]
  },
  {
   "cell_type": "code",
   "execution_count": 13,
   "metadata": {
    "ExecuteTime": {
     "end_time": "2023-06-27T13:27:56.845784512Z",
     "start_time": "2023-06-27T13:27:56.768160201Z"
    },
    "collapsed": false,
    "jupyter": {
     "outputs_hidden": false
    }
   },
   "outputs": [],
   "source": [
    "pdf.to_parquet('test_obis.parquet') # needs to be done before geometry conversion/column add"
   ]
  },
  {
   "cell_type": "code",
   "execution_count": 14,
   "metadata": {
    "ExecuteTime": {
     "end_time": "2023-06-27T13:27:56.879280004Z",
     "start_time": "2023-06-27T13:27:56.822510614Z"
    },
    "collapsed": false,
    "jupyter": {
     "outputs_hidden": false
    }
   },
   "outputs": [],
   "source": [
    "pdf['geometry'] = pdf['WKT'].apply(wkt.loads)\n",
    "gdf = gpd.GeoDataFrame(pdf, geometry='geometry')"
   ]
  },
  {
   "cell_type": "code",
   "execution_count": 15,
   "metadata": {
    "ExecuteTime": {
     "end_time": "2023-06-27T13:27:56.917737237Z",
     "start_time": "2023-06-27T13:27:56.916833698Z"
    },
    "collapsed": false,
    "jupyter": {
     "outputs_hidden": false
    }
   },
   "outputs": [
    {
     "data": {
      "text/html": [
       "<div>\n",
       "<style scoped>\n",
       "    .dataframe tbody tr th:only-of-type {\n",
       "        vertical-align: middle;\n",
       "    }\n",
       "\n",
       "    .dataframe tbody tr th {\n",
       "        vertical-align: top;\n",
       "    }\n",
       "\n",
       "    .dataframe thead th {\n",
       "        text-align: right;\n",
       "    }\n",
       "</style>\n",
       "<table border=\"1\" class=\"dataframe\">\n",
       "  <thead>\n",
       "    <tr style=\"text-align: right;\">\n",
       "      <th></th>\n",
       "      <th>s</th>\n",
       "      <th>name</th>\n",
       "      <th>description</th>\n",
       "      <th>geotype</th>\n",
       "      <th>geompred</th>\n",
       "      <th>geom</th>\n",
       "      <th>WKT</th>\n",
       "      <th>geometry</th>\n",
       "    </tr>\n",
       "  </thead>\n",
       "  <tbody>\n",
       "    <tr>\n",
       "      <th>0</th>\n",
       "      <td>&lt;https://obis.org/dataset/1057a007-c31c-48a3-a...</td>\n",
       "      <td>Census of annual pup production by Australian ...</td>\n",
       "      <td>In Australia, it is thought that up to 26 Aust...</td>\n",
       "      <td>schema:GeoShape</td>\n",
       "      <td>schema:polygon</td>\n",
       "      <td>135.96667 -43.63333,135.96667 -35.01667,150.23...</td>\n",
       "      <td>POLYGON ((135.96667 -43.63333, 135.96667 -35.0...</td>\n",
       "      <td>POLYGON ((135.96667 -43.63333, 135.96667 -35.0...</td>\n",
       "    </tr>\n",
       "    <tr>\n",
       "      <th>1</th>\n",
       "      <td>&lt;https://obis.org/dataset/d64477cf-491f-4de5-8...</td>\n",
       "      <td>Canary Islands - OAG (aggregated per 1-degree ...</td>\n",
       "      <td>Original provider:\\nObservatorio Ambiental Gra...</td>\n",
       "      <td>schema:GeoShape</td>\n",
       "      <td>schema:polygon</td>\n",
       "      <td>-74.5 5.5,-74.5 45.5,32.5 45.5,32.5 5.5,-74.5 5.5</td>\n",
       "      <td>POLYGON ((-74.5 5.5, -74.5 45.5, 32.5 45.5, 32...</td>\n",
       "      <td>POLYGON ((-74.50000 5.50000, -74.50000 45.5000...</td>\n",
       "    </tr>\n",
       "    <tr>\n",
       "      <th>2</th>\n",
       "      <td>&lt;https://obis.org/dataset/e71d452f-615e-4654-b...</td>\n",
       "      <td>Virginia and Maryland Sea Turtle Research and ...</td>\n",
       "      <td>Original provider:\\nVirginia Aquarium and Mari...</td>\n",
       "      <td>schema:GeoShape</td>\n",
       "      <td>schema:polygon</td>\n",
       "      <td>-76.39647 36.58278,-76.39647 38.52142,-74.3984...</td>\n",
       "      <td>POLYGON ((-76.39647 36.58278, -76.39647 38.521...</td>\n",
       "      <td>POLYGON ((-76.39647 36.58278, -76.39647 38.521...</td>\n",
       "    </tr>\n",
       "    <tr>\n",
       "      <th>3</th>\n",
       "      <td>&lt;https://obis.org/dataset/49f74e10-b23b-4aca-a...</td>\n",
       "      <td>Species assemblages, biomass and regional habi...</td>\n",
       "      <td>Tow video and epibenthic sled collections were...</td>\n",
       "      <td>schema:GeoShape</td>\n",
       "      <td>schema:polygon</td>\n",
       "      <td>124.05919 -15.94544,124.05919 -15.22044,124.69...</td>\n",
       "      <td>POLYGON ((124.05919 -15.94544, 124.05919 -15.2...</td>\n",
       "      <td>POLYGON ((124.05919 -15.94544, 124.05919 -15.2...</td>\n",
       "    </tr>\n",
       "    <tr>\n",
       "      <th>4</th>\n",
       "      <td>&lt;https://obis.org/dataset/9a37fc55-1fc8-4c19-b...</td>\n",
       "      <td>PIROP Northwest Atlantic 1965-1992</td>\n",
       "      <td>Original provider:\\nCanadian Wildlife Service\\...</td>\n",
       "      <td>schema:GeoShape</td>\n",
       "      <td>schema:polygon</td>\n",
       "      <td>-149.5667 -25.15,-149.5667 79.7833,18.5667 79....</td>\n",
       "      <td>POLYGON ((-149.5667 -25.15, -149.5667 79.7833,...</td>\n",
       "      <td>POLYGON ((-149.56670 -25.15000, -149.56670 79....</td>\n",
       "    </tr>\n",
       "    <tr>\n",
       "      <th>5</th>\n",
       "      <td>&lt;https://obis.org/dataset/1d81a51c-66fc-46bf-a...</td>\n",
       "      <td>USWTR JAX Aerial Survey -Left side- 2011-2012</td>\n",
       "      <td>Original provider:\\nUniversity of North Caroli...</td>\n",
       "      <td>schema:GeoShape</td>\n",
       "      <td>schema:polygon</td>\n",
       "      <td>-80.690317 29.954577,-80.690317 30.574196,-79....</td>\n",
       "      <td>POLYGON ((-80.690317 29.954577, -80.690317 30....</td>\n",
       "      <td>POLYGON ((-80.69032 29.95458, -80.69032 30.574...</td>\n",
       "    </tr>\n",
       "    <tr>\n",
       "      <th>6</th>\n",
       "      <td>&lt;https://obis.org/dataset/a595a9a0-642a-473f-8...</td>\n",
       "      <td>Electronic Atlas of Ichthyoplankton on the Sco...</td>\n",
       "      <td>The EAISSNA database contains information on l...</td>\n",
       "      <td>schema:GeoShape</td>\n",
       "      <td>schema:polygon</td>\n",
       "      <td>-73.5 12.5,-73.5 56,55 56,55 12.5,-73.5 12.5</td>\n",
       "      <td>POLYGON ((-73.5 12.5, -73.5 56, 55 56, 55 12.5...</td>\n",
       "      <td>POLYGON ((-73.50000 12.50000, -73.50000 56.000...</td>\n",
       "    </tr>\n",
       "    <tr>\n",
       "      <th>7</th>\n",
       "      <td>&lt;https://obis.org/dataset/32948ff1-6f03-4877-b...</td>\n",
       "      <td>Happywhale - Bryde's whale in South Atlantic O...</td>\n",
       "      <td>Original provider:\\nHappywhale\\n\\nDataset cred...</td>\n",
       "      <td>schema:GeoShape</td>\n",
       "      <td>schema:polygon</td>\n",
       "      <td>18.291666 -34.501803,18.291666 -34.058889,19.3...</td>\n",
       "      <td>POLYGON ((18.291666 -34.501803, 18.291666 -34....</td>\n",
       "      <td>POLYGON ((18.29167 -34.50180, 18.29167 -34.058...</td>\n",
       "    </tr>\n",
       "    <tr>\n",
       "      <th>8</th>\n",
       "      <td>&lt;https://obis.org/dataset/0abb8cc1-8651-4213-a...</td>\n",
       "      <td>Colección de Gusanos Cinta (Nemertea) de la re...</td>\n",
       "      <td>El phylum Nemertea está formado por un pequeño...</td>\n",
       "      <td>schema:GeoShape</td>\n",
       "      <td>schema:polygon</td>\n",
       "      <td>-74.32758 10.97982,-74.32758 11.26469,-74.1913...</td>\n",
       "      <td>POLYGON ((-74.32758 10.97982, -74.32758 11.264...</td>\n",
       "      <td>POLYGON ((-74.32758 10.97982, -74.32758 11.264...</td>\n",
       "    </tr>\n",
       "    <tr>\n",
       "      <th>9</th>\n",
       "      <td>&lt;https://obis.org/dataset/937da8a1-06b0-40ad-8...</td>\n",
       "      <td>BOLD - Australian records</td>\n",
       "      <td>Barcode of Life data extract, October 2010\\n\\n...</td>\n",
       "      <td>schema:GeoShape</td>\n",
       "      <td>schema:polygon</td>\n",
       "      <td>67.083 -56.733,67.083 -9.367,168.41701 -9.367,...</td>\n",
       "      <td>POLYGON ((67.083 -56.733, 67.083 -9.367, 168.4...</td>\n",
       "      <td>POLYGON ((67.08300 -56.73300, 67.08300 -9.3670...</td>\n",
       "    </tr>\n",
       "    <tr>\n",
       "      <th>10</th>\n",
       "      <td>&lt;https://obis.org/dataset/dcf57651-a262-47db-b...</td>\n",
       "      <td>Fish distribution data, Mayor Is. (Tuhua) mar...</td>\n",
       "      <td>The Mayor Island (Tuhua) marine reserve was cr...</td>\n",
       "      <td>schema:GeoShape</td>\n",
       "      <td>schema:polygon</td>\n",
       "      <td>176.23105 -37.30811,176.23105 -37.2595,176.288...</td>\n",
       "      <td>POLYGON ((176.23105 -37.30811, 176.23105 -37.2...</td>\n",
       "      <td>POLYGON ((176.23105 -37.30811, 176.23105 -37.2...</td>\n",
       "    </tr>\n",
       "    <tr>\n",
       "      <th>11</th>\n",
       "      <td>&lt;https://obis.org/dataset/84e8941c-61e1-40ea-b...</td>\n",
       "      <td>Benthic Polychaeta (Annelida) from the contine...</td>\n",
       "      <td>The biological material was collected on board...</td>\n",
       "      <td>schema:GeoShape</td>\n",
       "      <td>schema:polygon</td>\n",
       "      <td>-101.033833 16.7259,-101.033833 17.2353,-99.81...</td>\n",
       "      <td>POLYGON ((-101.033833 16.7259, -101.033833 17....</td>\n",
       "      <td>POLYGON ((-101.03383 16.72590, -101.03383 17.2...</td>\n",
       "    </tr>\n",
       "    <tr>\n",
       "      <th>12</th>\n",
       "      <td>&lt;https://obis.org/dataset/561441ab-128b-4be7-8...</td>\n",
       "      <td>SEAPOP NINA</td>\n",
       "      <td>SEAPOP (SEAbird POPulations) is a long-term mo...</td>\n",
       "      <td>schema:GeoShape</td>\n",
       "      <td>schema:polygon</td>\n",
       "      <td>3.4158 5.9056,3.4158 71.1947,31.1739 71.1947,3...</td>\n",
       "      <td>POLYGON ((3.4158 5.9056, 3.4158 71.1947, 31.17...</td>\n",
       "      <td>POLYGON ((3.41580 5.90560, 3.41580 71.19470, 3...</td>\n",
       "    </tr>\n",
       "    <tr>\n",
       "      <th>13</th>\n",
       "      <td>&lt;https://obis.org/dataset/2db91196-579a-4f1f-8...</td>\n",
       "      <td>Weddell Seal Sightings, Vestfold Hills, Antarc...</td>\n",
       "      <td>Ground based sightings of Weddell seals restin...</td>\n",
       "      <td>schema:GeoShape</td>\n",
       "      <td>schema:polygon</td>\n",
       "      <td>62.867 -69.7,62.867 -67.617,78.7333333333 -67....</td>\n",
       "      <td>POLYGON ((62.867 -69.7, 62.867 -67.617, 78.733...</td>\n",
       "      <td>POLYGON ((62.86700 -69.70000, 62.86700 -67.617...</td>\n",
       "    </tr>\n",
       "    <tr>\n",
       "      <th>14</th>\n",
       "      <td>&lt;https://obis.org/dataset/d5cd9197-6fce-46f4-a...</td>\n",
       "      <td>Cape Hatteras 04-05</td>\n",
       "      <td>Original provider:\\nDuke University Marine Lab...</td>\n",
       "      <td>schema:GeoShape</td>\n",
       "      <td>schema:polygon</td>\n",
       "      <td>-77.1 34.2832,-77.1 36.4893,-74.497 36.4893,-7...</td>\n",
       "      <td>POLYGON ((-77.1 34.2832, -77.1 36.4893, -74.49...</td>\n",
       "      <td>POLYGON ((-77.10000 34.28320, -77.10000 36.489...</td>\n",
       "    </tr>\n",
       "    <tr>\n",
       "      <th>15</th>\n",
       "      <td>&lt;https://obis.org/dataset/0b1ec148-693f-4517-b...</td>\n",
       "      <td>Censo abundancia de aves en los Parques Nacion...</td>\n",
       "      <td>699 Registros recopilados durante las jornadas...</td>\n",
       "      <td>schema:GeoShape</td>\n",
       "      <td>schema:polygon</td>\n",
       "      <td>-81.35911203 3.896896988,-81.35911203 13.37633...</td>\n",
       "      <td>POLYGON ((-81.35911203 3.896896988, -81.359112...</td>\n",
       "      <td>POLYGON ((-81.35911 3.89690, -81.35911 13.3763...</td>\n",
       "    </tr>\n",
       "    <tr>\n",
       "      <th>16</th>\n",
       "      <td>&lt;https://obis.org/dataset/47ab07e9-ac50-47b1-9...</td>\n",
       "      <td>AMAPPS Northeast Aerial Cruise Spring 2017</td>\n",
       "      <td>Original provider:\\nNOAA Northeast Fisheries S...</td>\n",
       "      <td>schema:GeoShape</td>\n",
       "      <td>schema:polygon</td>\n",
       "      <td>-73.677971 38.948364,-73.677971 44.966145,-62....</td>\n",
       "      <td>POLYGON ((-73.677971 38.948364, -73.677971 44....</td>\n",
       "      <td>POLYGON ((-73.67797 38.94836, -73.67797 44.966...</td>\n",
       "    </tr>\n",
       "    <tr>\n",
       "      <th>17</th>\n",
       "      <td>&lt;https://obis.org/dataset/a7c96474-3f59-4901-8...</td>\n",
       "      <td>Squid collection from 1995/96 V4 BROKE</td>\n",
       "      <td>Squid collected as a product of fish surveys. ...</td>\n",
       "      <td>schema:GeoShape</td>\n",
       "      <td>schema:polygon</td>\n",
       "      <td>79.99016667 -65.48433333,79.99016667 -62.57283...</td>\n",
       "      <td>POLYGON ((79.99016667 -65.48433333, 79.9901666...</td>\n",
       "      <td>POLYGON ((79.99017 -65.48433, 79.99017 -62.572...</td>\n",
       "    </tr>\n",
       "    <tr>\n",
       "      <th>18</th>\n",
       "      <td>&lt;https://obis.org/dataset/5f9b72c9-8d4c-450d-a...</td>\n",
       "      <td>Kimberley Islands Biodiversity Survey (Birds)</td>\n",
       "      <td>Dataset collected as part of the Kimberley Isl...</td>\n",
       "      <td>schema:GeoShape</td>\n",
       "      <td>schema:polygon</td>\n",
       "      <td>123.179 -16.6231,123.179 -13.8712,128.30099 -1...</td>\n",
       "      <td>POLYGON ((123.179 -16.6231, 123.179 -13.8712, ...</td>\n",
       "      <td>POLYGON ((123.17900 -16.62310, 123.17900 -13.8...</td>\n",
       "    </tr>\n",
       "    <tr>\n",
       "      <th>19</th>\n",
       "      <td>&lt;https://obis.org/dataset/c7f56175-96a0-4e82-b...</td>\n",
       "      <td>Mortensen Th. And Steuer Ad. 1937. The fishery...</td>\n",
       "      <td>This is a historical dataset that was publishe...</td>\n",
       "      <td>schema:GeoShape</td>\n",
       "      <td>schema:polygon</td>\n",
       "      <td>29.659635 31.123853,29.659635 31.459032,30.344...</td>\n",
       "      <td>POLYGON ((29.659635 31.123853, 29.659635 31.45...</td>\n",
       "      <td>POLYGON ((29.65964 31.12385, 29.65964 31.45903...</td>\n",
       "    </tr>\n",
       "  </tbody>\n",
       "</table>\n",
       "</div>"
      ],
      "text/plain": [
       "                                                    s  \\\n",
       "0   <https://obis.org/dataset/1057a007-c31c-48a3-a...   \n",
       "1   <https://obis.org/dataset/d64477cf-491f-4de5-8...   \n",
       "2   <https://obis.org/dataset/e71d452f-615e-4654-b...   \n",
       "3   <https://obis.org/dataset/49f74e10-b23b-4aca-a...   \n",
       "4   <https://obis.org/dataset/9a37fc55-1fc8-4c19-b...   \n",
       "5   <https://obis.org/dataset/1d81a51c-66fc-46bf-a...   \n",
       "6   <https://obis.org/dataset/a595a9a0-642a-473f-8...   \n",
       "7   <https://obis.org/dataset/32948ff1-6f03-4877-b...   \n",
       "8   <https://obis.org/dataset/0abb8cc1-8651-4213-a...   \n",
       "9   <https://obis.org/dataset/937da8a1-06b0-40ad-8...   \n",
       "10  <https://obis.org/dataset/dcf57651-a262-47db-b...   \n",
       "11  <https://obis.org/dataset/84e8941c-61e1-40ea-b...   \n",
       "12  <https://obis.org/dataset/561441ab-128b-4be7-8...   \n",
       "13  <https://obis.org/dataset/2db91196-579a-4f1f-8...   \n",
       "14  <https://obis.org/dataset/d5cd9197-6fce-46f4-a...   \n",
       "15  <https://obis.org/dataset/0b1ec148-693f-4517-b...   \n",
       "16  <https://obis.org/dataset/47ab07e9-ac50-47b1-9...   \n",
       "17  <https://obis.org/dataset/a7c96474-3f59-4901-8...   \n",
       "18  <https://obis.org/dataset/5f9b72c9-8d4c-450d-a...   \n",
       "19  <https://obis.org/dataset/c7f56175-96a0-4e82-b...   \n",
       "\n",
       "                                                 name  \\\n",
       "0   Census of annual pup production by Australian ...   \n",
       "1   Canary Islands - OAG (aggregated per 1-degree ...   \n",
       "2   Virginia and Maryland Sea Turtle Research and ...   \n",
       "3   Species assemblages, biomass and regional habi...   \n",
       "4                  PIROP Northwest Atlantic 1965-1992   \n",
       "5       USWTR JAX Aerial Survey -Left side- 2011-2012   \n",
       "6   Electronic Atlas of Ichthyoplankton on the Sco...   \n",
       "7   Happywhale - Bryde's whale in South Atlantic O...   \n",
       "8   Colección de Gusanos Cinta (Nemertea) de la re...   \n",
       "9                           BOLD - Australian records   \n",
       "10   Fish distribution data, Mayor Is. (Tuhua) mar...   \n",
       "11  Benthic Polychaeta (Annelida) from the contine...   \n",
       "12                                        SEAPOP NINA   \n",
       "13  Weddell Seal Sightings, Vestfold Hills, Antarc...   \n",
       "14                                Cape Hatteras 04-05   \n",
       "15  Censo abundancia de aves en los Parques Nacion...   \n",
       "16         AMAPPS Northeast Aerial Cruise Spring 2017   \n",
       "17             Squid collection from 1995/96 V4 BROKE   \n",
       "18      Kimberley Islands Biodiversity Survey (Birds)   \n",
       "19  Mortensen Th. And Steuer Ad. 1937. The fishery...   \n",
       "\n",
       "                                          description          geotype  \\\n",
       "0   In Australia, it is thought that up to 26 Aust...  schema:GeoShape   \n",
       "1   Original provider:\\nObservatorio Ambiental Gra...  schema:GeoShape   \n",
       "2   Original provider:\\nVirginia Aquarium and Mari...  schema:GeoShape   \n",
       "3   Tow video and epibenthic sled collections were...  schema:GeoShape   \n",
       "4   Original provider:\\nCanadian Wildlife Service\\...  schema:GeoShape   \n",
       "5   Original provider:\\nUniversity of North Caroli...  schema:GeoShape   \n",
       "6   The EAISSNA database contains information on l...  schema:GeoShape   \n",
       "7   Original provider:\\nHappywhale\\n\\nDataset cred...  schema:GeoShape   \n",
       "8   El phylum Nemertea está formado por un pequeño...  schema:GeoShape   \n",
       "9   Barcode of Life data extract, October 2010\\n\\n...  schema:GeoShape   \n",
       "10  The Mayor Island (Tuhua) marine reserve was cr...  schema:GeoShape   \n",
       "11  The biological material was collected on board...  schema:GeoShape   \n",
       "12  SEAPOP (SEAbird POPulations) is a long-term mo...  schema:GeoShape   \n",
       "13  Ground based sightings of Weddell seals restin...  schema:GeoShape   \n",
       "14  Original provider:\\nDuke University Marine Lab...  schema:GeoShape   \n",
       "15  699 Registros recopilados durante las jornadas...  schema:GeoShape   \n",
       "16  Original provider:\\nNOAA Northeast Fisheries S...  schema:GeoShape   \n",
       "17  Squid collected as a product of fish surveys. ...  schema:GeoShape   \n",
       "18  Dataset collected as part of the Kimberley Isl...  schema:GeoShape   \n",
       "19  This is a historical dataset that was publishe...  schema:GeoShape   \n",
       "\n",
       "          geompred                                               geom  \\\n",
       "0   schema:polygon  135.96667 -43.63333,135.96667 -35.01667,150.23...   \n",
       "1   schema:polygon  -74.5 5.5,-74.5 45.5,32.5 45.5,32.5 5.5,-74.5 5.5   \n",
       "2   schema:polygon  -76.39647 36.58278,-76.39647 38.52142,-74.3984...   \n",
       "3   schema:polygon  124.05919 -15.94544,124.05919 -15.22044,124.69...   \n",
       "4   schema:polygon  -149.5667 -25.15,-149.5667 79.7833,18.5667 79....   \n",
       "5   schema:polygon  -80.690317 29.954577,-80.690317 30.574196,-79....   \n",
       "6   schema:polygon       -73.5 12.5,-73.5 56,55 56,55 12.5,-73.5 12.5   \n",
       "7   schema:polygon  18.291666 -34.501803,18.291666 -34.058889,19.3...   \n",
       "8   schema:polygon  -74.32758 10.97982,-74.32758 11.26469,-74.1913...   \n",
       "9   schema:polygon  67.083 -56.733,67.083 -9.367,168.41701 -9.367,...   \n",
       "10  schema:polygon  176.23105 -37.30811,176.23105 -37.2595,176.288...   \n",
       "11  schema:polygon  -101.033833 16.7259,-101.033833 17.2353,-99.81...   \n",
       "12  schema:polygon  3.4158 5.9056,3.4158 71.1947,31.1739 71.1947,3...   \n",
       "13  schema:polygon  62.867 -69.7,62.867 -67.617,78.7333333333 -67....   \n",
       "14  schema:polygon  -77.1 34.2832,-77.1 36.4893,-74.497 36.4893,-7...   \n",
       "15  schema:polygon  -81.35911203 3.896896988,-81.35911203 13.37633...   \n",
       "16  schema:polygon  -73.677971 38.948364,-73.677971 44.966145,-62....   \n",
       "17  schema:polygon  79.99016667 -65.48433333,79.99016667 -62.57283...   \n",
       "18  schema:polygon  123.179 -16.6231,123.179 -13.8712,128.30099 -1...   \n",
       "19  schema:polygon  29.659635 31.123853,29.659635 31.459032,30.344...   \n",
       "\n",
       "                                                  WKT  \\\n",
       "0   POLYGON ((135.96667 -43.63333, 135.96667 -35.0...   \n",
       "1   POLYGON ((-74.5 5.5, -74.5 45.5, 32.5 45.5, 32...   \n",
       "2   POLYGON ((-76.39647 36.58278, -76.39647 38.521...   \n",
       "3   POLYGON ((124.05919 -15.94544, 124.05919 -15.2...   \n",
       "4   POLYGON ((-149.5667 -25.15, -149.5667 79.7833,...   \n",
       "5   POLYGON ((-80.690317 29.954577, -80.690317 30....   \n",
       "6   POLYGON ((-73.5 12.5, -73.5 56, 55 56, 55 12.5...   \n",
       "7   POLYGON ((18.291666 -34.501803, 18.291666 -34....   \n",
       "8   POLYGON ((-74.32758 10.97982, -74.32758 11.264...   \n",
       "9   POLYGON ((67.083 -56.733, 67.083 -9.367, 168.4...   \n",
       "10  POLYGON ((176.23105 -37.30811, 176.23105 -37.2...   \n",
       "11  POLYGON ((-101.033833 16.7259, -101.033833 17....   \n",
       "12  POLYGON ((3.4158 5.9056, 3.4158 71.1947, 31.17...   \n",
       "13  POLYGON ((62.867 -69.7, 62.867 -67.617, 78.733...   \n",
       "14  POLYGON ((-77.1 34.2832, -77.1 36.4893, -74.49...   \n",
       "15  POLYGON ((-81.35911203 3.896896988, -81.359112...   \n",
       "16  POLYGON ((-73.677971 38.948364, -73.677971 44....   \n",
       "17  POLYGON ((79.99016667 -65.48433333, 79.9901666...   \n",
       "18  POLYGON ((123.179 -16.6231, 123.179 -13.8712, ...   \n",
       "19  POLYGON ((29.659635 31.123853, 29.659635 31.45...   \n",
       "\n",
       "                                             geometry  \n",
       "0   POLYGON ((135.96667 -43.63333, 135.96667 -35.0...  \n",
       "1   POLYGON ((-74.50000 5.50000, -74.50000 45.5000...  \n",
       "2   POLYGON ((-76.39647 36.58278, -76.39647 38.521...  \n",
       "3   POLYGON ((124.05919 -15.94544, 124.05919 -15.2...  \n",
       "4   POLYGON ((-149.56670 -25.15000, -149.56670 79....  \n",
       "5   POLYGON ((-80.69032 29.95458, -80.69032 30.574...  \n",
       "6   POLYGON ((-73.50000 12.50000, -73.50000 56.000...  \n",
       "7   POLYGON ((18.29167 -34.50180, 18.29167 -34.058...  \n",
       "8   POLYGON ((-74.32758 10.97982, -74.32758 11.264...  \n",
       "9   POLYGON ((67.08300 -56.73300, 67.08300 -9.3670...  \n",
       "10  POLYGON ((176.23105 -37.30811, 176.23105 -37.2...  \n",
       "11  POLYGON ((-101.03383 16.72590, -101.03383 17.2...  \n",
       "12  POLYGON ((3.41580 5.90560, 3.41580 71.19470, 3...  \n",
       "13  POLYGON ((62.86700 -69.70000, 62.86700 -67.617...  \n",
       "14  POLYGON ((-77.10000 34.28320, -77.10000 36.489...  \n",
       "15  POLYGON ((-81.35911 3.89690, -81.35911 13.3763...  \n",
       "16  POLYGON ((-73.67797 38.94836, -73.67797 44.966...  \n",
       "17  POLYGON ((79.99017 -65.48433, 79.99017 -62.572...  \n",
       "18  POLYGON ((123.17900 -16.62310, 123.17900 -13.8...  \n",
       "19  POLYGON ((29.65964 31.12385, 29.65964 31.45903...  "
      ]
     },
     "execution_count": 15,
     "metadata": {},
     "output_type": "execute_result"
    }
   ],
   "source": [
    "gdf.head(20)"
   ]
  },
  {
   "cell_type": "code",
   "execution_count": 16,
   "metadata": {
    "ExecuteTime": {
     "end_time": "2023-06-27T13:27:59.461972589Z",
     "start_time": "2023-06-27T13:27:56.917554934Z"
    },
    "collapsed": false,
    "jupyter": {
     "outputs_hidden": false
    }
   },
   "outputs": [
    {
     "data": {
      "text/plain": [
       "<AxesSubplot: >"
      ]
     },
     "execution_count": 16,
     "metadata": {},
     "output_type": "execute_result"
    },
    {
     "data": {
      "image/png": "[encoded data removed]",
      "text/plain": [
       "<Figure size 1080x1080 with 1 Axes>"
      ]
     },
     "metadata": {
      "needs_background": "light"
     },
     "output_type": "display_data"
    }
   ],
   "source": [
    "counties = \"https://raw.githubusercontent.com/deldersveld/topojson/master/world-countries.json\"\n",
    "cgpd = gpd.read_file(counties)\n",
    "\n",
    "combined = gdf.append(cgpd)\n",
    "ax = combined.plot(color='white', edgecolor='black', figsize=(15,15))\n",
    "\n",
    "# ax = gdf.plot(color='white', edgecolor='black', figsize=(15,15))\n",
    "combined.plot(ax=ax, color='blue', alpha=0.005) # We can now plot our ``GeoDataFrame``."
   ]
  },
  {
   "cell_type": "code",
   "execution_count": 17,
   "metadata": {
    "ExecuteTime": {
     "end_time": "2023-06-27T13:28:00.105397627Z",
     "start_time": "2023-06-27T13:27:59.461127091Z"
    },
    "collapsed": false,
    "jupyter": {
     "outputs_hidden": false
    }
   },
   "outputs": [],
   "source": [
    "gdf.to_file(\"test_obis.geojson\", driver='GeoJSON')"
   ]
  },
  {
   "cell_type": "markdown",
   "metadata": {},
   "source": [
    "### Save to JSON Lines format\n"
   ]
  },
  {
   "cell_type": "code",
   "execution_count": 14,
   "metadata": {
    "ExecuteTime": {
     "end_time": "2023-06-14T01:23:57.277554623Z",
     "start_time": "2023-06-14T01:23:57.267043499Z"
    },
    "tags": []
   },
   "outputs": [],
   "source": [
    "# Convert data frame to JSON lines format\n",
    "json_lines = pdf.to_json(orient='records', lines=True)\n",
    "\n",
    "# Write JSON lines to a file\n",
    "with open(\"pdf.jsonl\", \"w\") as f:\n",
    "    f.write(json_lines)"
   ]
  },
  {
   "cell_type": "markdown",
   "metadata": {},
   "source": [
    "## Dashboard product\n",
    "\n",
    "In this section we will loop over the files, load them and query and then save to parquet\n"
   ]
  },
  {
   "cell_type": "code",
   "execution_count": 21,
   "metadata": {
    "ExecuteTime": {
     "end_time": "2023-07-12T15:23:13.621629330Z",
     "start_time": "2023-07-12T15:17:07.877150954Z"
    },
    "collapsed": false,
    "jupyter": {
     "outputs_hidden": false
    }
   },
   "outputs": [
    {
     "name": "stdout",
     "output_type": "stream",
     "text": [
      "Loading http://ossapi.oceaninfohub.org/public/graphs/summonedafricaioc_v1_release.nq\n",
      "3193\n",
      "Loading http://ossapi.oceaninfohub.org/public/graphs/summonedaquadocs_v1_release.nq\n",
      "1102997\n",
      "Loading http://ossapi.oceaninfohub.org/public/graphs/summonedcioos_v1_release.nq\n",
      "145779\n",
      "Loading http://ossapi.oceaninfohub.org/public/graphs/summonededmerp_v1_release.nq\n",
      "73543\n",
      "Loading http://ossapi.oceaninfohub.org/public/graphs/summonededmo_v1_release.nq\n",
      "101850\n",
      "Loading http://ossapi.oceaninfohub.org/public/graphs/summonedemodnet_v1_release.nq\n",
      "1245\n",
      "Loading http://ossapi.oceaninfohub.org/public/graphs/summonedinanodc_v1_release.nq\n",
      "499\n",
      "Loading http://ossapi.oceaninfohub.org/public/graphs/summonedinvemardocuments_v1_release.nq\n",
      "133485\n",
      "Loading http://ossapi.oceaninfohub.org/public/graphs/summonedinvemarexperts_v1_release.nq\n",
      "14638\n",
      "Loading http://ossapi.oceaninfohub.org/public/graphs/summonedinvemarinstitutions_v1_release.nq\n",
      "3221\n",
      "Loading http://ossapi.oceaninfohub.org/public/graphs/summonedinvemartraining_v1_release.nq\n",
      "6221\n",
      "Loading http://ossapi.oceaninfohub.org/public/graphs/summonedinvemarvessels_v1_release.nq\n",
      "926\n",
      "Loading http://ossapi.oceaninfohub.org/public/graphs/summonedmarinetraining_v1_release.nq\n",
      "11160\n",
      "Loading http://ossapi.oceaninfohub.org/public/graphs/summonedobis_v1_release.nq\n",
      "161187\n",
      "Loading http://ossapi.oceaninfohub.org/public/graphs/summonedobps_v1_release.nq\n",
      "56795\n",
      "Loading http://ossapi.oceaninfohub.org/public/graphs/summonedoceanexperts_v1_release.nq\n",
      "901711\n",
      "Loading http://ossapi.oceaninfohub.org/public/graphs/summonedpdh_v1_release.nq\n",
      "369702\n"
     ]
    }
   ],
   "source": [
    "for u in urls:\n",
    "    print(\"Loading {}\".format(u))\n",
    "    g = ConjunctiveGraph()\n",
    "    g.parse(u, format=\"nquads\")\n",
    "    print(len(g))\n",
    "    namespaces = {\n",
    "        \"shacl\":   \"http://www.w3.org/ns/shacl#\" ,\n",
    "        \"schema\":   \"https://schema.org/\" ,\n",
    "        \"schemawrong\": \"http://schema.org/\",\n",
    "        \"geo\":      \"http://www.opengis.net/ont/geosparql#\",\n",
    "    }\n",
    "\n",
    "    # get the name of the provider from the release graph file name\n",
    "    result = re.search('(?:summoned)(.*)(?:_v1_)', u)\n",
    "    extracted_text = result.group(1)\n",
    "\n",
    "    # import the file\n",
    "    kg = kglab.KnowledgeGraph(name = \"OIH test\", base_uri = \"https://oceaninfohub.org/id/\", namespaces = namespaces, use_gpus=True, import_graph = g)\n",
    "\n",
    "    # run the query\n",
    "    pdf = kg.query_as_df(sparqlcore)\n",
    "\n",
    "    # add a column with the provider name in it\n",
    "    pdf['provder'] = extracted_text\n",
    "\n",
    "    # save to parquet\n",
    "    pdf.to_parquet('./graphparquet/{}.parquet'.format(extracted_text))\n",
    "\n"
   ]
  },
  {
   "cell_type": "code",
   "execution_count": 22,
   "metadata": {
    "ExecuteTime": {
     "end_time": "2023-07-12T15:24:45.249665535Z",
     "start_time": "2023-07-12T15:24:42.536464060Z"
    },
    "collapsed": false,
    "jupyter": {
     "outputs_hidden": false
    }
   },
   "outputs": [],
   "source": [
    "import pandas as pd\n",
    "\n",
    "directory = './graphparquet'\n",
    "\n",
    "# This will list all files in the directory that end with .parquet.\n",
    "files = [f for f in os.listdir(directory) if f.endswith('.parquet')]\n",
    "\n",
    "# Empty DataFrame to which we'll append each individual file.\n",
    "combined_df = pd.DataFrame()\n",
    "\n",
    "for file in files:\n",
    "    # Complete file path.\n",
    "    file_path = os.path.join(directory, file)\n",
    "\n",
    "    # Read the parquet file.\n",
    "    df = pd.read_parquet(file_path)\n",
    "\n",
    "    # Append it to the combined DataFrame.\n",
    "    combined_df = combined_df.append(df)\n",
    "\n",
    "# If you want to write this combined DataFrame to a new Parquet file:\n",
    "combined_df.to_parquet('combined.parquet')"
   ]
  },
  {
   "cell_type": "markdown",
   "metadata": {},
   "source": [
    "## Full RDF graph build\n",
    "\n",
    "The following will load all the graphs of the providers in the OIH-Graph."
   ]
  },
  {
   "cell_type": "code",
   "execution_count": 7,
   "metadata": {
    "ExecuteTime": {
     "end_time": "2023-06-14T12:05:31.511655575Z",
     "start_time": "2023-06-14T12:03:11.896151100Z"
    },
    "tags": []
   },
   "outputs": [
    {
     "name": "stdout",
     "output_type": "stream",
     "text": [
      "Loading http://ossapi.oceaninfohub.org/public/graphs/summonedafricaioc_v1_release.nq\n",
      "Loading http://ossapi.oceaninfohub.org/public/graphs/summonedaquadocs_v1_release.nq\n",
      "Loading http://ossapi.oceaninfohub.org/public/graphs/summonedcioos_v1_release.nq\n",
      "Loading http://ossapi.oceaninfohub.org/public/graphs/summonededmerp_v1_release.nq\n",
      "Loading http://ossapi.oceaninfohub.org/public/graphs/summonededmo_v1_release.nq\n",
      "Loading http://ossapi.oceaninfohub.org/public/graphs/summonedemodnet_v1_release.nq\n",
      "Loading http://ossapi.oceaninfohub.org/public/graphs/summonedinanodc_v1_release.nq\n",
      "Loading http://ossapi.oceaninfohub.org/public/graphs/summonedinvemardocuments_v1_release.nq\n",
      "Loading http://ossapi.oceaninfohub.org/public/graphs/summonedinvemarexperts_v1_release.nq\n",
      "Loading http://ossapi.oceaninfohub.org/public/graphs/summonedinvemarinstitutions_v1_release.nq\n",
      "Loading http://ossapi.oceaninfohub.org/public/graphs/summonedinvemartraining_v1_release.nq\n",
      "Loading http://ossapi.oceaninfohub.org/public/graphs/summonedinvemarvessels_v1_release.nq\n",
      "Loading http://ossapi.oceaninfohub.org/public/graphs/summonedmarinetraining_v1_release.nq\n",
      "Loading http://ossapi.oceaninfohub.org/public/graphs/summonedobis_v1_release.nq\n",
      "Loading http://ossapi.oceaninfohub.org/public/graphs/summonedobps_v1_release.nq\n",
      "Loading http://ossapi.oceaninfohub.org/public/graphs/summonedoceanexperts_v1_release.nq\n",
      "Loading http://ossapi.oceaninfohub.org/public/graphs/summonedpdh_v1_release.nq\n",
      "3086320\n"
     ]
    }
   ],
   "source": [
    "bg = ConjunctiveGraph()\n",
    "\n",
    "for u in urls:\n",
    "    print(\"Loading {}\".format(u))\n",
    "    bg.parse(u, format=\"nquads\")\n",
    "\n",
    "print(len(bg))"
   ]
  },
  {
   "cell_type": "code",
   "execution_count": 8,
   "metadata": {
    "ExecuteTime": {
     "end_time": "2023-06-14T12:08:20.114209800Z",
     "start_time": "2023-06-14T12:08:20.061985476Z"
    },
    "tags": []
   },
   "outputs": [],
   "source": [
    "namespaces = {\n",
    "    \"shacl\":   \"http://www.w3.org/ns/shacl#\" ,\n",
    "    \"schema\":   \"https://schema.org/\" ,\n",
    "    \"schemawrong\": \"http://schema.org/\",\n",
    "    \"geo\":      \"http://www.opengis.net/ont/geosparql#\",\n",
    "}\n",
    "\n",
    "bkg = kglab.KnowledgeGraph(name = \"OIH test\", base_uri = \"https://oceaninfohub.org/id/\", use_gpus=True, namespaces = namespaces, import_graph = bg)"
   ]
  },
  {
   "cell_type": "code",
   "execution_count": 9,
   "metadata": {
    "ExecuteTime": {
     "end_time": "2023-06-14T12:08:36.792544407Z",
     "start_time": "2023-06-14T12:08:21.318010083Z"
    },
    "tags": []
   },
   "outputs": [],
   "source": [
    "bkg.save_parquet(\"OIHGraph_rdf.parquet\")\n"
   ]
  },
  {
   "cell_type": "code",
   "execution_count": null,
   "metadata": {
    "collapsed": false,
    "jupyter": {
     "outputs_hidden": false
    }
   },
   "outputs": [],
   "source": []
  }
 ],
 "metadata": {
  "kernelspec": {
   "display_name": "Python 3",
   "language": "python",
   "name": "python3"
  },
  "language_info": {
   "codemirror_mode": {
    "name": "ipython",
    "version": 3
   },
   "file_extension": ".py",
   "mimetype": "text/x-python",
   "name": "python",
   "nbconvert_exporter": "python",
   "pygments_lexer": "ipython3",
   "version": "3.10.12"
  }
 },
 "nbformat": 4,
 "nbformat_minor": 4
}
