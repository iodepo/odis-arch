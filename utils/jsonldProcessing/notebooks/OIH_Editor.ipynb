{
 "cells": [
  {
   "cell_type": "markdown",
   "metadata": {
    "id": "crrSdi62W6Is",
    "pycharm": {
     "name": "#%% md\n"
    }
   },
   "source": [
    "# OIH Editing Playground\n",
    "\n",
    "For more background on the larger ODIS Ocean Info Hub and related referneces please visit out GitHub repository.\n",
    "\n"
   ]
  },
  {
   "cell_type": "markdown",
   "metadata": {
    "id": "PZSej_dCTYVb",
    "pycharm": {
     "name": "#%% md\n"
    }
   },
   "source": [
    "## Some package and imports"
   ]
  },
  {
   "cell_type": "markdown",
   "metadata": {
    "id": "x7--5hXLhPMx",
    "pycharm": {
     "name": "#%% md\n"
    }
   },
   "source": [
    "### pip installs"
   ]
  },
  {
   "cell_type": "code",
   "execution_count": 1,
   "metadata": {
    "pycharm": {
     "name": "#%%\n"
    },
    "tags": []
   },
   "outputs": [],
   "source": []
  },
  {
   "cell_type": "code",
   "execution_count": null,
   "metadata": {
    "collapsed": false,
    "jupyter": {
     "outputs_hidden": false
    },
    "pycharm": {
     "name": "#%%quiet\n"
    }
   },
   "outputs": [],
   "source": [
    "!pip install -q anytree\n",
    "!pip install -q PyJSONViewer\n",
    "!pip install -q qwikidata\n",
    "!pip install -q SPARQLWrapper\n",
    "!pip install -q Wikidata\n",
    "!pip install -q pySHACL\n",
    "!pip install -q 'PyLD>=2.0.3'\n",
    "!pip install -q rdflib\n",
    "!pip install -q graphviz\n",
    "!pip install -q ipywidgets"
   ]
  },
  {
   "cell_type": "markdown",
   "metadata": {
    "pycharm": {
     "name": "#%% md\n"
    }
   },
   "source": [
    "### imports"
   ]
  },
  {
   "cell_type": "code",
   "execution_count": null,
   "metadata": {
    "collapsed": false,
    "jupyter": {
     "outputs_hidden": false
    },
    "pycharm": {
     "name": "#%%\n"
    }
   },
   "outputs": [],
   "source": [
    "#@title\n",
    "# General imports\n",
    "import json\n",
    "import rdflib\n",
    "import requests\n",
    "from rdflib import Graph, plugin\n",
    "from rdflib.serializer import Serializer\n",
    "from bs4 import BeautifulSoup\n",
    "import urllib.request\n",
    "from rdflib.extras.external_graph_libs import rdflib_to_networkx_multidigraph\n",
    "from rdflib.extras.external_graph_libs import rdflib_to_networkx_graph\n",
    "import networkx as nx\n",
    "from networkx import Graph as NXGraph\n",
    "import matplotlib.pyplot as plt\n",
    "import statistics\n",
    "import collections\n",
    "from pyld import jsonld\n",
    "from pyshacl import validate\n",
    "import graphviz"
   ]
  },
  {
   "cell_type": "markdown",
   "metadata": {
    "pycharm": {
     "name": "#%% md\n"
    }
   },
   "source": [
    "### functions"
   ]
  },
  {
   "cell_type": "code",
   "execution_count": 4,
   "metadata": {
    "id": "9uiobfdGXp7z",
    "pycharm": {
     "name": "#%%\n"
    }
   },
   "outputs": [],
   "source": [
    "import graphviz\n",
    "# from conceptnet5.uri import join_uri, split_uri\n",
    "API_ROOT = 'http://api.conceptnet.io'\n",
    "\n",
    "\n",
    "def short_name(value, max_length=40):\n",
    "    \"\"\"\n",
    "    Convert an RDF value (given as a dictionary) to a reasonable label.\n",
    "    \"\"\"\n",
    "    if value['type'] == 'blank node':\n",
    "        return '_'\n",
    "    elif value['type'] == 'IRI':    \n",
    "        url = value['value']\n",
    "        if '#' in url:\n",
    "            # Show just the fragment of URLs with a fragment\n",
    "            # (it's probably a property name)\n",
    "            return url.split('#')[-1]\n",
    "\n",
    "        # Give URLs relative to the root of our API\n",
    "        if url.startswith(API_ROOT):\n",
    "            short_url = url[len(API_ROOT):]\n",
    "            # If the URL is too long, hide it\n",
    "            if len(short_url) > max_length:\n",
    "                pieces = split_uri(short_url)\n",
    "                return join_uri(pieces[0], '...')\n",
    "            else:\n",
    "                return short_url\n",
    "        else:\n",
    "            return url.split('://')[-1]\n",
    "    else:\n",
    "        # Put literal values in quotes\n",
    "        text = value['value'].replace(':', '')\n",
    "        if len(text) > max_length:\n",
    "            text = text[:max_length] + '...'\n",
    "        return '\"{}\"'.format(text)\n",
    "\n",
    "    \n",
    "def show_graph(url, size=10):\n",
    "    \"\"\"\n",
    "    Show the graph structure of a ConceptNet API response.\n",
    "    \"\"\"\n",
    "    rdf = jsonld.normalize(url)['@default']\n",
    "    graph = graphviz.Digraph(\n",
    "        strict=False, graph_attr={'size': str(size), 'rankdir': 'LR'}\n",
    "    )\n",
    "    for edge in rdf:\n",
    "        subj = short_name(edge['subject'])\n",
    "        obj = short_name(edge['object'])\n",
    "        pred = short_name(edge['predicate'])\n",
    "        if subj and obj and pred:\n",
    "            # Apply different styles to the nodes based on whether they're\n",
    "            # literals, ConceptNet URLs, or other URLs\n",
    "            if obj.startswith('\"'):\n",
    "                # Literal values\n",
    "                graph.node(obj, penwidth='0')\n",
    "            elif obj.startswith('/'):\n",
    "                # ConceptNet nodes\n",
    "                graph.node(obj, style='filled', fillcolor=\"#ddeeff\")\n",
    "            else:\n",
    "                # Other URLs\n",
    "                graph.node(obj, color=\"#558855\")\n",
    "            graph.edge(subj, obj, label=pred)\n",
    "    \n",
    "    return graph"
   ]
  },
  {
   "cell_type": "code",
   "execution_count": 5,
   "metadata": {
    "pycharm": {
     "name": "#%%\n"
    },
    "tags": []
   },
   "outputs": [
    {
     "name": "stdout",
     "output_type": "stream",
     "text": [
      "Current Time = 13:16:51\n"
     ]
    }
   ],
   "source": [
    "#@title\n",
    "def get_sparql_dataframe(service, query):\n",
    "    \"\"\"\n",
    "    Helper function to convert SPARQL results into a Pandas data frame.\n",
    "    \"\"\"\n",
    "    sparql = SPARQLWrapper(service)\n",
    "    sparql.setQuery(query)\n",
    "    sparql.setReturnFormat(JSON)\n",
    "    result = sparql.query()\n",
    "\n",
    "    processed_results = json.load(result.response)\n",
    "    cols = processed_results['head']['vars']\n",
    "\n",
    "    out = []\n",
    "    for row in processed_results['results']['bindings']:\n",
    "        item = []\n",
    "        for c in cols:\n",
    "            item.append(row.get(c, {}).get('value'))\n",
    "        out.append(item)\n",
    "\n",
    "    return pd.DataFrame(out, columns=cols)"
   ]
  },
  {
   "cell_type": "code",
   "execution_count": 6,
   "metadata": {
    "colab": {
     "base_uri": "https://localhost:8080/"
    },
    "id": "Le0RbDzD-PIS",
    "outputId": "183d3fd3-b5dd-4c59-a16a-55c819f1265d",
    "pycharm": {
     "name": "#%%\n"
    }
   },
   "outputs": [
    {
     "name": "stdout",
     "output_type": "stream",
     "text": [
      "  % Total    % Received % Xferd  Average Speed   Time    Time     Time  Current\n",
      "                                 Dload  Upload   Total   Spent    Left  Speed\n",
      "100  9241  100  9241    0     0  47147      0 --:--:-- --:--:-- --:--:-- 47147\n"
     ]
    }
   ],
   "source": [
    "from datetime import datetime\n",
    "\n",
    "now = datetime.now()\n",
    "current_time = now.strftime(\"%H:%M:%S\")\n",
    "print(\"Current Time =\", current_time)\n",
    "\n",
    "# hide_solution()"
   ]
  },
  {
   "cell_type": "code",
   "execution_count": 8,
   "metadata": {
    "colab": {
     "base_uri": "https://localhost:8080/"
    },
    "id": "8rPpCC08kcZ8",
    "outputId": "cc8d3b04-3224-4c0e-f0a2-4d95f97d48ed",
    "pycharm": {
     "name": "#%%\n"
    }
   },
   "outputs": [
    {
     "data": {
      "text/plain": [
       "{'@context': {'@vocab': 'https://schema.org/'},\n",
       " '@type': 'CreativeWork',\n",
       " '@id': 'https://example.org/id/XYZ',\n",
       " 'name': 'Name or title of the document',\n",
       " 'description': 'Description of the creative work to aid in searching',\n",
       " 'url': 'https://www.sample-data-repository.org/creativework/report.pdf'}"
      ]
     },
     "execution_count": 8,
     "metadata": {},
     "output_type": "execute_result"
    }
   ],
   "source": [
    "# Fetch a single <1MB file using the raw GitHub URL.\n",
    "!curl --remote-name \\\n",
    "     --location https://raw.githubusercontent.com/ESIPFed/science-on-schema.org/master/examples/dataset/full.jsonld"
   ]
  },
  {
   "cell_type": "code",
   "execution_count": null,
   "metadata": {
    "collapsed": false,
    "jupyter": {
     "outputs_hidden": false
    },
    "pycharm": {
     "name": "#%%\n"
    }
   },
   "outputs": [],
   "source": [
    "{\n",
    "    \"@context\": {\n",
    "        \"@vocab\": \"https://schema.org/\"\n",
    "    },\n",
    "    \"@type\": \"CreativeWork\",\n",
    "    \"@id\": \"https://example.org/id/XYZ\",\n",
    "    \"name\": \"Name or title of the document\",\n",
    "    \"description\": \"Description of the creative work to aid in searching\",\n",
    "    \"url\":  \"https://www.sample-data-repository.org/creativework/report.pdf\"\n",
    "}"
   ]
  },
  {
   "cell_type": "markdown",
   "metadata": {
    "pycharm": {
     "name": "#%% md\n"
    }
   },
   "source": [
    "## Introduction to JSON-LD files\n"
   ]
  },
  {
   "cell_type": "code",
   "execution_count": 10,
   "metadata": {
    "colab": {
     "base_uri": "https://localhost:8080/"
    },
    "id": "klRjtDzVLa7H",
    "outputId": "2518846e-0049-49bc-c8c5-6b8722c6cefd",
    "pycharm": {
     "name": "#%%\n"
    }
   },
   "outputs": [
    {
     "name": "stdout",
     "output_type": "stream",
     "text": [
      "{\n",
      "    \"@context\": {\n",
      "        \"@vocab\": \"https://schema.org/\"\n",
      "    },\n",
      "    \"@id\": \"http://cooldata.io/id/doc/1\",\n",
      "    \"@type\": \"http://schema.org/Dataset\",\n",
      "    \"http://schema.org/keywords\": [\n",
      "        \"geochemistry\",\n",
      "        \"Earth System Modeling\",\n",
      "        \"climate change\"\n",
      "    ],\n",
      "    \"description\": \"Descriptive text of the dataset.\",\n",
      "    \"license\": \"CC-BY-4.0\",\n",
      "    \"name\": \"Data Set Name one\",\n",
      "    \"url\": \"http://foo.org/data/distribution\",\n",
      "    \"version\": \"version\"\n",
      "}\n"
     ]
    }
   ],
   "source": [
    "#@title Google Data Set Required+\n",
    "\n",
    "name = 'Data Set Name one' #@param {type:\"string\"}\n",
    "sdotype = 'http://schema.org/Dataset' #@param [\"http://schema.org/Dataset\", \"http://schema.org/DataCatalog\"]\n",
    "description = 'Descriptive text of the dataset.' #@param {type:\"string\"}\n",
    "url = 'http://foo.org/data/distribution' #@param {type:\"string\"}\n",
    "version = 'version' #@param {type:\"string\"}\n",
    "license = 'CC-BY-4.0' #@param [\"CC-BY-4.0\", \"CC-0\"]\n",
    "keywords = 'geochemistry, Earth System Modeling, climate change' #@param {type:\"string\"}\n"
   ]
  },
  {
   "cell_type": "code",
   "execution_count": 11,
   "metadata": {
    "colab": {
     "base_uri": "https://localhost:8080/",
     "height": 656
    },
    "id": "d6b9X5hSfQOF",
    "outputId": "0e4c7b45-faca-49a0-9ffb-29ac49862e20",
    "pycharm": {
     "name": "#%%\n"
    }
   },
   "outputs": [
    {
     "data": {
      "image/svg+xml": [
       "<?xml version=\"1.0\" encoding=\"UTF-8\" standalone=\"no\"?>\n",
       "<!DOCTYPE svg PUBLIC \"-//W3C//DTD SVG 1.1//EN\"\n",
       " \"http://www.w3.org/Graphics/SVG/1.1/DTD/svg11.dtd\">\n",
       "<!-- Generated by graphviz version 2.44.0 (0)\n",
       " -->\n",
       "<!-- Pages: 1 -->\n",
       "<svg width=\"723pt\" height=\"478pt\"\n",
       " viewBox=\"0.00 0.00 723.05 478.00\" xmlns=\"http://www.w3.org/2000/svg\" xmlns:xlink=\"http://www.w3.org/1999/xlink\">\n",
       "<g id=\"graph0\" class=\"graph\" transform=\"scale(1 1) rotate(0) translate(4 474)\">\n",
       "<polygon fill=\"white\" stroke=\"transparent\" points=\"-4,4 -4,-474 719.05,-474 719.05,4 -4,4\"/>\n",
       "<!-- &quot;Earth System Modeling&quot; -->\n",
       "<g id=\"node1\" class=\"node\">\n",
       "<title>&quot;Earth System Modeling&quot;</title>\n",
       "<ellipse fill=\"none\" stroke=\"black\" stroke-width=\"0\" cx=\"555.82\" cy=\"-450\" rx=\"124.28\" ry=\"18\"/>\n",
       "<text text-anchor=\"middle\" x=\"555.82\" y=\"-446.3\" font-family=\"Times-Roman\" font-size=\"14.00\">&quot;Earth System Modeling&quot;</text>\n",
       "</g>\n",
       "<!-- cooldata.io/id/doc/1 -->\n",
       "<g id=\"node2\" class=\"node\">\n",
       "<title>cooldata.io/id/doc/1</title>\n",
       "<ellipse fill=\"none\" stroke=\"black\" cx=\"98.79\" cy=\"-234\" rx=\"98.58\" ry=\"18\"/>\n",
       "<text text-anchor=\"middle\" x=\"98.79\" y=\"-230.3\" font-family=\"Times-Roman\" font-size=\"14.00\">cooldata.io/id/doc/1</text>\n",
       "</g>\n",
       "<!-- cooldata.io/id/doc/1&#45;&gt;&quot;Earth System Modeling&quot; -->\n",
       "<g id=\"edge1\" class=\"edge\">\n",
       "<title>cooldata.io/id/doc/1&#45;&gt;&quot;Earth System Modeling&quot;</title>\n",
       "<path fill=\"none\" stroke=\"black\" d=\"M106.06,-252.2C119.64,-288.55 155.48,-369.86 215.58,-407 281.05,-447.45 367.19,-457.96 436.29,-458.48\"/>\n",
       "<polygon fill=\"black\" stroke=\"black\" points=\"436.35,-461.98 446.36,-458.49 436.36,-454.98 436.35,-461.98\"/>\n",
       "<text text-anchor=\"middle\" x=\"297.08\" y=\"-458.8\" font-family=\"Times-Roman\" font-size=\"14.00\">schema.org/keywords</text>\n",
       "</g>\n",
       "<!-- &quot;climate change&quot; -->\n",
       "<g id=\"node3\" class=\"node\">\n",
       "<title>&quot;climate change&quot;</title>\n",
       "<ellipse fill=\"none\" stroke=\"black\" stroke-width=\"0\" cx=\"555.82\" cy=\"-396\" rx=\"88.28\" ry=\"18\"/>\n",
       "<text text-anchor=\"middle\" x=\"555.82\" y=\"-392.3\" font-family=\"Times-Roman\" font-size=\"14.00\">&quot;climate change&quot;</text>\n",
       "</g>\n",
       "<!-- cooldata.io/id/doc/1&#45;&gt;&quot;climate change&quot; -->\n",
       "<g id=\"edge2\" class=\"edge\">\n",
       "<title>cooldata.io/id/doc/1&#45;&gt;&quot;climate change&quot;</title>\n",
       "<path fill=\"none\" stroke=\"black\" d=\"M113.2,-252.17C132.7,-277.14 171.44,-321.4 215.58,-343 291.24,-380.02 386.73,-392.32 457.11,-395.91\"/>\n",
       "<polygon fill=\"black\" stroke=\"black\" points=\"457.15,-399.42 467.3,-396.38 457.47,-392.42 457.15,-399.42\"/>\n",
       "<text text-anchor=\"middle\" x=\"297.08\" y=\"-391.8\" font-family=\"Times-Roman\" font-size=\"14.00\">schema.org/keywords</text>\n",
       "</g>\n",
       "<!-- &quot;geochemistry&quot; -->\n",
       "<g id=\"node4\" class=\"node\">\n",
       "<title>&quot;geochemistry&quot;</title>\n",
       "<ellipse fill=\"none\" stroke=\"black\" stroke-width=\"0\" cx=\"555.82\" cy=\"-342\" rx=\"81.49\" ry=\"18\"/>\n",
       "<text text-anchor=\"middle\" x=\"555.82\" y=\"-338.3\" font-family=\"Times-Roman\" font-size=\"14.00\">&quot;geochemistry&quot;</text>\n",
       "</g>\n",
       "<!-- cooldata.io/id/doc/1&#45;&gt;&quot;geochemistry&quot; -->\n",
       "<g id=\"edge3\" class=\"edge\">\n",
       "<title>cooldata.io/id/doc/1&#45;&gt;&quot;geochemistry&quot;</title>\n",
       "<path fill=\"none\" stroke=\"black\" d=\"M129.26,-251.3C152.08,-263.93 184.88,-280.46 215.58,-290 299.1,-315.95 398.37,-329.24 467.87,-335.85\"/>\n",
       "<polygon fill=\"black\" stroke=\"black\" points=\"467.62,-339.34 477.9,-336.78 468.27,-332.37 467.62,-339.34\"/>\n",
       "<text text-anchor=\"middle\" x=\"297.08\" y=\"-327.8\" font-family=\"Times-Roman\" font-size=\"14.00\">schema.org/keywords</text>\n",
       "</g>\n",
       "<!-- schema.org/Dataset -->\n",
       "<g id=\"node5\" class=\"node\">\n",
       "<title>schema.org/Dataset</title>\n",
       "<ellipse fill=\"none\" stroke=\"#558855\" cx=\"555.82\" cy=\"-288\" rx=\"100.98\" ry=\"18\"/>\n",
       "<text text-anchor=\"middle\" x=\"555.82\" y=\"-284.3\" font-family=\"Times-Roman\" font-size=\"14.00\">schema.org/Dataset</text>\n",
       "</g>\n",
       "<!-- cooldata.io/id/doc/1&#45;&gt;schema.org/Dataset -->\n",
       "<g id=\"edge4\" class=\"edge\">\n",
       "<title>cooldata.io/id/doc/1&#45;&gt;schema.org/Dataset</title>\n",
       "<path fill=\"none\" stroke=\"black\" d=\"M171.03,-246.38C185.74,-248.74 201.14,-251.07 215.58,-253 295.69,-263.69 386.81,-272.93 454.43,-279.23\"/>\n",
       "<polygon fill=\"black\" stroke=\"black\" points=\"454.37,-282.74 464.65,-280.18 455.02,-275.77 454.37,-282.74\"/>\n",
       "<text text-anchor=\"middle\" x=\"297.08\" y=\"-274.8\" font-family=\"Times-Roman\" font-size=\"14.00\">type</text>\n",
       "</g>\n",
       "<!-- &quot;Descriptive text of the dataset.&quot; -->\n",
       "<g id=\"node6\" class=\"node\">\n",
       "<title>&quot;Descriptive text of the dataset.&quot;</title>\n",
       "<ellipse fill=\"none\" stroke=\"black\" stroke-width=\"0\" cx=\"555.82\" cy=\"-234\" rx=\"159.47\" ry=\"18\"/>\n",
       "<text text-anchor=\"middle\" x=\"555.82\" y=\"-230.3\" font-family=\"Times-Roman\" font-size=\"14.00\">&quot;Descriptive text of the dataset.&quot;</text>\n",
       "</g>\n",
       "<!-- cooldata.io/id/doc/1&#45;&gt;&quot;Descriptive text of the dataset.&quot; -->\n",
       "<g id=\"edge5\" class=\"edge\">\n",
       "<title>cooldata.io/id/doc/1&#45;&gt;&quot;Descriptive text of the dataset.&quot;</title>\n",
       "<path fill=\"none\" stroke=\"black\" d=\"M197.69,-234C252.6,-234 322.64,-234 386.12,-234\"/>\n",
       "<polygon fill=\"black\" stroke=\"black\" points=\"386.25,-237.5 396.25,-234 386.25,-230.5 386.25,-237.5\"/>\n",
       "<text text-anchor=\"middle\" x=\"297.08\" y=\"-237.8\" font-family=\"Times-Roman\" font-size=\"14.00\">schema.org/description</text>\n",
       "</g>\n",
       "<!-- &quot;CC&#45;BY&#45;4.0&quot; -->\n",
       "<g id=\"node7\" class=\"node\">\n",
       "<title>&quot;CC&#45;BY&#45;4.0&quot;</title>\n",
       "<ellipse fill=\"none\" stroke=\"black\" stroke-width=\"0\" cx=\"555.82\" cy=\"-180\" rx=\"63.89\" ry=\"18\"/>\n",
       "<text text-anchor=\"middle\" x=\"555.82\" y=\"-176.3\" font-family=\"Times-Roman\" font-size=\"14.00\">&quot;CC&#45;BY&#45;4.0&quot;</text>\n",
       "</g>\n",
       "<!-- cooldata.io/id/doc/1&#45;&gt;&quot;CC&#45;BY&#45;4.0&quot; -->\n",
       "<g id=\"edge6\" class=\"edge\">\n",
       "<title>cooldata.io/id/doc/1&#45;&gt;&quot;CC&#45;BY&#45;4.0&quot;</title>\n",
       "<path fill=\"none\" stroke=\"black\" d=\"M171.03,-221.62C185.74,-219.26 201.14,-216.93 215.58,-215 308.25,-202.63 415.65,-192.2 484.37,-186.03\"/>\n",
       "<polygon fill=\"black\" stroke=\"black\" points=\"484.99,-189.49 494.64,-185.11 484.37,-182.52 484.99,-189.49\"/>\n",
       "<text text-anchor=\"middle\" x=\"297.08\" y=\"-218.8\" font-family=\"Times-Roman\" font-size=\"14.00\">schema.org/license</text>\n",
       "</g>\n",
       "<!-- &quot;Data Set Name one&quot; -->\n",
       "<g id=\"node8\" class=\"node\">\n",
       "<title>&quot;Data Set Name one&quot;</title>\n",
       "<ellipse fill=\"none\" stroke=\"black\" stroke-width=\"0\" cx=\"555.82\" cy=\"-126\" rx=\"106.68\" ry=\"18\"/>\n",
       "<text text-anchor=\"middle\" x=\"555.82\" y=\"-122.3\" font-family=\"Times-Roman\" font-size=\"14.00\">&quot;Data Set Name one&quot;</text>\n",
       "</g>\n",
       "<!-- cooldata.io/id/doc/1&#45;&gt;&quot;Data Set Name one&quot; -->\n",
       "<g id=\"edge7\" class=\"edge\">\n",
       "<title>cooldata.io/id/doc/1&#45;&gt;&quot;Data Set Name one&quot;</title>\n",
       "<path fill=\"none\" stroke=\"black\" d=\"M128.73,-216.62C151.55,-203.7 184.58,-186.7 215.58,-177 290.73,-153.48 378.74,-140.65 446.28,-133.74\"/>\n",
       "<polygon fill=\"black\" stroke=\"black\" points=\"446.91,-137.2 456.52,-132.73 446.22,-130.23 446.91,-137.2\"/>\n",
       "<text text-anchor=\"middle\" x=\"297.08\" y=\"-180.8\" font-family=\"Times-Roman\" font-size=\"14.00\">schema.org/name</text>\n",
       "</g>\n",
       "<!-- &quot;http//foo.org/data/distribution&quot; -->\n",
       "<g id=\"node9\" class=\"node\">\n",
       "<title>&quot;http//foo.org/data/distribution&quot;</title>\n",
       "<ellipse fill=\"none\" stroke=\"black\" stroke-width=\"0\" cx=\"555.82\" cy=\"-72\" rx=\"153.27\" ry=\"18\"/>\n",
       "<text text-anchor=\"middle\" x=\"555.82\" y=\"-68.3\" font-family=\"Times-Roman\" font-size=\"14.00\">&quot;http//foo.org/data/distribution&quot;</text>\n",
       "</g>\n",
       "<!-- cooldata.io/id/doc/1&#45;&gt;&quot;http//foo.org/data/distribution&quot; -->\n",
       "<g id=\"edge8\" class=\"edge\">\n",
       "<title>cooldata.io/id/doc/1&#45;&gt;&quot;http//foo.org/data/distribution&quot;</title>\n",
       "<path fill=\"none\" stroke=\"black\" d=\"M112.82,-216.06C132.16,-190.93 171.02,-145.85 215.58,-124 270.58,-97.03 336.11,-83.34 394.85,-76.6\"/>\n",
       "<polygon fill=\"black\" stroke=\"black\" points=\"395.41,-80.06 404.97,-75.5 394.65,-73.1 395.41,-80.06\"/>\n",
       "<text text-anchor=\"middle\" x=\"297.08\" y=\"-127.8\" font-family=\"Times-Roman\" font-size=\"14.00\">schema.org/url</text>\n",
       "</g>\n",
       "<!-- &quot;version&quot; -->\n",
       "<g id=\"node10\" class=\"node\">\n",
       "<title>&quot;version&quot;</title>\n",
       "<ellipse fill=\"none\" stroke=\"black\" stroke-width=\"0\" cx=\"555.82\" cy=\"-18\" rx=\"52.79\" ry=\"18\"/>\n",
       "<text text-anchor=\"middle\" x=\"555.82\" y=\"-14.3\" font-family=\"Times-Roman\" font-size=\"14.00\">&quot;version&quot;</text>\n",
       "</g>\n",
       "<!-- cooldata.io/id/doc/1&#45;&gt;&quot;version&quot; -->\n",
       "<g id=\"edge9\" class=\"edge\">\n",
       "<title>cooldata.io/id/doc/1&#45;&gt;&quot;version&quot;</title>\n",
       "<path fill=\"none\" stroke=\"black\" d=\"M105.88,-215.85C119.23,-179.17 154.83,-96.52 215.58,-59 301.94,-5.67 424.38,-5.31 496.11,-10.94\"/>\n",
       "<polygon fill=\"black\" stroke=\"black\" points=\"496.05,-14.44 506.31,-11.81 496.65,-7.47 496.05,-14.44\"/>\n",
       "<text text-anchor=\"middle\" x=\"297.08\" y=\"-62.8\" font-family=\"Times-Roman\" font-size=\"14.00\">schema.org/version</text>\n",
       "</g>\n",
       "</g>\n",
       "</svg>\n"
      ],
      "text/plain": [
       "<graphviz.dot.Digraph at 0x7efef405bb20>"
      ]
     },
     "execution_count": 11,
     "metadata": {},
     "output_type": "execute_result"
    }
   ],
   "source": [
    "#@title\n",
    "from pyld import jsonld\n",
    "import json\n",
    "\n",
    "doc = {}\n",
    "doc[\"https://schema.org/name\"] = name\n",
    "doc[\"@type\"] = sdotype\n",
    "doc[\"@id\"] = \"http://cooldata.io/id/doc/1\"\n",
    "doc[\"https://schema.org/description\"] = description\n",
    "doc[\"https://schema.org/url\"] =  url\n",
    "doc[\"https://schema.org/version\"] =  version\n",
    "doc[\"https://schema.org/license\"] =  license\n",
    "\n",
    "# parse comma seperated keywords, clean white spaces\n",
    "k = keywords.split(\",\")\n",
    "kp = []\n",
    "for i in k:\n",
    "  j = i.strip()\n",
    "  kp.append(j)\n",
    "\n",
    "doc[\"http://schema.org/keywords\"] =  kp\n",
    "\n",
    "\n",
    "context = {\n",
    "    \"@vocab\": \"https://schema.org/\",\n",
    "}\n",
    "\n",
    "# compact a document according to a particular context\n",
    "# see: http://json-ld.org/spec/latest/json-ld/#compacted-document-form\n",
    "compacted = jsonld.compact(doc, context)\n",
    "\n",
    "jd = json.dumps(compacted, indent=4)\n",
    "print(jd)"
   ]
  },
  {
   "cell_type": "code",
   "execution_count": null,
   "metadata": {
    "collapsed": false,
    "jupyter": {
     "outputs_hidden": false
    },
    "pycharm": {
     "name": "#%%\n"
    }
   },
   "outputs": [],
   "source": [
    "show_graph(doc, size=30)"
   ]
  },
  {
   "cell_type": "markdown",
   "metadata": {
    "pycharm": {
     "name": "#%% md\n"
    }
   },
   "source": [
    "## Framing\n",
    "\n",
    "Understanding Framing is not a first order concern.   However, understanding it and what it does can help you to think about how your data graph will be used. \n",
    "\n",
    "Let's make a frame that allows us to view only the elements of the JSON-LD data graph that we are interested in.   In this case let's target the keywords."
   ]
  },
  {
   "cell_type": "code",
   "execution_count": null,
   "metadata": {
    "collapsed": false,
    "jupyter": {
     "outputs_hidden": false
    },
    "pycharm": {
     "name": "#%%\n"
    }
   },
   "outputs": [],
   "source": [
    "urlf = \"https://raw.githubusercontent.com/ESIPFed/science-on-schema.org/master/examples/dataset/minimal.jsonld\"\n",
    "\n",
    "frame = {\n",
    "  \"@context\": {\"@vocab\": \"http://schema.org/\"},\n",
    "  \"@explicit\": \"true\",\n",
    "   \"@type\":     \"Dataset\",\n",
    "  \"keywords\": \"\",\n",
    "}\n",
    "\n",
    "\n",
    "framed = jsonld.frame(doc, frame)\n",
    "print(framed)\n",
    "\n",
    "show_graph(framed)"
   ]
  },
  {
   "cell_type": "markdown",
   "metadata": {
    "pycharm": {
     "name": "#%% md\n"
    }
   },
   "source": [
    "### Parse out the keywords\n",
    "At this point we can now take out resulting JSON-LD graph and extract the items we are interested int.\n"
   ]
  },
  {
   "cell_type": "code",
   "execution_count": null,
   "metadata": {
    "collapsed": false,
    "jupyter": {
     "outputs_hidden": false
    },
    "pycharm": {
     "name": "#%%\n"
    }
   },
   "outputs": [],
   "source": [
    "#g = framed['@graph']  # get the graph\n",
    "#kw = g[0]['keywords']  # get the keywords (you could do this in 1 line, 2 here for exposition)\n",
    "\n",
    "\n",
    "kw = framed['keywords']  # get the keywords (you could do this in 1 line, 2 here for exposition)\n",
    "\n",
    "\n",
    "print(\"We have the individual keywords, what shall we do with them?\")\n",
    "for w in kw:\n",
    "  print(w)\n",
    "  \n"
   ]
  },
  {
   "cell_type": "markdown",
   "metadata": {
    "pycharm": {
     "name": "#%% md\n"
    }
   },
   "source": [
    "### Wikidata\n",
    "\n",
    "So, we have used framing to arrive at a way to link to other graphs.  A nice use of framing but perhaps more important is the linking.  This exercise has shown how linking across graph gets us from strings to things.  \n",
    "\n",
    "Let's see if we can query wikidata and pull back some concepts.    We will see if antyhing we use as a keyword aligns with a JSTOR (https://www.jstor.org/) topic.\n",
    "\n",
    "Reference also: https://www.wikidata.org/wiki/Wikidata:WikidataCon_2019/Program/Sessions/Lightning_talks_2\n"
   ]
  },
  {
   "cell_type": "code",
   "execution_count": null,
   "metadata": {
    "collapsed": false,
    "jupyter": {
     "outputs_hidden": false
    },
    "pycharm": {
     "name": "#%%\n"
    }
   },
   "outputs": [],
   "source": [
    "from SPARQLWrapper import SPARQLWrapper, JSON\n",
    "import pandas as pd\n",
    "import json\n",
    "\n",
    "dbsparql = \"http://dbpedia.org/sparql\"\n",
    "ufokn = \"http://graph.openknowledge.network/blazegraph/namespace/demo/sparql\"\n",
    "wikidata = \"https://query.wikidata.org/sparql\"\n"
   ]
  },
  {
   "cell_type": "markdown",
   "metadata": {
    "pycharm": {
     "name": "#%% md\n"
    }
   },
   "source": [
    "In the example below we can BIND in keywords like geochemistry but also other terms we may extract from the name, keywords and description.  "
   ]
  },
  {
   "cell_type": "code",
   "execution_count": 16,
   "metadata": {
    "colab": {
     "base_uri": "https://localhost:8080/"
    },
    "id": "od_PMXclXvjP",
    "outputId": "9c41a214-3a31-4176-dfde-db5f3832faaa",
    "pycharm": {
     "name": "#%%\n"
    }
   },
   "outputs": [
    {
     "name": "stdout",
     "output_type": "stream",
     "text": [
      "geochemistry\n",
      "           term                                   topic\n",
      "0  geochemistry  http://www.wikidata.org/entity/Q161764\n",
      "------------------------------------\n",
      "Earth System Modeling\n",
      "Empty DataFrame\n",
      "Columns: [term, topic]\n",
      "Index: []\n",
      "------------------------------------\n",
      "climate change\n",
      "Empty DataFrame\n",
      "Columns: [term, topic]\n",
      "Index: []\n",
      "------------------------------------\n"
     ]
    }
   ],
   "source": [
    "rq = '''SELECT ?term ?topic WHERE {{ BIND ( \"{var}\" as ?term ) ?topic wdt:P3827 ?term . }}'''.format(var=\"geochemistry\")\n",
    "test = get_sparql_dataframe(wikidata, rq)\n",
    "test.head()"
   ]
  },
  {
   "cell_type": "code",
   "execution_count": 17,
   "metadata": {
    "colab": {
     "base_uri": "https://localhost:8080/"
    },
    "id": "AaMHwb91aC1q",
    "outputId": "4b73e493-2692-4ed6-a224-6b437b94c4a3",
    "pycharm": {
     "name": "#%%\n"
    }
   },
   "outputs": [
    {
     "name": "stdout",
     "output_type": "stream",
     "text": [
      "---\n",
      "Term:geochemistry \n",
      "URL:http://www.wikidata.org/entity/Q161764 \n",
      "description:science that applies chemistry to geological systems\n"
     ]
    }
   ],
   "source": [
    "#df = pd.DataFrame(columns=['term', 'topic'])\n",
    "\n",
    "for w in range(len(kw)):\n",
    "  print(kw[w])\n",
    "  rq = '''SELECT ?term ?topic WHERE {{ BIND ( \"{var}\" as ?term ) ?topic wdt:P3827 ?term . }}'''.format(var=kw[w])\n",
    "  sdf = get_sparql_dataframe(wikidata, rq)\n",
    "  #df.append(sdf)\n",
    "  x = sdf.head()\n",
    "  print(x)\n",
    "  print(\"------------------------------------\")\n",
    "  \n",
    "#df.head()\n",
    "  \n"
   ]
  },
  {
   "cell_type": "code",
   "execution_count": null,
   "metadata": {
    "collapsed": false,
    "jupyter": {
     "outputs_hidden": false
    },
    "pycharm": {
     "name": "#%%\n"
    }
   },
   "outputs": [],
   "source": [
    "from wikidata.client import Client\n",
    "from urllib.parse import urlparse\n",
    "\n",
    "client = Client() \n",
    "\n",
    "for row in test.iterrows():\n",
    "    o = urlparse(row[1]['topic'])\n",
    "    e = o.path.rsplit('/', 1)[-1]\n",
    "    entity = client.get('Q161764', load=True)\n",
    "    print('---\\nTerm:{} \\nURL:{} \\ndescription:{}'.format(row[1]['term'], row[1]['topic'],  entity.description))"
   ]
  },
  {
   "cell_type": "markdown",
   "metadata": {
    "id": "_MHZmjKzZLlt",
    "pycharm": {
     "name": "#%% md\n"
    }
   },
   "source": [
    "# Validation\n"
   ]
  },
  {
   "cell_type": "markdown",
   "metadata": {
    "pycharm": {
     "name": "#%% md\n"
    }
   },
   "source": [
    "## About\n",
    "The code below invokes pySHACL on some data and shape graphs out of GitHub. Note, we could edit these local to this notebook too. The human output is a bit hard to read since some of the encoding is off.\n",
    "\n",
    "It might actually work to use the graph output and route it through the graph package and into Pandas too. It might let us parse and present the results a bit better.\n",
    "\n",
    "The imaage below is just a test of putting images into this document.  We can also upload and associate a document with the notebook and use it locally too.\n",
    "\n",
    "![alt text](https://gleaner.io/images/tangram.png)"
   ]
  },
  {
   "cell_type": "code",
   "execution_count": null,
   "metadata": {
    "collapsed": false,
    "jupyter": {
     "outputs_hidden": false
    },
    "pycharm": {
     "name": "#%%\n"
    }
   },
   "outputs": [],
   "source": [
    "from pyshacl import validate\n",
    "import json\n",
    "import rdflib\n",
    "from rdflib.extras.external_graph_libs import rdflib_to_networkx_multidigraph\n",
    "import requests\n",
    "from rdflib import Graph, plugin\n",
    "from rdflib.serializer import Serializer\n",
    "\n",
    "from bs4 import BeautifulSoup\n",
    "import urllib.request\n",
    "\n",
    "dg = 'https://raw.githubusercontent.com/ESIPFed/science-on-schema.org/master/examples/dataset/minimal.jsonld'\n",
    "sg = 'https://raw.githubusercontent.com/geoschemas-org/geoshapes/master/shapegraphs/googleRecommendedCoverageCheck.ttl'\n",
    "\n",
    "s = rdflib.Graph()\n",
    "sr = s.parse(sg, format=\"ttl\")\n",
    "d = rdflib.Graph()\n",
    "dr = d.parse(dg, format=\"json-ld\")\n",
    "\n",
    "conforms, v_graph, v_text = validate(dr, shacl_graph=sr,\n",
    "  data_graph_format=\"json-ld\",\n",
    "  shacl_graph_format=\"ttl\",\n",
    "  inference='none', debug=False,\n",
    "  serialize_report_graph=False)\n",
    "        \n",
    "print('{} {}'.format(conforms, v_text))\n"
   ]
  },
  {
   "cell_type": "markdown",
   "metadata": {
    "id": "DLB1rOrXZaim",
    "pycharm": {
     "name": "#%% md\n"
    }
   },
   "source": [
    "# Thematic topic: Documents"
   ]
  },
  {
   "cell_type": "markdown",
   "metadata": {
    "pycharm": {
     "name": "#%% md\n"
    }
   },
   "source": [
    "## About\n",
    "\n",
    "A testing area for the work on type Document\n"
   ]
  },
  {
   "cell_type": "code",
   "execution_count": 31,
   "metadata": {
    "id": "6CkNOD8YqKmM",
    "pycharm": {
     "name": "#%%\n"
    }
   },
   "outputs": [
    {
     "ename": "FileNotFoundError",
     "evalue": "[Errno 2] No such file or directory: '/content/doc.json'",
     "output_type": "error",
     "traceback": [
      "\u001b[0;31m---------------------------------------------------------------------------\u001b[0m",
      "\u001b[0;31mFileNotFoundError\u001b[0m                         Traceback (most recent call last)",
      "\u001b[0;32m<ipython-input-31-ef7bc9a603c6>\u001b[0m in \u001b[0;36m<module>\u001b[0;34m\u001b[0m\n\u001b[1;32m      1\u001b[0m \u001b[0;31m# read into var\u001b[0m\u001b[0;34m\u001b[0m\u001b[0;34m\u001b[0m\u001b[0;34m\u001b[0m\u001b[0m\n\u001b[1;32m      2\u001b[0m \u001b[0;34m\u001b[0m\u001b[0m\n\u001b[0;32m----> 3\u001b[0;31m \u001b[0;32mwith\u001b[0m \u001b[0mopen\u001b[0m\u001b[0;34m(\u001b[0m\u001b[0;34m'/content/doc.json'\u001b[0m\u001b[0;34m,\u001b[0m \u001b[0;34m'r'\u001b[0m\u001b[0;34m)\u001b[0m \u001b[0;32mas\u001b[0m \u001b[0mfile\u001b[0m\u001b[0;34m:\u001b[0m\u001b[0;34m\u001b[0m\u001b[0;34m\u001b[0m\u001b[0m\n\u001b[0m\u001b[1;32m      4\u001b[0m     \u001b[0mdocstring\u001b[0m \u001b[0;34m=\u001b[0m \u001b[0mfile\u001b[0m\u001b[0;34m.\u001b[0m\u001b[0mread\u001b[0m\u001b[0;34m(\u001b[0m\u001b[0;34m)\u001b[0m\u001b[0;34m\u001b[0m\u001b[0;34m\u001b[0m\u001b[0m\n\u001b[1;32m      5\u001b[0m \u001b[0;34m\u001b[0m\u001b[0m\n",
      "\u001b[0;31mFileNotFoundError\u001b[0m: [Errno 2] No such file or directory: '/content/doc.json'"
     ]
    }
   ],
   "source": [
    "# Load examples from ODIS-Arch\n",
    "!curl --remote-name \\\n",
    "     --location https://raw.githubusercontent.com/iodepo/odis-arch/master/schema/thematics/docs/graphs/doc.json\n"
   ]
  },
  {
   "cell_type": "code",
   "execution_count": null,
   "metadata": {
    "collapsed": false,
    "jupyter": {
     "outputs_hidden": false
    },
    "pycharm": {
     "name": "#%%\n"
    }
   },
   "outputs": [],
   "source": [
    "# read into var\n",
    "\n",
    "with open('/content/doc.json', 'r') as file:\n",
    "    docstring = file.read()\n",
    "\n",
    "docjson = json.loads(docstring) \n",
    "\n",
    "# could I %load the file via magic commands?  see all via %lsmagic"
   ]
  },
  {
   "cell_type": "markdown",
   "metadata": {
    "pycharm": {
     "name": "#%% md\n"
    }
   },
   "source": [
    "### Dev note\n",
    "\n",
    "During development  it would good to edit in the notebook and process the results through testing and viz.  So we have to edit the JSON in the notebook, which is hideous."
   ]
  },
  {
   "cell_type": "code",
   "execution_count": 33,
   "metadata": {
    "colab": {
     "base_uri": "https://localhost:8080/"
    },
    "id": "T3kfKuzUqy0c",
    "outputId": "307c1644-3a96-4e4a-dca9-6bee614fca56",
    "pycharm": {
     "name": "#%%\n"
    }
   },
   "outputs": [
    {
     "name": "stdout",
     "output_type": "stream",
     "text": [
      "{\n",
      "    \"@context\": {\n",
      "        \"@vocab\": \"https://schema.org/\"\n",
      "    },\n",
      "    \"@id\": \"https://example.org/id/XYZ\",\n",
      "    \"@type\": \"Dataset\",\n",
      "    \"description\": \"Description of the dataset to aid in searching\",\n",
      "    \"distribution\": {\n",
      "        \"@type\": \"DataDownload\",\n",
      "        \"contentUrl\": \"https://www.sample-data-repository.org/dataset/472032.tsv\",\n",
      "        \"encodingFormat\": \"text/tab-separated-values\"\n",
      "    },\n",
      "    \"maintainer\": {\n",
      "        \"@id\": \"https://link.to/PID_like_re3_or_others\",\n",
      "        \"@type\": \"Organization\",\n",
      "        \"description\": \"Organization or Person who maintains the creative work\"\n",
      "    },\n",
      "    \"name\": \"Name or title of the document\",\n",
      "    \"subjectOf\": {\n",
      "        \"@type\": \"DataDownload\",\n",
      "        \"dateModified\": \"2019-06-12T14:44:15Z\",\n",
      "        \"description\": \"EML metadata describing the dataset\",\n",
      "        \"encodingFormat\": [\n",
      "            \"application/xml\",\n",
      "            \"https://eml.ecoinformatics.org/eml-2.2.0\"\n",
      "        ],\n",
      "        \"name\": \"eml-metadatafile.xml\"\n",
      "    }\n",
      "}\n"
     ]
    }
   ],
   "source": [
    "{\n",
    "    \"@context\": {\n",
    "        \"@vocab\": \"https://schema.org/\"\n",
    "    },\n",
    "    \"@id\": \"https://example.org/id/XYZ\",\n",
    "    \"@type\": \"Dataset\",\n",
    "    \"description\": \"Description of the dataset to aid in searching\",\n",
    "    \"distribution\": {\n",
    "        \"@type\": \"DataDownload\",\n",
    "        \"contentUrl\": \"https://www.sample-data-repository.org/dataset/472032.tsv\",\n",
    "        \"encodingFormat\": \"text/tab-separated-values\"\n",
    "    },\n",
    "    \"maintainer\": {\n",
    "        \"@id\": \"https://link.to/PID_like_re3_or_others\",\n",
    "        \"@type\": \"Organization\",\n",
    "        \"description\": \"Organization or Person who maintains the creative work\"\n",
    "    },\n",
    "    \"name\": \"Name or title of the document\",\n",
    "    \"subjectOf\": {\n",
    "        \"@type\": \"DataDownload\",\n",
    "        \"dateModified\": \"2019-06-12T14:44:15Z\",\n",
    "        \"description\": \"EML metadata describing the dataset\",\n",
    "        \"encodingFormat\": [\n",
    "            \"application/xml\",\n",
    "            \"https://eml.ecoinformatics.org/eml-2.2.0\"\n",
    "        ],\n",
    "        \"name\": \"eml-metadatafile.xml\"\n",
    "    }\n",
    "}"
   ]
  },
  {
   "cell_type": "code",
   "execution_count": 34,
   "metadata": {
    "colab": {
     "base_uri": "https://localhost:8080/",
     "height": 433
    },
    "id": "T7V1DvkiZn5l",
    "outputId": "1685091f-a671-4564-cd34-841488255f59",
    "pycharm": {
     "name": "#%%\n"
    }
   },
   "outputs": [
    {
     "ename": "NameError",
     "evalue": "name 'docjson' is not defined",
     "output_type": "error",
     "traceback": [
      "\u001b[0;31m---------------------------------------------------------------------------\u001b[0m",
      "\u001b[0;31mNameError\u001b[0m                                 Traceback (most recent call last)",
      "\u001b[0;32m<ipython-input-34-d4281ae8ca4c>\u001b[0m in \u001b[0;36m<module>\u001b[0;34m\u001b[0m\n\u001b[0;32m----> 1\u001b[0;31m \u001b[0mshow_graph\u001b[0m\u001b[0;34m(\u001b[0m\u001b[0mdocjson\u001b[0m\u001b[0;34m)\u001b[0m\u001b[0;34m\u001b[0m\u001b[0;34m\u001b[0m\u001b[0m\n\u001b[0m",
      "\u001b[0;31mNameError\u001b[0m: name 'docjson' is not defined"
     ]
    }
   ],
   "source": [
    "\n",
    "context = {\n",
    "    \"@vocab\": \"https://schema.org/\",\n",
    "}\n",
    "\n",
    "# compact a document according to a particular context\n",
    "# see: http://json-ld.org/spec/latest/json-ld/#compacted-document-form\n",
    "compacted = jsonld.compact(_, context)  # CAUTION..  note _ which is reading the previous cell output...  \n",
    "\n",
    "jd = json.dumps(compacted, indent=4)\n",
    "print(jd)"
   ]
  },
  {
   "cell_type": "code",
   "execution_count": null,
   "metadata": {
    "id": "OQiDqQdVqfeb",
    "pycharm": {
     "name": "#%%\n"
    }
   },
   "outputs": [],
   "source": [
    "show_graph(docjson)"
   ]
  },
  {
   "cell_type": "code",
   "execution_count": null,
   "metadata": {
    "collapsed": false,
    "jupyter": {
     "outputs_hidden": false
    },
    "pycharm": {
     "name": "#%%\n"
    }
   },
   "outputs": [],
   "source": []
  }
 ],
 "metadata": {
  "colab": {
   "collapsed_sections": [
    "C1dK9w-dT4BR"
   ],
   "name": "OIH_Editor.ipynb",
   "provenance": [],
   "toc_visible": true
  },
  "interpreter": {
   "hash": "e7370f93d1d0cde622a1f8e1c04877d8463912d04d973331ad4851f04de6915a"
  },
  "kernelspec": {
   "display_name": "Python 3 (ipykernel)",
   "language": "python",
   "name": "python3"
  },
  "language_info": {
   "codemirror_mode": {
    "name": "ipython",
    "version": 3
   },
   "file_extension": ".py",
   "mimetype": "text/x-python",
   "name": "python",
   "nbconvert_exporter": "python",
   "pygments_lexer": "ipython3",
   "version": "3.10.8"
  }
 },
 "nbformat": 4,
 "nbformat_minor": 4
}
