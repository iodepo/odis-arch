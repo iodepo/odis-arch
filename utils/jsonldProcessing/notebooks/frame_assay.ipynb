{
 "cells": [
  {
   "cell_type": "markdown",
   "metadata": {
    "id": "GXzeuoO2zHt_"
   },
   "source": [
    "# GleanerIO JSON-LD Framing Processor\n",
    "\n",
    "## About\n",
    "\n",
    "- convert this from doing SHACL to doing framing\n"
   ]
  },
  {
   "cell_type": "markdown",
   "metadata": {
    "id": "B5cajEkMzsp6"
   },
   "source": [
    "### Imports\n"
   ]
  },
  {
   "cell_type": "code",
   "execution_count": 1,
   "metadata": {
    "id": "hoCJfO4s0BF_"
   },
   "outputs": [],
   "source": [
    "import dask\n",
    "import pandas as pd\n",
    "import json, io\n",
    "import pathlib\n",
    "import s3fs\n",
    "import kglab\n",
    "from rdflib import Graph  #, plugin\n",
    "from pyld import jsonld"
   ]
  },
  {
   "cell_type": "markdown",
   "metadata": {
    "id": "gF-jNcIplO3X"
   },
   "source": [
    "### Setting and options"
   ]
  },
  {
   "cell_type": "code",
   "execution_count": 2,
   "metadata": {
    "colab": {
     "base_uri": "https://localhost:8080/",
     "height": 74
    },
    "id": "Nkiij1wElRrf",
    "outputId": "0f8a88aa-3c71-49f4-98a4-e58396f15412"
   },
   "outputs": [],
   "source": [
    "# Set up the S3 File system\n",
    "oss = s3fs.S3FileSystem(\n",
    "    anon=True,\n",
    "    client_kwargs = {\"endpoint_url\":\"https://oss.geodex.org\"}\n",
    ")"
   ]
  },
  {
   "cell_type": "markdown",
   "metadata": {},
   "source": [
    "### Set up Dask"
   ]
  },
  {
   "cell_type": "code",
   "execution_count": 6,
   "metadata": {},
   "outputs": [
    {
     "data": {
      "text/html": [
       "\n",
       "            <div>\n",
       "                <div style=\"\n",
       "                    width: 24px;\n",
       "                    height: 24px;\n",
       "                    background-color: #e1e1e1;\n",
       "                    border: 3px solid #9D9D9D;\n",
       "                    border-radius: 5px;\n",
       "                    position: absolute;\"> </div>\n",
       "                <div style=\"margin-left: 48px;\">\n",
       "                    <h3 style=\"margin-bottom: 0px;\">Client</h3>\n",
       "                    <p style=\"color: #9D9D9D; margin-bottom: 0px;\">Client-839df108-5dad-11ec-82fe-18c04d87f382</p>\n",
       "                    <table style=\"width: 100%; text-align: left;\">\n",
       "                    \n",
       "                <tr>\n",
       "                    <td style=\"text-align: left;\"><strong>Connection method:</strong> Cluster object</td>\n",
       "                    <td style=\"text-align: left;\"><strong>Cluster type:</strong> LocalCluster</td>\n",
       "                </tr>\n",
       "                \n",
       "                <tr>\n",
       "                    <td style=\"text-align: left;\">\n",
       "                        <strong>Dashboard: </strong>\n",
       "                        <a href=\"http://127.0.0.1:8787/status\">http://127.0.0.1:8787/status</a>\n",
       "                    </td>\n",
       "                    <td style=\"text-align: left;\"></td>\n",
       "                </tr>\n",
       "                \n",
       "                    </table>\n",
       "                    \n",
       "                <details>\n",
       "                <summary style=\"margin-bottom: 20px;\"><h3 style=\"display: inline;\">Cluster Info</h3></summary>\n",
       "                \n",
       "            <div class=\"jp-RenderedHTMLCommon jp-RenderedHTML jp-mod-trusted jp-OutputArea-output\">\n",
       "                <div style=\"\n",
       "                    width: 24px;\n",
       "                    height: 24px;\n",
       "                    background-color: #e1e1e1;\n",
       "                    border: 3px solid #9D9D9D;\n",
       "                    border-radius: 5px;\n",
       "                    position: absolute;\"> </div>\n",
       "                <div style=\"margin-left: 48px;\">\n",
       "                    <h3 style=\"margin-bottom: 0px; margin-top: 0px;\">LocalCluster</h3>\n",
       "                    <p style=\"color: #9D9D9D; margin-bottom: 0px;\">3d2b3ac6</p>\n",
       "                    <table style=\"width: 100%; text-align: left;\">\n",
       "                    \n",
       "            <tr>\n",
       "                <td style=\"text-align: left;\"><strong>Status:</strong> running</td>\n",
       "                <td style=\"text-align: left;\"><strong>Using processes:</strong> True</td>\n",
       "            </tr>\n",
       "        \n",
       "            <tr>\n",
       "                <td style=\"text-align: left;\">\n",
       "                    <strong>Dashboard:</strong> <a href=\"http://127.0.0.1:8787/status\">http://127.0.0.1:8787/status</a>\n",
       "                </td>\n",
       "                <td style=\"text-align: left;\"><strong>Workers:</strong> 4</td>\n",
       "            </tr>\n",
       "            <tr>\n",
       "                <td style=\"text-align: left;\">\n",
       "                    <strong>Total threads:</strong>\n",
       "                    20\n",
       "                </td>\n",
       "                <td style=\"text-align: left;\">\n",
       "                    <strong>Total memory:</strong>\n",
       "                    31.17 GiB\n",
       "                </td>\n",
       "            </tr>\n",
       "        \n",
       "                    </table>\n",
       "                    <details>\n",
       "                    <summary style=\"margin-bottom: 20px;\"><h3 style=\"display: inline;\">Scheduler Info</h3></summary>\n",
       "                    \n",
       "        <div style=\"\">\n",
       "            \n",
       "            <div>\n",
       "                <div style=\"\n",
       "                    width: 24px;\n",
       "                    height: 24px;\n",
       "                    background-color: #FFF7E5;\n",
       "                    border: 3px solid #FF6132;\n",
       "                    border-radius: 5px;\n",
       "                    position: absolute;\"> </div>\n",
       "                <div style=\"margin-left: 48px;\">\n",
       "                    <h3 style=\"margin-bottom: 0px;\">Scheduler</h3>\n",
       "                    <p style=\"color: #9D9D9D; margin-bottom: 0px;\">Scheduler-d30e7186-73ea-4452-b288-7f171cf70431</p>\n",
       "                    <table style=\"width: 100%; text-align: left;\">\n",
       "                        <tr>\n",
       "                            <td style=\"text-align: left;\"><strong>Comm:</strong> tcp://127.0.0.1:43261</td>\n",
       "                            <td style=\"text-align: left;\"><strong>Workers:</strong> 4</td>\n",
       "                        </tr>\n",
       "                        <tr>\n",
       "                            <td style=\"text-align: left;\">\n",
       "                                <strong>Dashboard:</strong> <a href=\"http://127.0.0.1:8787/status\">http://127.0.0.1:8787/status</a>\n",
       "                            </td>\n",
       "                            <td style=\"text-align: left;\">\n",
       "                                <strong>Total threads:</strong>\n",
       "                                20\n",
       "                            </td>\n",
       "                        </tr>\n",
       "                        <tr>\n",
       "                            <td style=\"text-align: left;\">\n",
       "                                <strong>Started:</strong>\n",
       "                                Just now\n",
       "                            </td>\n",
       "                            <td style=\"text-align: left;\">\n",
       "                                <strong>Total memory:</strong>\n",
       "                                31.17 GiB\n",
       "                            </td>\n",
       "                        </tr>\n",
       "                    </table>\n",
       "                </div>\n",
       "            </div>\n",
       "        \n",
       "            <details style=\"margin-left: 48px;\">\n",
       "            <summary style=\"margin-bottom: 20px;\"><h3 style=\"display: inline;\">Workers</h3></summary>\n",
       "            \n",
       "            <div style=\"margin-bottom: 20px;\">\n",
       "                <div style=\"width: 24px;\n",
       "                            height: 24px;\n",
       "                            background-color: #DBF5FF;\n",
       "                            border: 3px solid #4CC9FF;\n",
       "                            border-radius: 5px;\n",
       "                            position: absolute;\"> </div>\n",
       "                <div style=\"margin-left: 48px;\">\n",
       "                <details>\n",
       "                    <summary>\n",
       "                        <h4 style=\"margin-bottom: 0px; display: inline;\">Worker: 0</h4>\n",
       "                    </summary>\n",
       "                    <table style=\"width: 100%; text-align: left;\">\n",
       "                        <tr>\n",
       "                            <td style=\"text-align: left;\"><strong>Comm: </strong> tcp://127.0.0.1:43823</td>\n",
       "                            <td style=\"text-align: left;\"><strong>Total threads: </strong> 5</td>\n",
       "                        </tr>\n",
       "                        <tr>\n",
       "                            <td style=\"text-align: left;\">\n",
       "                                <strong>Dashboard: </strong>\n",
       "                                <a href=\"http://127.0.0.1:37475/status\">http://127.0.0.1:37475/status</a>\n",
       "                            </td>\n",
       "                            <td style=\"text-align: left;\">\n",
       "                                <strong>Memory: </strong>\n",
       "                                7.79 GiB\n",
       "                            </td>\n",
       "                        </tr>\n",
       "                        <tr>\n",
       "                            <td style=\"text-align: left;\"><strong>Nanny: </strong> tcp://127.0.0.1:35915</td>\n",
       "                            <td style=\"text-align: left;\"></td>\n",
       "                        </tr>\n",
       "                        <tr>\n",
       "                            <td colspan=\"2\" style=\"text-align: left;\">\n",
       "                                <strong>Local directory: </strong>\n",
       "                                /home/fils/Containers/dvols/jupyter/work/Gleaner/notebooks/validation/dask-worker-space/worker-8ljx660e\n",
       "                            </td>\n",
       "                        </tr>\n",
       "                        \n",
       "                <tr>\n",
       "                    <td style=\"text-align: left;\">\n",
       "                        <strong>GPU: </strong>NVIDIA GeForce GTX 1050 Ti\n",
       "                    </td>\n",
       "                    <td style=\"text-align: left;\">\n",
       "                        <strong>GPU memory: </strong>\n",
       "                        3.94 GiB\n",
       "                    </td>\n",
       "                </tr>\n",
       "                \n",
       "                        \n",
       "                    </table>\n",
       "                </details>\n",
       "                </div>\n",
       "            </div>\n",
       "            \n",
       "            <div style=\"margin-bottom: 20px;\">\n",
       "                <div style=\"width: 24px;\n",
       "                            height: 24px;\n",
       "                            background-color: #DBF5FF;\n",
       "                            border: 3px solid #4CC9FF;\n",
       "                            border-radius: 5px;\n",
       "                            position: absolute;\"> </div>\n",
       "                <div style=\"margin-left: 48px;\">\n",
       "                <details>\n",
       "                    <summary>\n",
       "                        <h4 style=\"margin-bottom: 0px; display: inline;\">Worker: 1</h4>\n",
       "                    </summary>\n",
       "                    <table style=\"width: 100%; text-align: left;\">\n",
       "                        <tr>\n",
       "                            <td style=\"text-align: left;\"><strong>Comm: </strong> tcp://127.0.0.1:38989</td>\n",
       "                            <td style=\"text-align: left;\"><strong>Total threads: </strong> 5</td>\n",
       "                        </tr>\n",
       "                        <tr>\n",
       "                            <td style=\"text-align: left;\">\n",
       "                                <strong>Dashboard: </strong>\n",
       "                                <a href=\"http://127.0.0.1:35135/status\">http://127.0.0.1:35135/status</a>\n",
       "                            </td>\n",
       "                            <td style=\"text-align: left;\">\n",
       "                                <strong>Memory: </strong>\n",
       "                                7.79 GiB\n",
       "                            </td>\n",
       "                        </tr>\n",
       "                        <tr>\n",
       "                            <td style=\"text-align: left;\"><strong>Nanny: </strong> tcp://127.0.0.1:38403</td>\n",
       "                            <td style=\"text-align: left;\"></td>\n",
       "                        </tr>\n",
       "                        <tr>\n",
       "                            <td colspan=\"2\" style=\"text-align: left;\">\n",
       "                                <strong>Local directory: </strong>\n",
       "                                /home/fils/Containers/dvols/jupyter/work/Gleaner/notebooks/validation/dask-worker-space/worker-g1n7y4xx\n",
       "                            </td>\n",
       "                        </tr>\n",
       "                        \n",
       "                <tr>\n",
       "                    <td style=\"text-align: left;\">\n",
       "                        <strong>GPU: </strong>NVIDIA GeForce GTX 1050 Ti\n",
       "                    </td>\n",
       "                    <td style=\"text-align: left;\">\n",
       "                        <strong>GPU memory: </strong>\n",
       "                        3.94 GiB\n",
       "                    </td>\n",
       "                </tr>\n",
       "                \n",
       "                        \n",
       "                    </table>\n",
       "                </details>\n",
       "                </div>\n",
       "            </div>\n",
       "            \n",
       "            <div style=\"margin-bottom: 20px;\">\n",
       "                <div style=\"width: 24px;\n",
       "                            height: 24px;\n",
       "                            background-color: #DBF5FF;\n",
       "                            border: 3px solid #4CC9FF;\n",
       "                            border-radius: 5px;\n",
       "                            position: absolute;\"> </div>\n",
       "                <div style=\"margin-left: 48px;\">\n",
       "                <details>\n",
       "                    <summary>\n",
       "                        <h4 style=\"margin-bottom: 0px; display: inline;\">Worker: 2</h4>\n",
       "                    </summary>\n",
       "                    <table style=\"width: 100%; text-align: left;\">\n",
       "                        <tr>\n",
       "                            <td style=\"text-align: left;\"><strong>Comm: </strong> tcp://127.0.0.1:39957</td>\n",
       "                            <td style=\"text-align: left;\"><strong>Total threads: </strong> 5</td>\n",
       "                        </tr>\n",
       "                        <tr>\n",
       "                            <td style=\"text-align: left;\">\n",
       "                                <strong>Dashboard: </strong>\n",
       "                                <a href=\"http://127.0.0.1:37989/status\">http://127.0.0.1:37989/status</a>\n",
       "                            </td>\n",
       "                            <td style=\"text-align: left;\">\n",
       "                                <strong>Memory: </strong>\n",
       "                                7.79 GiB\n",
       "                            </td>\n",
       "                        </tr>\n",
       "                        <tr>\n",
       "                            <td style=\"text-align: left;\"><strong>Nanny: </strong> tcp://127.0.0.1:40327</td>\n",
       "                            <td style=\"text-align: left;\"></td>\n",
       "                        </tr>\n",
       "                        <tr>\n",
       "                            <td colspan=\"2\" style=\"text-align: left;\">\n",
       "                                <strong>Local directory: </strong>\n",
       "                                /home/fils/Containers/dvols/jupyter/work/Gleaner/notebooks/validation/dask-worker-space/worker-ndg4wahb\n",
       "                            </td>\n",
       "                        </tr>\n",
       "                        \n",
       "                <tr>\n",
       "                    <td style=\"text-align: left;\">\n",
       "                        <strong>GPU: </strong>NVIDIA GeForce GTX 1050 Ti\n",
       "                    </td>\n",
       "                    <td style=\"text-align: left;\">\n",
       "                        <strong>GPU memory: </strong>\n",
       "                        3.94 GiB\n",
       "                    </td>\n",
       "                </tr>\n",
       "                \n",
       "                        \n",
       "                    </table>\n",
       "                </details>\n",
       "                </div>\n",
       "            </div>\n",
       "            \n",
       "            <div style=\"margin-bottom: 20px;\">\n",
       "                <div style=\"width: 24px;\n",
       "                            height: 24px;\n",
       "                            background-color: #DBF5FF;\n",
       "                            border: 3px solid #4CC9FF;\n",
       "                            border-radius: 5px;\n",
       "                            position: absolute;\"> </div>\n",
       "                <div style=\"margin-left: 48px;\">\n",
       "                <details>\n",
       "                    <summary>\n",
       "                        <h4 style=\"margin-bottom: 0px; display: inline;\">Worker: 3</h4>\n",
       "                    </summary>\n",
       "                    <table style=\"width: 100%; text-align: left;\">\n",
       "                        <tr>\n",
       "                            <td style=\"text-align: left;\"><strong>Comm: </strong> tcp://127.0.0.1:42133</td>\n",
       "                            <td style=\"text-align: left;\"><strong>Total threads: </strong> 5</td>\n",
       "                        </tr>\n",
       "                        <tr>\n",
       "                            <td style=\"text-align: left;\">\n",
       "                                <strong>Dashboard: </strong>\n",
       "                                <a href=\"http://127.0.0.1:44803/status\">http://127.0.0.1:44803/status</a>\n",
       "                            </td>\n",
       "                            <td style=\"text-align: left;\">\n",
       "                                <strong>Memory: </strong>\n",
       "                                7.79 GiB\n",
       "                            </td>\n",
       "                        </tr>\n",
       "                        <tr>\n",
       "                            <td style=\"text-align: left;\"><strong>Nanny: </strong> tcp://127.0.0.1:42523</td>\n",
       "                            <td style=\"text-align: left;\"></td>\n",
       "                        </tr>\n",
       "                        <tr>\n",
       "                            <td colspan=\"2\" style=\"text-align: left;\">\n",
       "                                <strong>Local directory: </strong>\n",
       "                                /home/fils/Containers/dvols/jupyter/work/Gleaner/notebooks/validation/dask-worker-space/worker-y5yv_7pk\n",
       "                            </td>\n",
       "                        </tr>\n",
       "                        \n",
       "                <tr>\n",
       "                    <td style=\"text-align: left;\">\n",
       "                        <strong>GPU: </strong>NVIDIA GeForce GTX 1050 Ti\n",
       "                    </td>\n",
       "                    <td style=\"text-align: left;\">\n",
       "                        <strong>GPU memory: </strong>\n",
       "                        3.94 GiB\n",
       "                    </td>\n",
       "                </tr>\n",
       "                \n",
       "                        \n",
       "                    </table>\n",
       "                </details>\n",
       "                </div>\n",
       "            </div>\n",
       "            \n",
       "            </details>\n",
       "        </div>\n",
       "        \n",
       "                    </details>\n",
       "                </div>\n",
       "            </div>\n",
       "        \n",
       "                </details>\n",
       "                \n",
       "                </div>\n",
       "            </div>\n",
       "        "
      ],
      "text/plain": [
       "<Client: 'tcp://127.0.0.1:43261' processes=4 threads=20, memory=31.17 GiB>"
      ]
     },
     "execution_count": 6,
     "metadata": {},
     "output_type": "execute_result"
    }
   ],
   "source": [
    "from dask.distributed import Client    #, progress\n",
    "client = Client(threads_per_worker=5, n_workers=4)\n",
    "client"
   ]
  },
  {
   "cell_type": "markdown",
   "metadata": {},
   "source": [
    "## Framing Playground\n",
    "\n",
    "A little playground to test frames"
   ]
  },
  {
   "cell_type": "code",
   "execution_count": 3,
   "metadata": {},
   "outputs": [],
   "source": [
    "myframe =  {\"@context\":{\"@vocab\": \"https://schema.org/\"}, \"@type\": \"Course\", \"@explicit\": \"true\", \"description\": {}};"
   ]
  },
  {
   "cell_type": "code",
   "execution_count": 4,
   "metadata": {},
   "outputs": [
    {
     "name": "stdout",
     "output_type": "stream",
     "text": [
      "{'@context': {'@vocab': 'https://schema.org/'}, '@type': 'Course', 'description': \"In this course you will get an introduction to the main tools and ideas in the data scientist's toolbox...\"}\n"
     ]
    }
   ],
   "source": [
    "dg = './datagraphs/datagraph.json'\n",
    "with open(dg,\"r\") as f:\n",
    "    jld = json.loads(f.read().replace('\\n',' '))\n",
    "    myframed = jsonld.frame(jld, myframe)\n",
    "\n",
    "print(myframed)\n"
   ]
  },
  {
   "cell_type": "markdown",
   "metadata": {},
   "source": [
    "## Dask processing"
   ]
  },
  {
   "cell_type": "markdown",
   "metadata": {},
   "source": []
  },
  {
   "cell_type": "markdown",
   "metadata": {
    "pycharm": {
     "name": "#%% md\n"
    }
   },
   "source": [
    "### Define Delayed Definitions"
   ]
  },
  {
   "cell_type": "code",
   "execution_count": 19,
   "metadata": {
    "collapsed": false,
    "jupyter": {
     "outputs_hidden": false
    },
    "pycharm": {
     "name": "#%%\n"
    }
   },
   "outputs": [],
   "source": [
    "# Simple JSON-LD framing inside Dask function\n",
    "@dask.delayed()\n",
    "def citation_frame(fn):\n",
    "    # or preferably open in text mode and json.load from the file\n",
    "    citationframe = {\"@context\":{\"@vocab\": \"https://schema.org/\"}, \"@type\": \"Dataset\", \"@explicit\": \"true\", \"description\": {}};\n",
    "    #   citationframe = {\"@context\":{\"@vocab\": ctx}, \"@type\": \"Dataset\", \"@explicit\": \"true\", \"citation\": {}};\n",
    "    with oss.open(fn, 'rb') as f:\n",
    "        #return json.loads(f.read().replace('\\n',' '))\n",
    "        jld = json.loads(f.read().decode(\"utf-8\", \"ignore\").replace('\\n',' '))\n",
    "        framed = jsonld.frame(jld, citationframe)\n",
    "        return framed   # ['citation']"
   ]
  },
  {
   "cell_type": "markdown",
   "metadata": {},
   "source": [
    "### Process files\n"
   ]
  },
  {
   "cell_type": "code",
   "execution_count": 20,
   "metadata": {
    "id": "bxgBNI0cZC0Z",
    "tags": []
   },
   "outputs": [
    {
     "name": "stdout",
     "output_type": "stream",
     "text": [
      "697\n",
      "CPU times: user 1.13 s, sys: 119 ms, total: 1.25 s\n",
      "Wall time: 5.63 s\n"
     ]
    }
   ],
   "source": [
    "%%time\n",
    "\n",
    "fns = oss.ls('gleaner/summoned/lipdverse')\n",
    "o = [citation_frame(f) for f in fns]\n",
    "\n",
    "results = dask.compute(*o)  ## Wait..  can I just dask.compute(o)  ????\n",
    "print(len(results))"
   ]
  },
  {
   "cell_type": "markdown",
   "metadata": {},
   "source": [
    "### Loop on results and load to graph"
   ]
  },
  {
   "cell_type": "code",
   "execution_count": 30,
   "metadata": {
    "pycharm": {
     "name": "#%%\n"
    },
    "tags": []
   },
   "outputs": [
    {
     "name": "stdout",
     "output_type": "stream",
     "text": [
      "{\"@context\": {\"@vocab\": \"https://schema.org/\"}, \"@id\": \"http://lipdverse.org/Temp12k/1_0_2/Wonderkrater.Truc.2013.html\", \"@type\": \"Dataset\", \"description\": \"This dataset from Wonderkrater (Africa>Southern Africa>South Africa) is derived from a Peat archive, and includes data on ageMin, AgeOld, temperature, ReliabIeYN1, uncertaintyHigh, uncertaintyLow, ReliabIeYN2, and temperatureComposite. The data are relevant to the time interval from 19825 to -29 (Calibrated).\"}\n"
     ]
    }
   ],
   "source": [
    "# You likely don't want to do this..   prints a lot of data\n",
    "# for r in results:\n",
    "#     print(r)\n",
    "print(json.dumps(results[0]))"
   ]
  },
  {
   "cell_type": "code",
   "execution_count": 22,
   "metadata": {
    "tags": []
   },
   "outputs": [],
   "source": [
    "rnamespaces = {\n",
    "    \"schema\":  \"https://schema.org/\",\n",
    "    \"shacl\":   \"http://www.w3.org/ns/shacl#\" ,\n",
    "}\n",
    "\n",
    "rkg = kglab.KnowledgeGraph(\n",
    "    name = \"Schema.org shacl eval datagraph\",\n",
    "    base_uri = \"https://example.org/id/\",\n",
    "    namespaces = rnamespaces,\n",
    ")\n",
    "\n",
    "g = rkg.rdf_graph()\n",
    "\n",
    "for r in results:\n",
    "    rkg.load_rdf_text(data=json.dumps(r), format=\"json-ld\") \n",
    "        \n",
    "   "
   ]
  },
  {
   "cell_type": "code",
   "execution_count": 33,
   "metadata": {
    "collapsed": false,
    "jupyter": {
     "outputs_hidden": false
    },
    "pycharm": {
     "name": "#%%\n"
    }
   },
   "outputs": [],
   "source": [
    "sparql = \"\"\"\n",
    "PREFIX schema: <https://schema.org/>\n",
    "SELECT *\n",
    "  WHERE {\n",
    "    ?s schema:description ?o .\n",
    "  }\n",
    "\"\"\"\n",
    "\n",
    "df = rkg.query_as_df(sparql)"
   ]
  },
  {
   "cell_type": "code",
   "execution_count": 34,
   "metadata": {
    "collapsed": false,
    "jupyter": {
     "outputs_hidden": false
    },
    "pycharm": {
     "name": "#%%\n"
    }
   },
   "outputs": [
    {
     "name": "stdout",
     "output_type": "stream",
     "text": [
      "<class 'pandas.core.frame.DataFrame'>\n",
      "RangeIndex: 697 entries, 0 to 696\n",
      "Data columns (total 2 columns):\n",
      " #   Column  Non-Null Count  Dtype \n",
      "---  ------  --------------  ----- \n",
      " 0   o       697 non-null    object\n",
      " 1   s       697 non-null    object\n",
      "dtypes: object(2)\n",
      "memory usage: 11.0+ KB\n"
     ]
    },
    {
     "data": {
      "text/html": [
       "<div>\n",
       "<style scoped>\n",
       "    .dataframe tbody tr th:only-of-type {\n",
       "        vertical-align: middle;\n",
       "    }\n",
       "\n",
       "    .dataframe tbody tr th {\n",
       "        vertical-align: top;\n",
       "    }\n",
       "\n",
       "    .dataframe thead th {\n",
       "        text-align: right;\n",
       "    }\n",
       "</style>\n",
       "<table border=\"1\" class=\"dataframe\">\n",
       "  <thead>\n",
       "    <tr style=\"text-align: right;\">\n",
       "      <th></th>\n",
       "      <th>o</th>\n",
       "      <th>s</th>\n",
       "    </tr>\n",
       "  </thead>\n",
       "  <tbody>\n",
       "    <tr>\n",
       "      <th>0</th>\n",
       "      <td>This dataset from Wonderkrater (Africa&gt;Southern Africa&gt;South Africa) is derived from a Peat archive, and includes data on ageMin, AgeOld, temperature, ReliabIeYN1, uncertaintyHigh, uncertaintyLow, ReliabIeYN2, and temperatureComposite. The data are relevant to the time interval from 19825 to -29 (Calibrated).</td>\n",
       "      <td>&lt;http://lipdverse.org/Temp12k/1_0_2/Wonderkrater.Truc.2013.html&gt;</td>\n",
       "    </tr>\n",
       "    <tr>\n",
       "      <th>1</th>\n",
       "      <td>This dataset from GeoB5844_2 (Indian Ocean&gt;Red Sea) is derived from a MarineSediment archive, and includes data on ageDuplicate, ageOriginal, d18o_ruber, d18o_acicula, d18o_inflata, d18o_mabahethi, d18o_marginata, Uk37, temperature, and ageMedianBacon. The data are relevant to the time interval from 21014 to 516 (BP).</td>\n",
       "      <td>&lt;http://lipdverse.org/Temp12k/1_0_2/GeoB5844_2.Arz.2003.html&gt;</td>\n",
       "    </tr>\n",
       "    <tr>\n",
       "      <th>2</th>\n",
       "      <td>This dataset from Buntes Moor (Europe&gt;Western Europe&gt;Austria) is derived from a Peat archive, and includes data on GDD5, temperature, temperatureComposite, and precipitation. The data are relevant to the time interval from 6521 to 330 (BP).</td>\n",
       "      <td>&lt;http://lipdverse.org/Temp12k/1_0_2/BuntesMoor.Weirich.1980.html&gt;</td>\n",
       "    </tr>\n",
       "    <tr>\n",
       "      <th>3</th>\n",
       "      <td>This dataset from Mohawk (North America&gt;United States Of America&gt;Connecticut) is derived from a LakeSediment archive, and includes data on temperature and precipitation. The data are relevant to the time interval from 16337 to 215 (yr 14C BP).</td>\n",
       "      <td>&lt;http://lipdverse.org/Temp12k/1_0_2/Mohawk.Webb.1986.html&gt;</td>\n",
       "    </tr>\n",
       "    <tr>\n",
       "      <th>4</th>\n",
       "      <td>This dataset from MD98_2195 (Pacific Ocean&gt;Western Pacific Ocean&gt;East China Sea) is derived from a MarineSediment archive, and includes data on ageDuplicate, ageOriginal, Uk37, TEX86, temperature, and ageMedianBacon. The data are relevant to the time interval from 23203 to 194 (BP).</td>\n",
       "      <td>&lt;http://lipdverse.org/Temp12k/1_0_2/MD98_2195.Ijiri.2005.html&gt;</td>\n",
       "    </tr>\n",
       "    <tr>\n",
       "      <th>5</th>\n",
       "      <td>This dataset from Churruca (South America&gt;Chile) is derived from a MarineSediment archive, and includes data on core and temperature. The data are relevant to the time interval from 11570 to 170 (BP).</td>\n",
       "      <td>&lt;http://lipdverse.org/Temp12k/1_0_2/Churruca.Caniupan.2014.html&gt;</td>\n",
       "    </tr>\n",
       "    <tr>\n",
       "      <th>6</th>\n",
       "      <td>This dataset from Laguna Chaplin (South America&gt;Bolivia) is derived from a LakeSediment archive, and includes data on ageMin, AgeOld, temperature, uncertaintyHigh, uncertaintyLow, and ReliabIeYN1. The data are relevant to the time interval from 15144 to -44 (Calibrated).</td>\n",
       "      <td>&lt;http://lipdverse.org/Temp12k/1_0_2/LagunaChaplin.Punyasena.2008.html&gt;</td>\n",
       "    </tr>\n",
       "    <tr>\n",
       "      <th>7</th>\n",
       "      <td>This dataset from sfl4-1 (North America&gt;Greenland) is derived from a LakeSediment archive, and includes data on OM. The data are relevant to the time interval from 7400 to 12 (BP).</td>\n",
       "      <td>&lt;http://lipdverse.org/Temp12k/1_0_2/Sfl4-1.Willemse.1999.html&gt;</td>\n",
       "    </tr>\n",
       "    <tr>\n",
       "      <th>8</th>\n",
       "      <td>This dataset from Hidden Lake CA (North America&gt;United States Of America&gt;California) is derived from a LakeSediment archive, and includes data on temperature, uncertainty, and reliable. The data are relevant to the time interval from 15314 to 16 (BP).</td>\n",
       "      <td>&lt;http://lipdverse.org/Temp12k/1_0_2/HiddenLakeCA.Potito.2006.html&gt;</td>\n",
       "    </tr>\n",
       "    <tr>\n",
       "      <th>9</th>\n",
       "      <td>This dataset from Laihalampi (Europe&gt;Northern Europe&gt;Scandinavia&gt;Finland) is derived from a LakeSediment archive, and includes data on temperature. The data are relevant to the time interval from 8995 to 49 (BP).</td>\n",
       "      <td>&lt;http://lipdverse.org/Temp12k/1_0_2/Laihalampi.Heikkila.2003.html&gt;</td>\n",
       "    </tr>\n",
       "  </tbody>\n",
       "</table>\n",
       "</div>"
      ],
      "text/plain": [
       "                                                                                                                                                                                                                                                                                                                                 o  \\\n",
       "0           This dataset from Wonderkrater (Africa>Southern Africa>South Africa) is derived from a Peat archive, and includes data on ageMin, AgeOld, temperature, ReliabIeYN1, uncertaintyHigh, uncertaintyLow, ReliabIeYN2, and temperatureComposite. The data are relevant to the time interval from 19825 to -29 (Calibrated).   \n",
       "1  This dataset from GeoB5844_2 (Indian Ocean>Red Sea) is derived from a MarineSediment archive, and includes data on ageDuplicate, ageOriginal, d18o_ruber, d18o_acicula, d18o_inflata, d18o_mabahethi, d18o_marginata, Uk37, temperature, and ageMedianBacon. The data are relevant to the time interval from 21014 to 516 (BP).   \n",
       "2                                                                                 This dataset from Buntes Moor (Europe>Western Europe>Austria) is derived from a Peat archive, and includes data on GDD5, temperature, temperatureComposite, and precipitation. The data are relevant to the time interval from 6521 to 330 (BP).   \n",
       "3                                                                              This dataset from Mohawk (North America>United States Of America>Connecticut) is derived from a LakeSediment archive, and includes data on temperature and precipitation. The data are relevant to the time interval from 16337 to 215 (yr 14C BP).   \n",
       "4                                      This dataset from MD98_2195 (Pacific Ocean>Western Pacific Ocean>East China Sea) is derived from a MarineSediment archive, and includes data on ageDuplicate, ageOriginal, Uk37, TEX86, temperature, and ageMedianBacon. The data are relevant to the time interval from 23203 to 194 (BP).   \n",
       "5                                                                                                                         This dataset from Churruca (South America>Chile) is derived from a MarineSediment archive, and includes data on core and temperature. The data are relevant to the time interval from 11570 to 170 (BP).   \n",
       "6                                                  This dataset from Laguna Chaplin (South America>Bolivia) is derived from a LakeSediment archive, and includes data on ageMin, AgeOld, temperature, uncertaintyHigh, uncertaintyLow, and ReliabIeYN1. The data are relevant to the time interval from 15144 to -44 (Calibrated).   \n",
       "7                                                                                                                                             This dataset from sfl4-1 (North America>Greenland) is derived from a LakeSediment archive, and includes data on OM. The data are relevant to the time interval from 7400 to 12 (BP).   \n",
       "8                                                                      This dataset from Hidden Lake CA (North America>United States Of America>California) is derived from a LakeSediment archive, and includes data on temperature, uncertainty, and reliable. The data are relevant to the time interval from 15314 to 16 (BP).   \n",
       "9                                                                                                             This dataset from Laihalampi (Europe>Northern Europe>Scandinavia>Finland) is derived from a LakeSediment archive, and includes data on temperature. The data are relevant to the time interval from 8995 to 49 (BP).   \n",
       "\n",
       "                                                                        s  \n",
       "0        <http://lipdverse.org/Temp12k/1_0_2/Wonderkrater.Truc.2013.html>  \n",
       "1           <http://lipdverse.org/Temp12k/1_0_2/GeoB5844_2.Arz.2003.html>  \n",
       "2       <http://lipdverse.org/Temp12k/1_0_2/BuntesMoor.Weirich.1980.html>  \n",
       "3              <http://lipdverse.org/Temp12k/1_0_2/Mohawk.Webb.1986.html>  \n",
       "4          <http://lipdverse.org/Temp12k/1_0_2/MD98_2195.Ijiri.2005.html>  \n",
       "5        <http://lipdverse.org/Temp12k/1_0_2/Churruca.Caniupan.2014.html>  \n",
       "6  <http://lipdverse.org/Temp12k/1_0_2/LagunaChaplin.Punyasena.2008.html>  \n",
       "7          <http://lipdverse.org/Temp12k/1_0_2/Sfl4-1.Willemse.1999.html>  \n",
       "8      <http://lipdverse.org/Temp12k/1_0_2/HiddenLakeCA.Potito.2006.html>  \n",
       "9      <http://lipdverse.org/Temp12k/1_0_2/Laihalampi.Heikkila.2003.html>  "
      ]
     },
     "execution_count": 34,
     "metadata": {},
     "output_type": "execute_result"
    }
   ],
   "source": [
    "pdf = df.to_pandas()\n",
    "# pdf.style.apply(change_color_group, axis=None)\n",
    "pdf.info()\n",
    "pdf.head(10)"
   ]
  },
  {
   "cell_type": "code",
   "execution_count": 15,
   "metadata": {
    "collapsed": false,
    "jupyter": {
     "outputs_hidden": false
    },
    "pycharm": {
     "name": "#%%\n"
    }
   },
   "outputs": [],
   "source": [
    "# Optional export to parquet and or CSV\n",
    "df.to_parquet(\"./output/frameresults.parquet\")"
   ]
  },
  {
   "cell_type": "code",
   "execution_count": null,
   "metadata": {
    "collapsed": false,
    "jupyter": {
     "outputs_hidden": false
    },
    "pycharm": {
     "name": "#%%\n"
    }
   },
   "outputs": [],
   "source": []
  }
 ],
 "metadata": {
  "colab": {
   "collapsed_sections": [],
   "name": "DaskPlayGround.ipynb",
   "provenance": [],
   "toc_visible": true
  },
  "kernelspec": {
   "display_name": "Python 3 (ipykernel)",
   "language": "python",
   "name": "python3"
  },
  "language_info": {
   "codemirror_mode": {
    "name": "ipython",
    "version": 3
   },
   "file_extension": ".py",
   "mimetype": "text/x-python",
   "name": "python",
   "nbconvert_exporter": "python",
   "pygments_lexer": "ipython3",
   "version": "3.8.10"
  }
 },
 "nbformat": 4,
 "nbformat_minor": 4
}
