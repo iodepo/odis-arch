{
 "cells": [
  {
   "cell_type": "code",
   "execution_count": 145,
   "metadata": {
    "ExecuteTime": {
     "end_time": "2023-06-17T13:29:53.695677520Z",
     "start_time": "2023-06-17T13:29:53.690425722Z"
    }
   },
   "outputs": [
    {
     "name": "stdout",
     "output_type": "stream",
     "text": [
      "   s2_token       value  is_true  float_value empty           time\n",
      "0  80858004    5.597924     True        264.1        11/1/17 11:00\n",
      "1  8085800c    6.544626     True         73.1        11/1/17 11:00\n",
      "2  80858014    7.118717     True         65.1        11/1/17 11:00\n",
      "3  8085801c    8.285915     True         74.1        11/1/17 11:00\n",
      "4  80858024    9.000000     True         66.1        11/1/17 11:00\n",
      "5  80858034   10.000000     True         76.1        11/1/17 11:00\n",
      "6  8085803c   11.000000     True         60.1        11/1/17 11:00\n",
      "7  80858044   12.000000     True         68.1        11/1/17 10:00\n",
      "8  8085804c   13.000000     True         49.1        11/1/17 11:00\n",
      "9  80858054  100.000000     True         41.1        11/1/17 11:00\n"
     ]
    }
   ],
   "source": [
    "import pandas as pd\n",
    "# df = pd.read_csv('hex-data.csv')\n",
    "df = pd.read_csv('s2-data.csv')\n",
    "df = df.fillna('')\n",
    "print(df)"
   ]
  },
  {
   "cell_type": "code",
   "execution_count": 146,
   "metadata": {
    "ExecuteTime": {
     "end_time": "2023-06-17T13:29:53.736027001Z",
     "start_time": "2023-06-17T13:29:53.735735154Z"
    }
   },
   "outputs": [],
   "source": [
    "import json\n",
    "with open('sf_zip_geo.json', 'r') as f:\n",
    "    geojson = f.read()\n",
    "\n",
    "json_data=json.loads(geojson)"
   ]
  },
  {
   "cell_type": "code",
   "execution_count": 147,
   "metadata": {
    "ExecuteTime": {
     "end_time": "2023-06-17T13:29:53.737484076Z",
     "start_time": "2023-06-17T13:29:53.735857681Z"
    }
   },
   "outputs": [
    {
     "ename": "NameError",
     "evalue": "name 'true' is not defined",
     "output_type": "error",
     "traceback": [
      "\u001B[0;31m---------------------------------------------------------------------------\u001B[0m",
      "\u001B[0;31mNameError\u001B[0m                                 Traceback (most recent call last)",
      "\u001B[0;32m~/src/Projects/OIH/odis-arch/code/notebooks/kepler/s2_config.py\u001B[0m in \u001B[0;36m<module>\u001B[0;34m\u001B[0m\n\u001B[0;32m----> 1\u001B[0;31m \u001B[0mconfig\u001B[0m \u001B[0;34m=\u001B[0m \u001B[0;34m{\u001B[0m\u001B[0;34m\"version\"\u001B[0m\u001B[0;34m:\u001B[0m\u001B[0;34m\"v1\"\u001B[0m\u001B[0;34m,\u001B[0m\u001B[0;34m\"config\"\u001B[0m\u001B[0;34m:\u001B[0m\u001B[0;34m{\u001B[0m\u001B[0;34m\"visState\"\u001B[0m\u001B[0;34m:\u001B[0m\u001B[0;34m{\u001B[0m\u001B[0;34m\"filters\"\u001B[0m\u001B[0;34m:\u001B[0m\u001B[0;34m[\u001B[0m\u001B[0;34m]\u001B[0m\u001B[0;34m,\u001B[0m\u001B[0;34m\"layers\"\u001B[0m\u001B[0;34m:\u001B[0m\u001B[0;34m[\u001B[0m\u001B[0;34m{\u001B[0m\u001B[0;34m\"id\"\u001B[0m\u001B[0;34m:\u001B[0m\u001B[0;34m\"pmrmjnn\"\u001B[0m\u001B[0;34m,\u001B[0m\u001B[0;34m\"type\"\u001B[0m\u001B[0;34m:\u001B[0m\u001B[0;34m\"s2\"\u001B[0m\u001B[0;34m,\u001B[0m\u001B[0;34m\"config\"\u001B[0m\u001B[0;34m:\u001B[0m\u001B[0;34m{\u001B[0m\u001B[0;34m\"dataId\"\u001B[0m\u001B[0;34m:\u001B[0m\u001B[0;34m\"xc1fni7h\"\u001B[0m\u001B[0;34m,\u001B[0m\u001B[0;34m\"label\"\u001B[0m\u001B[0;34m:\u001B[0m\u001B[0;34m\"S2\"\u001B[0m\u001B[0;34m,\u001B[0m\u001B[0;34m\"color\"\u001B[0m\u001B[0;34m:\u001B[0m\u001B[0;34m[\u001B[0m\u001B[0;36m30\u001B[0m\u001B[0;34m,\u001B[0m\u001B[0;36m150\u001B[0m\u001B[0;34m,\u001B[0m\u001B[0;36m190\u001B[0m\u001B[0;34m]\u001B[0m\u001B[0;34m,\u001B[0m\u001B[0;34m\"highlightColor\"\u001B[0m\u001B[0;34m:\u001B[0m\u001B[0;34m[\u001B[0m\u001B[0;36m252\u001B[0m\u001B[0;34m,\u001B[0m\u001B[0;36m242\u001B[0m\u001B[0;34m,\u001B[0m\u001B[0;36m26\u001B[0m\u001B[0;34m,\u001B[0m\u001B[0;36m255\u001B[0m\u001B[0;34m]\u001B[0m\u001B[0;34m,\u001B[0m\u001B[0;34m\"columns\"\u001B[0m\u001B[0;34m:\u001B[0m\u001B[0;34m{\u001B[0m\u001B[0;34m\"token\"\u001B[0m\u001B[0;34m:\u001B[0m\u001B[0;34m\"s2_token\"\u001B[0m\u001B[0;34m}\u001B[0m\u001B[0;34m,\u001B[0m\u001B[0;34m\"isVisible\"\u001B[0m\u001B[0;34m:\u001B[0m\u001B[0mtrue\u001B[0m\u001B[0;34m,\u001B[0m\u001B[0;34m\"visConfig\"\u001B[0m\u001B[0;34m:\u001B[0m\u001B[0;34m{\u001B[0m\u001B[0;34m\"opacity\"\u001B[0m\u001B[0;34m:\u001B[0m\u001B[0;36m0.8\u001B[0m\u001B[0;34m,\u001B[0m\u001B[0;34m\"colorRange\"\u001B[0m\u001B[0;34m:\u001B[0m\u001B[0;34m{\u001B[0m\u001B[0;34m\"name\"\u001B[0m\u001B[0;34m:\u001B[0m\u001B[0;34m\"Global Warming\"\u001B[0m\u001B[0;34m,\u001B[0m\u001B[0;34m\"type\"\u001B[0m\u001B[0;34m:\u001B[0m\u001B[0;34m\"sequential\"\u001B[0m\u001B[0;34m,\u001B[0m\u001B[0;34m\"category\"\u001B[0m\u001B[0;34m:\u001B[0m\u001B[0;34m\"Uber\"\u001B[0m\u001B[0;34m,\u001B[0m\u001B[0;34m\"colors\"\u001B[0m\u001B[0;34m:\u001B[0m\u001B[0;34m[\u001B[0m\u001B[0;34m\"#5A1846\"\u001B[0m\u001B[0;34m,\u001B[0m\u001B[0;34m\"#900C3F\"\u001B[0m\u001B[0;34m,\u001B[0m\u001B[0;34m\"#C70039\"\u001B[0m\u001B[0;34m,\u001B[0m\u001B[0;34m\"#E3611C\"\u001B[0m\u001B[0;34m,\u001B[0m\u001B[0;34m\"#F1920E\"\u001B[0m\u001B[0;34m,\u001B[0m\u001B[0;34m\"#FFC300\"\u001B[0m\u001B[0;34m]\u001B[0m\u001B[0;34m}\u001B[0m\u001B[0;34m,\u001B[0m\u001B[0;34m\"filled\"\u001B[0m\u001B[0;34m:\u001B[0m\u001B[0mtrue\u001B[0m\u001B[0;34m,\u001B[0m\u001B[0;34m\"thickness\"\u001B[0m\u001B[0;34m:\u001B[0m\u001B[0;36m0.5\u001B[0m\u001B[0;34m,\u001B[0m\u001B[0;34m\"strokeColor\"\u001B[0m\u001B[0;34m:\u001B[0m\u001B[0mnull\u001B[0m\u001B[0;34m,\u001B[0m\u001B[0;34m\"strokeColorRange\"\u001B[0m\u001B[0;34m:\u001B[0m\u001B[0;34m{\u001B[0m\u001B[0;34m\"name\"\u001B[0m\u001B[0;34m:\u001B[0m\u001B[0;34m\"Global Warming\"\u001B[0m\u001B[0;34m,\u001B[0m\u001B[0;34m\"type\"\u001B[0m\u001B[0;34m:\u001B[0m\u001B[0;34m\"sequential\"\u001B[0m\u001B[0;34m,\u001B[0m\u001B[0;34m\"category\"\u001B[0m\u001B[0;34m:\u001B[0m\u001B[0;34m\"Uber\"\u001B[0m\u001B[0;34m,\u001B[0m\u001B[0;34m\"colors\"\u001B[0m\u001B[0;34m:\u001B[0m\u001B[0;34m[\u001B[0m\u001B[0;34m\"#5A1846\"\u001B[0m\u001B[0;34m,\u001B[0m\u001B[0;34m\"#900C3F\"\u001B[0m\u001B[0;34m,\u001B[0m\u001B[0;34m\"#C70039\"\u001B[0m\u001B[0;34m,\u001B[0m\u001B[0;34m\"#E3611C\"\u001B[0m\u001B[0;34m,\u001B[0m\u001B[0;34m\"#F1920E\"\u001B[0m\u001B[0;34m,\u001B[0m\u001B[0;34m\"#FFC300\"\u001B[0m\u001B[0;34m]\u001B[0m\u001B[0;34m}\u001B[0m\u001B[0;34m,\u001B[0m\u001B[0;34m\"sizeRange\"\u001B[0m\u001B[0;34m:\u001B[0m\u001B[0;34m[\u001B[0m\u001B[0;36m0\u001B[0m\u001B[0;34m,\u001B[0m\u001B[0;36m10\u001B[0m\u001B[0;34m]\u001B[0m\u001B[0;34m,\u001B[0m\u001B[0;34m\"stroked\"\u001B[0m\u001B[0;34m:\u001B[0m\u001B[0mtrue\u001B[0m\u001B[0;34m,\u001B[0m\u001B[0;34m\"enable3d\"\u001B[0m\u001B[0;34m:\u001B[0m\u001B[0mtrue\u001B[0m\u001B[0;34m,\u001B[0m\u001B[0;34m\"elevationScale\"\u001B[0m\u001B[0;34m:\u001B[0m\u001B[0;36m5\u001B[0m\u001B[0;34m,\u001B[0m\u001B[0;34m\"enableElevationZoomFactor\"\u001B[0m\u001B[0;34m:\u001B[0m\u001B[0mtrue\u001B[0m\u001B[0;34m,\u001B[0m\u001B[0;34m\"heightRange\"\u001B[0m\u001B[0;34m:\u001B[0m\u001B[0;34m[\u001B[0m\u001B[0;36m0\u001B[0m\u001B[0;34m,\u001B[0m\u001B[0;36m500\u001B[0m\u001B[0;34m]\u001B[0m\u001B[0;34m,\u001B[0m\u001B[0;34m\"wireframe\"\u001B[0m\u001B[0;34m:\u001B[0m\u001B[0mfalse\u001B[0m\u001B[0;34m}\u001B[0m\u001B[0;34m,\u001B[0m\u001B[0;34m\"hidden\"\u001B[0m\u001B[0;34m:\u001B[0m\u001B[0mfalse\u001B[0m\u001B[0;34m,\u001B[0m\u001B[0;34m\"textLabel\"\u001B[0m\u001B[0;34m:\u001B[0m\u001B[0;34m[\u001B[0m\u001B[0;34m{\u001B[0m\u001B[0;34m\"field\"\u001B[0m\u001B[0;34m:\u001B[0m\u001B[0mnull\u001B[0m\u001B[0;34m,\u001B[0m\u001B[0;34m\"color\"\u001B[0m\u001B[0;34m:\u001B[0m\u001B[0;34m[\u001B[0m\u001B[0;36m255\u001B[0m\u001B[0;34m,\u001B[0m\u001B[0;36m255\u001B[0m\u001B[0;34m,\u001B[0m\u001B[0;36m255\u001B[0m\u001B[0;34m]\u001B[0m\u001B[0;34m,\u001B[0m\u001B[0;34m\"size\"\u001B[0m\u001B[0;34m:\u001B[0m\u001B[0;36m18\u001B[0m\u001B[0;34m,\u001B[0m\u001B[0;34m\"offset\"\u001B[0m\u001B[0;34m:\u001B[0m\u001B[0;34m[\u001B[0m\u001B[0;36m0\u001B[0m\u001B[0;34m,\u001B[0m\u001B[0;36m0\u001B[0m\u001B[0;34m]\u001B[0m\u001B[0;34m,\u001B[0m\u001B[0;34m\"anchor\"\u001B[0m\u001B[0;34m:\u001B[0m\u001B[0;34m\"start\"\u001B[0m\u001B[0;34m,\u001B[0m\u001B[0;34m\"alignment\"\u001B[0m\u001B[0;34m:\u001B[0m\u001B[0;34m\"center\"\u001B[0m\u001B[0;34m}\u001B[0m\u001B[0;34m]\u001B[0m\u001B[0;34m}\u001B[0m\u001B[0;34m,\u001B[0m\u001B[0;34m\"visualChannels\"\u001B[0m\u001B[0;34m:\u001B[0m\u001B[0;34m{\u001B[0m\u001B[0;34m\"colorField\"\u001B[0m\u001B[0;34m:\u001B[0m\u001B[0;34m{\u001B[0m\u001B[0;34m\"name\"\u001B[0m\u001B[0;34m:\u001B[0m\u001B[0;34m\"value\"\u001B[0m\u001B[0;34m,\u001B[0m\u001B[0;34m\"type\"\u001B[0m\u001B[0;34m:\u001B[0m\u001B[0;34m\"real\"\u001B[0m\u001B[0;34m}\u001B[0m\u001B[0;34m,\u001B[0m\u001B[0;34m\"colorScale\"\u001B[0m\u001B[0;34m:\u001B[0m\u001B[0;34m\"quantile\"\u001B[0m\u001B[0;34m,\u001B[0m\u001B[0;34m\"sizeField\"\u001B[0m\u001B[0;34m:\u001B[0m\u001B[0mnull\u001B[0m\u001B[0;34m,\u001B[0m\u001B[0;34m\"sizeScale\"\u001B[0m\u001B[0;34m:\u001B[0m\u001B[0;34m\"linear\"\u001B[0m\u001B[0;34m,\u001B[0m\u001B[0;34m\"strokeColorField\"\u001B[0m\u001B[0;34m:\u001B[0m\u001B[0mnull\u001B[0m\u001B[0;34m,\u001B[0m\u001B[0;34m\"strokeColorScale\"\u001B[0m\u001B[0;34m:\u001B[0m\u001B[0;34m\"quantile\"\u001B[0m\u001B[0;34m,\u001B[0m\u001B[0;34m\"heightField\"\u001B[0m\u001B[0;34m:\u001B[0m\u001B[0;34m{\u001B[0m\u001B[0;34m\"name\"\u001B[0m\u001B[0;34m:\u001B[0m\u001B[0;34m\"value\"\u001B[0m\u001B[0;34m,\u001B[0m\u001B[0;34m\"type\"\u001B[0m\u001B[0;34m:\u001B[0m\u001B[0;34m\"real\"\u001B[0m\u001B[0;34m}\u001B[0m\u001B[0;34m,\u001B[0m\u001B[0;34m\"heightScale\"\u001B[0m\u001B[0;34m:\u001B[0m\u001B[0;34m\"linear\"\u001B[0m\u001B[0;34m}\u001B[0m\u001B[0;34m}\u001B[0m\u001B[0;34m]\u001B[0m\u001B[0;34m,\u001B[0m\u001B[0;34m\"interactionConfig\"\u001B[0m\u001B[0;34m:\u001B[0m\u001B[0;34m{\u001B[0m\u001B[0;34m\"tooltip\"\u001B[0m\u001B[0;34m:\u001B[0m\u001B[0;34m{\u001B[0m\u001B[0;34m\"fieldsToShow\"\u001B[0m\u001B[0;34m:\u001B[0m\u001B[0;34m{\u001B[0m\u001B[0;34m\"xc1fni7h\"\u001B[0m\u001B[0;34m:\u001B[0m\u001B[0;34m[\u001B[0m\u001B[0;34m{\u001B[0m\u001B[0;34m\"name\"\u001B[0m\u001B[0;34m:\u001B[0m\u001B[0;34m\"s2_token\"\u001B[0m\u001B[0;34m,\u001B[0m\u001B[0;34m\"format\"\u001B[0m\u001B[0;34m:\u001B[0m\u001B[0mnull\u001B[0m\u001B[0;34m}\u001B[0m\u001B[0;34m,\u001B[0m\u001B[0;34m{\u001B[0m\u001B[0;34m\"name\"\u001B[0m\u001B[0;34m:\u001B[0m\u001B[0;34m\"value\"\u001B[0m\u001B[0;34m,\u001B[0m\u001B[0;34m\"format\"\u001B[0m\u001B[0;34m:\u001B[0m\u001B[0mnull\u001B[0m\u001B[0;34m}\u001B[0m\u001B[0;34m,\u001B[0m\u001B[0;34m{\u001B[0m\u001B[0;34m\"name\"\u001B[0m\u001B[0;34m:\u001B[0m\u001B[0;34m\"is_true\"\u001B[0m\u001B[0;34m,\u001B[0m\u001B[0;34m\"format\"\u001B[0m\u001B[0;34m:\u001B[0m\u001B[0mnull\u001B[0m\u001B[0;34m}\u001B[0m\u001B[0;34m,\u001B[0m\u001B[0;34m{\u001B[0m\u001B[0;34m\"name\"\u001B[0m\u001B[0;34m:\u001B[0m\u001B[0;34m\"float_value\"\u001B[0m\u001B[0;34m,\u001B[0m\u001B[0;34m\"format\"\u001B[0m\u001B[0;34m:\u001B[0m\u001B[0mnull\u001B[0m\u001B[0;34m}\u001B[0m\u001B[0;34m,\u001B[0m\u001B[0;34m{\u001B[0m\u001B[0;34m\"name\"\u001B[0m\u001B[0;34m:\u001B[0m\u001B[0;34m\"empty\"\u001B[0m\u001B[0;34m,\u001B[0m\u001B[0;34m\"format\"\u001B[0m\u001B[0;34m:\u001B[0m\u001B[0mnull\u001B[0m\u001B[0;34m}\u001B[0m\u001B[0;34m]\u001B[0m\u001B[0;34m}\u001B[0m\u001B[0;34m,\u001B[0m\u001B[0;34m\"compareMode\"\u001B[0m\u001B[0;34m:\u001B[0m\u001B[0mfalse\u001B[0m\u001B[0;34m,\u001B[0m\u001B[0;34m\"compareType\"\u001B[0m\u001B[0;34m:\u001B[0m\u001B[0;34m\"absolute\"\u001B[0m\u001B[0;34m,\u001B[0m\u001B[0;34m\"enabled\"\u001B[0m\u001B[0;34m:\u001B[0m\u001B[0mtrue\u001B[0m\u001B[0;34m}\u001B[0m\u001B[0;34m,\u001B[0m\u001B[0;34m\"brush\"\u001B[0m\u001B[0;34m:\u001B[0m\u001B[0;34m{\u001B[0m\u001B[0;34m\"size\"\u001B[0m\u001B[0;34m:\u001B[0m\u001B[0;36m0.5\u001B[0m\u001B[0;34m,\u001B[0m\u001B[0;34m\"enabled\"\u001B[0m\u001B[0;34m:\u001B[0m\u001B[0mfalse\u001B[0m\u001B[0;34m}\u001B[0m\u001B[0;34m,\u001B[0m\u001B[0;34m\"geocoder\"\u001B[0m\u001B[0;34m:\u001B[0m\u001B[0;34m{\u001B[0m\u001B[0;34m\"enabled\"\u001B[0m\u001B[0;34m:\u001B[0m\u001B[0mfalse\u001B[0m\u001B[0;34m}\u001B[0m\u001B[0;34m,\u001B[0m\u001B[0;34m\"coordinate\"\u001B[0m\u001B[0;34m:\u001B[0m\u001B[0;34m{\u001B[0m\u001B[0;34m\"enabled\"\u001B[0m\u001B[0;34m:\u001B[0m\u001B[0mfalse\u001B[0m\u001B[0;34m}\u001B[0m\u001B[0;34m}\u001B[0m\u001B[0;34m,\u001B[0m\u001B[0;34m\"layerBlending\"\u001B[0m\u001B[0;34m:\u001B[0m\u001B[0;34m\"normal\"\u001B[0m\u001B[0;34m,\u001B[0m\u001B[0;34m\"splitMaps\"\u001B[0m\u001B[0;34m:\u001B[0m\u001B[0;34m[\u001B[0m\u001B[0;34m]\u001B[0m\u001B[0;34m,\u001B[0m\u001B[0;34m\"animationConfig\"\u001B[0m\u001B[0;34m:\u001B[0m\u001B[0;34m{\u001B[0m\u001B[0;34m\"currentTime\"\u001B[0m\u001B[0;34m:\u001B[0m\u001B[0mnull\u001B[0m\u001B[0;34m,\u001B[0m\u001B[0;34m\"speed\"\u001B[0m\u001B[0;34m:\u001B[0m\u001B[0;36m1\u001B[0m\u001B[0;34m}\u001B[0m\u001B[0;34m}\u001B[0m\u001B[0;34m,\u001B[0m\u001B[0;34m\"mapState\"\u001B[0m\u001B[0;34m:\u001B[0m\u001B[0;34m{\u001B[0m\u001B[0;34m\"bearing\"\u001B[0m\u001B[0;34m:\u001B[0m\u001B[0;36m24\u001B[0m\u001B[0;34m,\u001B[0m\u001B[0;34m\"dragRotate\"\u001B[0m\u001B[0;34m:\u001B[0m\u001B[0mtrue\u001B[0m\u001B[0;34m,\u001B[0m\u001B[0;34m\"latitude\"\u001B[0m\u001B[0;34m:\u001B[0m\u001B[0;36m37.821717250202035\u001B[0m\u001B[0;34m,\u001B[0m\u001B[0;34m\"longitude\"\u001B[0m\u001B[0;34m:\u001B[0m\u001B[0;34m-\u001B[0m\u001B[0;36m122.54526417552327\u001B[0m\u001B[0;34m,\u001B[0m\u001B[0;34m\"pitch\"\u001B[0m\u001B[0;34m:\u001B[0m\u001B[0;36m50\u001B[0m\u001B[0;34m,\u001B[0m\u001B[0;34m\"zoom\"\u001B[0m\u001B[0;34m:\u001B[0m\u001B[0;36m10.279017859889528\u001B[0m\u001B[0;34m,\u001B[0m\u001B[0;34m\"isSplit\"\u001B[0m\u001B[0;34m:\u001B[0m\u001B[0mfalse\u001B[0m\u001B[0;34m}\u001B[0m\u001B[0;34m,\u001B[0m\u001B[0;34m\"mapStyle\"\u001B[0m\u001B[0;34m:\u001B[0m\u001B[0;34m{\u001B[0m\u001B[0;34m\"styleType\"\u001B[0m\u001B[0;34m:\u001B[0m\u001B[0;34m\"dark\"\u001B[0m\u001B[0;34m,\u001B[0m\u001B[0;34m\"topLayerGroups\"\u001B[0m\u001B[0;34m:\u001B[0m\u001B[0;34m{\u001B[0m\u001B[0;34m}\u001B[0m\u001B[0;34m,\u001B[0m\u001B[0;34m\"visibleLayerGroups\"\u001B[0m\u001B[0;34m:\u001B[0m\u001B[0;34m{\u001B[0m\u001B[0;34m\"label\"\u001B[0m\u001B[0;34m:\u001B[0m\u001B[0mtrue\u001B[0m\u001B[0;34m,\u001B[0m\u001B[0;34m\"road\"\u001B[0m\u001B[0;34m:\u001B[0m\u001B[0mtrue\u001B[0m\u001B[0;34m,\u001B[0m\u001B[0;34m\"border\"\u001B[0m\u001B[0;34m:\u001B[0m\u001B[0mfalse\u001B[0m\u001B[0;34m,\u001B[0m\u001B[0;34m\"building\"\u001B[0m\u001B[0;34m:\u001B[0m\u001B[0mtrue\u001B[0m\u001B[0;34m,\u001B[0m\u001B[0;34m\"water\"\u001B[0m\u001B[0;34m:\u001B[0m\u001B[0mtrue\u001B[0m\u001B[0;34m,\u001B[0m\u001B[0;34m\"land\"\u001B[0m\u001B[0;34m:\u001B[0m\u001B[0mtrue\u001B[0m\u001B[0;34m,\u001B[0m\u001B[0;34m\"3d building\"\u001B[0m\u001B[0;34m:\u001B[0m\u001B[0mfalse\u001B[0m\u001B[0;34m}\u001B[0m\u001B[0;34m,\u001B[0m\u001B[0;34m\"threeDBuildingColor\"\u001B[0m\u001B[0;34m:\u001B[0m\u001B[0;34m[\u001B[0m\u001B[0;36m9.665468314072013\u001B[0m\u001B[0;34m,\u001B[0m\u001B[0;36m17.18305478057247\u001B[0m\u001B[0;34m,\u001B[0m\u001B[0;36m31.1442867897876\u001B[0m\u001B[0;34m]\u001B[0m\u001B[0;34m,\u001B[0m\u001B[0;34m\"mapStyles\"\u001B[0m\u001B[0;34m:\u001B[0m\u001B[0;34m{\u001B[0m\u001B[0;34m}\u001B[0m\u001B[0;34m}\u001B[0m\u001B[0;34m}\u001B[0m\u001B[0;34m}\u001B[0m\u001B[0;34m\u001B[0m\u001B[0;34m\u001B[0m\u001B[0m\n\u001B[0m",
      "\u001B[0;31mNameError\u001B[0m: name 'true' is not defined"
     ]
    }
   ],
   "source": [
    "# assign config = hex_config\n",
    "%run s2_config.py"
   ]
  },
  {
   "cell_type": "code",
   "execution_count": 148,
   "metadata": {
    "ExecuteTime": {
     "end_time": "2023-06-17T13:29:53.745582465Z",
     "start_time": "2023-06-17T13:29:53.738225891Z"
    }
   },
   "outputs": [
    {
     "name": "stdout",
     "output_type": "stream",
     "text": [
      "User Guide: https://docs.kepler.gl/docs/keplergl-jupyter\n"
     ]
    },
    {
     "data": {
      "text/plain": "KeplerGl(config={'version': 'v1', 'config': {'visState': {'layers': [{'type': 's2Id', 'visualChannels': {'size…",
      "application/vnd.jupyter.widget-view+json": {
       "version_major": 2,
       "version_minor": 0,
       "model_id": "c57eed03d2424a8295d5d03d8cfbdd8d"
      }
     },
     "metadata": {},
     "output_type": "display_data"
    }
   ],
   "source": [
    "import keplergl\n",
    "w1 = keplergl.KeplerGl(height=500, data={\"data_1\": df}, config=config)\n",
    "# w1 = keplergl.KeplerGl(height=500)\n",
    "w1"
   ]
  },
  {
   "cell_type": "code",
   "execution_count": 149,
   "metadata": {
    "scrolled": true,
    "ExecuteTime": {
     "end_time": "2023-06-17T13:29:53.777529480Z",
     "start_time": "2023-06-17T13:29:53.745724342Z"
    }
   },
   "outputs": [],
   "source": [
    "w1.add_data(df, 'data_1')"
   ]
  },
  {
   "cell_type": "code",
   "execution_count": 150,
   "metadata": {
    "ExecuteTime": {
     "end_time": "2023-06-17T13:29:53.781956482Z",
     "start_time": "2023-06-17T13:29:53.759804967Z"
    }
   },
   "outputs": [
    {
     "data": {
      "text/plain": "{'version': 'v1',\n 'config': {'visState': {'layers': [{'type': 's2Id',\n     'visualChannels': {'sizeField': {'type': 'integer', 'name': 'value'},\n      'coverageField': None,\n      'colorScale': 'quantize',\n      'coverageScale': 'linear',\n      'colorField': {'type': 'integer', 'name': 'value'},\n      'sizeScale': 'linear'},\n     'config': {'dataId': 'data_1',\n      'color': [250, 116, 0],\n      'textLabel': {'color': [255, 255, 255],\n       'field': None,\n       'size': 50,\n       'anchor': 'middle',\n       'offset': [0, 0]},\n      'label': 'H3 Hexagon',\n      'isVisible': True,\n      'visConfig': {'coverageRange': [0, 1],\n       'opacity': 0.8,\n       'elevationScale': 5,\n       'hi-precision': False,\n       'coverage': 1,\n       'enable3d': True,\n       'sizeRange': [0, 500],\n       'colorRange': {'category': 'Uber',\n        'type': 'sequential',\n        'colors': ['#194266',\n         '#355C7D',\n         '#63617F',\n         '#916681',\n         '#C06C84',\n         '#D28389',\n         '#E59A8F',\n         '#F8B195'],\n        'reversed': False,\n        'name': 'Sunrise 8'}},\n      'columns': {'s2_token': 's2_token'}},\n     'id': 'jdys7lp'}],\n   'interactionConfig': {'brush': {'enabled': False, 'size': 0.5},\n    'tooltip': {'fieldsToShow': {'data_1': ['s2_token', 'value']},\n     'enabled': True}},\n   'splitMaps': [],\n   'layerBlending': 'normal',\n   'filters': []},\n  'mapState': {'bearing': 2.6192893401015205,\n   'dragRotate': True,\n   'zoom': 12.32053899007826,\n   'longitude': -122.42590232651203,\n   'isSplit': False,\n   'pitch': 37.374216241015446,\n   'latitude': 37.76209132041332},\n  'mapStyle': {'mapStyles': {},\n   'topLayerGroups': {},\n   'styleType': 'dark',\n   'visibleLayerGroups': {'building': True,\n    'land': True,\n    '3d building': False,\n    'label': True,\n    'water': True,\n    'border': False,\n    'road': False}}}}"
     },
     "execution_count": 150,
     "metadata": {},
     "output_type": "execute_result"
    }
   ],
   "source": [
    "w1.config"
   ]
  },
  {
   "cell_type": "code",
   "execution_count": 151,
   "metadata": {
    "ExecuteTime": {
     "end_time": "2023-06-17T13:29:53.891145267Z",
     "start_time": "2023-06-17T13:29:53.777708155Z"
    }
   },
   "outputs": [],
   "source": [
    "w1.add_data(json_data, 'geojson')"
   ]
  },
  {
   "cell_type": "code",
   "execution_count": 152,
   "metadata": {
    "ExecuteTime": {
     "end_time": "2023-06-17T13:29:53.891400659Z",
     "start_time": "2023-06-17T13:29:53.890986685Z"
    }
   },
   "outputs": [
    {
     "name": "stdout",
     "output_type": "stream",
     "text": [
      "Map saved to first_map.html!\n"
     ]
    }
   ],
   "source": [
    "w1.save_to_html(file_name='first_map.html', data={\"data_1\": df}, config=config)"
   ]
  },
  {
   "cell_type": "code",
   "execution_count": 152,
   "outputs": [],
   "source": [],
   "metadata": {
    "collapsed": false,
    "ExecuteTime": {
     "end_time": "2023-06-17T13:29:53.891492650Z",
     "start_time": "2023-06-17T13:29:53.891333723Z"
    }
   }
  }
 ],
 "metadata": {
  "kernelspec": {
   "display_name": "Python 3 (ipykernel)",
   "language": "python",
   "name": "python3"
  },
  "language_info": {
   "codemirror_mode": {
    "name": "ipython",
    "version": 3
   },
   "file_extension": ".py",
   "mimetype": "text/x-python",
   "name": "python",
   "nbconvert_exporter": "python",
   "pygments_lexer": "ipython3",
   "version": "3.7.4"
  }
 },
 "nbformat": 4,
 "nbformat_minor": 4
}
