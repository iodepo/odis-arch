{
 "cells": [
  {
   "cell_type": "markdown",
   "metadata": {
    "pycharm": {
     "name": "#%% md\n"
    }
   },
   "source": [
    "# Validation Report\n",
    "\n",
    "This is the start of a notebook that can take the output of the SHACL runs and generate a report with proper context to send to\n",
    "providers.\n",
    "\n",
    "Eventually the functions of this notebook might meld in the SHACL notebooks and the report will be another product of that notebook\n",
    "\n",
    "* https://towardsdatascience.com/how-to-create-pdf-reports-with-python-the-essential-guide-c08dd3ebf2ee\n",
    "* https://www.justintodata.com/generate-reports-with-python/\n",
    "* https://pyfpdf.readthedocs.io/en/latest/"
   ]
  },
  {
   "cell_type": "code",
   "execution_count": 4,
   "metadata": {
    "collapsed": false,
    "jupyter": {
     "outputs_hidden": false
    },
    "pycharm": {
     "name": "#%%\n"
    }
   },
   "outputs": [],
   "source": [
    "import os\n",
    "import shutil\n",
    "import numpy as np\n",
    "import pandas as pd\n",
    "import calendar\n",
    "from datetime import datetime\n",
    "from fpdf import FPDF\n",
    "\n",
    "import matplotlib.pyplot as plt\n",
    "from matplotlib import rcParams\n",
    "rcParams['axes.spines.top'] = False\n",
    "rcParams['axes.spines.right'] = False"
   ]
  },
  {
   "cell_type": "code",
   "execution_count": 5,
   "metadata": {
    "collapsed": false,
    "jupyter": {
     "outputs_hidden": false
    },
    "pycharm": {
     "name": "#%%\n"
    }
   },
   "outputs": [
    {
     "data": {
      "text/html": [
       "<div>\n",
       "<style scoped>\n",
       "    .dataframe tbody tr th:only-of-type {\n",
       "        vertical-align: middle;\n",
       "    }\n",
       "\n",
       "    .dataframe tbody tr th {\n",
       "        vertical-align: top;\n",
       "    }\n",
       "\n",
       "    .dataframe thead th {\n",
       "        text-align: right;\n",
       "    }\n",
       "</style>\n",
       "<table border=\"1\" class=\"dataframe\">\n",
       "  <thead>\n",
       "    <tr style=\"text-align: right;\">\n",
       "      <th></th>\n",
       "      <th>Date</th>\n",
       "      <th>ItemsSold</th>\n",
       "    </tr>\n",
       "  </thead>\n",
       "  <tbody>\n",
       "    <tr>\n",
       "      <th>0</th>\n",
       "      <td>2020-03-01</td>\n",
       "      <td>1023</td>\n",
       "    </tr>\n",
       "    <tr>\n",
       "      <th>1</th>\n",
       "      <td>2020-03-02</td>\n",
       "      <td>1293</td>\n",
       "    </tr>\n",
       "    <tr>\n",
       "      <th>2</th>\n",
       "      <td>2020-03-03</td>\n",
       "      <td>1267</td>\n",
       "    </tr>\n",
       "    <tr>\n",
       "      <th>3</th>\n",
       "      <td>2020-03-04</td>\n",
       "      <td>1639</td>\n",
       "    </tr>\n",
       "    <tr>\n",
       "      <th>4</th>\n",
       "      <td>2020-03-05</td>\n",
       "      <td>1867</td>\n",
       "    </tr>\n",
       "    <tr>\n",
       "      <th>5</th>\n",
       "      <td>2020-03-06</td>\n",
       "      <td>1211</td>\n",
       "    </tr>\n",
       "    <tr>\n",
       "      <th>6</th>\n",
       "      <td>2020-03-07</td>\n",
       "      <td>1938</td>\n",
       "    </tr>\n",
       "    <tr>\n",
       "      <th>7</th>\n",
       "      <td>2020-03-08</td>\n",
       "      <td>1770</td>\n",
       "    </tr>\n",
       "    <tr>\n",
       "      <th>8</th>\n",
       "      <td>2020-03-09</td>\n",
       "      <td>1927</td>\n",
       "    </tr>\n",
       "    <tr>\n",
       "      <th>9</th>\n",
       "      <td>2020-03-10</td>\n",
       "      <td>1061</td>\n",
       "    </tr>\n",
       "    <tr>\n",
       "      <th>10</th>\n",
       "      <td>2020-03-11</td>\n",
       "      <td>1839</td>\n",
       "    </tr>\n",
       "    <tr>\n",
       "      <th>11</th>\n",
       "      <td>2020-03-12</td>\n",
       "      <td>1390</td>\n",
       "    </tr>\n",
       "    <tr>\n",
       "      <th>12</th>\n",
       "      <td>2020-03-13</td>\n",
       "      <td>1520</td>\n",
       "    </tr>\n",
       "    <tr>\n",
       "      <th>13</th>\n",
       "      <td>2020-03-14</td>\n",
       "      <td>1398</td>\n",
       "    </tr>\n",
       "    <tr>\n",
       "      <th>14</th>\n",
       "      <td>2020-03-15</td>\n",
       "      <td>1309</td>\n",
       "    </tr>\n",
       "    <tr>\n",
       "      <th>15</th>\n",
       "      <td>2020-03-16</td>\n",
       "      <td>1998</td>\n",
       "    </tr>\n",
       "    <tr>\n",
       "      <th>16</th>\n",
       "      <td>2020-03-17</td>\n",
       "      <td>1810</td>\n",
       "    </tr>\n",
       "    <tr>\n",
       "      <th>17</th>\n",
       "      <td>2020-03-18</td>\n",
       "      <td>1230</td>\n",
       "    </tr>\n",
       "    <tr>\n",
       "      <th>18</th>\n",
       "      <td>2020-03-19</td>\n",
       "      <td>1219</td>\n",
       "    </tr>\n",
       "    <tr>\n",
       "      <th>19</th>\n",
       "      <td>2020-03-20</td>\n",
       "      <td>1647</td>\n",
       "    </tr>\n",
       "    <tr>\n",
       "      <th>20</th>\n",
       "      <td>2020-03-21</td>\n",
       "      <td>1251</td>\n",
       "    </tr>\n",
       "    <tr>\n",
       "      <th>21</th>\n",
       "      <td>2020-03-22</td>\n",
       "      <td>1659</td>\n",
       "    </tr>\n",
       "    <tr>\n",
       "      <th>22</th>\n",
       "      <td>2020-03-23</td>\n",
       "      <td>1707</td>\n",
       "    </tr>\n",
       "    <tr>\n",
       "      <th>23</th>\n",
       "      <td>2020-03-24</td>\n",
       "      <td>1241</td>\n",
       "    </tr>\n",
       "    <tr>\n",
       "      <th>24</th>\n",
       "      <td>2020-03-25</td>\n",
       "      <td>1092</td>\n",
       "    </tr>\n",
       "    <tr>\n",
       "      <th>25</th>\n",
       "      <td>2020-03-26</td>\n",
       "      <td>1202</td>\n",
       "    </tr>\n",
       "    <tr>\n",
       "      <th>26</th>\n",
       "      <td>2020-03-27</td>\n",
       "      <td>1313</td>\n",
       "    </tr>\n",
       "    <tr>\n",
       "      <th>27</th>\n",
       "      <td>2020-03-28</td>\n",
       "      <td>1200</td>\n",
       "    </tr>\n",
       "    <tr>\n",
       "      <th>28</th>\n",
       "      <td>2020-03-29</td>\n",
       "      <td>1786</td>\n",
       "    </tr>\n",
       "    <tr>\n",
       "      <th>29</th>\n",
       "      <td>2020-03-30</td>\n",
       "      <td>1509</td>\n",
       "    </tr>\n",
       "    <tr>\n",
       "      <th>30</th>\n",
       "      <td>2020-03-31</td>\n",
       "      <td>1449</td>\n",
       "    </tr>\n",
       "  </tbody>\n",
       "</table>\n",
       "</div>"
      ],
      "text/plain": [
       "         Date  ItemsSold\n",
       "0  2020-03-01       1023\n",
       "1  2020-03-02       1293\n",
       "2  2020-03-03       1267\n",
       "3  2020-03-04       1639\n",
       "4  2020-03-05       1867\n",
       "5  2020-03-06       1211\n",
       "6  2020-03-07       1938\n",
       "7  2020-03-08       1770\n",
       "8  2020-03-09       1927\n",
       "9  2020-03-10       1061\n",
       "10 2020-03-11       1839\n",
       "11 2020-03-12       1390\n",
       "12 2020-03-13       1520\n",
       "13 2020-03-14       1398\n",
       "14 2020-03-15       1309\n",
       "15 2020-03-16       1998\n",
       "16 2020-03-17       1810\n",
       "17 2020-03-18       1230\n",
       "18 2020-03-19       1219\n",
       "19 2020-03-20       1647\n",
       "20 2020-03-21       1251\n",
       "21 2020-03-22       1659\n",
       "22 2020-03-23       1707\n",
       "23 2020-03-24       1241\n",
       "24 2020-03-25       1092\n",
       "25 2020-03-26       1202\n",
       "26 2020-03-27       1313\n",
       "27 2020-03-28       1200\n",
       "28 2020-03-29       1786\n",
       "29 2020-03-30       1509\n",
       "30 2020-03-31       1449"
      ]
     },
     "execution_count": 5,
     "metadata": {},
     "output_type": "execute_result"
    }
   ],
   "source": [
    "def generate_sales_data(month: int) -> pd.DataFrame:\n",
    "    # Date range from first day of month until last\n",
    "    # Use ```calendar.monthrange(year, month)``` to get the last date\n",
    "    dates = pd.date_range(\n",
    "        start=datetime(year=2020, month=month, day=1),\n",
    "        end=datetime(year=2020, month=month, day=calendar.monthrange(2020, month)[1])\n",
    "    )\n",
    "\n",
    "    # Sales numbers as a random integer between 1000 and 2000\n",
    "    sales = np.random.randint(low=1000, high=2000, size=len(dates))\n",
    "\n",
    "    # Combine into a single dataframe\n",
    "    return pd.DataFrame({\n",
    "        'Date': dates,\n",
    "        'ItemsSold': sales\n",
    "    })\n",
    "\n",
    "# Test\n",
    "generate_sales_data(month=3)"
   ]
  },
  {
   "cell_type": "code",
   "execution_count": 6,
   "metadata": {
    "collapsed": false,
    "jupyter": {
     "outputs_hidden": false
    },
    "pycharm": {
     "name": "#%%\n"
    }
   },
   "outputs": [],
   "source": [
    "def plot(data: pd.DataFrame, filename: str) -> None:\n",
    "    plt.figure(figsize=(12, 4))\n",
    "    plt.grid(color='#F2F2F2', alpha=1, zorder=0)\n",
    "    plt.plot(data['Date'], data['ItemsSold'], color='#087E8B', lw=3, zorder=5)\n",
    "    plt.title(f'Sales 2020/{data[\"Date\"].dt.month[0]}', fontsize=17)\n",
    "    plt.xlabel('Period', fontsize=13)\n",
    "    plt.xticks(fontsize=9)\n",
    "    plt.ylabel('Number of items sold', fontsize=13)\n",
    "    plt.yticks(fontsize=9)\n",
    "    plt.savefig(filename, dpi=300, bbox_inches='tight', pad_inches=0)\n",
    "    plt.close()\n",
    "    return\n",
    "\n",
    "# Test\n",
    "december = generate_sales_data(month=12)\n",
    "plot(data=december, filename='december.png')"
   ]
  },
  {
   "cell_type": "code",
   "execution_count": 7,
   "metadata": {
    "collapsed": false,
    "jupyter": {
     "outputs_hidden": false
    },
    "pycharm": {
     "name": "#%%\n"
    }
   },
   "outputs": [],
   "source": [
    "PLOT_DIR = 'plots'\n",
    "\n",
    "def construct():\n",
    "    # Delete folder if exists and create it again\n",
    "    try:\n",
    "        shutil.rmtree(PLOT_DIR)\n",
    "        os.mkdir(PLOT_DIR)\n",
    "    except FileNotFoundError:\n",
    "        os.mkdir(PLOT_DIR)\n",
    "\n",
    "    # Iterate over all months in 2020 except January\n",
    "    for i in range(2, 13):\n",
    "        # Save visualization\n",
    "        plot(data=generate_sales_data(month=i), filename=f'{PLOT_DIR}/{i}.png')\n",
    "\n",
    "    # Construct data shown in document\n",
    "    counter = 0\n",
    "    pages_data = []\n",
    "    temp = []\n",
    "    # Get all plots\n",
    "    files = os.listdir(PLOT_DIR)\n",
    "    # Sort them by month - a bit tricky because the file names are strings\n",
    "    files = sorted(os.listdir(PLOT_DIR), key=lambda x: int(x.split('.')[0]))\n",
    "    # Iterate over all created visualization\n",
    "    for fname in files:\n",
    "        # We want 3 per page\n",
    "        if counter == 3:\n",
    "            pages_data.append(temp)\n",
    "            temp = []\n",
    "            counter = 0\n",
    "\n",
    "        temp.append(f'{PLOT_DIR}/{fname}')\n",
    "        counter += 1\n",
    "\n",
    "    return [*pages_data, temp]"
   ]
  },
  {
   "cell_type": "code",
   "execution_count": 8,
   "metadata": {
    "collapsed": false,
    "jupyter": {
     "outputs_hidden": false
    },
    "pycharm": {
     "name": "#%%\n"
    }
   },
   "outputs": [
    {
     "data": {
      "text/plain": [
       "[['plots/2.png', 'plots/3.png', 'plots/4.png'],\n",
       " ['plots/5.png', 'plots/6.png', 'plots/7.png'],\n",
       " ['plots/8.png', 'plots/9.png', 'plots/10.png'],\n",
       " ['plots/11.png', 'plots/12.png']]"
      ]
     },
     "execution_count": 8,
     "metadata": {},
     "output_type": "execute_result"
    }
   ],
   "source": [
    "\n",
    "plots_per_page = construct()\n",
    "plots_per_page"
   ]
  },
  {
   "cell_type": "code",
   "execution_count": 11,
   "metadata": {
    "collapsed": false,
    "jupyter": {
     "outputs_hidden": false
    },
    "pycharm": {
     "name": "#%%\n"
    }
   },
   "outputs": [],
   "source": [
    "class PDF(FPDF):\n",
    "    def __init__(self):\n",
    "        super().__init__()\n",
    "        self.WIDTH = 210\n",
    "        self.HEIGHT = 297\n",
    "\n",
    "    def header(self):\n",
    "        # Custom logo and positioning\n",
    "        # Create an `assets` folder and put any wide and short image inside\n",
    "        # Name the image `logo.png`\n",
    "        # self.image('assets/logo.png', 10, 8, 33)\n",
    "        self.set_font('Arial', 'B', 11)\n",
    "        self.cell(self.WIDTH - 80)\n",
    "        self.cell(60, 1, 'Sales report', 0, 0, 'R')\n",
    "        self.ln(20)\n",
    "\n",
    "    def footer(self):\n",
    "        # Page numbers in the footer\n",
    "        self.set_y(-15)\n",
    "        self.set_font('Arial', 'I', 8)\n",
    "        self.set_text_color(128)\n",
    "        self.cell(0, 10, 'Page ' + str(self.page_no()), 0, 0, 'C')\n",
    "\n",
    "    def page_body(self, images):\n",
    "        # Determine how many plots there are per page and set positions\n",
    "        # and margins accordingly\n",
    "        if len(images) == 3:\n",
    "            self.image(images[0], 15, 25, self.WIDTH - 30)\n",
    "            self.image(images[1], 15, self.WIDTH / 2 + 5, self.WIDTH - 30)\n",
    "            self.image(images[2], 15, self.WIDTH / 2 + 90, self.WIDTH - 30)\n",
    "        elif len(images) == 2:\n",
    "            self.image(images[0], 15, 25, self.WIDTH - 30)\n",
    "            self.image(images[1], 15, self.WIDTH / 2 + 5, self.WIDTH - 30)\n",
    "        else:\n",
    "            self.image(images[0], 15, 25, self.WIDTH - 30)\n",
    "\n",
    "    def print_page(self, images):\n",
    "        # Generates the report\n",
    "        self.add_page()\n",
    "        self.page_body(images)"
   ]
  },
  {
   "cell_type": "code",
   "execution_count": 12,
   "metadata": {
    "collapsed": false,
    "jupyter": {
     "outputs_hidden": false
    },
    "pycharm": {
     "name": "#%%\n"
    }
   },
   "outputs": [
    {
     "data": {
      "text/plain": [
       "''"
      ]
     },
     "execution_count": 12,
     "metadata": {},
     "output_type": "execute_result"
    }
   ],
   "source": [
    "\n",
    "pdf = PDF()\n",
    "\n",
    "for elem in plots_per_page:\n",
    "    pdf.print_page(elem)\n",
    "\n",
    "pdf.output('SalesRepot.pdf', 'F')"
   ]
  },
  {
   "cell_type": "markdown",
   "metadata": {
    "pycharm": {
     "name": "#%% md\n"
    }
   },
   "source": [
    "# Another example"
   ]
  },
  {
   "cell_type": "code",
   "execution_count": 15,
   "metadata": {
    "collapsed": false,
    "jupyter": {
     "outputs_hidden": false
    },
    "pycharm": {
     "name": "#%%\n"
    }
   },
   "outputs": [
    {
     "data": {
      "text/plain": [
       "''"
      ]
     },
     "execution_count": 15,
     "metadata": {},
     "output_type": "execute_result"
    }
   ],
   "source": [
    "from fpdf import FPDF\n",
    "\n",
    "pdf = FPDF()\n",
    "pdf.add_page()\n",
    "pdf.set_font('Arial', 'B', 16)\n",
    "pdf.cell(40, 10, 'Hello World!')\n",
    "pdf.output('tuto1.pdf', 'F')"
   ]
  },
  {
   "cell_type": "code",
   "execution_count": 16,
   "metadata": {
    "collapsed": false,
    "jupyter": {
     "outputs_hidden": false
    },
    "pycharm": {
     "name": "#%%\n"
    }
   },
   "outputs": [],
   "source": [
    "pdf = FPDF('P', 'mm', 'A4')\n",
    "pdf.set_font('Arial', 'B', 16)\n"
   ]
  },
  {
   "cell_type": "code",
   "execution_count": 17,
   "metadata": {
    "collapsed": false,
    "jupyter": {
     "outputs_hidden": false
    },
    "pycharm": {
     "name": "#%%\n"
    }
   },
   "outputs": [
    {
     "ename": "RuntimeError",
     "evalue": "FPDF error: No page open, you need to call add_page() first",
     "output_type": "error",
     "traceback": [
      "\u001b[0;31m---------------------------------------------------------------------------\u001b[0m",
      "\u001b[0;31mRuntimeError\u001b[0m                              Traceback (most recent call last)",
      "\u001b[0;32m/tmp/ipykernel_2658576/3227768291.py\u001b[0m in \u001b[0;36m<module>\u001b[0;34m\u001b[0m\n\u001b[0;32m----> 1\u001b[0;31m \u001b[0mpdf\u001b[0m\u001b[0;34m.\u001b[0m\u001b[0mcell\u001b[0m\u001b[0;34m(\u001b[0m\u001b[0;36m40\u001b[0m\u001b[0;34m,\u001b[0m \u001b[0;36m10\u001b[0m\u001b[0;34m,\u001b[0m \u001b[0;34m'Hello World!'\u001b[0m\u001b[0;34m,\u001b[0m \u001b[0;36m1\u001b[0m\u001b[0;34m)\u001b[0m\u001b[0;34m\u001b[0m\u001b[0;34m\u001b[0m\u001b[0m\n\u001b[0m\u001b[1;32m      2\u001b[0m \u001b[0mpdf\u001b[0m\u001b[0;34m.\u001b[0m\u001b[0mcell\u001b[0m\u001b[0;34m(\u001b[0m\u001b[0;36m60\u001b[0m\u001b[0;34m,\u001b[0m \u001b[0;36m10\u001b[0m\u001b[0;34m,\u001b[0m \u001b[0;34m'Powered by FPDF.'\u001b[0m\u001b[0;34m,\u001b[0m \u001b[0;36m0\u001b[0m\u001b[0;34m,\u001b[0m \u001b[0;36m1\u001b[0m\u001b[0;34m,\u001b[0m \u001b[0;34m'C'\u001b[0m\u001b[0;34m)\u001b[0m\u001b[0;34m\u001b[0m\u001b[0;34m\u001b[0m\u001b[0m\n",
      "\u001b[0;32m~/.conda/envs/kglab/lib/python3.8/site-packages/fpdf/fpdf.py\u001b[0m in \u001b[0;36mwrapper\u001b[0;34m(self, *args, **kwargs)\u001b[0m\n\u001b[1;32m    146\u001b[0m         \u001b[0;32mdef\u001b[0m \u001b[0mwrapper\u001b[0m\u001b[0;34m(\u001b[0m\u001b[0mself\u001b[0m\u001b[0;34m,\u001b[0m \u001b[0;34m*\u001b[0m\u001b[0margs\u001b[0m\u001b[0;34m,\u001b[0m \u001b[0;34m**\u001b[0m\u001b[0mkwargs\u001b[0m\u001b[0;34m)\u001b[0m\u001b[0;34m:\u001b[0m\u001b[0;34m\u001b[0m\u001b[0;34m\u001b[0m\u001b[0m\n\u001b[1;32m    147\u001b[0m             \u001b[0;32mif\u001b[0m \u001b[0;32mnot\u001b[0m \u001b[0mself\u001b[0m\u001b[0;34m.\u001b[0m\u001b[0mpage\u001b[0m \u001b[0;32mand\u001b[0m \u001b[0;32mnot\u001b[0m \u001b[0mkwargs\u001b[0m\u001b[0;34m.\u001b[0m\u001b[0mget\u001b[0m\u001b[0;34m(\u001b[0m\u001b[0;34m'split_only'\u001b[0m\u001b[0;34m)\u001b[0m\u001b[0;34m:\u001b[0m\u001b[0;34m\u001b[0m\u001b[0;34m\u001b[0m\u001b[0m\n\u001b[0;32m--> 148\u001b[0;31m                 \u001b[0mself\u001b[0m\u001b[0;34m.\u001b[0m\u001b[0merror\u001b[0m\u001b[0;34m(\u001b[0m\u001b[0;34m\"No page open, you need to call add_page() first\"\u001b[0m\u001b[0;34m)\u001b[0m\u001b[0;34m\u001b[0m\u001b[0;34m\u001b[0m\u001b[0m\n\u001b[0m\u001b[1;32m    149\u001b[0m             \u001b[0;32melse\u001b[0m\u001b[0;34m:\u001b[0m\u001b[0;34m\u001b[0m\u001b[0;34m\u001b[0m\u001b[0m\n\u001b[1;32m    150\u001b[0m                 \u001b[0;32mreturn\u001b[0m \u001b[0mfn\u001b[0m\u001b[0;34m(\u001b[0m\u001b[0mself\u001b[0m\u001b[0;34m,\u001b[0m \u001b[0;34m*\u001b[0m\u001b[0margs\u001b[0m\u001b[0;34m,\u001b[0m \u001b[0;34m**\u001b[0m\u001b[0mkwargs\u001b[0m\u001b[0;34m)\u001b[0m\u001b[0;34m\u001b[0m\u001b[0;34m\u001b[0m\u001b[0m\n",
      "\u001b[0;32m~/.conda/envs/kglab/lib/python3.8/site-packages/fpdf/fpdf.py\u001b[0m in \u001b[0;36merror\u001b[0;34m(self, msg)\u001b[0m\n\u001b[1;32m    225\u001b[0m     \u001b[0;32mdef\u001b[0m \u001b[0merror\u001b[0m\u001b[0;34m(\u001b[0m\u001b[0mself\u001b[0m\u001b[0;34m,\u001b[0m \u001b[0mmsg\u001b[0m\u001b[0;34m)\u001b[0m\u001b[0;34m:\u001b[0m\u001b[0;34m\u001b[0m\u001b[0;34m\u001b[0m\u001b[0m\n\u001b[1;32m    226\u001b[0m         \u001b[0;34m\"Fatal error\"\u001b[0m\u001b[0;34m\u001b[0m\u001b[0;34m\u001b[0m\u001b[0m\n\u001b[0;32m--> 227\u001b[0;31m         \u001b[0;32mraise\u001b[0m \u001b[0mRuntimeError\u001b[0m\u001b[0;34m(\u001b[0m\u001b[0;34m'FPDF error: '\u001b[0m\u001b[0;34m+\u001b[0m\u001b[0mmsg\u001b[0m\u001b[0;34m)\u001b[0m\u001b[0;34m\u001b[0m\u001b[0;34m\u001b[0m\u001b[0m\n\u001b[0m\u001b[1;32m    228\u001b[0m \u001b[0;34m\u001b[0m\u001b[0m\n\u001b[1;32m    229\u001b[0m     \u001b[0;32mdef\u001b[0m \u001b[0mopen\u001b[0m\u001b[0;34m(\u001b[0m\u001b[0mself\u001b[0m\u001b[0;34m)\u001b[0m\u001b[0;34m:\u001b[0m\u001b[0;34m\u001b[0m\u001b[0;34m\u001b[0m\u001b[0m\n",
      "\u001b[0;31mRuntimeError\u001b[0m: FPDF error: No page open, you need to call add_page() first"
     ]
    }
   ],
   "source": [
    "pdf.cell(40, 10, 'Hello World!', 1)\n",
    "pdf.cell(60, 10, 'Powered by FPDF.', 0, 1, 'C')"
   ]
  },
  {
   "cell_type": "code",
   "execution_count": 20,
   "metadata": {
    "collapsed": false,
    "jupyter": {
     "outputs_hidden": false
    },
    "pycharm": {
     "name": "#%%\n"
    }
   },
   "outputs": [
    {
     "data": {
      "text/plain": [
       "''"
      ]
     },
     "execution_count": 20,
     "metadata": {},
     "output_type": "execute_result"
    }
   ],
   "source": [
    "from fpdf import FPDF\n",
    "\n",
    "class PDF(FPDF):\n",
    "    def header(self):\n",
    "        # Logo\n",
    "        # self.image('logo_pb.png', 10, 8, 33)\n",
    "        # Arial bold 15\n",
    "        self.set_font('Arial', 'B', 15)\n",
    "        # Move to the right\n",
    "        self.cell(80)\n",
    "        # Title\n",
    "        self.cell(30, 10, 'Title', 1, 0, 'C')\n",
    "        # Line break\n",
    "        self.ln(20)\n",
    "\n",
    "    # Page footer\n",
    "    def footer(self):\n",
    "        # Position at 1.5 cm from bottom\n",
    "        self.set_y(-15)\n",
    "        # Arial italic 8\n",
    "        self.set_font('Arial', 'I', 8)\n",
    "        # Page number\n",
    "        self.cell(0, 10, 'Page ' + str(self.page_no()) + '/{nb}', 0, 0, 'C')\n",
    "\n",
    "# Instantiation of inherited class\n",
    "pdf = PDF()\n",
    "pdf.alias_nb_pages()\n",
    "pdf.add_page()\n",
    "pdf.set_font('Times', '', 12)\n",
    "for i in range(1, 41):\n",
    "    pdf.cell(0, 10, 'Printing line number ' + str(i), 0, 1)\n",
    "pdf.output('tuto2.pdf', 'F')"
   ]
  },
  {
   "cell_type": "code",
   "execution_count": 27,
   "metadata": {
    "collapsed": false,
    "jupyter": {
     "outputs_hidden": false
    },
    "pycharm": {
     "name": "#%%\n"
    }
   },
   "outputs": [
    {
     "data": {
      "text/plain": [
       "''"
      ]
     },
     "execution_count": 27,
     "metadata": {},
     "output_type": "execute_result"
    }
   ],
   "source": [
    "from fpdf import FPDF\n",
    "\n",
    "title = 'OIH SHACL report'\n",
    "\n",
    "class PDF(FPDF):\n",
    "    def header(self):\n",
    "        # Arial bold 15\n",
    "        self.set_font('Arial', 'B', 15)\n",
    "        # Calculate width of title and position\n",
    "        w = self.get_string_width(title) + 6\n",
    "        self.set_x((210 - w) / 2)\n",
    "        # Colors of frame, background and text\n",
    "        self.set_draw_color(0, 80, 180)\n",
    "        self.set_fill_color(230, 230, 0)\n",
    "        self.set_text_color(220, 50, 50)\n",
    "        # Thickness of frame (1 mm)\n",
    "        self.set_line_width(1)\n",
    "        # Title\n",
    "        self.cell(w, 9, title, 1, 1, 'C', 1)\n",
    "        # Line break\n",
    "        self.ln(10)\n",
    "\n",
    "    def footer(self):\n",
    "        # Position at 1.5 cm from bottom\n",
    "        self.set_y(-15)\n",
    "        # Arial italic 8\n",
    "        self.set_font('Arial', 'I', 8)\n",
    "        # Text color in gray\n",
    "        self.set_text_color(128)\n",
    "        # Page number\n",
    "        self.cell(0, 10, 'Page ' + str(self.page_no()), 0, 0, 'C')\n",
    "\n",
    "    def chapter_title(self, num, label):\n",
    "        # Arial 12\n",
    "        self.set_font('Arial', '', 12)\n",
    "        # Background color\n",
    "        self.set_fill_color(200, 220, 255)\n",
    "        # Title\n",
    "        self.cell(0, 6, 'Chapter %d : %s' % (num, label), 0, 1, 'L', 1)\n",
    "        # Line break\n",
    "        self.ln(4)\n",
    "\n",
    "    def chapter_body(self, name):\n",
    "        # Read text file\n",
    "        with open(name, 'rb') as fh:\n",
    "            txt = fh.read().decode('latin-1')\n",
    "        # Times 12\n",
    "        self.set_font('Times', '', 12)\n",
    "        # Output justified text\n",
    "        self.multi_cell(0, 5, txt)\n",
    "        # Line break\n",
    "        self.ln()\n",
    "        # Mention in italics\n",
    "        self.set_font('', 'I')\n",
    "        self.cell(0, 5, '(end of excerpt)')\n",
    "\n",
    "    def print_chapter(self, num, title, name):\n",
    "        self.add_page()\n",
    "        self.chapter_title(num, title)\n",
    "        self.chapter_body(name)\n",
    "\n",
    "pdf = PDF()\n",
    "pdf.set_title(title)\n",
    "pdf.set_author('Ocean InfoHub')\n",
    "pdf.print_chapter(1, 'Section 1', 'input1.txt')\n",
    "pdf.print_chapter(2, 'Section 2', 'input2.txt')\n",
    "pdf.output('tuto3.pdf', 'F')"
   ]
  },
  {
   "cell_type": "code",
   "execution_count": null,
   "metadata": {
    "collapsed": false,
    "jupyter": {
     "outputs_hidden": false
    },
    "pycharm": {
     "name": "#%%\n"
    }
   },
   "outputs": [],
   "source": []
  }
 ],
 "metadata": {
  "kernelspec": {
   "display_name": "Python 3 (ipykernel)",
   "language": "python",
   "name": "python3"
  },
  "language_info": {
   "codemirror_mode": {
    "name": "ipython",
    "version": 3
   },
   "file_extension": ".py",
   "mimetype": "text/x-python",
   "name": "python",
   "nbconvert_exporter": "python",
   "pygments_lexer": "ipython3",
   "version": "3.8.10"
  }
 },
 "nbformat": 4,
 "nbformat_minor": 4
}
