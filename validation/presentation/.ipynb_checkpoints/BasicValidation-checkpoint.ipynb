{
 "cells": [
  {
   "cell_type": "markdown",
   "id": "db1a5098",
   "metadata": {
    "slideshow": {
     "slide_type": "slide"
    }
   },
   "source": [
    "# Discussions on Validating Graphs\n",
    "\n",
    "## RDA 18: Metadata Working Group\n",
    "\n",
    "[Session page](https://www.rd-alliance.org/plenaries/rda-18th-plenary-meeting-virtual/recommendations-publishing-structure-metadata-web)\n",
    "\n",
    "[Slides](https://docs.google.com/presentation/d/1F9E1zyfhnniSQJv18RPdYCutKwSNKTzl6uml3zvDcOs/edit#slide=id.gd08e71dd0b_0_246)\n",
    "\n",
    "## Validation Breakout Group\n",
    "\n",
    "Authors:\n",
    "Adam Shepherd (0000-0003-4486-9448) & Douglas Fils (0000-0002-2257-9127) \n",
    "\n"
   ]
  },
  {
   "cell_type": "markdown",
   "id": "aec7fdb6",
   "metadata": {
    "slideshow": {
     "slide_type": "slide"
    }
   },
   "source": [
    "# Agenda for Session\n",
    "\n",
    "- Who are the Personas in Validation and relation to GO FAIR Implementation Network\n",
    "    - RDF Conceptual Model Basis\n",
    "    - Role of Validation\n",
    "- What is the basic ecosystem we are working in?\n",
    "    - RDF as JSON-LD\n",
    "    - Web architectures (robots.txt, sitemaps.xml, HTML+JSON-LD, HTTP)\n",
    "    - A community (typically, though a single user exposing to the world is also fine)\t\n",
    "        - Here the logical \"world\" might be GDSS, community indexing or general SEO more broadly\n",
    "- Why Validation?\n",
    "    - Align to guidance or principles  \n",
    "        - best when for a purpose like community index, FAIR, CARE, regulations, etc\n",
    "    - Align to application \n",
    "        - perhaps the more common or useful reason, to address elements of FAIR like F or I\n",
    "- How Validation\n",
    "    \n"
   ]
  },
  {
   "cell_type": "markdown",
   "id": "c0be4ebf",
   "metadata": {
    "slideshow": {
     "slide_type": "slide"
    }
   },
   "source": [
    "# Validation Personas and  GO FAIR Implementation Network\n",
    "\n",
    "\n",
    "<div>\n",
    "<img src=\"relations.png\"  width=\"400\"/>\n",
    "<div>\n",
    "\n",
    "\n",
    "    \n",
    "- IMPLEMENT  clearly defined plans and deliverables to implement an element of the Internet of FAIR Data and Services (IFDS) within a defined time period;\n",
    "\n",
    "\n",
    "- FOSTER  a community of harmonized FAIR practices;\n",
    "\n",
    "\n",
    "- COMMUNICATE  together on critical issues on which consensus has been reached and which are of generic importance for the community.\n"
   ]
  },
  {
   "cell_type": "markdown",
   "id": "8bed1bf6",
   "metadata": {
    "slideshow": {
     "slide_type": "subslide"
    }
   },
   "source": [
    "## RDF Conceptual Model Basis\n",
    "\n",
    "A brief tour of RDF conceptual mode, the RDF ecosystem and SHACL (and JSON-LD) in that ecosystem.\n",
    "\n",
    "<div>\n",
    "<img src=\"ecosystem.png\"  width=\"400\"/>\n",
    "<div>\n",
    "\n",
    "Image credit: Pierre-Antoine Champin  https://www.w3.org/Talks/2021/09-19-ddi-cdi/?full#rdf-ecosystem"
   ]
  },
  {
   "cell_type": "markdown",
   "id": "ce074ea4",
   "metadata": {
    "slideshow": {
     "slide_type": "subslide"
    }
   },
   "source": [
    "## Role of Validation\n",
    "\n",
    "The various personas can be seen described in [https://book.oceaninfohub.org/personas/persona.html](https://book.oceaninfohub.org/personas/persona.html).  These give an idea of some of the players in an implementation.  The relations between these persona are potential areas where the shape of the graph may be important for query or other functions.     \n",
    "\n",
    "Validation also helps to address application.  In particular the application of query to the graph.\n",
    "**If we allow anything in \"author\" space, then we make the query in \"user\" space very complex** (to \n",
    "deal with the variety).  The result can be poor performance and bad recovery. "
   ]
  },
  {
   "cell_type": "markdown",
   "id": "b2fedf07",
   "metadata": {
    "slideshow": {
     "slide_type": "slide"
    }
   },
   "source": [
    "# Validation Options\n",
    "\n",
    "- JSON Schema\n",
    "- ShEx\n",
    "- SHACL\n",
    "- Others (like Cue lang)\n",
    "\n",
    "## Why SHACL?\n",
    "\n",
    "SHACL is on a W3C recommendation track while ShEx is a community project.  SHACL has also shown wider adoption in the JSON-LD and broader structured data on the web community including Solid. \n"
   ]
  },
  {
   "cell_type": "markdown",
   "id": "293b9e16",
   "metadata": {
    "slideshow": {
     "slide_type": "subslide"
    }
   },
   "source": [
    "## A brief aside on JSON-LD Structure Validation\n",
    "\n",
    "### Validate the structure of the JSON-LD data graph\n",
    "\n",
    "These test that your document is well formed but not necessarily valid against a vocabulary or profile / guidance.\n",
    "\n",
    "* [JSON-LD Playground](https://json-ld.org/playground/)\n",
    "* [Structured data Linter](http://linter.structured-data.org/)\n",
    "\n",
    "\n",
    "### Validates against Schema.org usage\n",
    "\n",
    "This includes things like domain and range issues and predicate and type terms.\n",
    "\n",
    "* [SDO Validator](https://validator.schema.org/)\n"
   ]
  },
  {
   "cell_type": "markdown",
   "id": "91a73722",
   "metadata": {
    "slideshow": {
     "slide_type": "subslide"
    }
   },
   "source": [
    "## SHACL Resources\n",
    "\n",
    "- [W3C SHACL](https://www.w3.org/TR/shacl/)  \n",
    "- [Editors Draft](https://w3c.github.io/data-shapes/shacl/)\n",
    "- [Implementation Report](https://w3c.github.io/data-shapes/data-shapes-test-suite/)\n",
    "\n",
    "You can try SHACL at the [SHACL Playground](https://shacl.org/playground/)\n"
   ]
  },
  {
   "cell_type": "markdown",
   "id": "70654a7e",
   "metadata": {
    "slideshow": {
     "slide_type": "slide"
    }
   },
   "source": [
    "# Some example SHACL Shapes\n",
    "\n",
    "\n",
    "\n",
    "Shape Graphs:\n",
    "\n",
    "The SHACL Shapes Constraint Language, a language for validating RDF graphs against a set of conditions. These conditions are provided as shapes and other constructs expressed in the form of an RDF graph. RDF graphs that are used in this manner are called \"shapes graphs\"\n",
    "\n",
    "Data Graphs:  \n",
    "\n",
    "In SHACL and the RDF graphs that are validated against a shapes graph are called \"data graphs\". \n",
    "\n",
    "reference: [https://www.w3.org/TR/shacl/#sparql-constraints-example](https://www.w3.org/TR/shacl/#sparql-constraints-example)"
   ]
  },
  {
   "cell_type": "markdown",
   "id": "738aed8b",
   "metadata": {
    "slideshow": {
     "slide_type": "subslide"
    }
   },
   "source": [
    "## A quick example\n",
    "\n",
    "This is a basic example but it shows things like checking for node type, min and max counts, setting severity and other aspects.  We can visit the [core constraints](https://www.w3.org/TR/shacl/#core-components) for SHACL to see some, but not, of the patterns SHACL can address.  More complex (or at least alternative) approaches include the SPARQL based on constraints or [SHACL Advanced Features](https://www.w3.org/TR/shacl-af/). \n",
    "\n",
    "[GitHub resource link](https://github.com/iodepo/odis-arch/blob/master/book/tooling/notebooks/validation/shapes/oih_search.ttl)\n",
    "\n",
    "```turtle\n",
    "@prefix schema: <https://schema.org/> .\n",
    "@prefix rdf: <http://www.w3.org/1999/02/22-rdf-syntax-ns#> .\n",
    "@prefix shacl: <http://www.w3.org/ns/shacl#> .\n",
    "@prefix oihval: <https://oceans.collaborium.io/voc/validation/1.0.1/shacl#> .\n",
    "\n",
    "oihval:IDShape\n",
    "    a shacl:NodeShape ;\n",
    "    shacl:targetClass schema:Course ;\n",
    "    shacl:message \"Graph must have an ID\"@en ;\n",
    "    shacl:description \"https://book.oceaninfohub.org/validation/README.html\" ;\n",
    "    shacl:nodeKind shacl:IRI ;\n",
    "    .\n",
    "\n",
    "oihval:DatasetCommonShape\n",
    "    a shacl:NodeShape ;\n",
    "    shacl:targetClass schema:Course ;\n",
    "    shacl:message \"OIH Learning Resource validation suite\" ;\n",
    "    shacl:description \"https://book.oceaninfohub.org/validation/README.html\" ;\n",
    "    shacl:property\n",
    "        oihval:nameResourceProperty,\n",
    "        oihval:urlResourceProperty,\n",
    "        oihval:descriptionResourceProperty,\n",
    "        oihval:identifierProviderProperty,\n",
    "        oihval:keywordsResourceProperty,\n",
    "        oihval:licenseResourceProperty\n",
    "    .\n",
    "\n",
    "oihval:nameResourceProperty\n",
    "    a shacl:PropertyShape ;\n",
    "    shacl:path schema:name ;\n",
    "    shacl:nodeKind shacl:Literal ;\n",
    "    shacl:minCount 1 ;\n",
    "    shacl:message \"Name is required \"@en ;\n",
    "    shacl:description \"https://book.oceaninfohub.org/validation/README.html\" ;\n",
    "    .\n",
    "\n",
    "oihval:keywordsResourceProperty\n",
    "    a shacl:PropertyShape ;\n",
    "    shacl:path schema:keywords ;\n",
    "    shacl:minCount 1 ;\n",
    "    shacl:nodeKind shacl:Literal ;\n",
    "    shacl:severity shacl:Warning ;\n",
    "    shacl:message \"A resource should include descriptive keywords\" ;\n",
    "    shacl:description \"https://book.oceaninfohub.org/validation/README.html\" ;\n",
    "    .\n",
    "\n",
    "oihval:licenseResourceProperty\n",
    "    a shacl:PropertyShape ;\n",
    "    shacl:path schema:license ;\n",
    "    shacl:minCount 1 ;\n",
    "    shacl:nodeKind shacl:Literal ;\n",
    "    shacl:severity shacl:Info ;\n",
    "    shacl:message \"Though not required, it is good practice to include a license if one exists\" ;\n",
    "    shacl:description \"https://book.oceaninfohub.org/validation/README.html\" ;\n",
    "    .\n",
    "\n",
    "oihval:urlResourceProperty\n",
    "    a shacl:PropertyShape ;\n",
    "    shacl:path schema:url ;\n",
    "    shacl:maxCount 1 ;\n",
    "    shacl:minCount 1 ;\n",
    "    shacl:nodeKind shacl:IRIOrLiteral ;\n",
    "    shacl:message \"URL required for the location of the resource described by this metadata\"@en ;\n",
    "    shacl:description \"https://book.oceaninfohub.org/validation/README.html\" ;\n",
    "    .\n",
    "\n",
    "oihval:descriptionResourceProperty\n",
    "    a shacl:PropertyShape ;\n",
    "    shacl:path schema:description;\n",
    "    shacl:nodeKind shacl:Literal ;\n",
    "    shacl:minCount 1 ;\n",
    "    shacl:message \"Resource must have a description\"@en ;\n",
    "    shacl:description \"https://book.oceaninfohub.org/validation/README.html\" ;\n",
    "    .\n",
    "\n",
    "oihval:identifierProviderProperty\n",
    "    a shacl:PropertyShape ;\n",
    "    shacl:path schema:provider;\n",
    "    shacl:minCount 1 ;\n",
    "    shacl:nodeKind shacl:IRIOrLiteral ;\n",
    "    shacl:message \"A provider must be noted\"@en ;\n",
    "    shacl:description \"https://book.oceaninfohub.org/validation/README.html\" ;\n",
    "    .\n",
    "\n",
    "```"
   ]
  },
  {
   "cell_type": "markdown",
   "id": "dc42bf2c",
   "metadata": {
    "slideshow": {
     "slide_type": "subslide"
    }
   },
   "source": [
    "## Tooling\n",
    "\n",
    "pySHACL examples  ([https://github.com/RDFLib/pySHACL/](https://github.com/RDFLib/pySHACL/))\n",
    "\n",
    "[kglab](https://derwen.ai/docs/kgl/) tutorial on [SHACL validation with pySHACL](https://derwen.ai/docs/kgl/ex5_0/)  \n",
    "\n",
    "```python\n",
    "from pyshacl import validate\n",
    "r = validate(data_graph,\n",
    "      shacl_graph=sg,\n",
    "      ont_graph=og,\n",
    "      inference='rdfs',\n",
    "      abort_on_first=False,\n",
    "      allow_warnings=False,\n",
    "      meta_shacl=False,\n",
    "      advanced=False,\n",
    "      js=False,\n",
    "      debug=False)\n",
    "conforms, results_graph, results_text = r\n",
    "```"
   ]
  },
  {
   "cell_type": "markdown",
   "id": "2a7334da",
   "metadata": {
    "slideshow": {
     "slide_type": "subslide"
    }
   },
   "source": [
    "## Severity\n",
    "\n",
    "A brief note on severity levels.  SHACL defines [three levels of severity](https://www.w3.org/TR/shacl/#severity).  These can be useful to convey issues that are not violations for use, but are just warning and info related items.\n",
    "\n",
    "| Severity     | Description                                                            |\n",
    "|--------------|------------------------------------------------------------------------|\n",
    "| sh:Info      | A non-critical constraint violation indicating an informative message. |\n",
    "| sh:Warning   | A non-critical constraint violation indicating a warning.              |\n",
    "| sh:Violation | A constraint violation.                                                |\n",
    "\n"
   ]
  },
  {
   "cell_type": "markdown",
   "id": "8f1d20ec",
   "metadata": {
    "slideshow": {
     "slide_type": "slide"
    }
   },
   "source": [
    "# Linkes to the OIH Notebooks for demonstration\n",
    "\n",
    "## Examples of using pySHACL \n",
    "\n",
    "[Basic SHACL](https://book.oceaninfohub.org/tooling/notebooks/validation/OIH_Simple_SHACL.html)\n",
    "\n"
   ]
  },
  {
   "cell_type": "markdown",
   "id": "48bb1456",
   "metadata": {},
   "source": []
  }
 ],
 "metadata": {
  "celltoolbar": "Slideshow",
  "kernelspec": {
   "display_name": "Python 3",
   "language": "python",
   "name": "python3"
  },
  "language_info": {
   "codemirror_mode": {
    "name": "ipython",
    "version": 3
   },
   "file_extension": ".py",
   "mimetype": "text/x-python",
   "name": "python",
   "nbconvert_exporter": "python",
   "pygments_lexer": "ipython3",
   "version": "3.8.10"
  }
 },
 "nbformat": 4,
 "nbformat_minor": 5
}
