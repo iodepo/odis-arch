{
 "cells": [
  {
   "metadata": {},
   "cell_type": "markdown",
   "source": [
    "# Testing notebook\n",
    "\n",
    "refs\n",
    "* https://github.com/iodepo/odis-in/blob/master/dataGraphs/thematics/expinst/graphs/odisCatOrganization-example.json#L14"
   ],
   "id": "53992718396567ee"
  },
  {
   "cell_type": "code",
   "id": "initial_id",
   "metadata": {
    "collapsed": true,
    "ExecuteTime": {
     "end_time": "2024-10-24T13:55:40.604908Z",
     "start_time": "2024-10-24T13:55:40.151578Z"
    }
   },
   "source": [
    "import sys\n",
    "import httpx  # Replacing requests with httpx\n",
    "import xml.etree.ElementTree as ET\n",
    "import json\n",
    "from urllib.parse import urlparse\n",
    "import pyoxigraph\n",
    "from pyld import jsonld\n",
    "import io\n",
    "import pandas as pd\n",
    "import extruct\n",
    "from w3lib.html import get_base_url\n",
    "import string\n",
    "from tqdm import tqdm  # Importing tqdm for progress indication\n",
    "from zmq.backend import backend\n"
   ],
   "outputs": [],
   "execution_count": 3
  },
  {
   "metadata": {
    "ExecuteTime": {
     "end_time": "2024-10-24T13:55:41.380176Z",
     "start_time": "2024-10-24T13:55:41.367930Z"
    }
   },
   "cell_type": "code",
   "source": [
    "\n",
    "def extract_value(cell):\n",
    "    if isinstance(cell, (pyoxigraph.Literal, pyoxigraph.NamedNode, pyoxigraph.BlankNode)):\n",
    "        return cell.value\n",
    "    return cell\n",
    "\n",
    "\n",
    "def parse_sitemap(sitemap_url):\n",
    "    try:\n",
    "        # Fetch the sitemap\n",
    "        response = httpx.get(sitemap_url)\n",
    "        response.raise_for_status()\n",
    "\n",
    "        # Parse the XML\n",
    "        root = ET.fromstring(response.content)\n",
    "\n",
    "        # Handle potential XML namespaces\n",
    "        namespace = {'ns': root.tag.split('}')[0].strip('{')} if '}' in root.tag else ''\n",
    "\n",
    "        # Extract URLs based on whether there's a namespace or not\n",
    "        if namespace:\n",
    "            urls = [url.find('ns:loc', namespace).text for url in root.findall('.//ns:url', namespace)]\n",
    "        else:\n",
    "            urls = [url.find('loc').text for url in root.findall('.//url')]\n",
    "\n",
    "        return urls\n",
    "\n",
    "    except httpx.RequestError as e:\n",
    "        print(f\"Error fetching sitemap: {e}\")\n",
    "        return []\n",
    "    except ET.ParseError as e:\n",
    "        print(f\"Error parsing XML: {e}\")\n",
    "        return []\n",
    "\n",
    "def trimit(input_str):\n",
    "    # Define the control characters\n",
    "    control_chars = ''.join(map(chr, range(0, 32))) + chr(127)\n",
    "\n",
    "    # Create a translation table\n",
    "    translation_table = str.maketrans('', '', control_chars + string.whitespace)\n",
    "\n",
    "    # Translate the input string using the translation table\n",
    "    result_str = input_str.translate(translation_table)\n",
    "\n",
    "    return result_str\n",
    "\n",
    "def extract_jsonld(url):\n",
    "    try:\n",
    "        # Fetch the webpage\n",
    "        response = httpx.get(trimit(url))\n",
    "        response.raise_for_status()\n",
    "\n",
    "        # Get base URL for handling relative URLs in the HTML\n",
    "        base_url = get_base_url(response.text, str(response.url))\n",
    "\n",
    "        # Extract all metadata formats using extruct\n",
    "        data = extruct.extract(\n",
    "            response.text,\n",
    "            base_url=base_url,\n",
    "            syntaxes=['json-ld']  # Only extract JSON-LD\n",
    "        )\n",
    "\n",
    "        # Get JSON-LD data\n",
    "        jsonld_data = data.get('json-ld', [])\n",
    "\n",
    "        if jsonld_data:\n",
    "            # If we found JSON-LD data, return the first item pretty-printed\n",
    "            # print(json.dumps(jsonld_data[0], indent=2))\n",
    "            # print(\"============================\")\n",
    "            return json.dumps(jsonld_data[0], indent=2)\n",
    "\n",
    "        return None\n",
    "\n",
    "    except httpx.RequestError as e:\n",
    "        print(f\"Error fetching URL {url}: {e}\")\n",
    "        return None\n",
    "\n"
   ],
   "id": "c1d9eafb82b51923",
   "outputs": [],
   "execution_count": 4
  },
  {
   "metadata": {
    "ExecuteTime": {
     "end_time": "2024-10-24T13:57:43.376716Z",
     "start_time": "2024-10-24T13:57:43.373747Z"
    }
   },
   "cell_type": "code",
   "source": [
    " # set up oxygraph\n",
    "store = pyoxigraph.Store()  # store = pyoxigraph.Store(path=\"./store\")\n",
    "mime_type = \"application/n-triples\"\n",
    "\n",
    "\n",
    "sitemap_url = \"https://catalogue.odis.org/sitemapIndex.xml\""
   ],
   "id": "40bb693d18522ca0",
   "outputs": [],
   "execution_count": 9
  },
  {
   "metadata": {
    "ExecuteTime": {
     "end_time": "2024-10-24T15:02:31.399167Z",
     "start_time": "2024-10-24T14:21:59.699503Z"
    }
   },
   "cell_type": "code",
   "source": [
    "\n",
    "\n",
    "# Validate URL format\n",
    "try:\n",
    "    result = urlparse(sitemap_url)\n",
    "    if not all([result.scheme, result.netloc]):\n",
    "        raise ValueError(\"Invalid URL format\")\n",
    "except ValueError as e:\n",
    "    print(f\"Error: {e}\")\n",
    "    sys.exit(1)\n",
    "\n",
    "# Parse sitemap\n",
    "print(f\"Parsing sitemap: {sitemap_url}\")\n",
    "urls = parse_sitemap(sitemap_url)\n",
    "\n",
    "if not urls:\n",
    "    print(\"No URLs found in sitemap\")\n",
    "    sys.exit(1)\n",
    "\n",
    "print(f\"Found {len(urls)} URLs in sitemap\")\n",
    "\n",
    "for url in tqdm(urls, desc=\"Processing URLs\", ncols=100):\n",
    "    try:\n",
    "        # print(f\"\\nChecking {trimit(url)} for JSON-LD data...\")\n",
    "        jsonld_content = extract_jsonld(url)\n",
    "        if jsonld_content:\n",
    "            normalized = jsonld.normalize(json.loads(jsonld_content),\n",
    "                                          {'algorithm': 'URDNA2015', 'format': 'application/n-quads'})\n",
    "            store.load(io.StringIO(normalized), mime_type, base_iri=None, to_graph=None)\n",
    "        else:\n",
    "            pass\n",
    "            # print(\"No JSON-LD content found\")\n",
    "    except Exception as e:\n",
    "        print(f\"An error occurred while processing URL {url}: {e}\")\n"
   ],
   "id": "7835546e208ea4c4",
   "outputs": [
    {
     "name": "stdout",
     "output_type": "stream",
     "text": [
      "Parsing sitemap: https://catalogue.odis.org/sitemapIndex.xml\n",
      "Found 3138 URLs in sitemap\n"
     ]
    },
    {
     "name": "stderr",
     "output_type": "stream",
     "text": [
      "Processing URLs:   0%|                                                     | 0/3138 [00:00<?, ?it/s]/tmp/ipykernel_73770/3202978168.py:27: DeprecationWarning: Using string to specify a RDF format is deprecated, please use a RdfFormat object instead.\n",
      "  store.load(io.StringIO(normalized), mime_type, base_iri=None, to_graph=None)\n",
      "Processing URLs:  41%|█████████████████▏                        | 1287/3138 [16:22<30:14,  1.02it/s]"
     ]
    },
    {
     "name": "stdout",
     "output_type": "stream",
     "text": [
      "An error occurred while processing URL \n",
      "            https://catalogue.odis.org/view/1105\n",
      "        : Invalid \\escape: line 16 column 665 (char 1223)\n"
     ]
    },
    {
     "name": "stderr",
     "output_type": "stream",
     "text": [
      "Processing URLs: 100%|██████████████████████████████████████████| 3138/3138 [40:31<00:00,  1.29it/s]\n"
     ]
    }
   ],
   "execution_count": 13
  },
  {
   "metadata": {
    "ExecuteTime": {
     "end_time": "2024-10-24T15:36:10.463381Z",
     "start_time": "2024-10-24T15:36:10.453945Z"
    }
   },
   "cell_type": "code",
   "source": [
    "# ref: https://github.com/iodepo/odis-in/blob/master/dataGraphs/thematics/expinst/graphs/odisCatOrganization-example.json#L14\n",
    "sparql = \"\"\"\n",
    "    PREFIX shacl: <http://www.w3.org/ns/shacl#>\n",
    "    PREFIX rdf: <http://www.w3.org/1999/02/22-rdf-syntax-ns#>\n",
    "    PREFIX rdfs: <http://www.w3.org/2000/01/rdf-schema#>\n",
    "    PREFIX schema: <https://schema.org/>\n",
    "\n",
    "    SELECT ?s ?url ?value\n",
    "    WHERE {\n",
    "    ?s a schema:CreativeWork .\n",
    "    ?s schema:additionalType \"sitemap\" .\n",
    "    ?s schema:additionalProperty ?p .\n",
    "        ?p schema:propertyID \"iode-approved\" .\n",
    "        ?p schema:value ?value .\n",
    "    ?s schema:url ?url .\n",
    "    }\n",
    "    \"\"\"\n",
    "\n",
    "r = store.query(sparql)\n",
    "q1 = list(r)\n",
    "v = r.variables\n",
    "value_list = [variable.value for variable in v]\n",
    "\n",
    "df = pd.DataFrame(q1, columns=value_list)\n",
    "df = df.map(extract_value)\n"
   ],
   "id": "40be94fc809ba625",
   "outputs": [],
   "execution_count": 36
  },
  {
   "metadata": {
    "ExecuteTime": {
     "end_time": "2024-10-24T15:36:10.796129Z",
     "start_time": "2024-10-24T15:36:10.787657Z"
    }
   },
   "cell_type": "code",
   "source": "df",
   "id": "73c8c1585cad6a6a",
   "outputs": [
    {
     "data": {
      "text/plain": [
       "                                    s  \\\n",
       "0    a386b2b9d169c8710a7cec80a850f2bb   \n",
       "1    dca00f7e79b3c337928dabc534af9c22   \n",
       "2    c1ab879d9efebb31ae44b1d99cbfedc6   \n",
       "3    d5408f08a0e425ab76a6ed576f7ebf92   \n",
       "4    d64f0af1c88836dfedda2f9dcf0f3597   \n",
       "..                                ...   \n",
       "134  f22091ba2a571ed3c2e935f38f2d4455   \n",
       "135   d84d17db0aeb39843114679498db45c   \n",
       "136  f04fd3c5d2ddace57cb6cad67fcc6efa   \n",
       "137  f500a17f3154ad7050801d8691b4eef0   \n",
       "138  dc54592ab54bba195efd59c41aba3d82   \n",
       "\n",
       "                                                   url  value  \n",
       "0               https://pensoft.net/marine-sitemap.xml  false  \n",
       "1    https://github.com/lechatpito/NASA-ODIS-Exampl...  false  \n",
       "2                     https://data.ioos.us/sitemap.xml  false  \n",
       "3             https://osmc.noaa.gov/erddap/sitemap.xml  false  \n",
       "4    https://bioeco-graph.s3.amazonaws.com/bioeco_g...  false  \n",
       "..                                                 ...    ...  \n",
       "134     https://portal.medin.org.uk/portal/sitemap.php  false  \n",
       "135  https://api.linked-systems.uk/sitemap_pap_api.xml  false  \n",
       "136  https://oceanexpert.org/assets/sitemaps/sitema...  false  \n",
       "137  https://oceanexpert.org/assets/sitemaps/sitema...  false  \n",
       "138  https://api.linked-systems.uk/sitemap_pap_api.xml  false  \n",
       "\n",
       "[139 rows x 3 columns]"
      ],
      "text/html": [
       "<div>\n",
       "<style scoped>\n",
       "    .dataframe tbody tr th:only-of-type {\n",
       "        vertical-align: middle;\n",
       "    }\n",
       "\n",
       "    .dataframe tbody tr th {\n",
       "        vertical-align: top;\n",
       "    }\n",
       "\n",
       "    .dataframe thead th {\n",
       "        text-align: right;\n",
       "    }\n",
       "</style>\n",
       "<table border=\"1\" class=\"dataframe\">\n",
       "  <thead>\n",
       "    <tr style=\"text-align: right;\">\n",
       "      <th></th>\n",
       "      <th>s</th>\n",
       "      <th>url</th>\n",
       "      <th>value</th>\n",
       "    </tr>\n",
       "  </thead>\n",
       "  <tbody>\n",
       "    <tr>\n",
       "      <th>0</th>\n",
       "      <td>a386b2b9d169c8710a7cec80a850f2bb</td>\n",
       "      <td>https://pensoft.net/marine-sitemap.xml</td>\n",
       "      <td>false</td>\n",
       "    </tr>\n",
       "    <tr>\n",
       "      <th>1</th>\n",
       "      <td>dca00f7e79b3c337928dabc534af9c22</td>\n",
       "      <td>https://github.com/lechatpito/NASA-ODIS-Exampl...</td>\n",
       "      <td>false</td>\n",
       "    </tr>\n",
       "    <tr>\n",
       "      <th>2</th>\n",
       "      <td>c1ab879d9efebb31ae44b1d99cbfedc6</td>\n",
       "      <td>https://data.ioos.us/sitemap.xml</td>\n",
       "      <td>false</td>\n",
       "    </tr>\n",
       "    <tr>\n",
       "      <th>3</th>\n",
       "      <td>d5408f08a0e425ab76a6ed576f7ebf92</td>\n",
       "      <td>https://osmc.noaa.gov/erddap/sitemap.xml</td>\n",
       "      <td>false</td>\n",
       "    </tr>\n",
       "    <tr>\n",
       "      <th>4</th>\n",
       "      <td>d64f0af1c88836dfedda2f9dcf0f3597</td>\n",
       "      <td>https://bioeco-graph.s3.amazonaws.com/bioeco_g...</td>\n",
       "      <td>false</td>\n",
       "    </tr>\n",
       "    <tr>\n",
       "      <th>...</th>\n",
       "      <td>...</td>\n",
       "      <td>...</td>\n",
       "      <td>...</td>\n",
       "    </tr>\n",
       "    <tr>\n",
       "      <th>134</th>\n",
       "      <td>f22091ba2a571ed3c2e935f38f2d4455</td>\n",
       "      <td>https://portal.medin.org.uk/portal/sitemap.php</td>\n",
       "      <td>false</td>\n",
       "    </tr>\n",
       "    <tr>\n",
       "      <th>135</th>\n",
       "      <td>d84d17db0aeb39843114679498db45c</td>\n",
       "      <td>https://api.linked-systems.uk/sitemap_pap_api.xml</td>\n",
       "      <td>false</td>\n",
       "    </tr>\n",
       "    <tr>\n",
       "      <th>136</th>\n",
       "      <td>f04fd3c5d2ddace57cb6cad67fcc6efa</td>\n",
       "      <td>https://oceanexpert.org/assets/sitemaps/sitema...</td>\n",
       "      <td>false</td>\n",
       "    </tr>\n",
       "    <tr>\n",
       "      <th>137</th>\n",
       "      <td>f500a17f3154ad7050801d8691b4eef0</td>\n",
       "      <td>https://oceanexpert.org/assets/sitemaps/sitema...</td>\n",
       "      <td>false</td>\n",
       "    </tr>\n",
       "    <tr>\n",
       "      <th>138</th>\n",
       "      <td>dc54592ab54bba195efd59c41aba3d82</td>\n",
       "      <td>https://api.linked-systems.uk/sitemap_pap_api.xml</td>\n",
       "      <td>false</td>\n",
       "    </tr>\n",
       "  </tbody>\n",
       "</table>\n",
       "<p>139 rows × 3 columns</p>\n",
       "</div>"
      ]
     },
     "execution_count": 37,
     "metadata": {},
     "output_type": "execute_result"
    }
   ],
   "execution_count": 37
  },
  {
   "metadata": {
    "ExecuteTime": {
     "end_time": "2024-10-24T20:06:29.425827Z",
     "start_time": "2024-10-24T20:06:29.417986Z"
    }
   },
   "cell_type": "code",
   "source": [
    "from datetime import date\n",
    "from typing import Optional, List\n",
    "from pydantic import BaseModel, HttpUrl, Field\n",
    "import yaml\n",
    "from pathlib import Path\n",
    "\n",
    "class Source(BaseModel):\n",
    "    name: str = Field(description=\"Short identifier for the source\")\n",
    "    propername: str = Field(description=\"Full proper name of the catalogue\")\n",
    "    catalogue: Optional[str] = Field(description=\"URL of the catalogue\")\n",
    "    domain: str = Field(description=\"Base domain URL\")\n",
    "    logo: Optional[str] = Field(description=\"URL of the source logo\")\n",
    "    pid: Optional[str] = Field(description=\"Persistent identifier URL\")\n",
    "    sourcetype: str = Field(description=\"Type of the source (e.g., sitemap)\")\n",
    "    url: str = Field(description=\"URL to the source data\")\n",
    "    changefreq: Optional[str] = Field(None, description=\"Change frequency\")\n",
    "    backend: Optional[str] = Field(None, description=\"Backend system type\")\n",
    "    headless: bool = Field(description=\"Whether the source is headless\")\n",
    "    dateadded: Optional[str] = Field(description=\"Date when the source was added\")\n",
    "    cron: Optional[str] = Field(description=\"Cron schedule expression\")\n",
    "    active: Optional[str] = Field(description=\"Whether the source is active\")\n",
    "\n",
    "class SourceConfig(BaseModel):\n",
    "    sources: List[Source] = Field(description=\"List of source configurations\")\n",
    "\n",
    "def remove_none_values(d):\n",
    "    \"\"\"Recursively remove keys with None values from dictionaries\"\"\"\n",
    "    if not isinstance(d, dict):\n",
    "        return d\n",
    "    return {\n",
    "        k: remove_none_values(v)\n",
    "        for k, v in d.items()\n",
    "        if v is not None\n",
    "    }"
   ],
   "id": "40e95aef4c846e15",
   "outputs": [],
   "execution_count": 112
  },
  {
   "metadata": {
    "ExecuteTime": {
     "end_time": "2024-10-24T20:06:29.832745Z",
     "start_time": "2024-10-24T20:06:29.825875Z"
    }
   },
   "cell_type": "code",
   "source": [
    "\n",
    "def generate_yaml_config(config: SourceConfig, output_path: Optional[Path] = None) -> str:\n",
    "    \"\"\"\n",
    "    Generate YAML from a SourceConfig object.\n",
    "    \n",
    "    Args:\n",
    "        config (SourceConfig): The configuration object to serialize\n",
    "        output_path (Optional[Path]): If provided, writes the YAML to this file\n",
    "        \n",
    "    Returns:\n",
    "        str: The generated YAML content\n",
    "    \"\"\"\n",
    "    # Convert Pydantic model to dict and remove None values\n",
    "    config_dict = config.model_dump()\n",
    "    config_dict = remove_none_values(config_dict)\n",
    "\n",
    "    # Custom representer for HttpUrl to convert to string\n",
    "    def represent_http_url(dumper, data):\n",
    "        return dumper.represent_str(str(data))\n",
    "\n",
    "    # Custom representer for date to convert to ISO format string\n",
    "    def represent_date(dumper, data):\n",
    "        return dumper.represent_str(data.isoformat())\n",
    "\n",
    "    # Add custom representers\n",
    "    yaml.add_representer(HttpUrl, represent_http_url)\n",
    "    yaml.add_representer(date, represent_date)\n",
    "\n",
    "    # Generate YAML with proper formatting\n",
    "    yaml_content = yaml.dump(config_dict, sort_keys=False, allow_unicode=True, default_flow_style=False)\n",
    "\n",
    "    # Write to file if output path is provided\n",
    "    if output_path:\n",
    "        output_path.write_text(yaml_content)\n",
    "\n",
    "    return yaml_content"
   ],
   "id": "bee6ea18a0400d6b",
   "outputs": [],
   "execution_count": 113
  },
  {
   "metadata": {
    "ExecuteTime": {
     "end_time": "2024-10-24T20:06:56.364873Z",
     "start_time": "2024-10-24T20:06:56.352275Z"
    }
   },
   "cell_type": "code",
   "source": [
    "\n",
    "#             backend=\"GeoNode\",\n",
    "\n",
    "sample_config = SourceConfig(\n",
    "    sources=[\n",
    "        Source(\n",
    "            name=\"acma\",\n",
    "            propername=\"African Coastal and Marine Atlas catalogue (ACMA)\",\n",
    "            catalogue=\"https://acma.africanmarineatlas.org\",\n",
    "            domain=\"https://africanmarineatlas.org\",\n",
    "            logo=\"https://acma.africanmarineatlas.org/static/mapstore/img/geonode-logo.svg\",\n",
    "            pid=\"https://catalogue.odis.org/view/3125\",\n",
    "            sourcetype=\"sitemap\",\n",
    "            url=\"https://raw.githubusercontent.com/iodepo/odis-arch/master/collection/tempHosting/data-acma/sitemap.xml\",\n",
    "            changefreq=\"None\",\n",
    "            backend= None,\n",
    "            headless=\"false\",\n",
    "            dateadded=\"2024, 4, 23\",\n",
    "            cron=\"0 6 * * 0\",\n",
    "            active=\"true\"\n",
    "        )\n",
    "    ]\n",
    ")"
   ],
   "id": "10d1b0b89da32ac5",
   "outputs": [
    {
     "ename": "ValidationError",
     "evalue": "4 validation errors for Source\nheadless\n  Field required [type=missing, input_value={'name': 'acma', 'propern...'None', 'backend': None}, input_type=dict]\n    For further information visit https://errors.pydantic.dev/2.9/v/missing\ndateadded\n  Field required [type=missing, input_value={'name': 'acma', 'propern...'None', 'backend': None}, input_type=dict]\n    For further information visit https://errors.pydantic.dev/2.9/v/missing\ncron\n  Field required [type=missing, input_value={'name': 'acma', 'propern...'None', 'backend': None}, input_type=dict]\n    For further information visit https://errors.pydantic.dev/2.9/v/missing\nactive\n  Field required [type=missing, input_value={'name': 'acma', 'propern...'None', 'backend': None}, input_type=dict]\n    For further information visit https://errors.pydantic.dev/2.9/v/missing",
     "output_type": "error",
     "traceback": [
      "\u001B[0;31m---------------------------------------------------------------------------\u001B[0m",
      "\u001B[0;31mValidationError\u001B[0m                           Traceback (most recent call last)",
      "Cell \u001B[0;32mIn[116], line 5\u001B[0m\n\u001B[1;32m      1\u001B[0m \u001B[38;5;66;03m#             backend=\"GeoNode\",\u001B[39;00m\n\u001B[1;32m      3\u001B[0m sample_config \u001B[38;5;241m=\u001B[39m SourceConfig(\n\u001B[1;32m      4\u001B[0m     sources\u001B[38;5;241m=\u001B[39m[\n\u001B[0;32m----> 5\u001B[0m         \u001B[43mSource\u001B[49m\u001B[43m(\u001B[49m\n\u001B[1;32m      6\u001B[0m \u001B[43m            \u001B[49m\u001B[43mname\u001B[49m\u001B[38;5;241;43m=\u001B[39;49m\u001B[38;5;124;43m\"\u001B[39;49m\u001B[38;5;124;43macma\u001B[39;49m\u001B[38;5;124;43m\"\u001B[39;49m\u001B[43m,\u001B[49m\n\u001B[1;32m      7\u001B[0m \u001B[43m            \u001B[49m\u001B[43mpropername\u001B[49m\u001B[38;5;241;43m=\u001B[39;49m\u001B[38;5;124;43m\"\u001B[39;49m\u001B[38;5;124;43mAfrican Coastal and Marine Atlas catalogue (ACMA)\u001B[39;49m\u001B[38;5;124;43m\"\u001B[39;49m\u001B[43m,\u001B[49m\n\u001B[1;32m      8\u001B[0m \u001B[43m            \u001B[49m\u001B[43mcatalogue\u001B[49m\u001B[38;5;241;43m=\u001B[39;49m\u001B[38;5;124;43m\"\u001B[39;49m\u001B[38;5;124;43mhttps://acma.africanmarineatlas.org\u001B[39;49m\u001B[38;5;124;43m\"\u001B[39;49m\u001B[43m,\u001B[49m\n\u001B[1;32m      9\u001B[0m \u001B[43m            \u001B[49m\u001B[43mdomain\u001B[49m\u001B[38;5;241;43m=\u001B[39;49m\u001B[38;5;124;43m\"\u001B[39;49m\u001B[38;5;124;43mhttps://africanmarineatlas.org\u001B[39;49m\u001B[38;5;124;43m\"\u001B[39;49m\u001B[43m,\u001B[49m\n\u001B[1;32m     10\u001B[0m \u001B[43m            \u001B[49m\u001B[43mlogo\u001B[49m\u001B[38;5;241;43m=\u001B[39;49m\u001B[38;5;124;43m\"\u001B[39;49m\u001B[38;5;124;43mhttps://acma.africanmarineatlas.org/static/mapstore/img/geonode-logo.svg\u001B[39;49m\u001B[38;5;124;43m\"\u001B[39;49m\u001B[43m,\u001B[49m\n\u001B[1;32m     11\u001B[0m \u001B[43m            \u001B[49m\u001B[43mpid\u001B[49m\u001B[38;5;241;43m=\u001B[39;49m\u001B[38;5;124;43m\"\u001B[39;49m\u001B[38;5;124;43mhttps://catalogue.odis.org/view/3125\u001B[39;49m\u001B[38;5;124;43m\"\u001B[39;49m\u001B[43m,\u001B[49m\n\u001B[1;32m     12\u001B[0m \u001B[43m            \u001B[49m\u001B[43msourcetype\u001B[49m\u001B[38;5;241;43m=\u001B[39;49m\u001B[38;5;124;43m\"\u001B[39;49m\u001B[38;5;124;43msitemap\u001B[39;49m\u001B[38;5;124;43m\"\u001B[39;49m\u001B[43m,\u001B[49m\n\u001B[1;32m     13\u001B[0m \u001B[43m            \u001B[49m\u001B[43murl\u001B[49m\u001B[38;5;241;43m=\u001B[39;49m\u001B[38;5;124;43m\"\u001B[39;49m\u001B[38;5;124;43mhttps://raw.githubusercontent.com/iodepo/odis-arch/master/collection/tempHosting/data-acma/sitemap.xml\u001B[39;49m\u001B[38;5;124;43m\"\u001B[39;49m\u001B[43m,\u001B[49m\n\u001B[1;32m     14\u001B[0m \u001B[43m            \u001B[49m\u001B[43mchangefreq\u001B[49m\u001B[38;5;241;43m=\u001B[39;49m\u001B[38;5;124;43m\"\u001B[39;49m\u001B[38;5;124;43mNone\u001B[39;49m\u001B[38;5;124;43m\"\u001B[39;49m\u001B[43m,\u001B[49m\n\u001B[1;32m     15\u001B[0m \u001B[43m            \u001B[49m\u001B[43mbackend\u001B[49m\u001B[38;5;241;43m=\u001B[39;49m\u001B[43m \u001B[49m\u001B[38;5;28;43;01mNone\u001B[39;49;00m\u001B[43m,\u001B[49m\n\u001B[1;32m     16\u001B[0m \u001B[43m       \u001B[49m\n\u001B[1;32m     17\u001B[0m \u001B[43m        \u001B[49m\u001B[43m)\u001B[49m\n\u001B[1;32m     18\u001B[0m     ]\n\u001B[1;32m     19\u001B[0m )\n",
      "File \u001B[0;32m~/.config/JetBrains/DataSpell2024.2/projects/workspace/venv/lib/python3.10/site-packages/pydantic/main.py:212\u001B[0m, in \u001B[0;36mBaseModel.__init__\u001B[0;34m(self, **data)\u001B[0m\n\u001B[1;32m    210\u001B[0m \u001B[38;5;66;03m# `__tracebackhide__` tells pytest and some other tools to omit this function from tracebacks\u001B[39;00m\n\u001B[1;32m    211\u001B[0m __tracebackhide__ \u001B[38;5;241m=\u001B[39m \u001B[38;5;28;01mTrue\u001B[39;00m\n\u001B[0;32m--> 212\u001B[0m validated_self \u001B[38;5;241m=\u001B[39m \u001B[38;5;28;43mself\u001B[39;49m\u001B[38;5;241;43m.\u001B[39;49m\u001B[43m__pydantic_validator__\u001B[49m\u001B[38;5;241;43m.\u001B[39;49m\u001B[43mvalidate_python\u001B[49m\u001B[43m(\u001B[49m\u001B[43mdata\u001B[49m\u001B[43m,\u001B[49m\u001B[43m \u001B[49m\u001B[43mself_instance\u001B[49m\u001B[38;5;241;43m=\u001B[39;49m\u001B[38;5;28;43mself\u001B[39;49m\u001B[43m)\u001B[49m\n\u001B[1;32m    213\u001B[0m \u001B[38;5;28;01mif\u001B[39;00m \u001B[38;5;28mself\u001B[39m \u001B[38;5;129;01mis\u001B[39;00m \u001B[38;5;129;01mnot\u001B[39;00m validated_self:\n\u001B[1;32m    214\u001B[0m     warnings\u001B[38;5;241m.\u001B[39mwarn(\n\u001B[1;32m    215\u001B[0m         \u001B[38;5;124m'\u001B[39m\u001B[38;5;124mA custom validator is returning a value other than `self`.\u001B[39m\u001B[38;5;130;01m\\n\u001B[39;00m\u001B[38;5;124m'\u001B[39m\n\u001B[1;32m    216\u001B[0m         \u001B[38;5;124m\"\u001B[39m\u001B[38;5;124mReturning anything other than `self` from a top level model validator isn\u001B[39m\u001B[38;5;124m'\u001B[39m\u001B[38;5;124mt supported when validating via `__init__`.\u001B[39m\u001B[38;5;130;01m\\n\u001B[39;00m\u001B[38;5;124m\"\u001B[39m\n\u001B[1;32m    217\u001B[0m         \u001B[38;5;124m'\u001B[39m\u001B[38;5;124mSee the `model_validator` docs (https://docs.pydantic.dev/latest/concepts/validators/#model-validators) for more details.\u001B[39m\u001B[38;5;124m'\u001B[39m,\n\u001B[1;32m    218\u001B[0m         category\u001B[38;5;241m=\u001B[39m\u001B[38;5;28;01mNone\u001B[39;00m,\n\u001B[1;32m    219\u001B[0m     )\n",
      "\u001B[0;31mValidationError\u001B[0m: 4 validation errors for Source\nheadless\n  Field required [type=missing, input_value={'name': 'acma', 'propern...'None', 'backend': None}, input_type=dict]\n    For further information visit https://errors.pydantic.dev/2.9/v/missing\ndateadded\n  Field required [type=missing, input_value={'name': 'acma', 'propern...'None', 'backend': None}, input_type=dict]\n    For further information visit https://errors.pydantic.dev/2.9/v/missing\ncron\n  Field required [type=missing, input_value={'name': 'acma', 'propern...'None', 'backend': None}, input_type=dict]\n    For further information visit https://errors.pydantic.dev/2.9/v/missing\nactive\n  Field required [type=missing, input_value={'name': 'acma', 'propern...'None', 'backend': None}, input_type=dict]\n    For further information visit https://errors.pydantic.dev/2.9/v/missing"
     ]
    }
   ],
   "execution_count": 116
  },
  {
   "metadata": {
    "ExecuteTime": {
     "end_time": "2024-10-24T20:06:56.944683Z",
     "start_time": "2024-10-24T20:06:56.941467Z"
    }
   },
   "cell_type": "code",
   "source": [
    "yaml_output = generate_yaml_config(sample_config)\n",
    "print(\"Generated YAML:\")\n",
    "print(remove_none_values(yaml_output))\n"
   ],
   "id": "b7cacd70fffa1f02",
   "outputs": [
    {
     "name": "stdout",
     "output_type": "stream",
     "text": [
      "Generated YAML:\n",
      "sources:\n",
      "- name: acma\n",
      "  propername: African Coastal and Marine Atlas catalogue (ACMA)\n",
      "  catalogue: https://acma.africanmarineatlas.org\n",
      "  domain: https://africanmarineatlas.org\n",
      "  logo: https://acma.africanmarineatlas.org/static/mapstore/img/geonode-logo.svg\n",
      "  pid: https://catalogue.odis.org/view/3125\n",
      "  sourcetype: sitemap\n",
      "  url: https://raw.githubusercontent.com/iodepo/odis-arch/master/collection/tempHosting/data-acma/sitemap.xml\n",
      "  changefreq: None\n",
      "  backend: null\n",
      "  headless: false\n",
      "  dateadded: 2024, 4, 23\n",
      "  cron: 0 6 * * 0\n",
      "  active: 'true'\n",
      "\n"
     ]
    }
   ],
   "execution_count": 117
  },
  {
   "metadata": {},
   "cell_type": "code",
   "outputs": [],
   "execution_count": null,
   "source": "",
   "id": "f73457a7a78ab42c"
  }
 ],
 "metadata": {
  "kernelspec": {
   "display_name": "Python 3",
   "language": "python",
   "name": "python3"
  },
  "language_info": {
   "codemirror_mode": {
    "name": "ipython",
    "version": 2
   },
   "file_extension": ".py",
   "mimetype": "text/x-python",
   "name": "python",
   "nbconvert_exporter": "python",
   "pygments_lexer": "ipython2",
   "version": "2.7.6"
  }
 },
 "nbformat": 4,
 "nbformat_minor": 5
}
